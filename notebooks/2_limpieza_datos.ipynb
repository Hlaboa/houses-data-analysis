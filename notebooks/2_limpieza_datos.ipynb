{
 "cells": [
  {
   "cell_type": "markdown",
   "metadata": {},
   "source": [
    "Cargamos las librerías, el conjunto de datos y algunas variables que emplearemos durante el proceso:"
   ]
  },
  {
   "cell_type": "code",
   "execution_count": null,
   "metadata": {
    "pycharm": {
     "name": "#%%\n"
    }
   },
   "outputs": [],
   "source": [
    "import warnings\n",
    "import pandas as pd\n",
    "import numpy as np\n",
    "import matplotlib.pyplot as plt\n",
    "import seaborn as sns\n",
    "import scipy.stats as stats\n",
    "import pickle\n",
    "%matplotlib inline\n",
    "\n",
    "df = pd.read_csv('../processed_data/houses_integrated.csv')\n",
    "\n",
    "# Definimos las opciones de visualizacion\n",
    "pd.set_option('display.max_columns', 500)\n",
    "\n",
    "b = '\\033[94m'  # para texto azul\n",
    "o = '\\033[93m'  # para texto naranja\n",
    "n = '\\033[0m'   # para texto normal\n",
    "\n",
    "# Omitimos los warnings\n",
    "warnings.filterwarnings('ignore')"
   ]
  },
  {
   "cell_type": "markdown",
   "metadata": {},
   "source": [
    "En esta fase verificaremos la calidad de los datos por medio de una serie de procesos."
   ]
  },
  {
   "cell_type": "markdown",
   "metadata": {},
   "source": [
    "# Estandarización de variables"
   ]
  },
  {
   "cell_type": "markdown",
   "metadata": {},
   "source": [
    "## Estudio de variables a estandarizar"
   ]
  },
  {
   "cell_type": "markdown",
   "metadata": {},
   "source": [
    "En este apartado se procede a estandarizar las variables, corrigiendo su tipo, y normalizando sus valores, (entendiendo por normalizar, asignarles el valor más representativo).\n",
    "\n",
    "*NOTA: En este apartado no se tratarán ni los missing values ni los outliers. Su gestión se deja para más adelante.*"
   ]
  },
  {
   "cell_type": "markdown",
   "metadata": {},
   "source": [
    "Empezaremos analizando cómo han sido asignadas las variables:"
   ]
  },
  {
   "cell_type": "code",
   "execution_count": null,
   "metadata": {
    "pycharm": {
     "name": "#%%\n"
    }
   },
   "outputs": [],
   "source": [
    "df.dtypes"
   ]
  },
  {
   "cell_type": "markdown",
   "metadata": {
    "hideOutput": true
   },
   "source": [
    "De la lista superior, extraemos qué variables estudiaremos en la estandarización. En concreto, nos centraremos en 4 grupos: \n",
    "+ Por un lado estandarizaremos las variables numéricas que no hayan asignado como tal\n",
    "+ Por otro lado, estudiaremos las variables categóricas\n",
    "+ A continuación estudiaremos las variables categóricas binarias, es decir, booleanas\n",
    "+ Finalmente, nos centraremos en las variables de texto ligadas a la ubicación\n",
    "\n",
    "<br />\n",
    "\n",
    "**VARIABLES NUMÉRICAS NO ASIGNADAS COMO TAL**\n",
    "\n",
    "+ *<font color=#5F66A1>bath_num</font>*\n",
    "+ *<font color=#5F66A1>room_num</font>*\n",
    "+ *<font color=#5F66A1>garage</font>*\n",
    "\n",
    "\n",
    "**VARIABLES CATEGÓRICAS**\n",
    "\n",
    "+ *<font color=#5F66A1>condition</font>*\n",
    "+ *<font color=#5F66A1>energetic_certif</font>*\n",
    "+ *<font color=#5F66A1>floor</font>*\n",
    "+ *<font color=#5F66A1>heating</font>*\n",
    "+ *<font color=#5F66A1>house_type</font>*\n",
    "+ *<font color=#5F66A1>orientation</font>*\n",
    "\n",
    "\n",
    "**VARIABLES BOOLEANAS**\n",
    "\n",
    "+ *<font color=#5F66A1>air_conditioner</font>*\n",
    "+ *<font color=#5F66A1>balcony</font>*\n",
    "+ *<font color=#5F66A1>built_in_wardrobe</font>*\n",
    "+ *<font color=#5F66A1>chimney</font>*\n",
    "+ *<font color=#5F66A1>garden</font>*\n",
    "+ *<font color=#5F66A1>kitchen</font>*\n",
    "+ *<font color=#5F66A1>lift</font>*\n",
    "+ *<font color=#5F66A1>reduced_mobility</font>*\n",
    "+ *<font color=#5F66A1>storage_room</font>*\n",
    "+ *<font color=#5F66A1>swimming_pool</font>*\n",
    "+ *<font color=#5F66A1>terrace</font>*\n",
    "+ *<font color=#5F66A1>unfurnished</font>*\n",
    "\n",
    "\n",
    "**VARIABLES DE TEXTO LIGADAS A LA UBICACIÓN**\n",
    "\n",
    "+ *<font color=#5F66A1>loc_zone</font>*\n",
    "+ *<font color=#5F66A1>loc_district</font>*\n",
    "+ *<font color=#5F66A1>loc_city</font>*\n",
    "+ *<font color=#5F66A1>loc_neigh</font>*"
   ]
  },
  {
   "cell_type": "markdown",
   "metadata": {},
   "source": [
    "## Estandarización de variables numéricas"
   ]
  },
  {
   "cell_type": "markdown",
   "metadata": {},
   "source": [
    "### <font color=#5F66A1>bath_num</font>"
   ]
  },
  {
   "cell_type": "code",
   "execution_count": null,
   "metadata": {
    "pycharm": {
     "name": "#%%\n"
    }
   },
   "outputs": [],
   "source": [
    "print(df.bath_num.unique())"
   ]
  },
  {
   "cell_type": "markdown",
   "metadata": {},
   "source": [
    "Vemos como la ausencia de baños se identifica como 'sin baños', en forma de texto. Lo corregimos, y definimos la variable como numérica:"
   ]
  },
  {
   "cell_type": "code",
   "execution_count": null,
   "metadata": {
    "pycharm": {
     "name": "#%%\n"
    }
   },
   "outputs": [],
   "source": [
    "df['bath_num'] = (df['bath_num']\n",
    "                  .str.replace('sin baños','0')\n",
    "                  .astype('int64'))"
   ]
  },
  {
   "cell_type": "markdown",
   "metadata": {},
   "source": [
    "### <font color=#5F66A1>room_num</font>"
   ]
  },
  {
   "cell_type": "code",
   "execution_count": null,
   "metadata": {
    "pycharm": {
     "name": "#%%\n"
    }
   },
   "outputs": [],
   "source": [
    "print(df.room_num.unique())"
   ]
  },
  {
   "cell_type": "markdown",
   "metadata": {},
   "source": [
    "Aquí tambien la ausencia de habitaciones se identifica en forma de texto, como 'sin habitación'. Lo corregimos, y definimos la variable como numérica:"
   ]
  },
  {
   "cell_type": "code",
   "execution_count": null,
   "metadata": {
    "pycharm": {
     "name": "#%%\n"
    }
   },
   "outputs": [],
   "source": [
    "df['room_num'] = (df['room_num']\n",
    "                   .str.replace('sin habitación','0')\n",
    "                   .astype('int64'))"
   ]
  },
  {
   "cell_type": "markdown",
   "metadata": {},
   "source": [
    "### <font color=#5F66A1>garage</font>"
   ]
  },
  {
   "cell_type": "code",
   "execution_count": null,
   "metadata": {
    "pycharm": {
     "name": "#%%\n"
    }
   },
   "outputs": [],
   "source": [
    "print(df.garage.unique()[:10])"
   ]
  },
  {
   "cell_type": "markdown",
   "metadata": {},
   "source": [
    "Vemos que la variable refleja el precio de la plaza de garaje en forma de texto. Por lo tanto, extraemos el precio del texto y establecemos que la variable sea numérica:"
   ]
  },
  {
   "cell_type": "code",
   "execution_count": null,
   "metadata": {
    "pycharm": {
     "name": "#%%\n"
    }
   },
   "outputs": [],
   "source": [
    "df['garage'] = (df['garage']\n",
    "                .str.replace('plaza de garaje incluida en el precio','0')\n",
    "                .str.replace('.','')\n",
    "                .str.extract('(\\d{1,4})')\n",
    "                .astype('float64'))"
   ]
  },
  {
   "cell_type": "markdown",
   "metadata": {},
   "source": [
    "## Estandarización de variables categóricas"
   ]
  },
  {
   "cell_type": "markdown",
   "metadata": {},
   "source": [
    "### <font color=#5F66A1>condition</font>"
   ]
  },
  {
   "cell_type": "code",
   "execution_count": null,
   "metadata": {
    "pycharm": {
     "name": "#%%\n"
    }
   },
   "outputs": [],
   "source": [
    "print(df.condition.unique())"
   ]
  },
  {
   "cell_type": "markdown",
   "metadata": {},
   "source": [
    "Vemos que hay 3 posibles categorías. Redefinimos los nombres de las categorías para mejorar su interpretabilidad."
   ]
  },
  {
   "cell_type": "code",
   "execution_count": null,
   "metadata": {
    "pycharm": {
     "name": "#%%\n"
    }
   },
   "outputs": [],
   "source": [
    "df = df.replace({'condition':\n",
    "                 {\n",
    "                  'segunda mano/buen estado':'buen estado',\n",
    "                  'segunda mano/para reformar':'para reformar',\n",
    "                  'promoción de obra nueva':'obra nueva'\n",
    "                 }})\n",
    "\n",
    "df['condition'] = df['condition'].astype('category')"
   ]
  },
  {
   "cell_type": "markdown",
   "metadata": {},
   "source": [
    "### <font color=#5F66A1>energetic_certif</font>"
   ]
  },
  {
   "cell_type": "code",
   "execution_count": null,
   "metadata": {
    "pycharm": {
     "name": "#%%\n"
    }
   },
   "outputs": [],
   "source": [
    "print(df.energetic_certif.unique())"
   ]
  },
  {
   "cell_type": "markdown",
   "metadata": {},
   "source": [
    "No requiere ningun tratamiento salvo definirla como categórica:"
   ]
  },
  {
   "cell_type": "code",
   "execution_count": null,
   "metadata": {
    "pycharm": {
     "name": "#%%\n"
    }
   },
   "outputs": [],
   "source": [
    "df['energetic_certif'] = df['energetic_certif'].astype('category')"
   ]
  },
  {
   "cell_type": "markdown",
   "metadata": {},
   "source": [
    "### <font color=#5F66A1>floor</font>"
   ]
  },
  {
   "cell_type": "code",
   "execution_count": null,
   "metadata": {
    "pycharm": {
     "name": "#%%\n"
    }
   },
   "outputs": [],
   "source": [
    "print(df.floor.unique()[:15])"
   ]
  },
  {
   "cell_type": "markdown",
   "metadata": {},
   "source": [
    "Vemos que, a grandes rasgos, esta variable esconde lo que podrían ser 3 variables distintas:\n",
    "\n",
    "+ Número de planta en la que se encuentra el domicilio\n",
    "+ Indicador de si la planta está en el interior o en el exterior\n",
    "+ Número de plantas de las que consta el domicilio\n",
    "\n",
    "Por lo tanto, se procede a dividir la variable en 3. \n",
    "\n",
    "<br />\n",
    "\n",
    "Empezamos generando la variable booleana __<font color=#5F66A1>indoor</font>__, que tomará el valor True si el domicilio está en el interior, y False en el caso contrario:"
   ]
  },
  {
   "cell_type": "code",
   "execution_count": null,
   "metadata": {
    "pycharm": {
     "name": "#%%\n"
    }
   },
   "outputs": [],
   "source": [
    "df['indoor'] = (df['floor']\n",
    "                .str.contains('interior')\n",
    "                .astype('category'))   # no se define como bool porque aún contiene NaN   \n",
    "\n",
    "print(df['indoor'].unique())"
   ]
  },
  {
   "cell_type": "markdown",
   "metadata": {},
   "source": [
    "<br />\n",
    "\n",
    "A continuación crearemos la variable __<font color=#5F66A1>floor_count</font>__, que recogerá el número de plantas de las que consta la casa.\n",
    "\n",
    "Para ello, empezamos asignando como valor 1 a todas las casas que tengan información sobre la planta (las que estan como NaN las dejaremos por ahora tal cual, puesto que no tenemos información al respecto)"
   ]
  },
  {
   "cell_type": "code",
   "execution_count": null,
   "metadata": {
    "pycharm": {
     "name": "#%%\n"
    }
   },
   "outputs": [],
   "source": [
    "df['floor_count'] = np.nan\n",
    "df['floor_count'][df.floor.notna()] = 1"
   ]
  },
  {
   "cell_type": "markdown",
   "metadata": {},
   "source": [
    "A continuación, añadiremos la información sobre las casas con más de una planta. Para ello, seleccionaremos todas las celdas que contengan la palabra 'plantas' (en plural), y de allí extraeremos el número por medio de una expresión regular:"
   ]
  },
  {
   "cell_type": "code",
   "execution_count": null,
   "metadata": {
    "pycharm": {
     "name": "#%%\n"
    }
   },
   "outputs": [],
   "source": [
    "f_c = (df['floor'][df.floor.str.contains('plantas', na=False)]\n",
    "       .str.extract('(\\d+)')\n",
    "       .astype('float64')\n",
    "       .rename(columns={0:'floor_count'}))"
   ]
  },
  {
   "cell_type": "markdown",
   "metadata": {},
   "source": [
    "Una vez hemos extraído el número de plantas de las casas con más de una, actualizamos la variable:"
   ]
  },
  {
   "cell_type": "code",
   "execution_count": null,
   "metadata": {
    "pycharm": {
     "name": "#%%\n"
    }
   },
   "outputs": [],
   "source": [
    "df.update(f_c)\n",
    "print(df.floor_count.unique())"
   ]
  },
  {
   "cell_type": "markdown",
   "metadata": {},
   "source": [
    "<br />\n",
    "\n",
    "Por último modificaremos la variable __<font color=#5F66A1>floor</font>__, para que solo recoja el número de planta en el que se encuentra el piso:"
   ]
  },
  {
   "cell_type": "code",
   "execution_count": null,
   "metadata": {
    "pycharm": {
     "name": "#%%\n"
    }
   },
   "outputs": [],
   "source": [
    "df['floor'] = (df['floor']\n",
    "               .str.replace('(exterior|interior|1 planta)', '')\n",
    "               .str.replace('(\\d+) plantas', '')\n",
    "               .str.strip()\n",
    "               .str.replace('planta ', '')\n",
    "               .replace('', np.nan)\n",
    "               .astype('category'))\n",
    "\n",
    "print(df.floor.unique())"
   ]
  },
  {
   "cell_type": "markdown",
   "metadata": {},
   "source": [
    "Vemos que hay 30 categorías distintas, lo cual parece excesivo para diferenciar distitos números de planta. Por ello, exploramos si podemos colapsar ciertas categorías."
   ]
  },
  {
   "cell_type": "code",
   "execution_count": null,
   "metadata": {},
   "outputs": [],
   "source": [
    "df.groupby('floor').count().sort_values('house_id',ascending=False)['house_id']"
   ]
  },
  {
   "cell_type": "markdown",
   "metadata": {},
   "source": [
    "En vista de la dispersión de viviendas en función de la planta, se opta por colapsar todas aquellas por encima de la 7ª, haciendo lo propio con las plantas por debajo del 1º (entreplantas, bajos, sótanos, ...). Además, se aprovecha para definir la variable como numérica.\n",
    "\n",
    "Por otro lado, se observan casos como planta núm. 60ª y 30ª, las cuales parecen errores tipográficos, por lo que se corrigen como 6ª y 3ª respectivamente:"
   ]
  },
  {
   "cell_type": "code",
   "execution_count": null,
   "metadata": {},
   "outputs": [],
   "source": [
    "df['floor'] = (df['floor']\n",
    "               .dropna()\n",
    "               .str.replace('ª','')\n",
    "               .str.replace('(bajo|entreplanta|semi-sótano|sótano|-1|-2)','0')\n",
    "               .str.replace('60','6')\n",
    "               .str.replace('30','3')\n",
    "               .str.replace(r'(24|23|22|21|20|19|18|17|9)', '8')\n",
    "               .str.replace(r'(16|15|14|13|12|11|10)', '8')\n",
    "               .astype('float'))\n",
    "\n",
    "print(df.floor.unique())"
   ]
  },
  {
   "cell_type": "markdown",
   "metadata": {},
   "source": [
    "### <font color=#5F66A1>heating</font>"
   ]
  },
  {
   "cell_type": "code",
   "execution_count": null,
   "metadata": {
    "pycharm": {
     "name": "#%%\n"
    }
   },
   "outputs": [],
   "source": [
    "print(df.heating.unique())"
   ]
  },
  {
   "cell_type": "markdown",
   "metadata": {},
   "source": [
    "Sustraemos la palabra 'calefacción' para mayor interpretabilidad, y la definimos como categórica:"
   ]
  },
  {
   "cell_type": "code",
   "execution_count": null,
   "metadata": {
    "pycharm": {
     "name": "#%%\n"
    }
   },
   "outputs": [],
   "source": [
    "df['heating'] = (df['heating']\n",
    "                 .str.replace('calefacción ', '')\n",
    "                 .astype('category'))"
   ]
  },
  {
   "cell_type": "markdown",
   "metadata": {},
   "source": [
    "### <font color=#5F66A1>house_type</font>"
   ]
  },
  {
   "cell_type": "code",
   "execution_count": null,
   "metadata": {
    "pycharm": {
     "name": "#%%\n"
    }
   },
   "outputs": [],
   "source": [
    "df['house_type'] = (df['house_type']\n",
    "                    .str.strip()\n",
    "                    .astype('category'))\n",
    "\n",
    "df.groupby('house_type').count().sort_values('house_id',ascending=False)['house_id']"
   ]
  },
  {
   "cell_type": "markdown",
   "metadata": {},
   "source": [
    "Vemos nuevamente, que hay excesivas categorías. Colapsamos algunos:"
   ]
  },
  {
   "cell_type": "code",
   "execution_count": null,
   "metadata": {},
   "outputs": [],
   "source": [
    "df['house_type'] = (df['house_type']\n",
    "                    .str.replace(r'Alquiler .*','Alquiler')\n",
    "                    .str.replace(' independiente','')\n",
    "                    .str.replace('pareado','adosado')\n",
    "                    .str.replace(r'(Caserón|Casa de pueblo|Casa terrera)','Casa rural')\n",
    "                    .str.replace(r'(Palacio|Torre|Castillo|Cortijo)','Otros'))\n",
    "                    \n",
    "print(df.house_type.unique())"
   ]
  },
  {
   "cell_type": "markdown",
   "metadata": {},
   "source": [
    "### <font color=#5F66A1>orientation</font>"
   ]
  },
  {
   "cell_type": "code",
   "execution_count": null,
   "metadata": {
    "pycharm": {
     "name": "#%%\n"
    }
   },
   "outputs": [],
   "source": [
    "print(df.orientation.unique())"
   ]
  },
  {
   "cell_type": "markdown",
   "metadata": {},
   "source": [
    "No requiere estandarización salvo definirla como categórica:"
   ]
  },
  {
   "cell_type": "code",
   "execution_count": null,
   "metadata": {
    "pycharm": {
     "name": "#%%\n"
    }
   },
   "outputs": [],
   "source": [
    "df['orientation'] = (df['orientation'].astype('category'))"
   ]
  },
  {
   "cell_type": "markdown",
   "metadata": {},
   "source": [
    "## Estandarización de variables booleanas"
   ]
  },
  {
   "cell_type": "markdown",
   "metadata": {},
   "source": [
    "Analizamos qué valores tienen las variables booleanas:"
   ]
  },
  {
   "cell_type": "code",
   "execution_count": null,
   "metadata": {
    "pycharm": {
     "name": "#%%\n"
    }
   },
   "outputs": [],
   "source": [
    "bool_vars = ['air_conditioner', 'balcony', 'built_in_wardrobe', 'chimney', 'garden'\n",
    "        , 'kitchen', 'lift', 'reduced_mobility', 'storage_room', 'swimming_pool'\n",
    "        , 'terrace', 'unfurnished']\n",
    "\n",
    "for var in bool_vars:\n",
    "    df_var=df[var]\n",
    "    print(f'Valores para {b}{var}{n}: {df_var.unique()}')"
   ]
  },
  {
   "cell_type": "markdown",
   "metadata": {},
   "source": [
    "Dado que las variables __<font color=#5F66A1>kitchen</font>__ y __<font color=#5F66A1>unfurnished</font>__ son variables ligadas exclusivamente a casas de alquiler, las eliminamos:"
   ]
  },
  {
   "cell_type": "code",
   "execution_count": null,
   "metadata": {
    "pycharm": {
     "name": "#%%\n"
    }
   },
   "outputs": [],
   "source": [
    "df = df.drop(columns=['kitchen', 'unfurnished'])\n",
    "bool_vars.remove('kitchen')\n",
    "bool_vars.remove('unfurnished')"
   ]
  },
  {
   "cell_type": "markdown",
   "metadata": {},
   "source": [
    "Por otra parte, vemos que la variable __<font color=#5F66A1>lift</font>__, a pesar de ser booleana, contiene valores NaN, por lo que la definimos como categórica por ahora:"
   ]
  },
  {
   "cell_type": "code",
   "execution_count": null,
   "metadata": {
    "pycharm": {
     "name": "#%%\n"
    }
   },
   "outputs": [],
   "source": [
    "df['lift'] = df['lift'].astype('category')\n",
    "bool_vars.remove('lift')"
   ]
  },
  {
   "cell_type": "markdown",
   "metadata": {},
   "source": [
    "Finalmente, el resto de variables categóricas las definimos como booleanas:"
   ]
  },
  {
   "cell_type": "code",
   "execution_count": null,
   "metadata": {
    "pycharm": {
     "name": "#%%\n"
    }
   },
   "outputs": [],
   "source": [
    "print(f'Nuevos valores para {b}lift{n}: {df[\"lift\"].unique()}\\n')\n",
    "for var in bool_vars:\n",
    "    df[var]=df[var].astype('bool')\n",
    "    df_var=df[var]\n",
    "    print(f'Nuevos valores para {b}{var}{n}: {df_var.unique()}')"
   ]
  },
  {
   "cell_type": "markdown",
   "metadata": {},
   "source": [
    "## Estandarización de variables ligadas a la ubicación"
   ]
  },
  {
   "cell_type": "markdown",
   "metadata": {},
   "source": [
    "La localización de cada vivienda viene especificada por medio de 4 variables distintas, las cuales están organizadas de forma jerárquica del siguiente modo:\n",
    "\n",
    "+ __<font color=#5F66A1>loc_zone</font>__ &nbsp; > &nbsp;__<font color=#5F66A1>loc_city</font>__ &nbsp;> &nbsp;__<font color=#5F66A1>loc_district</font>__ &nbsp;> &nbsp;__<font color=#5F66A1>loc_neigh</font>__"
   ]
  },
  {
   "cell_type": "markdown",
   "metadata": {},
   "source": [
    "### <font color=#5F66A1>loc_zone</font>"
   ]
  },
  {
   "cell_type": "code",
   "execution_count": null,
   "metadata": {
    "pycharm": {
     "name": "#%%\n"
    }
   },
   "outputs": [],
   "source": [
    "print(df.loc_zone.unique())"
   ]
  },
  {
   "cell_type": "markdown",
   "metadata": {},
   "source": [
    "Definimos las provincias con las iniciales y convertimos la variable en categórica:"
   ]
  },
  {
   "cell_type": "code",
   "execution_count": null,
   "metadata": {
    "pycharm": {
     "name": "#%%\n"
    }
   },
   "outputs": [],
   "source": [
    "df['loc_zone'] = (df['loc_zone']\n",
    "                  .str.replace(', Vizcaya',' (BIZ)')\n",
    "                  .str.replace(', Guipúzcoa',' (GIP)')\n",
    "                  .astype('category'))\n",
    "\n",
    "print(f\"Número de zonas: {len(df.loc_zone.unique())}\")"
   ]
  },
  {
   "cell_type": "markdown",
   "metadata": {},
   "source": [
    "### <font color=#5F66A1>loc_city</font>"
   ]
  },
  {
   "cell_type": "code",
   "execution_count": null,
   "metadata": {
    "pycharm": {
     "name": "#%%\n"
    }
   },
   "outputs": [],
   "source": [
    "print(df.loc_city.unique()[:15])"
   ]
  },
  {
   "cell_type": "markdown",
   "metadata": {},
   "source": [
    "Los valores están ya lo suficientemente estandarizados, por lo que los dejamos como están, y establecemos la variable como categórica:"
   ]
  },
  {
   "cell_type": "code",
   "execution_count": null,
   "metadata": {
    "pycharm": {
     "name": "#%%\n"
    }
   },
   "outputs": [],
   "source": [
    "df['loc_city'] = df['loc_city'].astype('category')\n",
    "print(f\"Número de pueblos/ciudades: {len(df.loc_city.unique())}\")"
   ]
  },
  {
   "cell_type": "markdown",
   "metadata": {},
   "source": [
    "### <font color=#5F66A1>loc_district</font>"
   ]
  },
  {
   "cell_type": "code",
   "execution_count": null,
   "metadata": {
    "pycharm": {
     "name": "#%%\n"
    }
   },
   "outputs": [],
   "source": [
    "print(f\"Número de distritos: {len(df.loc_district.unique())}\")"
   ]
  },
  {
   "cell_type": "markdown",
   "metadata": {},
   "source": [
    "Vemos que hay 5760 distritos distintos. No obstante, en muchos casos, en vez del distrito como tal, el campo guarda información relativa a la calle, urbanización, etc., como puede verse a continuación:"
   ]
  },
  {
   "cell_type": "code",
   "execution_count": null,
   "metadata": {
    "pycharm": {
     "name": "#%%\n"
    }
   },
   "outputs": [],
   "source": [
    "print(df.sample(frac=1, random_state=89)['loc_district'][df.loc_district.notna()].head(5))"
   ]
  },
  {
   "cell_type": "markdown",
   "metadata": {},
   "source": [
    "Dado que cada distrito está precedido por la palabra __Distrito__, eliminamos todos los valores que no coincidan con este patrón:"
   ]
  },
  {
   "cell_type": "code",
   "execution_count": null,
   "metadata": {
    "pycharm": {
     "name": "#%%\n"
    }
   },
   "outputs": [],
   "source": [
    "df['loc_district'] = (df['loc_district']\n",
    "                      .str.extract(r'(Distrito .*)')[0]\n",
    "                      .str.replace('Distrito ',''))"
   ]
  },
  {
   "cell_type": "markdown",
   "metadata": {},
   "source": [
    "Por otro lado, para asegurarnos de que no haya distritos distintos compartiendo un mismo nombre, agregaremos las iniciales de cada ciudad:"
   ]
  },
  {
   "cell_type": "code",
   "execution_count": null,
   "metadata": {
    "pycharm": {
     "name": "#%%\n"
    }
   },
   "outputs": [],
   "source": [
    "df['loc_district'] = (np.where(df.loc_district.notna()\n",
    "                      , df.loc_district+' ('+df.loc_city.str[:4]+')', np.nan))\n",
    "\n",
    "print(df.sample(frac=1, random_state=89)['loc_district'][df.loc_district.notna()].head(5))"
   ]
  },
  {
   "cell_type": "markdown",
   "metadata": {},
   "source": [
    "Finalmente, comprobamos el número de distritos que hay tras el proceso de limpieza:"
   ]
  },
  {
   "cell_type": "code",
   "execution_count": null,
   "metadata": {
    "pycharm": {
     "name": "#%%\n"
    }
   },
   "outputs": [],
   "source": [
    "print(f\"Número de distritos tras limpieza: {len(df.loc_district.unique())}\")"
   ]
  },
  {
   "cell_type": "markdown",
   "metadata": {},
   "source": [
    "### <font color=#5F66A1>loc_neigh</font>"
   ]
  },
  {
   "cell_type": "code",
   "execution_count": null,
   "metadata": {
    "pycharm": {
     "name": "#%%\n"
    }
   },
   "outputs": [],
   "source": [
    "print(f\"Número de barrios: {len(df.loc_neigh.unique())}\")"
   ]
  },
  {
   "cell_type": "markdown",
   "metadata": {},
   "source": [
    "Vemos que hay 3668 barrios distintos. Sin embargo, sucede lo mismo que sucedía con el distrito, que en vez del barrio, en muchos casos el campo guarda información relativa a la calle, urbanización, etc.:"
   ]
  },
  {
   "cell_type": "code",
   "execution_count": null,
   "metadata": {
    "pycharm": {
     "name": "#%%\n"
    }
   },
   "outputs": [],
   "source": [
    "print(df.sample(frac=1, random_state=89)['loc_neigh'][df.loc_neigh.notna()].head(5))"
   ]
  },
  {
   "cell_type": "markdown",
   "metadata": {},
   "source": [
    "En este caso, el barrio viene precedido siempre por la palabra __Barrio__. Así, repetimos el mismo proceso que en el anterior caso. No obstante, en esta ocasión limitamos la extracción de barrios solo a ciertos pueblos o ciudades:"
   ]
  },
  {
   "cell_type": "code",
   "execution_count": null,
   "metadata": {
    "run_control": {
     "marked": false
    }
   },
   "outputs": [],
   "source": [
    "city_filt = ['Bilbao', 'Leioa', 'Getxo', 'Donostia/San Sebastián']\n",
    "\n",
    "df['loc_neigh'] = (df['loc_neigh']\n",
    "                      .str.extract(r'(Barrio .*)')[0]\n",
    "                      .str.replace('Barrio ',''))\n",
    "df['loc_neigh'] = (np.where(df.loc_neigh.notna()\n",
    "                      , df.loc_neigh+' ('+df.loc_city.str[:4]+')', np.nan))\n",
    "df['loc_neigh'] = (np.where(np.isin(df.loc_city, city_filt)\n",
    "                      , df.loc_neigh, np.nan))\n",
    "\n",
    "print(df.sample(frac=1, random_state=89)['loc_neigh'][df.loc_neigh.notna()].head(5))"
   ]
  },
  {
   "cell_type": "markdown",
   "metadata": {},
   "source": [
    "Finalmente, comprobamos el número de barrios que hay tras el proceso de limpieza:"
   ]
  },
  {
   "cell_type": "code",
   "execution_count": null,
   "metadata": {},
   "outputs": [],
   "source": [
    "print(f\"Número de barrios tras limpieza: {len(df.loc_neigh.unique())}\")"
   ]
  },
  {
   "cell_type": "markdown",
   "metadata": {},
   "source": [
    "### <font color=#5F66A1>location</font>"
   ]
  },
  {
   "cell_type": "markdown",
   "metadata": {},
   "source": [
    "Por último, dado que no todas las viviendas tienen un valor para  __<font color=#5F66A1>loc_district</font>__ o __<font color=#5F66A1>loc_neigh</font>__, vamos a generar una variable que incluya la información más específica posible por cada vivienda.\n",
    "\n",
    "Así, en aquellos casos que se especifique el barrio, se almacenará el barrio, sino, se almacenará el distrito, y en caso de que ninguna de las dos se indique, el pueblo: "
   ]
  },
  {
   "cell_type": "code",
   "execution_count": null,
   "metadata": {
    "scrolled": false
   },
   "outputs": [],
   "source": [
    "df['location'] = df['loc_neigh']\n",
    "df['location'] = (np.where(df.location.isna(), df.loc_district, df.location))\n",
    "df['location'] = (np.where(df.location.isna(), df.loc_city, df.location))\n",
    "\n",
    "print(df.sample(frac=1, random_state=89)['location'].head(5))\n",
    "print(f\"\\nNúmero de ubicaciones distintas: {len(df.location.unique())}\")"
   ]
  },
  {
   "cell_type": "markdown",
   "metadata": {},
   "source": [
    "Por último, dado que ya nos las necesitamos, eliminamos las variables __<font color=#5F66A1>loc_district</font>__ y __<font color=#5F66A1>loc_neigh</font>__:"
   ]
  },
  {
   "cell_type": "code",
   "execution_count": null,
   "metadata": {},
   "outputs": [],
   "source": [
    "df = df.drop(columns=['loc_district', 'loc_neigh'])"
   ]
  },
  {
   "cell_type": "markdown",
   "metadata": {},
   "source": [
    "# Verificación de los datos"
   ]
  },
  {
   "cell_type": "markdown",
   "metadata": {},
   "source": [
    "## Descarte de las casas de alquiler"
   ]
  },
  {
   "cell_type": "markdown",
   "metadata": {},
   "source": [
    "En el conjunto de datos que disponemos, se mezclan anuncios con casa en venta y alquiler. Este análisis se centra en la venta de casas, por lo tanto, los anuncios ligados al alquiler han de descartarse.\n",
    "\n",
    "Para ello, la forma más sencilla es utilizar la variable __<font color=#5F66A1>house_type</font>__:"
   ]
  },
  {
   "cell_type": "code",
   "execution_count": null,
   "metadata": {
    "pycharm": {
     "name": "#%%\n"
    }
   },
   "outputs": [],
   "source": [
    "h_num = len(df[df['house_type'] == 'Alquiler'])\n",
    "df = df[df['house_type'] != 'Alquiler']\n",
    "print(f'Se han descartado {h_num} casas de alquiler')"
   ]
  },
  {
   "cell_type": "markdown",
   "metadata": {},
   "source": [
    "## Verificación de casas duplicadas"
   ]
  },
  {
   "cell_type": "markdown",
   "metadata": {},
   "source": [
    "Lo primero que haremos será verificar que no haya anuncios duplicados. Para ello, dado que disponemos de un identificador de anuncio único, comprobaremos que no haya más de una vivienda con este id:"
   ]
  },
  {
   "cell_type": "code",
   "execution_count": null,
   "metadata": {
    "pycharm": {
     "name": "#%%\n"
    }
   },
   "outputs": [],
   "source": [
    "h_num = df[df.house_id.duplicated()].shape[0]\n",
    "df.drop_duplicates(subset='house_id', inplace=True)\n",
    "print(f'Se han descartado {h_num} casas duplicadas del dataset')"
   ]
  },
  {
   "cell_type": "markdown",
   "metadata": {},
   "source": [
    "### Filtro para detectar casas duplicadas"
   ]
  },
  {
   "cell_type": "markdown",
   "metadata": {},
   "source": [
    "Comprobando el id de los anuncios hemos verificado que no haya 2 anuncios iguales en el conjunto de datos. Sin embargo, muchas veces una misma vivienda se ofrece en varias inmobiliarias a la vez, y cada una de ellas, genera un anuncio distinto, por lo que con solo comprobar el id del anuncio no basta.\n",
    "\n",
    "Detectar este tipo de viviendas duplicadas es esencial para no evitar problemas de sesgo. No obstante, no disponemos de un campo que nos facilite la tarea, por lo que tendremos que generar un filtro manual basado en coincidencias que identifique estas viviendas mediante estrategias heurísticas.\n",
    "\n",
    "Así, dado que la gran mayoría de anuncios con viviendas repetidas corresponden a viviendas con precios elevados, definiremos una función que, para cada vivienda a partir de los 400.000€, vea si hay otra con exactamente el mismo precio en la misma zona y que, además, tenga al menos una serie características en común.\n",
    "\n",
    "Para establecer ese umbral mínimo, desarrollaremos un sistema de pesos mediante el cual asignaremos bonificaciones  y penalizaciones en función de cuán de similes son los valores de los atributos. Estos pesos serán distintos para cada atributo, ya que no todos las características son igual de relevantes a la hora de evaluar si son la misma casa.\n",
    "\n",
    "La razón para emplear este sistema de pesos radica en que, en muchas ocasiones, una misma casa esta catalogada de formas muy dispares. Así, una misma vivienda, en un anuncio puede tener 5 baños y 300 metros cuadrados, y en el otro 6 y 320, por ejemplo. O en un anuncio una vivienda se anuncia con terraza, mientras que en el otro esta característica no se menciona.\n",
    "\n",
    "Por ello, la mejor forma para lidiar con este problema es el uso de bonificaciones y penalizaciones, ya que nos dotan de cierta flexibilidad para que, aun habiendo discrepancias, si en conjunto existe un cierto grado de similitud, se acabe considerando que es la misma vivienda.\n",
    "\n",
    "No obstante, sobra decir que este tipo de filtro no es 100% certero, y que habrá viviendas que no sean iguales y que, sin embargo, las tratemos como tal. No obstante, los pesos se han ajustado metículosamente para que la tasa de error sea la mínima posible, y a falta de una solución mejor, se asume esa falta de precisión."
   ]
  },
  {
   "cell_type": "code",
   "execution_count": null,
   "metadata": {
    "scrolled": true
   },
   "outputs": [],
   "source": [
    "import numbers\n",
    "\n",
    "''' checks if 2 houses have minimal conditions to assume that could be equal'''\n",
    "def check_equality_conditions(h1, h2):\n",
    "    \n",
    "    cond_price = h1.price == h2.price\n",
    "    cond_location = h1.location == h2.location\n",
    "        \n",
    "    return cond_price & cond_location\n",
    "\n",
    "\n",
    "''' calculates similarity score between 2 houses based on different weights'''\n",
    "def get_similarity(h1, h2):\n",
    "    \n",
    "    # improve house type condition match\n",
    "    for h in [h1,h2]:\n",
    "        h.house_type = h.house_type.replace('Chalet adosado','Casa o chalet')\n",
    "        h.house_type = h.house_type.replace('Casa rural','Casa o chalet')\n",
    "        h.house_type = h.house_type.replace('Dúplex','Piso')\n",
    "        h.house_type = h.house_type.replace('Ático','Piso')\n",
    "    \n",
    "    weights = [{\"atr\":'m2_real', \"weight\":2, \"penalty\":-0.5, \"w_margin\":0.15, \"p_margin\":0.15},\n",
    "               {\"atr\":'house_type', \"weight\":1.5, \"penalty\":-3, \"w_margin\":0, \"p_margin\":0},\n",
    "               {\"atr\":'bath_num', \"weight\":1.5, \"penalty\":-0.5,\"w_margin\":0, \"p_margin\":0.15},\n",
    "               {\"atr\":'room_num', \"weight\":1.5, \"penalty\":-0.5, \"w_margin\":0, \"p_margin\":0.2},\n",
    "               {\"atr\":'floor', \"weight\":1.5, \"penalty\":-1, \"w_margin\":0, \"p_margin\":0},\n",
    "               {\"atr\":'construct_date', \"weight\":3, \"penalty\":0, \"w_margin\":0, \"p_margin\":0},\n",
    "               {\"atr\":'ground_size', \"weight\":2, \"penalty\":0, \"w_margin\":0.30, \"p_margin\":30},\n",
    "               {\"atr\":'m2_useful', \"weight\":2, \"penalty\":0, \"w_margin\":0.15, \"p_margin\":0.15},\n",
    "               {\"atr\":'garage', \"weight\":0, \"penalty\":-0.5, \"w_margin\":0, \"p_margin\":0},\n",
    "               {\"atr\":'lift', \"weight\":0, \"penalty\":-2, \"w_margin\":0, \"p_margin\":0},\n",
    "               {\"atr\":'condition', \"weight\":0, \"penalty\":-1, \"w_margin\":0, \"p_margin\":0},\n",
    "               {\"atr\":'swimming_pool', \"weight\":0, \"penalty\":-2, \"w_margin\":0, \"p_margin\":0}]\n",
    "               \n",
    "    score = 0\n",
    "    for w in weights:\n",
    "        \n",
    "        if w['w_margin'] == 0 and w['p_margin'] == 0:\n",
    "            if h1[w['atr']]==h2[w['atr']]:\n",
    "                score += w['weight']\n",
    "            else:\n",
    "                score += w['penalty']\n",
    "        \n",
    "        else:\n",
    "            if (h1[w['atr']] <= (h2[w['atr']] + h2[w['atr']]* w['w_margin'])\n",
    "                and h1[w['atr']] >= (h2[w['atr']] - h2[w['atr']]* w['w_margin'])):\n",
    "                score += w['weight']\n",
    "            elif (h1[w['atr']] <= (h2[w['atr']] + h2[w['atr']]* w['p_margin'])\n",
    "                and h1[w['atr']] >= (h2[w['atr']] - h2[w['atr']]* w['p_margin'])):\n",
    "                score = score\n",
    "            else:\n",
    "                score += w['penalty']\n",
    "    \n",
    "    return score\n",
    "\n",
    "\n",
    "''' calculates how much information is contained in the ad'''\n",
    "def get_info_score(h):\n",
    "    \n",
    "    info_score = (- h.isna().sum()  # inverse count of NaN's\n",
    "                  + h.garden + h.air_conditioner + h.balcony + h.chimney\n",
    "                  + h.built_in_wardrobe + h.storage_room + h.swimming_pool)\n",
    "    \n",
    "    return info_score\n",
    "\n",
    "\n",
    "\n",
    "''' MAIN FUNCTION: returns less informative duplicated houses indexes'''\n",
    "def get_duplicated(price_bound=400000):\n",
    "    h_to_del=[]\n",
    "    \n",
    "    for i,row1 in df[df['price']>price_bound].iterrows():\n",
    "        for j,row2 in df[df['price']>price_bound].iterrows():\n",
    "\n",
    "            if i == j:\n",
    "                continue \n",
    "\n",
    "            # check if houses are already marked for delete\n",
    "            if ((i in h_to_del) or (j in h_to_del)):\n",
    "                continue \n",
    "\n",
    "            # check if houses fit minimal equality conditions\n",
    "            equal_cond = check_equality_conditions(row1,row2)\n",
    "            if not equal_cond:\n",
    "                continue \n",
    "    \n",
    "            # check if 2 houses are the same\n",
    "            similarity_score = get_similarity(row1,row2)\n",
    "            if similarity_score >= 0:\n",
    "                \n",
    "                # check which ad has more information ; KEEP THAT\n",
    "                info_score1 = get_info_score(row1)\n",
    "                info_score2 = get_info_score(row2)\n",
    "\n",
    "                # delete less informative duplicate house\n",
    "                if info_score1>=info_score2:\n",
    "                    h_to_del.append(j)\n",
    "                else:\n",
    "                    h_to_del.append(i)\n",
    "                    \n",
    "    return h_to_del"
   ]
  },
  {
   "cell_type": "markdown",
   "metadata": {},
   "source": [
    "Una vez definida la función que filtra las casas duplicadas, la ejecutamos:"
   ]
  },
  {
   "cell_type": "code",
   "execution_count": null,
   "metadata": {
    "run_control": {
     "marked": false
    },
    "scrolled": false
   },
   "outputs": [],
   "source": [
    "#h_to_delete = get_duplicated(400000);\n",
    "\n",
    "# save the list in a pickle\n",
    "#pickle.dump(h_to_delete, open('./processed_data/h_to_delete.p', \"wb\" ));\n",
    "\n",
    "h_to_delete = pickle.load(open('./processed_data/h_to_delete.p',\"rb\"))\n",
    "print(f\"Se han encontrado {len(h_to_delete)} casas duplicadas\");"
   ]
  },
  {
   "cell_type": "markdown",
   "metadata": {},
   "source": [
    "Finalmente, descartamos del dataset las casas detectadas por nuestro filtro:"
   ]
  },
  {
   "cell_type": "code",
   "execution_count": null,
   "metadata": {},
   "outputs": [],
   "source": [
    "df = df.drop(h_to_delete)"
   ]
  },
  {
   "cell_type": "markdown",
   "metadata": {},
   "source": [
    "# Gestión de ruido y valores extremos"
   ]
  },
  {
   "cell_type": "markdown",
   "metadata": {},
   "source": [
    "En este apartado cotejaremos que los valores estén dentro de un rango plausible. De este modo, por cada variable numérica, gestionaremos tanto los valores extremos como las incongruencias. Además, se cotejará también la veracidad de ciertas variables categóricas. "
   ]
  },
  {
   "cell_type": "markdown",
   "metadata": {},
   "source": [
    "## Ruido y outliers en variables numéricas"
   ]
  },
  {
   "cell_type": "markdown",
   "metadata": {},
   "source": [
    "Empezamos definiendo varias funciones que emplearemos luego:"
   ]
  },
  {
   "cell_type": "code",
   "execution_count": null,
   "metadata": {},
   "outputs": [],
   "source": [
    "def custome_univariate_boxplot(param, data):\n",
    "    \n",
    "    f, axes = plt.subplots(figsize=(12, 3))\n",
    "    sns.despine(left=True)\n",
    "\n",
    "    (data\n",
    "     .loc[:,param]\n",
    "     .pipe(sns.boxplot, color='#e9b49e'))\n",
    "\n",
    "    plt.setp(axes, yticks=[])\n",
    "    plt.tight_layout()"
   ]
  },
  {
   "cell_type": "code",
   "execution_count": null,
   "metadata": {},
   "outputs": [],
   "source": [
    "def custome_countplot(param, data, perc=False):\n",
    "    \n",
    "    f, axes = plt.subplots(figsize=(12, 3))\n",
    "    sns.despine(left=True)\n",
    "    \n",
    "    (data\n",
    "     .groupby(param)\n",
    "     .count()\n",
    "     .reset_index()\n",
    "     .pipe((sns.scatterplot, 'data'), x=param, y=1, size='price', sizes=(40, 3000)\n",
    "       ,color='#f8e9e2', edgecolor='#e9b49e', linewidth=1.5, legend=False))\n",
    "\n",
    "    axes.set_xticks(range(0,1+max(data[param].unique())))\n",
    "    data[param]=data[param].astype('int64')\n",
    "    \n",
    "    for num in data[param].unique():\n",
    "        c = len(data[data[param]==num]);\n",
    "        \n",
    "        if perc==True:\n",
    "            p = round(100*c/len(data),1)\n",
    "            \n",
    "            if p>25:\n",
    "                plt.text(num, 1.1, f'   {p} %', color='#e18e7f', weight='bold',  horizontalalignment='center')\n",
    "            elif p>5:\n",
    "                plt.text(num, 1.1, f'   {p} %', color='#a95f81', weight='semibold',  horizontalalignment='center')\n",
    "            else:\n",
    "                plt.text(num, 1.1, f'   {p} %', color='#636261', horizontalalignment='center')\n",
    "        else:\n",
    "            if (c/len(data)) < 0.01:\n",
    "                plt.text(num, 1.1, c, color='#636261', weight='semibold',  horizontalalignment='center')\n",
    "            \n",
    "    plt.setp(axes, yticks=[])\n",
    "    plt.tight_layout()"
   ]
  },
  {
   "cell_type": "code",
   "execution_count": null,
   "metadata": {},
   "outputs": [],
   "source": [
    "def custome_countplot2(param, data):\n",
    "\n",
    "    f, axes = plt.subplots(figsize=(12, 3))\n",
    "    sns.despine(left=True)\n",
    "\n",
    "    (df[param]\n",
    "     .pipe(sns.countplot, color='#f8e9e2', edgecolor='#e9b49e', linewidth=1.5))\n",
    "\n",
    "    plt.setp(axes, yticks=[])\n",
    "    plt.tight_layout()"
   ]
  },
  {
   "cell_type": "markdown",
   "metadata": {},
   "source": [
    "### <font color=#5F66A1>m2_real</font> & <font color=#5F66A1>m2_useful</font>"
   ]
  },
  {
   "cell_type": "markdown",
   "metadata": {},
   "source": [
    "Empezemos mostrando en un boxplot la dispersión de los metros cuadadros reales de las viviendas:"
   ]
  },
  {
   "cell_type": "code",
   "execution_count": null,
   "metadata": {},
   "outputs": [],
   "source": [
    "custome_univariate_boxplot('m2_real', df)"
   ]
  },
  {
   "cell_type": "markdown",
   "metadata": {},
   "source": [
    "Observamos que hay 2 casos muy extremos. Los exploramos a fin de determinar cómo tratarlos:"
   ]
  },
  {
   "cell_type": "code",
   "execution_count": null,
   "metadata": {},
   "outputs": [],
   "source": [
    "df.query('m2_real > 50000').style.set_properties(subset=['ad_description'], **{'min-width': '1000px'})"
   ]
  },
  {
   "cell_type": "markdown",
   "metadata": {},
   "source": [
    "En la descripción del anuncio se ve que en un caso han sumado 3 ceros de más a la superficie real, y en el otro, han asignado el valor de la párcela. Por lo tanto, dado que en la descripción se detalla el tamaño real, se corrigen manualmente, y se vuelve a representar el boxplot:"
   ]
  },
  {
   "cell_type": "code",
   "execution_count": null,
   "metadata": {},
   "outputs": [],
   "source": [
    "df['m2_real'][df.house_id == 82667064] = 415\n",
    "df['m2_real'][df.house_id == 39173329] = 300\n",
    "\n",
    "custome_univariate_boxplot('m2_real', df)"
   ]
  },
  {
   "cell_type": "markdown",
   "metadata": {},
   "source": [
    "Pese a haber resuelto los casos más extremos, vemos que aún siguen existiendo valores muy alejados del resto. De modo que volvemos a analizarlos a fin de determinar qué tratamiento darles:"
   ]
  },
  {
   "cell_type": "code",
   "execution_count": null,
   "metadata": {},
   "outputs": [],
   "source": [
    "(df\n",
    " .query('m2_real > 1500')\n",
    " .sort_values('m2_real',ascending=False)\n",
    " .head(5)\n",
    " .style.set_properties(subset=['ad_description'], **{'min-width': '1000px'}))"
   ]
  },
  {
   "cell_type": "code",
   "execution_count": null,
   "metadata": {},
   "outputs": [],
   "source": [
    "out_m2 = len(df[df['m2_real'] >1500])\n",
    "print(f'Hay {out_m2} viviendas con precio superior a 1.500 metros cuadrados')"
   ]
  },
  {
   "cell_type": "markdown",
   "metadata": {},
   "source": [
    "Observamos que entre las viviendas con más de 1.500 $m^2$ hay un convento, un camping, una nave industrial... este tipo de edificios quedan fuera de nuestro objeto de estudio y podrían generar distorsión, por lo que se eliminan. Por otro lado, encontramos nuevamente viviendas que tienen mal definida su superficie; éstas las corregimos de forma manual utilizando la información contenida en otros campos:"
   ]
  },
  {
   "cell_type": "code",
   "execution_count": null,
   "metadata": {},
   "outputs": [],
   "source": [
    "df['m2_real'][df.house_id == 82012713] = 90\n",
    "df['m2_real'][df.house_id == 39733981] = 46\n",
    "\n",
    "h_num = len(df[df.m2_real > 1500])\n",
    "df = df[df.m2_real < 1500]\n",
    "print(f'Se han descartado {h_num} viviendas')"
   ]
  },
  {
   "cell_type": "markdown",
   "metadata": {},
   "source": [
    "Por otro lado, en el otro extremo, exploramos si hay viviendas con valores de superficie nulos o negativos: "
   ]
  },
  {
   "cell_type": "code",
   "execution_count": null,
   "metadata": {},
   "outputs": [],
   "source": [
    "cnt = len(df.query('m2_real < 1'))\n",
    "print(f\"Hay {cnt} viviendas con superficie nula o negativa\")"
   ]
  },
  {
   "cell_type": "markdown",
   "metadata": {},
   "source": [
    "Una vez hemos gestionado los valores extremos de la variable __<font color=#5F66A1>m2_real</font>__, hacemos lo propio con __<font color=#5F66A1>m2_useful</font>__:"
   ]
  },
  {
   "cell_type": "code",
   "execution_count": null,
   "metadata": {},
   "outputs": [],
   "source": [
    "custome_univariate_boxplot('m2_useful', df)"
   ]
  },
  {
   "cell_type": "markdown",
   "metadata": {},
   "source": [
    "Vemos que el valor más extremo se encuentra en los 1.200 $m^2$, lo cual entra dentro del rango plausible tras haber eliminado las casas con más de 1.500 $m^2$ reales, por lo que en este caso, no se realiza ninguna acción más, y se procede a verificar que no haya valores nulos o negativos:"
   ]
  },
  {
   "cell_type": "code",
   "execution_count": null,
   "metadata": {},
   "outputs": [],
   "source": [
    "cnt = len(df.query('m2_useful < 1'))\n",
    "print(f\"Hay {cnt} viviendas con superficie nulas o negativa\")"
   ]
  },
  {
   "cell_type": "markdown",
   "metadata": {},
   "source": [
    "Por último, los metros útiles de una vivienda han de ser inferiores a sus metros reales. Verificamos si hay algún caso que no cumpla este criterio:"
   ]
  },
  {
   "cell_type": "code",
   "execution_count": null,
   "metadata": {},
   "outputs": [],
   "source": [
    "cnt = len(df.query('m2_real < m2_useful'))\n",
    "print(f\"Hay {cnt} viviendas con incongruencias entre las superficies\")"
   ]
  },
  {
   "cell_type": "markdown",
   "metadata": {},
   "source": [
    "Además, por lo general, los metros útiles se situan en torno a un 0%-20% por debajo de los metros reales. Por ello, exploremos gráficamente esta relación para hallar valores extremos:"
   ]
  },
  {
   "cell_type": "code",
   "execution_count": null,
   "metadata": {},
   "outputs": [],
   "source": [
    "f, axes = plt.subplots(figsize=(12, 5))\n",
    "sns.despine(left=True)\n",
    "\n",
    "(df\n",
    " .pipe((sns.scatterplot, 'data'),x=\"m2_real\", y=\"m2_useful\", color='#e9b49e', legend=\"full\"))\n",
    "\n",
    "plt.plot([0,1400], [0, 1400], '-', color='#636261', linewidth = 2)\n",
    "plt.plot([0,1400], [-69, 1131], '-', color='#636261', linewidth = 2)\n",
    "plt.plot([0,1400], [-250, 917], ':', color='#636261', linewidth = 0.5)\n",
    "\n",
    "1000/(1200-80)\n",
    "\n",
    "x_fill = np.arange(0, 1400, 1)\n",
    "y1_fill = x_fill\n",
    "y2_fill = (750/(1200-300))*(x_fill-300)\n",
    "plt.fill_between(x_fill, y1_fill, y2_fill, color='#636261', alpha=0.06)\n",
    "\n",
    "plt.tight_layout()"
   ]
  },
  {
   "cell_type": "markdown",
   "metadata": {},
   "source": [
    "Comprobamos que, en efecto, la mayoría de viviendas tienen una relación esperada entre metros de construcción y metros útiles. No obstante, encontramos algunas viviendas con muy pocos metros útiles para los metros reales que tienen. En concreto, encontramos 2 muy alejadas. Para cotejar si son plausibles, las exploremos más a fondo:"
   ]
  },
  {
   "cell_type": "code",
   "execution_count": null,
   "metadata": {},
   "outputs": [],
   "source": [
    "df['m2_relation'] = df['m2_real'] - df['m2_useful']\n",
    "\n",
    "(df\n",
    " .sort_values('m2_relation', ascending=False)[:2]\n",
    " .style.set_properties(subset=['ad_description'], **{'min-width': '1400px'}))"
   ]
  },
  {
   "cell_type": "markdown",
   "metadata": {},
   "source": [
    "Vemos que en el primer caso, se ha asigando un 0 de menos a la variable de metros útiles, y en el segundo, se han asignado los metros de la parcela a la variable de metros reales. Por lo tanto, se corrigen:"
   ]
  },
  {
   "cell_type": "code",
   "execution_count": null,
   "metadata": {},
   "outputs": [],
   "source": [
    "df = df.drop(columns='m2_relation')\n",
    "df['m2_useful'][df.house_id == 85089573] = 740\n",
    "df['m2_real'][df.house_id == 84234935] = 130"
   ]
  },
  {
   "cell_type": "markdown",
   "metadata": {},
   "source": [
    "### <font color=#5F66A1>ground_size</font>"
   ]
  },
  {
   "cell_type": "code",
   "execution_count": null,
   "metadata": {},
   "outputs": [],
   "source": [
    "custome_univariate_boxplot('ground_size', df)"
   ]
  },
  {
   "cell_type": "markdown",
   "metadata": {},
   "source": [
    "Se observa como hay valores muy extremos, con uno especialmente alejado del resto. Analizamos los más extremos:"
   ]
  },
  {
   "cell_type": "code",
   "execution_count": null,
   "metadata": {},
   "outputs": [],
   "source": [
    "(df.query('ground_size > 160000')\n",
    " .style.set_properties(subset=['ad_description'], **{'min-width': '1600px'}))"
   ]
  },
  {
   "cell_type": "markdown",
   "metadata": {},
   "source": [
    "Vemos que, en principio, los valores son plausibles, por lo que no efectuamos ninguna tarea al respecto. Por otro lado, verificamos que no hay parcelas con valores negativos:"
   ]
  },
  {
   "cell_type": "code",
   "execution_count": null,
   "metadata": {},
   "outputs": [],
   "source": [
    "cnt = len(df.query('ground_size < 0'))\n",
    "print(f\"Hay {cnt} viviendas con parcela nula o negativa\")"
   ]
  },
  {
   "cell_type": "markdown",
   "metadata": {},
   "source": [
    "### <font color=#5F66A1>price</font>"
   ]
  },
  {
   "cell_type": "code",
   "execution_count": null,
   "metadata": {},
   "outputs": [],
   "source": [
    "custome_univariate_boxplot('price', df)"
   ]
  },
  {
   "cell_type": "markdown",
   "metadata": {},
   "source": [
    "Vemos que la vivienda más cara de nuestro conjunto de datos está por encima de los 5 millones de euros. Si bien es muy cara, es plausible que nos encontremos con alguna de tal precio. Aún así, exploramos las viviendas con precios más elevados a fin de cotejar que los datos son correctos:"
   ]
  },
  {
   "cell_type": "code",
   "execution_count": null,
   "metadata": {
    "scrolled": false
   },
   "outputs": [],
   "source": [
    "(df\n",
    " .query('price > 3500000')\n",
    " .sort_values('price', ascending=False)\n",
    " .style.set_properties(subset=['ad_description'], **{'min-width': '2400px'}))"
   ]
  },
  {
   "cell_type": "markdown",
   "metadata": {},
   "source": [
    "Observamos que los precios parecen correctos, por lo que no realizamos ninguna acción al respecto. Por otro lado, verificamos si hay viviendas con precios excesivamente bajos:"
   ]
  },
  {
   "cell_type": "code",
   "execution_count": null,
   "metadata": {},
   "outputs": [],
   "source": [
    "(df\n",
    " .query('price < 20000')\n",
    " .style.set_properties(subset=['ad_description'], **{'min-width': '600px'}))"
   ]
  },
  {
   "cell_type": "markdown",
   "metadata": {},
   "source": [
    "Vemos que las viviendas tienen bien asignado el precio, por lo que optamos por no descartarlos, entendiendo que forman parte también del conjunto de datos de casas en venta que queremos estudiar."
   ]
  },
  {
   "cell_type": "markdown",
   "metadata": {},
   "source": [
    "### <font color=#5F66A1>bath_num</font>"
   ]
  },
  {
   "cell_type": "code",
   "execution_count": null,
   "metadata": {},
   "outputs": [],
   "source": [
    "custome_countplot('bath_num', df)"
   ]
  },
  {
   "cell_type": "markdown",
   "metadata": {},
   "source": [
    "Vemos que hay unas pocas viviendas con un número muy elevado de baños. Las exploramos:"
   ]
  },
  {
   "cell_type": "code",
   "execution_count": null,
   "metadata": {},
   "outputs": [],
   "source": [
    "(df\n",
    " .query('bath_num > 10')\n",
    " .sort_values('bath_num', ascending=False)\n",
    " .style.set_properties(subset=['ad_description'], **{'min-width': '2000px'}))"
   ]
  },
  {
   "cell_type": "markdown",
   "metadata": {},
   "source": [
    "Vemos que se tratan de hoteles, por lo que optamos por descartarlos del conjunto de datos por no ajustarse a nuestro objeto de estudio:"
   ]
  },
  {
   "cell_type": "code",
   "execution_count": null,
   "metadata": {},
   "outputs": [],
   "source": [
    "del_count = len(df[df.bath_num > 10])\n",
    "df = df[df.bath_num < 11]\n",
    "print(f\"Se han eliminado {del_count} viviendas\")"
   ]
  },
  {
   "cell_type": "markdown",
   "metadata": {},
   "source": [
    "Por último, vemos que hay bastantes viviendas sin baños. Exploramos para entender a que se debe:"
   ]
  },
  {
   "cell_type": "code",
   "execution_count": null,
   "metadata": {},
   "outputs": [],
   "source": [
    "(df\n",
    " .query('bath_num == 0')\n",
    " .sort_values('bath_num', ascending=False)[:5]\n",
    " .style.set_properties(subset=['ad_description'], **{'min-width': '1600px'}))"
   ]
  },
  {
   "cell_type": "markdown",
   "metadata": {},
   "source": [
    "Vemos que el hecho de que las viviendas no dispongan de baños se debe a que se trata de viviendas que han de reformarse, lo cual tiene sentido. Por ello, verificamos que todas las viviendas sin baños sean en efecto viviendas que han de reformarse:"
   ]
  },
  {
   "cell_type": "code",
   "execution_count": null,
   "metadata": {},
   "outputs": [],
   "source": [
    "len(df.query('bath_num == 0 & condition != \"para reformar\"'))"
   ]
  },
  {
   "cell_type": "markdown",
   "metadata": {},
   "source": [
    "### <font color=#5F66A1>room_num</font>"
   ]
  },
  {
   "cell_type": "code",
   "execution_count": null,
   "metadata": {},
   "outputs": [],
   "source": [
    "custome_countplot('room_num', df)"
   ]
  },
  {
   "cell_type": "markdown",
   "metadata": {},
   "source": [
    "En este caso también se observa que hay algunas viviendas con un número muy elevado de habitaciones. Las exploramos:"
   ]
  },
  {
   "cell_type": "code",
   "execution_count": null,
   "metadata": {},
   "outputs": [],
   "source": [
    "(df\n",
    " .query('room_num > 12')\n",
    " .sort_values('room_num', ascending=False)\n",
    " .style.set_properties(subset=['ad_description'], **{'min-width': '1200px'}))"
   ]
  },
  {
   "cell_type": "markdown",
   "metadata": {},
   "source": [
    "En lo que respecta a las viviendas con 20 habitaciones, al no poder verificar si son datos correctos, se opta por eliminarlos. En el caso de las viviendas con 14 habitaciones, sin embargo, se comprueba que el numero elevado de estancias se debe a que son caserones, así que se mantienen:"
   ]
  },
  {
   "cell_type": "code",
   "execution_count": null,
   "metadata": {},
   "outputs": [],
   "source": [
    "del_count = len(df[df.room_num > 15])\n",
    "df = df[df.room_num < 15]\n",
    "print(f\"Se han eliminado {del_count} viviendas\")"
   ]
  },
  {
   "cell_type": "markdown",
   "metadata": {},
   "source": [
    "Finalmente, de forma análoga al estudio de la variable <font color=#5F66A1>__bath_num__</font>, se verifica que las viviendas con 0 habitaciones corresponden a casas por reformar:"
   ]
  },
  {
   "cell_type": "code",
   "execution_count": null,
   "metadata": {},
   "outputs": [],
   "source": [
    "(df\n",
    " .query('room_num == 0 & condition!=\"para reformar\"')\n",
    " .sort_values('room_num', ascending=False)[:5]\n",
    " .style.set_properties(subset=['ad_description'], **{'min-width': '1600px'}))"
   ]
  },
  {
   "cell_type": "markdown",
   "metadata": {},
   "source": [
    "Vemos que hay 5 viviendas sin habitaciones que no son para reformar. Sin embargo, corresponden a estudios, lo cual también tiene sentido, así que se mantienen. "
   ]
  },
  {
   "cell_type": "markdown",
   "metadata": {},
   "source": [
    "## Ruido y outliers en variables categóricas"
   ]
  },
  {
   "cell_type": "markdown",
   "metadata": {},
   "source": [
    "### <font color=#5F66A1>floor</font>"
   ]
  },
  {
   "cell_type": "code",
   "execution_count": null,
   "metadata": {
    "pycharm": {
     "name": "#%%\n"
    }
   },
   "outputs": [],
   "source": [
    "custome_countplot2('floor', df)"
   ]
  },
  {
   "cell_type": "markdown",
   "metadata": {},
   "source": [
    "Vemos que la distribución de las plantas de las viviendas se ajusta a valores plausibles, por lo que las dejamos tal cual."
   ]
  },
  {
   "cell_type": "markdown",
   "metadata": {},
   "source": [
    "### <font color=#5F66A1>floor_count</font>"
   ]
  },
  {
   "cell_type": "code",
   "execution_count": null,
   "metadata": {},
   "outputs": [],
   "source": [
    "custome_countplot2('floor_count', df)"
   ]
  },
  {
   "cell_type": "markdown",
   "metadata": {},
   "source": [
    "Se observa que la mayoría de viviendas tienen una sola planta. No obstante, verifiquemos ciertos aspectos relacionados con la cantidad de plantas. Por un lado, verificaremos que los dúplex tienen 2 plantas, y de no ser así, lo corregiremos:"
   ]
  },
  {
   "cell_type": "code",
   "execution_count": null,
   "metadata": {},
   "outputs": [],
   "source": [
    "cond = (df.house_type == 'Dúplex') & (df.floor_count == 1)\n",
    "print(f\"Se han corregido {df[cond].shape[0]} pisos dúplex que tenían 1 sola planta asignada\")\n",
    "\n",
    "df['floor_count'] = (np.where(cond, 2, df['floor_count']))"
   ]
  },
  {
   "cell_type": "markdown",
   "metadata": {},
   "source": [
    "Por otro lado, comprobraremos justo lo contrario, que todas las viviendas que se han asignado como pisos, no tienen más de una planta:"
   ]
  },
  {
   "cell_type": "code",
   "execution_count": null,
   "metadata": {},
   "outputs": [],
   "source": [
    "cond = (df.house_type == 'Piso') & (df.floor_count > 1)\n",
    "print(f\"Hay {df[cond].shape[0]} pisos con más de 1 planta asignada\")"
   ]
  },
  {
   "cell_type": "markdown",
   "metadata": {},
   "source": [
    "# Gestión de datos incompletos"
   ]
  },
  {
   "cell_type": "markdown",
   "metadata": {},
   "source": [
    "En este apartado gestionaremos los valores vacíos que aún presenta el conjunto de datos."
   ]
  },
  {
   "cell_type": "markdown",
   "metadata": {},
   "source": [
    "## Estudio general de *missing values*"
   ]
  },
  {
   "cell_type": "markdown",
   "metadata": {},
   "source": [
    "Empezamos analizando cómo estan repartidos nuestros *missing values*:"
   ]
  },
  {
   "cell_type": "code",
   "execution_count": null,
   "metadata": {
    "pycharm": {
     "name": "#%%\n"
    }
   },
   "outputs": [],
   "source": [
    "n_records = len(df)\n",
    "def null_value(df):\n",
    "    for column in df:\n",
    "        if len(df[df[column].isnull()]) / (1.0*n_records) > 0.01:\n",
    "            print(\"Column:{} ## Per: {}% ## Type: {}\".format(\n",
    "                                    df[column].name, \n",
    "                                    round((len(df[df[column].isnull()]) / (n_records)) * 100, 2), \n",
    "                                    df[column].dtype\n",
    "        ))\n",
    "\n",
    "null_value(df)"
   ]
  },
  {
   "cell_type": "markdown",
   "metadata": {},
   "source": [
    "Vemos que hay muchas variables con *missing values*, algunas incluso con más del 50% de sus valores. Trataremos todas, excepto la descripción de los anuncios, ya que solo la usaremos como ayuda en la fase exploratoria."
   ]
  },
  {
   "cell_type": "markdown",
   "metadata": {},
   "source": [
    "## Imputación de variables numéricas"
   ]
  },
  {
   "cell_type": "markdown",
   "metadata": {},
   "source": [
    "### <font color=#5F66A1>ground_size</font>"
   ]
  },
  {
   "cell_type": "markdown",
   "metadata": {},
   "source": [
    "En el caso de __<font color=#5F66A1>ground_size</font>__, la ausencia de valores se asume que corresponde, en una amplia mayoría, a que la vivienda no tenga parcela. No obstante, debido a que un gran porcentaje de viviendas no tienen parcela (93%), se opta por convertir la variable en una variable binaria que indique simplemente si la vivienda tiene o no parcela, independientemente de su precio. Además, se le atribuye el nombre __<font color=#5F66A1>ground</font>__ para que refleje mejor su nueva naturaleza:"
   ]
  },
  {
   "cell_type": "code",
   "execution_count": null,
   "metadata": {},
   "outputs": [],
   "source": [
    "df['ground'] = np.where(df.ground_size > 0,True,False).astype('bool')\n",
    "df = df.drop('ground_size', axis=1)"
   ]
  },
  {
   "cell_type": "markdown",
   "metadata": {},
   "source": [
    "### <font color=#5F66A1>m2_useful</font>"
   ]
  },
  {
   "cell_type": "markdown",
   "metadata": {},
   "source": [
    "En el caso de __<font color=#5F66A1>m2_useful</font>__, dado el gran número de casos con NAs (casi un 40%), y dada la la estrecha correlación con la variable __<font color=#5F66A1>m2_real</font>__, se opta directamente por descartarla:"
   ]
  },
  {
   "cell_type": "code",
   "execution_count": null,
   "metadata": {},
   "outputs": [],
   "source": [
    "df = df.drop(columns='m2_useful')"
   ]
  },
  {
   "cell_type": "markdown",
   "metadata": {},
   "source": [
    "### <font color=#5F66A1>construct_date</font>"
   ]
  },
  {
   "cell_type": "markdown",
   "metadata": {},
   "source": [
    "Respecto a la variable __<font color=#5F66A1>construct_date</font>__, de forma análoga, debido a que casi un 70% de las viviendas no incluye esta información, se opta también por descartarla:"
   ]
  },
  {
   "cell_type": "code",
   "execution_count": null,
   "metadata": {},
   "outputs": [],
   "source": [
    "df = df.drop(columns='construct_date')"
   ]
  },
  {
   "cell_type": "markdown",
   "metadata": {},
   "source": [
    "### <font color=#5F66A1>floor</font>"
   ]
  },
  {
   "cell_type": "markdown",
   "metadata": {},
   "source": [
    "A las viviendas tipo casas, chalets, etc., dado que no se conforman de bloques de pisos, podemos asignarles directamente el número de planta 0, ya que se ubican en la planta baja:"
   ]
  },
  {
   "cell_type": "code",
   "execution_count": null,
   "metadata": {},
   "outputs": [],
   "source": [
    "houses = df.house_type.isin(['Casa o chalet', 'Casa rural', 'Chalet adosado', 'Finca rústica', 'Otros'])   \n",
    "df['floor'] = (np.where(houses , 0 , df['floor']))"
   ]
  },
  {
   "cell_type": "markdown",
   "metadata": {},
   "source": [
    "El resto de valores faltantes, los imputaremos utilizando un modelo kNN con 5 vecinos y pesos uniformes. Para ello, empezaremos definiendo la función que utilizaremos para dicha tarea:"
   ]
  },
  {
   "cell_type": "code",
   "execution_count": null,
   "metadata": {},
   "outputs": [],
   "source": [
    "from sklearn.neighbors import KNeighborsClassifier\n",
    "from sklearn.preprocessing import StandardScaler\n",
    "\n",
    "def impute_missing(param, p_list, data, data_all):\n",
    "    \n",
    "    scaler = StandardScaler()\n",
    "    \n",
    "    # split trainig data and standarize variables\n",
    "    data_train = data[data[param].notna()]\n",
    "    x_train = data_train[p_list]\n",
    "    scaled_x_train = scaler.fit_transform(x_train)\n",
    "    y_train = data_train[param]\n",
    "    \n",
    "    # split data to impute and standarize variables\n",
    "    data_to_impute = data[data[param].isna()]\n",
    "    x_impute = data_to_impute[p_list]\n",
    "    scaled_x_impute = scaler.fit_transform(x_impute)\n",
    "\n",
    "    # fit the model\n",
    "    model_knn = KNeighborsClassifier()\n",
    "    model_knn.fit(scaled_x_train, y_train)\n",
    "    \n",
    "    # impute predicted values and return dataframe\n",
    "    imputed_values = model_knn.predict(scaled_x_impute)\n",
    "    print(f\"Se han imputado valores en {len(imputed_values)} viviendas\")\n",
    "    print(f\"Los 200 primeros valores son los siguientes:\\n {imputed_values[:200]}\")\n",
    "    data_all.loc[data_all[param].isna(), param] = imputed_values\n",
    "    \n",
    "    return data_all"
   ]
  },
  {
   "cell_type": "markdown",
   "metadata": {},
   "source": [
    "Una vez tenemos la función ya lista, la empleamos para imputar los valores ausentes de __<font color=#5F66A1>floor_count</font>__ restantes, usando para ello las variables <font color=#5F66A1>m2_real</font>, <font color=#5F66A1>bath_num</font>, <font color=#5F66A1>room_num</font> y <font color=#5F66A1>ground_size</font>. Además, dado que todos los valores faltantes corresponden a pisos, alimentamos el modelo solo con viviendas del tipo piso, dúplex, ático o estudio:"
   ]
  },
  {
   "cell_type": "code",
   "execution_count": null,
   "metadata": {
    "scrolled": true
   },
   "outputs": [],
   "source": [
    "vars = ['m2_real', 'bath_num', 'room_num']\n",
    "df = impute_missing('floor', p_list=vars, data=df[~houses], data_all=df)\n",
    "df['floor'] = df['floor'].astype('int64')"
   ]
  },
  {
   "cell_type": "markdown",
   "metadata": {},
   "source": [
    "### <font color=#5F66A1>floor_count</font> "
   ]
  },
  {
   "cell_type": "markdown",
   "metadata": {},
   "source": [
    "En esta ocasión tambien hay ciertos tipos de vivienda a los que podemos asignar de forma directa el número de plantas. Es el caso de los dúplex (2), pisos (1) y estudios (1):"
   ]
  },
  {
   "cell_type": "code",
   "execution_count": null,
   "metadata": {},
   "outputs": [],
   "source": [
    "df['floor_count'] = (np.where(df.house_type == 'Dúplex', 2, df['floor_count']))\n",
    "df['floor_count'] = (np.where(df.house_type == 'Piso', 1, df['floor_count']))\n",
    "df['floor_count'] = (np.where(df.house_type == 'Estudio', 1, df['floor_count']))"
   ]
  },
  {
   "cell_type": "markdown",
   "metadata": {},
   "source": [
    "El resto de valores faltantes corresponden todos a casas y chalets. Por ello, utilizando solo las viviendas del tipo casa, chalet y similares, imputaremos el número de plantas nuevamente utilizando un modelo de kNN, con las mismas 4  variables del caso anterior:"
   ]
  },
  {
   "cell_type": "code",
   "execution_count": null,
   "metadata": {},
   "outputs": [],
   "source": [
    "df = impute_missing('floor_count', p_list=vars, data=df[houses], data_all=df)\n",
    "df['floor_count'] = df['floor_count'].astype('int64')"
   ]
  },
  {
   "cell_type": "markdown",
   "metadata": {},
   "source": [
    "## Imputación de variables categóricas"
   ]
  },
  {
   "cell_type": "markdown",
   "metadata": {},
   "source": [
    "### <font color=#5F66A1>lift</font>"
   ]
  },
  {
   "cell_type": "markdown",
   "metadata": {},
   "source": [
    "En el caso de __<font color=#5F66A1>lift</font>__, la ausencia de valor corresponde a un valor concreto. En este caso, los NAs corresponden a viviendas sin ascensor, por lo que realizamos la imputación de forma directa:"
   ]
  },
  {
   "cell_type": "code",
   "execution_count": null,
   "metadata": {},
   "outputs": [],
   "source": [
    "df['lift'] = (np.where(df['lift'].isna(), 0, df['lift'])).astype('bool')"
   ]
  },
  {
   "cell_type": "markdown",
   "metadata": {},
   "source": [
    "### <font color=#5F66A1>garage</font>"
   ]
  },
  {
   "cell_type": "markdown",
   "metadata": {},
   "source": [
    "En el caso de __<font color=#5F66A1>garage</font>__, la ausencia de valores corresponde con viviendas sin garaje. No obstante, la variable muestra el precio del garaje, y los valores nulos significan que el garaje se ofrece sin coste añadido. Por lo tanto, no podemos imputar con ceros la ausencia de garajes, ya que daríamos a entender justo lo contrario de lo que significa. Por ello, se opta por categorizar la variable afín de poder representar cada caso de forma adecuada:"
   ]
  },
  {
   "cell_type": "code",
   "execution_count": null,
   "metadata": {},
   "outputs": [],
   "source": [
    "df['garage'] = (np.where(df['garage']<1000, 'incluido en precio'\n",
    "                    ,np.where(df['garage']>=1000, 'pagando', 'sin garaje')))\n",
    "\n",
    "df['garage'] = df['garage'].astype('category')"
   ]
  },
  {
   "cell_type": "markdown",
   "metadata": {},
   "source": [
    "### <font color=#5F66A1>condition</font>"
   ]
  },
  {
   "cell_type": "markdown",
   "metadata": {},
   "source": [
    "En lo tocante a __<font color=#5F66A1>condition</font>__, podemos optar por asignar una nueva condición: \"no especificado\", o bien por imputar el valor usando la moda de la variable. En este caso, emplearemos la moda:"
   ]
  },
  {
   "cell_type": "code",
   "execution_count": null,
   "metadata": {
    "run_control": {
     "marked": false
    },
    "scrolled": true
   },
   "outputs": [],
   "source": [
    "moda = df['condition'].mode()[0]\n",
    "mask = df['condition'].isnull()\n",
    "cnt = mask.value_counts().loc[True]\n",
    "df.loc[mask, 'condition'] = moda\n",
    "\n",
    "print(f'Se ha imputado la condición \"{moda}\" a {cnt} viviendas')"
   ]
  },
  {
   "cell_type": "markdown",
   "metadata": {},
   "source": [
    "### <font color=#5F66A1>indoor</font>"
   ]
  },
  {
   "cell_type": "markdown",
   "metadata": {},
   "source": [
    "En el caso de la variable, al igual que con la condición, optaremos por emplear la moda para imputar los valores faltantes:"
   ]
  },
  {
   "cell_type": "code",
   "execution_count": null,
   "metadata": {},
   "outputs": [],
   "source": [
    "moda_bool = df['indoor'].mode()[0]\n",
    "moda = 'interior' if moda_bool is True else 'exterior'\n",
    "mask = df['indoor'].isnull()\n",
    "cnt = mask.value_counts().loc[True]\n",
    "df.loc[mask, 'indoor'] = moda_bool\n",
    "\n",
    "df.indoor = df.indoor.astype('bool')\n",
    "\n",
    "print(f'Se ha imputado el valor \"{moda}\" a {cnt} viviendas')"
   ]
  },
  {
   "cell_type": "markdown",
   "metadata": {},
   "source": [
    "### <font color=#5F66A1>energetic_certif</font>, <font color=#5F66A1>heating</font> & <font color=#5F66A1>orientation</font>"
   ]
  },
  {
   "cell_type": "markdown",
   "metadata": {},
   "source": [
    "Finalmente, en el caso de las variables __<font color=#5F66A1>energetic_certif</font>__, __<font color=#5F66A1>heating</font>__ y __<font color=#5F66A1>orientation</font>__, dado que las tres tienen un gran número de valores ausentes (un 23%, 57% y 61% respectivamente), se opta directamente por descartarlas:"
   ]
  },
  {
   "cell_type": "code",
   "execution_count": null,
   "metadata": {},
   "outputs": [],
   "source": [
    "df = df.drop(columns=['energetic_certif', 'heating', 'orientation'])"
   ]
  },
  {
   "cell_type": "markdown",
   "metadata": {},
   "source": [
    "Para concluir, almacenamos nuestro conjunto de datos ya limpio. Se opta por usar pickle como tipo de fichero para poder mantener las diferentes características y tipos que hemos ido añadiendo a lo largo del proceso de limpieza. De esta forma no será necesario volver a cargar o modificar el tipo de variable, estará ya almacenado en el propio fichero."
   ]
  },
  {
   "cell_type": "code",
   "execution_count": null,
   "metadata": {},
   "outputs": [],
   "source": [
    "pickle.dump(df, open('../processed_data/houses_cleaned.p', \"wb\" ));"
   ]
  },
  {
   "cell_type": "markdown",
   "metadata": {},
   "source": [
    "Asimismo, se almacena también en un archivo csv: "
   ]
  },
  {
   "cell_type": "code",
   "execution_count": null,
   "metadata": {},
   "outputs": [],
   "source": [
    "df.to_csv('../processed_data/houses_cleaned.csv', index=False)"
   ]
  }
 ],
 "metadata": {
  "hide_input": false,
  "kernelspec": {
   "display_name": "Python 3",
   "language": "python",
   "name": "python3"
  },
  "language_info": {
   "codemirror_mode": {
    "name": "ipython",
    "version": 3
   },
   "file_extension": ".py",
   "mimetype": "text/x-python",
   "name": "python",
   "nbconvert_exporter": "python",
   "pygments_lexer": "ipython3",
   "version": "3.6.8"
  },
  "latex_envs": {
   "LaTeX_envs_menu_present": true,
   "autoclose": false,
   "autocomplete": true,
   "bibliofile": "biblio.bib",
   "cite_by": "apalike",
   "current_citInitial": 1,
   "eqLabelWithNumbers": true,
   "eqNumInitial": 1,
   "hotkeys": {
    "equation": "Ctrl-E",
    "itemize": "Ctrl-I"
   },
   "labels_anchors": false,
   "latex_user_defs": false,
   "report_style_numbering": false,
   "user_envs_cfg": false
  },
  "nbTranslate": {
   "displayLangs": [
    "*"
   ],
   "hotkey": "alt-t",
   "langInMainMenu": true,
   "sourceLang": "en",
   "targetLang": "fr",
   "useGoogleTranslate": true
  },
  "pycharm": {
   "stem_cell": {
    "cell_type": "raw",
    "metadata": {
     "collapsed": false
    },
    "source": []
   }
  },
  "toc": {
   "base_numbering": 1,
   "nav_menu": {},
   "number_sections": true,
   "sideBar": true,
   "skip_h1_title": false,
   "title_cell": "Table of Contents",
   "title_sidebar": "Contents",
   "toc_cell": false,
   "toc_position": {
    "height": "calc(100% - 180px)",
    "left": "10px",
    "top": "150px",
    "width": "188.24728393554688px"
   },
   "toc_section_display": true,
   "toc_window_display": false
  }
 },
 "nbformat": 4,
 "nbformat_minor": 1
}
