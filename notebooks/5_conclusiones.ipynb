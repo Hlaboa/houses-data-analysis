{
 "cells": [
  {
   "cell_type": "markdown",
   "metadata": {},
   "source": [
    "# Conclusiones del análisis"
   ]
  },
  {
   "cell_type": "markdown",
   "metadata": {
    "pycharm": {
     "name": "#%% md\n"
    }
   },
   "source": [
    "A lo largo de este estudio hemos visto como, a grandes rasgos, partiendo de un conjunto de datos que contenía información sobre anuncios de viviendas en venta, se ha implementado un proceso mediante el cual, en última instancia, se ha logrado extraer información valiosa relacionada con el precio de las viviendas.\n",
    "\n",
    "<br />\n",
    "\n",
    "Así, el estudio se ha iniciado con la fase de **INTEGRACIÓN DE DATOS**. En esta primera fase se han caracterizado las distintas variables del conjunto de datos principal. Este conjunto de datos, además, se ha enriquecido mediante la adición de información demográfica y socio-económica. Para ello, ha sido necesario conciliar cuidadosamente los nombres de las localidades, ya que en cada archivo, a menudo, los municipios se describían mediante distintos nombres.\n",
    "\n",
    "A esta primera fase la ha precedido la **LIMPIEZA DE DATOS**, en la cual, el primer paso ha consistido en estandarizar las distintas variables. En esta estandarización se han asignando los valores del modo más representativo posible a fin de mejorar la manejabilidad e interpretabilidad de las variables. En dicho proceso, además, se han generado nuevas variables, tales como *location*, o *floor*, como consecuencia de manipular o dividir otras ya existentes.\n",
    "\n",
    "Tras la estandarización, se ha verificado que no hubiera viviendas con más de un anuncio. Para ello, el principal reto ha sido implementar un filtro que fuese capaz de detectar viviendas similares aun con anuncios que presentaran ciertas incoherencias y disimilitudes entre sí.\n",
    "\n",
    "Por otro lado, se ha llevado a cabo también una gestión de *outliers*, en la cual se han explorado los valores extremos, evaluando en cada caso la veracidad de dichos valores. Por último, la fase de *limpieza de datos* se ha concluido con un estudio de los *missing values*, en el cual se han imputando los datos faltantes de diversas formas (por asignación manual, por moda, por similitud mediante k-NN, ...).\n",
    "\n",
    "Una vez ya resultas las incosistencias de los datos, la tercera fase del estudio ha sido el **ANÁLISIS EXPLORATORIO DE LOS DATOS**. En esta fase, se han estudiado las distribuciones y relaciones de distintas variables, haciendo sobretodo hincapié en tratar de entender cómo y en qué medida afectan las distintas características de las viviendas en su precio Para estudiar estas relaciones, principalmente se ha hecho uso de un gran número de visualizaciones, tales como *boxplots*, *barplots*, *countplots*, ... Además, estas visualizaciones se han apoyado con una serie de tests estadísticos, tales como test de normalidad de *Shapiro-Wilk*, test de correlación de *Kendall*, prueba de *Levene* o test de *Kruskal-Wallis*.\n",
    "\n",
    "Finalmente, la última fase del estudio ha consistido en la **IMPLEMENTACIÓN DE MODELOS PREDICTIVOS**, concretamente 2. El primero de ellos ha sido una regresión con el cual, se ha buscado predecir si una vivienda cuesta más o menos que cierta cantidad. Así, con este modelo se ha querido simular un escenario en el cual, alguien, pudiera comprobar si puede o no encontrar una vivienda de ciertos parámetros. La precisión del modelo resultante ha sido del 91.47%, lo cual significa que ha sido capaz de predecir en más de 9 de cada 10 viviendas si ésta era mayor o menor que nuestro crédito.\n",
    "\n",
    "El segundo modelo que se ha implementado ha un modelo de regresión que predice el precio de las viviendas a partir de sus características. Para este segundo modelo se ha utilizado la técnica XG-Boost. De este modo, el principal reto ha sido la búsqueda de una combinación de hiperparámetros que mejorara el rendimiento lo máximo posible. Así, finalmente, se ha conseguido un modelo con un error de predicción del 17,18%, capaz de predecir de forma acertada el precio de un 85% de las viviendas, con un margen de +/- 50.000€.\n",
    "\n",
    "Además, se han visto cuáles son las variables más relevantes a la hora de predecir el precio, observando cómo, el tamaño de las viviendas es la que más impacto tiene. Por otro lado, finalmente se ha estudiado si la inclusión de más datos en el estudio puede favorecer un mejor rendimiento del modelo, resolviéndose la questión en que sí."
   ]
  }
 ],
 "metadata": {
  "hide_input": false,
  "kernelspec": {
   "display_name": "Python 3",
   "language": "python",
   "name": "python3"
  },
  "language_info": {
   "codemirror_mode": {
    "name": "ipython",
    "version": 3
   },
   "file_extension": ".py",
   "mimetype": "text/x-python",
   "name": "python",
   "nbconvert_exporter": "python",
   "pygments_lexer": "ipython3",
   "version": "3.7.1"
  },
  "latex_envs": {
   "LaTeX_envs_menu_present": true,
   "autoclose": false,
   "autocomplete": true,
   "bibliofile": "biblio.bib",
   "cite_by": "apalike",
   "current_citInitial": 1,
   "eqLabelWithNumbers": true,
   "eqNumInitial": 1,
   "hotkeys": {
    "equation": "Ctrl-E",
    "itemize": "Ctrl-I"
   },
   "labels_anchors": false,
   "latex_user_defs": false,
   "report_style_numbering": false,
   "user_envs_cfg": false
  },
  "nbTranslate": {
   "displayLangs": [
    "*"
   ],
   "hotkey": "alt-t",
   "langInMainMenu": true,
   "sourceLang": "en",
   "targetLang": "fr",
   "useGoogleTranslate": true
  },
  "pycharm": {
   "stem_cell": {
    "cell_type": "raw",
    "metadata": {
     "collapsed": false
    },
    "source": []
   }
  },
  "toc": {
   "base_numbering": 1,
   "nav_menu": {},
   "number_sections": true,
   "sideBar": true,
   "skip_h1_title": false,
   "title_cell": "Table of Contents",
   "title_sidebar": "Contents",
   "toc_cell": false,
   "toc_position": {
    "height": "calc(100% - 180px)",
    "left": "10px",
    "top": "150px",
    "width": "165px"
   },
   "toc_section_display": true,
   "toc_window_display": false
  }
 },
 "nbformat": 4,
 "nbformat_minor": 1
}
