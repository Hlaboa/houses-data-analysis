{
 "cells": [
  {
   "cell_type": "markdown",
   "metadata": {},
   "source": [
    "# Descripción del dataset"
   ]
  },
  {
   "cell_type": "markdown",
   "metadata": {},
   "source": [
    "## Contexto del conjunto de datos"
   ]
  },
  {
   "cell_type": "markdown",
   "metadata": {},
   "source": [
    "El dataset que se utilizará para el estudio de esta práctica se extrae del conjunto de datos **Spanish Houses**, construido en la 1.práctica de la asignatura mediante técnicas de Web Scraping, la cual puede encontrarse en el siguiente repositorio: https://github.com/trueuoc/spa_housing_crawler\n",
    "\n",
    "En dicha práctica se implementó un rastreador web con el cual se recogieron 100.000 anuncios de viviendas en venta y alquiler del portal *idealistas.com*. Estas viviendas correspondían con viviendas de diversas provincias y comunidades del terrotorio español. Para este análisis, sin embargo, solo se emplearán las viviendas de 2 provincias: las de **Bizkaia** y **Gipuzkoa**."
   ]
  },
  {
   "cell_type": "markdown",
   "metadata": {},
   "source": [
    "## Motivación del estudio"
   ]
  },
  {
   "cell_type": "markdown",
   "metadata": {},
   "source": [
    "La razón por la cual se opta por llevar a cabo un estudio sobre este conjunto de datos corresponde, principalmente, con un un afán por comprender algo mejor los entresijos y factores que influyen en el precio de las vivienda. \n",
    "\n",
    "\n",
    "Y es que, a la hora de comprar o vender una casa, a menudo nos encontramos con que no tenemos muy claro si estamos pagando o pidiendo poco o mucho dinero. Tenemos referencias para otra clase de productos más cotidianos. Sabemos que pagar 8 euros por una barra de pan es excesivo, y que ir a comer un menú del día por 2 euros es sospechosamente poco. Sin embargo, cuando se trata del precio de las viviendas, tratamos con cifras tan elevadas que ya no sabemos si estamos pagando poco o mucho, o si deberíamos de pedir algo más por nuestra vivienda de lo que actualmente estamos pidiendo.\n",
    "\n",
    "Por esta razón, acabamos por fiar todo lo relacionado con este tipo de cuestiones a inmobiliarias que, la mayoría de veces, no tienen por principal objetivo beneficiarnos a nosotros.\n",
    "\n",
    "Por ello, creemos que, realizar un análisis del precio de las viviendas puede servirnos para, al menos, empezar a entender mejor por qué las viviendas tienen el precio que tienen."
   ]
  },
  {
   "cell_type": "markdown",
   "metadata": {},
   "source": [
    "## Objetivos del estudio"
   ]
  },
  {
   "cell_type": "markdown",
   "metadata": {},
   "source": [
    "En este sentido, con el presente proyecto se establecen los siguientes objetivos principales:\n",
    "\n",
    "+ Integrar y limpiar el conjunto de datos que se pretende estudiar\n",
    "+ Realizar un análisis exploratorio de los datos que nos permita extraer conocimiento, enfatizando sobre todo en el estudio de relaciones entre las diferentes características de las viviendas y su precio\n",
    "+ Implementar dos modelos de regresión\n",
    "    + uno para ayudarnos a descubrir si una vivienda se ajusta a nuestro presupuesto\n",
    "    + y otro para tratar de predecir el precio de las viviendas a partir de sus características"
   ]
  }
 ],
 "metadata": {
  "hide_input": false,
  "kernelspec": {
   "display_name": "Python 3",
   "language": "python",
   "name": "python3"
  },
  "language_info": {
   "codemirror_mode": {
    "name": "ipython",
    "version": 3
   },
   "file_extension": ".py",
   "mimetype": "text/x-python",
   "name": "python",
   "nbconvert_exporter": "python",
   "pygments_lexer": "ipython3",
   "version": "3.7.1"
  },
  "latex_envs": {
   "LaTeX_envs_menu_present": true,
   "autoclose": false,
   "autocomplete": true,
   "bibliofile": "biblio.bib",
   "cite_by": "apalike",
   "current_citInitial": 1,
   "eqLabelWithNumbers": true,
   "eqNumInitial": 1,
   "hotkeys": {
    "equation": "Ctrl-E",
    "itemize": "Ctrl-I"
   },
   "labels_anchors": false,
   "latex_user_defs": false,
   "report_style_numbering": false,
   "user_envs_cfg": false
  },
  "nbTranslate": {
   "displayLangs": [
    "*"
   ],
   "hotkey": "alt-t",
   "langInMainMenu": true,
   "sourceLang": "en",
   "targetLang": "fr",
   "useGoogleTranslate": true
  },
  "pycharm": {
   "stem_cell": {
    "cell_type": "raw",
    "metadata": {
     "collapsed": false
    },
    "source": []
   }
  },
  "toc": {
   "base_numbering": 1,
   "nav_menu": {},
   "number_sections": true,
   "sideBar": true,
   "skip_h1_title": false,
   "title_cell": "Table of Contents",
   "title_sidebar": "Contents",
   "toc_cell": false,
   "toc_position": {},
   "toc_section_display": true,
   "toc_window_display": true
  }
 },
 "nbformat": 4,
 "nbformat_minor": 1
}
