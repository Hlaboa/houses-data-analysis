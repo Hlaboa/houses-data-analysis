{
 "cells": [
  {
   "cell_type": "markdown",
   "metadata": {
    "collapsed": true
   },
   "source": [
    "Cargamos las librerías, el conjunto de datos y algunas variables que emplearemos durante el proceso:"
   ]
  },
  {
   "cell_type": "code",
   "execution_count": null,
   "metadata": {},
   "outputs": [],
   "source": [
    "import pandas as pd\n",
    "import numpy as np\n",
    "import matplotlib.pyplot as plt\n",
    "import seaborn as sns\n",
    "%matplotlib inline\n",
    "\n",
    "df = pd.read_csv('./processed_data/houses_integrated.csv')\n",
    "\n",
    "# Ampliamos el límite de columnas visibles para poder visualizarlas todas\n",
    "pd.set_option('display.max_columns', 500)\n",
    "\n",
    "# Definimos un listado de colores para visualizaciones\n",
    "clr = {'pr':'#5F66A1', 'yw':'#f3ca75', 'mg':'#c874b9', 'gn': '#599d70', 'br': '#636261'}\n",
    "\n",
    "# Omitimos los warnings\n",
    "import warnings\n",
    "warnings.filterwarnings('ignore')"
   ]
  },
  {
   "cell_type": "markdown",
   "metadata": {},
   "source": [
    "# Verificar los datos"
   ]
  },
  {
   "cell_type": "markdown",
   "metadata": {},
   "source": [
    "En esta fase verificaremos la calidad de los datos por medio de una serie de procesos."
   ]
  },
  {
   "cell_type": "markdown",
   "metadata": {},
   "source": [
    "## Descartar las casas de alquiler"
   ]
  },
  {
   "cell_type": "markdown",
   "metadata": {},
   "source": [
    "En el conjunto de datos que disponemos, se mezclan anuncios con casa en venta y alquiler. Este análisis se centra en la venta de casas, por lo tanto, los anuncios ligados al alquilern han de descartarse.\n",
    "\n",
    "No obstante, no hay ningún campo que permita esta división de forma directa. Por ello, se opta por emplear el precio para esta tarea, ya que, en principio, la venta y el alquiler de casas han de tener precios muy distintos.\n",
    "\n",
    "Analizemos por lo tanto los precios por medio de un histograma que nos muestre los precios entre 2.500€ y 30.000€ para ver a partir de qué precio intuímos que podemos considerar que una casa está en venta y no en alquiler:"
   ]
  },
  {
   "cell_type": "code",
   "execution_count": null,
   "metadata": {},
   "outputs": [],
   "source": [
    "f, axes = plt.subplots(1, 1, figsize=(10, 5), sharex=True)\n",
    "sns.despine(left=True)\n",
    "\n",
    "(df['price']\n",
    " .pipe(sns.distplot, hist=False, color=clr['pr'], kde_kws={\"shade\": True, 'clip': (2500, 30000)}))\n",
    "\n",
    "plt.setp(axes, yticks=[])\n",
    "plt.tight_layout()"
   ]
  },
  {
   "cell_type": "markdown",
   "metadata": {},
   "source": [
    "Vemos que hay algunas casas con precios entre 10.000€ y 20.000€ con los que hay cierta ambiguedad, ya que si bien es un precio de venta muy muy bajo, como precio de alquiler mensual es excesivo.\n",
    "\n",
    "No obstante, en vista de que no son muchos, se opta por descartar todas las casas por debajo de los 30.000€."
   ]
  },
  {
   "cell_type": "code",
   "execution_count": null,
   "metadata": {
    "run_control": {
     "marked": false
    }
   },
   "outputs": [],
   "source": [
    "h_num = df.query('price<30000').shape[0]\n",
    "df = df.query('price>30000')\n",
    "print(f'Se han descartado {h_num} casas del dataset')"
   ]
  }
 ],
 "metadata": {
  "hide_input": false,
  "kernelspec": {
   "display_name": "Python 3",
   "language": "python",
   "name": "python3"
  },
  "language_info": {
   "codemirror_mode": {
    "name": "ipython",
    "version": 3
   },
   "file_extension": ".py",
   "mimetype": "text/x-python",
   "name": "python",
   "nbconvert_exporter": "python",
   "pygments_lexer": "ipython3",
   "version": "3.7.1"
  },
  "latex_envs": {
   "LaTeX_envs_menu_present": true,
   "autoclose": false,
   "autocomplete": true,
   "bibliofile": "biblio.bib",
   "cite_by": "apalike",
   "current_citInitial": 1,
   "eqLabelWithNumbers": true,
   "eqNumInitial": 1,
   "hotkeys": {
    "equation": "Ctrl-E",
    "itemize": "Ctrl-I"
   },
   "labels_anchors": false,
   "latex_user_defs": false,
   "report_style_numbering": false,
   "user_envs_cfg": false
  },
  "toc": {
   "base_numbering": 1,
   "nav_menu": {},
   "number_sections": true,
   "sideBar": true,
   "skip_h1_title": false,
   "title_cell": "Table of Contents",
   "title_sidebar": "Contents",
   "toc_cell": false,
   "toc_position": {},
   "toc_section_display": true,
   "toc_window_display": true
  }
 },
 "nbformat": 4,
 "nbformat_minor": 1
}
