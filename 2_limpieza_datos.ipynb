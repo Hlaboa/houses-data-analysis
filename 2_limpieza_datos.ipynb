{
 "cells": [
  {
   "cell_type": "markdown",
   "metadata": {},
   "source": [
    "Cargamos las librerías, el conjunto de datos y algunas variables que emplearemos durante el proceso:"
   ]
  },
  {
   "cell_type": "code",
   "execution_count": 1,
   "metadata": {
    "ExecuteTime": {
     "end_time": "2019-05-22T14:51:20.204783Z",
     "start_time": "2019-05-22T14:51:17.373076Z"
    },
    "pycharm": {
     "name": "#%%\n"
    }
   },
   "outputs": [],
   "source": [
    "import warnings\n",
    "import pandas as pd\n",
    "import numpy as np\n",
    "import matplotlib.pyplot as plt\n",
    "import seaborn as sns\n",
    "import pickle\n",
    "%matplotlib inline\n",
    "\n",
    "df = pd.read_csv('./processed_data/houses_integrated.csv')\n",
    "\n",
    "# Definimos las opciones de visualizacion\n",
    "pd.set_option('display.max_columns', 500)\n",
    "\n",
    "# Definimos un listado de colores para visualizaciones\n",
    "clr = {'pr': '#5F66A1', 'yw': '#f3ca75',\n",
    "       'mg': '#c874b9', 'gn': '#599d70', 'br': '#636261'}\n",
    "b = '\\033[94m'  # para texto azul\n",
    "o = '\\033[93m'  # para texto naranja\n",
    "n = '\\033[0m'   # para texto normal\n",
    "\n",
    "# Omitimos los warnings\n",
    "warnings.filterwarnings('ignore')"
   ]
  },
  {
   "cell_type": "markdown",
   "metadata": {},
   "source": [
    "En esta fase verificaremos la calidad de los datos por medio de una serie de procesos."
   ]
  },
  {
   "cell_type": "markdown",
   "metadata": {},
   "source": [
    "# Estandarización de variables"
   ]
  },
  {
   "cell_type": "markdown",
   "metadata": {},
   "source": [
    "## Estudio de variables a estandarizar"
   ]
  },
  {
   "cell_type": "markdown",
   "metadata": {},
   "source": [
    "En este apartado se procede a estandarizar las variables, corrigiendo su tipo, y normalizando sus valores, (entendiendo por normalizar, asignarles el valor más representativo).\n",
    "\n",
    "*NOTA: En este apartado no se tratarán ni los missing values ni los outliers. Su gestión se deja para más adelante.*"
   ]
  },
  {
   "cell_type": "markdown",
   "metadata": {},
   "source": [
    "Empezaremos analizando cómo han sido asignadas las variables:"
   ]
  },
  {
   "cell_type": "code",
   "execution_count": 2,
   "metadata": {
    "ExecuteTime": {
     "end_time": "2019-05-22T14:51:20.212769Z",
     "start_time": "2019-05-22T14:51:20.206783Z"
    },
    "pycharm": {
     "name": "#%%\n"
    }
   },
   "outputs": [
    {
     "data": {
      "text/plain": [
       "house_id               int64\n",
       "ad_description        object\n",
       "price                  int64\n",
       "bath_num              object\n",
       "condition             object\n",
       "construct_date       float64\n",
       "energetic_certif      object\n",
       "floor                 object\n",
       "ground_size          float64\n",
       "heating               object\n",
       "house_type            object\n",
       "m2_real                int64\n",
       "m2_useful            float64\n",
       "orientation           object\n",
       "room_num              object\n",
       "air_conditioner        int64\n",
       "balcony                int64\n",
       "built_in_wardrobe      int64\n",
       "chimney                int64\n",
       "garage                object\n",
       "garden                 int64\n",
       "kitchen              float64\n",
       "lift                 float64\n",
       "reduced_mobility       int64\n",
       "storage_room           int64\n",
       "swimming_pool          int64\n",
       "terrace                int64\n",
       "unfurnished          float64\n",
       "loc_zone              object\n",
       "loc_district          object\n",
       "loc_city              object\n",
       "loc_neigh             object\n",
       "pop_total              int64\n",
       "pop_0-19               int64\n",
       "pop_20-64              int64\n",
       "pop_>=65               int64\n",
       "pop_foreign          float64\n",
       "rent                   int64\n",
       "dtype: object"
      ]
     },
     "execution_count": 2,
     "metadata": {},
     "output_type": "execute_result"
    }
   ],
   "source": [
    "df.dtypes"
   ]
  },
  {
   "cell_type": "markdown",
   "metadata": {},
   "source": [
    "De la lista superior, extraemos qué variables estudiaremos en la estandarización. En concreto, nos centraremos en 4 grupos: \n",
    "+ Por un lado estandarizaremos las variables numéricas que no hayan asignado como tal\n",
    "+ Por otro lado, estudiaremos las variables categóricas\n",
    "+ A continuación estudiaremos las variables categoricas binarias, es decir, booleanas\n",
    "+ Finalmente, nos centraremos en las variables de texto ligadas a la ubicación\n",
    "\n",
    "<br />\n",
    "\n",
    "**VARIABLES NUMÉRICAS NO ASIGNADAS COMO TAL**\n",
    "\n",
    "+ <font color=#5F66A1>*bath_num*<font>\n",
    "+ <font color=#5F66A1>*room_num*<font>\n",
    "+ <font color=#5F66A1>*garage*<font>\n",
    "\n",
    "\n",
    "**VARIABLES CATEGÓRICAS**\n",
    "\n",
    "+ <font color=#5F66A1>*condition*<font>\n",
    "+ <font color=#5F66A1>*energetic_certif*<font>\n",
    "+ <font color=#5F66A1>*floor*<font>\n",
    "+ <font color=#5F66A1>*heating*<font>\n",
    "+ <font color=#5F66A1>*house_type*<font>\n",
    "+ <font color=#5F66A1>*orientation*<font>\n",
    "\n",
    "\n",
    "**VARIABLES BOOLEANAS**\n",
    "\n",
    "+ <font color=#5F66A1>*air_conditioner*<font>\n",
    "+ <font color=#5F66A1>*balcony*<font>\n",
    "+ <font color=#5F66A1>*built_in_wardrobe*<font>\n",
    "+ <font color=#5F66A1>*chimney*<font>\n",
    "+ <font color=#5F66A1>*garden*<font>\n",
    "+ <font color=#5F66A1>*kitchen*<font>\n",
    "+ <font color=#5F66A1>*lift*<font>\n",
    "+ <font color=#5F66A1>*reduced_mobility*<font>\n",
    "+ <font color=#5F66A1>*storage_room*<font>\n",
    "+ <font color=#5F66A1>*swimming_pool*<font>\n",
    "+ <font color=#5F66A1>*terrace*<font>\n",
    "+ <font color=#5F66A1>*unfurnished*<font>\n",
    "\n",
    "\n",
    "**VARIABLES DE TEXTO LIGADAS A LA UBICACIÓN**\n",
    "\n",
    "+ <font color=#5F66A1>*loc_zone*<font>\n",
    "+ <font color=#5F66A1>*loc_district*<font>\n",
    "+ <font color=#5F66A1>*loc_city*<font>\n",
    "+ <font color=#5F66A1>*loc_neigh*<font>"
   ]
  },
  {
   "cell_type": "markdown",
   "metadata": {},
   "source": [
    "## Estandarización de variables numéricas"
   ]
  },
  {
   "cell_type": "markdown",
   "metadata": {},
   "source": [
    "### <font color=#5F66A1>bath_num</font>"
   ]
  },
  {
   "cell_type": "code",
   "execution_count": 3,
   "metadata": {
    "ExecuteTime": {
     "end_time": "2019-05-22T14:51:20.225775Z",
     "start_time": "2019-05-22T14:51:20.214769Z"
    },
    "pycharm": {
     "name": "#%%\n"
    }
   },
   "outputs": [
    {
     "name": "stdout",
     "output_type": "stream",
     "text": [
      "['4' '2' '1' 'sin baños' '3' '5' '17' '6' '9' '7' '8' '11' '10' '15' '12']\n"
     ]
    }
   ],
   "source": [
    "print(df.bath_num.unique())"
   ]
  },
  {
   "cell_type": "markdown",
   "metadata": {},
   "source": [
    "Vemos como la ausencia de baños se identifica como 'sin baños', en forma de texto. Lo corregimos, y definimos la variable como numérica:"
   ]
  },
  {
   "cell_type": "code",
   "execution_count": 4,
   "metadata": {
    "ExecuteTime": {
     "end_time": "2019-05-22T14:51:20.249784Z",
     "start_time": "2019-05-22T14:51:20.227773Z"
    },
    "pycharm": {
     "name": "#%%\n"
    }
   },
   "outputs": [],
   "source": [
    "df['bath_num'] = (df['bath_num']\n",
    "                  .str.replace('sin baños','0')\n",
    "                  .astype('int64')\n",
    "                 )"
   ]
  },
  {
   "cell_type": "markdown",
   "metadata": {},
   "source": [
    "### <font color=#5F66A1>room_num</font>"
   ]
  },
  {
   "cell_type": "code",
   "execution_count": 5,
   "metadata": {
    "ExecuteTime": {
     "end_time": "2019-05-22T14:51:20.257771Z",
     "start_time": "2019-05-22T14:51:20.251786Z"
    },
    "pycharm": {
     "name": "#%%\n"
    }
   },
   "outputs": [
    {
     "name": "stdout",
     "output_type": "stream",
     "text": [
      "['3' '4' '2' 'sin habitación' '5' '1' '8' '9' '6' '12' '10' '7' '11' '14'\n",
      " '17' '20' '34' '13']\n"
     ]
    }
   ],
   "source": [
    "print(df.room_num.unique())"
   ]
  },
  {
   "cell_type": "markdown",
   "metadata": {},
   "source": [
    "Aquí tambien la ausencia de habitaciones se identifica en forma de texto, como 'sin habitación'. Lo corregimos, y definimos la variable como numérica:"
   ]
  },
  {
   "cell_type": "code",
   "execution_count": 6,
   "metadata": {
    "ExecuteTime": {
     "end_time": "2019-05-22T14:51:20.286798Z",
     "start_time": "2019-05-22T14:51:20.260774Z"
    },
    "pycharm": {
     "name": "#%%\n"
    }
   },
   "outputs": [],
   "source": [
    "df['room_num'] = (df['room_num']\n",
    "                   .str.replace('sin habitación','0')\n",
    "                   .astype('int64')\n",
    "                  )"
   ]
  },
  {
   "cell_type": "markdown",
   "metadata": {},
   "source": [
    "### <font color=#5F66A1>garage</font>"
   ]
  },
  {
   "cell_type": "code",
   "execution_count": 7,
   "metadata": {
    "ExecuteTime": {
     "end_time": "2019-05-22T14:51:20.301770Z",
     "start_time": "2019-05-22T14:51:20.287798Z"
    },
    "pycharm": {
     "name": "#%%\n"
    }
   },
   "outputs": [
    {
     "name": "stdout",
     "output_type": "stream",
     "text": [
      "['plaza de garaje incluida en el precio' nan\n",
      " 'plaza de garaje por 9.500 eur adicionales'\n",
      " 'plaza de garaje por 15.000 eur adicionales'\n",
      " 'plaza de garaje por 50.000 eur adicionales'\n",
      " 'plaza de garaje por 24.451 eur adicionales'\n",
      " 'plaza de garaje por 24.452 eur adicionales'\n",
      " 'plaza de garaje por 12.000 eur adicionales'\n",
      " 'plaza de garaje por 33.000 eur adicionales'\n",
      " 'plaza de garaje por 400.000 eur adicionales']\n"
     ]
    }
   ],
   "source": [
    "print(df.garage.unique()[:10])"
   ]
  },
  {
   "cell_type": "markdown",
   "metadata": {},
   "source": [
    "Vemos que la variable refleja el precio de la plaza de garaje en forma de texto. Por lo tanto, extraemos el precio del texto y establecemos que la variable sea numérica:"
   ]
  },
  {
   "cell_type": "code",
   "execution_count": 8,
   "metadata": {
    "ExecuteTime": {
     "end_time": "2019-05-22T14:51:20.348772Z",
     "start_time": "2019-05-22T14:51:20.306772Z"
    },
    "pycharm": {
     "name": "#%%\n"
    }
   },
   "outputs": [],
   "source": [
    "df['garage'] = (df['garage']\n",
    "                .str.replace('plaza de garaje incluida en el precio','0')\n",
    "                .str.replace('.','')\n",
    "                .str.extract('(\\d{1,4})')\n",
    "                .astype('float64')\n",
    "               )"
   ]
  },
  {
   "cell_type": "markdown",
   "metadata": {},
   "source": [
    "## Estandarización de variables categóricas"
   ]
  },
  {
   "cell_type": "markdown",
   "metadata": {},
   "source": [
    "### <font color=#5F66A1>condition</font>"
   ]
  },
  {
   "cell_type": "code",
   "execution_count": 9,
   "metadata": {
    "ExecuteTime": {
     "end_time": "2019-05-22T14:51:20.356771Z",
     "start_time": "2019-05-22T14:51:20.350781Z"
    },
    "pycharm": {
     "name": "#%%\n"
    }
   },
   "outputs": [
    {
     "name": "stdout",
     "output_type": "stream",
     "text": [
      "['segunda mano/buen estado' 'segunda mano/para reformar' nan\n",
      " 'promoción de obra nueva']\n"
     ]
    }
   ],
   "source": [
    "print(df.condition.unique())"
   ]
  },
  {
   "cell_type": "markdown",
   "metadata": {},
   "source": [
    "Vemos que hay 3 posibles categorías. Redefinimos los nombres de las categorías para mejorar su interpretabilidad."
   ]
  },
  {
   "cell_type": "code",
   "execution_count": 10,
   "metadata": {
    "ExecuteTime": {
     "end_time": "2019-05-22T14:51:20.401770Z",
     "start_time": "2019-05-22T14:51:20.358770Z"
    },
    "pycharm": {
     "name": "#%%\n"
    }
   },
   "outputs": [],
   "source": [
    "df = df.replace({'condition':\n",
    "                 {\n",
    "                  'segunda mano/buen estado':'buen estado',\n",
    "                  'segunda mano/para reformar':'para reformar',\n",
    "                  'promoción de obra nueva':'obra nueva'\n",
    "                 }})\n",
    "\n",
    "df['condition'] = df['condition'].astype('category')"
   ]
  },
  {
   "cell_type": "markdown",
   "metadata": {},
   "source": [
    "### <font color=#5F66A1>energetic_certif</font>"
   ]
  },
  {
   "cell_type": "code",
   "execution_count": 11,
   "metadata": {
    "ExecuteTime": {
     "end_time": "2019-05-22T14:51:20.410770Z",
     "start_time": "2019-05-22T14:51:20.403769Z"
    },
    "pycharm": {
     "name": "#%%\n"
    }
   },
   "outputs": [
    {
     "name": "stdout",
     "output_type": "stream",
     "text": [
      "['en trámite' 'no indicado' nan 'inmueble exento']\n"
     ]
    }
   ],
   "source": [
    "print(df.energetic_certif.unique())"
   ]
  },
  {
   "cell_type": "markdown",
   "metadata": {},
   "source": [
    "No requiere ningun tratamiento salvo definirla como categórica:"
   ]
  },
  {
   "cell_type": "code",
   "execution_count": 12,
   "metadata": {
    "ExecuteTime": {
     "end_time": "2019-05-22T14:51:20.423770Z",
     "start_time": "2019-05-22T14:51:20.412772Z"
    },
    "pycharm": {
     "name": "#%%\n"
    }
   },
   "outputs": [],
   "source": [
    "df['energetic_certif'] = df['energetic_certif'].astype('category')"
   ]
  },
  {
   "cell_type": "markdown",
   "metadata": {},
   "source": [
    "### <font color=#5F66A1>floor</font>"
   ]
  },
  {
   "cell_type": "code",
   "execution_count": 13,
   "metadata": {
    "ExecuteTime": {
     "end_time": "2019-05-22T14:51:20.433771Z",
     "start_time": "2019-05-22T14:51:20.426774Z"
    },
    "pycharm": {
     "name": "#%%\n"
    }
   },
   "outputs": [
    {
     "name": "stdout",
     "output_type": "stream",
     "text": [
      "['3 plantas' 'planta 1ª exterior' '2 plantas' nan 'bajo exterior'\n",
      " 'planta 3ª exterior' 'planta 5ª exterior' 'planta 2ª exterior' '1 planta'\n",
      " 'planta 1ª' 'planta 4ª exterior' 'planta 2ª' 'planta 3ª' 'bajo'\n",
      " 'planta 4ª']\n"
     ]
    }
   ],
   "source": [
    "print(df.floor.unique()[:15])"
   ]
  },
  {
   "cell_type": "markdown",
   "metadata": {},
   "source": [
    "Vemos que, a grandes rasgos, esta variable esconde lo que podrían ser 3 variables distintas:\n",
    "\n",
    "+ Número de planta en la que se encuentra el domicilio\n",
    "+ Indicador de si la planta está en el interior o en el exterior\n",
    "+ Número de plantas de las que consta el domicilio\n",
    "\n",
    "Por lo tanto, se procede a dividir la variable en 3. \n",
    "\n",
    "<br />\n",
    "\n",
    "Empezamos generando la variable booleana <font color=#5F66A1>__indoor__</font>, que tomará el valor True si el domicilio está en el interior, y False en el caso contrario:"
   ]
  },
  {
   "cell_type": "code",
   "execution_count": 14,
   "metadata": {
    "ExecuteTime": {
     "end_time": "2019-05-22T14:51:20.465771Z",
     "start_time": "2019-05-22T14:51:20.436773Z"
    },
    "pycharm": {
     "name": "#%%\n"
    }
   },
   "outputs": [
    {
     "name": "stdout",
     "output_type": "stream",
     "text": [
      "[False, NaN, True]\n",
      "Categories (2, object): [False, True]\n"
     ]
    }
   ],
   "source": [
    "df['indoor'] = (df['floor']\n",
    "                .str.contains('interior')\n",
    "                .astype('category')   # no se define como bool porque aún contiene NaN\n",
    "               )\n",
    "\n",
    "print(df['indoor'].unique())"
   ]
  },
  {
   "cell_type": "markdown",
   "metadata": {},
   "source": [
    "<br />\n",
    "\n",
    "A continuación crearemos la variable <font color=#5F66A1>__floor_count__</font>, que recogerá el número de plantas de las que consta la casa.\n",
    "\n",
    "Para ello, empezamos asignando como valor 1 a todas las casas que tengan información sobre la planta (las que estan como NaN las dejaremos por ahora tal cual, puesto que no tenemos información al respecto)"
   ]
  },
  {
   "cell_type": "code",
   "execution_count": 15,
   "metadata": {
    "ExecuteTime": {
     "end_time": "2019-05-22T14:51:20.528775Z",
     "start_time": "2019-05-22T14:51:20.467771Z"
    },
    "pycharm": {
     "name": "#%%\n"
    }
   },
   "outputs": [],
   "source": [
    "df['floor_count'] = np.nan\n",
    "df['floor_count'][df.floor.notna()] = 1"
   ]
  },
  {
   "cell_type": "markdown",
   "metadata": {},
   "source": [
    "A continuación, añadiremos la información sobre las casas con más de una planta. Para ello, seleccionaremos todas las celdas que contengan la palabra 'plantas' (en plural), y de allí extraeremos el número por medio de una expresión regular:"
   ]
  },
  {
   "cell_type": "code",
   "execution_count": 16,
   "metadata": {
    "ExecuteTime": {
     "end_time": "2019-05-22T14:51:20.555769Z",
     "start_time": "2019-05-22T14:51:20.530771Z"
    },
    "pycharm": {
     "name": "#%%\n"
    }
   },
   "outputs": [],
   "source": [
    "f_c = (df['floor'][df.floor.str.contains('plantas', na=False)]\n",
    "       .str.extract('(\\d+)')\n",
    "       .astype('float64')\n",
    "       .rename(columns={0:'floor_count'})\n",
    "      )"
   ]
  },
  {
   "cell_type": "markdown",
   "metadata": {},
   "source": [
    "Una vez hemos extraído el número de plantas de las casas con más de una, actualizamos la variable:"
   ]
  },
  {
   "cell_type": "code",
   "execution_count": 17,
   "metadata": {
    "ExecuteTime": {
     "end_time": "2019-05-22T14:51:20.602774Z",
     "start_time": "2019-05-22T14:51:20.557774Z"
    },
    "pycharm": {
     "name": "#%%\n"
    }
   },
   "outputs": [
    {
     "name": "stdout",
     "output_type": "stream",
     "text": [
      "[ 3.  1.  2. nan  4.  5.]\n"
     ]
    }
   ],
   "source": [
    "df.update(f_c)\n",
    "print(df.floor_count.unique())"
   ]
  },
  {
   "cell_type": "markdown",
   "metadata": {},
   "source": [
    "<br />\n",
    "\n",
    "Por último modificaremos la variable <font color=#5F66A1>__floor__</font>, para que solo recoja el número de planta en el que se encuentra el piso:"
   ]
  },
  {
   "cell_type": "code",
   "execution_count": 18,
   "metadata": {
    "ExecuteTime": {
     "end_time": "2019-05-22T14:51:20.670651Z",
     "start_time": "2019-05-22T14:51:20.603770Z"
    },
    "pycharm": {
     "name": "#%%\n"
    }
   },
   "outputs": [
    {
     "name": "stdout",
     "output_type": "stream",
     "text": [
      "[NaN, 1ª, bajo, 3ª, 5ª, ..., 21ª, 19ª, 30ª, 17ª, 24ª]\n",
      "Length: 31\n",
      "Categories (30, object): [1ª, bajo, 3ª, 5ª, ..., 19ª, 30ª, 17ª, 24ª]\n"
     ]
    }
   ],
   "source": [
    "df['floor'] = (df['floor']\n",
    "               .str.replace('(exterior|interior|1 planta)', '')\n",
    "               .str.replace('(\\d+) plantas', '')\n",
    "               .str.strip()\n",
    "               .str.replace('planta ', '')\n",
    "               .replace('', np.nan)\n",
    "               .astype('category')\n",
    "              )\n",
    "\n",
    "print(df.floor.unique())"
   ]
  },
  {
   "cell_type": "markdown",
   "metadata": {},
   "source": [
    "Vemos que hay 30 categorías distintas, lo cual parece excesivo para diferenciar distitos números de planta. Por ello, exploramos si podemos colapsar ciertas categorías."
   ]
  },
  {
   "cell_type": "code",
   "execution_count": 19,
   "metadata": {
    "ExecuteTime": {
     "end_time": "2019-05-22T14:51:20.708636Z",
     "start_time": "2019-05-22T14:51:20.671634Z"
    }
   },
   "outputs": [
    {
     "data": {
      "text/plain": [
       "floor\n",
       "1ª             4536\n",
       "2ª             4130\n",
       "3ª             3810\n",
       "4ª             2776\n",
       "5ª             1818\n",
       "bajo           1465\n",
       "6ª              911\n",
       "7ª              456\n",
       "8ª              187\n",
       "entreplanta     179\n",
       "9ª              130\n",
       "10ª              80\n",
       "11ª              51\n",
       "12ª              31\n",
       "14ª              27\n",
       "13ª              23\n",
       "15ª              16\n",
       "16ª              11\n",
       "sótano           11\n",
       "semi-sótano       8\n",
       "21ª               5\n",
       "-1                4\n",
       "60ª               4\n",
       "18ª               4\n",
       "-2                3\n",
       "20ª               3\n",
       "17ª               3\n",
       "30ª               1\n",
       "19ª               1\n",
       "24ª               1\n",
       "Name: house_id, dtype: int64"
      ]
     },
     "execution_count": 19,
     "metadata": {},
     "output_type": "execute_result"
    }
   ],
   "source": [
    "df.groupby('floor').count().sort_values('house_id',ascending=False)['house_id']"
   ]
  },
  {
   "cell_type": "markdown",
   "metadata": {},
   "source": [
    "En vista de la dispersión de viviendas en función de la planta, se opta por colapsar todas aquellas por encima de la 7ª. Además, se hará lo propio con las plantas por debajo del 1º (entreplantas, bajos, sótanos, ...). Finalmente, se observan casos como planta núm. 60ª y 30ª, las cuales parecen errores tipográficos, por lo que se corrigen como 6ª y 3ª respectivamente:"
   ]
  },
  {
   "cell_type": "code",
   "execution_count": 20,
   "metadata": {
    "ExecuteTime": {
     "end_time": "2019-05-22T14:51:20.765635Z",
     "start_time": "2019-05-22T14:51:20.709635Z"
    }
   },
   "outputs": [
    {
     "name": "stdout",
     "output_type": "stream",
     "text": [
      "[nan '1ª' '<0ª' '3ª' '5ª' '2ª' '4ª' '6ª' '7ª' '>8ª']\n"
     ]
    }
   ],
   "source": [
    "df['floor'] = (df['floor']\n",
    "               .str.replace('(bajo|entreplanta|semi-sótano|sótano|-1|-2)','<0ª')\n",
    "               .str.replace('60ª','6ª')\n",
    "               .str.replace('30ª','3ª')\n",
    "               .str.replace(r'(24ª|23ª|22ª|21ª|20ª|19ª|18ª|17ª|9ª|8ª)', '>8ª')\n",
    "               .str.replace(r'(16ª|15ª|14ª|13ª|12ª|11ª|10ª)', '>8ª')        \n",
    "              )\n",
    "\n",
    "print(df.floor.unique())"
   ]
  },
  {
   "cell_type": "markdown",
   "metadata": {},
   "source": [
    "### <font color=#5F66A1>heating</font>"
   ]
  },
  {
   "cell_type": "code",
   "execution_count": 21,
   "metadata": {
    "ExecuteTime": {
     "end_time": "2019-05-22T14:51:20.774655Z",
     "start_time": "2019-05-22T14:51:20.767637Z"
    },
    "pycharm": {
     "name": "#%%\n"
    }
   },
   "outputs": [
    {
     "name": "stdout",
     "output_type": "stream",
     "text": [
      "[nan 'calefacción individual: gas natural' 'calefacción individual'\n",
      " 'no dispone de calefacción' 'calefacción central: gasoil'\n",
      " 'calefacción individual: eléctrica'\n",
      " 'calefacción individual: gas propano/butano' 'calefacción central'\n",
      " 'calefacción central: gas' 'calefacción individual: gas'\n",
      " 'calefacción individual: bomba de frío/calor'\n",
      " 'calefacción central: gas propano/butano'\n",
      " 'calefacción central: gas natural' 'calefacción individual: gasoil'\n",
      " 'calefacción central: eléctrica']\n"
     ]
    }
   ],
   "source": [
    "print(df.heating.unique())"
   ]
  },
  {
   "cell_type": "markdown",
   "metadata": {},
   "source": [
    "Sustraemos la palabra 'calefacción' para mayor interpretabilidad, y la definimos como categórica:"
   ]
  },
  {
   "cell_type": "code",
   "execution_count": 22,
   "metadata": {
    "ExecuteTime": {
     "end_time": "2019-05-22T14:51:20.796656Z",
     "start_time": "2019-05-22T14:51:20.777662Z"
    },
    "pycharm": {
     "name": "#%%\n"
    }
   },
   "outputs": [],
   "source": [
    "df['heating'] = (df['heating']\n",
    "                 .str.replace('calefacción ', '')\n",
    "                 .astype('category')\n",
    "                )"
   ]
  },
  {
   "cell_type": "markdown",
   "metadata": {},
   "source": [
    "### <font color=#5F66A1>house_type</font>"
   ]
  },
  {
   "cell_type": "code",
   "execution_count": 23,
   "metadata": {
    "ExecuteTime": {
     "end_time": "2019-05-22T14:51:20.854638Z",
     "start_time": "2019-05-22T14:51:20.801636Z"
    },
    "pycharm": {
     "name": "#%%\n"
    }
   },
   "outputs": [
    {
     "data": {
      "text/plain": [
       "house_type\n",
       "Piso                                       18312\n",
       "Alquiler de Piso                            1885\n",
       "Casa o chalet independiente                 1070\n",
       "Casa o chalet                                856\n",
       "Chalet adosado                               807\n",
       "Dúplex                                       755\n",
       "Ático                                        499\n",
       "Chalet pareado                               392\n",
       "Casa rural                                   185\n",
       "Finca rústica                                142\n",
       "Estudio                                      111\n",
       "Alquiler de Ático                             85\n",
       "Caserón                                       74\n",
       "Casa de pueblo                                67\n",
       "Alquiler de Dúplex                            51\n",
       "Alquiler de Casa o chalet independiente       23\n",
       "Alquiler de Chalet adosado                    21\n",
       "Alquiler de Estudio                           20\n",
       "Alquiler de Chalet pareado                    11\n",
       "Alquiler de Casa o chalet                     10\n",
       "Alquiler de Casa rural                         5\n",
       "Palacio                                        4\n",
       "Torre                                          4\n",
       "Alquiler de Finca rústica                      4\n",
       "Casa terrera                                   2\n",
       "Castillo                                       1\n",
       "Cortijo                                        1\n",
       "Alquiler de Caserón                            1\n",
       "Alquiler de Casa de pueblo                     1\n",
       "Name: house_id, dtype: int64"
      ]
     },
     "execution_count": 23,
     "metadata": {},
     "output_type": "execute_result"
    }
   ],
   "source": [
    "df['house_type'] = (df['house_type']\n",
    "                    .str.strip()\n",
    "                    .astype('category')\n",
    "                   )\n",
    "\n",
    "df.groupby('house_type').count().sort_values('house_id',ascending=False)['house_id']"
   ]
  },
  {
   "cell_type": "markdown",
   "metadata": {},
   "source": [
    "Vemos nuevamente, que hay excesivas categorías. Colapsamos algunos:"
   ]
  },
  {
   "cell_type": "code",
   "execution_count": 24,
   "metadata": {
    "ExecuteTime": {
     "end_time": "2019-05-22T14:51:20.918635Z",
     "start_time": "2019-05-22T14:51:20.857638Z"
    }
   },
   "outputs": [
    {
     "name": "stdout",
     "output_type": "stream",
     "text": [
      "['Casa o chalet' 'Piso' 'Casa rural' 'Dúplex' 'Chalet adosado'\n",
      " 'Finca rústica' 'Ático' 'Estudio' 'Otros' 'Alquiler']\n"
     ]
    }
   ],
   "source": [
    "df['house_type'] = (df['house_type']\n",
    "                    .str.replace(r'Alquiler .*','Alquiler')\n",
    "                    .str.replace(' independiente','')\n",
    "                    .str.replace('pareado','adosado')\n",
    "                    .str.replace(r'(Caserón|Casa de pueblo|Casa terrera)','Casa rural')\n",
    "                    .str.replace(r'(Palacio|Torre|Castillo|Cortijo)','Otros')\n",
    "                   )\n",
    "                    \n",
    "print(df.house_type.unique())"
   ]
  },
  {
   "cell_type": "markdown",
   "metadata": {},
   "source": [
    "### <font color=#5F66A1>orientation</font>"
   ]
  },
  {
   "cell_type": "code",
   "execution_count": 25,
   "metadata": {
    "ExecuteTime": {
     "end_time": "2019-05-22T14:51:20.927638Z",
     "start_time": "2019-05-22T14:51:20.920638Z"
    },
    "pycharm": {
     "name": "#%%\n"
    }
   },
   "outputs": [
    {
     "name": "stdout",
     "output_type": "stream",
     "text": [
      "[nan 'sur' 'sur, este, oeste' 'este, oeste' 'norte' 'norte, sur, este'\n",
      " 'este' 'sur, este' 'sur, oeste' 'norte, este, oeste' 'norte, sur'\n",
      " 'norte, sur, este, oeste' 'norte, este' 'norte, sur, oeste' 'oeste'\n",
      " 'norte, oeste']\n"
     ]
    }
   ],
   "source": [
    "print(df.orientation.unique())"
   ]
  },
  {
   "cell_type": "markdown",
   "metadata": {},
   "source": [
    "No requiere estandarización salvo definirla como categórica:"
   ]
  },
  {
   "cell_type": "code",
   "execution_count": 26,
   "metadata": {
    "ExecuteTime": {
     "end_time": "2019-05-22T14:51:20.940638Z",
     "start_time": "2019-05-22T14:51:20.930636Z"
    },
    "pycharm": {
     "name": "#%%\n"
    }
   },
   "outputs": [],
   "source": [
    "df['orientation'] = (df['orientation'].astype('category'))"
   ]
  },
  {
   "cell_type": "markdown",
   "metadata": {},
   "source": [
    "## Estandarización de variables booleanas"
   ]
  },
  {
   "cell_type": "markdown",
   "metadata": {},
   "source": [
    "Analizamos qué valores tienen las variables booleanas:"
   ]
  },
  {
   "cell_type": "code",
   "execution_count": 27,
   "metadata": {
    "ExecuteTime": {
     "end_time": "2019-05-22T14:51:20.968641Z",
     "start_time": "2019-05-22T14:51:20.943641Z"
    },
    "pycharm": {
     "name": "#%%\n"
    }
   },
   "outputs": [
    {
     "name": "stdout",
     "output_type": "stream",
     "text": [
      "Valores para \u001b[94mair_conditioner\u001b[0m: [0 1]\n",
      "Valores para \u001b[94mbalcony\u001b[0m: [1 0]\n",
      "Valores para \u001b[94mbuilt_in_wardrobe\u001b[0m: [1 0]\n",
      "Valores para \u001b[94mchimney\u001b[0m: [0 1]\n",
      "Valores para \u001b[94mgarden\u001b[0m: [1 0]\n",
      "Valores para \u001b[94mkitchen\u001b[0m: [nan  1.]\n",
      "Valores para \u001b[94mlift\u001b[0m: [nan  0.  1.]\n",
      "Valores para \u001b[94mreduced_mobility\u001b[0m: [0 1]\n",
      "Valores para \u001b[94mstorage_room\u001b[0m: [1 0]\n",
      "Valores para \u001b[94mswimming_pool\u001b[0m: [1 0]\n",
      "Valores para \u001b[94mterrace\u001b[0m: [0 1]\n",
      "Valores para \u001b[94munfurnished\u001b[0m: [nan  1.]\n"
     ]
    }
   ],
   "source": [
    "print(f'Valores para {b}air_conditioner{n}: {df.air_conditioner.unique()}')\n",
    "print(f'Valores para {b}balcony{n}: {df.balcony.unique()}')\n",
    "print(f'Valores para {b}built_in_wardrobe{n}: {df.built_in_wardrobe.unique()}')\n",
    "print(f'Valores para {b}chimney{n}: {df.chimney.unique()}')\n",
    "print(f'Valores para {b}garden{n}: {df.garden.unique()}')\n",
    "print(f'Valores para {b}kitchen{n}: {df.kitchen.unique()}')\n",
    "print(f'Valores para {b}lift{n}: {df.lift.unique()}')\n",
    "print(f'Valores para {b}reduced_mobility{n}: {df.reduced_mobility.unique()}')\n",
    "print(f'Valores para {b}storage_room{n}: {df.storage_room.unique()}')\n",
    "print(f'Valores para {b}swimming_pool{n}: {df.swimming_pool.unique()}')\n",
    "print(f'Valores para {b}terrace{n}: {df.terrace.unique()}')\n",
    "print(f'Valores para {b}unfurnished{n}: {df.unfurnished.unique()}')"
   ]
  },
  {
   "cell_type": "markdown",
   "metadata": {},
   "source": [
    "Dado que las variables <font color=#5F66A1>__kitchen__</font> y <font color=#5F66A1>__unfurnished__</font> son variables ligadas exclusivamente a casas de alquiler, las eliminamos:"
   ]
  },
  {
   "cell_type": "code",
   "execution_count": 28,
   "metadata": {
    "ExecuteTime": {
     "end_time": "2019-05-22T14:51:20.993619Z",
     "start_time": "2019-05-22T14:51:20.970623Z"
    },
    "pycharm": {
     "name": "#%%\n"
    }
   },
   "outputs": [],
   "source": [
    "df = df.drop(columns=['kitchen', 'unfurnished'])"
   ]
  },
  {
   "cell_type": "markdown",
   "metadata": {},
   "source": [
    "Por otra parte, vemos que la variable <font color=#5F66A1>__lift__</font>, a pesar de ser booleana, contiene valores NaN, por lo que la definimos como categórica por ahora:"
   ]
  },
  {
   "cell_type": "code",
   "execution_count": 29,
   "metadata": {
    "ExecuteTime": {
     "end_time": "2019-05-22T14:51:21.009625Z",
     "start_time": "2019-05-22T14:51:20.996618Z"
    },
    "pycharm": {
     "name": "#%%\n"
    }
   },
   "outputs": [],
   "source": [
    "df['lift'] = df['lift'].astype('category')"
   ]
  },
  {
   "cell_type": "markdown",
   "metadata": {},
   "source": [
    "Finalmente, el resto de variables categóricas las definimos como booleanas:"
   ]
  },
  {
   "cell_type": "code",
   "execution_count": 30,
   "metadata": {
    "ExecuteTime": {
     "end_time": "2019-05-22T14:51:21.048618Z",
     "start_time": "2019-05-22T14:51:21.012618Z"
    },
    "pycharm": {
     "name": "#%%\n"
    }
   },
   "outputs": [],
   "source": [
    "df['air_conditioner'] = df['air_conditioner'].astype('bool')\n",
    "df['balcony'] = df['balcony'].astype('bool')\n",
    "df['built_in_wardrobe'] = df['built_in_wardrobe'].astype('bool')\n",
    "df['chimney'] = df['chimney'].astype('bool')\n",
    "df['garden'] = df['garden'].astype('bool')\n",
    "df['reduced_mobility'] = df['reduced_mobility'].astype('bool')\n",
    "df['storage_room'] = df['storage_room'].astype('bool')\n",
    "df['swimming_pool'] = df['swimming_pool'].astype('bool')\n",
    "df['terrace'] = df['terrace'].astype('bool')"
   ]
  },
  {
   "cell_type": "code",
   "execution_count": 31,
   "metadata": {
    "ExecuteTime": {
     "end_time": "2019-05-22T14:51:21.073653Z",
     "start_time": "2019-05-22T14:51:21.051617Z"
    }
   },
   "outputs": [
    {
     "name": "stdout",
     "output_type": "stream",
     "text": [
      "Nuevos valores para \u001b[94mair_conditioner\u001b[0m: [False  True]\n",
      "Nuevos valores para \u001b[94mbalcony\u001b[0m: [ True False]\n",
      "Nuevos valores para \u001b[94mbuilt_in_wardrobe\u001b[0m: [ True False]\n",
      "Nuevos valores para \u001b[94mchimney\u001b[0m: [False  True]\n",
      "Nuevos valores para \u001b[94mgarden\u001b[0m: [ True False]\n",
      "Nuevos valores para \u001b[94mlift\u001b[0m: [NaN, 0.0, 1.0]\n",
      "Categories (2, float64): [0.0, 1.0]\n",
      "Nuevos valores para \u001b[94mreduced_mobility\u001b[0m: [False  True]\n",
      "Nuevos valores para \u001b[94mstorage_room\u001b[0m: [ True False]\n",
      "Nuevos valores para \u001b[94mswimming_pool\u001b[0m: [ True False]\n",
      "Nuevos valores para \u001b[94mterrace\u001b[0m: [False  True]\n"
     ]
    }
   ],
   "source": [
    "print(f'Nuevos valores para {b}air_conditioner{n}: {df.air_conditioner.unique()}')\n",
    "print(f'Nuevos valores para {b}balcony{n}: {df.balcony.unique()}')\n",
    "print(f'Nuevos valores para {b}built_in_wardrobe{n}: {df.built_in_wardrobe.unique()}')\n",
    "print(f'Nuevos valores para {b}chimney{n}: {df.chimney.unique()}')\n",
    "print(f'Nuevos valores para {b}garden{n}: {df.garden.unique()}')\n",
    "print(f'Nuevos valores para {b}lift{n}: {df.lift.unique()}')\n",
    "print(f'Nuevos valores para {b}reduced_mobility{n}: {df.reduced_mobility.unique()}')\n",
    "print(f'Nuevos valores para {b}storage_room{n}: {df.storage_room.unique()}')\n",
    "print(f'Nuevos valores para {b}swimming_pool{n}: {df.swimming_pool.unique()}')\n",
    "print(f'Nuevos valores para {b}terrace{n}: {df.terrace.unique()}')"
   ]
  },
  {
   "cell_type": "markdown",
   "metadata": {},
   "source": [
    "## Estandarización de variables ligadas a la ubicación"
   ]
  },
  {
   "cell_type": "markdown",
   "metadata": {},
   "source": [
    "La localización de cada vivienda viene especificada por medio de 4 variables distintas, las cuales están organizadas de forma jerárquica del siguiente modo:\n",
    "\n",
    "+ <font color=#5F66A1>__loc_zone__</font> &nbsp; > &nbsp;<font color=#5F66A1>__loc_city__</font> &nbsp;> &nbsp;<font color=#5F66A1>__loc_district__</font> &nbsp;> &nbsp;<font color=#5F66A1>__loc_neigh__</font>"
   ]
  },
  {
   "cell_type": "markdown",
   "metadata": {},
   "source": [
    "### <font color=#5F66A1>loc_zone</font>"
   ]
  },
  {
   "cell_type": "code",
   "execution_count": 32,
   "metadata": {
    "ExecuteTime": {
     "end_time": "2019-05-22T14:51:21.083649Z",
     "start_time": "2019-05-22T14:51:21.075652Z"
    },
    "pycharm": {
     "name": "#%%\n"
    }
   },
   "outputs": [
    {
     "name": "stdout",
     "output_type": "stream",
     "text": [
      "['Encartaciones, Vizcaya' 'Lea-Artibai, Vizcaya' 'Duranguesado, Vizcaya'\n",
      " 'Gran Bilbao, Vizcaya' 'Busturialdea, Vizcaya' 'Arratia-Nervión, Vizcaya'\n",
      " 'Uribe-Butroe, Vizcaya' 'Tolosaldea, Guipúzcoa' 'Donostialdea, Guipúzcoa'\n",
      " 'Alto Deba, Guipúzcoa' 'Bajo Bidasoa, Guipúzcoa' 'Bajo Deba, Guipúzcoa'\n",
      " 'Goierri, Guipúzcoa' 'Urola Kosta, Guipúzcoa']\n"
     ]
    }
   ],
   "source": [
    "print(df.loc_zone.unique())"
   ]
  },
  {
   "cell_type": "markdown",
   "metadata": {},
   "source": [
    "Definimos las provincias con las iniciales y convertimos la variable en categórica:"
   ]
  },
  {
   "cell_type": "code",
   "execution_count": 33,
   "metadata": {
    "ExecuteTime": {
     "end_time": "2019-05-22T14:51:21.150649Z",
     "start_time": "2019-05-22T14:51:21.085651Z"
    },
    "pycharm": {
     "name": "#%%\n"
    }
   },
   "outputs": [
    {
     "name": "stdout",
     "output_type": "stream",
     "text": [
      "Número de zonas: 14\n"
     ]
    }
   ],
   "source": [
    "df['loc_zone'] = (df['loc_zone']\n",
    "                  .str.replace(', Vizcaya',' (BIZ)')\n",
    "                  .str.replace(', Guipúzcoa',' (GIP)')\n",
    "                  .astype('category')\n",
    "                 )\n",
    "\n",
    "print(f\"Número de zonas: {len(df.loc_zone.unique())}\")"
   ]
  },
  {
   "cell_type": "markdown",
   "metadata": {},
   "source": [
    "### <font color=#5F66A1>loc_city</font>"
   ]
  },
  {
   "cell_type": "code",
   "execution_count": 34,
   "metadata": {
    "ExecuteTime": {
     "end_time": "2019-05-22T14:51:21.160162Z",
     "start_time": "2019-05-22T14:51:21.152650Z"
    },
    "pycharm": {
     "name": "#%%\n"
    }
   },
   "outputs": [
    {
     "name": "stdout",
     "output_type": "stream",
     "text": [
      "['Gordexola' 'Karrantza Harana/Valle de Carranza' 'Balmaseda' 'Güeñes'\n",
      " 'Zalla' 'Artzentales' 'Sopuerta' 'Galdames' 'Trucios-Turtzioz'\n",
      " 'Lanestosa' 'Mendexa' 'Lekeitio' 'Berriatua' 'Ondarroa' 'Amoroto']\n"
     ]
    }
   ],
   "source": [
    "print(df.loc_city.unique()[:15])"
   ]
  },
  {
   "cell_type": "markdown",
   "metadata": {},
   "source": [
    "Los valores están ya lo suficientemente estandarizados, por lo que los dejamos como están, y establecemos la variable como categórica:"
   ]
  },
  {
   "cell_type": "code",
   "execution_count": 35,
   "metadata": {
    "ExecuteTime": {
     "end_time": "2019-05-22T14:51:21.173687Z",
     "start_time": "2019-05-22T14:51:21.162165Z"
    },
    "pycharm": {
     "name": "#%%\n"
    }
   },
   "outputs": [
    {
     "name": "stdout",
     "output_type": "stream",
     "text": [
      "Número de pueblos/ciudades: 197\n"
     ]
    }
   ],
   "source": [
    "df['loc_city'] = df['loc_city'].astype('category')\n",
    "print(f\"Número de pueblos/ciudades: {len(df.loc_city.unique())}\")"
   ]
  },
  {
   "cell_type": "markdown",
   "metadata": {},
   "source": [
    "### <font color=#5F66A1>loc_district</font>"
   ]
  },
  {
   "cell_type": "code",
   "execution_count": 36,
   "metadata": {
    "ExecuteTime": {
     "end_time": "2019-05-22T14:51:21.184684Z",
     "start_time": "2019-05-22T14:51:21.175687Z"
    },
    "pycharm": {
     "name": "#%%\n"
    }
   },
   "outputs": [
    {
     "name": "stdout",
     "output_type": "stream",
     "text": [
      "Número de distritos: 5760\n"
     ]
    }
   ],
   "source": [
    "print(f\"Número de distritos: {len(df.loc_district.unique())}\")"
   ]
  },
  {
   "cell_type": "markdown",
   "metadata": {
    "variables": {
     "len(df.loc_district.unique())": "<p><strong>NameError</strong>: name &#39;df&#39; is not defined</p>\n"
    }
   },
   "source": [
    "Vemos que hay {{len(df.loc_district.unique())}} distritos distintos. No obstante, en muchos casos, en vez del distrito como tal, el campo guarda información relativa a la calle, urbanización, etc., como puede verse a continuación:"
   ]
  },
  {
   "cell_type": "code",
   "execution_count": 37,
   "metadata": {
    "ExecuteTime": {
     "end_time": "2019-05-22T14:51:21.212688Z",
     "start_time": "2019-05-22T14:51:21.186686Z"
    },
    "pycharm": {
     "name": "#%%\n"
    }
   },
   "outputs": [
    {
     "name": "stdout",
     "output_type": "stream",
     "text": [
      "4996     Distrito Las Arenas\n",
      "2745       Distrito Kabiezes\n",
      "15737                Elortza\n",
      "8422       Distrito Uribarri\n",
      "20930    Calle Gure Zumardia\n",
      "Name: loc_district, dtype: object\n"
     ]
    }
   ],
   "source": [
    "print(df.sample(frac=1, random_state=89)['loc_district'][df.loc_district.notna()].head(5))"
   ]
  },
  {
   "cell_type": "markdown",
   "metadata": {},
   "source": [
    "Dado que cada distrito está precedido por la palabra __Distrito__, eliminamos todos los valores que no coincidan con este patrón:"
   ]
  },
  {
   "cell_type": "code",
   "execution_count": 38,
   "metadata": {
    "ExecuteTime": {
     "end_time": "2019-05-22T14:51:21.256688Z",
     "start_time": "2019-05-22T14:51:21.213686Z"
    },
    "pycharm": {
     "name": "#%%\n"
    }
   },
   "outputs": [],
   "source": [
    "df['loc_district'] = (df['loc_district']\n",
    "                      .str.extract(r'(Distrito .*)')[0]\n",
    "                      .str.replace('Distrito ','')\n",
    "                     )"
   ]
  },
  {
   "cell_type": "markdown",
   "metadata": {},
   "source": [
    "Por otro lado, para asegurarnos de que no haya distritos distintos compartiendo un mismo nombre, agregaremos las iniciales de cada ciudad:"
   ]
  },
  {
   "cell_type": "code",
   "execution_count": 39,
   "metadata": {
    "ExecuteTime": {
     "end_time": "2019-05-22T14:51:21.293686Z",
     "start_time": "2019-05-22T14:51:21.258688Z"
    },
    "pycharm": {
     "name": "#%%\n"
    }
   },
   "outputs": [
    {
     "name": "stdout",
     "output_type": "stream",
     "text": [
      "4996           Las Arenas (Getx)\n",
      "2745             Kabiezes (Sant)\n",
      "8422             Uribarri (Bilb)\n",
      "21150    Loiola-Martutene (Dono)\n",
      "14475            Indautxu (Bilb)\n",
      "Name: loc_district, dtype: object\n"
     ]
    }
   ],
   "source": [
    "df['loc_district'] = (np.where(df.loc_district.notna()\n",
    "                      , df.loc_district+' ('+df.loc_city.str[:4]+')'\n",
    "                      , np.nan)\n",
    "                     )\n",
    "\n",
    "print(df.sample(frac=1, random_state=89)['loc_district'][df.loc_district.notna()].head(5))"
   ]
  },
  {
   "cell_type": "markdown",
   "metadata": {},
   "source": [
    "Finalmente, comprobamos el número de distritos que hay tras el proceso de limpieza:"
   ]
  },
  {
   "cell_type": "code",
   "execution_count": 40,
   "metadata": {
    "ExecuteTime": {
     "end_time": "2019-05-22T14:51:21.299686Z",
     "start_time": "2019-05-22T14:51:21.294686Z"
    },
    "pycharm": {
     "name": "#%%\n"
    }
   },
   "outputs": [
    {
     "name": "stdout",
     "output_type": "stream",
     "text": [
      "Número de distritos tras limpieza: 80\n"
     ]
    }
   ],
   "source": [
    "print(f\"Número de distritos tras limpieza: {len(df.loc_district.unique())}\")"
   ]
  },
  {
   "cell_type": "markdown",
   "metadata": {},
   "source": [
    "### <font color=#5F66A1>loc_neigh</font>"
   ]
  },
  {
   "cell_type": "code",
   "execution_count": 41,
   "metadata": {
    "ExecuteTime": {
     "end_time": "2019-05-22T14:51:21.307691Z",
     "start_time": "2019-05-22T14:51:21.301684Z"
    },
    "pycharm": {
     "name": "#%%\n"
    }
   },
   "outputs": [
    {
     "name": "stdout",
     "output_type": "stream",
     "text": [
      "Número de barrios: 3668\n"
     ]
    }
   ],
   "source": [
    "print(f\"Número de barrios: {len(df.loc_neigh.unique())}\")"
   ]
  },
  {
   "cell_type": "markdown",
   "metadata": {
    "variables": {
     "len(df.loc_neigh.unique())": "<p><strong>NameError</strong>: name &#39;df&#39; is not defined</p>\n"
    }
   },
   "source": [
    "Vemos que hay {{len(df.loc_neigh.unique())}} barrios distintos. Sin embargo, sucede lo mismo que sucedía con el distrito, que en vez del barrio, en muchos casos el campo guarda información relativa a la calle, urbanización, etc.:"
   ]
  },
  {
   "cell_type": "code",
   "execution_count": 42,
   "metadata": {
    "ExecuteTime": {
     "end_time": "2019-05-22T14:51:21.334690Z",
     "start_time": "2019-05-22T14:51:21.310688Z"
    },
    "pycharm": {
     "name": "#%%\n"
    }
   },
   "outputs": [
    {
     "name": "stdout",
     "output_type": "stream",
     "text": [
      "4996                   Barrio Las Arenas Centro\n",
      "8422     Barrio Mirador de Bilbao-Maurice Ravel\n",
      "21150                      Calle Apostolado s/n\n",
      "14475                          Barrio Alhondiga\n",
      "21542                            Calle Mirakruz\n",
      "Name: loc_neigh, dtype: object\n"
     ]
    }
   ],
   "source": [
    "print(df.sample(frac=1, random_state=89)['loc_neigh'][df.loc_neigh.notna()].head(5))"
   ]
  },
  {
   "cell_type": "markdown",
   "metadata": {},
   "source": [
    "En este caso, el barrio viene precedido siempre por la palabra __Barrio__. Así, repetimos el mismo proceso que en el anterior caso. No obstante, en esta ocasión limitamos la extracción de barrios solo a ciertos pueblos o ciudades:"
   ]
  },
  {
   "cell_type": "code",
   "execution_count": 43,
   "metadata": {
    "ExecuteTime": {
     "end_time": "2019-05-22T14:51:21.406622Z",
     "start_time": "2019-05-22T14:51:21.336692Z"
    },
    "run_control": {
     "marked": false
    }
   },
   "outputs": [
    {
     "name": "stdout",
     "output_type": "stream",
     "text": [
      "4996                   Las Arenas Centro (Getx)\n",
      "8422     Mirador de Bilbao-Maurice Ravel (Bilb)\n",
      "14475                          Alhondiga (Bilb)\n",
      "14546              Sabino Arana-Jesuitas (Bilb)\n",
      "8758                       San Francisco (Bilb)\n",
      "Name: loc_neigh, dtype: object\n"
     ]
    }
   ],
   "source": [
    "city_filt = ['Bilbao', 'Leioa', 'Getxo', 'Donostia/San Sebastián']\n",
    "\n",
    "df['loc_neigh'] = (df['loc_neigh']\n",
    "                      .str.extract(r'(Barrio .*)')[0]\n",
    "                      .str.replace('Barrio ','')\n",
    "                     )\n",
    "\n",
    "df['loc_neigh'] = (np.where(df.loc_neigh.notna()\n",
    "                      , df.loc_neigh+' ('+df.loc_city.str[:4]+')'\n",
    "                      , np.nan)\n",
    "                  )\n",
    "df['loc_neigh'] = (np.where(np.isin(df.loc_city, city_filt)\n",
    "                      , df.loc_neigh\n",
    "                      , np.nan)\n",
    "                  )\n",
    "\n",
    "print(df.sample(frac=1, random_state=89)['loc_neigh'][df.loc_neigh.notna()].head(5))"
   ]
  },
  {
   "cell_type": "markdown",
   "metadata": {},
   "source": [
    "Finalmente, comprobamos el número de barrios que hay tras el proceso de limpieza:"
   ]
  },
  {
   "cell_type": "code",
   "execution_count": 44,
   "metadata": {
    "ExecuteTime": {
     "end_time": "2019-05-22T14:51:21.415128Z",
     "start_time": "2019-05-22T14:51:21.409145Z"
    }
   },
   "outputs": [
    {
     "name": "stdout",
     "output_type": "stream",
     "text": [
      "Número de barrios tras limpieza: 59\n"
     ]
    }
   ],
   "source": [
    "print(f\"Número de barrios tras limpieza: {len(df.loc_neigh.unique())}\")"
   ]
  },
  {
   "cell_type": "markdown",
   "metadata": {},
   "source": [
    "### <font color=#5F66A1>location</font>"
   ]
  },
  {
   "cell_type": "markdown",
   "metadata": {},
   "source": [
    "Por último, dado que no todas las viviendas tienen un valor para  <font color=#5F66A1>__loc_district__</font> o <font color=#5F66A1>__loc_neigh__</font>, vamos a generar una variable que incluya la información más específica posible por cada vivienda.\n",
    "\n",
    "Así, en aquellos casos que se especifique el barrio, almacenara el barrio, sino, la del distrito, y en caso de que ninguna de las dos se indicara, la del pueblo: "
   ]
  },
  {
   "cell_type": "code",
   "execution_count": 45,
   "metadata": {
    "ExecuteTime": {
     "end_time": "2019-05-22T14:51:21.453128Z",
     "start_time": "2019-05-22T14:51:21.417131Z"
    },
    "scrolled": false
   },
   "outputs": [
    {
     "name": "stdout",
     "output_type": "stream",
     "text": [
      "4996                   Las Arenas Centro (Getx)\n",
      "12494                                     Bedia\n",
      "2745                            Kabiezes (Sant)\n",
      "15737                                   Urduliz\n",
      "8422     Mirador de Bilbao-Maurice Ravel (Bilb)\n",
      "Name: location, dtype: object\n",
      "\n",
      "Número de ubicaciones distintas: 309\n"
     ]
    }
   ],
   "source": [
    "df['location'] = df['loc_neigh']\n",
    "\n",
    "df['location'] = (np.where(df.location.isna()\n",
    "                      , df.loc_district\n",
    "                      , df.location)\n",
    "                 )\n",
    "\n",
    "df['location'] = (np.where(df.location.isna()\n",
    "                      , df.loc_city\n",
    "                      , df.location)\n",
    "                 )\n",
    "\n",
    "print(df.sample(frac=1, random_state=89)['location'].head(5))\n",
    "print(f\"\\nNúmero de ubicaciones distintas: {len(df.location.unique())}\")"
   ]
  },
  {
   "cell_type": "markdown",
   "metadata": {},
   "source": [
    "Por último, dado que ya nos las necesitamos, eliminamos las variables <font color=#5F66A1>__loc_district__</font> y <font color=#5F66A1>__loc_neigh__</font>:"
   ]
  },
  {
   "cell_type": "code",
   "execution_count": 46,
   "metadata": {
    "ExecuteTime": {
     "end_time": "2019-05-22T14:51:21.467129Z",
     "start_time": "2019-05-22T14:51:21.455131Z"
    }
   },
   "outputs": [],
   "source": [
    "df = df.drop(columns=['loc_district', 'loc_neigh'])"
   ]
  },
  {
   "cell_type": "markdown",
   "metadata": {},
   "source": [
    "# Verificación de los datos"
   ]
  },
  {
   "cell_type": "markdown",
   "metadata": {},
   "source": [
    "## Descarte de las casas de alquiler"
   ]
  },
  {
   "cell_type": "markdown",
   "metadata": {},
   "source": [
    "En el conjunto de datos que disponemos, se mezclan anuncios con casa en venta y alquiler. Este análisis se centra en la venta de casas, por lo tanto, los anuncios ligados al alquiler han de descartarse.\n",
    "\n",
    "Para ello, la forma más sencilla es utilizar la variable <font color=#5F66A1>__house_type__</font>:"
   ]
  },
  {
   "cell_type": "code",
   "execution_count": 47,
   "metadata": {
    "ExecuteTime": {
     "end_time": "2019-05-22T14:51:21.490651Z",
     "start_time": "2019-05-22T14:51:21.469139Z"
    },
    "pycharm": {
     "name": "#%%\n"
    }
   },
   "outputs": [
    {
     "name": "stdout",
     "output_type": "stream",
     "text": [
      "Se han descartado 2117 casas de alquiler\n"
     ]
    }
   ],
   "source": [
    "h_num = len(df[df['house_type'] == 'Alquiler'])\n",
    "df = df[df['house_type'] != 'Alquiler']\n",
    "print(f'Se han descartado {h_num} casas de alquiler')"
   ]
  },
  {
   "cell_type": "markdown",
   "metadata": {},
   "source": [
    "## Verificación de casas duplicadas"
   ]
  },
  {
   "cell_type": "markdown",
   "metadata": {},
   "source": [
    "Lo primero que haremos será verificar que no haya anuncios duplicados. Para ello, dado que disponemos de un identificador de anuncio único, comprobaremos que no haya más de una vivienda con este id:"
   ]
  },
  {
   "cell_type": "code",
   "execution_count": 48,
   "metadata": {
    "ExecuteTime": {
     "end_time": "2019-05-22T14:51:21.556650Z",
     "start_time": "2019-05-22T14:51:21.492651Z"
    },
    "pycharm": {
     "name": "#%%\n"
    }
   },
   "outputs": [
    {
     "name": "stdout",
     "output_type": "stream",
     "text": [
      "Se han descartado 0 casas duplicadas del dataset\n"
     ]
    }
   ],
   "source": [
    "h_num = df[df.house_id.duplicated()].shape[0]\n",
    "df.drop_duplicates(subset='house_id', inplace=True)\n",
    "print(f'Se han descartado {h_num} casas duplicadas del dataset')"
   ]
  },
  {
   "cell_type": "markdown",
   "metadata": {},
   "source": [
    "Sin embargo, muchas veces una misma vivienda se ofrece en varias inmobiliarias, y cada una de ellas, genera un anuncio distinto, por lo que con solo comprobar el id del anuncio no basta.\n",
    "\n",
    "Detectar este tipo de viviendas duplicadas es esencial. Pero esta vez no disponemos de un campo que nos facilite la tarea, por lo que tendremos que generar un filtro manual basado en coincidencias que identifique estas viviendas mediante estrategias heurísticas:\n",
    "\n",
    "Así, dado que la gran mayoría de anuncios con viviendas repetidas corresponden a viviendas con precios elevados, definiremos una función que, para cada vivienda a partir de los 400.000€, vea si hay otra con exactamente el mismo precio en la misma zona, y que además, tenga al menos una serie características en común.\n",
    "\n",
    "El filtro lo desarrollaremos asignando pesos a los diferentes atributos, de modo que algunos tengan más importancia a la hora de establecer si son lo suficientemente parecidas como para considerarlas la misma. Así, afinando estos pesos, seremos más o menos permisivos con ciertos aspectos.\n",
    "\n",
    "En este caso, los pesos se han ajustado el filtro para que distinga lo mejor posible si son iguales. No obstante, dada la imposibilidad de ser 100% certeros en esta tarea, habrá viviendas que no sean iguales y que sin embargo las tratemos como tal. Se asume ese error a falta de una solución mejor:"
   ]
  },
  {
   "cell_type": "code",
   "execution_count": 49,
   "metadata": {
    "ExecuteTime": {
     "end_time": "2019-05-22T14:51:21.577673Z",
     "start_time": "2019-05-22T14:51:21.558666Z"
    },
    "scrolled": true
   },
   "outputs": [],
   "source": [
    "import numbers\n",
    "\n",
    "''' checks if 2 houses have minimal conditions to assume that could be equal'''\n",
    "def check_equality_conditions(h1, h2):\n",
    "    \n",
    "    cond_price = h1.price == h2.price\n",
    "    cond_location = h1.location == h2.location\n",
    "        \n",
    "    return cond_price & cond_location\n",
    "\n",
    "\n",
    "''' calculates similarity score between 2 houses based on different weights'''\n",
    "def get_similarity(h1, h2):\n",
    "    \n",
    "    # improve house type condition match\n",
    "    h1.house_type = h1.house_type.replace('Chalet adosado','Casa o chalet')\n",
    "    h1.house_type = h1.house_type.replace('Casa rural','Casa o chalet')\n",
    "    h1.house_type = h1.house_type.replace('Dúplex','Piso')\n",
    "    h1.house_type = h1.house_type.replace('Ático','Piso')\n",
    "    h2.house_type = h2.house_type.replace('Chalet adosado','Casa o chalet')\n",
    "    h2.house_type = h2.house_type.replace('Casa rural','Casa o chalet')\n",
    "    h2.house_type = h2.house_type.replace('Dúplex','Piso')\n",
    "    h2.house_type = h2.house_type.replace('Ático','Piso')\n",
    "    \n",
    "    weights = [{\"atr\":'m2_real', \"weight\":2, \"penalty\":-0.5, \"w_margin\":0.15, \"p_margin\":0.15},\n",
    "               {\"atr\":'house_type', \"weight\":1.5, \"penalty\":-3, \"w_margin\":0, \"p_margin\":0},\n",
    "               {\"atr\":'bath_num', \"weight\":1.5, \"penalty\":-0.5,\"w_margin\":0, \"p_margin\":0.15},\n",
    "               {\"atr\":'room_num', \"weight\":1.5, \"penalty\":-0.5, \"w_margin\":0, \"p_margin\":0.2},\n",
    "               {\"atr\":'floor', \"weight\":1.5, \"penalty\":-1, \"w_margin\":0, \"p_margin\":0},\n",
    "               {\"atr\":'construct_date', \"weight\":3, \"penalty\":0, \"w_margin\":0, \"p_margin\":0},\n",
    "               {\"atr\":'ground_size', \"weight\":2, \"penalty\":0, \"w_margin\":0.30, \"p_margin\":30},\n",
    "               {\"atr\":'m2_useful', \"weight\":2, \"penalty\":0, \"w_margin\":0.15, \"p_margin\":0.15},\n",
    "               {\"atr\":'garage', \"weight\":0, \"penalty\":-0.5, \"w_margin\":0, \"p_margin\":0},\n",
    "               {\"atr\":'lift', \"weight\":0, \"penalty\":-2, \"w_margin\":0, \"p_margin\":0},\n",
    "               {\"atr\":'condition', \"weight\":0, \"penalty\":-1, \"w_margin\":0, \"p_margin\":0},\n",
    "               {\"atr\":'swimming_pool', \"weight\":0, \"penalty\":-2, \"w_margin\":0, \"p_margin\":0}]\n",
    "               \n",
    "    score = 0\n",
    "    for w in weights:\n",
    "        \n",
    "        if w['w_margin'] == 0 and w['p_margin'] == 0:\n",
    "            if h1[w['atr']]==h2[w['atr']]:\n",
    "                score += w['weight']\n",
    "            else:\n",
    "                score += w['penalty']\n",
    "        \n",
    "        else:\n",
    "            if (h1[w['atr']] <= (h2[w['atr']] + h2[w['atr']]* w['w_margin'])\n",
    "                and h1[w['atr']] >= (h2[w['atr']] - h2[w['atr']]* w['w_margin'])):\n",
    "                score += w['weight']\n",
    "            elif (h1[w['atr']] <= (h2[w['atr']] + h2[w['atr']]* w['p_margin'])\n",
    "                and h1[w['atr']] >= (h2[w['atr']] - h2[w['atr']]* w['p_margin'])):\n",
    "                score = score\n",
    "            else:\n",
    "                score += w['penalty']\n",
    "    \n",
    "    #print(\\nscore)\n",
    "    #print('https://www.idealista.com/inmueble/'+str(h1.house_id))\n",
    "    #print('https://www.idealista.com/inmueble/'+str(h1.house_id))\n",
    "    return score\n",
    "\n",
    "\n",
    "''' calculates how much information is contained in the ad'''\n",
    "def get_info_score(h):\n",
    "    \n",
    "    info_score = (- h.isna().sum()  # inverse count of NaN's\n",
    "                  + h.garden + h.air_conditioner + h.balcony + h.chimney\n",
    "                  + h.built_in_wardrobe + h.storage_room + h.swimming_pool)\n",
    "    \n",
    "    return info_score\n",
    "\n",
    "\n",
    "\n",
    "''' MAIN FUNCTION: returns less informative duplicated houses indexes'''\n",
    "def get_duplicated(price_bound=400000):\n",
    "    h_to_del=[]\n",
    "    \n",
    "    for i,row1 in df[df['price']>price_bound].iterrows():\n",
    "        for j,row2 in df[df['price']>price_bound].iterrows():\n",
    "\n",
    "            if i == j:\n",
    "                continue \n",
    "\n",
    "            # check if houses are already marked for delete\n",
    "            if ((i in h_to_del) or (j in h_to_del)):\n",
    "                continue \n",
    "\n",
    "            # check if houses fit minimal equality conditions\n",
    "            equal_cond = check_equality_conditions(row1,row2)\n",
    "            if not equal_cond:\n",
    "                continue \n",
    "    \n",
    "            # check if 2 houses are the same\n",
    "            similarity_score = get_similarity(row1,row2)\n",
    "            if similarity_score >= 0:\n",
    "                \n",
    "                # check which ad has more information ; KEEP THAT\n",
    "                info_score1 = get_info_score(row1)\n",
    "                info_score2 = get_info_score(row2)\n",
    "\n",
    "                # delete less informative duplicate house\n",
    "                if info_score1>=info_score2:\n",
    "                    h_to_del.append(j)\n",
    "                else:\n",
    "                    h_to_del.append(i)\n",
    "                    \n",
    "    return h_to_del"
   ]
  },
  {
   "cell_type": "markdown",
   "metadata": {},
   "source": [
    "Una vez definida la función que filtra las casas duplicadas, la ejecutamos:"
   ]
  },
  {
   "cell_type": "code",
   "execution_count": 50,
   "metadata": {
    "ExecuteTime": {
     "end_time": "2019-05-22T14:51:21.587685Z",
     "start_time": "2019-05-22T14:51:21.578678Z"
    },
    "run_control": {
     "marked": false
    },
    "scrolled": false
   },
   "outputs": [
    {
     "name": "stdout",
     "output_type": "stream",
     "text": [
      "Se han encontrado 2456 casas duplicadas\n"
     ]
    }
   ],
   "source": [
    "#h_to_delete = get_duplicated(400000);\n",
    "\n",
    "# save the list in a pickle3\n",
    "#pickle.dump(h_to_delete, open('./processed_data/h_to_delete.p', \"wb\" ));\n",
    "\n",
    "h_to_delete = pickle.load(open('./processed_data/h_to_delete.p',\"rb\"))\n",
    "print(f\"Se han encontrado {len(h_to_delete)} casas duplicadas\");"
   ]
  },
  {
   "cell_type": "markdown",
   "metadata": {},
   "source": [
    "Finalmente, descartamos del dataset las casas detectadas por nuestro filtro:"
   ]
  },
  {
   "cell_type": "code",
   "execution_count": 51,
   "metadata": {
    "ExecuteTime": {
     "end_time": "2019-05-22T14:51:21.604671Z",
     "start_time": "2019-05-22T14:51:21.589690Z"
    }
   },
   "outputs": [],
   "source": [
    "df = df.drop(h_to_delete)"
   ]
  },
  {
   "cell_type": "markdown",
   "metadata": {},
   "source": [
    "# Gestión de ruido y valores extremos"
   ]
  },
  {
   "cell_type": "markdown",
   "metadata": {},
   "source": [
    "En este apartado cotejaremos que los valores estén dentro de un rango plausible. De este modo, por cada variable numérica, gestionaremos tanto los valores extremos como las incongruencias. Además, se cotejará también la veracidad de ciertas variables categóricas. "
   ]
  },
  {
   "cell_type": "markdown",
   "metadata": {},
   "source": [
    "## Ruido y outliers en variables numéricas"
   ]
  },
  {
   "cell_type": "markdown",
   "metadata": {},
   "source": [
    "### <font color=#5F66A1>m2_real</font> & <font color=#5F66A1>m2_useful</font>"
   ]
  },
  {
   "cell_type": "markdown",
   "metadata": {},
   "source": [
    "Empezemos mostrando en un boxplot la dispersión de los metros cuadadros reales de las viviendas:"
   ]
  },
  {
   "cell_type": "code",
   "execution_count": 52,
   "metadata": {
    "ExecuteTime": {
     "end_time": "2019-05-22T14:51:21.736657Z",
     "start_time": "2019-05-22T14:51:21.605671Z"
    }
   },
   "outputs": [
    {
     "data": {
      "image/png": "[encoded data removed]",
      "text/plain": [
       "<Figure size 720x216 with 1 Axes>"
      ]
     },
     "metadata": {
      "needs_background": "light"
     },
     "output_type": "display_data"
    }
   ],
   "source": [
    "f, axes = plt.subplots(1, 1, figsize=(10, 3), sharex=True)\n",
    "sns.despine(left=True)\n",
    "\n",
    "(df\n",
    " .loc[:,'m2_real']\n",
    " .dropna()\n",
    " .pipe(sns.boxplot, color=clr['pr'], boxprops=dict(alpha=.7)))\n",
    "\n",
    "plt.setp(axes, yticks=[])\n",
    "plt.tight_layout()"
   ]
  },
  {
   "cell_type": "markdown",
   "metadata": {},
   "source": [
    "Observamos que hay 2 casos muy extremos. Los exploramos a fin de determinar cómo tratarlos:"
   ]
  },
  {
   "cell_type": "code",
   "execution_count": 53,
   "metadata": {
    "ExecuteTime": {
     "end_time": "2019-05-22T14:51:23.018100Z",
     "start_time": "2019-05-22T14:51:21.737654Z"
    }
   },
   "outputs": [
    {
     "data": {
      "text/html": [
       "<style  type=\"text/css\" >\n",
       "    #T_78c89f64_7e64_11e9_8b9a_e0d55e42fdbcrow0_col1 {\n",
       "            min-width:  800px;\n",
       "        }    #T_78c89f64_7e64_11e9_8b9a_e0d55e42fdbcrow1_col1 {\n",
       "            min-width:  800px;\n",
       "        }</style><table id=\"T_78c89f64_7e64_11e9_8b9a_e0d55e42fdbc\" ><thead>    <tr>        <th class=\"blank level0\" ></th>        <th class=\"col_heading level0 col0\" >house_id</th>        <th class=\"col_heading level0 col1\" >ad_description</th>        <th class=\"col_heading level0 col2\" >price</th>        <th class=\"col_heading level0 col3\" >bath_num</th>        <th class=\"col_heading level0 col4\" >condition</th>        <th class=\"col_heading level0 col5\" >construct_date</th>        <th class=\"col_heading level0 col6\" >energetic_certif</th>        <th class=\"col_heading level0 col7\" >floor</th>        <th class=\"col_heading level0 col8\" >ground_size</th>        <th class=\"col_heading level0 col9\" >heating</th>        <th class=\"col_heading level0 col10\" >house_type</th>        <th class=\"col_heading level0 col11\" >m2_real</th>        <th class=\"col_heading level0 col12\" >m2_useful</th>        <th class=\"col_heading level0 col13\" >orientation</th>        <th class=\"col_heading level0 col14\" >room_num</th>        <th class=\"col_heading level0 col15\" >air_conditioner</th>        <th class=\"col_heading level0 col16\" >balcony</th>        <th class=\"col_heading level0 col17\" >built_in_wardrobe</th>        <th class=\"col_heading level0 col18\" >chimney</th>        <th class=\"col_heading level0 col19\" >garage</th>        <th class=\"col_heading level0 col20\" >garden</th>        <th class=\"col_heading level0 col21\" >lift</th>        <th class=\"col_heading level0 col22\" >reduced_mobility</th>        <th class=\"col_heading level0 col23\" >storage_room</th>        <th class=\"col_heading level0 col24\" >swimming_pool</th>        <th class=\"col_heading level0 col25\" >terrace</th>        <th class=\"col_heading level0 col26\" >loc_zone</th>        <th class=\"col_heading level0 col27\" >loc_city</th>        <th class=\"col_heading level0 col28\" >pop_total</th>        <th class=\"col_heading level0 col29\" >pop_0-19</th>        <th class=\"col_heading level0 col30\" >pop_20-64</th>        <th class=\"col_heading level0 col31\" >pop_>=65</th>        <th class=\"col_heading level0 col32\" >pop_foreign</th>        <th class=\"col_heading level0 col33\" >rent</th>        <th class=\"col_heading level0 col34\" >indoor</th>        <th class=\"col_heading level0 col35\" >floor_count</th>        <th class=\"col_heading level0 col36\" >location</th>    </tr></thead><tbody>\n",
       "                <tr>\n",
       "                        <th id=\"T_78c89f64_7e64_11e9_8b9a_e0d55e42fdbclevel0_row0\" class=\"row_heading level0 row0\" >15587</th>\n",
       "                        <td id=\"T_78c89f64_7e64_11e9_8b9a_e0d55e42fdbcrow0_col0\" class=\"data row0 col0\" >82667064</td>\n",
       "                        <td id=\"T_78c89f64_7e64_11e9_8b9a_e0d55e42fdbcrow0_col1\" class=\"data row0 col1\" >Se vende magnífica casa individual de tres plantas en la zona de Unbemendi, Laukiz. La casa dispone de 2.037 metros cuadrados de terreno y 415 metros cuadrados de vivienda incluyendo el txoko. Consta de ocho habitaciones amplias, dos salones comedor muy amplios y luminosos, siete baños, una cocina comedor, tres terrazas y un garaje con capacidad para tres o cuatro coches. Dispone de tres chimeneas, un txoko de 300m2 y un trastero.,Para más información no dudes en ponerte en contacto con nosotros.</td>\n",
       "                        <td id=\"T_78c89f64_7e64_11e9_8b9a_e0d55e42fdbcrow0_col2\" class=\"data row0 col2\" >720000</td>\n",
       "                        <td id=\"T_78c89f64_7e64_11e9_8b9a_e0d55e42fdbcrow0_col3\" class=\"data row0 col3\" >6</td>\n",
       "                        <td id=\"T_78c89f64_7e64_11e9_8b9a_e0d55e42fdbcrow0_col4\" class=\"data row0 col4\" >para reformar</td>\n",
       "                        <td id=\"T_78c89f64_7e64_11e9_8b9a_e0d55e42fdbcrow0_col5\" class=\"data row0 col5\" >nan</td>\n",
       "                        <td id=\"T_78c89f64_7e64_11e9_8b9a_e0d55e42fdbcrow0_col6\" class=\"data row0 col6\" >en trámite</td>\n",
       "                        <td id=\"T_78c89f64_7e64_11e9_8b9a_e0d55e42fdbcrow0_col7\" class=\"data row0 col7\" >nan</td>\n",
       "                        <td id=\"T_78c89f64_7e64_11e9_8b9a_e0d55e42fdbcrow0_col8\" class=\"data row0 col8\" >2037</td>\n",
       "                        <td id=\"T_78c89f64_7e64_11e9_8b9a_e0d55e42fdbcrow0_col9\" class=\"data row0 col9\" >nan</td>\n",
       "                        <td id=\"T_78c89f64_7e64_11e9_8b9a_e0d55e42fdbcrow0_col10\" class=\"data row0 col10\" >Casa o chalet</td>\n",
       "                        <td id=\"T_78c89f64_7e64_11e9_8b9a_e0d55e42fdbcrow0_col11\" class=\"data row0 col11\" >415000</td>\n",
       "                        <td id=\"T_78c89f64_7e64_11e9_8b9a_e0d55e42fdbcrow0_col12\" class=\"data row0 col12\" >nan</td>\n",
       "                        <td id=\"T_78c89f64_7e64_11e9_8b9a_e0d55e42fdbcrow0_col13\" class=\"data row0 col13\" >norte, sur, este, oeste</td>\n",
       "                        <td id=\"T_78c89f64_7e64_11e9_8b9a_e0d55e42fdbcrow0_col14\" class=\"data row0 col14\" >8</td>\n",
       "                        <td id=\"T_78c89f64_7e64_11e9_8b9a_e0d55e42fdbcrow0_col15\" class=\"data row0 col15\" >False</td>\n",
       "                        <td id=\"T_78c89f64_7e64_11e9_8b9a_e0d55e42fdbcrow0_col16\" class=\"data row0 col16\" >False</td>\n",
       "                        <td id=\"T_78c89f64_7e64_11e9_8b9a_e0d55e42fdbcrow0_col17\" class=\"data row0 col17\" >True</td>\n",
       "                        <td id=\"T_78c89f64_7e64_11e9_8b9a_e0d55e42fdbcrow0_col18\" class=\"data row0 col18\" >False</td>\n",
       "                        <td id=\"T_78c89f64_7e64_11e9_8b9a_e0d55e42fdbcrow0_col19\" class=\"data row0 col19\" >0</td>\n",
       "                        <td id=\"T_78c89f64_7e64_11e9_8b9a_e0d55e42fdbcrow0_col20\" class=\"data row0 col20\" >True</td>\n",
       "                        <td id=\"T_78c89f64_7e64_11e9_8b9a_e0d55e42fdbcrow0_col21\" class=\"data row0 col21\" >nan</td>\n",
       "                        <td id=\"T_78c89f64_7e64_11e9_8b9a_e0d55e42fdbcrow0_col22\" class=\"data row0 col22\" >True</td>\n",
       "                        <td id=\"T_78c89f64_7e64_11e9_8b9a_e0d55e42fdbcrow0_col23\" class=\"data row0 col23\" >True</td>\n",
       "                        <td id=\"T_78c89f64_7e64_11e9_8b9a_e0d55e42fdbcrow0_col24\" class=\"data row0 col24\" >True</td>\n",
       "                        <td id=\"T_78c89f64_7e64_11e9_8b9a_e0d55e42fdbcrow0_col25\" class=\"data row0 col25\" >True</td>\n",
       "                        <td id=\"T_78c89f64_7e64_11e9_8b9a_e0d55e42fdbcrow0_col26\" class=\"data row0 col26\" >Uribe-Butroe (BIZ)</td>\n",
       "                        <td id=\"T_78c89f64_7e64_11e9_8b9a_e0d55e42fdbcrow0_col27\" class=\"data row0 col27\" >Laukiz</td>\n",
       "                        <td id=\"T_78c89f64_7e64_11e9_8b9a_e0d55e42fdbcrow0_col28\" class=\"data row0 col28\" >1191</td>\n",
       "                        <td id=\"T_78c89f64_7e64_11e9_8b9a_e0d55e42fdbcrow0_col29\" class=\"data row0 col29\" >24</td>\n",
       "                        <td id=\"T_78c89f64_7e64_11e9_8b9a_e0d55e42fdbcrow0_col30\" class=\"data row0 col30\" >57</td>\n",
       "                        <td id=\"T_78c89f64_7e64_11e9_8b9a_e0d55e42fdbcrow0_col31\" class=\"data row0 col31\" >19</td>\n",
       "                        <td id=\"T_78c89f64_7e64_11e9_8b9a_e0d55e42fdbcrow0_col32\" class=\"data row0 col32\" >6.5</td>\n",
       "                        <td id=\"T_78c89f64_7e64_11e9_8b9a_e0d55e42fdbcrow0_col33\" class=\"data row0 col33\" >31275</td>\n",
       "                        <td id=\"T_78c89f64_7e64_11e9_8b9a_e0d55e42fdbcrow0_col34\" class=\"data row0 col34\" >False</td>\n",
       "                        <td id=\"T_78c89f64_7e64_11e9_8b9a_e0d55e42fdbcrow0_col35\" class=\"data row0 col35\" >3</td>\n",
       "                        <td id=\"T_78c89f64_7e64_11e9_8b9a_e0d55e42fdbcrow0_col36\" class=\"data row0 col36\" >Laukiz</td>\n",
       "            </tr>\n",
       "            <tr>\n",
       "                        <th id=\"T_78c89f64_7e64_11e9_8b9a_e0d55e42fdbclevel0_row1\" class=\"row_heading level0 row1\" >18436</th>\n",
       "                        <td id=\"T_78c89f64_7e64_11e9_8b9a_e0d55e42fdbcrow1_col0\" class=\"data row1 col0\" >39173329</td>\n",
       "                        <td id=\"T_78c89f64_7e64_11e9_8b9a_e0d55e42fdbcrow1_col1\" class=\"data row1 col1\" >Vendemos un bonito y típico caserío vasco de 300 metros cuadrados de superficie situado en un entorno idílico en pleno corazón de Gipuzkoa, y 80.000 metros cuadrados de terreno. El caserío tiene tres plantas y dispone de 4 habitaciones, amplio salón comedor, cocina, baño. Amueblado. También dispone de garaje amplio y trastero. Tiene unas excelentes vistas y está muy bien comunicado.</td>\n",
       "                        <td id=\"T_78c89f64_7e64_11e9_8b9a_e0d55e42fdbcrow1_col2\" class=\"data row1 col2\" >425000</td>\n",
       "                        <td id=\"T_78c89f64_7e64_11e9_8b9a_e0d55e42fdbcrow1_col3\" class=\"data row1 col3\" >1</td>\n",
       "                        <td id=\"T_78c89f64_7e64_11e9_8b9a_e0d55e42fdbcrow1_col4\" class=\"data row1 col4\" >para reformar</td>\n",
       "                        <td id=\"T_78c89f64_7e64_11e9_8b9a_e0d55e42fdbcrow1_col5\" class=\"data row1 col5\" >nan</td>\n",
       "                        <td id=\"T_78c89f64_7e64_11e9_8b9a_e0d55e42fdbcrow1_col6\" class=\"data row1 col6\" >nan</td>\n",
       "                        <td id=\"T_78c89f64_7e64_11e9_8b9a_e0d55e42fdbcrow1_col7\" class=\"data row1 col7\" >nan</td>\n",
       "                        <td id=\"T_78c89f64_7e64_11e9_8b9a_e0d55e42fdbcrow1_col8\" class=\"data row1 col8\" >80000</td>\n",
       "                        <td id=\"T_78c89f64_7e64_11e9_8b9a_e0d55e42fdbcrow1_col9\" class=\"data row1 col9\" >nan</td>\n",
       "                        <td id=\"T_78c89f64_7e64_11e9_8b9a_e0d55e42fdbcrow1_col10\" class=\"data row1 col10\" >Casa rural</td>\n",
       "                        <td id=\"T_78c89f64_7e64_11e9_8b9a_e0d55e42fdbcrow1_col11\" class=\"data row1 col11\" >80000</td>\n",
       "                        <td id=\"T_78c89f64_7e64_11e9_8b9a_e0d55e42fdbcrow1_col12\" class=\"data row1 col12\" >nan</td>\n",
       "                        <td id=\"T_78c89f64_7e64_11e9_8b9a_e0d55e42fdbcrow1_col13\" class=\"data row1 col13\" >nan</td>\n",
       "                        <td id=\"T_78c89f64_7e64_11e9_8b9a_e0d55e42fdbcrow1_col14\" class=\"data row1 col14\" >4</td>\n",
       "                        <td id=\"T_78c89f64_7e64_11e9_8b9a_e0d55e42fdbcrow1_col15\" class=\"data row1 col15\" >False</td>\n",
       "                        <td id=\"T_78c89f64_7e64_11e9_8b9a_e0d55e42fdbcrow1_col16\" class=\"data row1 col16\" >False</td>\n",
       "                        <td id=\"T_78c89f64_7e64_11e9_8b9a_e0d55e42fdbcrow1_col17\" class=\"data row1 col17\" >False</td>\n",
       "                        <td id=\"T_78c89f64_7e64_11e9_8b9a_e0d55e42fdbcrow1_col18\" class=\"data row1 col18\" >False</td>\n",
       "                        <td id=\"T_78c89f64_7e64_11e9_8b9a_e0d55e42fdbcrow1_col19\" class=\"data row1 col19\" >0</td>\n",
       "                        <td id=\"T_78c89f64_7e64_11e9_8b9a_e0d55e42fdbcrow1_col20\" class=\"data row1 col20\" >True</td>\n",
       "                        <td id=\"T_78c89f64_7e64_11e9_8b9a_e0d55e42fdbcrow1_col21\" class=\"data row1 col21\" >nan</td>\n",
       "                        <td id=\"T_78c89f64_7e64_11e9_8b9a_e0d55e42fdbcrow1_col22\" class=\"data row1 col22\" >False</td>\n",
       "                        <td id=\"T_78c89f64_7e64_11e9_8b9a_e0d55e42fdbcrow1_col23\" class=\"data row1 col23\" >True</td>\n",
       "                        <td id=\"T_78c89f64_7e64_11e9_8b9a_e0d55e42fdbcrow1_col24\" class=\"data row1 col24\" >False</td>\n",
       "                        <td id=\"T_78c89f64_7e64_11e9_8b9a_e0d55e42fdbcrow1_col25\" class=\"data row1 col25\" >True</td>\n",
       "                        <td id=\"T_78c89f64_7e64_11e9_8b9a_e0d55e42fdbcrow1_col26\" class=\"data row1 col26\" >Tolosaldea (GIP)</td>\n",
       "                        <td id=\"T_78c89f64_7e64_11e9_8b9a_e0d55e42fdbcrow1_col27\" class=\"data row1 col27\" >Baliarrain</td>\n",
       "                        <td id=\"T_78c89f64_7e64_11e9_8b9a_e0d55e42fdbcrow1_col28\" class=\"data row1 col28\" >137</td>\n",
       "                        <td id=\"T_78c89f64_7e64_11e9_8b9a_e0d55e42fdbcrow1_col29\" class=\"data row1 col29\" >31</td>\n",
       "                        <td id=\"T_78c89f64_7e64_11e9_8b9a_e0d55e42fdbcrow1_col30\" class=\"data row1 col30\" >56</td>\n",
       "                        <td id=\"T_78c89f64_7e64_11e9_8b9a_e0d55e42fdbcrow1_col31\" class=\"data row1 col31\" >13</td>\n",
       "                        <td id=\"T_78c89f64_7e64_11e9_8b9a_e0d55e42fdbcrow1_col32\" class=\"data row1 col32\" >6.7</td>\n",
       "                        <td id=\"T_78c89f64_7e64_11e9_8b9a_e0d55e42fdbcrow1_col33\" class=\"data row1 col33\" >21982</td>\n",
       "                        <td id=\"T_78c89f64_7e64_11e9_8b9a_e0d55e42fdbcrow1_col34\" class=\"data row1 col34\" >False</td>\n",
       "                        <td id=\"T_78c89f64_7e64_11e9_8b9a_e0d55e42fdbcrow1_col35\" class=\"data row1 col35\" >3</td>\n",
       "                        <td id=\"T_78c89f64_7e64_11e9_8b9a_e0d55e42fdbcrow1_col36\" class=\"data row1 col36\" >Baliarrain</td>\n",
       "            </tr>\n",
       "    </tbody></table>"
      ],
      "text/plain": [
       "<pandas.io.formats.style.Styler at 0x13d37243f28>"
      ]
     },
     "execution_count": 53,
     "metadata": {},
     "output_type": "execute_result"
    }
   ],
   "source": [
    "df.query('m2_real > 50000').style.set_properties(subset=['ad_description'], **{'min-width': '800px'})"
   ]
  },
  {
   "cell_type": "markdown",
   "metadata": {},
   "source": [
    "En la descripción del anuncio se ve que en un caso han sumado 3 ceros de más a la superficie real, y en el otro, han asignado el valor de la párcela. Por lo tanto, dado que en la descripción se detalla el tamaño real, se corrigen manualmente, y se vuelve a representar el boxplot:"
   ]
  },
  {
   "cell_type": "code",
   "execution_count": 54,
   "metadata": {
    "ExecuteTime": {
     "end_time": "2019-05-22T14:51:23.246134Z",
     "start_time": "2019-05-22T14:51:23.020095Z"
    }
   },
   "outputs": [
    {
     "data": {
      "image/png": "[encoded data removed]",
      "text/plain": [
       "<Figure size 720x216 with 1 Axes>"
      ]
     },
     "metadata": {
      "needs_background": "light"
     },
     "output_type": "display_data"
    }
   ],
   "source": [
    "df['m2_real'][df.house_id == 82667064] = 415\n",
    "df['m2_real'][df.house_id == 39173329] = 300\n",
    "\n",
    "f, axes = plt.subplots(1, 1, figsize=(10, 3), sharex=True)\n",
    "sns.despine(left=True)\n",
    "\n",
    "(df\n",
    " .loc[:,'m2_real']\n",
    " .dropna()\n",
    " .pipe(sns.boxplot, color=clr['pr'], boxprops=dict(alpha=.7)))\n",
    "\n",
    "plt.setp(axes, yticks=[])\n",
    "plt.tight_layout()"
   ]
  },
  {
   "cell_type": "markdown",
   "metadata": {},
   "source": [
    "Pese a haber resuelto los casos más extremos, vemos que aún siguen existiendo valores muy alejados del resto. De modo que volvemos a analizarlos a fin de determinar qué tratamiento darles:"
   ]
  },
  {
   "cell_type": "code",
   "execution_count": 55,
   "metadata": {
    "ExecuteTime": {
     "end_time": "2019-05-22T14:51:23.282135Z",
     "start_time": "2019-05-22T14:51:23.247150Z"
    }
   },
   "outputs": [
    {
     "data": {
      "text/html": [
       "<style  type=\"text/css\" >\n",
       "    #T_78e62448_7e64_11e9_b58d_e0d55e42fdbcrow0_col1 {\n",
       "            min-width:  1000px;\n",
       "        }    #T_78e62448_7e64_11e9_b58d_e0d55e42fdbcrow1_col1 {\n",
       "            min-width:  1000px;\n",
       "        }    #T_78e62448_7e64_11e9_b58d_e0d55e42fdbcrow2_col1 {\n",
       "            min-width:  1000px;\n",
       "        }    #T_78e62448_7e64_11e9_b58d_e0d55e42fdbcrow3_col1 {\n",
       "            min-width:  1000px;\n",
       "        }    #T_78e62448_7e64_11e9_b58d_e0d55e42fdbcrow4_col1 {\n",
       "            min-width:  1000px;\n",
       "        }</style><table id=\"T_78e62448_7e64_11e9_b58d_e0d55e42fdbc\" ><thead>    <tr>        <th class=\"blank level0\" ></th>        <th class=\"col_heading level0 col0\" >house_id</th>        <th class=\"col_heading level0 col1\" >ad_description</th>        <th class=\"col_heading level0 col2\" >price</th>        <th class=\"col_heading level0 col3\" >bath_num</th>        <th class=\"col_heading level0 col4\" >condition</th>        <th class=\"col_heading level0 col5\" >construct_date</th>        <th class=\"col_heading level0 col6\" >energetic_certif</th>        <th class=\"col_heading level0 col7\" >floor</th>        <th class=\"col_heading level0 col8\" >ground_size</th>        <th class=\"col_heading level0 col9\" >heating</th>        <th class=\"col_heading level0 col10\" >house_type</th>        <th class=\"col_heading level0 col11\" >m2_real</th>        <th class=\"col_heading level0 col12\" >m2_useful</th>        <th class=\"col_heading level0 col13\" >orientation</th>        <th class=\"col_heading level0 col14\" >room_num</th>        <th class=\"col_heading level0 col15\" >air_conditioner</th>        <th class=\"col_heading level0 col16\" >balcony</th>        <th class=\"col_heading level0 col17\" >built_in_wardrobe</th>        <th class=\"col_heading level0 col18\" >chimney</th>        <th class=\"col_heading level0 col19\" >garage</th>        <th class=\"col_heading level0 col20\" >garden</th>        <th class=\"col_heading level0 col21\" >lift</th>        <th class=\"col_heading level0 col22\" >reduced_mobility</th>        <th class=\"col_heading level0 col23\" >storage_room</th>        <th class=\"col_heading level0 col24\" >swimming_pool</th>        <th class=\"col_heading level0 col25\" >terrace</th>        <th class=\"col_heading level0 col26\" >loc_zone</th>        <th class=\"col_heading level0 col27\" >loc_city</th>        <th class=\"col_heading level0 col28\" >pop_total</th>        <th class=\"col_heading level0 col29\" >pop_0-19</th>        <th class=\"col_heading level0 col30\" >pop_20-64</th>        <th class=\"col_heading level0 col31\" >pop_>=65</th>        <th class=\"col_heading level0 col32\" >pop_foreign</th>        <th class=\"col_heading level0 col33\" >rent</th>        <th class=\"col_heading level0 col34\" >indoor</th>        <th class=\"col_heading level0 col35\" >floor_count</th>        <th class=\"col_heading level0 col36\" >location</th>    </tr></thead><tbody>\n",
       "                <tr>\n",
       "                        <th id=\"T_78e62448_7e64_11e9_b58d_e0d55e42fdbclevel0_row0\" class=\"row_heading level0 row0\" >20725</th>\n",
       "                        <td id=\"T_78e62448_7e64_11e9_b58d_e0d55e42fdbcrow0_col0\" class=\"data row0 col0\" >82012713</td>\n",
       "                        <td id=\"T_78e62448_7e64_11e9_b58d_e0d55e42fdbcrow0_col1\" class=\"data row0 col1\" >Obra nueva en lezo ático duplex, cocina equipada, salón, 3 habitaciones y 2 baños. Dispone de gran balcón corrido y lavadero-tendedero más 3 balcones. Todo exterior. Garaje opcional en el mismo edificio. Sin comisión de inmobiliaria.</td>\n",
       "                        <td id=\"T_78e62448_7e64_11e9_b58d_e0d55e42fdbcrow0_col2\" class=\"data row0 col2\" >280000</td>\n",
       "                        <td id=\"T_78e62448_7e64_11e9_b58d_e0d55e42fdbcrow0_col3\" class=\"data row0 col3\" >2</td>\n",
       "                        <td id=\"T_78e62448_7e64_11e9_b58d_e0d55e42fdbcrow0_col4\" class=\"data row0 col4\" >nan</td>\n",
       "                        <td id=\"T_78e62448_7e64_11e9_b58d_e0d55e42fdbcrow0_col5\" class=\"data row0 col5\" >2018</td>\n",
       "                        <td id=\"T_78e62448_7e64_11e9_b58d_e0d55e42fdbcrow0_col6\" class=\"data row0 col6\" >no indicado</td>\n",
       "                        <td id=\"T_78e62448_7e64_11e9_b58d_e0d55e42fdbcrow0_col7\" class=\"data row0 col7\" >4ª</td>\n",
       "                        <td id=\"T_78e62448_7e64_11e9_b58d_e0d55e42fdbcrow0_col8\" class=\"data row0 col8\" >nan</td>\n",
       "                        <td id=\"T_78e62448_7e64_11e9_b58d_e0d55e42fdbcrow0_col9\" class=\"data row0 col9\" >individual: gas natural</td>\n",
       "                        <td id=\"T_78e62448_7e64_11e9_b58d_e0d55e42fdbcrow0_col10\" class=\"data row0 col10\" >Dúplex</td>\n",
       "                        <td id=\"T_78e62448_7e64_11e9_b58d_e0d55e42fdbcrow0_col11\" class=\"data row0 col11\" >6605</td>\n",
       "                        <td id=\"T_78e62448_7e64_11e9_b58d_e0d55e42fdbcrow0_col12\" class=\"data row0 col12\" >87</td>\n",
       "                        <td id=\"T_78e62448_7e64_11e9_b58d_e0d55e42fdbcrow0_col13\" class=\"data row0 col13\" >este, oeste</td>\n",
       "                        <td id=\"T_78e62448_7e64_11e9_b58d_e0d55e42fdbcrow0_col14\" class=\"data row0 col14\" >3</td>\n",
       "                        <td id=\"T_78e62448_7e64_11e9_b58d_e0d55e42fdbcrow0_col15\" class=\"data row0 col15\" >False</td>\n",
       "                        <td id=\"T_78e62448_7e64_11e9_b58d_e0d55e42fdbcrow0_col16\" class=\"data row0 col16\" >True</td>\n",
       "                        <td id=\"T_78e62448_7e64_11e9_b58d_e0d55e42fdbcrow0_col17\" class=\"data row0 col17\" >False</td>\n",
       "                        <td id=\"T_78e62448_7e64_11e9_b58d_e0d55e42fdbcrow0_col18\" class=\"data row0 col18\" >False</td>\n",
       "                        <td id=\"T_78e62448_7e64_11e9_b58d_e0d55e42fdbcrow0_col19\" class=\"data row0 col19\" >nan</td>\n",
       "                        <td id=\"T_78e62448_7e64_11e9_b58d_e0d55e42fdbcrow0_col20\" class=\"data row0 col20\" >False</td>\n",
       "                        <td id=\"T_78e62448_7e64_11e9_b58d_e0d55e42fdbcrow0_col21\" class=\"data row0 col21\" >1</td>\n",
       "                        <td id=\"T_78e62448_7e64_11e9_b58d_e0d55e42fdbcrow0_col22\" class=\"data row0 col22\" >True</td>\n",
       "                        <td id=\"T_78e62448_7e64_11e9_b58d_e0d55e42fdbcrow0_col23\" class=\"data row0 col23\" >False</td>\n",
       "                        <td id=\"T_78e62448_7e64_11e9_b58d_e0d55e42fdbcrow0_col24\" class=\"data row0 col24\" >False</td>\n",
       "                        <td id=\"T_78e62448_7e64_11e9_b58d_e0d55e42fdbcrow0_col25\" class=\"data row0 col25\" >True</td>\n",
       "                        <td id=\"T_78e62448_7e64_11e9_b58d_e0d55e42fdbcrow0_col26\" class=\"data row0 col26\" >Donostialdea (GIP)</td>\n",
       "                        <td id=\"T_78e62448_7e64_11e9_b58d_e0d55e42fdbcrow0_col27\" class=\"data row0 col27\" >Lezo</td>\n",
       "                        <td id=\"T_78e62448_7e64_11e9_b58d_e0d55e42fdbcrow0_col28\" class=\"data row0 col28\" >6045</td>\n",
       "                        <td id=\"T_78e62448_7e64_11e9_b58d_e0d55e42fdbcrow0_col29\" class=\"data row0 col29\" >19</td>\n",
       "                        <td id=\"T_78e62448_7e64_11e9_b58d_e0d55e42fdbcrow0_col30\" class=\"data row0 col30\" >64</td>\n",
       "                        <td id=\"T_78e62448_7e64_11e9_b58d_e0d55e42fdbcrow0_col31\" class=\"data row0 col31\" >17</td>\n",
       "                        <td id=\"T_78e62448_7e64_11e9_b58d_e0d55e42fdbcrow0_col32\" class=\"data row0 col32\" >5.6</td>\n",
       "                        <td id=\"T_78e62448_7e64_11e9_b58d_e0d55e42fdbcrow0_col33\" class=\"data row0 col33\" >18427</td>\n",
       "                        <td id=\"T_78e62448_7e64_11e9_b58d_e0d55e42fdbcrow0_col34\" class=\"data row0 col34\" >False</td>\n",
       "                        <td id=\"T_78e62448_7e64_11e9_b58d_e0d55e42fdbcrow0_col35\" class=\"data row0 col35\" >1</td>\n",
       "                        <td id=\"T_78e62448_7e64_11e9_b58d_e0d55e42fdbcrow0_col36\" class=\"data row0 col36\" >Lezo</td>\n",
       "            </tr>\n",
       "            <tr>\n",
       "                        <th id=\"T_78e62448_7e64_11e9_b58d_e0d55e42fdbclevel0_row1\" class=\"row_heading level0 row1\" >12437</th>\n",
       "                        <td id=\"T_78e62448_7e64_11e9_b58d_e0d55e42fdbcrow1_col0\" class=\"data row1 col0\" >39987420</td>\n",
       "                        <td id=\"T_78e62448_7e64_11e9_b58d_e0d55e42fdbcrow1_col1\" class=\"data row1 col1\" >CONVENTO de SANTA CLARA (CLARISAS) DESDE EL AÑO 1469 SITUADO EN ORDUÑA.,Tiene 5.500 m2 distribuidos en 3 plantas.,-En la planta baja se encuentra la iglesia, el claustro, la sacristía, la cocina, comedores, etc.,-En la primera planta se encuentran las habitaciones, locutorios, salas de labor, botica, biblioteca, etc. ,-La planta bajo cubierta se encuentra diáfana.,Tiene 24.000 metros de terreno. Este convento tenia anexo una hermosa huera de unas dos hectáreas, rodeada toda ella de una gruesa tapia de unos 3 mts. de altura. En dicha zona existen 2-3 manantiales de agua potable cuyo caudal es muy abundante. ,Imprescindible verlo. Consúltenos.</td>\n",
       "                        <td id=\"T_78e62448_7e64_11e9_b58d_e0d55e42fdbcrow1_col2\" class=\"data row1 col2\" >2400000</td>\n",
       "                        <td id=\"T_78e62448_7e64_11e9_b58d_e0d55e42fdbcrow1_col3\" class=\"data row1 col3\" >7</td>\n",
       "                        <td id=\"T_78e62448_7e64_11e9_b58d_e0d55e42fdbcrow1_col4\" class=\"data row1 col4\" >nan</td>\n",
       "                        <td id=\"T_78e62448_7e64_11e9_b58d_e0d55e42fdbcrow1_col5\" class=\"data row1 col5\" >nan</td>\n",
       "                        <td id=\"T_78e62448_7e64_11e9_b58d_e0d55e42fdbcrow1_col6\" class=\"data row1 col6\" >no indicado</td>\n",
       "                        <td id=\"T_78e62448_7e64_11e9_b58d_e0d55e42fdbcrow1_col7\" class=\"data row1 col7\" >nan</td>\n",
       "                        <td id=\"T_78e62448_7e64_11e9_b58d_e0d55e42fdbcrow1_col8\" class=\"data row1 col8\" >nan</td>\n",
       "                        <td id=\"T_78e62448_7e64_11e9_b58d_e0d55e42fdbcrow1_col9\" class=\"data row1 col9\" >individual: gas propano/butano</td>\n",
       "                        <td id=\"T_78e62448_7e64_11e9_b58d_e0d55e42fdbcrow1_col10\" class=\"data row1 col10\" >Casa o chalet</td>\n",
       "                        <td id=\"T_78e62448_7e64_11e9_b58d_e0d55e42fdbcrow1_col11\" class=\"data row1 col11\" >5500</td>\n",
       "                        <td id=\"T_78e62448_7e64_11e9_b58d_e0d55e42fdbcrow1_col12\" class=\"data row1 col12\" >nan</td>\n",
       "                        <td id=\"T_78e62448_7e64_11e9_b58d_e0d55e42fdbcrow1_col13\" class=\"data row1 col13\" >nan</td>\n",
       "                        <td id=\"T_78e62448_7e64_11e9_b58d_e0d55e42fdbcrow1_col14\" class=\"data row1 col14\" >10</td>\n",
       "                        <td id=\"T_78e62448_7e64_11e9_b58d_e0d55e42fdbcrow1_col15\" class=\"data row1 col15\" >False</td>\n",
       "                        <td id=\"T_78e62448_7e64_11e9_b58d_e0d55e42fdbcrow1_col16\" class=\"data row1 col16\" >False</td>\n",
       "                        <td id=\"T_78e62448_7e64_11e9_b58d_e0d55e42fdbcrow1_col17\" class=\"data row1 col17\" >False</td>\n",
       "                        <td id=\"T_78e62448_7e64_11e9_b58d_e0d55e42fdbcrow1_col18\" class=\"data row1 col18\" >False</td>\n",
       "                        <td id=\"T_78e62448_7e64_11e9_b58d_e0d55e42fdbcrow1_col19\" class=\"data row1 col19\" >nan</td>\n",
       "                        <td id=\"T_78e62448_7e64_11e9_b58d_e0d55e42fdbcrow1_col20\" class=\"data row1 col20\" >False</td>\n",
       "                        <td id=\"T_78e62448_7e64_11e9_b58d_e0d55e42fdbcrow1_col21\" class=\"data row1 col21\" >nan</td>\n",
       "                        <td id=\"T_78e62448_7e64_11e9_b58d_e0d55e42fdbcrow1_col22\" class=\"data row1 col22\" >False</td>\n",
       "                        <td id=\"T_78e62448_7e64_11e9_b58d_e0d55e42fdbcrow1_col23\" class=\"data row1 col23\" >False</td>\n",
       "                        <td id=\"T_78e62448_7e64_11e9_b58d_e0d55e42fdbcrow1_col24\" class=\"data row1 col24\" >False</td>\n",
       "                        <td id=\"T_78e62448_7e64_11e9_b58d_e0d55e42fdbcrow1_col25\" class=\"data row1 col25\" >False</td>\n",
       "                        <td id=\"T_78e62448_7e64_11e9_b58d_e0d55e42fdbcrow1_col26\" class=\"data row1 col26\" >Arratia-Nervión (BIZ)</td>\n",
       "                        <td id=\"T_78e62448_7e64_11e9_b58d_e0d55e42fdbcrow1_col27\" class=\"data row1 col27\" >Urduña/Orduña</td>\n",
       "                        <td id=\"T_78e62448_7e64_11e9_b58d_e0d55e42fdbcrow1_col28\" class=\"data row1 col28\" >4180</td>\n",
       "                        <td id=\"T_78e62448_7e64_11e9_b58d_e0d55e42fdbcrow1_col29\" class=\"data row1 col29\" >20</td>\n",
       "                        <td id=\"T_78e62448_7e64_11e9_b58d_e0d55e42fdbcrow1_col30\" class=\"data row1 col30\" >59</td>\n",
       "                        <td id=\"T_78e62448_7e64_11e9_b58d_e0d55e42fdbcrow1_col31\" class=\"data row1 col31\" >21</td>\n",
       "                        <td id=\"T_78e62448_7e64_11e9_b58d_e0d55e42fdbcrow1_col32\" class=\"data row1 col32\" >8.2</td>\n",
       "                        <td id=\"T_78e62448_7e64_11e9_b58d_e0d55e42fdbcrow1_col33\" class=\"data row1 col33\" >18107</td>\n",
       "                        <td id=\"T_78e62448_7e64_11e9_b58d_e0d55e42fdbcrow1_col34\" class=\"data row1 col34\" >nan</td>\n",
       "                        <td id=\"T_78e62448_7e64_11e9_b58d_e0d55e42fdbcrow1_col35\" class=\"data row1 col35\" >nan</td>\n",
       "                        <td id=\"T_78e62448_7e64_11e9_b58d_e0d55e42fdbcrow1_col36\" class=\"data row1 col36\" >Urduña/Orduña</td>\n",
       "            </tr>\n",
       "            <tr>\n",
       "                        <th id=\"T_78e62448_7e64_11e9_b58d_e0d55e42fdbclevel0_row2\" class=\"row_heading level0 row2\" >7385</th>\n",
       "                        <td id=\"T_78e62448_7e64_11e9_b58d_e0d55e42fdbcrow2_col0\" class=\"data row2 col0\" >85178086</td>\n",
       "                        <td id=\"T_78e62448_7e64_11e9_b58d_e0d55e42fdbcrow2_col1\" class=\"data row2 col1\" >Erandio junto al Makro, Nave industrial a la venta, situada en el municipio de Erandio (Bizkaia), concreta mente en Asua, la entrada al corredor del Txorierri. con acceso directo al Puente de Rontegui y la A-8. Superficie total: 4.900 m2. Altura máxima: 4,30 m. Sobrecarga entreplanta: 1.500 Kg/m2. Excelente localización y ubicación estratégica. Buena construcción y reformas importantes recientes en los edificios.</td>\n",
       "                        <td id=\"T_78e62448_7e64_11e9_b58d_e0d55e42fdbcrow2_col2\" class=\"data row2 col2\" >3000000</td>\n",
       "                        <td id=\"T_78e62448_7e64_11e9_b58d_e0d55e42fdbcrow2_col3\" class=\"data row2 col3\" >2</td>\n",
       "                        <td id=\"T_78e62448_7e64_11e9_b58d_e0d55e42fdbcrow2_col4\" class=\"data row2 col4\" >nan</td>\n",
       "                        <td id=\"T_78e62448_7e64_11e9_b58d_e0d55e42fdbcrow2_col5\" class=\"data row2 col5\" >nan</td>\n",
       "                        <td id=\"T_78e62448_7e64_11e9_b58d_e0d55e42fdbcrow2_col6\" class=\"data row2 col6\" >no indicado</td>\n",
       "                        <td id=\"T_78e62448_7e64_11e9_b58d_e0d55e42fdbcrow2_col7\" class=\"data row2 col7\" >nan</td>\n",
       "                        <td id=\"T_78e62448_7e64_11e9_b58d_e0d55e42fdbcrow2_col8\" class=\"data row2 col8\" >nan</td>\n",
       "                        <td id=\"T_78e62448_7e64_11e9_b58d_e0d55e42fdbcrow2_col9\" class=\"data row2 col9\" >nan</td>\n",
       "                        <td id=\"T_78e62448_7e64_11e9_b58d_e0d55e42fdbcrow2_col10\" class=\"data row2 col10\" >Piso</td>\n",
       "                        <td id=\"T_78e62448_7e64_11e9_b58d_e0d55e42fdbcrow2_col11\" class=\"data row2 col11\" >4900</td>\n",
       "                        <td id=\"T_78e62448_7e64_11e9_b58d_e0d55e42fdbcrow2_col12\" class=\"data row2 col12\" >nan</td>\n",
       "                        <td id=\"T_78e62448_7e64_11e9_b58d_e0d55e42fdbcrow2_col13\" class=\"data row2 col13\" >nan</td>\n",
       "                        <td id=\"T_78e62448_7e64_11e9_b58d_e0d55e42fdbcrow2_col14\" class=\"data row2 col14\" >3</td>\n",
       "                        <td id=\"T_78e62448_7e64_11e9_b58d_e0d55e42fdbcrow2_col15\" class=\"data row2 col15\" >False</td>\n",
       "                        <td id=\"T_78e62448_7e64_11e9_b58d_e0d55e42fdbcrow2_col16\" class=\"data row2 col16\" >False</td>\n",
       "                        <td id=\"T_78e62448_7e64_11e9_b58d_e0d55e42fdbcrow2_col17\" class=\"data row2 col17\" >False</td>\n",
       "                        <td id=\"T_78e62448_7e64_11e9_b58d_e0d55e42fdbcrow2_col18\" class=\"data row2 col18\" >False</td>\n",
       "                        <td id=\"T_78e62448_7e64_11e9_b58d_e0d55e42fdbcrow2_col19\" class=\"data row2 col19\" >nan</td>\n",
       "                        <td id=\"T_78e62448_7e64_11e9_b58d_e0d55e42fdbcrow2_col20\" class=\"data row2 col20\" >False</td>\n",
       "                        <td id=\"T_78e62448_7e64_11e9_b58d_e0d55e42fdbcrow2_col21\" class=\"data row2 col21\" >nan</td>\n",
       "                        <td id=\"T_78e62448_7e64_11e9_b58d_e0d55e42fdbcrow2_col22\" class=\"data row2 col22\" >False</td>\n",
       "                        <td id=\"T_78e62448_7e64_11e9_b58d_e0d55e42fdbcrow2_col23\" class=\"data row2 col23\" >False</td>\n",
       "                        <td id=\"T_78e62448_7e64_11e9_b58d_e0d55e42fdbcrow2_col24\" class=\"data row2 col24\" >False</td>\n",
       "                        <td id=\"T_78e62448_7e64_11e9_b58d_e0d55e42fdbcrow2_col25\" class=\"data row2 col25\" >False</td>\n",
       "                        <td id=\"T_78e62448_7e64_11e9_b58d_e0d55e42fdbcrow2_col26\" class=\"data row2 col26\" >Gran Bilbao (BIZ)</td>\n",
       "                        <td id=\"T_78e62448_7e64_11e9_b58d_e0d55e42fdbcrow2_col27\" class=\"data row2 col27\" >Erandio</td>\n",
       "                        <td id=\"T_78e62448_7e64_11e9_b58d_e0d55e42fdbcrow2_col28\" class=\"data row2 col28\" >24222</td>\n",
       "                        <td id=\"T_78e62448_7e64_11e9_b58d_e0d55e42fdbcrow2_col29\" class=\"data row2 col29\" >18</td>\n",
       "                        <td id=\"T_78e62448_7e64_11e9_b58d_e0d55e42fdbcrow2_col30\" class=\"data row2 col30\" >61</td>\n",
       "                        <td id=\"T_78e62448_7e64_11e9_b58d_e0d55e42fdbcrow2_col31\" class=\"data row2 col31\" >21</td>\n",
       "                        <td id=\"T_78e62448_7e64_11e9_b58d_e0d55e42fdbcrow2_col32\" class=\"data row2 col32\" >9.8</td>\n",
       "                        <td id=\"T_78e62448_7e64_11e9_b58d_e0d55e42fdbcrow2_col33\" class=\"data row2 col33\" >16001</td>\n",
       "                        <td id=\"T_78e62448_7e64_11e9_b58d_e0d55e42fdbcrow2_col34\" class=\"data row2 col34\" >nan</td>\n",
       "                        <td id=\"T_78e62448_7e64_11e9_b58d_e0d55e42fdbcrow2_col35\" class=\"data row2 col35\" >nan</td>\n",
       "                        <td id=\"T_78e62448_7e64_11e9_b58d_e0d55e42fdbcrow2_col36\" class=\"data row2 col36\" >Erandio</td>\n",
       "            </tr>\n",
       "            <tr>\n",
       "                        <th id=\"T_78e62448_7e64_11e9_b58d_e0d55e42fdbclevel0_row3\" class=\"row_heading level0 row3\" >6854</th>\n",
       "                        <td id=\"T_78e62448_7e64_11e9_b58d_e0d55e42fdbcrow3_col0\" class=\"data row3 col0\" >39733981</td>\n",
       "                        <td id=\"T_78e62448_7e64_11e9_b58d_e0d55e42fdbcrow3_col1\" class=\"data row3 col1\" >! EXCELENTE OPORTUNIDAD!, , Si quieres vivir en un piso reformado, cerca de colegios, parada de bus a 50 metros y a 5 minutos del Hospital de Cruces,  esta es tú casa., , Nos encontramos con una vivienda semi exterior que consta de dos habitaciones, salón, un baño y cocina. La calefacción y el agua caliente son eléctricas de bajo consumo, tiene una iluminación increíble principalmente en el salón y la cocina. Todos los armarios de la vivienda son empotrados, el suelo, ventanas y puertas recién reformados. En un edificio de hormigón., , ¡PARA ENTRAR A VIVIR!, ,Visita nuestra página Web:.</td>\n",
       "                        <td id=\"T_78e62448_7e64_11e9_b58d_e0d55e42fdbcrow3_col2\" class=\"data row3 col2\" >150000</td>\n",
       "                        <td id=\"T_78e62448_7e64_11e9_b58d_e0d55e42fdbcrow3_col3\" class=\"data row3 col3\" >1</td>\n",
       "                        <td id=\"T_78e62448_7e64_11e9_b58d_e0d55e42fdbcrow3_col4\" class=\"data row3 col4\" >buen estado</td>\n",
       "                        <td id=\"T_78e62448_7e64_11e9_b58d_e0d55e42fdbcrow3_col5\" class=\"data row3 col5\" >nan</td>\n",
       "                        <td id=\"T_78e62448_7e64_11e9_b58d_e0d55e42fdbcrow3_col6\" class=\"data row3 col6\" >en trámite</td>\n",
       "                        <td id=\"T_78e62448_7e64_11e9_b58d_e0d55e42fdbcrow3_col7\" class=\"data row3 col7\" >2ª</td>\n",
       "                        <td id=\"T_78e62448_7e64_11e9_b58d_e0d55e42fdbcrow3_col8\" class=\"data row3 col8\" >nan</td>\n",
       "                        <td id=\"T_78e62448_7e64_11e9_b58d_e0d55e42fdbcrow3_col9\" class=\"data row3 col9\" >nan</td>\n",
       "                        <td id=\"T_78e62448_7e64_11e9_b58d_e0d55e42fdbcrow3_col10\" class=\"data row3 col10\" >Piso</td>\n",
       "                        <td id=\"T_78e62448_7e64_11e9_b58d_e0d55e42fdbcrow3_col11\" class=\"data row3 col11\" >4653</td>\n",
       "                        <td id=\"T_78e62448_7e64_11e9_b58d_e0d55e42fdbcrow3_col12\" class=\"data row3 col12\" >46</td>\n",
       "                        <td id=\"T_78e62448_7e64_11e9_b58d_e0d55e42fdbcrow3_col13\" class=\"data row3 col13\" >sur, este</td>\n",
       "                        <td id=\"T_78e62448_7e64_11e9_b58d_e0d55e42fdbcrow3_col14\" class=\"data row3 col14\" >2</td>\n",
       "                        <td id=\"T_78e62448_7e64_11e9_b58d_e0d55e42fdbcrow3_col15\" class=\"data row3 col15\" >False</td>\n",
       "                        <td id=\"T_78e62448_7e64_11e9_b58d_e0d55e42fdbcrow3_col16\" class=\"data row3 col16\" >False</td>\n",
       "                        <td id=\"T_78e62448_7e64_11e9_b58d_e0d55e42fdbcrow3_col17\" class=\"data row3 col17\" >False</td>\n",
       "                        <td id=\"T_78e62448_7e64_11e9_b58d_e0d55e42fdbcrow3_col18\" class=\"data row3 col18\" >False</td>\n",
       "                        <td id=\"T_78e62448_7e64_11e9_b58d_e0d55e42fdbcrow3_col19\" class=\"data row3 col19\" >nan</td>\n",
       "                        <td id=\"T_78e62448_7e64_11e9_b58d_e0d55e42fdbcrow3_col20\" class=\"data row3 col20\" >False</td>\n",
       "                        <td id=\"T_78e62448_7e64_11e9_b58d_e0d55e42fdbcrow3_col21\" class=\"data row3 col21\" >0</td>\n",
       "                        <td id=\"T_78e62448_7e64_11e9_b58d_e0d55e42fdbcrow3_col22\" class=\"data row3 col22\" >False</td>\n",
       "                        <td id=\"T_78e62448_7e64_11e9_b58d_e0d55e42fdbcrow3_col23\" class=\"data row3 col23\" >False</td>\n",
       "                        <td id=\"T_78e62448_7e64_11e9_b58d_e0d55e42fdbcrow3_col24\" class=\"data row3 col24\" >False</td>\n",
       "                        <td id=\"T_78e62448_7e64_11e9_b58d_e0d55e42fdbcrow3_col25\" class=\"data row3 col25\" >False</td>\n",
       "                        <td id=\"T_78e62448_7e64_11e9_b58d_e0d55e42fdbcrow3_col26\" class=\"data row3 col26\" >Gran Bilbao (BIZ)</td>\n",
       "                        <td id=\"T_78e62448_7e64_11e9_b58d_e0d55e42fdbcrow3_col27\" class=\"data row3 col27\" >Barakaldo</td>\n",
       "                        <td id=\"T_78e62448_7e64_11e9_b58d_e0d55e42fdbcrow3_col28\" class=\"data row3 col28\" >100435</td>\n",
       "                        <td id=\"T_78e62448_7e64_11e9_b58d_e0d55e42fdbcrow3_col29\" class=\"data row3 col29\" >17</td>\n",
       "                        <td id=\"T_78e62448_7e64_11e9_b58d_e0d55e42fdbcrow3_col30\" class=\"data row3 col30\" >60</td>\n",
       "                        <td id=\"T_78e62448_7e64_11e9_b58d_e0d55e42fdbcrow3_col31\" class=\"data row3 col31\" >23</td>\n",
       "                        <td id=\"T_78e62448_7e64_11e9_b58d_e0d55e42fdbcrow3_col32\" class=\"data row3 col32\" >9</td>\n",
       "                        <td id=\"T_78e62448_7e64_11e9_b58d_e0d55e42fdbcrow3_col33\" class=\"data row3 col33\" >16935</td>\n",
       "                        <td id=\"T_78e62448_7e64_11e9_b58d_e0d55e42fdbcrow3_col34\" class=\"data row3 col34\" >False</td>\n",
       "                        <td id=\"T_78e62448_7e64_11e9_b58d_e0d55e42fdbcrow3_col35\" class=\"data row3 col35\" >1</td>\n",
       "                        <td id=\"T_78e62448_7e64_11e9_b58d_e0d55e42fdbcrow3_col36\" class=\"data row3 col36\" >Cruces (Bara)</td>\n",
       "            </tr>\n",
       "            <tr>\n",
       "                        <th id=\"T_78e62448_7e64_11e9_b58d_e0d55e42fdbclevel0_row4\" class=\"row_heading level0 row4\" >19740</th>\n",
       "                        <td id=\"T_78e62448_7e64_11e9_b58d_e0d55e42fdbcrow4_col0\" class=\"data row4 col0\" >81926009</td>\n",
       "                        <td id=\"T_78e62448_7e64_11e9_b58d_e0d55e42fdbcrow4_col1\" class=\"data row4 col1\" >Se vende edificio destinado antiguamente a camping en Itziar Deba. Se sitúa al lado de la carretera general que une Deba e Itziar.,El edificio ocupa una superficie construida de 618,61 metros cuadrados.,Consta de planta semisótano, planta baja, planta primera y planta bajo cubierta.,Interesante para diversos usos, residencia de la tercera edad, apartamentos turísticos...</td>\n",
       "                        <td id=\"T_78e62448_7e64_11e9_b58d_e0d55e42fdbcrow4_col2\" class=\"data row4 col2\" >800000</td>\n",
       "                        <td id=\"T_78e62448_7e64_11e9_b58d_e0d55e42fdbcrow4_col3\" class=\"data row4 col3\" >1</td>\n",
       "                        <td id=\"T_78e62448_7e64_11e9_b58d_e0d55e42fdbcrow4_col4\" class=\"data row4 col4\" >para reformar</td>\n",
       "                        <td id=\"T_78e62448_7e64_11e9_b58d_e0d55e42fdbcrow4_col5\" class=\"data row4 col5\" >nan</td>\n",
       "                        <td id=\"T_78e62448_7e64_11e9_b58d_e0d55e42fdbcrow4_col6\" class=\"data row4 col6\" >en trámite</td>\n",
       "                        <td id=\"T_78e62448_7e64_11e9_b58d_e0d55e42fdbcrow4_col7\" class=\"data row4 col7\" >nan</td>\n",
       "                        <td id=\"T_78e62448_7e64_11e9_b58d_e0d55e42fdbcrow4_col8\" class=\"data row4 col8\" >10000</td>\n",
       "                        <td id=\"T_78e62448_7e64_11e9_b58d_e0d55e42fdbcrow4_col9\" class=\"data row4 col9\" >nan</td>\n",
       "                        <td id=\"T_78e62448_7e64_11e9_b58d_e0d55e42fdbcrow4_col10\" class=\"data row4 col10\" >Finca rústica</td>\n",
       "                        <td id=\"T_78e62448_7e64_11e9_b58d_e0d55e42fdbcrow4_col11\" class=\"data row4 col11\" >2500</td>\n",
       "                        <td id=\"T_78e62448_7e64_11e9_b58d_e0d55e42fdbcrow4_col12\" class=\"data row4 col12\" >2000</td>\n",
       "                        <td id=\"T_78e62448_7e64_11e9_b58d_e0d55e42fdbcrow4_col13\" class=\"data row4 col13\" >nan</td>\n",
       "                        <td id=\"T_78e62448_7e64_11e9_b58d_e0d55e42fdbcrow4_col14\" class=\"data row4 col14\" >1</td>\n",
       "                        <td id=\"T_78e62448_7e64_11e9_b58d_e0d55e42fdbcrow4_col15\" class=\"data row4 col15\" >False</td>\n",
       "                        <td id=\"T_78e62448_7e64_11e9_b58d_e0d55e42fdbcrow4_col16\" class=\"data row4 col16\" >False</td>\n",
       "                        <td id=\"T_78e62448_7e64_11e9_b58d_e0d55e42fdbcrow4_col17\" class=\"data row4 col17\" >False</td>\n",
       "                        <td id=\"T_78e62448_7e64_11e9_b58d_e0d55e42fdbcrow4_col18\" class=\"data row4 col18\" >False</td>\n",
       "                        <td id=\"T_78e62448_7e64_11e9_b58d_e0d55e42fdbcrow4_col19\" class=\"data row4 col19\" >nan</td>\n",
       "                        <td id=\"T_78e62448_7e64_11e9_b58d_e0d55e42fdbcrow4_col20\" class=\"data row4 col20\" >True</td>\n",
       "                        <td id=\"T_78e62448_7e64_11e9_b58d_e0d55e42fdbcrow4_col21\" class=\"data row4 col21\" >nan</td>\n",
       "                        <td id=\"T_78e62448_7e64_11e9_b58d_e0d55e42fdbcrow4_col22\" class=\"data row4 col22\" >False</td>\n",
       "                        <td id=\"T_78e62448_7e64_11e9_b58d_e0d55e42fdbcrow4_col23\" class=\"data row4 col23\" >False</td>\n",
       "                        <td id=\"T_78e62448_7e64_11e9_b58d_e0d55e42fdbcrow4_col24\" class=\"data row4 col24\" >False</td>\n",
       "                        <td id=\"T_78e62448_7e64_11e9_b58d_e0d55e42fdbcrow4_col25\" class=\"data row4 col25\" >False</td>\n",
       "                        <td id=\"T_78e62448_7e64_11e9_b58d_e0d55e42fdbcrow4_col26\" class=\"data row4 col26\" >Bajo Deba (GIP)</td>\n",
       "                        <td id=\"T_78e62448_7e64_11e9_b58d_e0d55e42fdbcrow4_col27\" class=\"data row4 col27\" >Deba</td>\n",
       "                        <td id=\"T_78e62448_7e64_11e9_b58d_e0d55e42fdbcrow4_col28\" class=\"data row4 col28\" >5457</td>\n",
       "                        <td id=\"T_78e62448_7e64_11e9_b58d_e0d55e42fdbcrow4_col29\" class=\"data row4 col29\" >19</td>\n",
       "                        <td id=\"T_78e62448_7e64_11e9_b58d_e0d55e42fdbcrow4_col30\" class=\"data row4 col30\" >59</td>\n",
       "                        <td id=\"T_78e62448_7e64_11e9_b58d_e0d55e42fdbcrow4_col31\" class=\"data row4 col31\" >22</td>\n",
       "                        <td id=\"T_78e62448_7e64_11e9_b58d_e0d55e42fdbcrow4_col32\" class=\"data row4 col32\" >7.8</td>\n",
       "                        <td id=\"T_78e62448_7e64_11e9_b58d_e0d55e42fdbcrow4_col33\" class=\"data row4 col33\" >22065</td>\n",
       "                        <td id=\"T_78e62448_7e64_11e9_b58d_e0d55e42fdbcrow4_col34\" class=\"data row4 col34\" >nan</td>\n",
       "                        <td id=\"T_78e62448_7e64_11e9_b58d_e0d55e42fdbcrow4_col35\" class=\"data row4 col35\" >nan</td>\n",
       "                        <td id=\"T_78e62448_7e64_11e9_b58d_e0d55e42fdbcrow4_col36\" class=\"data row4 col36\" >Deba</td>\n",
       "            </tr>\n",
       "    </tbody></table>"
      ],
      "text/plain": [
       "<pandas.io.formats.style.Styler at 0x13d37ad9eb8>"
      ]
     },
     "execution_count": 55,
     "metadata": {},
     "output_type": "execute_result"
    }
   ],
   "source": [
    "out_m2 = len(df[df['m2_real'] >1500])\n",
    "(df\n",
    " .query('m2_real > 1500')\n",
    " .sort_values('m2_real',ascending=False)\n",
    " .head(5)\n",
    " .style.set_properties(subset=['ad_description'], **{'min-width': '1000px'})\n",
    ")"
   ]
  },
  {
   "cell_type": "markdown",
   "metadata": {
    "variables": {
     "out_m2": "<p><strong>NameError</strong>: name &#39;out_m2&#39; is not defined</p>\n"
    }
   },
   "source": [
    "Observamos que hay {{out_m2}} viviendas con precios superiores a los 1.500 $m^2$ reales, entre las cuales hay un convento, un camping, una nave industrial... este tipo de edificios quedan fuera de nuestro objeto de estudio y podrían generar distorsión, por lo que se eliminan. Por otro lado, encontramos nuevamente viviendas que tienen mal definida su superficie; éstas las corregimos de forma manual mediante la información contenida en otros campos:"
   ]
  },
  {
   "cell_type": "code",
   "execution_count": 56,
   "metadata": {
    "ExecuteTime": {
     "end_time": "2019-05-22T14:51:23.401259Z",
     "start_time": "2019-05-22T14:51:23.284135Z"
    }
   },
   "outputs": [
    {
     "name": "stdout",
     "output_type": "stream",
     "text": [
      "Se han descartado 5 viviendas\n"
     ]
    }
   ],
   "source": [
    "df['m2_real'][df.house_id == 82012713] = 90\n",
    "df['m2_real'][df.house_id == 39733981] = 46\n",
    "\n",
    "h_num = len(df[df.m2_real > 1500])\n",
    "df = df[df.m2_real < 1500]\n",
    "print(f'Se han descartado {h_num} viviendas')"
   ]
  },
  {
   "cell_type": "markdown",
   "metadata": {},
   "source": [
    "Por otro lado, en el otro extremo, exploramos si hay viviendas con valores de superficie nulos o negativos: "
   ]
  },
  {
   "cell_type": "code",
   "execution_count": 57,
   "metadata": {
    "ExecuteTime": {
     "end_time": "2019-05-22T14:51:23.415258Z",
     "start_time": "2019-05-22T14:51:23.403261Z"
    }
   },
   "outputs": [
    {
     "name": "stdout",
     "output_type": "stream",
     "text": [
      "Hay 0 viviendas con superficie nula o negativa\n"
     ]
    }
   ],
   "source": [
    "cnt = len(df.query('m2_real < 1'))\n",
    "print(f\"Hay {cnt} viviendas con superficie nula o negativa\")"
   ]
  },
  {
   "cell_type": "markdown",
   "metadata": {},
   "source": [
    "Una vez hemos gestionado los valores extremos de la variable <font color=#5F66A1>__m2_real__</font>, hacemos lo propio con <font color=#5F66A1>__m2_useful__</font>:"
   ]
  },
  {
   "cell_type": "code",
   "execution_count": 58,
   "metadata": {
    "ExecuteTime": {
     "end_time": "2019-05-22T14:51:23.536278Z",
     "start_time": "2019-05-22T14:51:23.416256Z"
    }
   },
   "outputs": [
    {
     "data": {
      "image/png": "[encoded data removed]",
      "text/plain": [
       "<Figure size 720x216 with 1 Axes>"
      ]
     },
     "metadata": {
      "needs_background": "light"
     },
     "output_type": "display_data"
    }
   ],
   "source": [
    "f, axes = plt.subplots(1, 1, figsize=(10, 3), sharex=True)\n",
    "sns.despine(left=True)\n",
    "\n",
    "(df\n",
    " .loc[:,'m2_useful']\n",
    " .dropna()\n",
    " .pipe(sns.boxplot, color=clr['pr'], boxprops=dict(alpha=.7)))\n",
    "\n",
    "plt.setp(axes, yticks=[])\n",
    "plt.tight_layout()"
   ]
  },
  {
   "cell_type": "markdown",
   "metadata": {},
   "source": [
    "Vemos que el valor más extremo se encuentra en los 1.200 $m^2$, lo cual entra dentro del rango plausible tras haber eliminado las casas con más de 1.500 $m^2$ reales, por lo que en este caso, no se realiza ninguna acción más, y se procede a verificar que no haya valores nulos o negativos:"
   ]
  },
  {
   "cell_type": "code",
   "execution_count": 59,
   "metadata": {
    "ExecuteTime": {
     "end_time": "2019-05-22T14:51:23.547259Z",
     "start_time": "2019-05-22T14:51:23.538259Z"
    }
   },
   "outputs": [
    {
     "name": "stdout",
     "output_type": "stream",
     "text": [
      "Hay 0 viviendas con superficie nulas o negativa\n"
     ]
    }
   ],
   "source": [
    "cnt = len(df.query('m2_useful < 1'))\n",
    "print(f\"Hay {cnt} viviendas con superficie nulas o negativa\")"
   ]
  },
  {
   "cell_type": "markdown",
   "metadata": {},
   "source": [
    "Por último, los metros útiles de una vivienda han de ser inferiores a sus metros reales. Verificamos si hay algún caso que no cumpla este criterio:"
   ]
  },
  {
   "cell_type": "code",
   "execution_count": 60,
   "metadata": {
    "ExecuteTime": {
     "end_time": "2019-05-22T14:51:23.561260Z",
     "start_time": "2019-05-22T14:51:23.549262Z"
    }
   },
   "outputs": [
    {
     "name": "stdout",
     "output_type": "stream",
     "text": [
      "Hay 0 viviendas con incongruencias entre las superficies\n"
     ]
    }
   ],
   "source": [
    "cnt = len(df.query('m2_real < m2_useful'))\n",
    "print(f\"Hay {cnt} viviendas con incongruencias entre las superficies\")"
   ]
  },
  {
   "cell_type": "markdown",
   "metadata": {},
   "source": [
    "Además, por lo general, los metros útiles se situan en torno a un 0%-20% por debajo de los metros reales. Por ello, exploremos gráficamente esta relación para hallar valores extremos:"
   ]
  },
  {
   "cell_type": "code",
   "execution_count": 61,
   "metadata": {
    "ExecuteTime": {
     "end_time": "2019-05-22T14:51:23.932276Z",
     "start_time": "2019-05-22T14:51:23.563274Z"
    }
   },
   "outputs": [
    {
     "data": {
      "image/png": "[encoded data removed]",
      "text/plain": [
       "<Figure size 864x432 with 1 Axes>"
      ]
     },
     "metadata": {
      "needs_background": "light"
     },
     "output_type": "display_data"
    }
   ],
   "source": [
    "f, axes = plt.subplots(1, 1, figsize=(12, 6), sharex=True)\n",
    "sns.despine(left=True)\n",
    "\n",
    "(df\n",
    " .pipe((sns.scatterplot, 'data'),x=\"m2_real\", y=\"m2_useful\", color=clr['pr'], legend=\"full\")\n",
    ")\n",
    "\n",
    "plt.plot([0,1200], [0, 1200], '-.', color='orange', linewidth = 2)\n",
    "plt.plot([80,1200], [0, 960], '-.', color='orange', linewidth = 2)\n",
    "plt.tight_layout()"
   ]
  },
  {
   "cell_type": "markdown",
   "metadata": {},
   "source": [
    "Comprobamos que, en efecto, la mayoría de viviendas tienen una relación esperada entre metros de construcción y metros útiles. No obstante, encontramos algunas viviendas con muy pocos metros útiles para los metros reales que tienen. En concreto, encontramos 2 muy alejadas. Para cotejar si son plausibles, las exploremos más a fondo:"
   ]
  },
  {
   "cell_type": "code",
   "execution_count": 62,
   "metadata": {
    "ExecuteTime": {
     "end_time": "2019-05-22T14:51:24.012277Z",
     "start_time": "2019-05-22T14:51:23.933278Z"
    }
   },
   "outputs": [
    {
     "data": {
      "text/html": [
       "<style  type=\"text/css\" >\n",
       "    #T_794015da_7e64_11e9_9abb_e0d55e42fdbcrow0_col1 {\n",
       "            min-width:  1400px;\n",
       "        }    #T_794015da_7e64_11e9_9abb_e0d55e42fdbcrow1_col1 {\n",
       "            min-width:  1400px;\n",
       "        }</style><table id=\"T_794015da_7e64_11e9_9abb_e0d55e42fdbc\" ><thead>    <tr>        <th class=\"blank level0\" ></th>        <th class=\"col_heading level0 col0\" >house_id</th>        <th class=\"col_heading level0 col1\" >ad_description</th>        <th class=\"col_heading level0 col2\" >price</th>        <th class=\"col_heading level0 col3\" >bath_num</th>        <th class=\"col_heading level0 col4\" >condition</th>        <th class=\"col_heading level0 col5\" >construct_date</th>        <th class=\"col_heading level0 col6\" >energetic_certif</th>        <th class=\"col_heading level0 col7\" >floor</th>        <th class=\"col_heading level0 col8\" >ground_size</th>        <th class=\"col_heading level0 col9\" >heating</th>        <th class=\"col_heading level0 col10\" >house_type</th>        <th class=\"col_heading level0 col11\" >m2_real</th>        <th class=\"col_heading level0 col12\" >m2_useful</th>        <th class=\"col_heading level0 col13\" >orientation</th>        <th class=\"col_heading level0 col14\" >room_num</th>        <th class=\"col_heading level0 col15\" >air_conditioner</th>        <th class=\"col_heading level0 col16\" >balcony</th>        <th class=\"col_heading level0 col17\" >built_in_wardrobe</th>        <th class=\"col_heading level0 col18\" >chimney</th>        <th class=\"col_heading level0 col19\" >garage</th>        <th class=\"col_heading level0 col20\" >garden</th>        <th class=\"col_heading level0 col21\" >lift</th>        <th class=\"col_heading level0 col22\" >reduced_mobility</th>        <th class=\"col_heading level0 col23\" >storage_room</th>        <th class=\"col_heading level0 col24\" >swimming_pool</th>        <th class=\"col_heading level0 col25\" >terrace</th>        <th class=\"col_heading level0 col26\" >loc_zone</th>        <th class=\"col_heading level0 col27\" >loc_city</th>        <th class=\"col_heading level0 col28\" >pop_total</th>        <th class=\"col_heading level0 col29\" >pop_0-19</th>        <th class=\"col_heading level0 col30\" >pop_20-64</th>        <th class=\"col_heading level0 col31\" >pop_>=65</th>        <th class=\"col_heading level0 col32\" >pop_foreign</th>        <th class=\"col_heading level0 col33\" >rent</th>        <th class=\"col_heading level0 col34\" >indoor</th>        <th class=\"col_heading level0 col35\" >floor_count</th>        <th class=\"col_heading level0 col36\" >location</th>        <th class=\"col_heading level0 col37\" >m2_relation</th>    </tr></thead><tbody>\n",
       "                <tr>\n",
       "                        <th id=\"T_794015da_7e64_11e9_9abb_e0d55e42fdbclevel0_row0\" class=\"row_heading level0 row0\" >20097</th>\n",
       "                        <td id=\"T_794015da_7e64_11e9_9abb_e0d55e42fdbcrow0_col0\" class=\"data row0 col0\" >85089573</td>\n",
       "                        <td id=\"T_794015da_7e64_11e9_9abb_e0d55e42fdbcrow0_col1\" class=\"data row0 col1\" >Ideal para los que buscan la máxima comodidad., , Apartamento de dos habitaciones en edificio de 15 años y ubicación inmejorable: junto a la Plaza Grande y Leku-Eder., , La vivienda está aprovechada al máximo. El hall ubicado en el centro de la vivienda, separa, por un lado, las zonas comunes (cocina y salón) que se conectan en un espacio diáfano con vistas a Aita Agirre Plaza, que tiene orientación sur por lo que entra mucha luminosidad. Al otro lado del hall, encontramos el baño completo con bañera y las dos habitaciones que dan a San Bartolomé, una de ellas con balcón.  , , Características:, - Edificio de hormigón, - Tanto las ventanas como las puertas son de madera barnizada y las ventanas tienen además doble acristalamiento.  , - Caldera individual de gas natural y radiadores de aluminio en todas las estancias., - Acceso desde Aita Agirre Plaza, sin barreras arquitectónicas., ,  , ,CEE en trámite.</td>\n",
       "                        <td id=\"T_794015da_7e64_11e9_9abb_e0d55e42fdbcrow0_col2\" class=\"data row0 col2\" >188000</td>\n",
       "                        <td id=\"T_794015da_7e64_11e9_9abb_e0d55e42fdbcrow0_col3\" class=\"data row0 col3\" >1</td>\n",
       "                        <td id=\"T_794015da_7e64_11e9_9abb_e0d55e42fdbcrow0_col4\" class=\"data row0 col4\" >buen estado</td>\n",
       "                        <td id=\"T_794015da_7e64_11e9_9abb_e0d55e42fdbcrow0_col5\" class=\"data row0 col5\" >nan</td>\n",
       "                        <td id=\"T_794015da_7e64_11e9_9abb_e0d55e42fdbcrow0_col6\" class=\"data row0 col6\" >en trámite</td>\n",
       "                        <td id=\"T_794015da_7e64_11e9_9abb_e0d55e42fdbcrow0_col7\" class=\"data row0 col7\" >2ª</td>\n",
       "                        <td id=\"T_794015da_7e64_11e9_9abb_e0d55e42fdbcrow0_col8\" class=\"data row0 col8\" >nan</td>\n",
       "                        <td id=\"T_794015da_7e64_11e9_9abb_e0d55e42fdbcrow0_col9\" class=\"data row0 col9\" >nan</td>\n",
       "                        <td id=\"T_794015da_7e64_11e9_9abb_e0d55e42fdbcrow0_col10\" class=\"data row0 col10\" >Piso</td>\n",
       "                        <td id=\"T_794015da_7e64_11e9_9abb_e0d55e42fdbcrow0_col11\" class=\"data row0 col11\" >740</td>\n",
       "                        <td id=\"T_794015da_7e64_11e9_9abb_e0d55e42fdbcrow0_col12\" class=\"data row0 col12\" >74</td>\n",
       "                        <td id=\"T_794015da_7e64_11e9_9abb_e0d55e42fdbcrow0_col13\" class=\"data row0 col13\" >nan</td>\n",
       "                        <td id=\"T_794015da_7e64_11e9_9abb_e0d55e42fdbcrow0_col14\" class=\"data row0 col14\" >2</td>\n",
       "                        <td id=\"T_794015da_7e64_11e9_9abb_e0d55e42fdbcrow0_col15\" class=\"data row0 col15\" >False</td>\n",
       "                        <td id=\"T_794015da_7e64_11e9_9abb_e0d55e42fdbcrow0_col16\" class=\"data row0 col16\" >False</td>\n",
       "                        <td id=\"T_794015da_7e64_11e9_9abb_e0d55e42fdbcrow0_col17\" class=\"data row0 col17\" >False</td>\n",
       "                        <td id=\"T_794015da_7e64_11e9_9abb_e0d55e42fdbcrow0_col18\" class=\"data row0 col18\" >False</td>\n",
       "                        <td id=\"T_794015da_7e64_11e9_9abb_e0d55e42fdbcrow0_col19\" class=\"data row0 col19\" >nan</td>\n",
       "                        <td id=\"T_794015da_7e64_11e9_9abb_e0d55e42fdbcrow0_col20\" class=\"data row0 col20\" >False</td>\n",
       "                        <td id=\"T_794015da_7e64_11e9_9abb_e0d55e42fdbcrow0_col21\" class=\"data row0 col21\" >1</td>\n",
       "                        <td id=\"T_794015da_7e64_11e9_9abb_e0d55e42fdbcrow0_col22\" class=\"data row0 col22\" >False</td>\n",
       "                        <td id=\"T_794015da_7e64_11e9_9abb_e0d55e42fdbcrow0_col23\" class=\"data row0 col23\" >False</td>\n",
       "                        <td id=\"T_794015da_7e64_11e9_9abb_e0d55e42fdbcrow0_col24\" class=\"data row0 col24\" >False</td>\n",
       "                        <td id=\"T_794015da_7e64_11e9_9abb_e0d55e42fdbcrow0_col25\" class=\"data row0 col25\" >True</td>\n",
       "                        <td id=\"T_794015da_7e64_11e9_9abb_e0d55e42fdbcrow0_col26\" class=\"data row0 col26\" >Bajo Deba (GIP)</td>\n",
       "                        <td id=\"T_794015da_7e64_11e9_9abb_e0d55e42fdbcrow0_col27\" class=\"data row0 col27\" >Elgoibar</td>\n",
       "                        <td id=\"T_794015da_7e64_11e9_9abb_e0d55e42fdbcrow0_col28\" class=\"data row0 col28\" >11582</td>\n",
       "                        <td id=\"T_794015da_7e64_11e9_9abb_e0d55e42fdbcrow0_col29\" class=\"data row0 col29\" >20</td>\n",
       "                        <td id=\"T_794015da_7e64_11e9_9abb_e0d55e42fdbcrow0_col30\" class=\"data row0 col30\" >58</td>\n",
       "                        <td id=\"T_794015da_7e64_11e9_9abb_e0d55e42fdbcrow0_col31\" class=\"data row0 col31\" >22</td>\n",
       "                        <td id=\"T_794015da_7e64_11e9_9abb_e0d55e42fdbcrow0_col32\" class=\"data row0 col32\" >10.2</td>\n",
       "                        <td id=\"T_794015da_7e64_11e9_9abb_e0d55e42fdbcrow0_col33\" class=\"data row0 col33\" >21714</td>\n",
       "                        <td id=\"T_794015da_7e64_11e9_9abb_e0d55e42fdbcrow0_col34\" class=\"data row0 col34\" >False</td>\n",
       "                        <td id=\"T_794015da_7e64_11e9_9abb_e0d55e42fdbcrow0_col35\" class=\"data row0 col35\" >1</td>\n",
       "                        <td id=\"T_794015da_7e64_11e9_9abb_e0d55e42fdbcrow0_col36\" class=\"data row0 col36\" >Elgoibar</td>\n",
       "                        <td id=\"T_794015da_7e64_11e9_9abb_e0d55e42fdbcrow0_col37\" class=\"data row0 col37\" >666</td>\n",
       "            </tr>\n",
       "            <tr>\n",
       "                        <th id=\"T_794015da_7e64_11e9_9abb_e0d55e42fdbclevel0_row1\" class=\"row_heading level0 row1\" >17787</th>\n",
       "                        <td id=\"T_794015da_7e64_11e9_9abb_e0d55e42fdbcrow1_col0\" class=\"data row1 col0\" >84234935</td>\n",
       "                        <td id=\"T_794015da_7e64_11e9_9abb_e0d55e42fdbcrow1_col1\" class=\"data row1 col1\" >CASA EN UNA PLANTA EN PARCELA  DE 650 m2, de reciente construcción en la zona de andara mari. Consta de salón-comedor, cocina americana y salida a amplio porche, 3 habitaciones y 2  baños ( 1 incorporado en la habitación principal)., , Posibilidad de ampliar la vivienda., , En perfecto estado., ,Plentzia es un municipio de Bizkaia, ubicado en la margen derecha del último meandro de su ría, justo antes de su desembocadura en la bahía de Plencia. Se encuentra a unos 25 kilómetros al norte de Bilbao. Plentzia está muy bien comunicado ya que es la última parada de la estación Línea 1 del Metro Bilbao, por carretera el acceso se realiza por la carretera BI-2122 desde Sopelana o la BI-2120  desde Mungia y también la línea A3451 de Bizkaibus que tiene el recorrido: Las Arenas/Areeta - Armintza.</td>\n",
       "                        <td id=\"T_794015da_7e64_11e9_9abb_e0d55e42fdbcrow1_col2\" class=\"data row1 col2\" >455000</td>\n",
       "                        <td id=\"T_794015da_7e64_11e9_9abb_e0d55e42fdbcrow1_col3\" class=\"data row1 col3\" >2</td>\n",
       "                        <td id=\"T_794015da_7e64_11e9_9abb_e0d55e42fdbcrow1_col4\" class=\"data row1 col4\" >buen estado</td>\n",
       "                        <td id=\"T_794015da_7e64_11e9_9abb_e0d55e42fdbcrow1_col5\" class=\"data row1 col5\" >nan</td>\n",
       "                        <td id=\"T_794015da_7e64_11e9_9abb_e0d55e42fdbcrow1_col6\" class=\"data row1 col6\" >en trámite</td>\n",
       "                        <td id=\"T_794015da_7e64_11e9_9abb_e0d55e42fdbcrow1_col7\" class=\"data row1 col7\" >nan</td>\n",
       "                        <td id=\"T_794015da_7e64_11e9_9abb_e0d55e42fdbcrow1_col8\" class=\"data row1 col8\" >nan</td>\n",
       "                        <td id=\"T_794015da_7e64_11e9_9abb_e0d55e42fdbcrow1_col9\" class=\"data row1 col9\" >nan</td>\n",
       "                        <td id=\"T_794015da_7e64_11e9_9abb_e0d55e42fdbcrow1_col10\" class=\"data row1 col10\" >Casa o chalet</td>\n",
       "                        <td id=\"T_794015da_7e64_11e9_9abb_e0d55e42fdbcrow1_col11\" class=\"data row1 col11\" >650</td>\n",
       "                        <td id=\"T_794015da_7e64_11e9_9abb_e0d55e42fdbcrow1_col12\" class=\"data row1 col12\" >110</td>\n",
       "                        <td id=\"T_794015da_7e64_11e9_9abb_e0d55e42fdbcrow1_col13\" class=\"data row1 col13\" >nan</td>\n",
       "                        <td id=\"T_794015da_7e64_11e9_9abb_e0d55e42fdbcrow1_col14\" class=\"data row1 col14\" >3</td>\n",
       "                        <td id=\"T_794015da_7e64_11e9_9abb_e0d55e42fdbcrow1_col15\" class=\"data row1 col15\" >False</td>\n",
       "                        <td id=\"T_794015da_7e64_11e9_9abb_e0d55e42fdbcrow1_col16\" class=\"data row1 col16\" >False</td>\n",
       "                        <td id=\"T_794015da_7e64_11e9_9abb_e0d55e42fdbcrow1_col17\" class=\"data row1 col17\" >False</td>\n",
       "                        <td id=\"T_794015da_7e64_11e9_9abb_e0d55e42fdbcrow1_col18\" class=\"data row1 col18\" >False</td>\n",
       "                        <td id=\"T_794015da_7e64_11e9_9abb_e0d55e42fdbcrow1_col19\" class=\"data row1 col19\" >nan</td>\n",
       "                        <td id=\"T_794015da_7e64_11e9_9abb_e0d55e42fdbcrow1_col20\" class=\"data row1 col20\" >False</td>\n",
       "                        <td id=\"T_794015da_7e64_11e9_9abb_e0d55e42fdbcrow1_col21\" class=\"data row1 col21\" >nan</td>\n",
       "                        <td id=\"T_794015da_7e64_11e9_9abb_e0d55e42fdbcrow1_col22\" class=\"data row1 col22\" >False</td>\n",
       "                        <td id=\"T_794015da_7e64_11e9_9abb_e0d55e42fdbcrow1_col23\" class=\"data row1 col23\" >False</td>\n",
       "                        <td id=\"T_794015da_7e64_11e9_9abb_e0d55e42fdbcrow1_col24\" class=\"data row1 col24\" >False</td>\n",
       "                        <td id=\"T_794015da_7e64_11e9_9abb_e0d55e42fdbcrow1_col25\" class=\"data row1 col25\" >False</td>\n",
       "                        <td id=\"T_794015da_7e64_11e9_9abb_e0d55e42fdbcrow1_col26\" class=\"data row1 col26\" >Uribe-Butroe (BIZ)</td>\n",
       "                        <td id=\"T_794015da_7e64_11e9_9abb_e0d55e42fdbcrow1_col27\" class=\"data row1 col27\" >Plentzia</td>\n",
       "                        <td id=\"T_794015da_7e64_11e9_9abb_e0d55e42fdbcrow1_col28\" class=\"data row1 col28\" >4363</td>\n",
       "                        <td id=\"T_794015da_7e64_11e9_9abb_e0d55e42fdbcrow1_col29\" class=\"data row1 col29\" >20</td>\n",
       "                        <td id=\"T_794015da_7e64_11e9_9abb_e0d55e42fdbcrow1_col30\" class=\"data row1 col30\" >63</td>\n",
       "                        <td id=\"T_794015da_7e64_11e9_9abb_e0d55e42fdbcrow1_col31\" class=\"data row1 col31\" >17</td>\n",
       "                        <td id=\"T_794015da_7e64_11e9_9abb_e0d55e42fdbcrow1_col32\" class=\"data row1 col32\" >9.3</td>\n",
       "                        <td id=\"T_794015da_7e64_11e9_9abb_e0d55e42fdbcrow1_col33\" class=\"data row1 col33\" >22374</td>\n",
       "                        <td id=\"T_794015da_7e64_11e9_9abb_e0d55e42fdbcrow1_col34\" class=\"data row1 col34\" >nan</td>\n",
       "                        <td id=\"T_794015da_7e64_11e9_9abb_e0d55e42fdbcrow1_col35\" class=\"data row1 col35\" >nan</td>\n",
       "                        <td id=\"T_794015da_7e64_11e9_9abb_e0d55e42fdbcrow1_col36\" class=\"data row1 col36\" >Plentzia</td>\n",
       "                        <td id=\"T_794015da_7e64_11e9_9abb_e0d55e42fdbcrow1_col37\" class=\"data row1 col37\" >540</td>\n",
       "            </tr>\n",
       "    </tbody></table>"
      ],
      "text/plain": [
       "<pandas.io.formats.style.Styler at 0x13d3709fe10>"
      ]
     },
     "execution_count": 62,
     "metadata": {},
     "output_type": "execute_result"
    }
   ],
   "source": [
    "df['m2_relation'] = df['m2_real'] - df['m2_useful']\n",
    "\n",
    "(df\n",
    " .sort_values('m2_relation', ascending=False)[:2]\n",
    " .style.set_properties(subset=['ad_description'], **{'min-width': '1400px'})\n",
    ")"
   ]
  },
  {
   "cell_type": "markdown",
   "metadata": {},
   "source": [
    "Vemos que en el primer caso, se ha asigando un 0 de menos a la variable de metros útiles, y en el segundo, se han asignado los metros de la parcela a la variable de metros reales. Por lo tanto, se corrigen:"
   ]
  },
  {
   "cell_type": "code",
   "execution_count": 63,
   "metadata": {
    "ExecuteTime": {
     "end_time": "2019-05-22T14:51:24.132278Z",
     "start_time": "2019-05-22T14:51:24.013282Z"
    }
   },
   "outputs": [],
   "source": [
    "df = df.drop(columns='m2_relation')\n",
    "df['m2_useful'][df.house_id == 85089573] = 740\n",
    "df['m2_real'][df.house_id == 84234935] = 130"
   ]
  },
  {
   "cell_type": "markdown",
   "metadata": {},
   "source": [
    "### <font color=#5F66A1>ground_size</font>"
   ]
  },
  {
   "cell_type": "code",
   "execution_count": 64,
   "metadata": {
    "ExecuteTime": {
     "end_time": "2019-05-22T14:51:24.268120Z",
     "start_time": "2019-05-22T14:51:24.134269Z"
    },
    "pycharm": {
     "name": "#%%\n"
    }
   },
   "outputs": [
    {
     "data": {
      "image/png": "[encoded data removed]",
      "text/plain": [
       "<Figure size 864x216 with 1 Axes>"
      ]
     },
     "metadata": {
      "needs_background": "light"
     },
     "output_type": "display_data"
    }
   ],
   "source": [
    "f, axes = plt.subplots(1, 1, figsize=(12, 3), sharex=True)\n",
    "sns.despine(left=True)\n",
    "\n",
    "(df\n",
    " .loc[:,'ground_size']\n",
    " .pipe(sns.boxplot, color=clr['pr'], boxprops=dict(alpha=.7)))\n",
    "\n",
    "plt.setp(axes, yticks=[])\n",
    "plt.tight_layout()"
   ]
  },
  {
   "cell_type": "markdown",
   "metadata": {},
   "source": [
    "Se observa como hay valores muy extremos, con uno especialmente alejado del resto. Analizamos los más extremos:"
   ]
  },
  {
   "cell_type": "code",
   "execution_count": 65,
   "metadata": {
    "ExecuteTime": {
     "end_time": "2019-05-22T14:51:24.297127Z",
     "start_time": "2019-05-22T14:51:24.269114Z"
    }
   },
   "outputs": [
    {
     "data": {
      "text/html": [
       "<style  type=\"text/css\" >\n",
       "    #T_795cd7cc_7e64_11e9_8f62_e0d55e42fdbcrow0_col1 {\n",
       "            min-width:  1600px;\n",
       "        }    #T_795cd7cc_7e64_11e9_8f62_e0d55e42fdbcrow1_col1 {\n",
       "            min-width:  1600px;\n",
       "        }    #T_795cd7cc_7e64_11e9_8f62_e0d55e42fdbcrow2_col1 {\n",
       "            min-width:  1600px;\n",
       "        }    #T_795cd7cc_7e64_11e9_8f62_e0d55e42fdbcrow3_col1 {\n",
       "            min-width:  1600px;\n",
       "        }    #T_795cd7cc_7e64_11e9_8f62_e0d55e42fdbcrow4_col1 {\n",
       "            min-width:  1600px;\n",
       "        }</style><table id=\"T_795cd7cc_7e64_11e9_8f62_e0d55e42fdbc\" ><thead>    <tr>        <th class=\"blank level0\" ></th>        <th class=\"col_heading level0 col0\" >house_id</th>        <th class=\"col_heading level0 col1\" >ad_description</th>        <th class=\"col_heading level0 col2\" >price</th>        <th class=\"col_heading level0 col3\" >bath_num</th>        <th class=\"col_heading level0 col4\" >condition</th>        <th class=\"col_heading level0 col5\" >construct_date</th>        <th class=\"col_heading level0 col6\" >energetic_certif</th>        <th class=\"col_heading level0 col7\" >floor</th>        <th class=\"col_heading level0 col8\" >ground_size</th>        <th class=\"col_heading level0 col9\" >heating</th>        <th class=\"col_heading level0 col10\" >house_type</th>        <th class=\"col_heading level0 col11\" >m2_real</th>        <th class=\"col_heading level0 col12\" >m2_useful</th>        <th class=\"col_heading level0 col13\" >orientation</th>        <th class=\"col_heading level0 col14\" >room_num</th>        <th class=\"col_heading level0 col15\" >air_conditioner</th>        <th class=\"col_heading level0 col16\" >balcony</th>        <th class=\"col_heading level0 col17\" >built_in_wardrobe</th>        <th class=\"col_heading level0 col18\" >chimney</th>        <th class=\"col_heading level0 col19\" >garage</th>        <th class=\"col_heading level0 col20\" >garden</th>        <th class=\"col_heading level0 col21\" >lift</th>        <th class=\"col_heading level0 col22\" >reduced_mobility</th>        <th class=\"col_heading level0 col23\" >storage_room</th>        <th class=\"col_heading level0 col24\" >swimming_pool</th>        <th class=\"col_heading level0 col25\" >terrace</th>        <th class=\"col_heading level0 col26\" >loc_zone</th>        <th class=\"col_heading level0 col27\" >loc_city</th>        <th class=\"col_heading level0 col28\" >pop_total</th>        <th class=\"col_heading level0 col29\" >pop_0-19</th>        <th class=\"col_heading level0 col30\" >pop_20-64</th>        <th class=\"col_heading level0 col31\" >pop_>=65</th>        <th class=\"col_heading level0 col32\" >pop_foreign</th>        <th class=\"col_heading level0 col33\" >rent</th>        <th class=\"col_heading level0 col34\" >indoor</th>        <th class=\"col_heading level0 col35\" >floor_count</th>        <th class=\"col_heading level0 col36\" >location</th>    </tr></thead><tbody>\n",
       "                <tr>\n",
       "                        <th id=\"T_795cd7cc_7e64_11e9_8f62_e0d55e42fdbclevel0_row0\" class=\"row_heading level0 row0\" >518</th>\n",
       "                        <td id=\"T_795cd7cc_7e64_11e9_8f62_e0d55e42fdbcrow0_col0\" class=\"data row0 col0\" >34130148</td>\n",
       "                        <td id=\"T_795cd7cc_7e64_11e9_8f62_e0d55e42fdbcrow0_col1\" class=\"data row0 col1\" >Se vende caserío antiguo de dos viviendas de unos 450 m2 en Amoroto (Bizkaia) con 32 hectáreas de plantación de pino de 28 años y eucalipto. Todo el terreno en una única finca. Cerca de Lekeitio.</td>\n",
       "                        <td id=\"T_795cd7cc_7e64_11e9_8f62_e0d55e42fdbcrow0_col2\" class=\"data row0 col2\" >550000</td>\n",
       "                        <td id=\"T_795cd7cc_7e64_11e9_8f62_e0d55e42fdbcrow0_col3\" class=\"data row0 col3\" >1</td>\n",
       "                        <td id=\"T_795cd7cc_7e64_11e9_8f62_e0d55e42fdbcrow0_col4\" class=\"data row0 col4\" >para reformar</td>\n",
       "                        <td id=\"T_795cd7cc_7e64_11e9_8f62_e0d55e42fdbcrow0_col5\" class=\"data row0 col5\" >nan</td>\n",
       "                        <td id=\"T_795cd7cc_7e64_11e9_8f62_e0d55e42fdbcrow0_col6\" class=\"data row0 col6\" >no indicado</td>\n",
       "                        <td id=\"T_795cd7cc_7e64_11e9_8f62_e0d55e42fdbcrow0_col7\" class=\"data row0 col7\" >nan</td>\n",
       "                        <td id=\"T_795cd7cc_7e64_11e9_8f62_e0d55e42fdbcrow0_col8\" class=\"data row0 col8\" >320000</td>\n",
       "                        <td id=\"T_795cd7cc_7e64_11e9_8f62_e0d55e42fdbcrow0_col9\" class=\"data row0 col9\" >nan</td>\n",
       "                        <td id=\"T_795cd7cc_7e64_11e9_8f62_e0d55e42fdbcrow0_col10\" class=\"data row0 col10\" >Casa rural</td>\n",
       "                        <td id=\"T_795cd7cc_7e64_11e9_8f62_e0d55e42fdbcrow0_col11\" class=\"data row0 col11\" >450</td>\n",
       "                        <td id=\"T_795cd7cc_7e64_11e9_8f62_e0d55e42fdbcrow0_col12\" class=\"data row0 col12\" >440</td>\n",
       "                        <td id=\"T_795cd7cc_7e64_11e9_8f62_e0d55e42fdbcrow0_col13\" class=\"data row0 col13\" >sur</td>\n",
       "                        <td id=\"T_795cd7cc_7e64_11e9_8f62_e0d55e42fdbcrow0_col14\" class=\"data row0 col14\" >6</td>\n",
       "                        <td id=\"T_795cd7cc_7e64_11e9_8f62_e0d55e42fdbcrow0_col15\" class=\"data row0 col15\" >False</td>\n",
       "                        <td id=\"T_795cd7cc_7e64_11e9_8f62_e0d55e42fdbcrow0_col16\" class=\"data row0 col16\" >False</td>\n",
       "                        <td id=\"T_795cd7cc_7e64_11e9_8f62_e0d55e42fdbcrow0_col17\" class=\"data row0 col17\" >False</td>\n",
       "                        <td id=\"T_795cd7cc_7e64_11e9_8f62_e0d55e42fdbcrow0_col18\" class=\"data row0 col18\" >False</td>\n",
       "                        <td id=\"T_795cd7cc_7e64_11e9_8f62_e0d55e42fdbcrow0_col19\" class=\"data row0 col19\" >nan</td>\n",
       "                        <td id=\"T_795cd7cc_7e64_11e9_8f62_e0d55e42fdbcrow0_col20\" class=\"data row0 col20\" >False</td>\n",
       "                        <td id=\"T_795cd7cc_7e64_11e9_8f62_e0d55e42fdbcrow0_col21\" class=\"data row0 col21\" >nan</td>\n",
       "                        <td id=\"T_795cd7cc_7e64_11e9_8f62_e0d55e42fdbcrow0_col22\" class=\"data row0 col22\" >False</td>\n",
       "                        <td id=\"T_795cd7cc_7e64_11e9_8f62_e0d55e42fdbcrow0_col23\" class=\"data row0 col23\" >False</td>\n",
       "                        <td id=\"T_795cd7cc_7e64_11e9_8f62_e0d55e42fdbcrow0_col24\" class=\"data row0 col24\" >False</td>\n",
       "                        <td id=\"T_795cd7cc_7e64_11e9_8f62_e0d55e42fdbcrow0_col25\" class=\"data row0 col25\" >False</td>\n",
       "                        <td id=\"T_795cd7cc_7e64_11e9_8f62_e0d55e42fdbcrow0_col26\" class=\"data row0 col26\" >Lea-Artibai (BIZ)</td>\n",
       "                        <td id=\"T_795cd7cc_7e64_11e9_8f62_e0d55e42fdbcrow0_col27\" class=\"data row0 col27\" >Amoroto</td>\n",
       "                        <td id=\"T_795cd7cc_7e64_11e9_8f62_e0d55e42fdbcrow0_col28\" class=\"data row0 col28\" >419</td>\n",
       "                        <td id=\"T_795cd7cc_7e64_11e9_8f62_e0d55e42fdbcrow0_col29\" class=\"data row0 col29\" >20</td>\n",
       "                        <td id=\"T_795cd7cc_7e64_11e9_8f62_e0d55e42fdbcrow0_col30\" class=\"data row0 col30\" >59</td>\n",
       "                        <td id=\"T_795cd7cc_7e64_11e9_8f62_e0d55e42fdbcrow0_col31\" class=\"data row0 col31\" >21</td>\n",
       "                        <td id=\"T_795cd7cc_7e64_11e9_8f62_e0d55e42fdbcrow0_col32\" class=\"data row0 col32\" >6.7</td>\n",
       "                        <td id=\"T_795cd7cc_7e64_11e9_8f62_e0d55e42fdbcrow0_col33\" class=\"data row0 col33\" >19570</td>\n",
       "                        <td id=\"T_795cd7cc_7e64_11e9_8f62_e0d55e42fdbcrow0_col34\" class=\"data row0 col34\" >False</td>\n",
       "                        <td id=\"T_795cd7cc_7e64_11e9_8f62_e0d55e42fdbcrow0_col35\" class=\"data row0 col35\" >3</td>\n",
       "                        <td id=\"T_795cd7cc_7e64_11e9_8f62_e0d55e42fdbcrow0_col36\" class=\"data row0 col36\" >Amoroto</td>\n",
       "            </tr>\n",
       "            <tr>\n",
       "                        <th id=\"T_795cd7cc_7e64_11e9_8f62_e0d55e42fdbclevel0_row1\" class=\"row_heading level0 row1\" >17685</th>\n",
       "                        <td id=\"T_795cd7cc_7e64_11e9_8f62_e0d55e42fdbcrow1_col0\" class=\"data row1 col0\" >26435818</td>\n",
       "                        <td id=\"T_795cd7cc_7e64_11e9_8f62_e0d55e42fdbcrow1_col1\" class=\"data row1 col1\" >caserio señoria del año 1444 de 700m2 + borda y 180.000 m2 de terreno. Espectacular estructura de madera. Tejado a cuatro aguas. Todo a reformar. Licencia para dos viviendas y posibilidad de negocio.</td>\n",
       "                        <td id=\"T_795cd7cc_7e64_11e9_8f62_e0d55e42fdbcrow1_col2\" class=\"data row1 col2\" >730000</td>\n",
       "                        <td id=\"T_795cd7cc_7e64_11e9_8f62_e0d55e42fdbcrow1_col3\" class=\"data row1 col3\" >1</td>\n",
       "                        <td id=\"T_795cd7cc_7e64_11e9_8f62_e0d55e42fdbcrow1_col4\" class=\"data row1 col4\" >para reformar</td>\n",
       "                        <td id=\"T_795cd7cc_7e64_11e9_8f62_e0d55e42fdbcrow1_col5\" class=\"data row1 col5\" >nan</td>\n",
       "                        <td id=\"T_795cd7cc_7e64_11e9_8f62_e0d55e42fdbcrow1_col6\" class=\"data row1 col6\" >nan</td>\n",
       "                        <td id=\"T_795cd7cc_7e64_11e9_8f62_e0d55e42fdbcrow1_col7\" class=\"data row1 col7\" >nan</td>\n",
       "                        <td id=\"T_795cd7cc_7e64_11e9_8f62_e0d55e42fdbcrow1_col8\" class=\"data row1 col8\" >180000</td>\n",
       "                        <td id=\"T_795cd7cc_7e64_11e9_8f62_e0d55e42fdbcrow1_col9\" class=\"data row1 col9\" >nan</td>\n",
       "                        <td id=\"T_795cd7cc_7e64_11e9_8f62_e0d55e42fdbcrow1_col10\" class=\"data row1 col10\" >Finca rústica</td>\n",
       "                        <td id=\"T_795cd7cc_7e64_11e9_8f62_e0d55e42fdbcrow1_col11\" class=\"data row1 col11\" >700</td>\n",
       "                        <td id=\"T_795cd7cc_7e64_11e9_8f62_e0d55e42fdbcrow1_col12\" class=\"data row1 col12\" >695</td>\n",
       "                        <td id=\"T_795cd7cc_7e64_11e9_8f62_e0d55e42fdbcrow1_col13\" class=\"data row1 col13\" >sur, este</td>\n",
       "                        <td id=\"T_795cd7cc_7e64_11e9_8f62_e0d55e42fdbcrow1_col14\" class=\"data row1 col14\" >2</td>\n",
       "                        <td id=\"T_795cd7cc_7e64_11e9_8f62_e0d55e42fdbcrow1_col15\" class=\"data row1 col15\" >False</td>\n",
       "                        <td id=\"T_795cd7cc_7e64_11e9_8f62_e0d55e42fdbcrow1_col16\" class=\"data row1 col16\" >False</td>\n",
       "                        <td id=\"T_795cd7cc_7e64_11e9_8f62_e0d55e42fdbcrow1_col17\" class=\"data row1 col17\" >False</td>\n",
       "                        <td id=\"T_795cd7cc_7e64_11e9_8f62_e0d55e42fdbcrow1_col18\" class=\"data row1 col18\" >True</td>\n",
       "                        <td id=\"T_795cd7cc_7e64_11e9_8f62_e0d55e42fdbcrow1_col19\" class=\"data row1 col19\" >0</td>\n",
       "                        <td id=\"T_795cd7cc_7e64_11e9_8f62_e0d55e42fdbcrow1_col20\" class=\"data row1 col20\" >True</td>\n",
       "                        <td id=\"T_795cd7cc_7e64_11e9_8f62_e0d55e42fdbcrow1_col21\" class=\"data row1 col21\" >nan</td>\n",
       "                        <td id=\"T_795cd7cc_7e64_11e9_8f62_e0d55e42fdbcrow1_col22\" class=\"data row1 col22\" >False</td>\n",
       "                        <td id=\"T_795cd7cc_7e64_11e9_8f62_e0d55e42fdbcrow1_col23\" class=\"data row1 col23\" >True</td>\n",
       "                        <td id=\"T_795cd7cc_7e64_11e9_8f62_e0d55e42fdbcrow1_col24\" class=\"data row1 col24\" >False</td>\n",
       "                        <td id=\"T_795cd7cc_7e64_11e9_8f62_e0d55e42fdbcrow1_col25\" class=\"data row1 col25\" >False</td>\n",
       "                        <td id=\"T_795cd7cc_7e64_11e9_8f62_e0d55e42fdbcrow1_col26\" class=\"data row1 col26\" >Duranguesado (BIZ)</td>\n",
       "                        <td id=\"T_795cd7cc_7e64_11e9_8f62_e0d55e42fdbcrow1_col27\" class=\"data row1 col27\" >Elorrio</td>\n",
       "                        <td id=\"T_795cd7cc_7e64_11e9_8f62_e0d55e42fdbcrow1_col28\" class=\"data row1 col28\" >7336</td>\n",
       "                        <td id=\"T_795cd7cc_7e64_11e9_8f62_e0d55e42fdbcrow1_col29\" class=\"data row1 col29\" >19</td>\n",
       "                        <td id=\"T_795cd7cc_7e64_11e9_8f62_e0d55e42fdbcrow1_col30\" class=\"data row1 col30\" >59</td>\n",
       "                        <td id=\"T_795cd7cc_7e64_11e9_8f62_e0d55e42fdbcrow1_col31\" class=\"data row1 col31\" >22</td>\n",
       "                        <td id=\"T_795cd7cc_7e64_11e9_8f62_e0d55e42fdbcrow1_col32\" class=\"data row1 col32\" >6.9</td>\n",
       "                        <td id=\"T_795cd7cc_7e64_11e9_8f62_e0d55e42fdbcrow1_col33\" class=\"data row1 col33\" >21003</td>\n",
       "                        <td id=\"T_795cd7cc_7e64_11e9_8f62_e0d55e42fdbcrow1_col34\" class=\"data row1 col34\" >False</td>\n",
       "                        <td id=\"T_795cd7cc_7e64_11e9_8f62_e0d55e42fdbcrow1_col35\" class=\"data row1 col35\" >3</td>\n",
       "                        <td id=\"T_795cd7cc_7e64_11e9_8f62_e0d55e42fdbcrow1_col36\" class=\"data row1 col36\" >Elorrio</td>\n",
       "            </tr>\n",
       "            <tr>\n",
       "                        <th id=\"T_795cd7cc_7e64_11e9_8f62_e0d55e42fdbclevel0_row2\" class=\"row_heading level0 row2\" >18512</th>\n",
       "                        <td id=\"T_795cd7cc_7e64_11e9_8f62_e0d55e42fdbcrow2_col0\" class=\"data row2 col0\" >36709763</td>\n",
       "                        <td id=\"T_795cd7cc_7e64_11e9_8f62_e0d55e42fdbcrow2_col1\" class=\"data row2 col1\" >Caserio ubicado en la localidad de Aia (GIPUZKOA), en el interior del parque natural de Pagoeta.,Consta de tres plantas, BAJA (totalmente reformada ), 1ª PLANTA, diáfana y 2ª PLANTA.,Calefacción con chimenea de leña.</td>\n",
       "                        <td id=\"T_795cd7cc_7e64_11e9_8f62_e0d55e42fdbcrow2_col2\" class=\"data row2 col2\" >378000</td>\n",
       "                        <td id=\"T_795cd7cc_7e64_11e9_8f62_e0d55e42fdbcrow2_col3\" class=\"data row2 col3\" >1</td>\n",
       "                        <td id=\"T_795cd7cc_7e64_11e9_8f62_e0d55e42fdbcrow2_col4\" class=\"data row2 col4\" >buen estado</td>\n",
       "                        <td id=\"T_795cd7cc_7e64_11e9_8f62_e0d55e42fdbcrow2_col5\" class=\"data row2 col5\" >nan</td>\n",
       "                        <td id=\"T_795cd7cc_7e64_11e9_8f62_e0d55e42fdbcrow2_col6\" class=\"data row2 col6\" >en trámite</td>\n",
       "                        <td id=\"T_795cd7cc_7e64_11e9_8f62_e0d55e42fdbcrow2_col7\" class=\"data row2 col7\" >nan</td>\n",
       "                        <td id=\"T_795cd7cc_7e64_11e9_8f62_e0d55e42fdbcrow2_col8\" class=\"data row2 col8\" >180000</td>\n",
       "                        <td id=\"T_795cd7cc_7e64_11e9_8f62_e0d55e42fdbcrow2_col9\" class=\"data row2 col9\" >nan</td>\n",
       "                        <td id=\"T_795cd7cc_7e64_11e9_8f62_e0d55e42fdbcrow2_col10\" class=\"data row2 col10\" >Casa rural</td>\n",
       "                        <td id=\"T_795cd7cc_7e64_11e9_8f62_e0d55e42fdbcrow2_col11\" class=\"data row2 col11\" >400</td>\n",
       "                        <td id=\"T_795cd7cc_7e64_11e9_8f62_e0d55e42fdbcrow2_col12\" class=\"data row2 col12\" >350</td>\n",
       "                        <td id=\"T_795cd7cc_7e64_11e9_8f62_e0d55e42fdbcrow2_col13\" class=\"data row2 col13\" >norte, sur, este, oeste</td>\n",
       "                        <td id=\"T_795cd7cc_7e64_11e9_8f62_e0d55e42fdbcrow2_col14\" class=\"data row2 col14\" >2</td>\n",
       "                        <td id=\"T_795cd7cc_7e64_11e9_8f62_e0d55e42fdbcrow2_col15\" class=\"data row2 col15\" >False</td>\n",
       "                        <td id=\"T_795cd7cc_7e64_11e9_8f62_e0d55e42fdbcrow2_col16\" class=\"data row2 col16\" >False</td>\n",
       "                        <td id=\"T_795cd7cc_7e64_11e9_8f62_e0d55e42fdbcrow2_col17\" class=\"data row2 col17\" >False</td>\n",
       "                        <td id=\"T_795cd7cc_7e64_11e9_8f62_e0d55e42fdbcrow2_col18\" class=\"data row2 col18\" >True</td>\n",
       "                        <td id=\"T_795cd7cc_7e64_11e9_8f62_e0d55e42fdbcrow2_col19\" class=\"data row2 col19\" >0</td>\n",
       "                        <td id=\"T_795cd7cc_7e64_11e9_8f62_e0d55e42fdbcrow2_col20\" class=\"data row2 col20\" >True</td>\n",
       "                        <td id=\"T_795cd7cc_7e64_11e9_8f62_e0d55e42fdbcrow2_col21\" class=\"data row2 col21\" >nan</td>\n",
       "                        <td id=\"T_795cd7cc_7e64_11e9_8f62_e0d55e42fdbcrow2_col22\" class=\"data row2 col22\" >False</td>\n",
       "                        <td id=\"T_795cd7cc_7e64_11e9_8f62_e0d55e42fdbcrow2_col23\" class=\"data row2 col23\" >True</td>\n",
       "                        <td id=\"T_795cd7cc_7e64_11e9_8f62_e0d55e42fdbcrow2_col24\" class=\"data row2 col24\" >False</td>\n",
       "                        <td id=\"T_795cd7cc_7e64_11e9_8f62_e0d55e42fdbcrow2_col25\" class=\"data row2 col25\" >False</td>\n",
       "                        <td id=\"T_795cd7cc_7e64_11e9_8f62_e0d55e42fdbcrow2_col26\" class=\"data row2 col26\" >Urola Kosta (GIP)</td>\n",
       "                        <td id=\"T_795cd7cc_7e64_11e9_8f62_e0d55e42fdbcrow2_col27\" class=\"data row2 col27\" >Aia</td>\n",
       "                        <td id=\"T_795cd7cc_7e64_11e9_8f62_e0d55e42fdbcrow2_col28\" class=\"data row2 col28\" >2081</td>\n",
       "                        <td id=\"T_795cd7cc_7e64_11e9_8f62_e0d55e42fdbcrow2_col29\" class=\"data row2 col29\" >24</td>\n",
       "                        <td id=\"T_795cd7cc_7e64_11e9_8f62_e0d55e42fdbcrow2_col30\" class=\"data row2 col30\" >59</td>\n",
       "                        <td id=\"T_795cd7cc_7e64_11e9_8f62_e0d55e42fdbcrow2_col31\" class=\"data row2 col31\" >17</td>\n",
       "                        <td id=\"T_795cd7cc_7e64_11e9_8f62_e0d55e42fdbcrow2_col32\" class=\"data row2 col32\" >5.8</td>\n",
       "                        <td id=\"T_795cd7cc_7e64_11e9_8f62_e0d55e42fdbcrow2_col33\" class=\"data row2 col33\" >20073</td>\n",
       "                        <td id=\"T_795cd7cc_7e64_11e9_8f62_e0d55e42fdbcrow2_col34\" class=\"data row2 col34\" >False</td>\n",
       "                        <td id=\"T_795cd7cc_7e64_11e9_8f62_e0d55e42fdbcrow2_col35\" class=\"data row2 col35\" >3</td>\n",
       "                        <td id=\"T_795cd7cc_7e64_11e9_8f62_e0d55e42fdbcrow2_col36\" class=\"data row2 col36\" >Aia</td>\n",
       "            </tr>\n",
       "            <tr>\n",
       "                        <th id=\"T_795cd7cc_7e64_11e9_8f62_e0d55e42fdbclevel0_row3\" class=\"row_heading level0 row3\" >19292</th>\n",
       "                        <td id=\"T_795cd7cc_7e64_11e9_8f62_e0d55e42fdbcrow3_col0\" class=\"data row3 col0\" >84912471</td>\n",
       "                        <td id=\"T_795cd7cc_7e64_11e9_8f62_e0d55e42fdbcrow3_col1\" class=\"data row3 col1\" >Espectacular Caserío histórico de dos plantas y bajo cubierta de 391 m2 / planta.,Cuenta con 173.318 m2 de pertenecidos alrededor, con amplias praderas llanas, preciosas vistas despejadas al Txindoki, soleado y formando una única parcela.,Posibilidad de constituir dos viviendas independientes en el interior del Caserío y aumentar un 20 & el actual volumen edificado. Acceso rodado, suministro eléctrico y agua.,A reformar totalmente, aunque la estructura esta muy bien. Arbolado pinar valorado en aproximadamente 70.000 euros. Muchas posibilidades. OCASION.</td>\n",
       "                        <td id=\"T_795cd7cc_7e64_11e9_8f62_e0d55e42fdbcrow3_col2\" class=\"data row3 col2\" >480000</td>\n",
       "                        <td id=\"T_795cd7cc_7e64_11e9_8f62_e0d55e42fdbcrow3_col3\" class=\"data row3 col3\" >1</td>\n",
       "                        <td id=\"T_795cd7cc_7e64_11e9_8f62_e0d55e42fdbcrow3_col4\" class=\"data row3 col4\" >para reformar</td>\n",
       "                        <td id=\"T_795cd7cc_7e64_11e9_8f62_e0d55e42fdbcrow3_col5\" class=\"data row3 col5\" >nan</td>\n",
       "                        <td id=\"T_795cd7cc_7e64_11e9_8f62_e0d55e42fdbcrow3_col6\" class=\"data row3 col6\" >en trámite</td>\n",
       "                        <td id=\"T_795cd7cc_7e64_11e9_8f62_e0d55e42fdbcrow3_col7\" class=\"data row3 col7\" >nan</td>\n",
       "                        <td id=\"T_795cd7cc_7e64_11e9_8f62_e0d55e42fdbcrow3_col8\" class=\"data row3 col8\" >173318</td>\n",
       "                        <td id=\"T_795cd7cc_7e64_11e9_8f62_e0d55e42fdbcrow3_col9\" class=\"data row3 col9\" >nan</td>\n",
       "                        <td id=\"T_795cd7cc_7e64_11e9_8f62_e0d55e42fdbcrow3_col10\" class=\"data row3 col10\" >Finca rústica</td>\n",
       "                        <td id=\"T_795cd7cc_7e64_11e9_8f62_e0d55e42fdbcrow3_col11\" class=\"data row3 col11\" >1170</td>\n",
       "                        <td id=\"T_795cd7cc_7e64_11e9_8f62_e0d55e42fdbcrow3_col12\" class=\"data row3 col12\" >nan</td>\n",
       "                        <td id=\"T_795cd7cc_7e64_11e9_8f62_e0d55e42fdbcrow3_col13\" class=\"data row3 col13\" >nan</td>\n",
       "                        <td id=\"T_795cd7cc_7e64_11e9_8f62_e0d55e42fdbcrow3_col14\" class=\"data row3 col14\" >5</td>\n",
       "                        <td id=\"T_795cd7cc_7e64_11e9_8f62_e0d55e42fdbcrow3_col15\" class=\"data row3 col15\" >False</td>\n",
       "                        <td id=\"T_795cd7cc_7e64_11e9_8f62_e0d55e42fdbcrow3_col16\" class=\"data row3 col16\" >False</td>\n",
       "                        <td id=\"T_795cd7cc_7e64_11e9_8f62_e0d55e42fdbcrow3_col17\" class=\"data row3 col17\" >False</td>\n",
       "                        <td id=\"T_795cd7cc_7e64_11e9_8f62_e0d55e42fdbcrow3_col18\" class=\"data row3 col18\" >False</td>\n",
       "                        <td id=\"T_795cd7cc_7e64_11e9_8f62_e0d55e42fdbcrow3_col19\" class=\"data row3 col19\" >nan</td>\n",
       "                        <td id=\"T_795cd7cc_7e64_11e9_8f62_e0d55e42fdbcrow3_col20\" class=\"data row3 col20\" >False</td>\n",
       "                        <td id=\"T_795cd7cc_7e64_11e9_8f62_e0d55e42fdbcrow3_col21\" class=\"data row3 col21\" >nan</td>\n",
       "                        <td id=\"T_795cd7cc_7e64_11e9_8f62_e0d55e42fdbcrow3_col22\" class=\"data row3 col22\" >False</td>\n",
       "                        <td id=\"T_795cd7cc_7e64_11e9_8f62_e0d55e42fdbcrow3_col23\" class=\"data row3 col23\" >False</td>\n",
       "                        <td id=\"T_795cd7cc_7e64_11e9_8f62_e0d55e42fdbcrow3_col24\" class=\"data row3 col24\" >False</td>\n",
       "                        <td id=\"T_795cd7cc_7e64_11e9_8f62_e0d55e42fdbcrow3_col25\" class=\"data row3 col25\" >False</td>\n",
       "                        <td id=\"T_795cd7cc_7e64_11e9_8f62_e0d55e42fdbcrow3_col26\" class=\"data row3 col26\" >Goierri (GIP)</td>\n",
       "                        <td id=\"T_795cd7cc_7e64_11e9_8f62_e0d55e42fdbcrow3_col27\" class=\"data row3 col27\" >Gaintza</td>\n",
       "                        <td id=\"T_795cd7cc_7e64_11e9_8f62_e0d55e42fdbcrow3_col28\" class=\"data row3 col28\" >129</td>\n",
       "                        <td id=\"T_795cd7cc_7e64_11e9_8f62_e0d55e42fdbcrow3_col29\" class=\"data row3 col29\" >18</td>\n",
       "                        <td id=\"T_795cd7cc_7e64_11e9_8f62_e0d55e42fdbcrow3_col30\" class=\"data row3 col30\" >58</td>\n",
       "                        <td id=\"T_795cd7cc_7e64_11e9_8f62_e0d55e42fdbcrow3_col31\" class=\"data row3 col31\" >24</td>\n",
       "                        <td id=\"T_795cd7cc_7e64_11e9_8f62_e0d55e42fdbcrow3_col32\" class=\"data row3 col32\" >4.2</td>\n",
       "                        <td id=\"T_795cd7cc_7e64_11e9_8f62_e0d55e42fdbcrow3_col33\" class=\"data row3 col33\" >20694</td>\n",
       "                        <td id=\"T_795cd7cc_7e64_11e9_8f62_e0d55e42fdbcrow3_col34\" class=\"data row3 col34\" >False</td>\n",
       "                        <td id=\"T_795cd7cc_7e64_11e9_8f62_e0d55e42fdbcrow3_col35\" class=\"data row3 col35\" >3</td>\n",
       "                        <td id=\"T_795cd7cc_7e64_11e9_8f62_e0d55e42fdbcrow3_col36\" class=\"data row3 col36\" >Gaintza</td>\n",
       "            </tr>\n",
       "            <tr>\n",
       "                        <th id=\"T_795cd7cc_7e64_11e9_8f62_e0d55e42fdbclevel0_row4\" class=\"row_heading level0 row4\" >24688</th>\n",
       "                        <td id=\"T_795cd7cc_7e64_11e9_8f62_e0d55e42fdbcrow4_col0\" class=\"data row4 col0\" >38761501</td>\n",
       "                        <td id=\"T_795cd7cc_7e64_11e9_8f62_e0d55e42fdbcrow4_col1\" class=\"data row4 col1\" >ETXiAN Inmobiliaria. - Baserria GARIBAI auzoan (Oñati), lur sail askorekin (+200.000m2),Baserri ERDIA saltzen da (eraikinaren ezkerreko aldea), guztira 3 solairu eraikiak + Baserri parean dagoen 100m2-ko TXABOLA bat.,- Oso argitsua da eta ikuspegi zoragarriak ditu inguruko baso eta mendietara.,- Asfaltaturiko bidea dago baserriraino, eta bertatik gertu Ermita eta eraberritua dagoen beste baserri bat aurkitu dezakegu.,- Etxea eusten duten paretak eta haritzezko zutoinak egoera onean daude, teilatua Ondulinerekin babestua dago, eta harrizko labe bat ere badu.,-LUR SAILAK: 11 Lur sail ditu jabetzan, guztira 2.000 area baiño gehigo batzen dituztenak ( 208.970m2 ), etxe ondoan dauden hortuak barne.,- Etxeraino heltzen den iturburu propioa dauka.,*Eskeintzen den etxebizitzak eraikinaren ezkerreko aldea betetzen du, argazkietan ikusgai.,(CAS. ) CASERIO EN GARIBAI AUZOA (OÑATI), con una importante extensión en terrenos pertenecidos: ( MAS DE 200.000m2 ) ,La vivienda ofrecida ocupa la MITAD IZQUIERDA DEL EDIFICIO*, con un total de tres plantas construidas + una chabola de 100m2 junto a la entrada.,- Cuenta con mucha luz natural y espectaculares vistas. ,- Acceso por carretera asfaltada; En los alrededores se encuentra la Hermita del Sagrado Corazón y otro caserío recientemente rehabilitado. ,- Las paredes maestras y vigas de roble se encuentran en perfecto estado, tejado protegido con Onduline en toda su superficie, horno de piedra.. . ,- TERRENOS: La propiedad cuenta con 11 terrenos que suman mas de 2000 áreas (208.970 metros cuadrados), incluyendo zonas para huertas junto a la casa.,- Manantial de agua propio hasta la vivienda y acometida eléctrica.,(* La vivienda ofrecida ocupa la mitad izquierda del edificio que se ve completo en la foto de portada).,PRECIO NEGOCIABLE - Se admiten ofertas.</td>\n",
       "                        <td id=\"T_795cd7cc_7e64_11e9_8f62_e0d55e42fdbcrow4_col2\" class=\"data row4 col2\" >120000</td>\n",
       "                        <td id=\"T_795cd7cc_7e64_11e9_8f62_e0d55e42fdbcrow4_col3\" class=\"data row4 col3\" >1</td>\n",
       "                        <td id=\"T_795cd7cc_7e64_11e9_8f62_e0d55e42fdbcrow4_col4\" class=\"data row4 col4\" >para reformar</td>\n",
       "                        <td id=\"T_795cd7cc_7e64_11e9_8f62_e0d55e42fdbcrow4_col5\" class=\"data row4 col5\" >nan</td>\n",
       "                        <td id=\"T_795cd7cc_7e64_11e9_8f62_e0d55e42fdbcrow4_col6\" class=\"data row4 col6\" >en trámite</td>\n",
       "                        <td id=\"T_795cd7cc_7e64_11e9_8f62_e0d55e42fdbcrow4_col7\" class=\"data row4 col7\" >nan</td>\n",
       "                        <td id=\"T_795cd7cc_7e64_11e9_8f62_e0d55e42fdbcrow4_col8\" class=\"data row4 col8\" >208970</td>\n",
       "                        <td id=\"T_795cd7cc_7e64_11e9_8f62_e0d55e42fdbcrow4_col9\" class=\"data row4 col9\" >nan</td>\n",
       "                        <td id=\"T_795cd7cc_7e64_11e9_8f62_e0d55e42fdbcrow4_col10\" class=\"data row4 col10\" >Finca rústica</td>\n",
       "                        <td id=\"T_795cd7cc_7e64_11e9_8f62_e0d55e42fdbcrow4_col11\" class=\"data row4 col11\" >600</td>\n",
       "                        <td id=\"T_795cd7cc_7e64_11e9_8f62_e0d55e42fdbcrow4_col12\" class=\"data row4 col12\" >nan</td>\n",
       "                        <td id=\"T_795cd7cc_7e64_11e9_8f62_e0d55e42fdbcrow4_col13\" class=\"data row4 col13\" >nan</td>\n",
       "                        <td id=\"T_795cd7cc_7e64_11e9_8f62_e0d55e42fdbcrow4_col14\" class=\"data row4 col14\" >3</td>\n",
       "                        <td id=\"T_795cd7cc_7e64_11e9_8f62_e0d55e42fdbcrow4_col15\" class=\"data row4 col15\" >False</td>\n",
       "                        <td id=\"T_795cd7cc_7e64_11e9_8f62_e0d55e42fdbcrow4_col16\" class=\"data row4 col16\" >False</td>\n",
       "                        <td id=\"T_795cd7cc_7e64_11e9_8f62_e0d55e42fdbcrow4_col17\" class=\"data row4 col17\" >False</td>\n",
       "                        <td id=\"T_795cd7cc_7e64_11e9_8f62_e0d55e42fdbcrow4_col18\" class=\"data row4 col18\" >False</td>\n",
       "                        <td id=\"T_795cd7cc_7e64_11e9_8f62_e0d55e42fdbcrow4_col19\" class=\"data row4 col19\" >nan</td>\n",
       "                        <td id=\"T_795cd7cc_7e64_11e9_8f62_e0d55e42fdbcrow4_col20\" class=\"data row4 col20\" >False</td>\n",
       "                        <td id=\"T_795cd7cc_7e64_11e9_8f62_e0d55e42fdbcrow4_col21\" class=\"data row4 col21\" >nan</td>\n",
       "                        <td id=\"T_795cd7cc_7e64_11e9_8f62_e0d55e42fdbcrow4_col22\" class=\"data row4 col22\" >False</td>\n",
       "                        <td id=\"T_795cd7cc_7e64_11e9_8f62_e0d55e42fdbcrow4_col23\" class=\"data row4 col23\" >False</td>\n",
       "                        <td id=\"T_795cd7cc_7e64_11e9_8f62_e0d55e42fdbcrow4_col24\" class=\"data row4 col24\" >False</td>\n",
       "                        <td id=\"T_795cd7cc_7e64_11e9_8f62_e0d55e42fdbcrow4_col25\" class=\"data row4 col25\" >False</td>\n",
       "                        <td id=\"T_795cd7cc_7e64_11e9_8f62_e0d55e42fdbcrow4_col26\" class=\"data row4 col26\" >Alto Deba (GIP)</td>\n",
       "                        <td id=\"T_795cd7cc_7e64_11e9_8f62_e0d55e42fdbcrow4_col27\" class=\"data row4 col27\" >Oñati</td>\n",
       "                        <td id=\"T_795cd7cc_7e64_11e9_8f62_e0d55e42fdbcrow4_col28\" class=\"data row4 col28\" >11335</td>\n",
       "                        <td id=\"T_795cd7cc_7e64_11e9_8f62_e0d55e42fdbcrow4_col29\" class=\"data row4 col29\" >20</td>\n",
       "                        <td id=\"T_795cd7cc_7e64_11e9_8f62_e0d55e42fdbcrow4_col30\" class=\"data row4 col30\" >57</td>\n",
       "                        <td id=\"T_795cd7cc_7e64_11e9_8f62_e0d55e42fdbcrow4_col31\" class=\"data row4 col31\" >23</td>\n",
       "                        <td id=\"T_795cd7cc_7e64_11e9_8f62_e0d55e42fdbcrow4_col32\" class=\"data row4 col32\" >7</td>\n",
       "                        <td id=\"T_795cd7cc_7e64_11e9_8f62_e0d55e42fdbcrow4_col33\" class=\"data row4 col33\" >25336</td>\n",
       "                        <td id=\"T_795cd7cc_7e64_11e9_8f62_e0d55e42fdbcrow4_col34\" class=\"data row4 col34\" >False</td>\n",
       "                        <td id=\"T_795cd7cc_7e64_11e9_8f62_e0d55e42fdbcrow4_col35\" class=\"data row4 col35\" >1</td>\n",
       "                        <td id=\"T_795cd7cc_7e64_11e9_8f62_e0d55e42fdbcrow4_col36\" class=\"data row4 col36\" >Oñati</td>\n",
       "            </tr>\n",
       "    </tbody></table>"
      ],
      "text/plain": [
       "<pandas.io.formats.style.Styler at 0x13d37b27898>"
      ]
     },
     "execution_count": 65,
     "metadata": {},
     "output_type": "execute_result"
    }
   ],
   "source": [
    "(df.query('ground_size > 160000')\n",
    " .style.set_properties(subset=['ad_description'], **{'min-width': '1600px'}))"
   ]
  },
  {
   "cell_type": "markdown",
   "metadata": {},
   "source": [
    "Vemos que, en principio, los valores son plausibles, por lo que no efectuamos ninguna tarea al respecto. Por otro lado, verificamos que no hay parcelas con valores negativos:"
   ]
  },
  {
   "cell_type": "code",
   "execution_count": 66,
   "metadata": {
    "ExecuteTime": {
     "end_time": "2019-05-22T14:51:24.311107Z",
     "start_time": "2019-05-22T14:51:24.299100Z"
    }
   },
   "outputs": [
    {
     "name": "stdout",
     "output_type": "stream",
     "text": [
      "Hay 0 viviendas con parcela nula o negativa\n"
     ]
    }
   ],
   "source": [
    "cnt = len(df.query('ground_size < 0'))\n",
    "print(f\"Hay {cnt} viviendas con parcela nula o negativa\")"
   ]
  },
  {
   "cell_type": "markdown",
   "metadata": {},
   "source": [
    "### <font color=#5F66A1>price</font>"
   ]
  },
  {
   "cell_type": "code",
   "execution_count": 67,
   "metadata": {
    "ExecuteTime": {
     "end_time": "2019-05-22T14:51:24.436100Z",
     "start_time": "2019-05-22T14:51:24.313105Z"
    },
    "pycharm": {
     "name": "#%%\n"
    }
   },
   "outputs": [
    {
     "data": {
      "image/png": "[encoded data removed]",
      "text/plain": [
       "<Figure size 864x216 with 1 Axes>"
      ]
     },
     "metadata": {
      "needs_background": "light"
     },
     "output_type": "display_data"
    }
   ],
   "source": [
    "f, axes = plt.subplots(1, 1, figsize=(12, 3), sharex=True)\n",
    "sns.despine(left=True)\n",
    "\n",
    "(df\n",
    " .loc[:,'price']\n",
    " .pipe(sns.boxplot, color=clr['pr'], boxprops=dict(alpha=.7)))\n",
    "\n",
    "plt.setp(axes, yticks=[])\n",
    "plt.tight_layout()"
   ]
  },
  {
   "cell_type": "markdown",
   "metadata": {},
   "source": [
    "Vemos que la vivienda más cara de nuestro conjunto de datos está por encima de los 5 millones de euros. Si bien es muy cara, es plausible que nos encontremos con alguna de tal precio. Aún así, exploramos las viviendas con precios más elevados a fin de cotejar que los datos son correctos:"
   ]
  },
  {
   "cell_type": "code",
   "execution_count": 68,
   "metadata": {
    "ExecuteTime": {
     "end_time": "2019-05-22T14:51:24.476102Z",
     "start_time": "2019-05-22T14:51:24.445106Z"
    },
    "scrolled": false
   },
   "outputs": [
    {
     "data": {
      "text/html": [
       "<style  type=\"text/css\" >\n",
       "    #T_797273e2_7e64_11e9_b12b_e0d55e42fdbcrow0_col1 {\n",
       "            min-width:  2400px;\n",
       "        }    #T_797273e2_7e64_11e9_b12b_e0d55e42fdbcrow1_col1 {\n",
       "            min-width:  2400px;\n",
       "        }    #T_797273e2_7e64_11e9_b12b_e0d55e42fdbcrow2_col1 {\n",
       "            min-width:  2400px;\n",
       "        }    #T_797273e2_7e64_11e9_b12b_e0d55e42fdbcrow3_col1 {\n",
       "            min-width:  2400px;\n",
       "        }</style><table id=\"T_797273e2_7e64_11e9_b12b_e0d55e42fdbc\" ><thead>    <tr>        <th class=\"blank level0\" ></th>        <th class=\"col_heading level0 col0\" >house_id</th>        <th class=\"col_heading level0 col1\" >ad_description</th>        <th class=\"col_heading level0 col2\" >price</th>        <th class=\"col_heading level0 col3\" >bath_num</th>        <th class=\"col_heading level0 col4\" >condition</th>        <th class=\"col_heading level0 col5\" >construct_date</th>        <th class=\"col_heading level0 col6\" >energetic_certif</th>        <th class=\"col_heading level0 col7\" >floor</th>        <th class=\"col_heading level0 col8\" >ground_size</th>        <th class=\"col_heading level0 col9\" >heating</th>        <th class=\"col_heading level0 col10\" >house_type</th>        <th class=\"col_heading level0 col11\" >m2_real</th>        <th class=\"col_heading level0 col12\" >m2_useful</th>        <th class=\"col_heading level0 col13\" >orientation</th>        <th class=\"col_heading level0 col14\" >room_num</th>        <th class=\"col_heading level0 col15\" >air_conditioner</th>        <th class=\"col_heading level0 col16\" >balcony</th>        <th class=\"col_heading level0 col17\" >built_in_wardrobe</th>        <th class=\"col_heading level0 col18\" >chimney</th>        <th class=\"col_heading level0 col19\" >garage</th>        <th class=\"col_heading level0 col20\" >garden</th>        <th class=\"col_heading level0 col21\" >lift</th>        <th class=\"col_heading level0 col22\" >reduced_mobility</th>        <th class=\"col_heading level0 col23\" >storage_room</th>        <th class=\"col_heading level0 col24\" >swimming_pool</th>        <th class=\"col_heading level0 col25\" >terrace</th>        <th class=\"col_heading level0 col26\" >loc_zone</th>        <th class=\"col_heading level0 col27\" >loc_city</th>        <th class=\"col_heading level0 col28\" >pop_total</th>        <th class=\"col_heading level0 col29\" >pop_0-19</th>        <th class=\"col_heading level0 col30\" >pop_20-64</th>        <th class=\"col_heading level0 col31\" >pop_>=65</th>        <th class=\"col_heading level0 col32\" >pop_foreign</th>        <th class=\"col_heading level0 col33\" >rent</th>        <th class=\"col_heading level0 col34\" >indoor</th>        <th class=\"col_heading level0 col35\" >floor_count</th>        <th class=\"col_heading level0 col36\" >location</th>    </tr></thead><tbody>\n",
       "                <tr>\n",
       "                        <th id=\"T_797273e2_7e64_11e9_b12b_e0d55e42fdbclevel0_row0\" class=\"row_heading level0 row0\" >15649</th>\n",
       "                        <td id=\"T_797273e2_7e64_11e9_b12b_e0d55e42fdbcrow0_col0\" class=\"data row0 col0\" >82667411</td>\n",
       "                        <td id=\"T_797273e2_7e64_11e9_b12b_e0d55e42fdbcrow0_col1\" class=\"data row0 col1\" >Magnífica vivienda de 320 metros cuadrados con 2.000 metros de terreno con árboles frutales. La casa dispone de cuatro habitaciones amplias, cocina equipada, dos salones con comedor uno con una chimenea, cuatro servicios más un aseo, dos balcones; dos terrazas y un txoko de 40m2. Además la vivienda tiene calefacción de propano, suelos de parquet, piscina, pistas de padel y tennis; supermercado y polideportivo en la urbanización.,Para más información no dudes en ponerte en contacto con nosotros.</td>\n",
       "                        <td id=\"T_797273e2_7e64_11e9_b12b_e0d55e42fdbcrow0_col2\" class=\"data row0 col2\" >5499000</td>\n",
       "                        <td id=\"T_797273e2_7e64_11e9_b12b_e0d55e42fdbcrow0_col3\" class=\"data row0 col3\" >5</td>\n",
       "                        <td id=\"T_797273e2_7e64_11e9_b12b_e0d55e42fdbcrow0_col4\" class=\"data row0 col4\" >buen estado</td>\n",
       "                        <td id=\"T_797273e2_7e64_11e9_b12b_e0d55e42fdbcrow0_col5\" class=\"data row0 col5\" >nan</td>\n",
       "                        <td id=\"T_797273e2_7e64_11e9_b12b_e0d55e42fdbcrow0_col6\" class=\"data row0 col6\" >en trámite</td>\n",
       "                        <td id=\"T_797273e2_7e64_11e9_b12b_e0d55e42fdbcrow0_col7\" class=\"data row0 col7\" >nan</td>\n",
       "                        <td id=\"T_797273e2_7e64_11e9_b12b_e0d55e42fdbcrow0_col8\" class=\"data row0 col8\" >2000</td>\n",
       "                        <td id=\"T_797273e2_7e64_11e9_b12b_e0d55e42fdbcrow0_col9\" class=\"data row0 col9\" >nan</td>\n",
       "                        <td id=\"T_797273e2_7e64_11e9_b12b_e0d55e42fdbcrow0_col10\" class=\"data row0 col10\" >Casa o chalet</td>\n",
       "                        <td id=\"T_797273e2_7e64_11e9_b12b_e0d55e42fdbcrow0_col11\" class=\"data row0 col11\" >320</td>\n",
       "                        <td id=\"T_797273e2_7e64_11e9_b12b_e0d55e42fdbcrow0_col12\" class=\"data row0 col12\" >nan</td>\n",
       "                        <td id=\"T_797273e2_7e64_11e9_b12b_e0d55e42fdbcrow0_col13\" class=\"data row0 col13\" >norte, sur, este</td>\n",
       "                        <td id=\"T_797273e2_7e64_11e9_b12b_e0d55e42fdbcrow0_col14\" class=\"data row0 col14\" >4</td>\n",
       "                        <td id=\"T_797273e2_7e64_11e9_b12b_e0d55e42fdbcrow0_col15\" class=\"data row0 col15\" >False</td>\n",
       "                        <td id=\"T_797273e2_7e64_11e9_b12b_e0d55e42fdbcrow0_col16\" class=\"data row0 col16\" >True</td>\n",
       "                        <td id=\"T_797273e2_7e64_11e9_b12b_e0d55e42fdbcrow0_col17\" class=\"data row0 col17\" >True</td>\n",
       "                        <td id=\"T_797273e2_7e64_11e9_b12b_e0d55e42fdbcrow0_col18\" class=\"data row0 col18\" >False</td>\n",
       "                        <td id=\"T_797273e2_7e64_11e9_b12b_e0d55e42fdbcrow0_col19\" class=\"data row0 col19\" >0</td>\n",
       "                        <td id=\"T_797273e2_7e64_11e9_b12b_e0d55e42fdbcrow0_col20\" class=\"data row0 col20\" >True</td>\n",
       "                        <td id=\"T_797273e2_7e64_11e9_b12b_e0d55e42fdbcrow0_col21\" class=\"data row0 col21\" >nan</td>\n",
       "                        <td id=\"T_797273e2_7e64_11e9_b12b_e0d55e42fdbcrow0_col22\" class=\"data row0 col22\" >False</td>\n",
       "                        <td id=\"T_797273e2_7e64_11e9_b12b_e0d55e42fdbcrow0_col23\" class=\"data row0 col23\" >True</td>\n",
       "                        <td id=\"T_797273e2_7e64_11e9_b12b_e0d55e42fdbcrow0_col24\" class=\"data row0 col24\" >True</td>\n",
       "                        <td id=\"T_797273e2_7e64_11e9_b12b_e0d55e42fdbcrow0_col25\" class=\"data row0 col25\" >True</td>\n",
       "                        <td id=\"T_797273e2_7e64_11e9_b12b_e0d55e42fdbcrow0_col26\" class=\"data row0 col26\" >Uribe-Butroe (BIZ)</td>\n",
       "                        <td id=\"T_797273e2_7e64_11e9_b12b_e0d55e42fdbcrow0_col27\" class=\"data row0 col27\" >Laukiz</td>\n",
       "                        <td id=\"T_797273e2_7e64_11e9_b12b_e0d55e42fdbcrow0_col28\" class=\"data row0 col28\" >1191</td>\n",
       "                        <td id=\"T_797273e2_7e64_11e9_b12b_e0d55e42fdbcrow0_col29\" class=\"data row0 col29\" >24</td>\n",
       "                        <td id=\"T_797273e2_7e64_11e9_b12b_e0d55e42fdbcrow0_col30\" class=\"data row0 col30\" >57</td>\n",
       "                        <td id=\"T_797273e2_7e64_11e9_b12b_e0d55e42fdbcrow0_col31\" class=\"data row0 col31\" >19</td>\n",
       "                        <td id=\"T_797273e2_7e64_11e9_b12b_e0d55e42fdbcrow0_col32\" class=\"data row0 col32\" >6.5</td>\n",
       "                        <td id=\"T_797273e2_7e64_11e9_b12b_e0d55e42fdbcrow0_col33\" class=\"data row0 col33\" >31275</td>\n",
       "                        <td id=\"T_797273e2_7e64_11e9_b12b_e0d55e42fdbcrow0_col34\" class=\"data row0 col34\" >False</td>\n",
       "                        <td id=\"T_797273e2_7e64_11e9_b12b_e0d55e42fdbcrow0_col35\" class=\"data row0 col35\" >3</td>\n",
       "                        <td id=\"T_797273e2_7e64_11e9_b12b_e0d55e42fdbcrow0_col36\" class=\"data row0 col36\" >Laukiz</td>\n",
       "            </tr>\n",
       "            <tr>\n",
       "                        <th id=\"T_797273e2_7e64_11e9_b12b_e0d55e42fdbclevel0_row1\" class=\"row_heading level0 row1\" >22220</th>\n",
       "                        <td id=\"T_797273e2_7e64_11e9_b12b_e0d55e42fdbcrow1_col0\" class=\"data row1 col0\" >37696785</td>\n",
       "                        <td id=\"T_797273e2_7e64_11e9_b12b_e0d55e42fdbcrow1_col1\" class=\"data row1 col1\" >Se trata de una de las pocas villas unifamiliar en la zona de Ondarreta. Está a dos minutos a pie de la playa y de todos los servicios. Nada más cruzar el portón nos encontramos con bonito jardín y un porche que da acceso a la vivienda. Al entrar en la villa está un amplio hall recibidor del cual podemos acceder a las diferentes estancias de la planta baja como el salón principal que cuenta con grandes ventanales y una bonita chimenea. En la misma planta tenemos un despacho, un comedor de grandes dimensiones, otro salón mas informal, una cocina totalmente equipada y un aseo de cortesía. Ya en la primera planta, nos encontramos con la habitación principal que cuenta con gran vestidor y baño y bañera y ducha, desde el mirador se tiene vistas laterales al mar. Otra esplendida habitación con su propio baño, esta cuenta con una espaciosa terraza con vistas a las villas de alrededor y lateralmente a los jardines de Ondarreta y la playa. Otra habitación más, un baño comunicado con el lavadero y una pequeña y acogedora sala de estar. En la planta segunda 8 habitaciones ahora más y un baño. En la planta sótano se encuentran diferentes estancias como la sala de calderas, trastero, bodega y un baño completo. A un costado de la villa se encuentra el garaje de gran tamaño que puede albergar hasta dos choches y varias motos. Aunque la villa data de los años 40, ha sido una propiedad que se ha mantenido en muy buen estado y ha sufrido reformas para adecuar la vivienda adecuándose a los tiempos y a las necesidades de cada momento. Los materiales con los que se construyó y que se han mantenido hasta hoy en día son de gran calidad.,La zona de Ondarreta es un los distritos más representativos del Barrio del Antiguo. El barrio del Antiguo es uno de los 17 barrios en los que se divide la ciudad de San Sebastian. Esta zona va desde el Túnel del Antiguo hasta el Peine del Viento y engloba el área entre la línea de costa y la ciudad edificada. Algunas de las edificaciones y lugares más representativas de la ciudad se encuentran en esta zona, como son el Palacio Mirar y sus jardines, que fue construido entre 1.889 y 1.893 de estilo inglés. Fue residencia de verano de la Reina Regente María Cristina y propiedad de la Familia Real española hasta 1.972. A pocos metros del palacio se encuentran los Jardines de Ondarreta. El Real Club de Tenis, que se encuentra entre los Jardines y la Plaza del Peine del Viento, conjunto escultórico de Eduardo Chillida. La zona más cercana a la playa de Ondarreta, donde se encuentra la villa, constituye una de las zonas más exclusivas de la ciudad, donde se encuentran villas y palacetes de alto valor arquitectónico, que abarca desde villas de estilo Racionalista de arquitectos como Eduardo Lagarde, hasta villas de puro estilo vasco. Muy cerca de esta zona se encuentra una de las calles más animadas de este distrito, Calle Mátia, donde se encuentran multitud de bares y restaurantes y una importante actividad comercial. Otro de los edificios más conocidos de la ciudad es Torre Satrustegui, que se encuentra en la ladera del monte Igueldo, un palacete construido en 1.883, inspirado en el renacimiento inglés del siglo XVII, catalogado como monumento. En la cumbre del mismo monte Igueldo se encuentra el emblemático parque de atracciones, desde el cual se puede admirar una vista panorámica de toda la ciudad y el mar.</td>\n",
       "                        <td id=\"T_797273e2_7e64_11e9_b12b_e0d55e42fdbcrow1_col2\" class=\"data row1 col2\" >4300000</td>\n",
       "                        <td id=\"T_797273e2_7e64_11e9_b12b_e0d55e42fdbcrow1_col3\" class=\"data row1 col3\" >5</td>\n",
       "                        <td id=\"T_797273e2_7e64_11e9_b12b_e0d55e42fdbcrow1_col4\" class=\"data row1 col4\" >buen estado</td>\n",
       "                        <td id=\"T_797273e2_7e64_11e9_b12b_e0d55e42fdbcrow1_col5\" class=\"data row1 col5\" >1940</td>\n",
       "                        <td id=\"T_797273e2_7e64_11e9_b12b_e0d55e42fdbcrow1_col6\" class=\"data row1 col6\" >nan</td>\n",
       "                        <td id=\"T_797273e2_7e64_11e9_b12b_e0d55e42fdbcrow1_col7\" class=\"data row1 col7\" >nan</td>\n",
       "                        <td id=\"T_797273e2_7e64_11e9_b12b_e0d55e42fdbcrow1_col8\" class=\"data row1 col8\" >nan</td>\n",
       "                        <td id=\"T_797273e2_7e64_11e9_b12b_e0d55e42fdbcrow1_col9\" class=\"data row1 col9\" >nan</td>\n",
       "                        <td id=\"T_797273e2_7e64_11e9_b12b_e0d55e42fdbcrow1_col10\" class=\"data row1 col10\" >Casa o chalet</td>\n",
       "                        <td id=\"T_797273e2_7e64_11e9_b12b_e0d55e42fdbcrow1_col11\" class=\"data row1 col11\" >840</td>\n",
       "                        <td id=\"T_797273e2_7e64_11e9_b12b_e0d55e42fdbcrow1_col12\" class=\"data row1 col12\" >700</td>\n",
       "                        <td id=\"T_797273e2_7e64_11e9_b12b_e0d55e42fdbcrow1_col13\" class=\"data row1 col13\" >nan</td>\n",
       "                        <td id=\"T_797273e2_7e64_11e9_b12b_e0d55e42fdbcrow1_col14\" class=\"data row1 col14\" >8</td>\n",
       "                        <td id=\"T_797273e2_7e64_11e9_b12b_e0d55e42fdbcrow1_col15\" class=\"data row1 col15\" >True</td>\n",
       "                        <td id=\"T_797273e2_7e64_11e9_b12b_e0d55e42fdbcrow1_col16\" class=\"data row1 col16\" >False</td>\n",
       "                        <td id=\"T_797273e2_7e64_11e9_b12b_e0d55e42fdbcrow1_col17\" class=\"data row1 col17\" >False</td>\n",
       "                        <td id=\"T_797273e2_7e64_11e9_b12b_e0d55e42fdbcrow1_col18\" class=\"data row1 col18\" >False</td>\n",
       "                        <td id=\"T_797273e2_7e64_11e9_b12b_e0d55e42fdbcrow1_col19\" class=\"data row1 col19\" >0</td>\n",
       "                        <td id=\"T_797273e2_7e64_11e9_b12b_e0d55e42fdbcrow1_col20\" class=\"data row1 col20\" >True</td>\n",
       "                        <td id=\"T_797273e2_7e64_11e9_b12b_e0d55e42fdbcrow1_col21\" class=\"data row1 col21\" >nan</td>\n",
       "                        <td id=\"T_797273e2_7e64_11e9_b12b_e0d55e42fdbcrow1_col22\" class=\"data row1 col22\" >False</td>\n",
       "                        <td id=\"T_797273e2_7e64_11e9_b12b_e0d55e42fdbcrow1_col23\" class=\"data row1 col23\" >False</td>\n",
       "                        <td id=\"T_797273e2_7e64_11e9_b12b_e0d55e42fdbcrow1_col24\" class=\"data row1 col24\" >False</td>\n",
       "                        <td id=\"T_797273e2_7e64_11e9_b12b_e0d55e42fdbcrow1_col25\" class=\"data row1 col25\" >False</td>\n",
       "                        <td id=\"T_797273e2_7e64_11e9_b12b_e0d55e42fdbcrow1_col26\" class=\"data row1 col26\" >Donostialdea (GIP)</td>\n",
       "                        <td id=\"T_797273e2_7e64_11e9_b12b_e0d55e42fdbcrow1_col27\" class=\"data row1 col27\" >Donostia/San Sebastián</td>\n",
       "                        <td id=\"T_797273e2_7e64_11e9_b12b_e0d55e42fdbcrow1_col28\" class=\"data row1 col28\" >186665</td>\n",
       "                        <td id=\"T_797273e2_7e64_11e9_b12b_e0d55e42fdbcrow1_col29\" class=\"data row1 col29\" >17</td>\n",
       "                        <td id=\"T_797273e2_7e64_11e9_b12b_e0d55e42fdbcrow1_col30\" class=\"data row1 col30\" >59</td>\n",
       "                        <td id=\"T_797273e2_7e64_11e9_b12b_e0d55e42fdbcrow1_col31\" class=\"data row1 col31\" >24</td>\n",
       "                        <td id=\"T_797273e2_7e64_11e9_b12b_e0d55e42fdbcrow1_col32\" class=\"data row1 col32\" >10.6</td>\n",
       "                        <td id=\"T_797273e2_7e64_11e9_b12b_e0d55e42fdbcrow1_col33\" class=\"data row1 col33\" >24552</td>\n",
       "                        <td id=\"T_797273e2_7e64_11e9_b12b_e0d55e42fdbcrow1_col34\" class=\"data row1 col34\" >False</td>\n",
       "                        <td id=\"T_797273e2_7e64_11e9_b12b_e0d55e42fdbcrow1_col35\" class=\"data row1 col35\" >4</td>\n",
       "                        <td id=\"T_797273e2_7e64_11e9_b12b_e0d55e42fdbcrow1_col36\" class=\"data row1 col36\" >Antiguo (Dono)</td>\n",
       "            </tr>\n",
       "            <tr>\n",
       "                        <th id=\"T_797273e2_7e64_11e9_b12b_e0d55e42fdbclevel0_row2\" class=\"row_heading level0 row2\" >4184</th>\n",
       "                        <td id=\"T_797273e2_7e64_11e9_b12b_e0d55e42fdbcrow2_col0\" class=\"data row2 col0\" >38884073</td>\n",
       "                        <td id=\"T_797273e2_7e64_11e9_b12b_e0d55e42fdbcrow2_col1\" class=\"data row2 col1\" >EXCLUSIVA:,En la Ciudad Jardín \"La Galea\" sobre una extraordinaria parcela de 4.000 m2. se encuentra esta única y exclusiva casa de 1.400 m2. con una solida y magnifica construcción rodeada de un cuidado jardín y una preciosa piscina, la vivienda se encuentra en un estado de conservación excelente y se distribuye de la siguiente forma:,Planta baja de 529 m2. :,Amplísimo recibidor con acceso a un porche acristalado con unas fantásticas vistas hacia el jardín y la piscina.,Gran Salón con chimenea. Comedor independiente y una preciosa biblioteca con acceso al porche.,Aseo de visitas.,4 dormitorios con sus correspondientes baños, dos de los mismos con una sala de estar compartida.,Cocina - oficio, ropero y vestíbulo de servicio con acceso a dos escaleras que comunican el sótano y las dos plantas.,1ª Planta de 230 m2. :,Dormitorio principal en suite con chimenea, zona de estar, vestidor y un magnifico baño - con acceso a una espectacular terraza con vistas al jardín.,2 dormitorios con vestidores y sus correspondientes cuartos de baño, uno de los dormitorios con acceso a la terraza.,Sótano de 564 m2. :,Con acceso directo desde el exterior por rampa y desde la planta baja por escalera, consta de:,Dormitorio y baño de servicio.,Txoko, gimnasio, instalaciones y garaje para 6/8 coches.</td>\n",
       "                        <td id=\"T_797273e2_7e64_11e9_b12b_e0d55e42fdbcrow2_col2\" class=\"data row2 col2\" >4000000</td>\n",
       "                        <td id=\"T_797273e2_7e64_11e9_b12b_e0d55e42fdbcrow2_col3\" class=\"data row2 col3\" >9</td>\n",
       "                        <td id=\"T_797273e2_7e64_11e9_b12b_e0d55e42fdbcrow2_col4\" class=\"data row2 col4\" >buen estado</td>\n",
       "                        <td id=\"T_797273e2_7e64_11e9_b12b_e0d55e42fdbcrow2_col5\" class=\"data row2 col5\" >nan</td>\n",
       "                        <td id=\"T_797273e2_7e64_11e9_b12b_e0d55e42fdbcrow2_col6\" class=\"data row2 col6\" >en trámite</td>\n",
       "                        <td id=\"T_797273e2_7e64_11e9_b12b_e0d55e42fdbcrow2_col7\" class=\"data row2 col7\" >nan</td>\n",
       "                        <td id=\"T_797273e2_7e64_11e9_b12b_e0d55e42fdbcrow2_col8\" class=\"data row2 col8\" >4000</td>\n",
       "                        <td id=\"T_797273e2_7e64_11e9_b12b_e0d55e42fdbcrow2_col9\" class=\"data row2 col9\" >nan</td>\n",
       "                        <td id=\"T_797273e2_7e64_11e9_b12b_e0d55e42fdbcrow2_col10\" class=\"data row2 col10\" >Casa o chalet</td>\n",
       "                        <td id=\"T_797273e2_7e64_11e9_b12b_e0d55e42fdbcrow2_col11\" class=\"data row2 col11\" >1400</td>\n",
       "                        <td id=\"T_797273e2_7e64_11e9_b12b_e0d55e42fdbcrow2_col12\" class=\"data row2 col12\" >nan</td>\n",
       "                        <td id=\"T_797273e2_7e64_11e9_b12b_e0d55e42fdbcrow2_col13\" class=\"data row2 col13\" >nan</td>\n",
       "                        <td id=\"T_797273e2_7e64_11e9_b12b_e0d55e42fdbcrow2_col14\" class=\"data row2 col14\" >8</td>\n",
       "                        <td id=\"T_797273e2_7e64_11e9_b12b_e0d55e42fdbcrow2_col15\" class=\"data row2 col15\" >False</td>\n",
       "                        <td id=\"T_797273e2_7e64_11e9_b12b_e0d55e42fdbcrow2_col16\" class=\"data row2 col16\" >False</td>\n",
       "                        <td id=\"T_797273e2_7e64_11e9_b12b_e0d55e42fdbcrow2_col17\" class=\"data row2 col17\" >True</td>\n",
       "                        <td id=\"T_797273e2_7e64_11e9_b12b_e0d55e42fdbcrow2_col18\" class=\"data row2 col18\" >False</td>\n",
       "                        <td id=\"T_797273e2_7e64_11e9_b12b_e0d55e42fdbcrow2_col19\" class=\"data row2 col19\" >0</td>\n",
       "                        <td id=\"T_797273e2_7e64_11e9_b12b_e0d55e42fdbcrow2_col20\" class=\"data row2 col20\" >True</td>\n",
       "                        <td id=\"T_797273e2_7e64_11e9_b12b_e0d55e42fdbcrow2_col21\" class=\"data row2 col21\" >nan</td>\n",
       "                        <td id=\"T_797273e2_7e64_11e9_b12b_e0d55e42fdbcrow2_col22\" class=\"data row2 col22\" >False</td>\n",
       "                        <td id=\"T_797273e2_7e64_11e9_b12b_e0d55e42fdbcrow2_col23\" class=\"data row2 col23\" >True</td>\n",
       "                        <td id=\"T_797273e2_7e64_11e9_b12b_e0d55e42fdbcrow2_col24\" class=\"data row2 col24\" >True</td>\n",
       "                        <td id=\"T_797273e2_7e64_11e9_b12b_e0d55e42fdbcrow2_col25\" class=\"data row2 col25\" >True</td>\n",
       "                        <td id=\"T_797273e2_7e64_11e9_b12b_e0d55e42fdbcrow2_col26\" class=\"data row2 col26\" >Gran Bilbao (BIZ)</td>\n",
       "                        <td id=\"T_797273e2_7e64_11e9_b12b_e0d55e42fdbcrow2_col27\" class=\"data row2 col27\" >Getxo</td>\n",
       "                        <td id=\"T_797273e2_7e64_11e9_b12b_e0d55e42fdbcrow2_col28\" class=\"data row2 col28\" >78276</td>\n",
       "                        <td id=\"T_797273e2_7e64_11e9_b12b_e0d55e42fdbcrow2_col29\" class=\"data row2 col29\" >17</td>\n",
       "                        <td id=\"T_797273e2_7e64_11e9_b12b_e0d55e42fdbcrow2_col30\" class=\"data row2 col30\" >59</td>\n",
       "                        <td id=\"T_797273e2_7e64_11e9_b12b_e0d55e42fdbcrow2_col31\" class=\"data row2 col31\" >24</td>\n",
       "                        <td id=\"T_797273e2_7e64_11e9_b12b_e0d55e42fdbcrow2_col32\" class=\"data row2 col32\" >9.7</td>\n",
       "                        <td id=\"T_797273e2_7e64_11e9_b12b_e0d55e42fdbcrow2_col33\" class=\"data row2 col33\" >27067</td>\n",
       "                        <td id=\"T_797273e2_7e64_11e9_b12b_e0d55e42fdbcrow2_col34\" class=\"data row2 col34\" >False</td>\n",
       "                        <td id=\"T_797273e2_7e64_11e9_b12b_e0d55e42fdbcrow2_col35\" class=\"data row2 col35\" >2</td>\n",
       "                        <td id=\"T_797273e2_7e64_11e9_b12b_e0d55e42fdbcrow2_col36\" class=\"data row2 col36\" >Sta. María de Getxo (Getx)</td>\n",
       "            </tr>\n",
       "            <tr>\n",
       "                        <th id=\"T_797273e2_7e64_11e9_b12b_e0d55e42fdbclevel0_row3\" class=\"row_heading level0 row3\" >21836</th>\n",
       "                        <td id=\"T_797273e2_7e64_11e9_b12b_e0d55e42fdbcrow3_col0\" class=\"data row3 col0\" >81607117</td>\n",
       "                        <td id=\"T_797273e2_7e64_11e9_b12b_e0d55e42fdbcrow3_col1\" class=\"data row3 col1\" >Vivienda ubicada en una de las zonas más exclusivas de la ciudad. En primera línea de mar, orientada al Oeste, disfruta de las vistas hacía la Bahía de la Concha, los jardines de Alderdi Eder y el Ayuntamiento de San Sebastián. Situada en uno de los edificios más emblemáticos de la ciudad, ocupa toda la planta haciendo esquina. Tiene la posibilidad de SEGREGAR EN DOS VIVIENDAS (CONSULTA PLANOS DE POSIBLE DISTRIBUCIÓN)., , Su estado es a reformar, ofrece muchas posibilidades. Su distribución actual es la siguiente: Desde la entrada principal se accede a un hall y a un pasillo que nos lleva a cinco habitaciones, un baño (con bañera), un distribuidor, una salita y culmina en un amplio salón-comedor con una panorámica hacía la Bahía de La Concha, sin duda, la pieza más especial de la vivienda. A continuación, encontramos el dormitorio principal con vistas al mar, que incluye vestidor y baño. Desde la entrada del servicio se accede a otro pasillo el cual nos lleva a un aseo, un baño, tres habitaciones, cocina reformada y zona lavandería (a distintos patios de casa).  , , Edificio emblemático culminado con una torre majestuosa. Dispone de terraza comunitaria habilitada como solarium. Ascensor. Tres trasteros incluidos, derecho a levante y porcentaje sobre la vivienda del portero.  , , En definitiva, se trata de una de las viviendas más singulares y emblemáticas de la ciudad.  , ,Consulte sin compromiso.  .</td>\n",
       "                        <td id=\"T_797273e2_7e64_11e9_b12b_e0d55e42fdbcrow3_col2\" class=\"data row3 col2\" >3700000</td>\n",
       "                        <td id=\"T_797273e2_7e64_11e9_b12b_e0d55e42fdbcrow3_col3\" class=\"data row3 col3\" >4</td>\n",
       "                        <td id=\"T_797273e2_7e64_11e9_b12b_e0d55e42fdbcrow3_col4\" class=\"data row3 col4\" >para reformar</td>\n",
       "                        <td id=\"T_797273e2_7e64_11e9_b12b_e0d55e42fdbcrow3_col5\" class=\"data row3 col5\" >nan</td>\n",
       "                        <td id=\"T_797273e2_7e64_11e9_b12b_e0d55e42fdbcrow3_col6\" class=\"data row3 col6\" >en trámite</td>\n",
       "                        <td id=\"T_797273e2_7e64_11e9_b12b_e0d55e42fdbcrow3_col7\" class=\"data row3 col7\" >2ª</td>\n",
       "                        <td id=\"T_797273e2_7e64_11e9_b12b_e0d55e42fdbcrow3_col8\" class=\"data row3 col8\" >nan</td>\n",
       "                        <td id=\"T_797273e2_7e64_11e9_b12b_e0d55e42fdbcrow3_col9\" class=\"data row3 col9\" >nan</td>\n",
       "                        <td id=\"T_797273e2_7e64_11e9_b12b_e0d55e42fdbcrow3_col10\" class=\"data row3 col10\" >Piso</td>\n",
       "                        <td id=\"T_797273e2_7e64_11e9_b12b_e0d55e42fdbcrow3_col11\" class=\"data row3 col11\" >400</td>\n",
       "                        <td id=\"T_797273e2_7e64_11e9_b12b_e0d55e42fdbcrow3_col12\" class=\"data row3 col12\" >340</td>\n",
       "                        <td id=\"T_797273e2_7e64_11e9_b12b_e0d55e42fdbcrow3_col13\" class=\"data row3 col13\" >oeste</td>\n",
       "                        <td id=\"T_797273e2_7e64_11e9_b12b_e0d55e42fdbcrow3_col14\" class=\"data row3 col14\" >9</td>\n",
       "                        <td id=\"T_797273e2_7e64_11e9_b12b_e0d55e42fdbcrow3_col15\" class=\"data row3 col15\" >False</td>\n",
       "                        <td id=\"T_797273e2_7e64_11e9_b12b_e0d55e42fdbcrow3_col16\" class=\"data row3 col16\" >False</td>\n",
       "                        <td id=\"T_797273e2_7e64_11e9_b12b_e0d55e42fdbcrow3_col17\" class=\"data row3 col17\" >False</td>\n",
       "                        <td id=\"T_797273e2_7e64_11e9_b12b_e0d55e42fdbcrow3_col18\" class=\"data row3 col18\" >False</td>\n",
       "                        <td id=\"T_797273e2_7e64_11e9_b12b_e0d55e42fdbcrow3_col19\" class=\"data row3 col19\" >nan</td>\n",
       "                        <td id=\"T_797273e2_7e64_11e9_b12b_e0d55e42fdbcrow3_col20\" class=\"data row3 col20\" >False</td>\n",
       "                        <td id=\"T_797273e2_7e64_11e9_b12b_e0d55e42fdbcrow3_col21\" class=\"data row3 col21\" >1</td>\n",
       "                        <td id=\"T_797273e2_7e64_11e9_b12b_e0d55e42fdbcrow3_col22\" class=\"data row3 col22\" >False</td>\n",
       "                        <td id=\"T_797273e2_7e64_11e9_b12b_e0d55e42fdbcrow3_col23\" class=\"data row3 col23\" >True</td>\n",
       "                        <td id=\"T_797273e2_7e64_11e9_b12b_e0d55e42fdbcrow3_col24\" class=\"data row3 col24\" >False</td>\n",
       "                        <td id=\"T_797273e2_7e64_11e9_b12b_e0d55e42fdbcrow3_col25\" class=\"data row3 col25\" >False</td>\n",
       "                        <td id=\"T_797273e2_7e64_11e9_b12b_e0d55e42fdbcrow3_col26\" class=\"data row3 col26\" >Donostialdea (GIP)</td>\n",
       "                        <td id=\"T_797273e2_7e64_11e9_b12b_e0d55e42fdbcrow3_col27\" class=\"data row3 col27\" >Donostia/San Sebastián</td>\n",
       "                        <td id=\"T_797273e2_7e64_11e9_b12b_e0d55e42fdbcrow3_col28\" class=\"data row3 col28\" >186665</td>\n",
       "                        <td id=\"T_797273e2_7e64_11e9_b12b_e0d55e42fdbcrow3_col29\" class=\"data row3 col29\" >17</td>\n",
       "                        <td id=\"T_797273e2_7e64_11e9_b12b_e0d55e42fdbcrow3_col30\" class=\"data row3 col30\" >59</td>\n",
       "                        <td id=\"T_797273e2_7e64_11e9_b12b_e0d55e42fdbcrow3_col31\" class=\"data row3 col31\" >24</td>\n",
       "                        <td id=\"T_797273e2_7e64_11e9_b12b_e0d55e42fdbcrow3_col32\" class=\"data row3 col32\" >10.6</td>\n",
       "                        <td id=\"T_797273e2_7e64_11e9_b12b_e0d55e42fdbcrow3_col33\" class=\"data row3 col33\" >24552</td>\n",
       "                        <td id=\"T_797273e2_7e64_11e9_b12b_e0d55e42fdbcrow3_col34\" class=\"data row3 col34\" >False</td>\n",
       "                        <td id=\"T_797273e2_7e64_11e9_b12b_e0d55e42fdbcrow3_col35\" class=\"data row3 col35\" >1</td>\n",
       "                        <td id=\"T_797273e2_7e64_11e9_b12b_e0d55e42fdbcrow3_col36\" class=\"data row3 col36\" >Área Romántica (Dono)</td>\n",
       "            </tr>\n",
       "    </tbody></table>"
      ],
      "text/plain": [
       "<pandas.io.formats.style.Styler at 0x13d375f2940>"
      ]
     },
     "execution_count": 68,
     "metadata": {},
     "output_type": "execute_result"
    }
   ],
   "source": [
    "(df\n",
    " .query('price > 3500000')\n",
    " .sort_values('price', ascending=False)\n",
    " .style.set_properties(subset=['ad_description'], **{'min-width': '2400px'})\n",
    ")"
   ]
  },
  {
   "cell_type": "markdown",
   "metadata": {},
   "source": [
    "Vemos que los precios parecen correctos, por lo que no realizamos ninguna acción al respecto. Por otro lado, verificamos si hay viviendas con precios excesivamente bajos:"
   ]
  },
  {
   "cell_type": "code",
   "execution_count": 69,
   "metadata": {
    "ExecuteTime": {
     "end_time": "2019-05-22T14:51:24.503494Z",
     "start_time": "2019-05-22T14:51:24.479116Z"
    }
   },
   "outputs": [
    {
     "data": {
      "text/html": [
       "<style  type=\"text/css\" >\n",
       "    #T_7975f3f0_7e64_11e9_ab7a_e0d55e42fdbcrow0_col1 {\n",
       "            min-width:  600px;\n",
       "        }    #T_7975f3f0_7e64_11e9_ab7a_e0d55e42fdbcrow1_col1 {\n",
       "            min-width:  600px;\n",
       "        }    #T_7975f3f0_7e64_11e9_ab7a_e0d55e42fdbcrow2_col1 {\n",
       "            min-width:  600px;\n",
       "        }    #T_7975f3f0_7e64_11e9_ab7a_e0d55e42fdbcrow3_col1 {\n",
       "            min-width:  600px;\n",
       "        }</style><table id=\"T_7975f3f0_7e64_11e9_ab7a_e0d55e42fdbc\" ><thead>    <tr>        <th class=\"blank level0\" ></th>        <th class=\"col_heading level0 col0\" >house_id</th>        <th class=\"col_heading level0 col1\" >ad_description</th>        <th class=\"col_heading level0 col2\" >price</th>        <th class=\"col_heading level0 col3\" >bath_num</th>        <th class=\"col_heading level0 col4\" >condition</th>        <th class=\"col_heading level0 col5\" >construct_date</th>        <th class=\"col_heading level0 col6\" >energetic_certif</th>        <th class=\"col_heading level0 col7\" >floor</th>        <th class=\"col_heading level0 col8\" >ground_size</th>        <th class=\"col_heading level0 col9\" >heating</th>        <th class=\"col_heading level0 col10\" >house_type</th>        <th class=\"col_heading level0 col11\" >m2_real</th>        <th class=\"col_heading level0 col12\" >m2_useful</th>        <th class=\"col_heading level0 col13\" >orientation</th>        <th class=\"col_heading level0 col14\" >room_num</th>        <th class=\"col_heading level0 col15\" >air_conditioner</th>        <th class=\"col_heading level0 col16\" >balcony</th>        <th class=\"col_heading level0 col17\" >built_in_wardrobe</th>        <th class=\"col_heading level0 col18\" >chimney</th>        <th class=\"col_heading level0 col19\" >garage</th>        <th class=\"col_heading level0 col20\" >garden</th>        <th class=\"col_heading level0 col21\" >lift</th>        <th class=\"col_heading level0 col22\" >reduced_mobility</th>        <th class=\"col_heading level0 col23\" >storage_room</th>        <th class=\"col_heading level0 col24\" >swimming_pool</th>        <th class=\"col_heading level0 col25\" >terrace</th>        <th class=\"col_heading level0 col26\" >loc_zone</th>        <th class=\"col_heading level0 col27\" >loc_city</th>        <th class=\"col_heading level0 col28\" >pop_total</th>        <th class=\"col_heading level0 col29\" >pop_0-19</th>        <th class=\"col_heading level0 col30\" >pop_20-64</th>        <th class=\"col_heading level0 col31\" >pop_>=65</th>        <th class=\"col_heading level0 col32\" >pop_foreign</th>        <th class=\"col_heading level0 col33\" >rent</th>        <th class=\"col_heading level0 col34\" >indoor</th>        <th class=\"col_heading level0 col35\" >floor_count</th>        <th class=\"col_heading level0 col36\" >location</th>    </tr></thead><tbody>\n",
       "                <tr>\n",
       "                        <th id=\"T_7975f3f0_7e64_11e9_ab7a_e0d55e42fdbclevel0_row0\" class=\"row_heading level0 row0\" >170</th>\n",
       "                        <td id=\"T_7975f3f0_7e64_11e9_ab7a_e0d55e42fdbcrow0_col0\" class=\"data row0 col0\" >37173449</td>\n",
       "                        <td id=\"T_7975f3f0_7e64_11e9_ab7a_e0d55e42fdbcrow0_col1\" class=\"data row0 col1\" >Aprovecha esta oportunidad única. Vivienda con descuento de hasta el 50% ya aplicado en el precio. Casa derruida en parcela de 112,64 m2. Posibilidad de edificar una vivienda de 173,40 m2 útiles, distribuidos en planta baja y primera.</td>\n",
       "                        <td id=\"T_7975f3f0_7e64_11e9_ab7a_e0d55e42fdbcrow0_col2\" class=\"data row0 col2\" >4400</td>\n",
       "                        <td id=\"T_7975f3f0_7e64_11e9_ab7a_e0d55e42fdbcrow0_col3\" class=\"data row0 col3\" >2</td>\n",
       "                        <td id=\"T_7975f3f0_7e64_11e9_ab7a_e0d55e42fdbcrow0_col4\" class=\"data row0 col4\" >nan</td>\n",
       "                        <td id=\"T_7975f3f0_7e64_11e9_ab7a_e0d55e42fdbcrow0_col5\" class=\"data row0 col5\" >nan</td>\n",
       "                        <td id=\"T_7975f3f0_7e64_11e9_ab7a_e0d55e42fdbcrow0_col6\" class=\"data row0 col6\" >no indicado</td>\n",
       "                        <td id=\"T_7975f3f0_7e64_11e9_ab7a_e0d55e42fdbcrow0_col7\" class=\"data row0 col7\" >nan</td>\n",
       "                        <td id=\"T_7975f3f0_7e64_11e9_ab7a_e0d55e42fdbcrow0_col8\" class=\"data row0 col8\" >nan</td>\n",
       "                        <td id=\"T_7975f3f0_7e64_11e9_ab7a_e0d55e42fdbcrow0_col9\" class=\"data row0 col9\" >nan</td>\n",
       "                        <td id=\"T_7975f3f0_7e64_11e9_ab7a_e0d55e42fdbcrow0_col10\" class=\"data row0 col10\" >Casa o chalet</td>\n",
       "                        <td id=\"T_7975f3f0_7e64_11e9_ab7a_e0d55e42fdbcrow0_col11\" class=\"data row0 col11\" >216</td>\n",
       "                        <td id=\"T_7975f3f0_7e64_11e9_ab7a_e0d55e42fdbcrow0_col12\" class=\"data row0 col12\" >80</td>\n",
       "                        <td id=\"T_7975f3f0_7e64_11e9_ab7a_e0d55e42fdbcrow0_col13\" class=\"data row0 col13\" >nan</td>\n",
       "                        <td id=\"T_7975f3f0_7e64_11e9_ab7a_e0d55e42fdbcrow0_col14\" class=\"data row0 col14\" >3</td>\n",
       "                        <td id=\"T_7975f3f0_7e64_11e9_ab7a_e0d55e42fdbcrow0_col15\" class=\"data row0 col15\" >False</td>\n",
       "                        <td id=\"T_7975f3f0_7e64_11e9_ab7a_e0d55e42fdbcrow0_col16\" class=\"data row0 col16\" >False</td>\n",
       "                        <td id=\"T_7975f3f0_7e64_11e9_ab7a_e0d55e42fdbcrow0_col17\" class=\"data row0 col17\" >False</td>\n",
       "                        <td id=\"T_7975f3f0_7e64_11e9_ab7a_e0d55e42fdbcrow0_col18\" class=\"data row0 col18\" >False</td>\n",
       "                        <td id=\"T_7975f3f0_7e64_11e9_ab7a_e0d55e42fdbcrow0_col19\" class=\"data row0 col19\" >nan</td>\n",
       "                        <td id=\"T_7975f3f0_7e64_11e9_ab7a_e0d55e42fdbcrow0_col20\" class=\"data row0 col20\" >False</td>\n",
       "                        <td id=\"T_7975f3f0_7e64_11e9_ab7a_e0d55e42fdbcrow0_col21\" class=\"data row0 col21\" >nan</td>\n",
       "                        <td id=\"T_7975f3f0_7e64_11e9_ab7a_e0d55e42fdbcrow0_col22\" class=\"data row0 col22\" >False</td>\n",
       "                        <td id=\"T_7975f3f0_7e64_11e9_ab7a_e0d55e42fdbcrow0_col23\" class=\"data row0 col23\" >False</td>\n",
       "                        <td id=\"T_7975f3f0_7e64_11e9_ab7a_e0d55e42fdbcrow0_col24\" class=\"data row0 col24\" >False</td>\n",
       "                        <td id=\"T_7975f3f0_7e64_11e9_ab7a_e0d55e42fdbcrow0_col25\" class=\"data row0 col25\" >False</td>\n",
       "                        <td id=\"T_7975f3f0_7e64_11e9_ab7a_e0d55e42fdbcrow0_col26\" class=\"data row0 col26\" >Encartaciones (BIZ)</td>\n",
       "                        <td id=\"T_7975f3f0_7e64_11e9_ab7a_e0d55e42fdbcrow0_col27\" class=\"data row0 col27\" >Karrantza Harana/Valle de Carranza</td>\n",
       "                        <td id=\"T_7975f3f0_7e64_11e9_ab7a_e0d55e42fdbcrow0_col28\" class=\"data row0 col28\" >2715</td>\n",
       "                        <td id=\"T_7975f3f0_7e64_11e9_ab7a_e0d55e42fdbcrow0_col29\" class=\"data row0 col29\" >14</td>\n",
       "                        <td id=\"T_7975f3f0_7e64_11e9_ab7a_e0d55e42fdbcrow0_col30\" class=\"data row0 col30\" >59</td>\n",
       "                        <td id=\"T_7975f3f0_7e64_11e9_ab7a_e0d55e42fdbcrow0_col31\" class=\"data row0 col31\" >28</td>\n",
       "                        <td id=\"T_7975f3f0_7e64_11e9_ab7a_e0d55e42fdbcrow0_col32\" class=\"data row0 col32\" >4.6</td>\n",
       "                        <td id=\"T_7975f3f0_7e64_11e9_ab7a_e0d55e42fdbcrow0_col33\" class=\"data row0 col33\" >13431</td>\n",
       "                        <td id=\"T_7975f3f0_7e64_11e9_ab7a_e0d55e42fdbcrow0_col34\" class=\"data row0 col34\" >nan</td>\n",
       "                        <td id=\"T_7975f3f0_7e64_11e9_ab7a_e0d55e42fdbcrow0_col35\" class=\"data row0 col35\" >nan</td>\n",
       "                        <td id=\"T_7975f3f0_7e64_11e9_ab7a_e0d55e42fdbcrow0_col36\" class=\"data row0 col36\" >Karrantza Harana/Valle de Carranza</td>\n",
       "            </tr>\n",
       "            <tr>\n",
       "                        <th id=\"T_7975f3f0_7e64_11e9_ab7a_e0d55e42fdbclevel0_row1\" class=\"row_heading level0 row1\" >7503</th>\n",
       "                        <td id=\"T_7975f3f0_7e64_11e9_ab7a_e0d55e42fdbcrow1_col0\" class=\"data row1 col0\" >83053793</td>\n",
       "                        <td id=\"T_7975f3f0_7e64_11e9_ab7a_e0d55e42fdbcrow1_col1\" class=\"data row1 col1\" >Es un sótano tiene una ventana y un inodoro.</td>\n",
       "                        <td id=\"T_7975f3f0_7e64_11e9_ab7a_e0d55e42fdbcrow1_col2\" class=\"data row1 col2\" >16000</td>\n",
       "                        <td id=\"T_7975f3f0_7e64_11e9_ab7a_e0d55e42fdbcrow1_col3\" class=\"data row1 col3\" >1</td>\n",
       "                        <td id=\"T_7975f3f0_7e64_11e9_ab7a_e0d55e42fdbcrow1_col4\" class=\"data row1 col4\" >para reformar</td>\n",
       "                        <td id=\"T_7975f3f0_7e64_11e9_ab7a_e0d55e42fdbcrow1_col5\" class=\"data row1 col5\" >nan</td>\n",
       "                        <td id=\"T_7975f3f0_7e64_11e9_ab7a_e0d55e42fdbcrow1_col6\" class=\"data row1 col6\" >no indicado</td>\n",
       "                        <td id=\"T_7975f3f0_7e64_11e9_ab7a_e0d55e42fdbcrow1_col7\" class=\"data row1 col7\" ><0ª</td>\n",
       "                        <td id=\"T_7975f3f0_7e64_11e9_ab7a_e0d55e42fdbcrow1_col8\" class=\"data row1 col8\" >nan</td>\n",
       "                        <td id=\"T_7975f3f0_7e64_11e9_ab7a_e0d55e42fdbcrow1_col9\" class=\"data row1 col9\" >nan</td>\n",
       "                        <td id=\"T_7975f3f0_7e64_11e9_ab7a_e0d55e42fdbcrow1_col10\" class=\"data row1 col10\" >Piso</td>\n",
       "                        <td id=\"T_7975f3f0_7e64_11e9_ab7a_e0d55e42fdbcrow1_col11\" class=\"data row1 col11\" >28</td>\n",
       "                        <td id=\"T_7975f3f0_7e64_11e9_ab7a_e0d55e42fdbcrow1_col12\" class=\"data row1 col12\" >25</td>\n",
       "                        <td id=\"T_7975f3f0_7e64_11e9_ab7a_e0d55e42fdbcrow1_col13\" class=\"data row1 col13\" >nan</td>\n",
       "                        <td id=\"T_7975f3f0_7e64_11e9_ab7a_e0d55e42fdbcrow1_col14\" class=\"data row1 col14\" >0</td>\n",
       "                        <td id=\"T_7975f3f0_7e64_11e9_ab7a_e0d55e42fdbcrow1_col15\" class=\"data row1 col15\" >False</td>\n",
       "                        <td id=\"T_7975f3f0_7e64_11e9_ab7a_e0d55e42fdbcrow1_col16\" class=\"data row1 col16\" >False</td>\n",
       "                        <td id=\"T_7975f3f0_7e64_11e9_ab7a_e0d55e42fdbcrow1_col17\" class=\"data row1 col17\" >False</td>\n",
       "                        <td id=\"T_7975f3f0_7e64_11e9_ab7a_e0d55e42fdbcrow1_col18\" class=\"data row1 col18\" >False</td>\n",
       "                        <td id=\"T_7975f3f0_7e64_11e9_ab7a_e0d55e42fdbcrow1_col19\" class=\"data row1 col19\" >nan</td>\n",
       "                        <td id=\"T_7975f3f0_7e64_11e9_ab7a_e0d55e42fdbcrow1_col20\" class=\"data row1 col20\" >False</td>\n",
       "                        <td id=\"T_7975f3f0_7e64_11e9_ab7a_e0d55e42fdbcrow1_col21\" class=\"data row1 col21\" >0</td>\n",
       "                        <td id=\"T_7975f3f0_7e64_11e9_ab7a_e0d55e42fdbcrow1_col22\" class=\"data row1 col22\" >False</td>\n",
       "                        <td id=\"T_7975f3f0_7e64_11e9_ab7a_e0d55e42fdbcrow1_col23\" class=\"data row1 col23\" >False</td>\n",
       "                        <td id=\"T_7975f3f0_7e64_11e9_ab7a_e0d55e42fdbcrow1_col24\" class=\"data row1 col24\" >False</td>\n",
       "                        <td id=\"T_7975f3f0_7e64_11e9_ab7a_e0d55e42fdbcrow1_col25\" class=\"data row1 col25\" >False</td>\n",
       "                        <td id=\"T_7975f3f0_7e64_11e9_ab7a_e0d55e42fdbcrow1_col26\" class=\"data row1 col26\" >Gran Bilbao (BIZ)</td>\n",
       "                        <td id=\"T_7975f3f0_7e64_11e9_ab7a_e0d55e42fdbcrow1_col27\" class=\"data row1 col27\" >Sestao</td>\n",
       "                        <td id=\"T_7975f3f0_7e64_11e9_ab7a_e0d55e42fdbcrow1_col28\" class=\"data row1 col28\" >27445</td>\n",
       "                        <td id=\"T_7975f3f0_7e64_11e9_ab7a_e0d55e42fdbcrow1_col29\" class=\"data row1 col29\" >16</td>\n",
       "                        <td id=\"T_7975f3f0_7e64_11e9_ab7a_e0d55e42fdbcrow1_col30\" class=\"data row1 col30\" >59</td>\n",
       "                        <td id=\"T_7975f3f0_7e64_11e9_ab7a_e0d55e42fdbcrow1_col31\" class=\"data row1 col31\" >25</td>\n",
       "                        <td id=\"T_7975f3f0_7e64_11e9_ab7a_e0d55e42fdbcrow1_col32\" class=\"data row1 col32\" >8.7</td>\n",
       "                        <td id=\"T_7975f3f0_7e64_11e9_ab7a_e0d55e42fdbcrow1_col33\" class=\"data row1 col33\" >15057</td>\n",
       "                        <td id=\"T_7975f3f0_7e64_11e9_ab7a_e0d55e42fdbcrow1_col34\" class=\"data row1 col34\" >True</td>\n",
       "                        <td id=\"T_7975f3f0_7e64_11e9_ab7a_e0d55e42fdbcrow1_col35\" class=\"data row1 col35\" >1</td>\n",
       "                        <td id=\"T_7975f3f0_7e64_11e9_ab7a_e0d55e42fdbcrow1_col36\" class=\"data row1 col36\" >Txabarri - La Unión - Vista Alegre (Sest)</td>\n",
       "            </tr>\n",
       "            <tr>\n",
       "                        <th id=\"T_7975f3f0_7e64_11e9_ab7a_e0d55e42fdbclevel0_row2\" class=\"row_heading level0 row2\" >17841</th>\n",
       "                        <td id=\"T_7975f3f0_7e64_11e9_ab7a_e0d55e42fdbcrow2_col0\" class=\"data row2 col0\" >81380290</td>\n",
       "                        <td id=\"T_7975f3f0_7e64_11e9_ab7a_e0d55e42fdbcrow2_col1\" class=\"data row2 col1\" >Se vende CASA muy en RUINAS, sobre un terreno propio de 300 m2; en el Barrio de VISTA ALEGRE, encima del Área Recreativa del Bº de LA ACEÑA, (GALDAMES). El acceso rodado no llega hasta la casa.</td>\n",
       "                        <td id=\"T_7975f3f0_7e64_11e9_ab7a_e0d55e42fdbcrow2_col2\" class=\"data row2 col2\" >7200</td>\n",
       "                        <td id=\"T_7975f3f0_7e64_11e9_ab7a_e0d55e42fdbcrow2_col3\" class=\"data row2 col3\" >0</td>\n",
       "                        <td id=\"T_7975f3f0_7e64_11e9_ab7a_e0d55e42fdbcrow2_col4\" class=\"data row2 col4\" >para reformar</td>\n",
       "                        <td id=\"T_7975f3f0_7e64_11e9_ab7a_e0d55e42fdbcrow2_col5\" class=\"data row2 col5\" >nan</td>\n",
       "                        <td id=\"T_7975f3f0_7e64_11e9_ab7a_e0d55e42fdbcrow2_col6\" class=\"data row2 col6\" >no indicado</td>\n",
       "                        <td id=\"T_7975f3f0_7e64_11e9_ab7a_e0d55e42fdbcrow2_col7\" class=\"data row2 col7\" >nan</td>\n",
       "                        <td id=\"T_7975f3f0_7e64_11e9_ab7a_e0d55e42fdbcrow2_col8\" class=\"data row2 col8\" >nan</td>\n",
       "                        <td id=\"T_7975f3f0_7e64_11e9_ab7a_e0d55e42fdbcrow2_col9\" class=\"data row2 col9\" >nan</td>\n",
       "                        <td id=\"T_7975f3f0_7e64_11e9_ab7a_e0d55e42fdbcrow2_col10\" class=\"data row2 col10\" >Finca rústica</td>\n",
       "                        <td id=\"T_7975f3f0_7e64_11e9_ab7a_e0d55e42fdbcrow2_col11\" class=\"data row2 col11\" >98</td>\n",
       "                        <td id=\"T_7975f3f0_7e64_11e9_ab7a_e0d55e42fdbcrow2_col12\" class=\"data row2 col12\" >nan</td>\n",
       "                        <td id=\"T_7975f3f0_7e64_11e9_ab7a_e0d55e42fdbcrow2_col13\" class=\"data row2 col13\" >sur</td>\n",
       "                        <td id=\"T_7975f3f0_7e64_11e9_ab7a_e0d55e42fdbcrow2_col14\" class=\"data row2 col14\" >0</td>\n",
       "                        <td id=\"T_7975f3f0_7e64_11e9_ab7a_e0d55e42fdbcrow2_col15\" class=\"data row2 col15\" >False</td>\n",
       "                        <td id=\"T_7975f3f0_7e64_11e9_ab7a_e0d55e42fdbcrow2_col16\" class=\"data row2 col16\" >False</td>\n",
       "                        <td id=\"T_7975f3f0_7e64_11e9_ab7a_e0d55e42fdbcrow2_col17\" class=\"data row2 col17\" >False</td>\n",
       "                        <td id=\"T_7975f3f0_7e64_11e9_ab7a_e0d55e42fdbcrow2_col18\" class=\"data row2 col18\" >False</td>\n",
       "                        <td id=\"T_7975f3f0_7e64_11e9_ab7a_e0d55e42fdbcrow2_col19\" class=\"data row2 col19\" >nan</td>\n",
       "                        <td id=\"T_7975f3f0_7e64_11e9_ab7a_e0d55e42fdbcrow2_col20\" class=\"data row2 col20\" >False</td>\n",
       "                        <td id=\"T_7975f3f0_7e64_11e9_ab7a_e0d55e42fdbcrow2_col21\" class=\"data row2 col21\" >nan</td>\n",
       "                        <td id=\"T_7975f3f0_7e64_11e9_ab7a_e0d55e42fdbcrow2_col22\" class=\"data row2 col22\" >False</td>\n",
       "                        <td id=\"T_7975f3f0_7e64_11e9_ab7a_e0d55e42fdbcrow2_col23\" class=\"data row2 col23\" >False</td>\n",
       "                        <td id=\"T_7975f3f0_7e64_11e9_ab7a_e0d55e42fdbcrow2_col24\" class=\"data row2 col24\" >False</td>\n",
       "                        <td id=\"T_7975f3f0_7e64_11e9_ab7a_e0d55e42fdbcrow2_col25\" class=\"data row2 col25\" >False</td>\n",
       "                        <td id=\"T_7975f3f0_7e64_11e9_ab7a_e0d55e42fdbcrow2_col26\" class=\"data row2 col26\" >Encartaciones (BIZ)</td>\n",
       "                        <td id=\"T_7975f3f0_7e64_11e9_ab7a_e0d55e42fdbcrow2_col27\" class=\"data row2 col27\" >Galdames</td>\n",
       "                        <td id=\"T_7975f3f0_7e64_11e9_ab7a_e0d55e42fdbcrow2_col28\" class=\"data row2 col28\" >829</td>\n",
       "                        <td id=\"T_7975f3f0_7e64_11e9_ab7a_e0d55e42fdbcrow2_col29\" class=\"data row2 col29\" >17</td>\n",
       "                        <td id=\"T_7975f3f0_7e64_11e9_ab7a_e0d55e42fdbcrow2_col30\" class=\"data row2 col30\" >60</td>\n",
       "                        <td id=\"T_7975f3f0_7e64_11e9_ab7a_e0d55e42fdbcrow2_col31\" class=\"data row2 col31\" >24</td>\n",
       "                        <td id=\"T_7975f3f0_7e64_11e9_ab7a_e0d55e42fdbcrow2_col32\" class=\"data row2 col32\" >4.1</td>\n",
       "                        <td id=\"T_7975f3f0_7e64_11e9_ab7a_e0d55e42fdbcrow2_col33\" class=\"data row2 col33\" >19103</td>\n",
       "                        <td id=\"T_7975f3f0_7e64_11e9_ab7a_e0d55e42fdbcrow2_col34\" class=\"data row2 col34\" >nan</td>\n",
       "                        <td id=\"T_7975f3f0_7e64_11e9_ab7a_e0d55e42fdbcrow2_col35\" class=\"data row2 col35\" >nan</td>\n",
       "                        <td id=\"T_7975f3f0_7e64_11e9_ab7a_e0d55e42fdbcrow2_col36\" class=\"data row2 col36\" >Galdames</td>\n",
       "            </tr>\n",
       "            <tr>\n",
       "                        <th id=\"T_7975f3f0_7e64_11e9_ab7a_e0d55e42fdbclevel0_row3\" class=\"row_heading level0 row3\" >18933</th>\n",
       "                        <td id=\"T_7975f3f0_7e64_11e9_ab7a_e0d55e42fdbcrow3_col0\" class=\"data row3 col0\" >34465455</td>\n",
       "                        <td id=\"T_7975f3f0_7e64_11e9_ab7a_e0d55e42fdbcrow3_col1\" class=\"data row3 col1\" >Piso distribuido en salón-comedor, cocina, 4 habitaciones, 1 baño y 1 aseo. Dispone de trastero ubicado en la cubierta del edificio. Está situado en una zona residencial, junto a una de las vías principales de la localidad.</td>\n",
       "                        <td id=\"T_7975f3f0_7e64_11e9_ab7a_e0d55e42fdbcrow3_col2\" class=\"data row3 col2\" >15500</td>\n",
       "                        <td id=\"T_7975f3f0_7e64_11e9_ab7a_e0d55e42fdbcrow3_col3\" class=\"data row3 col3\" >2</td>\n",
       "                        <td id=\"T_7975f3f0_7e64_11e9_ab7a_e0d55e42fdbcrow3_col4\" class=\"data row3 col4\" >nan</td>\n",
       "                        <td id=\"T_7975f3f0_7e64_11e9_ab7a_e0d55e42fdbcrow3_col5\" class=\"data row3 col5\" >nan</td>\n",
       "                        <td id=\"T_7975f3f0_7e64_11e9_ab7a_e0d55e42fdbcrow3_col6\" class=\"data row3 col6\" >no indicado</td>\n",
       "                        <td id=\"T_7975f3f0_7e64_11e9_ab7a_e0d55e42fdbcrow3_col7\" class=\"data row3 col7\" >2ª</td>\n",
       "                        <td id=\"T_7975f3f0_7e64_11e9_ab7a_e0d55e42fdbcrow3_col8\" class=\"data row3 col8\" >nan</td>\n",
       "                        <td id=\"T_7975f3f0_7e64_11e9_ab7a_e0d55e42fdbcrow3_col9\" class=\"data row3 col9\" >nan</td>\n",
       "                        <td id=\"T_7975f3f0_7e64_11e9_ab7a_e0d55e42fdbcrow3_col10\" class=\"data row3 col10\" >Piso</td>\n",
       "                        <td id=\"T_7975f3f0_7e64_11e9_ab7a_e0d55e42fdbcrow3_col11\" class=\"data row3 col11\" >92</td>\n",
       "                        <td id=\"T_7975f3f0_7e64_11e9_ab7a_e0d55e42fdbcrow3_col12\" class=\"data row3 col12\" >74</td>\n",
       "                        <td id=\"T_7975f3f0_7e64_11e9_ab7a_e0d55e42fdbcrow3_col13\" class=\"data row3 col13\" >nan</td>\n",
       "                        <td id=\"T_7975f3f0_7e64_11e9_ab7a_e0d55e42fdbcrow3_col14\" class=\"data row3 col14\" >4</td>\n",
       "                        <td id=\"T_7975f3f0_7e64_11e9_ab7a_e0d55e42fdbcrow3_col15\" class=\"data row3 col15\" >False</td>\n",
       "                        <td id=\"T_7975f3f0_7e64_11e9_ab7a_e0d55e42fdbcrow3_col16\" class=\"data row3 col16\" >False</td>\n",
       "                        <td id=\"T_7975f3f0_7e64_11e9_ab7a_e0d55e42fdbcrow3_col17\" class=\"data row3 col17\" >False</td>\n",
       "                        <td id=\"T_7975f3f0_7e64_11e9_ab7a_e0d55e42fdbcrow3_col18\" class=\"data row3 col18\" >False</td>\n",
       "                        <td id=\"T_7975f3f0_7e64_11e9_ab7a_e0d55e42fdbcrow3_col19\" class=\"data row3 col19\" >nan</td>\n",
       "                        <td id=\"T_7975f3f0_7e64_11e9_ab7a_e0d55e42fdbcrow3_col20\" class=\"data row3 col20\" >False</td>\n",
       "                        <td id=\"T_7975f3f0_7e64_11e9_ab7a_e0d55e42fdbcrow3_col21\" class=\"data row3 col21\" >0</td>\n",
       "                        <td id=\"T_7975f3f0_7e64_11e9_ab7a_e0d55e42fdbcrow3_col22\" class=\"data row3 col22\" >False</td>\n",
       "                        <td id=\"T_7975f3f0_7e64_11e9_ab7a_e0d55e42fdbcrow3_col23\" class=\"data row3 col23\" >True</td>\n",
       "                        <td id=\"T_7975f3f0_7e64_11e9_ab7a_e0d55e42fdbcrow3_col24\" class=\"data row3 col24\" >False</td>\n",
       "                        <td id=\"T_7975f3f0_7e64_11e9_ab7a_e0d55e42fdbcrow3_col25\" class=\"data row3 col25\" >False</td>\n",
       "                        <td id=\"T_7975f3f0_7e64_11e9_ab7a_e0d55e42fdbcrow3_col26\" class=\"data row3 col26\" >Goierri (GIP)</td>\n",
       "                        <td id=\"T_7975f3f0_7e64_11e9_ab7a_e0d55e42fdbcrow3_col27\" class=\"data row3 col27\" >Zumarraga</td>\n",
       "                        <td id=\"T_7975f3f0_7e64_11e9_ab7a_e0d55e42fdbcrow3_col28\" class=\"data row3 col28\" >9834</td>\n",
       "                        <td id=\"T_7975f3f0_7e64_11e9_ab7a_e0d55e42fdbcrow3_col29\" class=\"data row3 col29\" >18</td>\n",
       "                        <td id=\"T_7975f3f0_7e64_11e9_ab7a_e0d55e42fdbcrow3_col30\" class=\"data row3 col30\" >57</td>\n",
       "                        <td id=\"T_7975f3f0_7e64_11e9_ab7a_e0d55e42fdbcrow3_col31\" class=\"data row3 col31\" >24</td>\n",
       "                        <td id=\"T_7975f3f0_7e64_11e9_ab7a_e0d55e42fdbcrow3_col32\" class=\"data row3 col32\" >7.8</td>\n",
       "                        <td id=\"T_7975f3f0_7e64_11e9_ab7a_e0d55e42fdbcrow3_col33\" class=\"data row3 col33\" >20472</td>\n",
       "                        <td id=\"T_7975f3f0_7e64_11e9_ab7a_e0d55e42fdbcrow3_col34\" class=\"data row3 col34\" >False</td>\n",
       "                        <td id=\"T_7975f3f0_7e64_11e9_ab7a_e0d55e42fdbcrow3_col35\" class=\"data row3 col35\" >1</td>\n",
       "                        <td id=\"T_7975f3f0_7e64_11e9_ab7a_e0d55e42fdbcrow3_col36\" class=\"data row3 col36\" >Zumarraga</td>\n",
       "            </tr>\n",
       "    </tbody></table>"
      ],
      "text/plain": [
       "<pandas.io.formats.style.Styler at 0x13d37ad9b70>"
      ]
     },
     "execution_count": 69,
     "metadata": {},
     "output_type": "execute_result"
    }
   ],
   "source": [
    "(df\n",
    " .query('price < 20000')\n",
    " .style.set_properties(subset=['ad_description'], **{'min-width': '600px'})\n",
    ")"
   ]
  },
  {
   "cell_type": "markdown",
   "metadata": {},
   "source": [
    "Vemos que las viviendas tienen bien asignado el precio, por lo que optamos por no descartarlos, entendiendo que forman parte también del conjunto de datos de casas en venta que queremos estudiar."
   ]
  },
  {
   "cell_type": "markdown",
   "metadata": {},
   "source": [
    "### <font color=#5F66A1>bath_num</font>"
   ]
  },
  {
   "cell_type": "code",
   "execution_count": 70,
   "metadata": {
    "ExecuteTime": {
     "end_time": "2019-05-22T14:51:24.750485Z",
     "start_time": "2019-05-22T14:51:24.505481Z"
    },
    "pycharm": {
     "name": "#%%\n"
    }
   },
   "outputs": [
    {
     "data": {
      "image/png": "[encoded data removed]",
      "text/plain": [
       "<Figure size 864x216 with 1 Axes>"
      ]
     },
     "metadata": {
      "needs_background": "light"
     },
     "output_type": "display_data"
    }
   ],
   "source": [
    "f, ax = plt.subplots(1, 1, figsize=(12, 3), sharex=True)\n",
    "sns.despine(left=True)\n",
    "\n",
    "def print_text(nums):  \n",
    "    for num in nums:\n",
    "        cnt = len(df.query('bath_num == @num'))\n",
    "        plt.text(num-0.1, 1.008, cnt, size='medium', weight='semibold')\n",
    "\n",
    "(df\n",
    " .groupby('bath_num')\n",
    " .count()\n",
    " .reset_index()\n",
    " .pipe((sns.scatterplot, 'data'), x='bath_num', y=1, size='house_id', sizes=(40, 3000)\n",
    "       , color=clr['pr'], alpha=.7, legend=False))\n",
    "\n",
    "ax.set_xticks(range(0,18))\n",
    "print_text([0,7,8,9,10,11,12,15,17])\n",
    "\n",
    "plt.setp(ax, yticks=[])\n",
    "plt.tight_layout()"
   ]
  },
  {
   "cell_type": "markdown",
   "metadata": {},
   "source": [
    "Vemos que hay unas pocas viviendas con un número muy elevado de baños. Las exploramos:"
   ]
  },
  {
   "cell_type": "code",
   "execution_count": 71,
   "metadata": {
    "ExecuteTime": {
     "end_time": "2019-05-22T14:51:24.783485Z",
     "start_time": "2019-05-22T14:51:24.751484Z"
    }
   },
   "outputs": [
    {
     "data": {
      "text/html": [
       "<style  type=\"text/css\" >\n",
       "    #T_7995c238_7e64_11e9_9d13_e0d55e42fdbcrow0_col1 {\n",
       "            min-width:  1600px;\n",
       "        }    #T_7995c238_7e64_11e9_9d13_e0d55e42fdbcrow1_col1 {\n",
       "            min-width:  1600px;\n",
       "        }    #T_7995c238_7e64_11e9_9d13_e0d55e42fdbcrow2_col1 {\n",
       "            min-width:  1600px;\n",
       "        }    #T_7995c238_7e64_11e9_9d13_e0d55e42fdbcrow3_col1 {\n",
       "            min-width:  1600px;\n",
       "        }    #T_7995c238_7e64_11e9_9d13_e0d55e42fdbcrow4_col1 {\n",
       "            min-width:  1600px;\n",
       "        }</style><table id=\"T_7995c238_7e64_11e9_9d13_e0d55e42fdbc\" ><thead>    <tr>        <th class=\"blank level0\" ></th>        <th class=\"col_heading level0 col0\" >house_id</th>        <th class=\"col_heading level0 col1\" >ad_description</th>        <th class=\"col_heading level0 col2\" >price</th>        <th class=\"col_heading level0 col3\" >bath_num</th>        <th class=\"col_heading level0 col4\" >condition</th>        <th class=\"col_heading level0 col5\" >construct_date</th>        <th class=\"col_heading level0 col6\" >energetic_certif</th>        <th class=\"col_heading level0 col7\" >floor</th>        <th class=\"col_heading level0 col8\" >ground_size</th>        <th class=\"col_heading level0 col9\" >heating</th>        <th class=\"col_heading level0 col10\" >house_type</th>        <th class=\"col_heading level0 col11\" >m2_real</th>        <th class=\"col_heading level0 col12\" >m2_useful</th>        <th class=\"col_heading level0 col13\" >orientation</th>        <th class=\"col_heading level0 col14\" >room_num</th>        <th class=\"col_heading level0 col15\" >air_conditioner</th>        <th class=\"col_heading level0 col16\" >balcony</th>        <th class=\"col_heading level0 col17\" >built_in_wardrobe</th>        <th class=\"col_heading level0 col18\" >chimney</th>        <th class=\"col_heading level0 col19\" >garage</th>        <th class=\"col_heading level0 col20\" >garden</th>        <th class=\"col_heading level0 col21\" >lift</th>        <th class=\"col_heading level0 col22\" >reduced_mobility</th>        <th class=\"col_heading level0 col23\" >storage_room</th>        <th class=\"col_heading level0 col24\" >swimming_pool</th>        <th class=\"col_heading level0 col25\" >terrace</th>        <th class=\"col_heading level0 col26\" >loc_zone</th>        <th class=\"col_heading level0 col27\" >loc_city</th>        <th class=\"col_heading level0 col28\" >pop_total</th>        <th class=\"col_heading level0 col29\" >pop_0-19</th>        <th class=\"col_heading level0 col30\" >pop_20-64</th>        <th class=\"col_heading level0 col31\" >pop_>=65</th>        <th class=\"col_heading level0 col32\" >pop_foreign</th>        <th class=\"col_heading level0 col33\" >rent</th>        <th class=\"col_heading level0 col34\" >indoor</th>        <th class=\"col_heading level0 col35\" >floor_count</th>        <th class=\"col_heading level0 col36\" >location</th>    </tr></thead><tbody>\n",
       "                <tr>\n",
       "                        <th id=\"T_7995c238_7e64_11e9_9d13_e0d55e42fdbclevel0_row0\" class=\"row_heading level0 row0\" >245</th>\n",
       "                        <td id=\"T_7995c238_7e64_11e9_9d13_e0d55e42fdbcrow0_col0\" class=\"data row0 col0\" >37455487</td>\n",
       "                        <td id=\"T_7995c238_7e64_11e9_9d13_e0d55e42fdbcrow0_col1\" class=\"data row0 col1\" >Se vende hotel con encanto en pleno funcionamiento, y parcela de 12. 500 m2 por no poder atender. construido en el año 2005 y abierto al público en 2006, está situado en el barrio de ahedo del valle de carranza, lugar mágico, con vistas espectaculares. hotel en pleno funcionamiento, con 8 habitaciones temáticas distintas con bañera de hidromasaje en todas, 2 grandes suites acabadas sin inaugurar, vivienda de los propietarios, y salas para reuniones y celebraciones. espacio exterior parapoder construir una piscina. con todos los permisos legales vigentes. para poder explotarlo inmediatamente, está abierto y a pleno rendimiento. Buenas valoraciones en Booking. com, TripAdvisor, Google, etc. solo para compradores directos interesados. intermediarios sólo con resultado final de venta.</td>\n",
       "                        <td id=\"T_7995c238_7e64_11e9_9d13_e0d55e42fdbcrow0_col2\" class=\"data row0 col2\" >950000</td>\n",
       "                        <td id=\"T_7995c238_7e64_11e9_9d13_e0d55e42fdbcrow0_col3\" class=\"data row0 col3\" >17</td>\n",
       "                        <td id=\"T_7995c238_7e64_11e9_9d13_e0d55e42fdbcrow0_col4\" class=\"data row0 col4\" >buen estado</td>\n",
       "                        <td id=\"T_7995c238_7e64_11e9_9d13_e0d55e42fdbcrow0_col5\" class=\"data row0 col5\" >2006</td>\n",
       "                        <td id=\"T_7995c238_7e64_11e9_9d13_e0d55e42fdbcrow0_col6\" class=\"data row0 col6\" >no indicado</td>\n",
       "                        <td id=\"T_7995c238_7e64_11e9_9d13_e0d55e42fdbcrow0_col7\" class=\"data row0 col7\" >nan</td>\n",
       "                        <td id=\"T_7995c238_7e64_11e9_9d13_e0d55e42fdbcrow0_col8\" class=\"data row0 col8\" >12500</td>\n",
       "                        <td id=\"T_7995c238_7e64_11e9_9d13_e0d55e42fdbcrow0_col9\" class=\"data row0 col9\" >nan</td>\n",
       "                        <td id=\"T_7995c238_7e64_11e9_9d13_e0d55e42fdbcrow0_col10\" class=\"data row0 col10\" >Casa rural</td>\n",
       "                        <td id=\"T_7995c238_7e64_11e9_9d13_e0d55e42fdbcrow0_col11\" class=\"data row0 col11\" >1000</td>\n",
       "                        <td id=\"T_7995c238_7e64_11e9_9d13_e0d55e42fdbcrow0_col12\" class=\"data row0 col12\" >984</td>\n",
       "                        <td id=\"T_7995c238_7e64_11e9_9d13_e0d55e42fdbcrow0_col13\" class=\"data row0 col13\" >este</td>\n",
       "                        <td id=\"T_7995c238_7e64_11e9_9d13_e0d55e42fdbcrow0_col14\" class=\"data row0 col14\" >12</td>\n",
       "                        <td id=\"T_7995c238_7e64_11e9_9d13_e0d55e42fdbcrow0_col15\" class=\"data row0 col15\" >True</td>\n",
       "                        <td id=\"T_7995c238_7e64_11e9_9d13_e0d55e42fdbcrow0_col16\" class=\"data row0 col16\" >True</td>\n",
       "                        <td id=\"T_7995c238_7e64_11e9_9d13_e0d55e42fdbcrow0_col17\" class=\"data row0 col17\" >True</td>\n",
       "                        <td id=\"T_7995c238_7e64_11e9_9d13_e0d55e42fdbcrow0_col18\" class=\"data row0 col18\" >True</td>\n",
       "                        <td id=\"T_7995c238_7e64_11e9_9d13_e0d55e42fdbcrow0_col19\" class=\"data row0 col19\" >0</td>\n",
       "                        <td id=\"T_7995c238_7e64_11e9_9d13_e0d55e42fdbcrow0_col20\" class=\"data row0 col20\" >True</td>\n",
       "                        <td id=\"T_7995c238_7e64_11e9_9d13_e0d55e42fdbcrow0_col21\" class=\"data row0 col21\" >nan</td>\n",
       "                        <td id=\"T_7995c238_7e64_11e9_9d13_e0d55e42fdbcrow0_col22\" class=\"data row0 col22\" >True</td>\n",
       "                        <td id=\"T_7995c238_7e64_11e9_9d13_e0d55e42fdbcrow0_col23\" class=\"data row0 col23\" >True</td>\n",
       "                        <td id=\"T_7995c238_7e64_11e9_9d13_e0d55e42fdbcrow0_col24\" class=\"data row0 col24\" >False</td>\n",
       "                        <td id=\"T_7995c238_7e64_11e9_9d13_e0d55e42fdbcrow0_col25\" class=\"data row0 col25\" >True</td>\n",
       "                        <td id=\"T_7995c238_7e64_11e9_9d13_e0d55e42fdbcrow0_col26\" class=\"data row0 col26\" >Encartaciones (BIZ)</td>\n",
       "                        <td id=\"T_7995c238_7e64_11e9_9d13_e0d55e42fdbcrow0_col27\" class=\"data row0 col27\" >Karrantza Harana/Valle de Carranza</td>\n",
       "                        <td id=\"T_7995c238_7e64_11e9_9d13_e0d55e42fdbcrow0_col28\" class=\"data row0 col28\" >2715</td>\n",
       "                        <td id=\"T_7995c238_7e64_11e9_9d13_e0d55e42fdbcrow0_col29\" class=\"data row0 col29\" >14</td>\n",
       "                        <td id=\"T_7995c238_7e64_11e9_9d13_e0d55e42fdbcrow0_col30\" class=\"data row0 col30\" >59</td>\n",
       "                        <td id=\"T_7995c238_7e64_11e9_9d13_e0d55e42fdbcrow0_col31\" class=\"data row0 col31\" >28</td>\n",
       "                        <td id=\"T_7995c238_7e64_11e9_9d13_e0d55e42fdbcrow0_col32\" class=\"data row0 col32\" >4.6</td>\n",
       "                        <td id=\"T_7995c238_7e64_11e9_9d13_e0d55e42fdbcrow0_col33\" class=\"data row0 col33\" >13431</td>\n",
       "                        <td id=\"T_7995c238_7e64_11e9_9d13_e0d55e42fdbcrow0_col34\" class=\"data row0 col34\" >False</td>\n",
       "                        <td id=\"T_7995c238_7e64_11e9_9d13_e0d55e42fdbcrow0_col35\" class=\"data row0 col35\" >3</td>\n",
       "                        <td id=\"T_7995c238_7e64_11e9_9d13_e0d55e42fdbcrow0_col36\" class=\"data row0 col36\" >Karrantza Harana/Valle de Carranza</td>\n",
       "            </tr>\n",
       "            <tr>\n",
       "                        <th id=\"T_7995c238_7e64_11e9_9d13_e0d55e42fdbclevel0_row1\" class=\"row_heading level0 row1\" >18074</th>\n",
       "                        <td id=\"T_7995c238_7e64_11e9_9d13_e0d55e42fdbcrow1_col0\" class=\"data row1 col0\" >33257536</td>\n",
       "                        <td id=\"T_7995c238_7e64_11e9_9d13_e0d55e42fdbcrow1_col1\" class=\"data row1 col1\" >Se trata de un edificio exento en el centro de Legazpia (Guipúzcoa) con claras reminiscencias de lo que se ha venido denominando “regionalismo” o “arquitectura neovasca”. Presenta dos pisos, ganbara y semisótano de fábrica de mampuesto y ladrillo visto. En el sótano se encuentra una sala de reuniones, dos baños, la lavandería y zona de almacenaje. En la planta noble se encuentra el comedor principal, hall, y zona de bar. Desde esta planta y desde las diferentes estancias se puede acceder a las diferentes terrazas de las que dispone la propiedad. En la primera y se encuentran seis habitaciones, todas ellas con baño, en esta planta se encuentra también un office. La segunda planta también hay otras 6 habitaciones con baño y un office. La torre del edificio alberga una suite con baño y zona de despacho. Los materiales empleados en la construcción son de muy buena calidad y cabe destacar la espectacular escalera.,Situado al sur de Gipuzkoa, el municipio de Legazpi pertenece a la comarca de Urola Kosta. El río Urola atraviesa la localidad y el monte Aizkorri (1.528 m) se abre paso en los alrededores. Prácticamente en el centro de las tres capitales vascas, Bilbao 75 km, de San Sebastián 64 km y de Vitoria 55 km. Legazpi es un municipio íntimamente ligado a la transformación del hierro, favorecida por la riqueza forestal y la actividad minera de la zona. En este sentido, el visitante que llega al municipio tiene la oportunidad de conocer más a fondo todos los detalles de este oficio en el museo del hierro y en la ferrería de Mirandaola, ubicado en un hermoso paraje en las faldas del Parque Natural de Aizkorri. En un espacio único, una antigua fábrica reconvertida en Museo muestra la relación entre el arte y la industria de la mano de uno de los escultores más famosos del País Vasco, Eduardo Chillida, quien vino a Legazpi- El Valle del Hierro a realizar sus esculturas monumentales que hoy están en plazas y museos de todo el mundo. En este espacio se muestran los talleres de papel y de forja del escultor, las máquinas de la Gran Forja, modernos sistemas audiovisuales y entrevistas a los trabajadores. Nos llamarán la atención los edificios que se alzan en el casco urbano, ya que predominan las construcciones modernas. Cabe destacar el propio ayuntamiento de Legazpi, que cuenta con una fachada sillar y un bonito escudo de hierro. Próximo a él se encuentra la hermosa iglesia parroquial de Nuestra Señora de la Asunción, del siglo XIV, así como el palacio Bikuña, obra del siglo XVI. Todo ello, junto a los numerosos caseríos de Legazpi, completa el patrimonio monumental del municipio.</td>\n",
       "                        <td id=\"T_7995c238_7e64_11e9_9d13_e0d55e42fdbcrow1_col2\" class=\"data row1 col2\" >1200000</td>\n",
       "                        <td id=\"T_7995c238_7e64_11e9_9d13_e0d55e42fdbcrow1_col3\" class=\"data row1 col3\" >15</td>\n",
       "                        <td id=\"T_7995c238_7e64_11e9_9d13_e0d55e42fdbcrow1_col4\" class=\"data row1 col4\" >buen estado</td>\n",
       "                        <td id=\"T_7995c238_7e64_11e9_9d13_e0d55e42fdbcrow1_col5\" class=\"data row1 col5\" >nan</td>\n",
       "                        <td id=\"T_7995c238_7e64_11e9_9d13_e0d55e42fdbcrow1_col6\" class=\"data row1 col6\" >no indicado</td>\n",
       "                        <td id=\"T_7995c238_7e64_11e9_9d13_e0d55e42fdbcrow1_col7\" class=\"data row1 col7\" >nan</td>\n",
       "                        <td id=\"T_7995c238_7e64_11e9_9d13_e0d55e42fdbcrow1_col8\" class=\"data row1 col8\" >nan</td>\n",
       "                        <td id=\"T_7995c238_7e64_11e9_9d13_e0d55e42fdbcrow1_col9\" class=\"data row1 col9\" >nan</td>\n",
       "                        <td id=\"T_7995c238_7e64_11e9_9d13_e0d55e42fdbcrow1_col10\" class=\"data row1 col10\" >Casa o chalet</td>\n",
       "                        <td id=\"T_7995c238_7e64_11e9_9d13_e0d55e42fdbcrow1_col11\" class=\"data row1 col11\" >1056</td>\n",
       "                        <td id=\"T_7995c238_7e64_11e9_9d13_e0d55e42fdbcrow1_col12\" class=\"data row1 col12\" >nan</td>\n",
       "                        <td id=\"T_7995c238_7e64_11e9_9d13_e0d55e42fdbcrow1_col13\" class=\"data row1 col13\" >nan</td>\n",
       "                        <td id=\"T_7995c238_7e64_11e9_9d13_e0d55e42fdbcrow1_col14\" class=\"data row1 col14\" >13</td>\n",
       "                        <td id=\"T_7995c238_7e64_11e9_9d13_e0d55e42fdbcrow1_col15\" class=\"data row1 col15\" >False</td>\n",
       "                        <td id=\"T_7995c238_7e64_11e9_9d13_e0d55e42fdbcrow1_col16\" class=\"data row1 col16\" >False</td>\n",
       "                        <td id=\"T_7995c238_7e64_11e9_9d13_e0d55e42fdbcrow1_col17\" class=\"data row1 col17\" >False</td>\n",
       "                        <td id=\"T_7995c238_7e64_11e9_9d13_e0d55e42fdbcrow1_col18\" class=\"data row1 col18\" >False</td>\n",
       "                        <td id=\"T_7995c238_7e64_11e9_9d13_e0d55e42fdbcrow1_col19\" class=\"data row1 col19\" >0</td>\n",
       "                        <td id=\"T_7995c238_7e64_11e9_9d13_e0d55e42fdbcrow1_col20\" class=\"data row1 col20\" >False</td>\n",
       "                        <td id=\"T_7995c238_7e64_11e9_9d13_e0d55e42fdbcrow1_col21\" class=\"data row1 col21\" >nan</td>\n",
       "                        <td id=\"T_7995c238_7e64_11e9_9d13_e0d55e42fdbcrow1_col22\" class=\"data row1 col22\" >False</td>\n",
       "                        <td id=\"T_7995c238_7e64_11e9_9d13_e0d55e42fdbcrow1_col23\" class=\"data row1 col23\" >False</td>\n",
       "                        <td id=\"T_7995c238_7e64_11e9_9d13_e0d55e42fdbcrow1_col24\" class=\"data row1 col24\" >False</td>\n",
       "                        <td id=\"T_7995c238_7e64_11e9_9d13_e0d55e42fdbcrow1_col25\" class=\"data row1 col25\" >False</td>\n",
       "                        <td id=\"T_7995c238_7e64_11e9_9d13_e0d55e42fdbcrow1_col26\" class=\"data row1 col26\" >Goierri (GIP)</td>\n",
       "                        <td id=\"T_7995c238_7e64_11e9_9d13_e0d55e42fdbcrow1_col27\" class=\"data row1 col27\" >Legazpi</td>\n",
       "                        <td id=\"T_7995c238_7e64_11e9_9d13_e0d55e42fdbcrow1_col28\" class=\"data row1 col28\" >8384</td>\n",
       "                        <td id=\"T_7995c238_7e64_11e9_9d13_e0d55e42fdbcrow1_col29\" class=\"data row1 col29\" >18</td>\n",
       "                        <td id=\"T_7995c238_7e64_11e9_9d13_e0d55e42fdbcrow1_col30\" class=\"data row1 col30\" >57</td>\n",
       "                        <td id=\"T_7995c238_7e64_11e9_9d13_e0d55e42fdbcrow1_col31\" class=\"data row1 col31\" >25</td>\n",
       "                        <td id=\"T_7995c238_7e64_11e9_9d13_e0d55e42fdbcrow1_col32\" class=\"data row1 col32\" >4.7</td>\n",
       "                        <td id=\"T_7995c238_7e64_11e9_9d13_e0d55e42fdbcrow1_col33\" class=\"data row1 col33\" >21625</td>\n",
       "                        <td id=\"T_7995c238_7e64_11e9_9d13_e0d55e42fdbcrow1_col34\" class=\"data row1 col34\" >False</td>\n",
       "                        <td id=\"T_7995c238_7e64_11e9_9d13_e0d55e42fdbcrow1_col35\" class=\"data row1 col35\" >5</td>\n",
       "                        <td id=\"T_7995c238_7e64_11e9_9d13_e0d55e42fdbcrow1_col36\" class=\"data row1 col36\" >Legazpi</td>\n",
       "            </tr>\n",
       "            <tr>\n",
       "                        <th id=\"T_7995c238_7e64_11e9_9d13_e0d55e42fdbclevel0_row2\" class=\"row_heading level0 row2\" >22853</th>\n",
       "                        <td id=\"T_7995c238_7e64_11e9_9d13_e0d55e42fdbcrow2_col0\" class=\"data row2 col0\" >81530893</td>\n",
       "                        <td id=\"T_7995c238_7e64_11e9_9d13_e0d55e42fdbcrow2_col1\" class=\"data row2 col1\" >El hotel se haya ubicado a 15 km de la concha de Donosti, rodeado de una gran explanada de árboles frondosos y de una pequeña montaña, que le da un aire fresco y relajante., , Consta de dos plantas aprox 300 m2 por planta, más las 2 terrazas de 50m2 cada una aprox., , Tiene una estrella y consta de 8 habitaciones, 4 dobles y 4 individuales, todas con baño completo., , Cuatro de las habitaciones, tienen acceso a una terraza privada y 4 de los baños, también son exteriores., , En la planta baja, dispone de una cafeteria-bar de estilo inglés que tiene una amplia terraza exterior junto con un restaurante con capacidad para 50 comensales, junto con un salón privado con capacidad para 15 comensales, y un comedor de verano de otros 50 comensales. Todo ello totalmente equipado., , En frente del hotel hay un gran parking público y gratuito. Muy buenas comunicaciones, tanto en coche, bus o tren., , El hotel se inauguró en el año 1992 y desde esa fecha ha estado funcionando ininterrumpidamente, acumulando una cartera de clientes tanto del hotel como del bar-restaurante., , Puede dar salida a residencia, centro de convalecencia, un domicilio particular, escuela hostelería., , Precio negociable., ,  , ,.</td>\n",
       "                        <td id=\"T_7995c238_7e64_11e9_9d13_e0d55e42fdbcrow2_col2\" class=\"data row2 col2\" >1500000</td>\n",
       "                        <td id=\"T_7995c238_7e64_11e9_9d13_e0d55e42fdbcrow2_col3\" class=\"data row2 col3\" >12</td>\n",
       "                        <td id=\"T_7995c238_7e64_11e9_9d13_e0d55e42fdbcrow2_col4\" class=\"data row2 col4\" >nan</td>\n",
       "                        <td id=\"T_7995c238_7e64_11e9_9d13_e0d55e42fdbcrow2_col5\" class=\"data row2 col5\" >nan</td>\n",
       "                        <td id=\"T_7995c238_7e64_11e9_9d13_e0d55e42fdbcrow2_col6\" class=\"data row2 col6\" >en trámite</td>\n",
       "                        <td id=\"T_7995c238_7e64_11e9_9d13_e0d55e42fdbcrow2_col7\" class=\"data row2 col7\" >nan</td>\n",
       "                        <td id=\"T_7995c238_7e64_11e9_9d13_e0d55e42fdbcrow2_col8\" class=\"data row2 col8\" >nan</td>\n",
       "                        <td id=\"T_7995c238_7e64_11e9_9d13_e0d55e42fdbcrow2_col9\" class=\"data row2 col9\" >nan</td>\n",
       "                        <td id=\"T_7995c238_7e64_11e9_9d13_e0d55e42fdbcrow2_col10\" class=\"data row2 col10\" >Casa o chalet</td>\n",
       "                        <td id=\"T_7995c238_7e64_11e9_9d13_e0d55e42fdbcrow2_col11\" class=\"data row2 col11\" >600</td>\n",
       "                        <td id=\"T_7995c238_7e64_11e9_9d13_e0d55e42fdbcrow2_col12\" class=\"data row2 col12\" >nan</td>\n",
       "                        <td id=\"T_7995c238_7e64_11e9_9d13_e0d55e42fdbcrow2_col13\" class=\"data row2 col13\" >nan</td>\n",
       "                        <td id=\"T_7995c238_7e64_11e9_9d13_e0d55e42fdbcrow2_col14\" class=\"data row2 col14\" >8</td>\n",
       "                        <td id=\"T_7995c238_7e64_11e9_9d13_e0d55e42fdbcrow2_col15\" class=\"data row2 col15\" >False</td>\n",
       "                        <td id=\"T_7995c238_7e64_11e9_9d13_e0d55e42fdbcrow2_col16\" class=\"data row2 col16\" >False</td>\n",
       "                        <td id=\"T_7995c238_7e64_11e9_9d13_e0d55e42fdbcrow2_col17\" class=\"data row2 col17\" >False</td>\n",
       "                        <td id=\"T_7995c238_7e64_11e9_9d13_e0d55e42fdbcrow2_col18\" class=\"data row2 col18\" >False</td>\n",
       "                        <td id=\"T_7995c238_7e64_11e9_9d13_e0d55e42fdbcrow2_col19\" class=\"data row2 col19\" >nan</td>\n",
       "                        <td id=\"T_7995c238_7e64_11e9_9d13_e0d55e42fdbcrow2_col20\" class=\"data row2 col20\" >False</td>\n",
       "                        <td id=\"T_7995c238_7e64_11e9_9d13_e0d55e42fdbcrow2_col21\" class=\"data row2 col21\" >nan</td>\n",
       "                        <td id=\"T_7995c238_7e64_11e9_9d13_e0d55e42fdbcrow2_col22\" class=\"data row2 col22\" >False</td>\n",
       "                        <td id=\"T_7995c238_7e64_11e9_9d13_e0d55e42fdbcrow2_col23\" class=\"data row2 col23\" >False</td>\n",
       "                        <td id=\"T_7995c238_7e64_11e9_9d13_e0d55e42fdbcrow2_col24\" class=\"data row2 col24\" >False</td>\n",
       "                        <td id=\"T_7995c238_7e64_11e9_9d13_e0d55e42fdbcrow2_col25\" class=\"data row2 col25\" >False</td>\n",
       "                        <td id=\"T_7995c238_7e64_11e9_9d13_e0d55e42fdbcrow2_col26\" class=\"data row2 col26\" >Donostialdea (GIP)</td>\n",
       "                        <td id=\"T_7995c238_7e64_11e9_9d13_e0d55e42fdbcrow2_col27\" class=\"data row2 col27\" >Usurbil</td>\n",
       "                        <td id=\"T_7995c238_7e64_11e9_9d13_e0d55e42fdbcrow2_col28\" class=\"data row2 col28\" >6165</td>\n",
       "                        <td id=\"T_7995c238_7e64_11e9_9d13_e0d55e42fdbcrow2_col29\" class=\"data row2 col29\" >23</td>\n",
       "                        <td id=\"T_7995c238_7e64_11e9_9d13_e0d55e42fdbcrow2_col30\" class=\"data row2 col30\" >59</td>\n",
       "                        <td id=\"T_7995c238_7e64_11e9_9d13_e0d55e42fdbcrow2_col31\" class=\"data row2 col31\" >18</td>\n",
       "                        <td id=\"T_7995c238_7e64_11e9_9d13_e0d55e42fdbcrow2_col32\" class=\"data row2 col32\" >6.1</td>\n",
       "                        <td id=\"T_7995c238_7e64_11e9_9d13_e0d55e42fdbcrow2_col33\" class=\"data row2 col33\" >20979</td>\n",
       "                        <td id=\"T_7995c238_7e64_11e9_9d13_e0d55e42fdbcrow2_col34\" class=\"data row2 col34\" >nan</td>\n",
       "                        <td id=\"T_7995c238_7e64_11e9_9d13_e0d55e42fdbcrow2_col35\" class=\"data row2 col35\" >nan</td>\n",
       "                        <td id=\"T_7995c238_7e64_11e9_9d13_e0d55e42fdbcrow2_col36\" class=\"data row2 col36\" >Usurbil</td>\n",
       "            </tr>\n",
       "            <tr>\n",
       "                        <th id=\"T_7995c238_7e64_11e9_9d13_e0d55e42fdbclevel0_row3\" class=\"row_heading level0 row3\" >7428</th>\n",
       "                        <td id=\"T_7995c238_7e64_11e9_9d13_e0d55e42fdbcrow3_col0\" class=\"data row3 col0\" >82506120</td>\n",
       "                        <td id=\"T_7995c238_7e64_11e9_9d13_e0d55e42fdbcrow3_col1\" class=\"data row3 col1\" >ESPECIAL INVERSORES.,VENTA DE CASONA INDIVIDUAL CON NEGOCIO ACTIVO Y RENTABLE.,IDEAL PARA NEGOCIO DE HOSTELERÍA.,Desde 1996 funciona como pensión Paratene, ubicada en una preciosa casona que cuenta con 594m2 de parcela situada en la tranquila localidad de Erandio Goikoa. A solo 3 km del aeropuerto de Bilbao, a 7 km del mar y a 10 minutos en coche del centro de Bilbao. A un paso de la autovía La Avanzada y a pocos metros de la parada de autobús.,La casa, reformada recientemente, se vende totalmente equipada con muebles incluidos.,17 habitaciones de estilo rural que cuentan con calefacción, armario, escritorio y baño privado o compartido.,La distribución es la siguiente:,- En planta alta: 5 espaciosas habitaciones (individuales, dobles, triples), cada una con su baño privado completo incorporado.,- En planta primera: 9 habitaciones y 3 baños completos.,- En planta baja: hall recibidor, despacho, habitación para personas con movilidad reducida con baño adaptado incorporado, cocina con mesa de comedor, sala de lavandería. Además, vivienda independiente que consta de dos habitaciones, dos baños completos y gran salón, con acceso a la terraza de exterior.,La casa dispone de una gran terraza que la rodea, con valla automatizada para entrada de vehículos, y está rodeada de zonas verdes. ,Vistas despejadas a la campiña desde todas las habitaciones y gran facilidad de aparcamiento.,Calefacción con depósito individual de gas.,DISPONIBLE LICENCIA DE ACTIVIDAD E INFORME DE EXPLOTACIÓN.</td>\n",
       "                        <td id=\"T_7995c238_7e64_11e9_9d13_e0d55e42fdbcrow3_col2\" class=\"data row3 col2\" >860000</td>\n",
       "                        <td id=\"T_7995c238_7e64_11e9_9d13_e0d55e42fdbcrow3_col3\" class=\"data row3 col3\" >11</td>\n",
       "                        <td id=\"T_7995c238_7e64_11e9_9d13_e0d55e42fdbcrow3_col4\" class=\"data row3 col4\" >buen estado</td>\n",
       "                        <td id=\"T_7995c238_7e64_11e9_9d13_e0d55e42fdbcrow3_col5\" class=\"data row3 col5\" >1976</td>\n",
       "                        <td id=\"T_7995c238_7e64_11e9_9d13_e0d55e42fdbcrow3_col6\" class=\"data row3 col6\" >en trámite</td>\n",
       "                        <td id=\"T_7995c238_7e64_11e9_9d13_e0d55e42fdbcrow3_col7\" class=\"data row3 col7\" >nan</td>\n",
       "                        <td id=\"T_7995c238_7e64_11e9_9d13_e0d55e42fdbcrow3_col8\" class=\"data row3 col8\" >594</td>\n",
       "                        <td id=\"T_7995c238_7e64_11e9_9d13_e0d55e42fdbcrow3_col9\" class=\"data row3 col9\" >nan</td>\n",
       "                        <td id=\"T_7995c238_7e64_11e9_9d13_e0d55e42fdbcrow3_col10\" class=\"data row3 col10\" >Casa o chalet</td>\n",
       "                        <td id=\"T_7995c238_7e64_11e9_9d13_e0d55e42fdbcrow3_col11\" class=\"data row3 col11\" >527</td>\n",
       "                        <td id=\"T_7995c238_7e64_11e9_9d13_e0d55e42fdbcrow3_col12\" class=\"data row3 col12\" >nan</td>\n",
       "                        <td id=\"T_7995c238_7e64_11e9_9d13_e0d55e42fdbcrow3_col13\" class=\"data row3 col13\" >norte, sur, este, oeste</td>\n",
       "                        <td id=\"T_7995c238_7e64_11e9_9d13_e0d55e42fdbcrow3_col14\" class=\"data row3 col14\" >17</td>\n",
       "                        <td id=\"T_7995c238_7e64_11e9_9d13_e0d55e42fdbcrow3_col15\" class=\"data row3 col15\" >False</td>\n",
       "                        <td id=\"T_7995c238_7e64_11e9_9d13_e0d55e42fdbcrow3_col16\" class=\"data row3 col16\" >False</td>\n",
       "                        <td id=\"T_7995c238_7e64_11e9_9d13_e0d55e42fdbcrow3_col17\" class=\"data row3 col17\" >True</td>\n",
       "                        <td id=\"T_7995c238_7e64_11e9_9d13_e0d55e42fdbcrow3_col18\" class=\"data row3 col18\" >False</td>\n",
       "                        <td id=\"T_7995c238_7e64_11e9_9d13_e0d55e42fdbcrow3_col19\" class=\"data row3 col19\" >nan</td>\n",
       "                        <td id=\"T_7995c238_7e64_11e9_9d13_e0d55e42fdbcrow3_col20\" class=\"data row3 col20\" >False</td>\n",
       "                        <td id=\"T_7995c238_7e64_11e9_9d13_e0d55e42fdbcrow3_col21\" class=\"data row3 col21\" >nan</td>\n",
       "                        <td id=\"T_7995c238_7e64_11e9_9d13_e0d55e42fdbcrow3_col22\" class=\"data row3 col22\" >True</td>\n",
       "                        <td id=\"T_7995c238_7e64_11e9_9d13_e0d55e42fdbcrow3_col23\" class=\"data row3 col23\" >True</td>\n",
       "                        <td id=\"T_7995c238_7e64_11e9_9d13_e0d55e42fdbcrow3_col24\" class=\"data row3 col24\" >False</td>\n",
       "                        <td id=\"T_7995c238_7e64_11e9_9d13_e0d55e42fdbcrow3_col25\" class=\"data row3 col25\" >True</td>\n",
       "                        <td id=\"T_7995c238_7e64_11e9_9d13_e0d55e42fdbcrow3_col26\" class=\"data row3 col26\" >Gran Bilbao (BIZ)</td>\n",
       "                        <td id=\"T_7995c238_7e64_11e9_9d13_e0d55e42fdbcrow3_col27\" class=\"data row3 col27\" >Erandio</td>\n",
       "                        <td id=\"T_7995c238_7e64_11e9_9d13_e0d55e42fdbcrow3_col28\" class=\"data row3 col28\" >24222</td>\n",
       "                        <td id=\"T_7995c238_7e64_11e9_9d13_e0d55e42fdbcrow3_col29\" class=\"data row3 col29\" >18</td>\n",
       "                        <td id=\"T_7995c238_7e64_11e9_9d13_e0d55e42fdbcrow3_col30\" class=\"data row3 col30\" >61</td>\n",
       "                        <td id=\"T_7995c238_7e64_11e9_9d13_e0d55e42fdbcrow3_col31\" class=\"data row3 col31\" >21</td>\n",
       "                        <td id=\"T_7995c238_7e64_11e9_9d13_e0d55e42fdbcrow3_col32\" class=\"data row3 col32\" >9.8</td>\n",
       "                        <td id=\"T_7995c238_7e64_11e9_9d13_e0d55e42fdbcrow3_col33\" class=\"data row3 col33\" >16001</td>\n",
       "                        <td id=\"T_7995c238_7e64_11e9_9d13_e0d55e42fdbcrow3_col34\" class=\"data row3 col34\" >False</td>\n",
       "                        <td id=\"T_7995c238_7e64_11e9_9d13_e0d55e42fdbcrow3_col35\" class=\"data row3 col35\" >3</td>\n",
       "                        <td id=\"T_7995c238_7e64_11e9_9d13_e0d55e42fdbcrow3_col36\" class=\"data row3 col36\" >Erandio</td>\n",
       "            </tr>\n",
       "            <tr>\n",
       "                        <th id=\"T_7995c238_7e64_11e9_9d13_e0d55e42fdbclevel0_row4\" class=\"row_heading level0 row4\" >23801</th>\n",
       "                        <td id=\"T_7995c238_7e64_11e9_9d13_e0d55e42fdbcrow4_col0\" class=\"data row4 col0\" >82470820</td>\n",
       "                        <td id=\"T_7995c238_7e64_11e9_9d13_e0d55e42fdbcrow4_col1\" class=\"data row4 col1\" >Estupendo Agroturismos a la VENTA EN HONDARRIBIA. En la zona de jaizubia pasando por santiagotxo, nos encontramos con una caserio rural de dos plantas, diez dormitorios, once baños, zona para los huéspedes y zona para la familia, con su terreno de 15200 metros, sus vistas impresionantes, una pérgola para descansar, el contacto con la naturaleza.,Es un Agroturismos que tiene una puntuación de un 9.6 en nekatur, actualmente en pleno rendimiento.,Está todo recientemente reformado, cada habitación tiene su baño completo, todo ello con un estilo Rustico muy bien decorado, no le falta detalle.</td>\n",
       "                        <td id=\"T_7995c238_7e64_11e9_9d13_e0d55e42fdbcrow4_col2\" class=\"data row4 col2\" >2350000</td>\n",
       "                        <td id=\"T_7995c238_7e64_11e9_9d13_e0d55e42fdbcrow4_col3\" class=\"data row4 col3\" >11</td>\n",
       "                        <td id=\"T_7995c238_7e64_11e9_9d13_e0d55e42fdbcrow4_col4\" class=\"data row4 col4\" >buen estado</td>\n",
       "                        <td id=\"T_7995c238_7e64_11e9_9d13_e0d55e42fdbcrow4_col5\" class=\"data row4 col5\" >1992</td>\n",
       "                        <td id=\"T_7995c238_7e64_11e9_9d13_e0d55e42fdbcrow4_col6\" class=\"data row4 col6\" >nan</td>\n",
       "                        <td id=\"T_7995c238_7e64_11e9_9d13_e0d55e42fdbcrow4_col7\" class=\"data row4 col7\" >nan</td>\n",
       "                        <td id=\"T_7995c238_7e64_11e9_9d13_e0d55e42fdbcrow4_col8\" class=\"data row4 col8\" >15200</td>\n",
       "                        <td id=\"T_7995c238_7e64_11e9_9d13_e0d55e42fdbcrow4_col9\" class=\"data row4 col9\" >central</td>\n",
       "                        <td id=\"T_7995c238_7e64_11e9_9d13_e0d55e42fdbcrow4_col10\" class=\"data row4 col10\" >Casa rural</td>\n",
       "                        <td id=\"T_7995c238_7e64_11e9_9d13_e0d55e42fdbcrow4_col11\" class=\"data row4 col11\" >700</td>\n",
       "                        <td id=\"T_7995c238_7e64_11e9_9d13_e0d55e42fdbcrow4_col12\" class=\"data row4 col12\" >620</td>\n",
       "                        <td id=\"T_7995c238_7e64_11e9_9d13_e0d55e42fdbcrow4_col13\" class=\"data row4 col13\" >sur</td>\n",
       "                        <td id=\"T_7995c238_7e64_11e9_9d13_e0d55e42fdbcrow4_col14\" class=\"data row4 col14\" >10</td>\n",
       "                        <td id=\"T_7995c238_7e64_11e9_9d13_e0d55e42fdbcrow4_col15\" class=\"data row4 col15\" >False</td>\n",
       "                        <td id=\"T_7995c238_7e64_11e9_9d13_e0d55e42fdbcrow4_col16\" class=\"data row4 col16\" >False</td>\n",
       "                        <td id=\"T_7995c238_7e64_11e9_9d13_e0d55e42fdbcrow4_col17\" class=\"data row4 col17\" >True</td>\n",
       "                        <td id=\"T_7995c238_7e64_11e9_9d13_e0d55e42fdbcrow4_col18\" class=\"data row4 col18\" >True</td>\n",
       "                        <td id=\"T_7995c238_7e64_11e9_9d13_e0d55e42fdbcrow4_col19\" class=\"data row4 col19\" >0</td>\n",
       "                        <td id=\"T_7995c238_7e64_11e9_9d13_e0d55e42fdbcrow4_col20\" class=\"data row4 col20\" >True</td>\n",
       "                        <td id=\"T_7995c238_7e64_11e9_9d13_e0d55e42fdbcrow4_col21\" class=\"data row4 col21\" >nan</td>\n",
       "                        <td id=\"T_7995c238_7e64_11e9_9d13_e0d55e42fdbcrow4_col22\" class=\"data row4 col22\" >False</td>\n",
       "                        <td id=\"T_7995c238_7e64_11e9_9d13_e0d55e42fdbcrow4_col23\" class=\"data row4 col23\" >True</td>\n",
       "                        <td id=\"T_7995c238_7e64_11e9_9d13_e0d55e42fdbcrow4_col24\" class=\"data row4 col24\" >False</td>\n",
       "                        <td id=\"T_7995c238_7e64_11e9_9d13_e0d55e42fdbcrow4_col25\" class=\"data row4 col25\" >True</td>\n",
       "                        <td id=\"T_7995c238_7e64_11e9_9d13_e0d55e42fdbcrow4_col26\" class=\"data row4 col26\" >Bajo Bidasoa (GIP)</td>\n",
       "                        <td id=\"T_7995c238_7e64_11e9_9d13_e0d55e42fdbcrow4_col27\" class=\"data row4 col27\" >Irun</td>\n",
       "                        <td id=\"T_7995c238_7e64_11e9_9d13_e0d55e42fdbcrow4_col28\" class=\"data row4 col28\" >61983</td>\n",
       "                        <td id=\"T_7995c238_7e64_11e9_9d13_e0d55e42fdbcrow4_col29\" class=\"data row4 col29\" >19</td>\n",
       "                        <td id=\"T_7995c238_7e64_11e9_9d13_e0d55e42fdbcrow4_col30\" class=\"data row4 col30\" >60</td>\n",
       "                        <td id=\"T_7995c238_7e64_11e9_9d13_e0d55e42fdbcrow4_col31\" class=\"data row4 col31\" >21</td>\n",
       "                        <td id=\"T_7995c238_7e64_11e9_9d13_e0d55e42fdbcrow4_col32\" class=\"data row4 col32\" >13</td>\n",
       "                        <td id=\"T_7995c238_7e64_11e9_9d13_e0d55e42fdbcrow4_col33\" class=\"data row4 col33\" >17671</td>\n",
       "                        <td id=\"T_7995c238_7e64_11e9_9d13_e0d55e42fdbcrow4_col34\" class=\"data row4 col34\" >False</td>\n",
       "                        <td id=\"T_7995c238_7e64_11e9_9d13_e0d55e42fdbcrow4_col35\" class=\"data row4 col35\" >2</td>\n",
       "                        <td id=\"T_7995c238_7e64_11e9_9d13_e0d55e42fdbcrow4_col36\" class=\"data row4 col36\" >Jaizubia - Urdanibia - Puiana (Irun)</td>\n",
       "            </tr>\n",
       "    </tbody></table>"
      ],
      "text/plain": [
       "<pandas.io.formats.style.Styler at 0x13d37f0b6d8>"
      ]
     },
     "execution_count": 71,
     "metadata": {},
     "output_type": "execute_result"
    }
   ],
   "source": [
    "(df\n",
    " .query('bath_num > 10')\n",
    " .sort_values('bath_num', ascending=False)\n",
    " .style.set_properties(subset=['ad_description'], **{'min-width': '1600px'})\n",
    ")"
   ]
  },
  {
   "cell_type": "markdown",
   "metadata": {},
   "source": [
    "Vemos que se tratan de hoteles, por lo que optamos por descartarlos del conjunto de datos por no ajustarse a nuestro objeto de estudio:"
   ]
  },
  {
   "cell_type": "code",
   "execution_count": 72,
   "metadata": {
    "ExecuteTime": {
     "end_time": "2019-05-22T14:51:24.803502Z",
     "start_time": "2019-05-22T14:51:24.785484Z"
    }
   },
   "outputs": [
    {
     "name": "stdout",
     "output_type": "stream",
     "text": [
      "Se han eliminado 5 viviendas\n"
     ]
    }
   ],
   "source": [
    "del_count = len(df[df.bath_num > 10])\n",
    "df = df[df.bath_num < 11]\n",
    "print(f\"Se han eliminado {del_count} viviendas\")"
   ]
  },
  {
   "cell_type": "markdown",
   "metadata": {},
   "source": [
    "Por último, vemos que hay bastantes viviendas sin baños. Exploramos para entender a que se debe:"
   ]
  },
  {
   "cell_type": "code",
   "execution_count": 73,
   "metadata": {
    "ExecuteTime": {
     "end_time": "2019-05-22T14:51:24.840487Z",
     "start_time": "2019-05-22T14:51:24.804486Z"
    }
   },
   "outputs": [
    {
     "data": {
      "text/html": [
       "<style  type=\"text/css\" >\n",
       "    #T_799b8aa4_7e64_11e9_b9e1_e0d55e42fdbcrow0_col1 {\n",
       "            min-width:  1600px;\n",
       "        }    #T_799b8aa4_7e64_11e9_b9e1_e0d55e42fdbcrow1_col1 {\n",
       "            min-width:  1600px;\n",
       "        }    #T_799b8aa4_7e64_11e9_b9e1_e0d55e42fdbcrow2_col1 {\n",
       "            min-width:  1600px;\n",
       "        }    #T_799b8aa4_7e64_11e9_b9e1_e0d55e42fdbcrow3_col1 {\n",
       "            min-width:  1600px;\n",
       "        }    #T_799b8aa4_7e64_11e9_b9e1_e0d55e42fdbcrow4_col1 {\n",
       "            min-width:  1600px;\n",
       "        }</style><table id=\"T_799b8aa4_7e64_11e9_b9e1_e0d55e42fdbc\" ><thead>    <tr>        <th class=\"blank level0\" ></th>        <th class=\"col_heading level0 col0\" >house_id</th>        <th class=\"col_heading level0 col1\" >ad_description</th>        <th class=\"col_heading level0 col2\" >price</th>        <th class=\"col_heading level0 col3\" >bath_num</th>        <th class=\"col_heading level0 col4\" >condition</th>        <th class=\"col_heading level0 col5\" >construct_date</th>        <th class=\"col_heading level0 col6\" >energetic_certif</th>        <th class=\"col_heading level0 col7\" >floor</th>        <th class=\"col_heading level0 col8\" >ground_size</th>        <th class=\"col_heading level0 col9\" >heating</th>        <th class=\"col_heading level0 col10\" >house_type</th>        <th class=\"col_heading level0 col11\" >m2_real</th>        <th class=\"col_heading level0 col12\" >m2_useful</th>        <th class=\"col_heading level0 col13\" >orientation</th>        <th class=\"col_heading level0 col14\" >room_num</th>        <th class=\"col_heading level0 col15\" >air_conditioner</th>        <th class=\"col_heading level0 col16\" >balcony</th>        <th class=\"col_heading level0 col17\" >built_in_wardrobe</th>        <th class=\"col_heading level0 col18\" >chimney</th>        <th class=\"col_heading level0 col19\" >garage</th>        <th class=\"col_heading level0 col20\" >garden</th>        <th class=\"col_heading level0 col21\" >lift</th>        <th class=\"col_heading level0 col22\" >reduced_mobility</th>        <th class=\"col_heading level0 col23\" >storage_room</th>        <th class=\"col_heading level0 col24\" >swimming_pool</th>        <th class=\"col_heading level0 col25\" >terrace</th>        <th class=\"col_heading level0 col26\" >loc_zone</th>        <th class=\"col_heading level0 col27\" >loc_city</th>        <th class=\"col_heading level0 col28\" >pop_total</th>        <th class=\"col_heading level0 col29\" >pop_0-19</th>        <th class=\"col_heading level0 col30\" >pop_20-64</th>        <th class=\"col_heading level0 col31\" >pop_>=65</th>        <th class=\"col_heading level0 col32\" >pop_foreign</th>        <th class=\"col_heading level0 col33\" >rent</th>        <th class=\"col_heading level0 col34\" >indoor</th>        <th class=\"col_heading level0 col35\" >floor_count</th>        <th class=\"col_heading level0 col36\" >location</th>    </tr></thead><tbody>\n",
       "                <tr>\n",
       "                        <th id=\"T_799b8aa4_7e64_11e9_b9e1_e0d55e42fdbclevel0_row0\" class=\"row_heading level0 row0\" >4</th>\n",
       "                        <td id=\"T_799b8aa4_7e64_11e9_b9e1_e0d55e42fdbcrow0_col0\" class=\"data row0 col0\" >81969902</td>\n",
       "                        <td id=\"T_799b8aa4_7e64_11e9_b9e1_e0d55e42fdbcrow0_col1\" class=\"data row0 col1\" >Manzaneda de Biañez. Casa rural para reformar totalmente. 3 plantas de 133 m2 cada una de ellas. Medidas aproximadas exteriores 16x8m.</td>\n",
       "                        <td id=\"T_799b8aa4_7e64_11e9_b9e1_e0d55e42fdbcrow0_col2\" class=\"data row0 col2\" >60000</td>\n",
       "                        <td id=\"T_799b8aa4_7e64_11e9_b9e1_e0d55e42fdbcrow0_col3\" class=\"data row0 col3\" >0</td>\n",
       "                        <td id=\"T_799b8aa4_7e64_11e9_b9e1_e0d55e42fdbcrow0_col4\" class=\"data row0 col4\" >para reformar</td>\n",
       "                        <td id=\"T_799b8aa4_7e64_11e9_b9e1_e0d55e42fdbcrow0_col5\" class=\"data row0 col5\" >nan</td>\n",
       "                        <td id=\"T_799b8aa4_7e64_11e9_b9e1_e0d55e42fdbcrow0_col6\" class=\"data row0 col6\" >no indicado</td>\n",
       "                        <td id=\"T_799b8aa4_7e64_11e9_b9e1_e0d55e42fdbcrow0_col7\" class=\"data row0 col7\" >nan</td>\n",
       "                        <td id=\"T_799b8aa4_7e64_11e9_b9e1_e0d55e42fdbcrow0_col8\" class=\"data row0 col8\" >nan</td>\n",
       "                        <td id=\"T_799b8aa4_7e64_11e9_b9e1_e0d55e42fdbcrow0_col9\" class=\"data row0 col9\" >nan</td>\n",
       "                        <td id=\"T_799b8aa4_7e64_11e9_b9e1_e0d55e42fdbcrow0_col10\" class=\"data row0 col10\" >Casa o chalet</td>\n",
       "                        <td id=\"T_799b8aa4_7e64_11e9_b9e1_e0d55e42fdbcrow0_col11\" class=\"data row0 col11\" >400</td>\n",
       "                        <td id=\"T_799b8aa4_7e64_11e9_b9e1_e0d55e42fdbcrow0_col12\" class=\"data row0 col12\" >nan</td>\n",
       "                        <td id=\"T_799b8aa4_7e64_11e9_b9e1_e0d55e42fdbcrow0_col13\" class=\"data row0 col13\" >nan</td>\n",
       "                        <td id=\"T_799b8aa4_7e64_11e9_b9e1_e0d55e42fdbcrow0_col14\" class=\"data row0 col14\" >0</td>\n",
       "                        <td id=\"T_799b8aa4_7e64_11e9_b9e1_e0d55e42fdbcrow0_col15\" class=\"data row0 col15\" >False</td>\n",
       "                        <td id=\"T_799b8aa4_7e64_11e9_b9e1_e0d55e42fdbcrow0_col16\" class=\"data row0 col16\" >False</td>\n",
       "                        <td id=\"T_799b8aa4_7e64_11e9_b9e1_e0d55e42fdbcrow0_col17\" class=\"data row0 col17\" >False</td>\n",
       "                        <td id=\"T_799b8aa4_7e64_11e9_b9e1_e0d55e42fdbcrow0_col18\" class=\"data row0 col18\" >False</td>\n",
       "                        <td id=\"T_799b8aa4_7e64_11e9_b9e1_e0d55e42fdbcrow0_col19\" class=\"data row0 col19\" >nan</td>\n",
       "                        <td id=\"T_799b8aa4_7e64_11e9_b9e1_e0d55e42fdbcrow0_col20\" class=\"data row0 col20\" >False</td>\n",
       "                        <td id=\"T_799b8aa4_7e64_11e9_b9e1_e0d55e42fdbcrow0_col21\" class=\"data row0 col21\" >nan</td>\n",
       "                        <td id=\"T_799b8aa4_7e64_11e9_b9e1_e0d55e42fdbcrow0_col22\" class=\"data row0 col22\" >False</td>\n",
       "                        <td id=\"T_799b8aa4_7e64_11e9_b9e1_e0d55e42fdbcrow0_col23\" class=\"data row0 col23\" >False</td>\n",
       "                        <td id=\"T_799b8aa4_7e64_11e9_b9e1_e0d55e42fdbcrow0_col24\" class=\"data row0 col24\" >False</td>\n",
       "                        <td id=\"T_799b8aa4_7e64_11e9_b9e1_e0d55e42fdbcrow0_col25\" class=\"data row0 col25\" >False</td>\n",
       "                        <td id=\"T_799b8aa4_7e64_11e9_b9e1_e0d55e42fdbcrow0_col26\" class=\"data row0 col26\" >Encartaciones (BIZ)</td>\n",
       "                        <td id=\"T_799b8aa4_7e64_11e9_b9e1_e0d55e42fdbcrow0_col27\" class=\"data row0 col27\" >Karrantza Harana/Valle de Carranza</td>\n",
       "                        <td id=\"T_799b8aa4_7e64_11e9_b9e1_e0d55e42fdbcrow0_col28\" class=\"data row0 col28\" >2715</td>\n",
       "                        <td id=\"T_799b8aa4_7e64_11e9_b9e1_e0d55e42fdbcrow0_col29\" class=\"data row0 col29\" >14</td>\n",
       "                        <td id=\"T_799b8aa4_7e64_11e9_b9e1_e0d55e42fdbcrow0_col30\" class=\"data row0 col30\" >59</td>\n",
       "                        <td id=\"T_799b8aa4_7e64_11e9_b9e1_e0d55e42fdbcrow0_col31\" class=\"data row0 col31\" >28</td>\n",
       "                        <td id=\"T_799b8aa4_7e64_11e9_b9e1_e0d55e42fdbcrow0_col32\" class=\"data row0 col32\" >4.6</td>\n",
       "                        <td id=\"T_799b8aa4_7e64_11e9_b9e1_e0d55e42fdbcrow0_col33\" class=\"data row0 col33\" >13431</td>\n",
       "                        <td id=\"T_799b8aa4_7e64_11e9_b9e1_e0d55e42fdbcrow0_col34\" class=\"data row0 col34\" >False</td>\n",
       "                        <td id=\"T_799b8aa4_7e64_11e9_b9e1_e0d55e42fdbcrow0_col35\" class=\"data row0 col35\" >3</td>\n",
       "                        <td id=\"T_799b8aa4_7e64_11e9_b9e1_e0d55e42fdbcrow0_col36\" class=\"data row0 col36\" >Karrantza Harana/Valle de Carranza</td>\n",
       "            </tr>\n",
       "            <tr>\n",
       "                        <th id=\"T_799b8aa4_7e64_11e9_b9e1_e0d55e42fdbclevel0_row1\" class=\"row_heading level0 row1\" >12344</th>\n",
       "                        <td id=\"T_799b8aa4_7e64_11e9_b9e1_e0d55e42fdbcrow1_col0\" class=\"data row1 col0\" >85194152</td>\n",
       "                        <td id=\"T_799b8aa4_7e64_11e9_b9e1_e0d55e42fdbcrow1_col1\" class=\"data row1 col1\" >2 plantas. 99m2 por planta.,14.200m2 de terreno.,Buen acceso.,A reformar.</td>\n",
       "                        <td id=\"T_799b8aa4_7e64_11e9_b9e1_e0d55e42fdbcrow1_col2\" class=\"data row1 col2\" >99000</td>\n",
       "                        <td id=\"T_799b8aa4_7e64_11e9_b9e1_e0d55e42fdbcrow1_col3\" class=\"data row1 col3\" >0</td>\n",
       "                        <td id=\"T_799b8aa4_7e64_11e9_b9e1_e0d55e42fdbcrow1_col4\" class=\"data row1 col4\" >para reformar</td>\n",
       "                        <td id=\"T_799b8aa4_7e64_11e9_b9e1_e0d55e42fdbcrow1_col5\" class=\"data row1 col5\" >nan</td>\n",
       "                        <td id=\"T_799b8aa4_7e64_11e9_b9e1_e0d55e42fdbcrow1_col6\" class=\"data row1 col6\" >en trámite</td>\n",
       "                        <td id=\"T_799b8aa4_7e64_11e9_b9e1_e0d55e42fdbcrow1_col7\" class=\"data row1 col7\" >nan</td>\n",
       "                        <td id=\"T_799b8aa4_7e64_11e9_b9e1_e0d55e42fdbcrow1_col8\" class=\"data row1 col8\" >14245</td>\n",
       "                        <td id=\"T_799b8aa4_7e64_11e9_b9e1_e0d55e42fdbcrow1_col9\" class=\"data row1 col9\" >no dispone de calefacción</td>\n",
       "                        <td id=\"T_799b8aa4_7e64_11e9_b9e1_e0d55e42fdbcrow1_col10\" class=\"data row1 col10\" >Finca rústica</td>\n",
       "                        <td id=\"T_799b8aa4_7e64_11e9_b9e1_e0d55e42fdbcrow1_col11\" class=\"data row1 col11\" >198</td>\n",
       "                        <td id=\"T_799b8aa4_7e64_11e9_b9e1_e0d55e42fdbcrow1_col12\" class=\"data row1 col12\" >nan</td>\n",
       "                        <td id=\"T_799b8aa4_7e64_11e9_b9e1_e0d55e42fdbcrow1_col13\" class=\"data row1 col13\" >nan</td>\n",
       "                        <td id=\"T_799b8aa4_7e64_11e9_b9e1_e0d55e42fdbcrow1_col14\" class=\"data row1 col14\" >1</td>\n",
       "                        <td id=\"T_799b8aa4_7e64_11e9_b9e1_e0d55e42fdbcrow1_col15\" class=\"data row1 col15\" >False</td>\n",
       "                        <td id=\"T_799b8aa4_7e64_11e9_b9e1_e0d55e42fdbcrow1_col16\" class=\"data row1 col16\" >False</td>\n",
       "                        <td id=\"T_799b8aa4_7e64_11e9_b9e1_e0d55e42fdbcrow1_col17\" class=\"data row1 col17\" >False</td>\n",
       "                        <td id=\"T_799b8aa4_7e64_11e9_b9e1_e0d55e42fdbcrow1_col18\" class=\"data row1 col18\" >False</td>\n",
       "                        <td id=\"T_799b8aa4_7e64_11e9_b9e1_e0d55e42fdbcrow1_col19\" class=\"data row1 col19\" >nan</td>\n",
       "                        <td id=\"T_799b8aa4_7e64_11e9_b9e1_e0d55e42fdbcrow1_col20\" class=\"data row1 col20\" >False</td>\n",
       "                        <td id=\"T_799b8aa4_7e64_11e9_b9e1_e0d55e42fdbcrow1_col21\" class=\"data row1 col21\" >nan</td>\n",
       "                        <td id=\"T_799b8aa4_7e64_11e9_b9e1_e0d55e42fdbcrow1_col22\" class=\"data row1 col22\" >False</td>\n",
       "                        <td id=\"T_799b8aa4_7e64_11e9_b9e1_e0d55e42fdbcrow1_col23\" class=\"data row1 col23\" >False</td>\n",
       "                        <td id=\"T_799b8aa4_7e64_11e9_b9e1_e0d55e42fdbcrow1_col24\" class=\"data row1 col24\" >False</td>\n",
       "                        <td id=\"T_799b8aa4_7e64_11e9_b9e1_e0d55e42fdbcrow1_col25\" class=\"data row1 col25\" >False</td>\n",
       "                        <td id=\"T_799b8aa4_7e64_11e9_b9e1_e0d55e42fdbcrow1_col26\" class=\"data row1 col26\" >Arratia-Nervión (BIZ)</td>\n",
       "                        <td id=\"T_799b8aa4_7e64_11e9_b9e1_e0d55e42fdbcrow1_col27\" class=\"data row1 col27\" >Lemoa</td>\n",
       "                        <td id=\"T_799b8aa4_7e64_11e9_b9e1_e0d55e42fdbcrow1_col28\" class=\"data row1 col28\" >3521</td>\n",
       "                        <td id=\"T_799b8aa4_7e64_11e9_b9e1_e0d55e42fdbcrow1_col29\" class=\"data row1 col29\" >20</td>\n",
       "                        <td id=\"T_799b8aa4_7e64_11e9_b9e1_e0d55e42fdbcrow1_col30\" class=\"data row1 col30\" >63</td>\n",
       "                        <td id=\"T_799b8aa4_7e64_11e9_b9e1_e0d55e42fdbcrow1_col31\" class=\"data row1 col31\" >17</td>\n",
       "                        <td id=\"T_799b8aa4_7e64_11e9_b9e1_e0d55e42fdbcrow1_col32\" class=\"data row1 col32\" >8.7</td>\n",
       "                        <td id=\"T_799b8aa4_7e64_11e9_b9e1_e0d55e42fdbcrow1_col33\" class=\"data row1 col33\" >19045</td>\n",
       "                        <td id=\"T_799b8aa4_7e64_11e9_b9e1_e0d55e42fdbcrow1_col34\" class=\"data row1 col34\" >nan</td>\n",
       "                        <td id=\"T_799b8aa4_7e64_11e9_b9e1_e0d55e42fdbcrow1_col35\" class=\"data row1 col35\" >nan</td>\n",
       "                        <td id=\"T_799b8aa4_7e64_11e9_b9e1_e0d55e42fdbcrow1_col36\" class=\"data row1 col36\" >Lemoa</td>\n",
       "            </tr>\n",
       "            <tr>\n",
       "                        <th id=\"T_799b8aa4_7e64_11e9_b9e1_e0d55e42fdbclevel0_row2\" class=\"row_heading level0 row2\" >15393</th>\n",
       "                        <td id=\"T_799b8aa4_7e64_11e9_b9e1_e0d55e42fdbcrow2_col0\" class=\"data row2 col0\" >84633342</td>\n",
       "                        <td id=\"T_799b8aa4_7e64_11e9_b9e1_e0d55e42fdbcrow2_col1\" class=\"data row2 col1\" >Caserío bifamiliar ubicado en un entorno privilegiado, a 2 minutos del centro de Mungia en coche o andando por el bidegorri.,Con una superficie de 450 metros y situado en una parcela de 7.200 totalmente cerrados con muro de hormigón, vigas y malla.,A rehabilitar completamente! Buenos accesos y entorno.,CEE/CAPV/2017/00100XXX E,Si desea recibir más información o concertar una visita para este inmueble, por favor contacte con nosotros. ¡Estaremos encantados de atenderle!,Le recordamos también que puede encontrar este y muchos más inmuebles en nuestra página web!,Bi bizitzako baserria Mungiatik bi minutura, kotxez zein bidegorritik oinez joateko aukera.,Etxebizitzak 450 metro dauzka eta 7.200 metroko lursail itxia, hormigoizko horma bitartez. Guztiz birgaitu beharra dago.,CEE/CAPV/2017/00100XXX E,Informazio gehiago nahi baduzu edo etxea bisitatu nahi izanez gero, dei iezaguzu mesedez.,Erantzuteko irrikitan egongo gara! Higiezin hau eta beste asko aurki ditzakezu gure web-orrian!</td>\n",
       "                        <td id=\"T_799b8aa4_7e64_11e9_b9e1_e0d55e42fdbcrow2_col2\" class=\"data row2 col2\" >450000</td>\n",
       "                        <td id=\"T_799b8aa4_7e64_11e9_b9e1_e0d55e42fdbcrow2_col3\" class=\"data row2 col3\" >0</td>\n",
       "                        <td id=\"T_799b8aa4_7e64_11e9_b9e1_e0d55e42fdbcrow2_col4\" class=\"data row2 col4\" >para reformar</td>\n",
       "                        <td id=\"T_799b8aa4_7e64_11e9_b9e1_e0d55e42fdbcrow2_col5\" class=\"data row2 col5\" >nan</td>\n",
       "                        <td id=\"T_799b8aa4_7e64_11e9_b9e1_e0d55e42fdbcrow2_col6\" class=\"data row2 col6\" >nan</td>\n",
       "                        <td id=\"T_799b8aa4_7e64_11e9_b9e1_e0d55e42fdbcrow2_col7\" class=\"data row2 col7\" >nan</td>\n",
       "                        <td id=\"T_799b8aa4_7e64_11e9_b9e1_e0d55e42fdbcrow2_col8\" class=\"data row2 col8\" >7200</td>\n",
       "                        <td id=\"T_799b8aa4_7e64_11e9_b9e1_e0d55e42fdbcrow2_col9\" class=\"data row2 col9\" >nan</td>\n",
       "                        <td id=\"T_799b8aa4_7e64_11e9_b9e1_e0d55e42fdbcrow2_col10\" class=\"data row2 col10\" >Chalet adosado</td>\n",
       "                        <td id=\"T_799b8aa4_7e64_11e9_b9e1_e0d55e42fdbcrow2_col11\" class=\"data row2 col11\" >460</td>\n",
       "                        <td id=\"T_799b8aa4_7e64_11e9_b9e1_e0d55e42fdbcrow2_col12\" class=\"data row2 col12\" >453</td>\n",
       "                        <td id=\"T_799b8aa4_7e64_11e9_b9e1_e0d55e42fdbcrow2_col13\" class=\"data row2 col13\" >norte, sur, este, oeste</td>\n",
       "                        <td id=\"T_799b8aa4_7e64_11e9_b9e1_e0d55e42fdbcrow2_col14\" class=\"data row2 col14\" >0</td>\n",
       "                        <td id=\"T_799b8aa4_7e64_11e9_b9e1_e0d55e42fdbcrow2_col15\" class=\"data row2 col15\" >False</td>\n",
       "                        <td id=\"T_799b8aa4_7e64_11e9_b9e1_e0d55e42fdbcrow2_col16\" class=\"data row2 col16\" >True</td>\n",
       "                        <td id=\"T_799b8aa4_7e64_11e9_b9e1_e0d55e42fdbcrow2_col17\" class=\"data row2 col17\" >False</td>\n",
       "                        <td id=\"T_799b8aa4_7e64_11e9_b9e1_e0d55e42fdbcrow2_col18\" class=\"data row2 col18\" >False</td>\n",
       "                        <td id=\"T_799b8aa4_7e64_11e9_b9e1_e0d55e42fdbcrow2_col19\" class=\"data row2 col19\" >0</td>\n",
       "                        <td id=\"T_799b8aa4_7e64_11e9_b9e1_e0d55e42fdbcrow2_col20\" class=\"data row2 col20\" >True</td>\n",
       "                        <td id=\"T_799b8aa4_7e64_11e9_b9e1_e0d55e42fdbcrow2_col21\" class=\"data row2 col21\" >nan</td>\n",
       "                        <td id=\"T_799b8aa4_7e64_11e9_b9e1_e0d55e42fdbcrow2_col22\" class=\"data row2 col22\" >False</td>\n",
       "                        <td id=\"T_799b8aa4_7e64_11e9_b9e1_e0d55e42fdbcrow2_col23\" class=\"data row2 col23\" >True</td>\n",
       "                        <td id=\"T_799b8aa4_7e64_11e9_b9e1_e0d55e42fdbcrow2_col24\" class=\"data row2 col24\" >False</td>\n",
       "                        <td id=\"T_799b8aa4_7e64_11e9_b9e1_e0d55e42fdbcrow2_col25\" class=\"data row2 col25\" >False</td>\n",
       "                        <td id=\"T_799b8aa4_7e64_11e9_b9e1_e0d55e42fdbcrow2_col26\" class=\"data row2 col26\" >Uribe-Butroe (BIZ)</td>\n",
       "                        <td id=\"T_799b8aa4_7e64_11e9_b9e1_e0d55e42fdbcrow2_col27\" class=\"data row2 col27\" >Mungia</td>\n",
       "                        <td id=\"T_799b8aa4_7e64_11e9_b9e1_e0d55e42fdbcrow2_col28\" class=\"data row2 col28\" >17554</td>\n",
       "                        <td id=\"T_799b8aa4_7e64_11e9_b9e1_e0d55e42fdbcrow2_col29\" class=\"data row2 col29\" >22</td>\n",
       "                        <td id=\"T_799b8aa4_7e64_11e9_b9e1_e0d55e42fdbcrow2_col30\" class=\"data row2 col30\" >62</td>\n",
       "                        <td id=\"T_799b8aa4_7e64_11e9_b9e1_e0d55e42fdbcrow2_col31\" class=\"data row2 col31\" >16</td>\n",
       "                        <td id=\"T_799b8aa4_7e64_11e9_b9e1_e0d55e42fdbcrow2_col32\" class=\"data row2 col32\" >10.9</td>\n",
       "                        <td id=\"T_799b8aa4_7e64_11e9_b9e1_e0d55e42fdbcrow2_col33\" class=\"data row2 col33\" >22739</td>\n",
       "                        <td id=\"T_799b8aa4_7e64_11e9_b9e1_e0d55e42fdbcrow2_col34\" class=\"data row2 col34\" >False</td>\n",
       "                        <td id=\"T_799b8aa4_7e64_11e9_b9e1_e0d55e42fdbcrow2_col35\" class=\"data row2 col35\" >2</td>\n",
       "                        <td id=\"T_799b8aa4_7e64_11e9_b9e1_e0d55e42fdbcrow2_col36\" class=\"data row2 col36\" >Mungia</td>\n",
       "            </tr>\n",
       "            <tr>\n",
       "                        <th id=\"T_799b8aa4_7e64_11e9_b9e1_e0d55e42fdbclevel0_row3\" class=\"row_heading level0 row3\" >15195</th>\n",
       "                        <td id=\"T_799b8aa4_7e64_11e9_b9e1_e0d55e42fdbcrow3_col0\" class=\"data row3 col0\" >83930425</td>\n",
       "                        <td id=\"T_799b8aa4_7e64_11e9_b9e1_e0d55e42fdbcrow3_col1\" class=\"data row3 col1\" >Caserio a reformar en zona Mendiondo, zona tranquila, a diez minutos metro Urduliz-Larrabasterra., , Se trata de la mitad de un caserío bifamiliar., , Tiene 150 m2 cada planta, más la zona bajo tejado con muy buen aprovechamiento., ,Le corresponden 400 m2 de terreno en dos zonas, delantera y trasera de la vivienda y el uso compartido de un horno antiguo.</td>\n",
       "                        <td id=\"T_799b8aa4_7e64_11e9_b9e1_e0d55e42fdbcrow3_col2\" class=\"data row3 col2\" >350000</td>\n",
       "                        <td id=\"T_799b8aa4_7e64_11e9_b9e1_e0d55e42fdbcrow3_col3\" class=\"data row3 col3\" >0</td>\n",
       "                        <td id=\"T_799b8aa4_7e64_11e9_b9e1_e0d55e42fdbcrow3_col4\" class=\"data row3 col4\" >para reformar</td>\n",
       "                        <td id=\"T_799b8aa4_7e64_11e9_b9e1_e0d55e42fdbcrow3_col5\" class=\"data row3 col5\" >nan</td>\n",
       "                        <td id=\"T_799b8aa4_7e64_11e9_b9e1_e0d55e42fdbcrow3_col6\" class=\"data row3 col6\" >en trámite</td>\n",
       "                        <td id=\"T_799b8aa4_7e64_11e9_b9e1_e0d55e42fdbcrow3_col7\" class=\"data row3 col7\" >nan</td>\n",
       "                        <td id=\"T_799b8aa4_7e64_11e9_b9e1_e0d55e42fdbcrow3_col8\" class=\"data row3 col8\" >nan</td>\n",
       "                        <td id=\"T_799b8aa4_7e64_11e9_b9e1_e0d55e42fdbcrow3_col9\" class=\"data row3 col9\" >nan</td>\n",
       "                        <td id=\"T_799b8aa4_7e64_11e9_b9e1_e0d55e42fdbcrow3_col10\" class=\"data row3 col10\" >Casa rural</td>\n",
       "                        <td id=\"T_799b8aa4_7e64_11e9_b9e1_e0d55e42fdbcrow3_col11\" class=\"data row3 col11\" >314</td>\n",
       "                        <td id=\"T_799b8aa4_7e64_11e9_b9e1_e0d55e42fdbcrow3_col12\" class=\"data row3 col12\" >270</td>\n",
       "                        <td id=\"T_799b8aa4_7e64_11e9_b9e1_e0d55e42fdbcrow3_col13\" class=\"data row3 col13\" >nan</td>\n",
       "                        <td id=\"T_799b8aa4_7e64_11e9_b9e1_e0d55e42fdbcrow3_col14\" class=\"data row3 col14\" >0</td>\n",
       "                        <td id=\"T_799b8aa4_7e64_11e9_b9e1_e0d55e42fdbcrow3_col15\" class=\"data row3 col15\" >False</td>\n",
       "                        <td id=\"T_799b8aa4_7e64_11e9_b9e1_e0d55e42fdbcrow3_col16\" class=\"data row3 col16\" >False</td>\n",
       "                        <td id=\"T_799b8aa4_7e64_11e9_b9e1_e0d55e42fdbcrow3_col17\" class=\"data row3 col17\" >False</td>\n",
       "                        <td id=\"T_799b8aa4_7e64_11e9_b9e1_e0d55e42fdbcrow3_col18\" class=\"data row3 col18\" >False</td>\n",
       "                        <td id=\"T_799b8aa4_7e64_11e9_b9e1_e0d55e42fdbcrow3_col19\" class=\"data row3 col19\" >0</td>\n",
       "                        <td id=\"T_799b8aa4_7e64_11e9_b9e1_e0d55e42fdbcrow3_col20\" class=\"data row3 col20\" >False</td>\n",
       "                        <td id=\"T_799b8aa4_7e64_11e9_b9e1_e0d55e42fdbcrow3_col21\" class=\"data row3 col21\" >nan</td>\n",
       "                        <td id=\"T_799b8aa4_7e64_11e9_b9e1_e0d55e42fdbcrow3_col22\" class=\"data row3 col22\" >False</td>\n",
       "                        <td id=\"T_799b8aa4_7e64_11e9_b9e1_e0d55e42fdbcrow3_col23\" class=\"data row3 col23\" >False</td>\n",
       "                        <td id=\"T_799b8aa4_7e64_11e9_b9e1_e0d55e42fdbcrow3_col24\" class=\"data row3 col24\" >False</td>\n",
       "                        <td id=\"T_799b8aa4_7e64_11e9_b9e1_e0d55e42fdbcrow3_col25\" class=\"data row3 col25\" >True</td>\n",
       "                        <td id=\"T_799b8aa4_7e64_11e9_b9e1_e0d55e42fdbcrow3_col26\" class=\"data row3 col26\" >Uribe-Butroe (BIZ)</td>\n",
       "                        <td id=\"T_799b8aa4_7e64_11e9_b9e1_e0d55e42fdbcrow3_col27\" class=\"data row3 col27\" >Urduliz</td>\n",
       "                        <td id=\"T_799b8aa4_7e64_11e9_b9e1_e0d55e42fdbcrow3_col28\" class=\"data row3 col28\" >4319</td>\n",
       "                        <td id=\"T_799b8aa4_7e64_11e9_b9e1_e0d55e42fdbcrow3_col29\" class=\"data row3 col29\" >21</td>\n",
       "                        <td id=\"T_799b8aa4_7e64_11e9_b9e1_e0d55e42fdbcrow3_col30\" class=\"data row3 col30\" >63</td>\n",
       "                        <td id=\"T_799b8aa4_7e64_11e9_b9e1_e0d55e42fdbcrow3_col31\" class=\"data row3 col31\" >16</td>\n",
       "                        <td id=\"T_799b8aa4_7e64_11e9_b9e1_e0d55e42fdbcrow3_col32\" class=\"data row3 col32\" >5.8</td>\n",
       "                        <td id=\"T_799b8aa4_7e64_11e9_b9e1_e0d55e42fdbcrow3_col33\" class=\"data row3 col33\" >21310</td>\n",
       "                        <td id=\"T_799b8aa4_7e64_11e9_b9e1_e0d55e42fdbcrow3_col34\" class=\"data row3 col34\" >nan</td>\n",
       "                        <td id=\"T_799b8aa4_7e64_11e9_b9e1_e0d55e42fdbcrow3_col35\" class=\"data row3 col35\" >nan</td>\n",
       "                        <td id=\"T_799b8aa4_7e64_11e9_b9e1_e0d55e42fdbcrow3_col36\" class=\"data row3 col36\" >Urduliz</td>\n",
       "            </tr>\n",
       "            <tr>\n",
       "                        <th id=\"T_799b8aa4_7e64_11e9_b9e1_e0d55e42fdbclevel0_row4\" class=\"row_heading level0 row4\" >15147</th>\n",
       "                        <td id=\"T_799b8aa4_7e64_11e9_b9e1_e0d55e42fdbcrow4_col0\" class=\"data row4 col0\" >38856315</td>\n",
       "                        <td id=\"T_799b8aa4_7e64_11e9_b9e1_e0d55e42fdbcrow4_col1\" class=\"data row4 col1\" >Casa unifamiliar para reformar con 2.800 m2 de terreno.</td>\n",
       "                        <td id=\"T_799b8aa4_7e64_11e9_b9e1_e0d55e42fdbcrow4_col2\" class=\"data row4 col2\" >661113</td>\n",
       "                        <td id=\"T_799b8aa4_7e64_11e9_b9e1_e0d55e42fdbcrow4_col3\" class=\"data row4 col3\" >0</td>\n",
       "                        <td id=\"T_799b8aa4_7e64_11e9_b9e1_e0d55e42fdbcrow4_col4\" class=\"data row4 col4\" >para reformar</td>\n",
       "                        <td id=\"T_799b8aa4_7e64_11e9_b9e1_e0d55e42fdbcrow4_col5\" class=\"data row4 col5\" >nan</td>\n",
       "                        <td id=\"T_799b8aa4_7e64_11e9_b9e1_e0d55e42fdbcrow4_col6\" class=\"data row4 col6\" >en trámite</td>\n",
       "                        <td id=\"T_799b8aa4_7e64_11e9_b9e1_e0d55e42fdbcrow4_col7\" class=\"data row4 col7\" >nan</td>\n",
       "                        <td id=\"T_799b8aa4_7e64_11e9_b9e1_e0d55e42fdbcrow4_col8\" class=\"data row4 col8\" >nan</td>\n",
       "                        <td id=\"T_799b8aa4_7e64_11e9_b9e1_e0d55e42fdbcrow4_col9\" class=\"data row4 col9\" >nan</td>\n",
       "                        <td id=\"T_799b8aa4_7e64_11e9_b9e1_e0d55e42fdbcrow4_col10\" class=\"data row4 col10\" >Casa o chalet</td>\n",
       "                        <td id=\"T_799b8aa4_7e64_11e9_b9e1_e0d55e42fdbcrow4_col11\" class=\"data row4 col11\" >360</td>\n",
       "                        <td id=\"T_799b8aa4_7e64_11e9_b9e1_e0d55e42fdbcrow4_col12\" class=\"data row4 col12\" >nan</td>\n",
       "                        <td id=\"T_799b8aa4_7e64_11e9_b9e1_e0d55e42fdbcrow4_col13\" class=\"data row4 col13\" >nan</td>\n",
       "                        <td id=\"T_799b8aa4_7e64_11e9_b9e1_e0d55e42fdbcrow4_col14\" class=\"data row4 col14\" >0</td>\n",
       "                        <td id=\"T_799b8aa4_7e64_11e9_b9e1_e0d55e42fdbcrow4_col15\" class=\"data row4 col15\" >False</td>\n",
       "                        <td id=\"T_799b8aa4_7e64_11e9_b9e1_e0d55e42fdbcrow4_col16\" class=\"data row4 col16\" >False</td>\n",
       "                        <td id=\"T_799b8aa4_7e64_11e9_b9e1_e0d55e42fdbcrow4_col17\" class=\"data row4 col17\" >False</td>\n",
       "                        <td id=\"T_799b8aa4_7e64_11e9_b9e1_e0d55e42fdbcrow4_col18\" class=\"data row4 col18\" >False</td>\n",
       "                        <td id=\"T_799b8aa4_7e64_11e9_b9e1_e0d55e42fdbcrow4_col19\" class=\"data row4 col19\" >nan</td>\n",
       "                        <td id=\"T_799b8aa4_7e64_11e9_b9e1_e0d55e42fdbcrow4_col20\" class=\"data row4 col20\" >False</td>\n",
       "                        <td id=\"T_799b8aa4_7e64_11e9_b9e1_e0d55e42fdbcrow4_col21\" class=\"data row4 col21\" >nan</td>\n",
       "                        <td id=\"T_799b8aa4_7e64_11e9_b9e1_e0d55e42fdbcrow4_col22\" class=\"data row4 col22\" >False</td>\n",
       "                        <td id=\"T_799b8aa4_7e64_11e9_b9e1_e0d55e42fdbcrow4_col23\" class=\"data row4 col23\" >False</td>\n",
       "                        <td id=\"T_799b8aa4_7e64_11e9_b9e1_e0d55e42fdbcrow4_col24\" class=\"data row4 col24\" >False</td>\n",
       "                        <td id=\"T_799b8aa4_7e64_11e9_b9e1_e0d55e42fdbcrow4_col25\" class=\"data row4 col25\" >False</td>\n",
       "                        <td id=\"T_799b8aa4_7e64_11e9_b9e1_e0d55e42fdbcrow4_col26\" class=\"data row4 col26\" >Uribe-Butroe (BIZ)</td>\n",
       "                        <td id=\"T_799b8aa4_7e64_11e9_b9e1_e0d55e42fdbcrow4_col27\" class=\"data row4 col27\" >Barrika</td>\n",
       "                        <td id=\"T_799b8aa4_7e64_11e9_b9e1_e0d55e42fdbcrow4_col28\" class=\"data row4 col28\" >1541</td>\n",
       "                        <td id=\"T_799b8aa4_7e64_11e9_b9e1_e0d55e42fdbcrow4_col29\" class=\"data row4 col29\" >20</td>\n",
       "                        <td id=\"T_799b8aa4_7e64_11e9_b9e1_e0d55e42fdbcrow4_col30\" class=\"data row4 col30\" >59</td>\n",
       "                        <td id=\"T_799b8aa4_7e64_11e9_b9e1_e0d55e42fdbcrow4_col31\" class=\"data row4 col31\" >21</td>\n",
       "                        <td id=\"T_799b8aa4_7e64_11e9_b9e1_e0d55e42fdbcrow4_col32\" class=\"data row4 col32\" >5.2</td>\n",
       "                        <td id=\"T_799b8aa4_7e64_11e9_b9e1_e0d55e42fdbcrow4_col33\" class=\"data row4 col33\" >21751</td>\n",
       "                        <td id=\"T_799b8aa4_7e64_11e9_b9e1_e0d55e42fdbcrow4_col34\" class=\"data row4 col34\" >nan</td>\n",
       "                        <td id=\"T_799b8aa4_7e64_11e9_b9e1_e0d55e42fdbcrow4_col35\" class=\"data row4 col35\" >nan</td>\n",
       "                        <td id=\"T_799b8aa4_7e64_11e9_b9e1_e0d55e42fdbcrow4_col36\" class=\"data row4 col36\" >Barrika</td>\n",
       "            </tr>\n",
       "    </tbody></table>"
      ],
      "text/plain": [
       "<pandas.io.formats.style.Styler at 0x13d37c0de10>"
      ]
     },
     "execution_count": 73,
     "metadata": {},
     "output_type": "execute_result"
    }
   ],
   "source": [
    "(df\n",
    " .query('bath_num == 0')\n",
    " .sort_values('bath_num', ascending=False)[:5]\n",
    " .style.set_properties(subset=['ad_description'], **{'min-width': '1600px'})\n",
    ")"
   ]
  },
  {
   "cell_type": "markdown",
   "metadata": {},
   "source": [
    "Vemos que el hecho de que las viviendas no dispongan de baños se debe a que se trata de viviendas que han de reformarse, lo cual tiene sentido. Por ello, verificamos que todas las viviendas sin baños sean en efecto viviendas que han de reformarse:"
   ]
  },
  {
   "cell_type": "code",
   "execution_count": 74,
   "metadata": {
    "ExecuteTime": {
     "end_time": "2019-05-22T14:51:24.857483Z",
     "start_time": "2019-05-22T14:51:24.841487Z"
    }
   },
   "outputs": [
    {
     "data": {
      "text/plain": [
       "0"
      ]
     },
     "execution_count": 74,
     "metadata": {},
     "output_type": "execute_result"
    }
   ],
   "source": [
    "len(df.query('bath_num == 0 & condition != \"para reformar\"'))"
   ]
  },
  {
   "cell_type": "markdown",
   "metadata": {},
   "source": [
    "### <font color=#5F66A1>room_num</font>"
   ]
  },
  {
   "cell_type": "code",
   "execution_count": 75,
   "metadata": {
    "ExecuteTime": {
     "end_time": "2019-05-22T14:51:25.080651Z",
     "start_time": "2019-05-22T14:51:24.859482Z"
    }
   },
   "outputs": [
    {
     "data": {
      "image/png": "[encoded data removed]",
      "text/plain": [
       "<Figure size 864x216 with 1 Axes>"
      ]
     },
     "metadata": {
      "needs_background": "light"
     },
     "output_type": "display_data"
    }
   ],
   "source": [
    "f, ax = plt.subplots(1, 1, figsize=(12, 3), sharex=True)\n",
    "sns.despine(left=True)\n",
    "\n",
    "def print_text(nums):  \n",
    "    for num in nums:\n",
    "        cnt = len(df.query('room_num == @num'))\n",
    "        plt.text(num-0.1, 1.008, cnt, size='medium', weight='semibold')\n",
    "\n",
    "(df\n",
    " .groupby('room_num')\n",
    " .count()\n",
    " .reset_index()\n",
    " .pipe((sns.scatterplot, 'data'), x='room_num', y=1, size='house_id', sizes=(40, 3000)\n",
    "       , color=clr['pr'], alpha=.7, legend=False))\n",
    "\n",
    "ax.set_xticks(range(0,21))\n",
    "print_text([0, 10,11,12,14,20])\n",
    "\n",
    "plt.setp(ax, yticks=[])\n",
    "plt.tight_layout()"
   ]
  },
  {
   "cell_type": "markdown",
   "metadata": {},
   "source": [
    "En este caso, se observa también que hay algunas viviendas con un gran número de habitaciones. Las exploramos:"
   ]
  },
  {
   "cell_type": "code",
   "execution_count": 76,
   "metadata": {
    "ExecuteTime": {
     "end_time": "2019-05-22T14:51:25.112652Z",
     "start_time": "2019-05-22T14:51:25.082651Z"
    }
   },
   "outputs": [
    {
     "data": {
      "text/html": [
       "<style  type=\"text/css\" >\n",
       "    #T_79bb5a24_7e64_11e9_9db1_e0d55e42fdbcrow0_col1 {\n",
       "            min-width:  1200px;\n",
       "        }    #T_79bb5a24_7e64_11e9_9db1_e0d55e42fdbcrow1_col1 {\n",
       "            min-width:  1200px;\n",
       "        }    #T_79bb5a24_7e64_11e9_9db1_e0d55e42fdbcrow2_col1 {\n",
       "            min-width:  1200px;\n",
       "        }    #T_79bb5a24_7e64_11e9_9db1_e0d55e42fdbcrow3_col1 {\n",
       "            min-width:  1200px;\n",
       "        }    #T_79bb5a24_7e64_11e9_9db1_e0d55e42fdbcrow4_col1 {\n",
       "            min-width:  1200px;\n",
       "        }    #T_79bb5a24_7e64_11e9_9db1_e0d55e42fdbcrow5_col1 {\n",
       "            min-width:  1200px;\n",
       "        }</style><table id=\"T_79bb5a24_7e64_11e9_9db1_e0d55e42fdbc\" ><thead>    <tr>        <th class=\"blank level0\" ></th>        <th class=\"col_heading level0 col0\" >house_id</th>        <th class=\"col_heading level0 col1\" >ad_description</th>        <th class=\"col_heading level0 col2\" >price</th>        <th class=\"col_heading level0 col3\" >bath_num</th>        <th class=\"col_heading level0 col4\" >condition</th>        <th class=\"col_heading level0 col5\" >construct_date</th>        <th class=\"col_heading level0 col6\" >energetic_certif</th>        <th class=\"col_heading level0 col7\" >floor</th>        <th class=\"col_heading level0 col8\" >ground_size</th>        <th class=\"col_heading level0 col9\" >heating</th>        <th class=\"col_heading level0 col10\" >house_type</th>        <th class=\"col_heading level0 col11\" >m2_real</th>        <th class=\"col_heading level0 col12\" >m2_useful</th>        <th class=\"col_heading level0 col13\" >orientation</th>        <th class=\"col_heading level0 col14\" >room_num</th>        <th class=\"col_heading level0 col15\" >air_conditioner</th>        <th class=\"col_heading level0 col16\" >balcony</th>        <th class=\"col_heading level0 col17\" >built_in_wardrobe</th>        <th class=\"col_heading level0 col18\" >chimney</th>        <th class=\"col_heading level0 col19\" >garage</th>        <th class=\"col_heading level0 col20\" >garden</th>        <th class=\"col_heading level0 col21\" >lift</th>        <th class=\"col_heading level0 col22\" >reduced_mobility</th>        <th class=\"col_heading level0 col23\" >storage_room</th>        <th class=\"col_heading level0 col24\" >swimming_pool</th>        <th class=\"col_heading level0 col25\" >terrace</th>        <th class=\"col_heading level0 col26\" >loc_zone</th>        <th class=\"col_heading level0 col27\" >loc_city</th>        <th class=\"col_heading level0 col28\" >pop_total</th>        <th class=\"col_heading level0 col29\" >pop_0-19</th>        <th class=\"col_heading level0 col30\" >pop_20-64</th>        <th class=\"col_heading level0 col31\" >pop_>=65</th>        <th class=\"col_heading level0 col32\" >pop_foreign</th>        <th class=\"col_heading level0 col33\" >rent</th>        <th class=\"col_heading level0 col34\" >indoor</th>        <th class=\"col_heading level0 col35\" >floor_count</th>        <th class=\"col_heading level0 col36\" >location</th>    </tr></thead><tbody>\n",
       "                <tr>\n",
       "                        <th id=\"T_79bb5a24_7e64_11e9_9db1_e0d55e42fdbclevel0_row0\" class=\"row_heading level0 row0\" >11574</th>\n",
       "                        <td id=\"T_79bb5a24_7e64_11e9_9db1_e0d55e42fdbcrow0_col0\" class=\"data row0 col0\" >84744587</td>\n",
       "                        <td id=\"T_79bb5a24_7e64_11e9_9db1_e0d55e42fdbcrow0_col1\" class=\"data row0 col1\" >nan</td>\n",
       "                        <td id=\"T_79bb5a24_7e64_11e9_9db1_e0d55e42fdbcrow0_col2\" class=\"data row0 col2\" >180000</td>\n",
       "                        <td id=\"T_79bb5a24_7e64_11e9_9db1_e0d55e42fdbcrow0_col3\" class=\"data row0 col3\" >8</td>\n",
       "                        <td id=\"T_79bb5a24_7e64_11e9_9db1_e0d55e42fdbcrow0_col4\" class=\"data row0 col4\" >para reformar</td>\n",
       "                        <td id=\"T_79bb5a24_7e64_11e9_9db1_e0d55e42fdbcrow0_col5\" class=\"data row0 col5\" >nan</td>\n",
       "                        <td id=\"T_79bb5a24_7e64_11e9_9db1_e0d55e42fdbcrow0_col6\" class=\"data row0 col6\" >no indicado</td>\n",
       "                        <td id=\"T_79bb5a24_7e64_11e9_9db1_e0d55e42fdbcrow0_col7\" class=\"data row0 col7\" >nan</td>\n",
       "                        <td id=\"T_79bb5a24_7e64_11e9_9db1_e0d55e42fdbcrow0_col8\" class=\"data row0 col8\" >nan</td>\n",
       "                        <td id=\"T_79bb5a24_7e64_11e9_9db1_e0d55e42fdbcrow0_col9\" class=\"data row0 col9\" >nan</td>\n",
       "                        <td id=\"T_79bb5a24_7e64_11e9_9db1_e0d55e42fdbcrow0_col10\" class=\"data row0 col10\" >Casa o chalet</td>\n",
       "                        <td id=\"T_79bb5a24_7e64_11e9_9db1_e0d55e42fdbcrow0_col11\" class=\"data row0 col11\" >1000</td>\n",
       "                        <td id=\"T_79bb5a24_7e64_11e9_9db1_e0d55e42fdbcrow0_col12\" class=\"data row0 col12\" >nan</td>\n",
       "                        <td id=\"T_79bb5a24_7e64_11e9_9db1_e0d55e42fdbcrow0_col13\" class=\"data row0 col13\" >nan</td>\n",
       "                        <td id=\"T_79bb5a24_7e64_11e9_9db1_e0d55e42fdbcrow0_col14\" class=\"data row0 col14\" >20</td>\n",
       "                        <td id=\"T_79bb5a24_7e64_11e9_9db1_e0d55e42fdbcrow0_col15\" class=\"data row0 col15\" >False</td>\n",
       "                        <td id=\"T_79bb5a24_7e64_11e9_9db1_e0d55e42fdbcrow0_col16\" class=\"data row0 col16\" >False</td>\n",
       "                        <td id=\"T_79bb5a24_7e64_11e9_9db1_e0d55e42fdbcrow0_col17\" class=\"data row0 col17\" >False</td>\n",
       "                        <td id=\"T_79bb5a24_7e64_11e9_9db1_e0d55e42fdbcrow0_col18\" class=\"data row0 col18\" >False</td>\n",
       "                        <td id=\"T_79bb5a24_7e64_11e9_9db1_e0d55e42fdbcrow0_col19\" class=\"data row0 col19\" >nan</td>\n",
       "                        <td id=\"T_79bb5a24_7e64_11e9_9db1_e0d55e42fdbcrow0_col20\" class=\"data row0 col20\" >False</td>\n",
       "                        <td id=\"T_79bb5a24_7e64_11e9_9db1_e0d55e42fdbcrow0_col21\" class=\"data row0 col21\" >nan</td>\n",
       "                        <td id=\"T_79bb5a24_7e64_11e9_9db1_e0d55e42fdbcrow0_col22\" class=\"data row0 col22\" >False</td>\n",
       "                        <td id=\"T_79bb5a24_7e64_11e9_9db1_e0d55e42fdbcrow0_col23\" class=\"data row0 col23\" >False</td>\n",
       "                        <td id=\"T_79bb5a24_7e64_11e9_9db1_e0d55e42fdbcrow0_col24\" class=\"data row0 col24\" >False</td>\n",
       "                        <td id=\"T_79bb5a24_7e64_11e9_9db1_e0d55e42fdbcrow0_col25\" class=\"data row0 col25\" >False</td>\n",
       "                        <td id=\"T_79bb5a24_7e64_11e9_9db1_e0d55e42fdbcrow0_col26\" class=\"data row0 col26\" >Busturialdea (BIZ)</td>\n",
       "                        <td id=\"T_79bb5a24_7e64_11e9_9db1_e0d55e42fdbcrow0_col27\" class=\"data row0 col27\" >Murueta</td>\n",
       "                        <td id=\"T_79bb5a24_7e64_11e9_9db1_e0d55e42fdbcrow0_col28\" class=\"data row0 col28\" >309</td>\n",
       "                        <td id=\"T_79bb5a24_7e64_11e9_9db1_e0d55e42fdbcrow0_col29\" class=\"data row0 col29\" >21</td>\n",
       "                        <td id=\"T_79bb5a24_7e64_11e9_9db1_e0d55e42fdbcrow0_col30\" class=\"data row0 col30\" >65</td>\n",
       "                        <td id=\"T_79bb5a24_7e64_11e9_9db1_e0d55e42fdbcrow0_col31\" class=\"data row0 col31\" >14</td>\n",
       "                        <td id=\"T_79bb5a24_7e64_11e9_9db1_e0d55e42fdbcrow0_col32\" class=\"data row0 col32\" >5.3</td>\n",
       "                        <td id=\"T_79bb5a24_7e64_11e9_9db1_e0d55e42fdbcrow0_col33\" class=\"data row0 col33\" >23879</td>\n",
       "                        <td id=\"T_79bb5a24_7e64_11e9_9db1_e0d55e42fdbcrow0_col34\" class=\"data row0 col34\" >nan</td>\n",
       "                        <td id=\"T_79bb5a24_7e64_11e9_9db1_e0d55e42fdbcrow0_col35\" class=\"data row0 col35\" >nan</td>\n",
       "                        <td id=\"T_79bb5a24_7e64_11e9_9db1_e0d55e42fdbcrow0_col36\" class=\"data row0 col36\" >Murueta</td>\n",
       "            </tr>\n",
       "            <tr>\n",
       "                        <th id=\"T_79bb5a24_7e64_11e9_9db1_e0d55e42fdbclevel0_row1\" class=\"row_heading level0 row1\" >11670</th>\n",
       "                        <td id=\"T_79bb5a24_7e64_11e9_9db1_e0d55e42fdbcrow1_col0\" class=\"data row1 col0\" >26046434</td>\n",
       "                        <td id=\"T_79bb5a24_7e64_11e9_9db1_e0d55e42fdbcrow1_col1\" class=\"data row1 col1\" >el número de portal correcto es Nagusia kalea, 31.</td>\n",
       "                        <td id=\"T_79bb5a24_7e64_11e9_9db1_e0d55e42fdbcrow1_col2\" class=\"data row1 col2\" >299000</td>\n",
       "                        <td id=\"T_79bb5a24_7e64_11e9_9db1_e0d55e42fdbcrow1_col3\" class=\"data row1 col3\" >3</td>\n",
       "                        <td id=\"T_79bb5a24_7e64_11e9_9db1_e0d55e42fdbcrow1_col4\" class=\"data row1 col4\" >para reformar</td>\n",
       "                        <td id=\"T_79bb5a24_7e64_11e9_9db1_e0d55e42fdbcrow1_col5\" class=\"data row1 col5\" >nan</td>\n",
       "                        <td id=\"T_79bb5a24_7e64_11e9_9db1_e0d55e42fdbcrow1_col6\" class=\"data row1 col6\" >no indicado</td>\n",
       "                        <td id=\"T_79bb5a24_7e64_11e9_9db1_e0d55e42fdbcrow1_col7\" class=\"data row1 col7\" >nan</td>\n",
       "                        <td id=\"T_79bb5a24_7e64_11e9_9db1_e0d55e42fdbcrow1_col8\" class=\"data row1 col8\" >50</td>\n",
       "                        <td id=\"T_79bb5a24_7e64_11e9_9db1_e0d55e42fdbcrow1_col9\" class=\"data row1 col9\" >nan</td>\n",
       "                        <td id=\"T_79bb5a24_7e64_11e9_9db1_e0d55e42fdbcrow1_col10\" class=\"data row1 col10\" >Casa rural</td>\n",
       "                        <td id=\"T_79bb5a24_7e64_11e9_9db1_e0d55e42fdbcrow1_col11\" class=\"data row1 col11\" >620</td>\n",
       "                        <td id=\"T_79bb5a24_7e64_11e9_9db1_e0d55e42fdbcrow1_col12\" class=\"data row1 col12\" >600</td>\n",
       "                        <td id=\"T_79bb5a24_7e64_11e9_9db1_e0d55e42fdbcrow1_col13\" class=\"data row1 col13\" >norte, este, oeste</td>\n",
       "                        <td id=\"T_79bb5a24_7e64_11e9_9db1_e0d55e42fdbcrow1_col14\" class=\"data row1 col14\" >20</td>\n",
       "                        <td id=\"T_79bb5a24_7e64_11e9_9db1_e0d55e42fdbcrow1_col15\" class=\"data row1 col15\" >False</td>\n",
       "                        <td id=\"T_79bb5a24_7e64_11e9_9db1_e0d55e42fdbcrow1_col16\" class=\"data row1 col16\" >False</td>\n",
       "                        <td id=\"T_79bb5a24_7e64_11e9_9db1_e0d55e42fdbcrow1_col17\" class=\"data row1 col17\" >True</td>\n",
       "                        <td id=\"T_79bb5a24_7e64_11e9_9db1_e0d55e42fdbcrow1_col18\" class=\"data row1 col18\" >False</td>\n",
       "                        <td id=\"T_79bb5a24_7e64_11e9_9db1_e0d55e42fdbcrow1_col19\" class=\"data row1 col19\" >nan</td>\n",
       "                        <td id=\"T_79bb5a24_7e64_11e9_9db1_e0d55e42fdbcrow1_col20\" class=\"data row1 col20\" >True</td>\n",
       "                        <td id=\"T_79bb5a24_7e64_11e9_9db1_e0d55e42fdbcrow1_col21\" class=\"data row1 col21\" >nan</td>\n",
       "                        <td id=\"T_79bb5a24_7e64_11e9_9db1_e0d55e42fdbcrow1_col22\" class=\"data row1 col22\" >False</td>\n",
       "                        <td id=\"T_79bb5a24_7e64_11e9_9db1_e0d55e42fdbcrow1_col23\" class=\"data row1 col23\" >True</td>\n",
       "                        <td id=\"T_79bb5a24_7e64_11e9_9db1_e0d55e42fdbcrow1_col24\" class=\"data row1 col24\" >False</td>\n",
       "                        <td id=\"T_79bb5a24_7e64_11e9_9db1_e0d55e42fdbcrow1_col25\" class=\"data row1 col25\" >True</td>\n",
       "                        <td id=\"T_79bb5a24_7e64_11e9_9db1_e0d55e42fdbcrow1_col26\" class=\"data row1 col26\" >Busturialdea (BIZ)</td>\n",
       "                        <td id=\"T_79bb5a24_7e64_11e9_9db1_e0d55e42fdbcrow1_col27\" class=\"data row1 col27\" >Elantxobe</td>\n",
       "                        <td id=\"T_79bb5a24_7e64_11e9_9db1_e0d55e42fdbcrow1_col28\" class=\"data row1 col28\" >346</td>\n",
       "                        <td id=\"T_79bb5a24_7e64_11e9_9db1_e0d55e42fdbcrow1_col29\" class=\"data row1 col29\" >9</td>\n",
       "                        <td id=\"T_79bb5a24_7e64_11e9_9db1_e0d55e42fdbcrow1_col30\" class=\"data row1 col30\" >57</td>\n",
       "                        <td id=\"T_79bb5a24_7e64_11e9_9db1_e0d55e42fdbcrow1_col31\" class=\"data row1 col31\" >34</td>\n",
       "                        <td id=\"T_79bb5a24_7e64_11e9_9db1_e0d55e42fdbcrow1_col32\" class=\"data row1 col32\" >4.2</td>\n",
       "                        <td id=\"T_79bb5a24_7e64_11e9_9db1_e0d55e42fdbcrow1_col33\" class=\"data row1 col33\" >16778</td>\n",
       "                        <td id=\"T_79bb5a24_7e64_11e9_9db1_e0d55e42fdbcrow1_col34\" class=\"data row1 col34\" >False</td>\n",
       "                        <td id=\"T_79bb5a24_7e64_11e9_9db1_e0d55e42fdbcrow1_col35\" class=\"data row1 col35\" >3</td>\n",
       "                        <td id=\"T_79bb5a24_7e64_11e9_9db1_e0d55e42fdbcrow1_col36\" class=\"data row1 col36\" >Elantxobe</td>\n",
       "            </tr>\n",
       "            <tr>\n",
       "                        <th id=\"T_79bb5a24_7e64_11e9_9db1_e0d55e42fdbclevel0_row2\" class=\"row_heading level0 row2\" >17882</th>\n",
       "                        <td id=\"T_79bb5a24_7e64_11e9_9db1_e0d55e42fdbcrow2_col0\" class=\"data row2 col0\" >35771906</td>\n",
       "                        <td id=\"T_79bb5a24_7e64_11e9_9db1_e0d55e42fdbcrow2_col1\" class=\"data row2 col1\" >nan</td>\n",
       "                        <td id=\"T_79bb5a24_7e64_11e9_9db1_e0d55e42fdbcrow2_col2\" class=\"data row2 col2\" >225000</td>\n",
       "                        <td id=\"T_79bb5a24_7e64_11e9_9db1_e0d55e42fdbcrow2_col3\" class=\"data row2 col3\" >5</td>\n",
       "                        <td id=\"T_79bb5a24_7e64_11e9_9db1_e0d55e42fdbcrow2_col4\" class=\"data row2 col4\" >para reformar</td>\n",
       "                        <td id=\"T_79bb5a24_7e64_11e9_9db1_e0d55e42fdbcrow2_col5\" class=\"data row2 col5\" >nan</td>\n",
       "                        <td id=\"T_79bb5a24_7e64_11e9_9db1_e0d55e42fdbcrow2_col6\" class=\"data row2 col6\" >no indicado</td>\n",
       "                        <td id=\"T_79bb5a24_7e64_11e9_9db1_e0d55e42fdbcrow2_col7\" class=\"data row2 col7\" >nan</td>\n",
       "                        <td id=\"T_79bb5a24_7e64_11e9_9db1_e0d55e42fdbcrow2_col8\" class=\"data row2 col8\" >2697</td>\n",
       "                        <td id=\"T_79bb5a24_7e64_11e9_9db1_e0d55e42fdbcrow2_col9\" class=\"data row2 col9\" >nan</td>\n",
       "                        <td id=\"T_79bb5a24_7e64_11e9_9db1_e0d55e42fdbcrow2_col10\" class=\"data row2 col10\" >Casa rural</td>\n",
       "                        <td id=\"T_79bb5a24_7e64_11e9_9db1_e0d55e42fdbcrow2_col11\" class=\"data row2 col11\" >1080</td>\n",
       "                        <td id=\"T_79bb5a24_7e64_11e9_9db1_e0d55e42fdbcrow2_col12\" class=\"data row2 col12\" >nan</td>\n",
       "                        <td id=\"T_79bb5a24_7e64_11e9_9db1_e0d55e42fdbcrow2_col13\" class=\"data row2 col13\" >nan</td>\n",
       "                        <td id=\"T_79bb5a24_7e64_11e9_9db1_e0d55e42fdbcrow2_col14\" class=\"data row2 col14\" >20</td>\n",
       "                        <td id=\"T_79bb5a24_7e64_11e9_9db1_e0d55e42fdbcrow2_col15\" class=\"data row2 col15\" >False</td>\n",
       "                        <td id=\"T_79bb5a24_7e64_11e9_9db1_e0d55e42fdbcrow2_col16\" class=\"data row2 col16\" >False</td>\n",
       "                        <td id=\"T_79bb5a24_7e64_11e9_9db1_e0d55e42fdbcrow2_col17\" class=\"data row2 col17\" >False</td>\n",
       "                        <td id=\"T_79bb5a24_7e64_11e9_9db1_e0d55e42fdbcrow2_col18\" class=\"data row2 col18\" >False</td>\n",
       "                        <td id=\"T_79bb5a24_7e64_11e9_9db1_e0d55e42fdbcrow2_col19\" class=\"data row2 col19\" >nan</td>\n",
       "                        <td id=\"T_79bb5a24_7e64_11e9_9db1_e0d55e42fdbcrow2_col20\" class=\"data row2 col20\" >False</td>\n",
       "                        <td id=\"T_79bb5a24_7e64_11e9_9db1_e0d55e42fdbcrow2_col21\" class=\"data row2 col21\" >nan</td>\n",
       "                        <td id=\"T_79bb5a24_7e64_11e9_9db1_e0d55e42fdbcrow2_col22\" class=\"data row2 col22\" >False</td>\n",
       "                        <td id=\"T_79bb5a24_7e64_11e9_9db1_e0d55e42fdbcrow2_col23\" class=\"data row2 col23\" >False</td>\n",
       "                        <td id=\"T_79bb5a24_7e64_11e9_9db1_e0d55e42fdbcrow2_col24\" class=\"data row2 col24\" >False</td>\n",
       "                        <td id=\"T_79bb5a24_7e64_11e9_9db1_e0d55e42fdbcrow2_col25\" class=\"data row2 col25\" >False</td>\n",
       "                        <td id=\"T_79bb5a24_7e64_11e9_9db1_e0d55e42fdbcrow2_col26\" class=\"data row2 col26\" >Encartaciones (BIZ)</td>\n",
       "                        <td id=\"T_79bb5a24_7e64_11e9_9db1_e0d55e42fdbcrow2_col27\" class=\"data row2 col27\" >Lanestosa</td>\n",
       "                        <td id=\"T_79bb5a24_7e64_11e9_9db1_e0d55e42fdbcrow2_col28\" class=\"data row2 col28\" >254</td>\n",
       "                        <td id=\"T_79bb5a24_7e64_11e9_9db1_e0d55e42fdbcrow2_col29\" class=\"data row2 col29\" >12</td>\n",
       "                        <td id=\"T_79bb5a24_7e64_11e9_9db1_e0d55e42fdbcrow2_col30\" class=\"data row2 col30\" >64</td>\n",
       "                        <td id=\"T_79bb5a24_7e64_11e9_9db1_e0d55e42fdbcrow2_col31\" class=\"data row2 col31\" >24</td>\n",
       "                        <td id=\"T_79bb5a24_7e64_11e9_9db1_e0d55e42fdbcrow2_col32\" class=\"data row2 col32\" >7</td>\n",
       "                        <td id=\"T_79bb5a24_7e64_11e9_9db1_e0d55e42fdbcrow2_col33\" class=\"data row2 col33\" >13489</td>\n",
       "                        <td id=\"T_79bb5a24_7e64_11e9_9db1_e0d55e42fdbcrow2_col34\" class=\"data row2 col34\" >False</td>\n",
       "                        <td id=\"T_79bb5a24_7e64_11e9_9db1_e0d55e42fdbcrow2_col35\" class=\"data row2 col35\" >3</td>\n",
       "                        <td id=\"T_79bb5a24_7e64_11e9_9db1_e0d55e42fdbcrow2_col36\" class=\"data row2 col36\" >Lanestosa</td>\n",
       "            </tr>\n",
       "            <tr>\n",
       "                        <th id=\"T_79bb5a24_7e64_11e9_9db1_e0d55e42fdbclevel0_row3\" class=\"row_heading level0 row3\" >1372</th>\n",
       "                        <td id=\"T_79bb5a24_7e64_11e9_9db1_e0d55e42fdbcrow3_col0\" class=\"data row3 col0\" >85474676</td>\n",
       "                        <td id=\"T_79bb5a24_7e64_11e9_9db1_e0d55e42fdbcrow3_col1\" class=\"data row3 col1\" >Rara oportunidad de adquirir esta joya de arquitectura vasca.,Construida por la familia Llodio en 1903 esta casa/palacete consta de 3 plantas con 7 grandes dependencias en cada una con chimeneas, escalera de apertura doble y gran hall en cada una de las plantas.,A 250 metros de la estacion de tren ( cada 15 minutos y conexiones con metro), servicios de bus y tambien proximo al aeropuerto y autovia.,Situada junto al parque tecnologico de Zamudio y Lezama con gran volumen de trabajadores y tambien cercana a un agroturismo que funciona todo el año a alto rendimiento.,Gran parcela de terreno y proyecto para adificio anexo con permiso para rehabilitar ya aprovado. La finca tiene 2 entradas, una por el este y la otra por el oeste.,Gran potencial para desarrollo como hotel dada su localizacion, capacidad para parking y conexiones de transporte o para cualquier empresa de servicios. Si no se desea usar el terreno para parking, hay extenso parking publico a 100m de la entrada.</td>\n",
       "                        <td id=\"T_79bb5a24_7e64_11e9_9db1_e0d55e42fdbcrow3_col2\" class=\"data row3 col2\" >799000</td>\n",
       "                        <td id=\"T_79bb5a24_7e64_11e9_9db1_e0d55e42fdbcrow3_col3\" class=\"data row3 col3\" >2</td>\n",
       "                        <td id=\"T_79bb5a24_7e64_11e9_9db1_e0d55e42fdbcrow3_col4\" class=\"data row3 col4\" >para reformar</td>\n",
       "                        <td id=\"T_79bb5a24_7e64_11e9_9db1_e0d55e42fdbcrow3_col5\" class=\"data row3 col5\" >nan</td>\n",
       "                        <td id=\"T_79bb5a24_7e64_11e9_9db1_e0d55e42fdbcrow3_col6\" class=\"data row3 col6\" >no indicado</td>\n",
       "                        <td id=\"T_79bb5a24_7e64_11e9_9db1_e0d55e42fdbcrow3_col7\" class=\"data row3 col7\" >nan</td>\n",
       "                        <td id=\"T_79bb5a24_7e64_11e9_9db1_e0d55e42fdbcrow3_col8\" class=\"data row3 col8\" >2500</td>\n",
       "                        <td id=\"T_79bb5a24_7e64_11e9_9db1_e0d55e42fdbcrow3_col9\" class=\"data row3 col9\" >nan</td>\n",
       "                        <td id=\"T_79bb5a24_7e64_11e9_9db1_e0d55e42fdbcrow3_col10\" class=\"data row3 col10\" >Otros</td>\n",
       "                        <td id=\"T_79bb5a24_7e64_11e9_9db1_e0d55e42fdbcrow3_col11\" class=\"data row3 col11\" >990</td>\n",
       "                        <td id=\"T_79bb5a24_7e64_11e9_9db1_e0d55e42fdbcrow3_col12\" class=\"data row3 col12\" >980</td>\n",
       "                        <td id=\"T_79bb5a24_7e64_11e9_9db1_e0d55e42fdbcrow3_col13\" class=\"data row3 col13\" >sur</td>\n",
       "                        <td id=\"T_79bb5a24_7e64_11e9_9db1_e0d55e42fdbcrow3_col14\" class=\"data row3 col14\" >14</td>\n",
       "                        <td id=\"T_79bb5a24_7e64_11e9_9db1_e0d55e42fdbcrow3_col15\" class=\"data row3 col15\" >False</td>\n",
       "                        <td id=\"T_79bb5a24_7e64_11e9_9db1_e0d55e42fdbcrow3_col16\" class=\"data row3 col16\" >True</td>\n",
       "                        <td id=\"T_79bb5a24_7e64_11e9_9db1_e0d55e42fdbcrow3_col17\" class=\"data row3 col17\" >False</td>\n",
       "                        <td id=\"T_79bb5a24_7e64_11e9_9db1_e0d55e42fdbcrow3_col18\" class=\"data row3 col18\" >True</td>\n",
       "                        <td id=\"T_79bb5a24_7e64_11e9_9db1_e0d55e42fdbcrow3_col19\" class=\"data row3 col19\" >0</td>\n",
       "                        <td id=\"T_79bb5a24_7e64_11e9_9db1_e0d55e42fdbcrow3_col20\" class=\"data row3 col20\" >True</td>\n",
       "                        <td id=\"T_79bb5a24_7e64_11e9_9db1_e0d55e42fdbcrow3_col21\" class=\"data row3 col21\" >nan</td>\n",
       "                        <td id=\"T_79bb5a24_7e64_11e9_9db1_e0d55e42fdbcrow3_col22\" class=\"data row3 col22\" >False</td>\n",
       "                        <td id=\"T_79bb5a24_7e64_11e9_9db1_e0d55e42fdbcrow3_col23\" class=\"data row3 col23\" >False</td>\n",
       "                        <td id=\"T_79bb5a24_7e64_11e9_9db1_e0d55e42fdbcrow3_col24\" class=\"data row3 col24\" >False</td>\n",
       "                        <td id=\"T_79bb5a24_7e64_11e9_9db1_e0d55e42fdbcrow3_col25\" class=\"data row3 col25\" >False</td>\n",
       "                        <td id=\"T_79bb5a24_7e64_11e9_9db1_e0d55e42fdbcrow3_col26\" class=\"data row3 col26\" >Gran Bilbao (BIZ)</td>\n",
       "                        <td id=\"T_79bb5a24_7e64_11e9_9db1_e0d55e42fdbcrow3_col27\" class=\"data row3 col27\" >Lezama</td>\n",
       "                        <td id=\"T_79bb5a24_7e64_11e9_9db1_e0d55e42fdbcrow3_col28\" class=\"data row3 col28\" >2429</td>\n",
       "                        <td id=\"T_79bb5a24_7e64_11e9_9db1_e0d55e42fdbcrow3_col29\" class=\"data row3 col29\" >21</td>\n",
       "                        <td id=\"T_79bb5a24_7e64_11e9_9db1_e0d55e42fdbcrow3_col30\" class=\"data row3 col30\" >60</td>\n",
       "                        <td id=\"T_79bb5a24_7e64_11e9_9db1_e0d55e42fdbcrow3_col31\" class=\"data row3 col31\" >19</td>\n",
       "                        <td id=\"T_79bb5a24_7e64_11e9_9db1_e0d55e42fdbcrow3_col32\" class=\"data row3 col32\" >6.2</td>\n",
       "                        <td id=\"T_79bb5a24_7e64_11e9_9db1_e0d55e42fdbcrow3_col33\" class=\"data row3 col33\" >23871</td>\n",
       "                        <td id=\"T_79bb5a24_7e64_11e9_9db1_e0d55e42fdbcrow3_col34\" class=\"data row3 col34\" >False</td>\n",
       "                        <td id=\"T_79bb5a24_7e64_11e9_9db1_e0d55e42fdbcrow3_col35\" class=\"data row3 col35\" >3</td>\n",
       "                        <td id=\"T_79bb5a24_7e64_11e9_9db1_e0d55e42fdbcrow3_col36\" class=\"data row3 col36\" >Lezama</td>\n",
       "            </tr>\n",
       "            <tr>\n",
       "                        <th id=\"T_79bb5a24_7e64_11e9_9db1_e0d55e42fdbclevel0_row4\" class=\"row_heading level0 row4\" >12180</th>\n",
       "                        <td id=\"T_79bb5a24_7e64_11e9_9db1_e0d55e42fdbcrow4_col0\" class=\"data row4 col0\" >81289483</td>\n",
       "                        <td id=\"T_79bb5a24_7e64_11e9_9db1_e0d55e42fdbcrow4_col1\" class=\"data row4 col1\" >Casa unifamiliar de 3 plantas. 961 m2 en total. 14 habitaciones. 8 baños. Hermosos salones con chimenea. Porches. Piscina. Frontón. Terreno de 12.500 m2 junto a la casa. Posibilidad de mas terreno. Calefacción. Parada de bus junto a la casa. Zona soleada y tranquila.</td>\n",
       "                        <td id=\"T_79bb5a24_7e64_11e9_9db1_e0d55e42fdbcrow4_col2\" class=\"data row4 col2\" >649000</td>\n",
       "                        <td id=\"T_79bb5a24_7e64_11e9_9db1_e0d55e42fdbcrow4_col3\" class=\"data row4 col3\" >8</td>\n",
       "                        <td id=\"T_79bb5a24_7e64_11e9_9db1_e0d55e42fdbcrow4_col4\" class=\"data row4 col4\" >buen estado</td>\n",
       "                        <td id=\"T_79bb5a24_7e64_11e9_9db1_e0d55e42fdbcrow4_col5\" class=\"data row4 col5\" >nan</td>\n",
       "                        <td id=\"T_79bb5a24_7e64_11e9_9db1_e0d55e42fdbcrow4_col6\" class=\"data row4 col6\" >en trámite</td>\n",
       "                        <td id=\"T_79bb5a24_7e64_11e9_9db1_e0d55e42fdbcrow4_col7\" class=\"data row4 col7\" >nan</td>\n",
       "                        <td id=\"T_79bb5a24_7e64_11e9_9db1_e0d55e42fdbcrow4_col8\" class=\"data row4 col8\" >12500</td>\n",
       "                        <td id=\"T_79bb5a24_7e64_11e9_9db1_e0d55e42fdbcrow4_col9\" class=\"data row4 col9\" >nan</td>\n",
       "                        <td id=\"T_79bb5a24_7e64_11e9_9db1_e0d55e42fdbcrow4_col10\" class=\"data row4 col10\" >Casa o chalet</td>\n",
       "                        <td id=\"T_79bb5a24_7e64_11e9_9db1_e0d55e42fdbcrow4_col11\" class=\"data row4 col11\" >961</td>\n",
       "                        <td id=\"T_79bb5a24_7e64_11e9_9db1_e0d55e42fdbcrow4_col12\" class=\"data row4 col12\" >nan</td>\n",
       "                        <td id=\"T_79bb5a24_7e64_11e9_9db1_e0d55e42fdbcrow4_col13\" class=\"data row4 col13\" >oeste</td>\n",
       "                        <td id=\"T_79bb5a24_7e64_11e9_9db1_e0d55e42fdbcrow4_col14\" class=\"data row4 col14\" >14</td>\n",
       "                        <td id=\"T_79bb5a24_7e64_11e9_9db1_e0d55e42fdbcrow4_col15\" class=\"data row4 col15\" >False</td>\n",
       "                        <td id=\"T_79bb5a24_7e64_11e9_9db1_e0d55e42fdbcrow4_col16\" class=\"data row4 col16\" >True</td>\n",
       "                        <td id=\"T_79bb5a24_7e64_11e9_9db1_e0d55e42fdbcrow4_col17\" class=\"data row4 col17\" >True</td>\n",
       "                        <td id=\"T_79bb5a24_7e64_11e9_9db1_e0d55e42fdbcrow4_col18\" class=\"data row4 col18\" >False</td>\n",
       "                        <td id=\"T_79bb5a24_7e64_11e9_9db1_e0d55e42fdbcrow4_col19\" class=\"data row4 col19\" >nan</td>\n",
       "                        <td id=\"T_79bb5a24_7e64_11e9_9db1_e0d55e42fdbcrow4_col20\" class=\"data row4 col20\" >False</td>\n",
       "                        <td id=\"T_79bb5a24_7e64_11e9_9db1_e0d55e42fdbcrow4_col21\" class=\"data row4 col21\" >nan</td>\n",
       "                        <td id=\"T_79bb5a24_7e64_11e9_9db1_e0d55e42fdbcrow4_col22\" class=\"data row4 col22\" >False</td>\n",
       "                        <td id=\"T_79bb5a24_7e64_11e9_9db1_e0d55e42fdbcrow4_col23\" class=\"data row4 col23\" >True</td>\n",
       "                        <td id=\"T_79bb5a24_7e64_11e9_9db1_e0d55e42fdbcrow4_col24\" class=\"data row4 col24\" >False</td>\n",
       "                        <td id=\"T_79bb5a24_7e64_11e9_9db1_e0d55e42fdbcrow4_col25\" class=\"data row4 col25\" >True</td>\n",
       "                        <td id=\"T_79bb5a24_7e64_11e9_9db1_e0d55e42fdbcrow4_col26\" class=\"data row4 col26\" >Arratia-Nervión (BIZ)</td>\n",
       "                        <td id=\"T_79bb5a24_7e64_11e9_9db1_e0d55e42fdbcrow4_col27\" class=\"data row4 col27\" >Artea</td>\n",
       "                        <td id=\"T_79bb5a24_7e64_11e9_9db1_e0d55e42fdbcrow4_col28\" class=\"data row4 col28\" >735</td>\n",
       "                        <td id=\"T_79bb5a24_7e64_11e9_9db1_e0d55e42fdbcrow4_col29\" class=\"data row4 col29\" >20</td>\n",
       "                        <td id=\"T_79bb5a24_7e64_11e9_9db1_e0d55e42fdbcrow4_col30\" class=\"data row4 col30\" >58</td>\n",
       "                        <td id=\"T_79bb5a24_7e64_11e9_9db1_e0d55e42fdbcrow4_col31\" class=\"data row4 col31\" >23</td>\n",
       "                        <td id=\"T_79bb5a24_7e64_11e9_9db1_e0d55e42fdbcrow4_col32\" class=\"data row4 col32\" >5</td>\n",
       "                        <td id=\"T_79bb5a24_7e64_11e9_9db1_e0d55e42fdbcrow4_col33\" class=\"data row4 col33\" >22862</td>\n",
       "                        <td id=\"T_79bb5a24_7e64_11e9_9db1_e0d55e42fdbcrow4_col34\" class=\"data row4 col34\" >False</td>\n",
       "                        <td id=\"T_79bb5a24_7e64_11e9_9db1_e0d55e42fdbcrow4_col35\" class=\"data row4 col35\" >3</td>\n",
       "                        <td id=\"T_79bb5a24_7e64_11e9_9db1_e0d55e42fdbcrow4_col36\" class=\"data row4 col36\" >Artea</td>\n",
       "            </tr>\n",
       "            <tr>\n",
       "                        <th id=\"T_79bb5a24_7e64_11e9_9db1_e0d55e42fdbclevel0_row5\" class=\"row_heading level0 row5\" >12519</th>\n",
       "                        <td id=\"T_79bb5a24_7e64_11e9_9db1_e0d55e42fdbcrow5_col0\" class=\"data row5 col0\" >84476689</td>\n",
       "                        <td id=\"T_79bb5a24_7e64_11e9_9db1_e0d55e42fdbcrow5_col1\" class=\"data row5 col1\" >Chalet en venta en Artea de 735m2 construidos distribuido en tres plantas, con un parcela de 20.000m2 en las que incluye un frontón, piscina, zona con mesas en las que poder disfrutar del bonito entorno que ofrece estar en plena naturaleza.,La vivienda dispone de 14 habitaciones y 8 baños, cocina y salón con chimenea, dos porches uno totalmente acristalado para los días de invierno, salida a terraza desde el segundo piso. ,Calefacción,Situado en pleno corazón del valle de Arratia, con muy buena conexión, parada de Autobús junto a la casa. Zona soleada y tranquila en la que poder disfrutar de la naturaleza.</td>\n",
       "                        <td id=\"T_79bb5a24_7e64_11e9_9db1_e0d55e42fdbcrow5_col2\" class=\"data row5 col2\" >649000</td>\n",
       "                        <td id=\"T_79bb5a24_7e64_11e9_9db1_e0d55e42fdbcrow5_col3\" class=\"data row5 col3\" >8</td>\n",
       "                        <td id=\"T_79bb5a24_7e64_11e9_9db1_e0d55e42fdbcrow5_col4\" class=\"data row5 col4\" >para reformar</td>\n",
       "                        <td id=\"T_79bb5a24_7e64_11e9_9db1_e0d55e42fdbcrow5_col5\" class=\"data row5 col5\" >nan</td>\n",
       "                        <td id=\"T_79bb5a24_7e64_11e9_9db1_e0d55e42fdbcrow5_col6\" class=\"data row5 col6\" >en trámite</td>\n",
       "                        <td id=\"T_79bb5a24_7e64_11e9_9db1_e0d55e42fdbcrow5_col7\" class=\"data row5 col7\" >nan</td>\n",
       "                        <td id=\"T_79bb5a24_7e64_11e9_9db1_e0d55e42fdbcrow5_col8\" class=\"data row5 col8\" >20410</td>\n",
       "                        <td id=\"T_79bb5a24_7e64_11e9_9db1_e0d55e42fdbcrow5_col9\" class=\"data row5 col9\" >nan</td>\n",
       "                        <td id=\"T_79bb5a24_7e64_11e9_9db1_e0d55e42fdbcrow5_col10\" class=\"data row5 col10\" >Casa o chalet</td>\n",
       "                        <td id=\"T_79bb5a24_7e64_11e9_9db1_e0d55e42fdbcrow5_col11\" class=\"data row5 col11\" >735</td>\n",
       "                        <td id=\"T_79bb5a24_7e64_11e9_9db1_e0d55e42fdbcrow5_col12\" class=\"data row5 col12\" >nan</td>\n",
       "                        <td id=\"T_79bb5a24_7e64_11e9_9db1_e0d55e42fdbcrow5_col13\" class=\"data row5 col13\" >nan</td>\n",
       "                        <td id=\"T_79bb5a24_7e64_11e9_9db1_e0d55e42fdbcrow5_col14\" class=\"data row5 col14\" >14</td>\n",
       "                        <td id=\"T_79bb5a24_7e64_11e9_9db1_e0d55e42fdbcrow5_col15\" class=\"data row5 col15\" >False</td>\n",
       "                        <td id=\"T_79bb5a24_7e64_11e9_9db1_e0d55e42fdbcrow5_col16\" class=\"data row5 col16\" >False</td>\n",
       "                        <td id=\"T_79bb5a24_7e64_11e9_9db1_e0d55e42fdbcrow5_col17\" class=\"data row5 col17\" >True</td>\n",
       "                        <td id=\"T_79bb5a24_7e64_11e9_9db1_e0d55e42fdbcrow5_col18\" class=\"data row5 col18\" >False</td>\n",
       "                        <td id=\"T_79bb5a24_7e64_11e9_9db1_e0d55e42fdbcrow5_col19\" class=\"data row5 col19\" >nan</td>\n",
       "                        <td id=\"T_79bb5a24_7e64_11e9_9db1_e0d55e42fdbcrow5_col20\" class=\"data row5 col20\" >True</td>\n",
       "                        <td id=\"T_79bb5a24_7e64_11e9_9db1_e0d55e42fdbcrow5_col21\" class=\"data row5 col21\" >nan</td>\n",
       "                        <td id=\"T_79bb5a24_7e64_11e9_9db1_e0d55e42fdbcrow5_col22\" class=\"data row5 col22\" >False</td>\n",
       "                        <td id=\"T_79bb5a24_7e64_11e9_9db1_e0d55e42fdbcrow5_col23\" class=\"data row5 col23\" >False</td>\n",
       "                        <td id=\"T_79bb5a24_7e64_11e9_9db1_e0d55e42fdbcrow5_col24\" class=\"data row5 col24\" >True</td>\n",
       "                        <td id=\"T_79bb5a24_7e64_11e9_9db1_e0d55e42fdbcrow5_col25\" class=\"data row5 col25\" >True</td>\n",
       "                        <td id=\"T_79bb5a24_7e64_11e9_9db1_e0d55e42fdbcrow5_col26\" class=\"data row5 col26\" >Arratia-Nervión (BIZ)</td>\n",
       "                        <td id=\"T_79bb5a24_7e64_11e9_9db1_e0d55e42fdbcrow5_col27\" class=\"data row5 col27\" >Artea</td>\n",
       "                        <td id=\"T_79bb5a24_7e64_11e9_9db1_e0d55e42fdbcrow5_col28\" class=\"data row5 col28\" >735</td>\n",
       "                        <td id=\"T_79bb5a24_7e64_11e9_9db1_e0d55e42fdbcrow5_col29\" class=\"data row5 col29\" >20</td>\n",
       "                        <td id=\"T_79bb5a24_7e64_11e9_9db1_e0d55e42fdbcrow5_col30\" class=\"data row5 col30\" >58</td>\n",
       "                        <td id=\"T_79bb5a24_7e64_11e9_9db1_e0d55e42fdbcrow5_col31\" class=\"data row5 col31\" >23</td>\n",
       "                        <td id=\"T_79bb5a24_7e64_11e9_9db1_e0d55e42fdbcrow5_col32\" class=\"data row5 col32\" >5</td>\n",
       "                        <td id=\"T_79bb5a24_7e64_11e9_9db1_e0d55e42fdbcrow5_col33\" class=\"data row5 col33\" >22862</td>\n",
       "                        <td id=\"T_79bb5a24_7e64_11e9_9db1_e0d55e42fdbcrow5_col34\" class=\"data row5 col34\" >nan</td>\n",
       "                        <td id=\"T_79bb5a24_7e64_11e9_9db1_e0d55e42fdbcrow5_col35\" class=\"data row5 col35\" >nan</td>\n",
       "                        <td id=\"T_79bb5a24_7e64_11e9_9db1_e0d55e42fdbcrow5_col36\" class=\"data row5 col36\" >Artea</td>\n",
       "            </tr>\n",
       "    </tbody></table>"
      ],
      "text/plain": [
       "<pandas.io.formats.style.Styler at 0x13d37beb9b0>"
      ]
     },
     "execution_count": 76,
     "metadata": {},
     "output_type": "execute_result"
    }
   ],
   "source": [
    "(df\n",
    " .query('room_num > 12')\n",
    " .sort_values('room_num', ascending=False)\n",
    " .style.set_properties(subset=['ad_description'], **{'min-width': '1200px'})\n",
    ")"
   ]
  },
  {
   "cell_type": "markdown",
   "metadata": {},
   "source": [
    "En lo que respecta a las viviendas con 20 habitaciones, al no poder verificar si son datos correctos, se opta por eliminarlos. En el caso de las viviendas con 14 habitaciones, sin embargo, se comprueba que el numero elevado de estancias se debe a que son caserones, así que se mantienen:"
   ]
  },
  {
   "cell_type": "code",
   "execution_count": 77,
   "metadata": {
    "ExecuteTime": {
     "end_time": "2019-05-22T14:51:25.129661Z",
     "start_time": "2019-05-22T14:51:25.113651Z"
    }
   },
   "outputs": [
    {
     "name": "stdout",
     "output_type": "stream",
     "text": [
      "Se han eliminado 3 viviendas\n"
     ]
    }
   ],
   "source": [
    "del_count = len(df[df.room_num > 15])\n",
    "df = df[df.room_num < 15]\n",
    "print(f\"Se han eliminado {del_count} viviendas\")"
   ]
  },
  {
   "cell_type": "markdown",
   "metadata": {},
   "source": [
    "Finalmente, de forma análoga al estudio de la variable <font color=#5F66A1>__bath_num__</font>, se verifica que las viviendas con 0 habitaciones corresponden a casas por reformar:"
   ]
  },
  {
   "cell_type": "code",
   "execution_count": 78,
   "metadata": {
    "ExecuteTime": {
     "end_time": "2019-05-22T14:51:25.160647Z",
     "start_time": "2019-05-22T14:51:25.130668Z"
    }
   },
   "outputs": [
    {
     "data": {
      "text/html": [
       "<style  type=\"text/css\" >\n",
       "    #T_79c14fd2_7e64_11e9_9e4c_e0d55e42fdbcrow0_col1 {\n",
       "            min-width:  1600px;\n",
       "        }    #T_79c14fd2_7e64_11e9_9e4c_e0d55e42fdbcrow1_col1 {\n",
       "            min-width:  1600px;\n",
       "        }    #T_79c14fd2_7e64_11e9_9e4c_e0d55e42fdbcrow2_col1 {\n",
       "            min-width:  1600px;\n",
       "        }    #T_79c14fd2_7e64_11e9_9e4c_e0d55e42fdbcrow3_col1 {\n",
       "            min-width:  1600px;\n",
       "        }    #T_79c14fd2_7e64_11e9_9e4c_e0d55e42fdbcrow4_col1 {\n",
       "            min-width:  1600px;\n",
       "        }</style><table id=\"T_79c14fd2_7e64_11e9_9e4c_e0d55e42fdbc\" ><thead>    <tr>        <th class=\"blank level0\" ></th>        <th class=\"col_heading level0 col0\" >house_id</th>        <th class=\"col_heading level0 col1\" >ad_description</th>        <th class=\"col_heading level0 col2\" >price</th>        <th class=\"col_heading level0 col3\" >bath_num</th>        <th class=\"col_heading level0 col4\" >condition</th>        <th class=\"col_heading level0 col5\" >construct_date</th>        <th class=\"col_heading level0 col6\" >energetic_certif</th>        <th class=\"col_heading level0 col7\" >floor</th>        <th class=\"col_heading level0 col8\" >ground_size</th>        <th class=\"col_heading level0 col9\" >heating</th>        <th class=\"col_heading level0 col10\" >house_type</th>        <th class=\"col_heading level0 col11\" >m2_real</th>        <th class=\"col_heading level0 col12\" >m2_useful</th>        <th class=\"col_heading level0 col13\" >orientation</th>        <th class=\"col_heading level0 col14\" >room_num</th>        <th class=\"col_heading level0 col15\" >air_conditioner</th>        <th class=\"col_heading level0 col16\" >balcony</th>        <th class=\"col_heading level0 col17\" >built_in_wardrobe</th>        <th class=\"col_heading level0 col18\" >chimney</th>        <th class=\"col_heading level0 col19\" >garage</th>        <th class=\"col_heading level0 col20\" >garden</th>        <th class=\"col_heading level0 col21\" >lift</th>        <th class=\"col_heading level0 col22\" >reduced_mobility</th>        <th class=\"col_heading level0 col23\" >storage_room</th>        <th class=\"col_heading level0 col24\" >swimming_pool</th>        <th class=\"col_heading level0 col25\" >terrace</th>        <th class=\"col_heading level0 col26\" >loc_zone</th>        <th class=\"col_heading level0 col27\" >loc_city</th>        <th class=\"col_heading level0 col28\" >pop_total</th>        <th class=\"col_heading level0 col29\" >pop_0-19</th>        <th class=\"col_heading level0 col30\" >pop_20-64</th>        <th class=\"col_heading level0 col31\" >pop_>=65</th>        <th class=\"col_heading level0 col32\" >pop_foreign</th>        <th class=\"col_heading level0 col33\" >rent</th>        <th class=\"col_heading level0 col34\" >indoor</th>        <th class=\"col_heading level0 col35\" >floor_count</th>        <th class=\"col_heading level0 col36\" >location</th>    </tr></thead><tbody>\n",
       "                <tr>\n",
       "                        <th id=\"T_79c14fd2_7e64_11e9_9e4c_e0d55e42fdbclevel0_row0\" class=\"row_heading level0 row0\" >625</th>\n",
       "                        <td id=\"T_79c14fd2_7e64_11e9_9e4c_e0d55e42fdbcrow0_col0\" class=\"data row0 col0\" >30134584</td>\n",
       "                        <td id=\"T_79c14fd2_7e64_11e9_9e4c_e0d55e42fdbcrow0_col1\" class=\"data row0 col1\" >nan</td>\n",
       "                        <td id=\"T_79c14fd2_7e64_11e9_9e4c_e0d55e42fdbcrow0_col2\" class=\"data row0 col2\" >190000</td>\n",
       "                        <td id=\"T_79c14fd2_7e64_11e9_9e4c_e0d55e42fdbcrow0_col3\" class=\"data row0 col3\" >1</td>\n",
       "                        <td id=\"T_79c14fd2_7e64_11e9_9e4c_e0d55e42fdbcrow0_col4\" class=\"data row0 col4\" >buen estado</td>\n",
       "                        <td id=\"T_79c14fd2_7e64_11e9_9e4c_e0d55e42fdbcrow0_col5\" class=\"data row0 col5\" >nan</td>\n",
       "                        <td id=\"T_79c14fd2_7e64_11e9_9e4c_e0d55e42fdbcrow0_col6\" class=\"data row0 col6\" >no indicado</td>\n",
       "                        <td id=\"T_79c14fd2_7e64_11e9_9e4c_e0d55e42fdbcrow0_col7\" class=\"data row0 col7\" >2ª</td>\n",
       "                        <td id=\"T_79c14fd2_7e64_11e9_9e4c_e0d55e42fdbcrow0_col8\" class=\"data row0 col8\" >nan</td>\n",
       "                        <td id=\"T_79c14fd2_7e64_11e9_9e4c_e0d55e42fdbcrow0_col9\" class=\"data row0 col9\" >individual: gas propano/butano</td>\n",
       "                        <td id=\"T_79c14fd2_7e64_11e9_9e4c_e0d55e42fdbcrow0_col10\" class=\"data row0 col10\" >Estudio</td>\n",
       "                        <td id=\"T_79c14fd2_7e64_11e9_9e4c_e0d55e42fdbcrow0_col11\" class=\"data row0 col11\" >70</td>\n",
       "                        <td id=\"T_79c14fd2_7e64_11e9_9e4c_e0d55e42fdbcrow0_col12\" class=\"data row0 col12\" >60</td>\n",
       "                        <td id=\"T_79c14fd2_7e64_11e9_9e4c_e0d55e42fdbcrow0_col13\" class=\"data row0 col13\" >norte, este</td>\n",
       "                        <td id=\"T_79c14fd2_7e64_11e9_9e4c_e0d55e42fdbcrow0_col14\" class=\"data row0 col14\" >0</td>\n",
       "                        <td id=\"T_79c14fd2_7e64_11e9_9e4c_e0d55e42fdbcrow0_col15\" class=\"data row0 col15\" >False</td>\n",
       "                        <td id=\"T_79c14fd2_7e64_11e9_9e4c_e0d55e42fdbcrow0_col16\" class=\"data row0 col16\" >True</td>\n",
       "                        <td id=\"T_79c14fd2_7e64_11e9_9e4c_e0d55e42fdbcrow0_col17\" class=\"data row0 col17\" >True</td>\n",
       "                        <td id=\"T_79c14fd2_7e64_11e9_9e4c_e0d55e42fdbcrow0_col18\" class=\"data row0 col18\" >False</td>\n",
       "                        <td id=\"T_79c14fd2_7e64_11e9_9e4c_e0d55e42fdbcrow0_col19\" class=\"data row0 col19\" >nan</td>\n",
       "                        <td id=\"T_79c14fd2_7e64_11e9_9e4c_e0d55e42fdbcrow0_col20\" class=\"data row0 col20\" >False</td>\n",
       "                        <td id=\"T_79c14fd2_7e64_11e9_9e4c_e0d55e42fdbcrow0_col21\" class=\"data row0 col21\" >0</td>\n",
       "                        <td id=\"T_79c14fd2_7e64_11e9_9e4c_e0d55e42fdbcrow0_col22\" class=\"data row0 col22\" >False</td>\n",
       "                        <td id=\"T_79c14fd2_7e64_11e9_9e4c_e0d55e42fdbcrow0_col23\" class=\"data row0 col23\" >True</td>\n",
       "                        <td id=\"T_79c14fd2_7e64_11e9_9e4c_e0d55e42fdbcrow0_col24\" class=\"data row0 col24\" >False</td>\n",
       "                        <td id=\"T_79c14fd2_7e64_11e9_9e4c_e0d55e42fdbcrow0_col25\" class=\"data row0 col25\" >False</td>\n",
       "                        <td id=\"T_79c14fd2_7e64_11e9_9e4c_e0d55e42fdbcrow0_col26\" class=\"data row0 col26\" >Lea-Artibai (BIZ)</td>\n",
       "                        <td id=\"T_79c14fd2_7e64_11e9_9e4c_e0d55e42fdbcrow0_col27\" class=\"data row0 col27\" >Ondarroa</td>\n",
       "                        <td id=\"T_79c14fd2_7e64_11e9_9e4c_e0d55e42fdbcrow0_col28\" class=\"data row0 col28\" >8397</td>\n",
       "                        <td id=\"T_79c14fd2_7e64_11e9_9e4c_e0d55e42fdbcrow0_col29\" class=\"data row0 col29\" >16</td>\n",
       "                        <td id=\"T_79c14fd2_7e64_11e9_9e4c_e0d55e42fdbcrow0_col30\" class=\"data row0 col30\" >60</td>\n",
       "                        <td id=\"T_79c14fd2_7e64_11e9_9e4c_e0d55e42fdbcrow0_col31\" class=\"data row0 col31\" >24</td>\n",
       "                        <td id=\"T_79c14fd2_7e64_11e9_9e4c_e0d55e42fdbcrow0_col32\" class=\"data row0 col32\" >9.8</td>\n",
       "                        <td id=\"T_79c14fd2_7e64_11e9_9e4c_e0d55e42fdbcrow0_col33\" class=\"data row0 col33\" >17255</td>\n",
       "                        <td id=\"T_79c14fd2_7e64_11e9_9e4c_e0d55e42fdbcrow0_col34\" class=\"data row0 col34\" >False</td>\n",
       "                        <td id=\"T_79c14fd2_7e64_11e9_9e4c_e0d55e42fdbcrow0_col35\" class=\"data row0 col35\" >1</td>\n",
       "                        <td id=\"T_79c14fd2_7e64_11e9_9e4c_e0d55e42fdbcrow0_col36\" class=\"data row0 col36\" >Ondarroa</td>\n",
       "            </tr>\n",
       "            <tr>\n",
       "                        <th id=\"T_79c14fd2_7e64_11e9_9e4c_e0d55e42fdbclevel0_row1\" class=\"row_heading level0 row1\" >21625</th>\n",
       "                        <td id=\"T_79c14fd2_7e64_11e9_9e4c_e0d55e42fdbcrow1_col0\" class=\"data row1 col0\" >84933487</td>\n",
       "                        <td id=\"T_79c14fd2_7e64_11e9_9e4c_e0d55e42fdbcrow1_col1\" class=\"data row1 col1\" >Si estás buscando un despacho válido para trabajar, un txoko en Donosti, un estudio porque eres un profesional independiente o simplemente quieres tener un pied a terre,  ésta es tu oportunidad. Ven a ver este agradable loft, impecable y situado en una bonita urbanización en zona residencial del barrio de Egia. Llámanos al 943 287367 y te lo enseñaremos.</td>\n",
       "                        <td id=\"T_79c14fd2_7e64_11e9_9e4c_e0d55e42fdbcrow1_col2\" class=\"data row1 col2\" >89500</td>\n",
       "                        <td id=\"T_79c14fd2_7e64_11e9_9e4c_e0d55e42fdbcrow1_col3\" class=\"data row1 col3\" >1</td>\n",
       "                        <td id=\"T_79c14fd2_7e64_11e9_9e4c_e0d55e42fdbcrow1_col4\" class=\"data row1 col4\" >buen estado</td>\n",
       "                        <td id=\"T_79c14fd2_7e64_11e9_9e4c_e0d55e42fdbcrow1_col5\" class=\"data row1 col5\" >1990</td>\n",
       "                        <td id=\"T_79c14fd2_7e64_11e9_9e4c_e0d55e42fdbcrow1_col6\" class=\"data row1 col6\" >nan</td>\n",
       "                        <td id=\"T_79c14fd2_7e64_11e9_9e4c_e0d55e42fdbcrow1_col7\" class=\"data row1 col7\" ><0ª</td>\n",
       "                        <td id=\"T_79c14fd2_7e64_11e9_9e4c_e0d55e42fdbcrow1_col8\" class=\"data row1 col8\" >nan</td>\n",
       "                        <td id=\"T_79c14fd2_7e64_11e9_9e4c_e0d55e42fdbcrow1_col9\" class=\"data row1 col9\" >no dispone de calefacción</td>\n",
       "                        <td id=\"T_79c14fd2_7e64_11e9_9e4c_e0d55e42fdbcrow1_col10\" class=\"data row1 col10\" >Estudio</td>\n",
       "                        <td id=\"T_79c14fd2_7e64_11e9_9e4c_e0d55e42fdbcrow1_col11\" class=\"data row1 col11\" >27</td>\n",
       "                        <td id=\"T_79c14fd2_7e64_11e9_9e4c_e0d55e42fdbcrow1_col12\" class=\"data row1 col12\" >nan</td>\n",
       "                        <td id=\"T_79c14fd2_7e64_11e9_9e4c_e0d55e42fdbcrow1_col13\" class=\"data row1 col13\" >nan</td>\n",
       "                        <td id=\"T_79c14fd2_7e64_11e9_9e4c_e0d55e42fdbcrow1_col14\" class=\"data row1 col14\" >0</td>\n",
       "                        <td id=\"T_79c14fd2_7e64_11e9_9e4c_e0d55e42fdbcrow1_col15\" class=\"data row1 col15\" >False</td>\n",
       "                        <td id=\"T_79c14fd2_7e64_11e9_9e4c_e0d55e42fdbcrow1_col16\" class=\"data row1 col16\" >False</td>\n",
       "                        <td id=\"T_79c14fd2_7e64_11e9_9e4c_e0d55e42fdbcrow1_col17\" class=\"data row1 col17\" >False</td>\n",
       "                        <td id=\"T_79c14fd2_7e64_11e9_9e4c_e0d55e42fdbcrow1_col18\" class=\"data row1 col18\" >False</td>\n",
       "                        <td id=\"T_79c14fd2_7e64_11e9_9e4c_e0d55e42fdbcrow1_col19\" class=\"data row1 col19\" >nan</td>\n",
       "                        <td id=\"T_79c14fd2_7e64_11e9_9e4c_e0d55e42fdbcrow1_col20\" class=\"data row1 col20\" >False</td>\n",
       "                        <td id=\"T_79c14fd2_7e64_11e9_9e4c_e0d55e42fdbcrow1_col21\" class=\"data row1 col21\" >0</td>\n",
       "                        <td id=\"T_79c14fd2_7e64_11e9_9e4c_e0d55e42fdbcrow1_col22\" class=\"data row1 col22\" >False</td>\n",
       "                        <td id=\"T_79c14fd2_7e64_11e9_9e4c_e0d55e42fdbcrow1_col23\" class=\"data row1 col23\" >False</td>\n",
       "                        <td id=\"T_79c14fd2_7e64_11e9_9e4c_e0d55e42fdbcrow1_col24\" class=\"data row1 col24\" >False</td>\n",
       "                        <td id=\"T_79c14fd2_7e64_11e9_9e4c_e0d55e42fdbcrow1_col25\" class=\"data row1 col25\" >False</td>\n",
       "                        <td id=\"T_79c14fd2_7e64_11e9_9e4c_e0d55e42fdbcrow1_col26\" class=\"data row1 col26\" >Donostialdea (GIP)</td>\n",
       "                        <td id=\"T_79c14fd2_7e64_11e9_9e4c_e0d55e42fdbcrow1_col27\" class=\"data row1 col27\" >Donostia/San Sebastián</td>\n",
       "                        <td id=\"T_79c14fd2_7e64_11e9_9e4c_e0d55e42fdbcrow1_col28\" class=\"data row1 col28\" >186665</td>\n",
       "                        <td id=\"T_79c14fd2_7e64_11e9_9e4c_e0d55e42fdbcrow1_col29\" class=\"data row1 col29\" >17</td>\n",
       "                        <td id=\"T_79c14fd2_7e64_11e9_9e4c_e0d55e42fdbcrow1_col30\" class=\"data row1 col30\" >59</td>\n",
       "                        <td id=\"T_79c14fd2_7e64_11e9_9e4c_e0d55e42fdbcrow1_col31\" class=\"data row1 col31\" >24</td>\n",
       "                        <td id=\"T_79c14fd2_7e64_11e9_9e4c_e0d55e42fdbcrow1_col32\" class=\"data row1 col32\" >10.6</td>\n",
       "                        <td id=\"T_79c14fd2_7e64_11e9_9e4c_e0d55e42fdbcrow1_col33\" class=\"data row1 col33\" >24552</td>\n",
       "                        <td id=\"T_79c14fd2_7e64_11e9_9e4c_e0d55e42fdbcrow1_col34\" class=\"data row1 col34\" >False</td>\n",
       "                        <td id=\"T_79c14fd2_7e64_11e9_9e4c_e0d55e42fdbcrow1_col35\" class=\"data row1 col35\" >1</td>\n",
       "                        <td id=\"T_79c14fd2_7e64_11e9_9e4c_e0d55e42fdbcrow1_col36\" class=\"data row1 col36\" >Egia (Dono)</td>\n",
       "            </tr>\n",
       "            <tr>\n",
       "                        <th id=\"T_79c14fd2_7e64_11e9_9e4c_e0d55e42fdbclevel0_row2\" class=\"row_heading level0 row2\" >21603</th>\n",
       "                        <td id=\"T_79c14fd2_7e64_11e9_9e4c_e0d55e42fdbcrow2_col0\" class=\"data row2 col0\" >82244597</td>\n",
       "                        <td id=\"T_79c14fd2_7e64_11e9_9e4c_e0d55e42fdbcrow2_col1\" class=\"data row2 col1\" >Local totalmente reformado distribuido en dormitorio, salón, cocina y baño.   Exterior con ventanas de doble cristal en buen estado. A un minuto andando de Gros y Centro, junto al poli deportivo Zuhaizti.</td>\n",
       "                        <td id=\"T_79c14fd2_7e64_11e9_9e4c_e0d55e42fdbcrow2_col2\" class=\"data row2 col2\" >120000</td>\n",
       "                        <td id=\"T_79c14fd2_7e64_11e9_9e4c_e0d55e42fdbcrow2_col3\" class=\"data row2 col3\" >1</td>\n",
       "                        <td id=\"T_79c14fd2_7e64_11e9_9e4c_e0d55e42fdbcrow2_col4\" class=\"data row2 col4\" >buen estado</td>\n",
       "                        <td id=\"T_79c14fd2_7e64_11e9_9e4c_e0d55e42fdbcrow2_col5\" class=\"data row2 col5\" >1895</td>\n",
       "                        <td id=\"T_79c14fd2_7e64_11e9_9e4c_e0d55e42fdbcrow2_col6\" class=\"data row2 col6\" >nan</td>\n",
       "                        <td id=\"T_79c14fd2_7e64_11e9_9e4c_e0d55e42fdbcrow2_col7\" class=\"data row2 col7\" ><0ª</td>\n",
       "                        <td id=\"T_79c14fd2_7e64_11e9_9e4c_e0d55e42fdbcrow2_col8\" class=\"data row2 col8\" >nan</td>\n",
       "                        <td id=\"T_79c14fd2_7e64_11e9_9e4c_e0d55e42fdbcrow2_col9\" class=\"data row2 col9\" >nan</td>\n",
       "                        <td id=\"T_79c14fd2_7e64_11e9_9e4c_e0d55e42fdbcrow2_col10\" class=\"data row2 col10\" >Estudio</td>\n",
       "                        <td id=\"T_79c14fd2_7e64_11e9_9e4c_e0d55e42fdbcrow2_col11\" class=\"data row2 col11\" >50</td>\n",
       "                        <td id=\"T_79c14fd2_7e64_11e9_9e4c_e0d55e42fdbcrow2_col12\" class=\"data row2 col12\" >45</td>\n",
       "                        <td id=\"T_79c14fd2_7e64_11e9_9e4c_e0d55e42fdbcrow2_col13\" class=\"data row2 col13\" >oeste</td>\n",
       "                        <td id=\"T_79c14fd2_7e64_11e9_9e4c_e0d55e42fdbcrow2_col14\" class=\"data row2 col14\" >0</td>\n",
       "                        <td id=\"T_79c14fd2_7e64_11e9_9e4c_e0d55e42fdbcrow2_col15\" class=\"data row2 col15\" >False</td>\n",
       "                        <td id=\"T_79c14fd2_7e64_11e9_9e4c_e0d55e42fdbcrow2_col16\" class=\"data row2 col16\" >False</td>\n",
       "                        <td id=\"T_79c14fd2_7e64_11e9_9e4c_e0d55e42fdbcrow2_col17\" class=\"data row2 col17\" >False</td>\n",
       "                        <td id=\"T_79c14fd2_7e64_11e9_9e4c_e0d55e42fdbcrow2_col18\" class=\"data row2 col18\" >False</td>\n",
       "                        <td id=\"T_79c14fd2_7e64_11e9_9e4c_e0d55e42fdbcrow2_col19\" class=\"data row2 col19\" >nan</td>\n",
       "                        <td id=\"T_79c14fd2_7e64_11e9_9e4c_e0d55e42fdbcrow2_col20\" class=\"data row2 col20\" >False</td>\n",
       "                        <td id=\"T_79c14fd2_7e64_11e9_9e4c_e0d55e42fdbcrow2_col21\" class=\"data row2 col21\" >0</td>\n",
       "                        <td id=\"T_79c14fd2_7e64_11e9_9e4c_e0d55e42fdbcrow2_col22\" class=\"data row2 col22\" >False</td>\n",
       "                        <td id=\"T_79c14fd2_7e64_11e9_9e4c_e0d55e42fdbcrow2_col23\" class=\"data row2 col23\" >False</td>\n",
       "                        <td id=\"T_79c14fd2_7e64_11e9_9e4c_e0d55e42fdbcrow2_col24\" class=\"data row2 col24\" >False</td>\n",
       "                        <td id=\"T_79c14fd2_7e64_11e9_9e4c_e0d55e42fdbcrow2_col25\" class=\"data row2 col25\" >False</td>\n",
       "                        <td id=\"T_79c14fd2_7e64_11e9_9e4c_e0d55e42fdbcrow2_col26\" class=\"data row2 col26\" >Donostialdea (GIP)</td>\n",
       "                        <td id=\"T_79c14fd2_7e64_11e9_9e4c_e0d55e42fdbcrow2_col27\" class=\"data row2 col27\" >Donostia/San Sebastián</td>\n",
       "                        <td id=\"T_79c14fd2_7e64_11e9_9e4c_e0d55e42fdbcrow2_col28\" class=\"data row2 col28\" >186665</td>\n",
       "                        <td id=\"T_79c14fd2_7e64_11e9_9e4c_e0d55e42fdbcrow2_col29\" class=\"data row2 col29\" >17</td>\n",
       "                        <td id=\"T_79c14fd2_7e64_11e9_9e4c_e0d55e42fdbcrow2_col30\" class=\"data row2 col30\" >59</td>\n",
       "                        <td id=\"T_79c14fd2_7e64_11e9_9e4c_e0d55e42fdbcrow2_col31\" class=\"data row2 col31\" >24</td>\n",
       "                        <td id=\"T_79c14fd2_7e64_11e9_9e4c_e0d55e42fdbcrow2_col32\" class=\"data row2 col32\" >10.6</td>\n",
       "                        <td id=\"T_79c14fd2_7e64_11e9_9e4c_e0d55e42fdbcrow2_col33\" class=\"data row2 col33\" >24552</td>\n",
       "                        <td id=\"T_79c14fd2_7e64_11e9_9e4c_e0d55e42fdbcrow2_col34\" class=\"data row2 col34\" >False</td>\n",
       "                        <td id=\"T_79c14fd2_7e64_11e9_9e4c_e0d55e42fdbcrow2_col35\" class=\"data row2 col35\" >1</td>\n",
       "                        <td id=\"T_79c14fd2_7e64_11e9_9e4c_e0d55e42fdbcrow2_col36\" class=\"data row2 col36\" >Egia (Dono)</td>\n",
       "            </tr>\n",
       "            <tr>\n",
       "                        <th id=\"T_79c14fd2_7e64_11e9_9e4c_e0d55e42fdbclevel0_row3\" class=\"row_heading level0 row3\" >21553</th>\n",
       "                        <td id=\"T_79c14fd2_7e64_11e9_9e4c_e0d55e42fdbcrow3_col0\" class=\"data row3 col0\" >82979235</td>\n",
       "                        <td id=\"T_79c14fd2_7e64_11e9_9e4c_e0d55e42fdbcrow3_col1\" class=\"data row3 col1\" >Estudio amueblado con terraza en Donosti. Dispone de una pequeña cocina equipada y un amplio baño. Acceso directo a la terraza del inmueble.,Dispone de lavadora, frigorífico, cama nido doble y un amplio armario empotrado.,Situado en el número 64 Calle Virgen del Carmen, San Sebastian.</td>\n",
       "                        <td id=\"T_79c14fd2_7e64_11e9_9e4c_e0d55e42fdbcrow3_col2\" class=\"data row3 col2\" >150000</td>\n",
       "                        <td id=\"T_79c14fd2_7e64_11e9_9e4c_e0d55e42fdbcrow3_col3\" class=\"data row3 col3\" >1</td>\n",
       "                        <td id=\"T_79c14fd2_7e64_11e9_9e4c_e0d55e42fdbcrow3_col4\" class=\"data row3 col4\" >buen estado</td>\n",
       "                        <td id=\"T_79c14fd2_7e64_11e9_9e4c_e0d55e42fdbcrow3_col5\" class=\"data row3 col5\" >nan</td>\n",
       "                        <td id=\"T_79c14fd2_7e64_11e9_9e4c_e0d55e42fdbcrow3_col6\" class=\"data row3 col6\" >no indicado</td>\n",
       "                        <td id=\"T_79c14fd2_7e64_11e9_9e4c_e0d55e42fdbcrow3_col7\" class=\"data row3 col7\" >6ª</td>\n",
       "                        <td id=\"T_79c14fd2_7e64_11e9_9e4c_e0d55e42fdbcrow3_col8\" class=\"data row3 col8\" >nan</td>\n",
       "                        <td id=\"T_79c14fd2_7e64_11e9_9e4c_e0d55e42fdbcrow3_col9\" class=\"data row3 col9\" >nan</td>\n",
       "                        <td id=\"T_79c14fd2_7e64_11e9_9e4c_e0d55e42fdbcrow3_col10\" class=\"data row3 col10\" >Estudio</td>\n",
       "                        <td id=\"T_79c14fd2_7e64_11e9_9e4c_e0d55e42fdbcrow3_col11\" class=\"data row3 col11\" >20</td>\n",
       "                        <td id=\"T_79c14fd2_7e64_11e9_9e4c_e0d55e42fdbcrow3_col12\" class=\"data row3 col12\" >nan</td>\n",
       "                        <td id=\"T_79c14fd2_7e64_11e9_9e4c_e0d55e42fdbcrow3_col13\" class=\"data row3 col13\" >nan</td>\n",
       "                        <td id=\"T_79c14fd2_7e64_11e9_9e4c_e0d55e42fdbcrow3_col14\" class=\"data row3 col14\" >0</td>\n",
       "                        <td id=\"T_79c14fd2_7e64_11e9_9e4c_e0d55e42fdbcrow3_col15\" class=\"data row3 col15\" >False</td>\n",
       "                        <td id=\"T_79c14fd2_7e64_11e9_9e4c_e0d55e42fdbcrow3_col16\" class=\"data row3 col16\" >False</td>\n",
       "                        <td id=\"T_79c14fd2_7e64_11e9_9e4c_e0d55e42fdbcrow3_col17\" class=\"data row3 col17\" >True</td>\n",
       "                        <td id=\"T_79c14fd2_7e64_11e9_9e4c_e0d55e42fdbcrow3_col18\" class=\"data row3 col18\" >False</td>\n",
       "                        <td id=\"T_79c14fd2_7e64_11e9_9e4c_e0d55e42fdbcrow3_col19\" class=\"data row3 col19\" >nan</td>\n",
       "                        <td id=\"T_79c14fd2_7e64_11e9_9e4c_e0d55e42fdbcrow3_col20\" class=\"data row3 col20\" >False</td>\n",
       "                        <td id=\"T_79c14fd2_7e64_11e9_9e4c_e0d55e42fdbcrow3_col21\" class=\"data row3 col21\" >1</td>\n",
       "                        <td id=\"T_79c14fd2_7e64_11e9_9e4c_e0d55e42fdbcrow3_col22\" class=\"data row3 col22\" >False</td>\n",
       "                        <td id=\"T_79c14fd2_7e64_11e9_9e4c_e0d55e42fdbcrow3_col23\" class=\"data row3 col23\" >False</td>\n",
       "                        <td id=\"T_79c14fd2_7e64_11e9_9e4c_e0d55e42fdbcrow3_col24\" class=\"data row3 col24\" >False</td>\n",
       "                        <td id=\"T_79c14fd2_7e64_11e9_9e4c_e0d55e42fdbcrow3_col25\" class=\"data row3 col25\" >True</td>\n",
       "                        <td id=\"T_79c14fd2_7e64_11e9_9e4c_e0d55e42fdbcrow3_col26\" class=\"data row3 col26\" >Donostialdea (GIP)</td>\n",
       "                        <td id=\"T_79c14fd2_7e64_11e9_9e4c_e0d55e42fdbcrow3_col27\" class=\"data row3 col27\" >Donostia/San Sebastián</td>\n",
       "                        <td id=\"T_79c14fd2_7e64_11e9_9e4c_e0d55e42fdbcrow3_col28\" class=\"data row3 col28\" >186665</td>\n",
       "                        <td id=\"T_79c14fd2_7e64_11e9_9e4c_e0d55e42fdbcrow3_col29\" class=\"data row3 col29\" >17</td>\n",
       "                        <td id=\"T_79c14fd2_7e64_11e9_9e4c_e0d55e42fdbcrow3_col30\" class=\"data row3 col30\" >59</td>\n",
       "                        <td id=\"T_79c14fd2_7e64_11e9_9e4c_e0d55e42fdbcrow3_col31\" class=\"data row3 col31\" >24</td>\n",
       "                        <td id=\"T_79c14fd2_7e64_11e9_9e4c_e0d55e42fdbcrow3_col32\" class=\"data row3 col32\" >10.6</td>\n",
       "                        <td id=\"T_79c14fd2_7e64_11e9_9e4c_e0d55e42fdbcrow3_col33\" class=\"data row3 col33\" >24552</td>\n",
       "                        <td id=\"T_79c14fd2_7e64_11e9_9e4c_e0d55e42fdbcrow3_col34\" class=\"data row3 col34\" >False</td>\n",
       "                        <td id=\"T_79c14fd2_7e64_11e9_9e4c_e0d55e42fdbcrow3_col35\" class=\"data row3 col35\" >1</td>\n",
       "                        <td id=\"T_79c14fd2_7e64_11e9_9e4c_e0d55e42fdbcrow3_col36\" class=\"data row3 col36\" >Egia (Dono)</td>\n",
       "            </tr>\n",
       "            <tr>\n",
       "                        <th id=\"T_79c14fd2_7e64_11e9_9e4c_e0d55e42fdbclevel0_row4\" class=\"row_heading level0 row4\" >21421</th>\n",
       "                        <td id=\"T_79c14fd2_7e64_11e9_9e4c_e0d55e42fdbcrow4_col0\" class=\"data row4 col0\" >82028987</td>\n",
       "                        <td id=\"T_79c14fd2_7e64_11e9_9e4c_e0d55e42fdbcrow4_col1\" class=\"data row4 col1\" >Loft sin permiso de habitabilidad en el centro de Gros con entrada directa desde calle a un pequeño portal donde se encuentran 2 Loft. Espacio diáfano de sala-comedor-cocina equipada con entrada directa más ventana a calle Corta (muy luminoso). Baño con plato de ducha y habitación independiente con gran armario. Todo Eléctrico. Suelo de tarima recién puesto. IDEAL COMO ESTUDIO, DESPACHO, SEGUNDA RESIDENCIA... VACACIONES...! URGE VENDER! AMUEBLADO!  .</td>\n",
       "                        <td id=\"T_79c14fd2_7e64_11e9_9e4c_e0d55e42fdbcrow4_col2\" class=\"data row4 col2\" >157000</td>\n",
       "                        <td id=\"T_79c14fd2_7e64_11e9_9e4c_e0d55e42fdbcrow4_col3\" class=\"data row4 col3\" >1</td>\n",
       "                        <td id=\"T_79c14fd2_7e64_11e9_9e4c_e0d55e42fdbcrow4_col4\" class=\"data row4 col4\" >buen estado</td>\n",
       "                        <td id=\"T_79c14fd2_7e64_11e9_9e4c_e0d55e42fdbcrow4_col5\" class=\"data row4 col5\" >nan</td>\n",
       "                        <td id=\"T_79c14fd2_7e64_11e9_9e4c_e0d55e42fdbcrow4_col6\" class=\"data row4 col6\" >nan</td>\n",
       "                        <td id=\"T_79c14fd2_7e64_11e9_9e4c_e0d55e42fdbcrow4_col7\" class=\"data row4 col7\" ><0ª</td>\n",
       "                        <td id=\"T_79c14fd2_7e64_11e9_9e4c_e0d55e42fdbcrow4_col8\" class=\"data row4 col8\" >nan</td>\n",
       "                        <td id=\"T_79c14fd2_7e64_11e9_9e4c_e0d55e42fdbcrow4_col9\" class=\"data row4 col9\" >nan</td>\n",
       "                        <td id=\"T_79c14fd2_7e64_11e9_9e4c_e0d55e42fdbcrow4_col10\" class=\"data row4 col10\" >Estudio</td>\n",
       "                        <td id=\"T_79c14fd2_7e64_11e9_9e4c_e0d55e42fdbcrow4_col11\" class=\"data row4 col11\" >30</td>\n",
       "                        <td id=\"T_79c14fd2_7e64_11e9_9e4c_e0d55e42fdbcrow4_col12\" class=\"data row4 col12\" >28</td>\n",
       "                        <td id=\"T_79c14fd2_7e64_11e9_9e4c_e0d55e42fdbcrow4_col13\" class=\"data row4 col13\" >nan</td>\n",
       "                        <td id=\"T_79c14fd2_7e64_11e9_9e4c_e0d55e42fdbcrow4_col14\" class=\"data row4 col14\" >0</td>\n",
       "                        <td id=\"T_79c14fd2_7e64_11e9_9e4c_e0d55e42fdbcrow4_col15\" class=\"data row4 col15\" >False</td>\n",
       "                        <td id=\"T_79c14fd2_7e64_11e9_9e4c_e0d55e42fdbcrow4_col16\" class=\"data row4 col16\" >False</td>\n",
       "                        <td id=\"T_79c14fd2_7e64_11e9_9e4c_e0d55e42fdbcrow4_col17\" class=\"data row4 col17\" >False</td>\n",
       "                        <td id=\"T_79c14fd2_7e64_11e9_9e4c_e0d55e42fdbcrow4_col18\" class=\"data row4 col18\" >False</td>\n",
       "                        <td id=\"T_79c14fd2_7e64_11e9_9e4c_e0d55e42fdbcrow4_col19\" class=\"data row4 col19\" >nan</td>\n",
       "                        <td id=\"T_79c14fd2_7e64_11e9_9e4c_e0d55e42fdbcrow4_col20\" class=\"data row4 col20\" >False</td>\n",
       "                        <td id=\"T_79c14fd2_7e64_11e9_9e4c_e0d55e42fdbcrow4_col21\" class=\"data row4 col21\" >0</td>\n",
       "                        <td id=\"T_79c14fd2_7e64_11e9_9e4c_e0d55e42fdbcrow4_col22\" class=\"data row4 col22\" >False</td>\n",
       "                        <td id=\"T_79c14fd2_7e64_11e9_9e4c_e0d55e42fdbcrow4_col23\" class=\"data row4 col23\" >False</td>\n",
       "                        <td id=\"T_79c14fd2_7e64_11e9_9e4c_e0d55e42fdbcrow4_col24\" class=\"data row4 col24\" >False</td>\n",
       "                        <td id=\"T_79c14fd2_7e64_11e9_9e4c_e0d55e42fdbcrow4_col25\" class=\"data row4 col25\" >False</td>\n",
       "                        <td id=\"T_79c14fd2_7e64_11e9_9e4c_e0d55e42fdbcrow4_col26\" class=\"data row4 col26\" >Donostialdea (GIP)</td>\n",
       "                        <td id=\"T_79c14fd2_7e64_11e9_9e4c_e0d55e42fdbcrow4_col27\" class=\"data row4 col27\" >Donostia/San Sebastián</td>\n",
       "                        <td id=\"T_79c14fd2_7e64_11e9_9e4c_e0d55e42fdbcrow4_col28\" class=\"data row4 col28\" >186665</td>\n",
       "                        <td id=\"T_79c14fd2_7e64_11e9_9e4c_e0d55e42fdbcrow4_col29\" class=\"data row4 col29\" >17</td>\n",
       "                        <td id=\"T_79c14fd2_7e64_11e9_9e4c_e0d55e42fdbcrow4_col30\" class=\"data row4 col30\" >59</td>\n",
       "                        <td id=\"T_79c14fd2_7e64_11e9_9e4c_e0d55e42fdbcrow4_col31\" class=\"data row4 col31\" >24</td>\n",
       "                        <td id=\"T_79c14fd2_7e64_11e9_9e4c_e0d55e42fdbcrow4_col32\" class=\"data row4 col32\" >10.6</td>\n",
       "                        <td id=\"T_79c14fd2_7e64_11e9_9e4c_e0d55e42fdbcrow4_col33\" class=\"data row4 col33\" >24552</td>\n",
       "                        <td id=\"T_79c14fd2_7e64_11e9_9e4c_e0d55e42fdbcrow4_col34\" class=\"data row4 col34\" >False</td>\n",
       "                        <td id=\"T_79c14fd2_7e64_11e9_9e4c_e0d55e42fdbcrow4_col35\" class=\"data row4 col35\" >1</td>\n",
       "                        <td id=\"T_79c14fd2_7e64_11e9_9e4c_e0d55e42fdbcrow4_col36\" class=\"data row4 col36\" >Gros (Dono)</td>\n",
       "            </tr>\n",
       "    </tbody></table>"
      ],
      "text/plain": [
       "<pandas.io.formats.style.Styler at 0x13d37cb0c88>"
      ]
     },
     "execution_count": 78,
     "metadata": {},
     "output_type": "execute_result"
    }
   ],
   "source": [
    "(df\n",
    " .query('room_num == 0 & condition!=\"para reformar\"')\n",
    " .sort_values('room_num', ascending=False)[:5]\n",
    " .style.set_properties(subset=['ad_description'], **{'min-width': '1600px'})\n",
    ")"
   ]
  },
  {
   "cell_type": "markdown",
   "metadata": {},
   "source": [
    "Vemos que hay 5 viviendas sin habitaciones que no son para reformar. Sin embargo, corresponden a estudios, lo cual también tiene sentido, así que se mantienen. "
   ]
  },
  {
   "cell_type": "markdown",
   "metadata": {},
   "source": [
    "## Ruido y outliers en variables cateógricas"
   ]
  },
  {
   "cell_type": "markdown",
   "metadata": {},
   "source": [
    "### <font color=#5F66A1>floor</font>"
   ]
  },
  {
   "cell_type": "code",
   "execution_count": 79,
   "metadata": {
    "ExecuteTime": {
     "end_time": "2019-05-22T14:51:25.294686Z",
     "start_time": "2019-05-22T14:51:25.162652Z"
    },
    "pycharm": {
     "name": "#%%\n"
    }
   },
   "outputs": [
    {
     "data": {
      "image/png": "[encoded data removed]",
      "text/plain": [
       "<Figure size 720x216 with 1 Axes>"
      ]
     },
     "metadata": {
      "needs_background": "light"
     },
     "output_type": "display_data"
    }
   ],
   "source": [
    "f, axes = plt.subplots(1, 1, figsize=(10, 3), sharex=True)\n",
    "sns.despine(left=True)\n",
    "\n",
    "(df\n",
    " .loc[:,'floor']\n",
    " .dropna()\n",
    " .pipe(sns.countplot, color=clr['pr'], alpha=0.7\n",
    "       , order=['<0ª','1ª','2ª','3ª','4ª','5ª','6ª','7ª','>8ª']))\n",
    "\n",
    "plt.setp(axes, yticks=[])\n",
    "plt.tight_layout()"
   ]
  },
  {
   "cell_type": "markdown",
   "metadata": {},
   "source": [
    "Vemos que la distribución de las plantas de las viviendas se ajusta a valores plausibles, por lo que las dejamos tal cual."
   ]
  },
  {
   "cell_type": "markdown",
   "metadata": {},
   "source": [
    "# Gestión de datos incompletos"
   ]
  },
  {
   "cell_type": "markdown",
   "metadata": {},
   "source": [
    "En este apartado gestionaremos los valores vacíos que aún presenta el conjunto de datos."
   ]
  },
  {
   "cell_type": "markdown",
   "metadata": {},
   "source": [
    "## Estudio general de *missing values*"
   ]
  },
  {
   "cell_type": "markdown",
   "metadata": {},
   "source": [
    "Empezamos analizando cómo estan repartidos nuestros *missing values*:"
   ]
  },
  {
   "cell_type": "code",
   "execution_count": 80,
   "metadata": {
    "ExecuteTime": {
     "end_time": "2019-05-22T14:51:25.432688Z",
     "start_time": "2019-05-22T14:51:25.296687Z"
    },
    "pycharm": {
     "name": "#%%\n"
    }
   },
   "outputs": [
    {
     "name": "stdout",
     "output_type": "stream",
     "text": [
      "Column:ad_description ## Per: 3.38% ## Type: object\n",
      "Column:condition ## Per: 8.61% ## Type: category\n",
      "Column:construct_date ## Per: 68.71% ## Type: float64\n",
      "Column:energetic_certif ## Per: 23.49% ## Type: category\n",
      "Column:floor ## Per: 17.93% ## Type: object\n",
      "Column:ground_size ## Per: 92.62% ## Type: float64\n",
      "Column:heating ## Per: 61.36% ## Type: category\n",
      "Column:m2_useful ## Per: 38.52% ## Type: float64\n",
      "Column:orientation ## Per: 56.85% ## Type: category\n",
      "Column:garage ## Per: 71.06% ## Type: float64\n",
      "Column:lift ## Per: 17.15% ## Type: category\n",
      "Column:indoor ## Per: 8.38% ## Type: category\n",
      "Column:floor_count ## Per: 8.38% ## Type: float64\n"
     ]
    }
   ],
   "source": [
    "n_records = len(df)\n",
    "def null_value(df):\n",
    "    for column in df:\n",
    "        if len(df[df[column].isnull()]) / (1.0*n_records) > 0.01:\n",
    "            print(\"Column:{} ## Per: {}% ## Type: {}\".format(\n",
    "                                    df[column].name, \n",
    "                                    round((len(df[df[column].isnull()]) / (n_records)) * 100, 2), \n",
    "                                    df[column].dtype\n",
    "        ))\n",
    "\n",
    "null_value(df)"
   ]
  },
  {
   "cell_type": "markdown",
   "metadata": {},
   "source": [
    "Vemos que hay muchas variables con *missing values*, algunas incluso con más del 50% de sus valores. Trataremos todas, excepto la descripción de los anuncios, ya que solo la usaremos como ayuda en la fase exploratoria."
   ]
  },
  {
   "cell_type": "markdown",
   "metadata": {},
   "source": [
    "### condition"
   ]
  },
  {
   "cell_type": "code",
   "execution_count": 81,
   "metadata": {
    "ExecuteTime": {
     "end_time": "2019-05-22T14:51:25.440690Z",
     "start_time": "2019-05-22T14:51:25.433688Z"
    }
   },
   "outputs": [
    {
     "data": {
      "text/plain": [
       "[buen estado, para reformar, NaN, obra nueva]\n",
       "Categories (3, object): [buen estado, para reformar, obra nueva]"
      ]
     },
     "execution_count": 81,
     "metadata": {},
     "output_type": "execute_result"
    }
   ],
   "source": [
    "df[\"condition\"].unique()"
   ]
  },
  {
   "cell_type": "code",
   "execution_count": 82,
   "metadata": {
    "ExecuteTime": {
     "end_time": "2019-05-22T14:51:25.480692Z",
     "start_time": "2019-05-22T14:51:25.442687Z"
    }
   },
   "outputs": [
    {
     "data": {
      "text/html": [
       "<div>\n",
       "<style scoped>\n",
       "    .dataframe tbody tr th:only-of-type {\n",
       "        vertical-align: middle;\n",
       "    }\n",
       "\n",
       "    .dataframe tbody tr th {\n",
       "        vertical-align: top;\n",
       "    }\n",
       "\n",
       "    .dataframe thead th {\n",
       "        text-align: right;\n",
       "    }\n",
       "</style>\n",
       "<table border=\"1\" class=\"dataframe\">\n",
       "  <thead>\n",
       "    <tr style=\"text-align: right;\">\n",
       "      <th></th>\n",
       "      <th>house_id</th>\n",
       "      <th>ad_description</th>\n",
       "      <th>price</th>\n",
       "      <th>bath_num</th>\n",
       "      <th>condition</th>\n",
       "      <th>construct_date</th>\n",
       "      <th>energetic_certif</th>\n",
       "      <th>floor</th>\n",
       "      <th>ground_size</th>\n",
       "      <th>heating</th>\n",
       "      <th>house_type</th>\n",
       "      <th>m2_real</th>\n",
       "      <th>m2_useful</th>\n",
       "      <th>orientation</th>\n",
       "      <th>room_num</th>\n",
       "      <th>air_conditioner</th>\n",
       "      <th>balcony</th>\n",
       "      <th>built_in_wardrobe</th>\n",
       "      <th>chimney</th>\n",
       "      <th>garage</th>\n",
       "      <th>garden</th>\n",
       "      <th>lift</th>\n",
       "      <th>reduced_mobility</th>\n",
       "      <th>storage_room</th>\n",
       "      <th>swimming_pool</th>\n",
       "      <th>terrace</th>\n",
       "      <th>loc_zone</th>\n",
       "      <th>loc_city</th>\n",
       "      <th>pop_total</th>\n",
       "      <th>pop_0-19</th>\n",
       "      <th>pop_20-64</th>\n",
       "      <th>pop_&gt;=65</th>\n",
       "      <th>pop_foreign</th>\n",
       "      <th>rent</th>\n",
       "      <th>indoor</th>\n",
       "      <th>floor_count</th>\n",
       "      <th>location</th>\n",
       "    </tr>\n",
       "  </thead>\n",
       "  <tbody>\n",
       "    <tr>\n",
       "      <th>38</th>\n",
       "      <td>31719519</td>\n",
       "      <td>Piso que está distribuido en salón-comedor, co...</td>\n",
       "      <td>34900</td>\n",
       "      <td>1</td>\n",
       "      <td>NaN</td>\n",
       "      <td>NaN</td>\n",
       "      <td>no indicado</td>\n",
       "      <td>&lt;0ª</td>\n",
       "      <td>NaN</td>\n",
       "      <td>NaN</td>\n",
       "      <td>Piso</td>\n",
       "      <td>84</td>\n",
       "      <td>61.0</td>\n",
       "      <td>NaN</td>\n",
       "      <td>3</td>\n",
       "      <td>False</td>\n",
       "      <td>False</td>\n",
       "      <td>False</td>\n",
       "      <td>False</td>\n",
       "      <td>NaN</td>\n",
       "      <td>False</td>\n",
       "      <td>0.0</td>\n",
       "      <td>False</td>\n",
       "      <td>False</td>\n",
       "      <td>False</td>\n",
       "      <td>False</td>\n",
       "      <td>Encartaciones (BIZ)</td>\n",
       "      <td>Zalla</td>\n",
       "      <td>8379</td>\n",
       "      <td>19</td>\n",
       "      <td>62</td>\n",
       "      <td>19</td>\n",
       "      <td>9.0</td>\n",
       "      <td>17391</td>\n",
       "      <td>False</td>\n",
       "      <td>1.0</td>\n",
       "      <td>Zalla</td>\n",
       "    </tr>\n",
       "    <tr>\n",
       "      <th>39</th>\n",
       "      <td>31768181</td>\n",
       "      <td>Piso de 3 dormitorios, cocina equipada, salón,...</td>\n",
       "      <td>99000</td>\n",
       "      <td>2</td>\n",
       "      <td>NaN</td>\n",
       "      <td>NaN</td>\n",
       "      <td>NaN</td>\n",
       "      <td>1ª</td>\n",
       "      <td>NaN</td>\n",
       "      <td>NaN</td>\n",
       "      <td>Piso</td>\n",
       "      <td>80</td>\n",
       "      <td>NaN</td>\n",
       "      <td>NaN</td>\n",
       "      <td>3</td>\n",
       "      <td>False</td>\n",
       "      <td>False</td>\n",
       "      <td>False</td>\n",
       "      <td>False</td>\n",
       "      <td>NaN</td>\n",
       "      <td>False</td>\n",
       "      <td>0.0</td>\n",
       "      <td>False</td>\n",
       "      <td>False</td>\n",
       "      <td>False</td>\n",
       "      <td>True</td>\n",
       "      <td>Encartaciones (BIZ)</td>\n",
       "      <td>Sopuerta</td>\n",
       "      <td>2569</td>\n",
       "      <td>17</td>\n",
       "      <td>60</td>\n",
       "      <td>23</td>\n",
       "      <td>4.7</td>\n",
       "      <td>18100</td>\n",
       "      <td>False</td>\n",
       "      <td>1.0</td>\n",
       "      <td>Sopuerta</td>\n",
       "    </tr>\n",
       "    <tr>\n",
       "      <th>40</th>\n",
       "      <td>31823482</td>\n",
       "      <td>Impecable chalet bifamiliar. 3 habitaciones, s...</td>\n",
       "      <td>369000</td>\n",
       "      <td>2</td>\n",
       "      <td>NaN</td>\n",
       "      <td>NaN</td>\n",
       "      <td>en trámite</td>\n",
       "      <td>NaN</td>\n",
       "      <td>NaN</td>\n",
       "      <td>NaN</td>\n",
       "      <td>Casa o chalet</td>\n",
       "      <td>177</td>\n",
       "      <td>NaN</td>\n",
       "      <td>NaN</td>\n",
       "      <td>3</td>\n",
       "      <td>False</td>\n",
       "      <td>False</td>\n",
       "      <td>False</td>\n",
       "      <td>False</td>\n",
       "      <td>NaN</td>\n",
       "      <td>True</td>\n",
       "      <td>NaN</td>\n",
       "      <td>False</td>\n",
       "      <td>False</td>\n",
       "      <td>False</td>\n",
       "      <td>True</td>\n",
       "      <td>Encartaciones (BIZ)</td>\n",
       "      <td>Gordexola</td>\n",
       "      <td>1686</td>\n",
       "      <td>18</td>\n",
       "      <td>61</td>\n",
       "      <td>21</td>\n",
       "      <td>6.4</td>\n",
       "      <td>21356</td>\n",
       "      <td>NaN</td>\n",
       "      <td>NaN</td>\n",
       "      <td>Gordexola</td>\n",
       "    </tr>\n",
       "    <tr>\n",
       "      <th>50</th>\n",
       "      <td>33790492</td>\n",
       "      <td>En Zalla! Vivienda adosada de tres plantas., ,...</td>\n",
       "      <td>192600</td>\n",
       "      <td>2</td>\n",
       "      <td>NaN</td>\n",
       "      <td>NaN</td>\n",
       "      <td>inmueble exento</td>\n",
       "      <td>NaN</td>\n",
       "      <td>NaN</td>\n",
       "      <td>NaN</td>\n",
       "      <td>Casa o chalet</td>\n",
       "      <td>320</td>\n",
       "      <td>NaN</td>\n",
       "      <td>NaN</td>\n",
       "      <td>3</td>\n",
       "      <td>False</td>\n",
       "      <td>False</td>\n",
       "      <td>False</td>\n",
       "      <td>False</td>\n",
       "      <td>NaN</td>\n",
       "      <td>True</td>\n",
       "      <td>NaN</td>\n",
       "      <td>False</td>\n",
       "      <td>False</td>\n",
       "      <td>False</td>\n",
       "      <td>False</td>\n",
       "      <td>Encartaciones (BIZ)</td>\n",
       "      <td>Zalla</td>\n",
       "      <td>8379</td>\n",
       "      <td>19</td>\n",
       "      <td>62</td>\n",
       "      <td>19</td>\n",
       "      <td>9.0</td>\n",
       "      <td>17391</td>\n",
       "      <td>NaN</td>\n",
       "      <td>NaN</td>\n",
       "      <td>Zalla</td>\n",
       "    </tr>\n",
       "    <tr>\n",
       "      <th>60</th>\n",
       "      <td>37110580</td>\n",
       "      <td>casa unifamiliar adosada de piedra,planta baja...</td>\n",
       "      <td>30800</td>\n",
       "      <td>1</td>\n",
       "      <td>NaN</td>\n",
       "      <td>NaN</td>\n",
       "      <td>NaN</td>\n",
       "      <td>NaN</td>\n",
       "      <td>NaN</td>\n",
       "      <td>NaN</td>\n",
       "      <td>Casa o chalet</td>\n",
       "      <td>190</td>\n",
       "      <td>NaN</td>\n",
       "      <td>NaN</td>\n",
       "      <td>2</td>\n",
       "      <td>False</td>\n",
       "      <td>False</td>\n",
       "      <td>False</td>\n",
       "      <td>False</td>\n",
       "      <td>NaN</td>\n",
       "      <td>False</td>\n",
       "      <td>NaN</td>\n",
       "      <td>False</td>\n",
       "      <td>False</td>\n",
       "      <td>False</td>\n",
       "      <td>False</td>\n",
       "      <td>Encartaciones (BIZ)</td>\n",
       "      <td>Karrantza Harana/Valle de Carranza</td>\n",
       "      <td>2715</td>\n",
       "      <td>14</td>\n",
       "      <td>59</td>\n",
       "      <td>28</td>\n",
       "      <td>4.6</td>\n",
       "      <td>13431</td>\n",
       "      <td>NaN</td>\n",
       "      <td>NaN</td>\n",
       "      <td>Karrantza Harana/Valle de Carranza</td>\n",
       "    </tr>\n",
       "  </tbody>\n",
       "</table>\n",
       "</div>"
      ],
      "text/plain": [
       "    house_id                                     ad_description   price  \\\n",
       "38  31719519  Piso que está distribuido en salón-comedor, co...   34900   \n",
       "39  31768181  Piso de 3 dormitorios, cocina equipada, salón,...   99000   \n",
       "40  31823482  Impecable chalet bifamiliar. 3 habitaciones, s...  369000   \n",
       "50  33790492  En Zalla! Vivienda adosada de tres plantas., ,...  192600   \n",
       "60  37110580  casa unifamiliar adosada de piedra,planta baja...   30800   \n",
       "\n",
       "    bath_num condition  construct_date energetic_certif floor  ground_size  \\\n",
       "38         1       NaN             NaN      no indicado   <0ª          NaN   \n",
       "39         2       NaN             NaN              NaN    1ª          NaN   \n",
       "40         2       NaN             NaN       en trámite   NaN          NaN   \n",
       "50         2       NaN             NaN  inmueble exento   NaN          NaN   \n",
       "60         1       NaN             NaN              NaN   NaN          NaN   \n",
       "\n",
       "   heating     house_type  m2_real  m2_useful orientation  room_num  \\\n",
       "38     NaN           Piso       84       61.0         NaN         3   \n",
       "39     NaN           Piso       80        NaN         NaN         3   \n",
       "40     NaN  Casa o chalet      177        NaN         NaN         3   \n",
       "50     NaN  Casa o chalet      320        NaN         NaN         3   \n",
       "60     NaN  Casa o chalet      190        NaN         NaN         2   \n",
       "\n",
       "    air_conditioner  balcony  built_in_wardrobe  chimney  garage  garden lift  \\\n",
       "38            False    False              False    False     NaN   False  0.0   \n",
       "39            False    False              False    False     NaN   False  0.0   \n",
       "40            False    False              False    False     NaN    True  NaN   \n",
       "50            False    False              False    False     NaN    True  NaN   \n",
       "60            False    False              False    False     NaN   False  NaN   \n",
       "\n",
       "    reduced_mobility  storage_room  swimming_pool  terrace  \\\n",
       "38             False         False          False    False   \n",
       "39             False         False          False     True   \n",
       "40             False         False          False     True   \n",
       "50             False         False          False    False   \n",
       "60             False         False          False    False   \n",
       "\n",
       "               loc_zone                            loc_city  pop_total  \\\n",
       "38  Encartaciones (BIZ)                               Zalla       8379   \n",
       "39  Encartaciones (BIZ)                            Sopuerta       2569   \n",
       "40  Encartaciones (BIZ)                           Gordexola       1686   \n",
       "50  Encartaciones (BIZ)                               Zalla       8379   \n",
       "60  Encartaciones (BIZ)  Karrantza Harana/Valle de Carranza       2715   \n",
       "\n",
       "    pop_0-19  pop_20-64  pop_>=65  pop_foreign   rent indoor  floor_count  \\\n",
       "38        19         62        19          9.0  17391  False          1.0   \n",
       "39        17         60        23          4.7  18100  False          1.0   \n",
       "40        18         61        21          6.4  21356    NaN          NaN   \n",
       "50        19         62        19          9.0  17391    NaN          NaN   \n",
       "60        14         59        28          4.6  13431    NaN          NaN   \n",
       "\n",
       "                              location  \n",
       "38                               Zalla  \n",
       "39                            Sopuerta  \n",
       "40                           Gordexola  \n",
       "50                               Zalla  \n",
       "60  Karrantza Harana/Valle de Carranza  "
      ]
     },
     "execution_count": 82,
     "metadata": {},
     "output_type": "execute_result"
    }
   ],
   "source": [
    "df[df['condition'].isnull()].head(5)"
   ]
  },
  {
   "cell_type": "markdown",
   "metadata": {},
   "source": [
    "Haciendo una pequeña exploracion sobre los datos que contienen el condition a null podemos ver que son ventas correctas asi que asumimos que se han olvidado o no lo quieren especificar. Podemos optar por usar la moda de la variable o asignar una nueva condicion: \"no especificado\""
   ]
  },
  {
   "cell_type": "code",
   "execution_count": 83,
   "metadata": {
    "ExecuteTime": {
     "end_time": "2019-05-22T14:51:25.485693Z",
     "start_time": "2019-05-22T14:51:25.481691Z"
    }
   },
   "outputs": [],
   "source": [
    "import scipy.stats as stats"
   ]
  },
  {
   "cell_type": "code",
   "execution_count": 84,
   "metadata": {
    "ExecuteTime": {
     "end_time": "2019-05-22T14:51:25.495698Z",
     "start_time": "2019-05-22T14:51:25.487689Z"
    }
   },
   "outputs": [
    {
     "data": {
      "text/plain": [
       "0    buen estado\n",
       "Name: condition, dtype: category\n",
       "Categories (3, object): [buen estado, obra nueva, para reformar]"
      ]
     },
     "execution_count": 84,
     "metadata": {},
     "output_type": "execute_result"
    }
   ],
   "source": [
    "df['condition'].mode()"
   ]
  },
  {
   "cell_type": "markdown",
   "metadata": {},
   "source": [
    "Vamos a asumir que la gente cuendo vende sus casas estan en buen estado y vamos a asignar la moda a los valores inexistentes"
   ]
  },
  {
   "cell_type": "code",
   "execution_count": 85,
   "metadata": {
    "ExecuteTime": {
     "end_time": "2019-05-22T14:51:25.555693Z",
     "start_time": "2019-05-22T14:51:25.497688Z"
    }
   },
   "outputs": [],
   "source": [
    "mask = df['condition'].isnull()\n",
    "df.loc[mask, 'condition'] = 'buen estado'"
   ]
  },
  {
   "cell_type": "code",
   "execution_count": 86,
   "metadata": {
    "ExecuteTime": {
     "end_time": "2019-05-22T14:52:02.529644Z",
     "start_time": "2019-05-22T14:52:02.521628Z"
    }
   },
   "outputs": [
    {
     "data": {
      "text/plain": [
       "(0, 37)"
      ]
     },
     "execution_count": 86,
     "metadata": {},
     "output_type": "execute_result"
    }
   ],
   "source": [
    "df[df['condition'].isnull()].shape"
   ]
  },
  {
   "cell_type": "markdown",
   "metadata": {},
   "source": [
    "### construct_date "
   ]
  },
  {
   "cell_type": "markdown",
   "metadata": {
    "ExecuteTime": {
     "end_time": "2019-05-22T14:56:02.037617Z",
     "start_time": "2019-05-22T14:56:01.972629Z"
    }
   },
   "source": [
    "La variable <font color=#5F66A1>__construct_date__</font>, debido a que casi un 70% de las viviendas no incluye esta información, se descartarla:"
   ]
  },
  {
   "cell_type": "code",
   "execution_count": 87,
   "metadata": {
    "ExecuteTime": {
     "end_time": "2019-05-22T14:57:22.169719Z",
     "start_time": "2019-05-22T14:57:22.142705Z"
    }
   },
   "outputs": [],
   "source": [
    "df = df.drop(columns='construct_date')"
   ]
  },
  {
   "cell_type": "markdown",
   "metadata": {},
   "source": [
    "### energetic_certif"
   ]
  },
  {
   "cell_type": "code",
   "execution_count": 88,
   "metadata": {},
   "outputs": [
    {
     "data": {
      "text/plain": [
       "[en trámite, no indicado, NaN, inmueble exento]\n",
       "Categories (3, object): [en trámite, no indicado, inmueble exento]"
      ]
     },
     "execution_count": 88,
     "metadata": {},
     "output_type": "execute_result"
    }
   ],
   "source": [
    "df[\"energetic_certif\"].unique()"
   ]
  },
  {
   "cell_type": "markdown",
   "metadata": {},
   "source": [
    "Estamos de nuevo ante otra variable categorica"
   ]
  },
  {
   "cell_type": "code",
   "execution_count": 89,
   "metadata": {},
   "outputs": [
    {
     "data": {
      "text/html": [
       "<div>\n",
       "<style scoped>\n",
       "    .dataframe tbody tr th:only-of-type {\n",
       "        vertical-align: middle;\n",
       "    }\n",
       "\n",
       "    .dataframe tbody tr th {\n",
       "        vertical-align: top;\n",
       "    }\n",
       "\n",
       "    .dataframe thead th {\n",
       "        text-align: right;\n",
       "    }\n",
       "</style>\n",
       "<table border=\"1\" class=\"dataframe\">\n",
       "  <thead>\n",
       "    <tr style=\"text-align: right;\">\n",
       "      <th></th>\n",
       "      <th>house_id</th>\n",
       "      <th>ad_description</th>\n",
       "      <th>price</th>\n",
       "      <th>bath_num</th>\n",
       "      <th>condition</th>\n",
       "      <th>energetic_certif</th>\n",
       "      <th>floor</th>\n",
       "      <th>ground_size</th>\n",
       "      <th>heating</th>\n",
       "      <th>house_type</th>\n",
       "      <th>m2_real</th>\n",
       "      <th>m2_useful</th>\n",
       "      <th>orientation</th>\n",
       "      <th>room_num</th>\n",
       "      <th>air_conditioner</th>\n",
       "      <th>balcony</th>\n",
       "      <th>built_in_wardrobe</th>\n",
       "      <th>chimney</th>\n",
       "      <th>garage</th>\n",
       "      <th>garden</th>\n",
       "      <th>lift</th>\n",
       "      <th>reduced_mobility</th>\n",
       "      <th>storage_room</th>\n",
       "      <th>swimming_pool</th>\n",
       "      <th>terrace</th>\n",
       "      <th>loc_zone</th>\n",
       "      <th>loc_city</th>\n",
       "      <th>pop_total</th>\n",
       "      <th>pop_0-19</th>\n",
       "      <th>pop_20-64</th>\n",
       "      <th>pop_&gt;=65</th>\n",
       "      <th>pop_foreign</th>\n",
       "      <th>rent</th>\n",
       "      <th>indoor</th>\n",
       "      <th>floor_count</th>\n",
       "      <th>location</th>\n",
       "    </tr>\n",
       "  </thead>\n",
       "  <tbody>\n",
       "    <tr>\n",
       "      <th>2</th>\n",
       "      <td>304179</td>\n",
       "      <td>piso situado en una calle peatonal. trastero 6...</td>\n",
       "      <td>147000</td>\n",
       "      <td>1</td>\n",
       "      <td>buen estado</td>\n",
       "      <td>NaN</td>\n",
       "      <td>1ª</td>\n",
       "      <td>NaN</td>\n",
       "      <td>NaN</td>\n",
       "      <td>Piso</td>\n",
       "      <td>80</td>\n",
       "      <td>NaN</td>\n",
       "      <td>NaN</td>\n",
       "      <td>2</td>\n",
       "      <td>False</td>\n",
       "      <td>False</td>\n",
       "      <td>False</td>\n",
       "      <td>False</td>\n",
       "      <td>NaN</td>\n",
       "      <td>False</td>\n",
       "      <td>0.0</td>\n",
       "      <td>False</td>\n",
       "      <td>True</td>\n",
       "      <td>False</td>\n",
       "      <td>False</td>\n",
       "      <td>Encartaciones (BIZ)</td>\n",
       "      <td>Balmaseda</td>\n",
       "      <td>7684</td>\n",
       "      <td>18</td>\n",
       "      <td>59</td>\n",
       "      <td>23</td>\n",
       "      <td>9.4</td>\n",
       "      <td>15747</td>\n",
       "      <td>False</td>\n",
       "      <td>1.0</td>\n",
       "      <td>Balmaseda</td>\n",
       "    </tr>\n",
       "    <tr>\n",
       "      <th>8</th>\n",
       "      <td>25846411</td>\n",
       "      <td>NaN</td>\n",
       "      <td>138000</td>\n",
       "      <td>2</td>\n",
       "      <td>buen estado</td>\n",
       "      <td>NaN</td>\n",
       "      <td>1ª</td>\n",
       "      <td>NaN</td>\n",
       "      <td>NaN</td>\n",
       "      <td>Dúplex</td>\n",
       "      <td>94</td>\n",
       "      <td>92.0</td>\n",
       "      <td>sur, este, oeste</td>\n",
       "      <td>3</td>\n",
       "      <td>False</td>\n",
       "      <td>False</td>\n",
       "      <td>True</td>\n",
       "      <td>False</td>\n",
       "      <td>NaN</td>\n",
       "      <td>False</td>\n",
       "      <td>0.0</td>\n",
       "      <td>False</td>\n",
       "      <td>True</td>\n",
       "      <td>False</td>\n",
       "      <td>True</td>\n",
       "      <td>Encartaciones (BIZ)</td>\n",
       "      <td>Karrantza Harana/Valle de Carranza</td>\n",
       "      <td>2715</td>\n",
       "      <td>14</td>\n",
       "      <td>59</td>\n",
       "      <td>28</td>\n",
       "      <td>4.6</td>\n",
       "      <td>13431</td>\n",
       "      <td>False</td>\n",
       "      <td>1.0</td>\n",
       "      <td>Karrantza Harana/Valle de Carranza</td>\n",
       "    </tr>\n",
       "    <tr>\n",
       "      <th>11</th>\n",
       "      <td>25479817</td>\n",
       "      <td>Piso de reciente construcción, cocina totalmen...</td>\n",
       "      <td>270000</td>\n",
       "      <td>2</td>\n",
       "      <td>buen estado</td>\n",
       "      <td>NaN</td>\n",
       "      <td>1ª</td>\n",
       "      <td>NaN</td>\n",
       "      <td>NaN</td>\n",
       "      <td>Piso</td>\n",
       "      <td>120</td>\n",
       "      <td>96.0</td>\n",
       "      <td>NaN</td>\n",
       "      <td>3</td>\n",
       "      <td>False</td>\n",
       "      <td>False</td>\n",
       "      <td>False</td>\n",
       "      <td>False</td>\n",
       "      <td>0.0</td>\n",
       "      <td>False</td>\n",
       "      <td>1.0</td>\n",
       "      <td>False</td>\n",
       "      <td>False</td>\n",
       "      <td>False</td>\n",
       "      <td>True</td>\n",
       "      <td>Encartaciones (BIZ)</td>\n",
       "      <td>Balmaseda</td>\n",
       "      <td>7684</td>\n",
       "      <td>18</td>\n",
       "      <td>59</td>\n",
       "      <td>23</td>\n",
       "      <td>9.4</td>\n",
       "      <td>15747</td>\n",
       "      <td>False</td>\n",
       "      <td>1.0</td>\n",
       "      <td>Balmaseda</td>\n",
       "    </tr>\n",
       "    <tr>\n",
       "      <th>13</th>\n",
       "      <td>35227313</td>\n",
       "      <td>Soy el propietario y vendo este luminoso, ampl...</td>\n",
       "      <td>225000</td>\n",
       "      <td>2</td>\n",
       "      <td>buen estado</td>\n",
       "      <td>NaN</td>\n",
       "      <td>1ª</td>\n",
       "      <td>NaN</td>\n",
       "      <td>NaN</td>\n",
       "      <td>Piso</td>\n",
       "      <td>111</td>\n",
       "      <td>97.0</td>\n",
       "      <td>este, oeste</td>\n",
       "      <td>3</td>\n",
       "      <td>False</td>\n",
       "      <td>True</td>\n",
       "      <td>False</td>\n",
       "      <td>False</td>\n",
       "      <td>NaN</td>\n",
       "      <td>True</td>\n",
       "      <td>0.0</td>\n",
       "      <td>False</td>\n",
       "      <td>True</td>\n",
       "      <td>False</td>\n",
       "      <td>True</td>\n",
       "      <td>Encartaciones (BIZ)</td>\n",
       "      <td>Zalla</td>\n",
       "      <td>8379</td>\n",
       "      <td>19</td>\n",
       "      <td>62</td>\n",
       "      <td>19</td>\n",
       "      <td>9.0</td>\n",
       "      <td>17391</td>\n",
       "      <td>False</td>\n",
       "      <td>1.0</td>\n",
       "      <td>Zalla</td>\n",
       "    </tr>\n",
       "    <tr>\n",
       "      <th>14</th>\n",
       "      <td>38316178</td>\n",
       "      <td>Precioso piso de reciente construccion con 90 ...</td>\n",
       "      <td>162000</td>\n",
       "      <td>2</td>\n",
       "      <td>buen estado</td>\n",
       "      <td>NaN</td>\n",
       "      <td>3ª</td>\n",
       "      <td>NaN</td>\n",
       "      <td>NaN</td>\n",
       "      <td>Piso</td>\n",
       "      <td>95</td>\n",
       "      <td>90.0</td>\n",
       "      <td>NaN</td>\n",
       "      <td>3</td>\n",
       "      <td>False</td>\n",
       "      <td>False</td>\n",
       "      <td>True</td>\n",
       "      <td>False</td>\n",
       "      <td>0.0</td>\n",
       "      <td>False</td>\n",
       "      <td>1.0</td>\n",
       "      <td>False</td>\n",
       "      <td>True</td>\n",
       "      <td>False</td>\n",
       "      <td>False</td>\n",
       "      <td>Encartaciones (BIZ)</td>\n",
       "      <td>Zalla</td>\n",
       "      <td>8379</td>\n",
       "      <td>19</td>\n",
       "      <td>62</td>\n",
       "      <td>19</td>\n",
       "      <td>9.0</td>\n",
       "      <td>17391</td>\n",
       "      <td>False</td>\n",
       "      <td>1.0</td>\n",
       "      <td>Zalla</td>\n",
       "    </tr>\n",
       "  </tbody>\n",
       "</table>\n",
       "</div>"
      ],
      "text/plain": [
       "    house_id                                     ad_description   price  \\\n",
       "2     304179  piso situado en una calle peatonal. trastero 6...  147000   \n",
       "8   25846411                                                NaN  138000   \n",
       "11  25479817  Piso de reciente construcción, cocina totalmen...  270000   \n",
       "13  35227313  Soy el propietario y vendo este luminoso, ampl...  225000   \n",
       "14  38316178  Precioso piso de reciente construccion con 90 ...  162000   \n",
       "\n",
       "    bath_num    condition energetic_certif floor  ground_size heating  \\\n",
       "2          1  buen estado              NaN    1ª          NaN     NaN   \n",
       "8          2  buen estado              NaN    1ª          NaN     NaN   \n",
       "11         2  buen estado              NaN    1ª          NaN     NaN   \n",
       "13         2  buen estado              NaN    1ª          NaN     NaN   \n",
       "14         2  buen estado              NaN    3ª          NaN     NaN   \n",
       "\n",
       "   house_type  m2_real  m2_useful       orientation  room_num  \\\n",
       "2        Piso       80        NaN               NaN         2   \n",
       "8      Dúplex       94       92.0  sur, este, oeste         3   \n",
       "11       Piso      120       96.0               NaN         3   \n",
       "13       Piso      111       97.0       este, oeste         3   \n",
       "14       Piso       95       90.0               NaN         3   \n",
       "\n",
       "    air_conditioner  balcony  built_in_wardrobe  chimney  garage  garden lift  \\\n",
       "2             False    False              False    False     NaN   False  0.0   \n",
       "8             False    False               True    False     NaN   False  0.0   \n",
       "11            False    False              False    False     0.0   False  1.0   \n",
       "13            False     True              False    False     NaN    True  0.0   \n",
       "14            False    False               True    False     0.0   False  1.0   \n",
       "\n",
       "    reduced_mobility  storage_room  swimming_pool  terrace  \\\n",
       "2              False          True          False    False   \n",
       "8              False          True          False     True   \n",
       "11             False         False          False     True   \n",
       "13             False          True          False     True   \n",
       "14             False          True          False    False   \n",
       "\n",
       "               loc_zone                            loc_city  pop_total  \\\n",
       "2   Encartaciones (BIZ)                           Balmaseda       7684   \n",
       "8   Encartaciones (BIZ)  Karrantza Harana/Valle de Carranza       2715   \n",
       "11  Encartaciones (BIZ)                           Balmaseda       7684   \n",
       "13  Encartaciones (BIZ)                               Zalla       8379   \n",
       "14  Encartaciones (BIZ)                               Zalla       8379   \n",
       "\n",
       "    pop_0-19  pop_20-64  pop_>=65  pop_foreign   rent indoor  floor_count  \\\n",
       "2         18         59        23          9.4  15747  False          1.0   \n",
       "8         14         59        28          4.6  13431  False          1.0   \n",
       "11        18         59        23          9.4  15747  False          1.0   \n",
       "13        19         62        19          9.0  17391  False          1.0   \n",
       "14        19         62        19          9.0  17391  False          1.0   \n",
       "\n",
       "                              location  \n",
       "2                            Balmaseda  \n",
       "8   Karrantza Harana/Valle de Carranza  \n",
       "11                           Balmaseda  \n",
       "13                               Zalla  \n",
       "14                               Zalla  "
      ]
     },
     "execution_count": 89,
     "metadata": {},
     "output_type": "execute_result"
    }
   ],
   "source": [
    "df[df['energetic_certif'].isnull()].head(5)"
   ]
  },
  {
   "cell_type": "code",
   "execution_count": 90,
   "metadata": {},
   "outputs": [
    {
     "data": {
      "text/plain": [
       "0    en trámite\n",
       "Name: energetic_certif, dtype: category\n",
       "Categories (3, object): [en trámite, inmueble exento, no indicado]"
      ]
     },
     "execution_count": 90,
     "metadata": {},
     "output_type": "execute_result"
    }
   ],
   "source": [
    "df['energetic_certif'].mode()"
   ]
  },
  {
   "cell_type": "markdown",
   "metadata": {},
   "source": [
    "Asignamos en tramite a los Nan ya que es lo mas comun en las ventas"
   ]
  },
  {
   "cell_type": "code",
   "execution_count": 91,
   "metadata": {},
   "outputs": [],
   "source": [
    "mask = df['energetic_certif'].isnull()\n",
    "df.loc[mask, 'energetic_certif'] = 'en trámite'"
   ]
  },
  {
   "cell_type": "code",
   "execution_count": 92,
   "metadata": {},
   "outputs": [
    {
     "data": {
      "text/plain": [
       "(0, 36)"
      ]
     },
     "execution_count": 92,
     "metadata": {},
     "output_type": "execute_result"
    }
   ],
   "source": [
    "df[df['energetic_certif'].isnull()].shape"
   ]
  },
  {
   "cell_type": "markdown",
   "metadata": {},
   "source": [
    "### floor"
   ]
  },
  {
   "cell_type": "code",
   "execution_count": 93,
   "metadata": {},
   "outputs": [
    {
     "data": {
      "text/plain": [
       "array([nan, '1ª', '<0ª', '3ª', '5ª', '2ª', '4ª', '6ª', '7ª', '>8ª'],\n",
       "      dtype=object)"
      ]
     },
     "execution_count": 93,
     "metadata": {},
     "output_type": "execute_result"
    }
   ],
   "source": [
    "df[\"floor\"].unique()"
   ]
  },
  {
   "cell_type": "code",
   "execution_count": 94,
   "metadata": {},
   "outputs": [
    {
     "data": {
      "text/html": [
       "<div>\n",
       "<style scoped>\n",
       "    .dataframe tbody tr th:only-of-type {\n",
       "        vertical-align: middle;\n",
       "    }\n",
       "\n",
       "    .dataframe tbody tr th {\n",
       "        vertical-align: top;\n",
       "    }\n",
       "\n",
       "    .dataframe thead th {\n",
       "        text-align: right;\n",
       "    }\n",
       "</style>\n",
       "<table border=\"1\" class=\"dataframe\">\n",
       "  <thead>\n",
       "    <tr style=\"text-align: right;\">\n",
       "      <th></th>\n",
       "      <th>house_id</th>\n",
       "      <th>ad_description</th>\n",
       "      <th>price</th>\n",
       "      <th>bath_num</th>\n",
       "      <th>condition</th>\n",
       "      <th>energetic_certif</th>\n",
       "      <th>floor</th>\n",
       "      <th>ground_size</th>\n",
       "      <th>heating</th>\n",
       "      <th>house_type</th>\n",
       "      <th>m2_real</th>\n",
       "      <th>m2_useful</th>\n",
       "      <th>orientation</th>\n",
       "      <th>room_num</th>\n",
       "      <th>air_conditioner</th>\n",
       "      <th>balcony</th>\n",
       "      <th>built_in_wardrobe</th>\n",
       "      <th>chimney</th>\n",
       "      <th>garage</th>\n",
       "      <th>garden</th>\n",
       "      <th>lift</th>\n",
       "      <th>reduced_mobility</th>\n",
       "      <th>storage_room</th>\n",
       "      <th>swimming_pool</th>\n",
       "      <th>terrace</th>\n",
       "      <th>loc_zone</th>\n",
       "      <th>loc_city</th>\n",
       "      <th>pop_total</th>\n",
       "      <th>pop_0-19</th>\n",
       "      <th>pop_20-64</th>\n",
       "      <th>pop_&gt;=65</th>\n",
       "      <th>pop_foreign</th>\n",
       "      <th>rent</th>\n",
       "      <th>indoor</th>\n",
       "      <th>floor_count</th>\n",
       "      <th>location</th>\n",
       "    </tr>\n",
       "  </thead>\n",
       "  <tbody>\n",
       "    <tr>\n",
       "      <th>0</th>\n",
       "      <td>40391059</td>\n",
       "      <td>EXCLSUIVA Fantástica casa construcción de lujo...</td>\n",
       "      <td>580000</td>\n",
       "      <td>4</td>\n",
       "      <td>buen estado</td>\n",
       "      <td>en trámite</td>\n",
       "      <td>NaN</td>\n",
       "      <td>5600.0</td>\n",
       "      <td>NaN</td>\n",
       "      <td>Casa o chalet</td>\n",
       "      <td>300</td>\n",
       "      <td>NaN</td>\n",
       "      <td>NaN</td>\n",
       "      <td>3</td>\n",
       "      <td>False</td>\n",
       "      <td>True</td>\n",
       "      <td>True</td>\n",
       "      <td>False</td>\n",
       "      <td>0.0</td>\n",
       "      <td>True</td>\n",
       "      <td>NaN</td>\n",
       "      <td>False</td>\n",
       "      <td>True</td>\n",
       "      <td>True</td>\n",
       "      <td>False</td>\n",
       "      <td>Encartaciones (BIZ)</td>\n",
       "      <td>Gordexola</td>\n",
       "      <td>1686</td>\n",
       "      <td>18</td>\n",
       "      <td>61</td>\n",
       "      <td>21</td>\n",
       "      <td>6.4</td>\n",
       "      <td>21356</td>\n",
       "      <td>False</td>\n",
       "      <td>3.0</td>\n",
       "      <td>Gordexola</td>\n",
       "    </tr>\n",
       "    <tr>\n",
       "      <th>1</th>\n",
       "      <td>418205</td>\n",
       "      <td>casa baja de tres plantas para reformar en su ...</td>\n",
       "      <td>50000</td>\n",
       "      <td>2</td>\n",
       "      <td>para reformar</td>\n",
       "      <td>no indicado</td>\n",
       "      <td>NaN</td>\n",
       "      <td>120.0</td>\n",
       "      <td>NaN</td>\n",
       "      <td>Casa o chalet</td>\n",
       "      <td>213</td>\n",
       "      <td>NaN</td>\n",
       "      <td>sur</td>\n",
       "      <td>4</td>\n",
       "      <td>False</td>\n",
       "      <td>False</td>\n",
       "      <td>False</td>\n",
       "      <td>False</td>\n",
       "      <td>NaN</td>\n",
       "      <td>False</td>\n",
       "      <td>NaN</td>\n",
       "      <td>False</td>\n",
       "      <td>False</td>\n",
       "      <td>False</td>\n",
       "      <td>False</td>\n",
       "      <td>Encartaciones (BIZ)</td>\n",
       "      <td>Karrantza Harana/Valle de Carranza</td>\n",
       "      <td>2715</td>\n",
       "      <td>14</td>\n",
       "      <td>59</td>\n",
       "      <td>28</td>\n",
       "      <td>4.6</td>\n",
       "      <td>13431</td>\n",
       "      <td>False</td>\n",
       "      <td>3.0</td>\n",
       "      <td>Karrantza Harana/Valle de Carranza</td>\n",
       "    </tr>\n",
       "    <tr>\n",
       "      <th>4</th>\n",
       "      <td>81969902</td>\n",
       "      <td>Manzaneda de Biañez. Casa rural para reformar ...</td>\n",
       "      <td>60000</td>\n",
       "      <td>0</td>\n",
       "      <td>para reformar</td>\n",
       "      <td>no indicado</td>\n",
       "      <td>NaN</td>\n",
       "      <td>NaN</td>\n",
       "      <td>NaN</td>\n",
       "      <td>Casa o chalet</td>\n",
       "      <td>400</td>\n",
       "      <td>NaN</td>\n",
       "      <td>NaN</td>\n",
       "      <td>0</td>\n",
       "      <td>False</td>\n",
       "      <td>False</td>\n",
       "      <td>False</td>\n",
       "      <td>False</td>\n",
       "      <td>NaN</td>\n",
       "      <td>False</td>\n",
       "      <td>NaN</td>\n",
       "      <td>False</td>\n",
       "      <td>False</td>\n",
       "      <td>False</td>\n",
       "      <td>False</td>\n",
       "      <td>Encartaciones (BIZ)</td>\n",
       "      <td>Karrantza Harana/Valle de Carranza</td>\n",
       "      <td>2715</td>\n",
       "      <td>14</td>\n",
       "      <td>59</td>\n",
       "      <td>28</td>\n",
       "      <td>4.6</td>\n",
       "      <td>13431</td>\n",
       "      <td>False</td>\n",
       "      <td>3.0</td>\n",
       "      <td>Karrantza Harana/Valle de Carranza</td>\n",
       "    </tr>\n",
       "    <tr>\n",
       "      <th>5</th>\n",
       "      <td>81987796</td>\n",
       "      <td>Se vente Casa Rústica con terreno en Karrantza...</td>\n",
       "      <td>40000</td>\n",
       "      <td>0</td>\n",
       "      <td>para reformar</td>\n",
       "      <td>no indicado</td>\n",
       "      <td>NaN</td>\n",
       "      <td>NaN</td>\n",
       "      <td>NaN</td>\n",
       "      <td>Casa rural</td>\n",
       "      <td>120</td>\n",
       "      <td>110.0</td>\n",
       "      <td>NaN</td>\n",
       "      <td>0</td>\n",
       "      <td>False</td>\n",
       "      <td>False</td>\n",
       "      <td>False</td>\n",
       "      <td>False</td>\n",
       "      <td>NaN</td>\n",
       "      <td>False</td>\n",
       "      <td>NaN</td>\n",
       "      <td>False</td>\n",
       "      <td>False</td>\n",
       "      <td>False</td>\n",
       "      <td>False</td>\n",
       "      <td>Encartaciones (BIZ)</td>\n",
       "      <td>Karrantza Harana/Valle de Carranza</td>\n",
       "      <td>2715</td>\n",
       "      <td>14</td>\n",
       "      <td>59</td>\n",
       "      <td>28</td>\n",
       "      <td>4.6</td>\n",
       "      <td>13431</td>\n",
       "      <td>False</td>\n",
       "      <td>2.0</td>\n",
       "      <td>Karrantza Harana/Valle de Carranza</td>\n",
       "    </tr>\n",
       "    <tr>\n",
       "      <th>6</th>\n",
       "      <td>82518974</td>\n",
       "      <td>Casa completamente a reformar.,No tiene terren...</td>\n",
       "      <td>40000</td>\n",
       "      <td>3</td>\n",
       "      <td>para reformar</td>\n",
       "      <td>no indicado</td>\n",
       "      <td>NaN</td>\n",
       "      <td>NaN</td>\n",
       "      <td>NaN</td>\n",
       "      <td>Casa rural</td>\n",
       "      <td>430</td>\n",
       "      <td>NaN</td>\n",
       "      <td>NaN</td>\n",
       "      <td>5</td>\n",
       "      <td>False</td>\n",
       "      <td>False</td>\n",
       "      <td>False</td>\n",
       "      <td>False</td>\n",
       "      <td>NaN</td>\n",
       "      <td>False</td>\n",
       "      <td>NaN</td>\n",
       "      <td>False</td>\n",
       "      <td>False</td>\n",
       "      <td>False</td>\n",
       "      <td>False</td>\n",
       "      <td>Encartaciones (BIZ)</td>\n",
       "      <td>Karrantza Harana/Valle de Carranza</td>\n",
       "      <td>2715</td>\n",
       "      <td>14</td>\n",
       "      <td>59</td>\n",
       "      <td>28</td>\n",
       "      <td>4.6</td>\n",
       "      <td>13431</td>\n",
       "      <td>NaN</td>\n",
       "      <td>NaN</td>\n",
       "      <td>Karrantza Harana/Valle de Carranza</td>\n",
       "    </tr>\n",
       "  </tbody>\n",
       "</table>\n",
       "</div>"
      ],
      "text/plain": [
       "   house_id                                     ad_description   price  \\\n",
       "0  40391059  EXCLSUIVA Fantástica casa construcción de lujo...  580000   \n",
       "1    418205  casa baja de tres plantas para reformar en su ...   50000   \n",
       "4  81969902  Manzaneda de Biañez. Casa rural para reformar ...   60000   \n",
       "5  81987796  Se vente Casa Rústica con terreno en Karrantza...   40000   \n",
       "6  82518974  Casa completamente a reformar.,No tiene terren...   40000   \n",
       "\n",
       "   bath_num      condition energetic_certif floor  ground_size heating  \\\n",
       "0         4    buen estado       en trámite   NaN       5600.0     NaN   \n",
       "1         2  para reformar      no indicado   NaN        120.0     NaN   \n",
       "4         0  para reformar      no indicado   NaN          NaN     NaN   \n",
       "5         0  para reformar      no indicado   NaN          NaN     NaN   \n",
       "6         3  para reformar      no indicado   NaN          NaN     NaN   \n",
       "\n",
       "      house_type  m2_real  m2_useful orientation  room_num  air_conditioner  \\\n",
       "0  Casa o chalet      300        NaN         NaN         3            False   \n",
       "1  Casa o chalet      213        NaN         sur         4            False   \n",
       "4  Casa o chalet      400        NaN         NaN         0            False   \n",
       "5     Casa rural      120      110.0         NaN         0            False   \n",
       "6     Casa rural      430        NaN         NaN         5            False   \n",
       "\n",
       "   balcony  built_in_wardrobe  chimney  garage  garden lift  reduced_mobility  \\\n",
       "0     True               True    False     0.0    True  NaN             False   \n",
       "1    False              False    False     NaN   False  NaN             False   \n",
       "4    False              False    False     NaN   False  NaN             False   \n",
       "5    False              False    False     NaN   False  NaN             False   \n",
       "6    False              False    False     NaN   False  NaN             False   \n",
       "\n",
       "   storage_room  swimming_pool  terrace             loc_zone  \\\n",
       "0          True           True    False  Encartaciones (BIZ)   \n",
       "1         False          False    False  Encartaciones (BIZ)   \n",
       "4         False          False    False  Encartaciones (BIZ)   \n",
       "5         False          False    False  Encartaciones (BIZ)   \n",
       "6         False          False    False  Encartaciones (BIZ)   \n",
       "\n",
       "                             loc_city  pop_total  pop_0-19  pop_20-64  \\\n",
       "0                           Gordexola       1686        18         61   \n",
       "1  Karrantza Harana/Valle de Carranza       2715        14         59   \n",
       "4  Karrantza Harana/Valle de Carranza       2715        14         59   \n",
       "5  Karrantza Harana/Valle de Carranza       2715        14         59   \n",
       "6  Karrantza Harana/Valle de Carranza       2715        14         59   \n",
       "\n",
       "   pop_>=65  pop_foreign   rent indoor  floor_count  \\\n",
       "0        21          6.4  21356  False          3.0   \n",
       "1        28          4.6  13431  False          3.0   \n",
       "4        28          4.6  13431  False          3.0   \n",
       "5        28          4.6  13431  False          2.0   \n",
       "6        28          4.6  13431    NaN          NaN   \n",
       "\n",
       "                             location  \n",
       "0                           Gordexola  \n",
       "1  Karrantza Harana/Valle de Carranza  \n",
       "4  Karrantza Harana/Valle de Carranza  \n",
       "5  Karrantza Harana/Valle de Carranza  \n",
       "6  Karrantza Harana/Valle de Carranza  "
      ]
     },
     "execution_count": 94,
     "metadata": {},
     "output_type": "execute_result"
    }
   ],
   "source": [
    "df[df['floor'].isnull()].head(5)"
   ]
  },
  {
   "cell_type": "markdown",
   "metadata": {},
   "source": [
    "### ground_size"
   ]
  },
  {
   "cell_type": "markdown",
   "metadata": {},
   "source": [
    "En el caso de <font color=#5F66A1>__ground_size__</font>, la ausencia de valores se asume que corresponde, en una amplia mayoría, a que la vivienda no tenga parcela. Por lo tanto, se opta por asignar a todos los valores faltantes un 0: "
   ]
  },
  {
   "cell_type": "code",
   "execution_count": 95,
   "metadata": {
    "ExecuteTime": {
     "end_time": "2019-05-22T14:51:25.578691Z",
     "start_time": "2019-05-22T14:51:25.574689Z"
    }
   },
   "outputs": [],
   "source": [
    "df['ground_size'] = (np.where(df['ground_size'].isna()\n",
    "                        ,0\n",
    "                        ,df['ground_size']))"
   ]
  },
  {
   "cell_type": "markdown",
   "metadata": {},
   "source": [
    "### heating"
   ]
  },
  {
   "cell_type": "markdown",
   "metadata": {},
   "source": [
    "### m2_useful"
   ]
  },
  {
   "cell_type": "markdown",
   "metadata": {},
   "source": [
    "Regresion lineal!"
   ]
  },
  {
   "cell_type": "code",
   "execution_count": 101,
   "metadata": {},
   "outputs": [],
   "source": [
    "df['m2_useful'].interpolate(method='linear', inplace=True, limit_direction=\"both\")"
   ]
  },
  {
   "cell_type": "code",
   "execution_count": 102,
   "metadata": {},
   "outputs": [
    {
     "data": {
      "text/html": [
       "<div>\n",
       "<style scoped>\n",
       "    .dataframe tbody tr th:only-of-type {\n",
       "        vertical-align: middle;\n",
       "    }\n",
       "\n",
       "    .dataframe tbody tr th {\n",
       "        vertical-align: top;\n",
       "    }\n",
       "\n",
       "    .dataframe thead th {\n",
       "        text-align: right;\n",
       "    }\n",
       "</style>\n",
       "<table border=\"1\" class=\"dataframe\">\n",
       "  <thead>\n",
       "    <tr style=\"text-align: right;\">\n",
       "      <th></th>\n",
       "      <th>house_id</th>\n",
       "      <th>ad_description</th>\n",
       "      <th>price</th>\n",
       "      <th>bath_num</th>\n",
       "      <th>condition</th>\n",
       "      <th>energetic_certif</th>\n",
       "      <th>floor</th>\n",
       "      <th>ground_size</th>\n",
       "      <th>heating</th>\n",
       "      <th>house_type</th>\n",
       "      <th>m2_real</th>\n",
       "      <th>m2_useful</th>\n",
       "      <th>orientation</th>\n",
       "      <th>room_num</th>\n",
       "      <th>air_conditioner</th>\n",
       "      <th>balcony</th>\n",
       "      <th>built_in_wardrobe</th>\n",
       "      <th>chimney</th>\n",
       "      <th>garage</th>\n",
       "      <th>garden</th>\n",
       "      <th>lift</th>\n",
       "      <th>reduced_mobility</th>\n",
       "      <th>storage_room</th>\n",
       "      <th>swimming_pool</th>\n",
       "      <th>terrace</th>\n",
       "      <th>loc_zone</th>\n",
       "      <th>loc_city</th>\n",
       "      <th>pop_total</th>\n",
       "      <th>pop_0-19</th>\n",
       "      <th>pop_20-64</th>\n",
       "      <th>pop_&gt;=65</th>\n",
       "      <th>pop_foreign</th>\n",
       "      <th>rent</th>\n",
       "      <th>indoor</th>\n",
       "      <th>floor_count</th>\n",
       "      <th>location</th>\n",
       "    </tr>\n",
       "  </thead>\n",
       "  <tbody>\n",
       "  </tbody>\n",
       "</table>\n",
       "</div>"
      ],
      "text/plain": [
       "Empty DataFrame\n",
       "Columns: [house_id, ad_description, price, bath_num, condition, energetic_certif, floor, ground_size, heating, house_type, m2_real, m2_useful, orientation, room_num, air_conditioner, balcony, built_in_wardrobe, chimney, garage, garden, lift, reduced_mobility, storage_room, swimming_pool, terrace, loc_zone, loc_city, pop_total, pop_0-19, pop_20-64, pop_>=65, pop_foreign, rent, indoor, floor_count, location]\n",
       "Index: []"
      ]
     },
     "execution_count": 102,
     "metadata": {},
     "output_type": "execute_result"
    }
   ],
   "source": [
    "df[df['m2_useful'].isnull()]"
   ]
  },
  {
   "cell_type": "markdown",
   "metadata": {},
   "source": [
    "### orientation"
   ]
  },
  {
   "cell_type": "markdown",
   "metadata": {},
   "source": [
    "### indoor"
   ]
  },
  {
   "cell_type": "markdown",
   "metadata": {},
   "source": [
    "### floor_count"
   ]
  },
  {
   "cell_type": "code",
   "execution_count": 103,
   "metadata": {},
   "outputs": [
    {
     "data": {
      "text/plain": [
       "array([ 3.,  1.,  2., nan,  4.,  5.])"
      ]
     },
     "execution_count": 103,
     "metadata": {},
     "output_type": "execute_result"
    }
   ],
   "source": [
    "df['floor_count'].unique()"
   ]
  },
  {
   "cell_type": "markdown",
   "metadata": {},
   "source": [
    "### lift"
   ]
  },
  {
   "cell_type": "markdown",
   "metadata": {},
   "source": [
    "Hay ciertas variables en las que la ausencia de valor corresponde a un valor concreto. En el caso de <font color=#5F66A1>__lift__</font>, por ejemplo, los NAs corresponden a viviendas sin ascensor, por lo que realizamos la imputación de forma directa:"
   ]
  },
  {
   "cell_type": "code",
   "execution_count": 98,
   "metadata": {
    "ExecuteTime": {
     "end_time": "2019-05-22T14:51:25.605688Z",
     "start_time": "2019-05-22T14:51:25.599690Z"
    }
   },
   "outputs": [],
   "source": [
    "df['lift'] = (np.where(df['lift'].isna()\n",
    "                        ,0\n",
    "                        ,df['lift'])).astype('bool')"
   ]
  },
  {
   "cell_type": "markdown",
   "metadata": {},
   "source": [
    "### garage"
   ]
  },
  {
   "cell_type": "markdown",
   "metadata": {},
   "source": [
    "En el caso de <font color=#5F66A1>__garage__</font>, la ausencia de valores corresponde con viviendas sin garaje. No obstante, la variable muestra el precio del garaje, y los valores nulos significan que el garaje se ofrece sin coste añadido. Por lo tanto, no podemos imputar con ceros la ausencia de garajes, ya que daríamos a entender justo lo contrario de lo que significa. Por ello, se opta por categorizar la variable afín de poder representar cada caso de forma adecuada:"
   ]
  },
  {
   "cell_type": "code",
   "execution_count": 99,
   "metadata": {
    "ExecuteTime": {
     "end_time": "2019-05-22T14:51:25.620691Z",
     "start_time": "2019-05-22T14:51:25.606699Z"
    }
   },
   "outputs": [],
   "source": [
    "df['garage'] = (np.where(df['garage']<1000\n",
    "                    ,'incluido en precio'\n",
    "                    ,np.where(df['garage']>=1000\n",
    "                        ,'pagando'\n",
    "                        ,'sin garaje')))\n",
    "\n",
    "df['garage'] = df['garage'].astype('category')"
   ]
  },
  {
   "cell_type": "markdown",
   "metadata": {},
   "source": [
    "....... ACABAR imputación avanzada de:  indoor  / floor_count  /  condition  /  floor\n",
    "\n",
    "... descartar: energetic_certif /  orientation  /  heating"
   ]
  },
  {
   "cell_type": "markdown",
   "metadata": {},
   "source": [
    "# Estudio de duplicidades"
   ]
  },
  {
   "cell_type": "markdown",
   "metadata": {},
   "source": [
    "Finalmente, hacemos un breve estudio sobre las duplicidades de las variables:"
   ]
  },
  {
   "cell_type": "code",
   "execution_count": 100,
   "metadata": {
    "ExecuteTime": {
     "end_time": "2019-05-22T14:51:25.690689Z",
     "start_time": "2019-05-22T14:51:25.621689Z"
    }
   },
   "outputs": [
    {
     "name": "stdout",
     "output_type": "stream",
     "text": [
      "Column:condition ## Common: 82.52% <> Rare: 3.96% ## Type: category\n",
      "Column:energetic_certif ## Common: 80.63% <> Rare: 0.91% ## Type: category\n",
      "Column:ground_size ## Common: 92.62% <> Rare: 0.0% ## Type: float64\n",
      "Column:house_type ## Common: 80.94% <> Rare: 0.03% ## Type: object\n",
      "Column:air_conditioner ## Common: 98.36% <> Rare: 1.64% ## Type: bool\n",
      "Column:balcony ## Common: 78.25% <> Rare: 21.75% ## Type: bool\n",
      "Column:chimney ## Common: 99.37% <> Rare: 0.63% ## Type: bool\n",
      "Column:garage ## Common: 71.06% <> Rare: 1.75% ## Type: category\n",
      "Column:garden ## Common: 83.17% <> Rare: 16.83% ## Type: bool\n",
      "Column:reduced_mobility ## Common: 89.0% <> Rare: 11.0% ## Type: bool\n",
      "Column:swimming_pool ## Common: 96.22% <> Rare: 3.78% ## Type: bool\n",
      "Column:indoor ## Common: 88.89% <> Rare: 2.73% ## Type: category\n",
      "Column:floor_count ## Common: 83.9% <> Rare: 0.06% ## Type: float64\n"
     ]
    }
   ],
   "source": [
    "n_records = len(df)\n",
    "def duplicados_por_columna(df):\n",
    "    for column in df:\n",
    "        count_value = df[column].value_counts()\n",
    "        common = count_value.iloc[0]\n",
    "        rare = count_value.iloc[-1]\n",
    "        if ((common / (1.0 * n_records)) > 0.7):\n",
    "            print(\"Column:{} ## Common: {}% <> Rare: {}% ## Type: {}\".format( df[column].name, \n",
    "                                       round(common / (n_records) * 100, 2), \n",
    "                                       round(rare / (n_records) * 100, 2),\n",
    "                                       df[column].dtype\n",
    "        ))\n",
    "            \n",
    "duplicados_por_columna(df)"
   ]
  },
  {
   "cell_type": "markdown",
   "metadata": {},
   "source": [
    "Como se puede ver en el resultado, tenemos 12 columnas con mas del 70% de valores repetidos. Basicamente lo que vemos es que esas variables no están balanceadas y en el caso de usarlas se tendrá que tener en cuenta. "
   ]
  }
 ],
 "metadata": {
  "hide_input": false,
  "kernelspec": {
   "display_name": "Python 3",
   "language": "python",
   "name": "python3"
  },
  "language_info": {
   "codemirror_mode": {
    "name": "ipython",
    "version": 3
   },
   "file_extension": ".py",
   "mimetype": "text/x-python",
   "name": "python",
   "nbconvert_exporter": "python",
   "pygments_lexer": "ipython3",
   "version": "3.6.8"
  },
  "latex_envs": {
   "LaTeX_envs_menu_present": true,
   "autoclose": false,
   "autocomplete": true,
   "bibliofile": "biblio.bib",
   "cite_by": "apalike",
   "current_citInitial": 1,
   "eqLabelWithNumbers": true,
   "eqNumInitial": 1,
   "hotkeys": {
    "equation": "Ctrl-E",
    "itemize": "Ctrl-I"
   },
   "labels_anchors": false,
   "latex_user_defs": false,
   "report_style_numbering": false,
   "user_envs_cfg": false
  },
  "nbTranslate": {
   "displayLangs": [
    "*"
   ],
   "hotkey": "alt-t",
   "langInMainMenu": true,
   "sourceLang": "en",
   "targetLang": "fr",
   "useGoogleTranslate": true
  },
  "pycharm": {
   "stem_cell": {
    "cell_type": "raw",
    "metadata": {
     "collapsed": false
    },
    "source": []
   }
  },
  "toc": {
   "base_numbering": 1,
   "nav_menu": {},
   "number_sections": true,
   "sideBar": true,
   "skip_h1_title": false,
   "title_cell": "Table of Contents",
   "title_sidebar": "Contents",
   "toc_cell": false,
   "toc_position": {
    "height": "calc(100% - 180px)",
    "left": "10px",
    "top": "150px",
    "width": "295.8559875488281px"
   },
   "toc_section_display": true,
   "toc_window_display": true
  }
 },
 "nbformat": 4,
 "nbformat_minor": 1
}
