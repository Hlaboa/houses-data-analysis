{
 "cells": [
  {
   "cell_type": "markdown",
   "metadata": {
    "collapsed": true
   },
   "source": [
    "Cargamos las librerías, el conjunto de datos y algunas variables que emplearemos durante el proceso:"
   ]
  },
  {
   "cell_type": "code",
   "execution_count": 43,
   "metadata": {},
   "outputs": [],
   "source": [
    "import pandas as pd\n",
    "import numpy as np\n",
    "import matplotlib.pyplot as plt\n",
    "import seaborn as sns\n",
    "%matplotlib inline\n",
    "\n",
    "df = pd.read_csv('./processed_data/houses_integrated.csv')\n",
    "\n",
    "# Ampliamos el límite de columnas visibles para poder visualizarlas todas\n",
    "pd.set_option('display.max_columns', 500)\n",
    "\n",
    "# Definimos un listado de colores para visualizaciones\n",
    "clr = {'pr':'#5F66A1', 'yw':'#f3ca75', 'mg':'#c874b9', 'gn': '#599d70', 'br': '#636261'}\n",
    "\n",
    "# Omitimos los warnings\n",
    "import warnings\n",
    "warnings.filterwarnings('ignore')"
   ]
  },
  {
   "cell_type": "markdown",
   "metadata": {},
   "source": [
    "# Verificación de los datos"
   ]
  },
  {
   "cell_type": "markdown",
   "metadata": {},
   "source": [
    "En esta fase verificaremos la calidad de los datos por medio de una serie de procesos."
   ]
  },
  {
   "cell_type": "markdown",
   "metadata": {},
   "source": [
    "## Descarte de las casas de alquiler"
   ]
  },
  {
   "cell_type": "markdown",
   "metadata": {},
   "source": [
    "En el conjunto de datos que disponemos, se mezclan anuncios con casa en venta y alquiler. Este análisis se centra en la venta de casas, por lo tanto, los anuncios ligados al alquilern han de descartarse.\n",
    "\n",
    "No obstante, no hay ningún campo que permita esta división de forma directa. Por ello, se opta por emplear el precio para esta tarea, ya que, en principio, la venta y el alquiler de casas han de tener precios muy distintos.\n",
    "\n",
    "Analizemos por lo tanto los precios por medio de un histograma que nos muestre los precios entre 2.500€ y 30.000€ para ver a partir de qué precio intuímos que podemos considerar que una casa está en venta y no en alquiler:"
   ]
  },
  {
   "cell_type": "code",
   "execution_count": 2,
   "metadata": {},
   "outputs": [
    {
     "data": {
      "image/png": "[encoded data removed]",
      "text/plain": [
       "<Figure size 720x360 with 1 Axes>"
      ]
     },
     "metadata": {
      "needs_background": "light"
     },
     "output_type": "display_data"
    }
   ],
   "source": [
    "f, axes = plt.subplots(1, 1, figsize=(10, 5), sharex=True)\n",
    "sns.despine(left=True)\n",
    "\n",
    "(df['price']\n",
    " .pipe(sns.distplot, hist=False, color=clr['pr'], kde_kws={\"shade\": True, 'clip': (2500, 30000)}))\n",
    "\n",
    "plt.setp(axes, yticks=[])\n",
    "plt.tight_layout()"
   ]
  },
  {
   "cell_type": "markdown",
   "metadata": {},
   "source": [
    "Vemos que hay algunas casas con precios entre 10.000€ y 20.000€ con los que hay cierta ambiguedad, ya que si bien es un precio de venta muy muy bajo, como precio de alquiler mensual es excesivo.\n",
    "\n",
    "No obstante, en vista de que no son muchos, se opta por descartar todas las casas por debajo de los 30.000€."
   ]
  },
  {
   "cell_type": "code",
   "execution_count": 3,
   "metadata": {
    "run_control": {
     "marked": false
    }
   },
   "outputs": [
    {
     "name": "stdout",
     "output_type": "stream",
     "text": [
      "Se han descartado 1703 casas de alquiler del dataset\n"
     ]
    }
   ],
   "source": [
    "h_num = df[df.price < 30000].shape[0]\n",
    "df = df[df.price > 30000]\n",
    "print(f'Se han descartado {h_num} casas de alquiler del dataset')"
   ]
  },
  {
   "cell_type": "markdown",
   "metadata": {},
   "source": [
    "## Verificación de casas duplicadas"
   ]
  },
  {
   "cell_type": "markdown",
   "metadata": {},
   "source": [
    "Puede que haya casas duplicadas en nuestro conjunto de datos. Cada anuncio de casa se define mediante un identificador único. Por ello, la forma más sencilla para verificar que no haya 2 anuncios repetidos es comprobando ese identificador:"
   ]
  },
  {
   "cell_type": "code",
   "execution_count": 4,
   "metadata": {},
   "outputs": [
    {
     "name": "stdout",
     "output_type": "stream",
     "text": [
      "Se han descartado 5020 casas duplicadas del dataset\n"
     ]
    }
   ],
   "source": [
    "h_num = df[df.house_id.duplicated()].shape[0]\n",
    "df.drop_duplicates(subset='house_id', inplace=True)\n",
    "print(f'Se han descartado {h_num} casas duplicadas del dataset')"
   ]
  },
  {
   "cell_type": "markdown",
   "metadata": {},
   "source": [
    "# Estandarización de variables"
   ]
  },
  {
   "cell_type": "markdown",
   "metadata": {},
   "source": [
    "En este apartado se procede a estandarizar las variables, corrigiendo su tipo, y normalizando sus valores, (entendiendo por normalizar, asignarles el valor más representativo).\n",
    "\n",
    "*NOTA: En este apartado no se tratarán ni los missing values ni los outliers. Su gestión se deja para más adelante.*"
   ]
  },
  {
   "cell_type": "markdown",
   "metadata": {},
   "source": [
    "## Estudio de variables a estandarizar"
   ]
  },
  {
   "cell_type": "markdown",
   "metadata": {},
   "source": [
    "Empezaremos analizando cómo han sido asignadas las variables:"
   ]
  },
  {
   "cell_type": "code",
   "execution_count": 5,
   "metadata": {
    "cell_style": "center",
    "scrolled": true
   },
   "outputs": [
    {
     "data": {
      "text/plain": [
       "house_id               int64\n",
       "ad_description        object\n",
       "price                  int64\n",
       "bath_num              object\n",
       "condition             object\n",
       "construct_date       float64\n",
       "energetic_certif      object\n",
       "floor                 object\n",
       "ground_size          float64\n",
       "heating               object\n",
       "house_type            object\n",
       "m2_real                int64\n",
       "m2_useful            float64\n",
       "orientation           object\n",
       "room_num              object\n",
       "air_conditioner        int64\n",
       "balcony                int64\n",
       "built_in_wardrobe      int64\n",
       "chimney                int64\n",
       "garage                object\n",
       "garden                 int64\n",
       "kitchen              float64\n",
       "lift                 float64\n",
       "reduced_mobility       int64\n",
       "storage_room           int64\n",
       "swimming_pool          int64\n",
       "terrace                int64\n",
       "unfurnished          float64\n",
       "loc_zone              object\n",
       "loc_district          object\n",
       "loc_city              object\n",
       "loc_neigh             object\n",
       "pop_total            float64\n",
       "pop_0-19               int64\n",
       "pop_20-64              int64\n",
       "pop_>=65               int64\n",
       "pop_foreign          float64\n",
       "rent                   int64\n",
       "dtype: object"
      ]
     },
     "execution_count": 5,
     "metadata": {},
     "output_type": "execute_result"
    }
   ],
   "source": [
    "df.dtypes"
   ]
  },
  {
   "cell_type": "markdown",
   "metadata": {
    "cell_style": "center"
   },
   "source": [
    "De la lista superior, extraemos qué variables estudiaremos en la estandarización. En concreto, nos centraremos en 4 grupos: \n",
    "+ Por un lado estandarizaremos las variables numéricas que no hayan asignado como tal\n",
    "+ Por otro lado, estudiaremos las variables categóricas\n",
    "+ A continuación estudiaremos las variables categoricas binarias, es decir, booleanas\n",
    "+ Finalmente, nos centraremos en las variables de texto ligadas a la ubicación\n",
    "\n",
    "<br />\n",
    "\n",
    "**VARIABLES NUMÉRICAS NO ASIGNADAS COMO TAL**\n",
    "\n",
    "+ <font color=#5F66A1>*bath_num*<font>\n",
    "+ <font color=#5F66A1>*room_num*<font>\n",
    "+ <font color=#5F66A1>*garage*<font>\n",
    "\n",
    "\n",
    "**VARIABLES CATEGÓRICAS**\n",
    "\n",
    "+ <font color=#5F66A1>*condition*<font>\n",
    "+ <font color=#5F66A1>*energetic_certif*<font>\n",
    "+ <font color=#5F66A1>*floor*<font>\n",
    "+ <font color=#5F66A1>*heating*<font>\n",
    "+ <font color=#5F66A1>*house_type*<font>\n",
    "+ <font color=#5F66A1>*orientation*<font>\n",
    "\n",
    "\n",
    "**VARIABLES BOOLEANAS**\n",
    "\n",
    "+ <font color=#5F66A1>*air_conditioner*<font>\n",
    "+ <font color=#5F66A1>*balcony*<font>\n",
    "+ <font color=#5F66A1>*built_in_wardrobe*<font>\n",
    "+ <font color=#5F66A1>*chimney*<font>\n",
    "+ <font color=#5F66A1>*garden*<font>\n",
    "+ <font color=#5F66A1>*kitchen*<font>\n",
    "+ <font color=#5F66A1>*lift*<font>\n",
    "+ <font color=#5F66A1>*reduced_mobility*<font>\n",
    "+ <font color=#5F66A1>*storage_room*<font>\n",
    "+ <font color=#5F66A1>*swimming_pool*<font>\n",
    "+ <font color=#5F66A1>*terrace*<font>\n",
    "+ <font color=#5F66A1>*unfurnished*<font>\n",
    "\n",
    "\n",
    "**VARIABLES DE TEXTO LIGADAS A LA UBICACIÓN**\n",
    "\n",
    "+ <font color=#5F66A1>*loc_zone*<font>\n",
    "+ <font color=#5F66A1>*loc_district*<font>\n",
    "+ <font color=#5F66A1>*loc_city*<font>\n",
    "+ <font color=#5F66A1>*loc_neigh*<font>"
   ]
  },
  {
   "cell_type": "markdown",
   "metadata": {},
   "source": [
    "## Estandarización de variables numéricas"
   ]
  },
  {
   "cell_type": "markdown",
   "metadata": {},
   "source": [
    "### <font color=#5F66A1>bath_num</font>"
   ]
  },
  {
   "cell_type": "code",
   "execution_count": 6,
   "metadata": {
    "scrolled": false
   },
   "outputs": [
    {
     "name": "stdout",
     "output_type": "stream",
     "text": [
      "['4' '1' '2' 'sin baños' '3' '9' '5' '6' '17' '8' '7' '10' '11' '15' '12']\n"
     ]
    }
   ],
   "source": [
    "print(df.bath_num.unique())"
   ]
  },
  {
   "cell_type": "markdown",
   "metadata": {},
   "source": [
    "Vemos como la ausencia de baños se identifica como 'sin baños', en forma de texto. Lo corregimos, y definimos la variable como numérica:"
   ]
  },
  {
   "cell_type": "code",
   "execution_count": 7,
   "metadata": {},
   "outputs": [],
   "source": [
    "df['bath_num'] = (df['bath_num']\n",
    "                  .str.replace('sin baños','0')\n",
    "                  .astype('int64')\n",
    "                 )"
   ]
  },
  {
   "cell_type": "markdown",
   "metadata": {},
   "source": [
    "### <font color=#5F66A1>room_num</font>"
   ]
  },
  {
   "cell_type": "code",
   "execution_count": 8,
   "metadata": {},
   "outputs": [
    {
     "name": "stdout",
     "output_type": "stream",
     "text": [
      "['3' '2' '4' '8' '6' '5' '1' '9' '7' '11' 'sin habitación' '12' '20' '10'\n",
      " '14' '17' '34' '13']\n"
     ]
    }
   ],
   "source": [
    "print(df.room_num.unique())"
   ]
  },
  {
   "cell_type": "markdown",
   "metadata": {},
   "source": [
    "Aquí tambien la ausencia de habitaciones se identifica en forma de texto, como 'sin habitación'. Lo corregimos, y definimos la variable como numérica:"
   ]
  },
  {
   "cell_type": "code",
   "execution_count": 9,
   "metadata": {},
   "outputs": [],
   "source": [
    "df['room_num'] = (df['room_num']\n",
    "                   .str.replace('sin habitación','0')\n",
    "                   .astype('int64')\n",
    "                  )"
   ]
  },
  {
   "cell_type": "markdown",
   "metadata": {},
   "source": [
    "### <font color=#5F66A1>garage</font>"
   ]
  },
  {
   "cell_type": "code",
   "execution_count": 10,
   "metadata": {
    "pycharm": {
     "name": "#%%\n"
    }
   },
   "outputs": [
    {
     "name": "stdout",
     "output_type": "stream",
     "text": [
      "['plaza de garaje incluida en el precio' nan\n",
      " 'plaza de garaje por 9.500 eur adicionales'\n",
      " 'plaza de garaje por 16.000 eur adicionales'\n",
      " 'plaza de garaje por 20.000 eur adicionales'\n",
      " 'plaza de garaje por 111 eur adicionales'\n",
      " 'plaza de garaje por 25.000 eur adicionales'\n",
      " 'plaza de garaje por 33.000 eur adicionales'\n",
      " 'plaza de garaje por 22.000 eur adicionales'\n",
      " 'plaza de garaje por 30.000 eur adicionales'\n",
      " 'plaza de garaje por 15.000 eur adicionales'\n",
      " 'plaza de garaje por 24.451 eur adicionales'\n",
      " 'plaza de garaje por 24.452 eur adicionales'\n",
      " 'plaza de garaje por 50.000 eur adicionales'\n",
      " 'plaza de garaje por 14.900 eur adicionales'\n",
      " 'plaza de garaje por 19.900 eur adicionales'\n",
      " 'plaza de garaje por 35.000 eur adicionales'\n",
      " 'plaza de garaje por 400.000 eur adicionales'\n",
      " 'plaza de garaje por 12.000 eur adicionales'\n",
      " 'plaza de garaje por 40.000 eur adicionales'\n",
      " 'plaza de garaje por 242.000 eur adicionales'\n",
      " 'plaza de garaje por 24.000 eur adicionales'\n",
      " 'plaza de garaje por 0 eur adicionales'\n",
      " 'plaza de garaje por 205.000 eur adicionales'\n",
      " 'plaza de garaje por 310.000 eur adicionales'\n",
      " 'plaza de garaje por 21.000 eur adicionales'\n",
      " 'plaza de garaje por 36.000 eur adicionales'\n",
      " 'plaza de garaje por 360.000 eur adicionales'\n",
      " 'plaza de garaje por 32.000 eur adicionales'\n",
      " 'plaza de garaje por 27.100 eur adicionales'\n",
      " 'plaza de garaje por 31.500 eur adicionales'\n",
      " 'plaza de garaje por 80 eur adicionales'\n",
      " 'plaza de garaje por 12.500 eur adicionales'\n",
      " 'plaza de garaje por 19.000 eur adicionales'\n",
      " 'plaza de garaje por 68.000 eur adicionales'\n",
      " 'plaza de garaje por 65.000 eur adicionales'\n",
      " 'plaza de garaje por 1 eur adicionales'\n",
      " 'plaza de garaje por 31.000 eur adicionales'\n",
      " 'plaza de garaje por 45.000 eur adicionales'\n",
      " 'plaza de garaje por 17.000 eur adicionales'\n",
      " 'plaza de garaje por 90.000 eur adicionales'\n",
      " 'plaza de garaje por 80.000 eur adicionales'\n",
      " 'plaza de garaje por 23.500 eur adicionales'\n",
      " 'plaza de garaje por 10.000 eur adicionales'\n",
      " 'plaza de garaje por 10.705 eur adicionales'\n",
      " 'plaza de garaje por 10.100 eur adicionales'\n",
      " 'plaza de garaje por 16.500 eur adicionales'\n",
      " 'plaza de garaje por 18.000 eur adicionales'\n",
      " 'plaza de garaje por 26.000 eur adicionales'\n",
      " 'plaza de garaje por 26.500 eur adicionales'\n",
      " 'plaza de garaje por 28.000 eur adicionales'\n",
      " 'plaza de garaje por 60.000 eur adicionales'\n",
      " 'plaza de garaje por 23.000 eur adicionales'\n",
      " 'plaza de garaje por 100 eur adicionales'\n",
      " 'plaza de garaje por 9.000 eur adicionales'\n",
      " 'plaza de garaje por 72.000 eur adicionales'\n",
      " 'plaza de garaje por 5.168 eur adicionales'\n",
      " 'plaza de garaje por 13.000 eur adicionales'\n",
      " 'plaza de garaje por 43.000 eur adicionales'\n",
      " 'plaza de garaje por 125.000 eur adicionales'\n",
      " 'plaza de garaje por 56.000 eur adicionales'\n",
      " 'plaza de garaje por 120.000 eur adicionales'\n",
      " 'plaza de garaje por 105.000 eur adicionales'\n",
      " 'plaza de garaje por 71.000 eur adicionales'\n",
      " 'plaza de garaje por 54.000 eur adicionales'\n",
      " 'plaza de garaje por 46.600 eur adicionales'\n",
      " 'plaza de garaje por 47.000 eur adicionales'\n",
      " 'plaza de garaje por 99.000 eur adicionales'\n",
      " 'plaza de garaje por 14.000 eur adicionales'\n",
      " 'plaza de garaje por 425.000 eur adicionales'\n",
      " 'plaza de garaje por 42.000 eur adicionales'\n",
      " 'plaza de garaje por 48.000 eur adicionales'\n",
      " 'plaza de garaje por 16.200 eur adicionales'\n",
      " 'plaza de garaje por 23.127 eur adicionales'\n",
      " 'plaza de garaje por 17.800 eur adicionales'\n",
      " 'plaza de garaje por 38.000 eur adicionales'\n",
      " 'plaza de garaje por 29.000 eur adicionales'\n",
      " 'plaza de garaje por 7.000 eur adicionales'\n",
      " 'plaza de garaje por 70 eur adicionales']\n"
     ]
    }
   ],
   "source": [
    "print(df.garage.unique())"
   ]
  },
  {
   "cell_type": "markdown",
   "metadata": {},
   "source": [
    "Vemos que la variable refleja el precio de la plaza de garaje en forma de texto. Por lo tanto, extraemos el precio del texto y establecemos que la variable sea numérica:"
   ]
  },
  {
   "cell_type": "code",
   "execution_count": 11,
   "metadata": {
    "pycharm": {
     "name": "#%%\n"
    }
   },
   "outputs": [
    {
     "name": "stdout",
     "output_type": "stream",
     "text": [
      "[0.000e+00       nan 9.500e+03 1.600e+03 2.000e+03 1.110e+02 2.500e+03\n",
      " 3.300e+03 2.200e+03 3.000e+03 1.500e+03 2.445e+03 5.000e+03 1.490e+03\n",
      " 1.990e+03 3.500e+03 4.000e+03 1.200e+03 2.420e+03 2.400e+03 2.050e+03\n",
      " 3.100e+03 2.100e+03 3.600e+03 3.200e+03 2.710e+03 3.150e+03 8.000e+01\n",
      " 1.250e+03 1.900e+03 6.800e+03 6.500e+03 1.000e+00 4.500e+03 1.700e+03\n",
      " 9.000e+03 8.000e+03 2.350e+03 1.000e+03 1.070e+03 1.010e+03 1.650e+03\n",
      " 1.800e+03 2.600e+03 2.650e+03 2.800e+03 6.000e+03 2.300e+03 1.000e+02\n",
      " 7.200e+03 5.168e+03 1.300e+03 4.300e+03 5.600e+03 1.050e+03 7.100e+03\n",
      " 5.400e+03 4.660e+03 4.700e+03 9.900e+03 1.400e+03 4.250e+03 4.200e+03\n",
      " 4.800e+03 1.620e+03 2.312e+03 1.780e+03 3.800e+03 2.900e+03 7.000e+03\n",
      " 7.000e+01]\n"
     ]
    }
   ],
   "source": [
    "df['garage'] = (df['garage']\n",
    "                .str.replace('plaza de garaje incluida en el precio','0')\n",
    "                .str.replace('.','')\n",
    "                .str.extract('(\\d{1,4})')\n",
    "                .astype('float64')\n",
    "               )\n",
    "\n",
    "print(df.garage.unique())"
   ]
  },
  {
   "cell_type": "markdown",
   "metadata": {},
   "source": [
    "## Estandarización de variables categóricas"
   ]
  },
  {
   "cell_type": "markdown",
   "metadata": {},
   "source": [
    "### <font color=#5F66A1>condition</font>"
   ]
  },
  {
   "cell_type": "code",
   "execution_count": 12,
   "metadata": {},
   "outputs": [
    {
     "name": "stdout",
     "output_type": "stream",
     "text": [
      "['segunda mano/buen estado' nan 'segunda mano/para reformar'\n",
      " 'promoción de obra nueva']\n"
     ]
    }
   ],
   "source": [
    "print(df.condition.unique())"
   ]
  },
  {
   "cell_type": "markdown",
   "metadata": {},
   "source": [
    "Vemos que hay 3 posibles categorías. Redefinimos los nombres de las categorías para mejorar su interpretabilidad."
   ]
  },
  {
   "cell_type": "code",
   "execution_count": 13,
   "metadata": {},
   "outputs": [],
   "source": [
    "df = df.replace({'condition':\n",
    "                 {\n",
    "                  'segunda mano/buen estado':'buen estado',\n",
    "                  'segunda mano/para reformar':'para reformar',\n",
    "                  'promoción de obra nueva':'obra nueva'\n",
    "                 }})\n",
    "\n",
    "df['condition'] = df['condition'].astype('category')"
   ]
  },
  {
   "cell_type": "markdown",
   "metadata": {
    "heading_collapsed": true
   },
   "source": [
    "### <font color=#5F66A1>energetic_certif</font>"
   ]
  },
  {
   "cell_type": "code",
   "execution_count": 14,
   "metadata": {
    "hidden": true
   },
   "outputs": [
    {
     "name": "stdout",
     "output_type": "stream",
     "text": [
      "['en trámite' nan 'no indicado' 'inmueble exento']\n"
     ]
    }
   ],
   "source": [
    "print(df.energetic_certif.unique())"
   ]
  },
  {
   "cell_type": "markdown",
   "metadata": {
    "hidden": true
   },
   "source": [
    "No requiere ningun tratamiento salvo definirla como categórica:"
   ]
  },
  {
   "cell_type": "code",
   "execution_count": 15,
   "metadata": {
    "hidden": true
   },
   "outputs": [],
   "source": [
    "df['energetic_certif'] = df['energetic_certif'].astype('category')"
   ]
  },
  {
   "cell_type": "markdown",
   "metadata": {
    "heading_collapsed": true
   },
   "source": [
    "### <font color=#5F66A1>floor</font>"
   ]
  },
  {
   "cell_type": "code",
   "execution_count": 16,
   "metadata": {
    "hidden": true
   },
   "outputs": [
    {
     "name": "stdout",
     "output_type": "stream",
     "text": [
      "['3 plantas' 'planta 5ª exterior' nan '2 plantas' 'planta 4ª exterior'\n",
      " 'planta 2ª exterior' 'planta 1ª' 'planta 4ª' 'entreplanta exterior'\n",
      " 'planta 3ª exterior' 'planta 1ª exterior' 'bajo exterior' 'planta 3ª'\n",
      " '4 plantas' 'planta 8ª exterior' 'planta 2ª interior' 'bajo' 'planta 5ª'\n",
      " 'planta 2ª' '1 planta' 'planta 6ª exterior' '5 plantas' 'exterior'\n",
      " 'entreplanta' 'semi-sótano exterior' 'planta 1ª interior'\n",
      " 'planta 7ª exterior' 'planta 10ª exterior' 'planta 9ª exterior'\n",
      " 'planta 3ª interior' 'planta -2 exterior' 'planta 6ª' 'planta 7ª'\n",
      " 'planta 4ª interior' 'sótano exterior' 'planta 12ª exterior'\n",
      " 'planta 60ª exterior' 'planta -1 exterior' 'interior'\n",
      " 'planta 5ª interior' 'planta 11ª exterior' 'bajo interior' 'planta 9ª'\n",
      " 'planta 7ª interior' 'planta 16ª exterior' 'planta 10ª'\n",
      " 'planta 14ª exterior' 'planta 15ª exterior' 'planta 6ª interior'\n",
      " 'planta 13ª exterior' 'planta 8ª' 'planta 20ª exterior'\n",
      " 'planta 19ª exterior' 'sótano interior' 'entreplanta interior'\n",
      " 'planta 8ª interior' 'planta 18ª exterior' 'planta 11ª' 'planta 14ª'\n",
      " 'planta 13ª' 'planta 21ª exterior' 'planta 19ª' 'planta 18ª'\n",
      " 'planta -1 interior' 'planta 24ª exterior' 'semi-sótano interior']\n"
     ]
    }
   ],
   "source": [
    "print(df.floor.unique())"
   ]
  },
  {
   "cell_type": "markdown",
   "metadata": {
    "hidden": true
   },
   "source": [
    "Vemos que, a grandes rasgos, esta variable esconde lo que podrían ser 3 variables distintas:\n",
    "\n",
    "+ Número de planta en la que se encuentra el domicilio\n",
    "+ Indicador de si la planta está en el interior o en el exterior\n",
    "+ Número de plantas de las que consta el domicilio\n",
    "\n",
    "Por lo tanto, se procede a dividir la variable en 3. \n",
    "\n",
    "<br />\n",
    "\n",
    "Empezamos generando la variable booleana <font color=#5F66A1>__indoor__</font>, que tomará el valor True si el domicilio está en el interior, y False en el caso contrario:"
   ]
  },
  {
   "cell_type": "code",
   "execution_count": 17,
   "metadata": {
    "hidden": true
   },
   "outputs": [
    {
     "name": "stdout",
     "output_type": "stream",
     "text": [
      "[False, NaN, True]\n",
      "Categories (2, object): [False, True]\n"
     ]
    }
   ],
   "source": [
    "df['indoor'] = (df['floor']\n",
    "                .str.contains('interior')\n",
    "                .astype('category')   # no se define como bool porque aún contiene NaN\n",
    "               )\n",
    "\n",
    "print(df['indoor'].unique())"
   ]
  },
  {
   "cell_type": "markdown",
   "metadata": {
    "hidden": true
   },
   "source": [
    "<br />\n",
    "\n",
    "A continuación crearemos la variable <font color=#5F66A1>__floor_count__</font>, que recogerá el número de plantas de las que consta la casa.\n",
    "\n",
    "Para ello, empezamos asignando como valor 1 a todas las casas que tengan información sobre la planta (las que estan como NaN las dejaremos por ahora tal cual, puesto que no tenemos información al respecto)"
   ]
  },
  {
   "cell_type": "code",
   "execution_count": 18,
   "metadata": {
    "hidden": true,
    "run_control": {
     "marked": false
    }
   },
   "outputs": [
    {
     "data": {
      "text/plain": [
       "0    1.0\n",
       "1    1.0\n",
       "2    NaN\n",
       "3    NaN\n",
       "4    NaN\n",
       "Name: floor_count, dtype: float64"
      ]
     },
     "execution_count": 18,
     "metadata": {},
     "output_type": "execute_result"
    }
   ],
   "source": [
    "df['floor_count'] = np.nan\n",
    "df['floor_count'][df.floor.notnull()] = 1\n",
    "df['floor_count'].head(5)"
   ]
  },
  {
   "cell_type": "markdown",
   "metadata": {
    "hidden": true
   },
   "source": [
    "A continuación, añadiremos la información sobre las casas con más de una planta. Para ello, seleccionaremos todas las celdas que contengan la palabra 'plantas' (en plural), y de allí extraeremos el número por medio de una expresión regular:"
   ]
  },
  {
   "cell_type": "code",
   "execution_count": 19,
   "metadata": {
    "hidden": true
   },
   "outputs": [
    {
     "data": {
      "text/plain": [
       "0     3.0\n",
       "5     3.0\n",
       "10    2.0\n",
       "15    3.0\n",
       "21    2.0\n",
       "Name: floor_count, dtype: float64"
      ]
     },
     "execution_count": 19,
     "metadata": {},
     "output_type": "execute_result"
    }
   ],
   "source": [
    "f_c = (df['floor'][df.floor.str.contains('plantas', na=False)]\n",
    "       .str.extract('(\\d+)')\n",
    "       .astype('float64')\n",
    "       .rename(columns={0:'floor_count'})\n",
    "      )\n",
    "       \n",
    "f_c['floor_count'].head(5)"
   ]
  },
  {
   "cell_type": "markdown",
   "metadata": {
    "hidden": true
   },
   "source": [
    "Una vez hemos extraído el número de plantas de las casas con más de una, actualizamos la variable:"
   ]
  },
  {
   "cell_type": "code",
   "execution_count": 20,
   "metadata": {
    "hidden": true
   },
   "outputs": [
    {
     "name": "stdout",
     "output_type": "stream",
     "text": [
      "[ 3.  1. nan  2.  4.  5.]\n"
     ]
    }
   ],
   "source": [
    "df.update(f_c)\n",
    "print(df.floor_count.unique())"
   ]
  },
  {
   "cell_type": "markdown",
   "metadata": {
    "hidden": true
   },
   "source": [
    "<br />\n",
    "\n",
    "Por último modificaremos la variable <font color=#5F66A1>__floor__</font>, para que solo recoja el número de planta en el que se encuentra el piso:"
   ]
  },
  {
   "cell_type": "code",
   "execution_count": 21,
   "metadata": {
    "hidden": true
   },
   "outputs": [
    {
     "name": "stdout",
     "output_type": "stream",
     "text": [
      "[NaN, 5ª, 4ª, 2ª, 1ª, ..., 20ª, 19ª, 18ª, 21ª, 24ª]\n",
      "Length: 29\n",
      "Categories (28, object): [5ª, 4ª, 2ª, 1ª, ..., 19ª, 18ª, 21ª, 24ª]\n"
     ]
    }
   ],
   "source": [
    "df['floor'] = (df['floor']\n",
    "               .str.replace('exterior', '')\n",
    "               .str.replace('interior', '')\n",
    "               .str.replace('1 planta', '')\n",
    "               .str.replace('(\\d+) plantas', '')\n",
    "               .str.strip()\n",
    "               .str.replace('planta ', '')\n",
    "               .str.replace('-1', '-1ª')\n",
    "               .str.replace('-2', '-2ª')\n",
    "               .replace('', np.nan)\n",
    "               .astype('category')\n",
    "              )\n",
    "\n",
    "print(df.floor.unique())"
   ]
  },
  {
   "cell_type": "markdown",
   "metadata": {
    "heading_collapsed": true
   },
   "source": [
    "### <font color=#5F66A1>heating</font>"
   ]
  },
  {
   "cell_type": "code",
   "execution_count": 22,
   "metadata": {
    "hidden": true
   },
   "outputs": [
    {
     "name": "stdout",
     "output_type": "stream",
     "text": [
      "[nan 'calefacción individual' 'calefacción individual: gas natural'\n",
      " 'calefacción central: gasoil' 'calefacción central: gas'\n",
      " 'calefacción individual: eléctrica'\n",
      " 'calefacción individual: gas propano/butano'\n",
      " 'calefacción central: gas propano/butano' 'calefacción central'\n",
      " 'calefacción individual: gas' 'calefacción central: gas natural'\n",
      " 'no dispone de calefacción' 'calefacción individual: bomba de frío/calor'\n",
      " 'no dispone de calefacción: gas propano/butano'\n",
      " 'calefacción individual: gasoil']\n"
     ]
    }
   ],
   "source": [
    "print(df.heating.unique())"
   ]
  },
  {
   "cell_type": "markdown",
   "metadata": {
    "hidden": true
   },
   "source": [
    "Sustraemos la palabra 'calefacción' para mayor interpretabilidad, y la definimos como categórica:"
   ]
  },
  {
   "cell_type": "code",
   "execution_count": 23,
   "metadata": {
    "hidden": true
   },
   "outputs": [],
   "source": [
    "df['heating'] = (df['heating']\n",
    "                 .str.replace('calefacción ', '')\n",
    "                 .astype('category')\n",
    "                )"
   ]
  },
  {
   "cell_type": "markdown",
   "metadata": {
    "heading_collapsed": true
   },
   "source": [
    "### <font color=#5F66A1>house_type</font>"
   ]
  },
  {
   "cell_type": "code",
   "execution_count": 24,
   "metadata": {
    "hidden": true
   },
   "outputs": [
    {
     "name": "stdout",
     "output_type": "stream",
     "text": [
      "[' Casa o chalet independiente' 'Piso' ' Casa o chalet' 'Casa rural'\n",
      " ' Caserón' ' Chalet adosado' ' Casa rural' ' Casa de pueblo' ' Palacio'\n",
      " 'Dúplex' ' Finca rústica' 'Ático' 'Estudio' ' Chalet pareado'\n",
      " ' Casa terrera' ' Castillo' ' Cortijo' ' Torre']\n"
     ]
    }
   ],
   "source": [
    "print(df.house_type.unique())"
   ]
  },
  {
   "cell_type": "markdown",
   "metadata": {
    "hidden": true
   },
   "source": [
    "Eliminamos los espacios en blanco y la definimos como categórica:"
   ]
  },
  {
   "cell_type": "code",
   "execution_count": 25,
   "metadata": {
    "hidden": true
   },
   "outputs": [],
   "source": [
    "df['house_type'] = (df['house_type']\n",
    "                    .str.strip()\n",
    "                    .astype('category')\n",
    "                   )"
   ]
  },
  {
   "cell_type": "markdown",
   "metadata": {},
   "source": [
    "### <font color=#5F66A1>orientation</font>"
   ]
  },
  {
   "cell_type": "code",
   "execution_count": 26,
   "metadata": {},
   "outputs": [
    {
     "name": "stdout",
     "output_type": "stream",
     "text": [
      "[nan 'sur, este' 'sur' 'este, oeste' 'norte, este'\n",
      " 'norte, sur, este, oeste' 'norte, sur, este' 'sur, oeste'\n",
      " 'norte, este, oeste' 'norte' 'norte, sur' 'oeste' 'sur, este, oeste'\n",
      " 'este' 'norte, sur, oeste' 'norte, oeste']\n"
     ]
    }
   ],
   "source": [
    "print(df.orientation.unique())"
   ]
  },
  {
   "cell_type": "markdown",
   "metadata": {},
   "source": [
    "No requiere estandarización salvo definirla como categórica:"
   ]
  },
  {
   "cell_type": "code",
   "execution_count": 27,
   "metadata": {
    "scrolled": true
   },
   "outputs": [],
   "source": [
    "df['orientation'] = (df['orientation'].astype('category'))"
   ]
  },
  {
   "cell_type": "markdown",
   "metadata": {
    "heading_collapsed": true
   },
   "source": [
    "## Estandarización de variables booleanas"
   ]
  },
  {
   "cell_type": "markdown",
   "metadata": {
    "hidden": true
   },
   "source": [
    "Analizamos qué valores tienen las variables booleanas:"
   ]
  },
  {
   "cell_type": "code",
   "execution_count": 28,
   "metadata": {
    "hidden": true
   },
   "outputs": [
    {
     "name": "stdout",
     "output_type": "stream",
     "text": [
      "Valores para air_conditioner: [0 1]\n",
      "Valores para balcony: [1 0]\n",
      "Valores para built_in_wardrobe: [1 0]\n",
      "Valores para chimney: [0 1]\n",
      "Valores para garden: [1 0]\n",
      "Valores para kitchen: [nan]\n",
      "Valores para lift: [nan  0.  1.]\n",
      "Valores para reduced_mobility: [0 1]\n",
      "Valores para storage_room: [1 0]\n",
      "Valores para swimming_pool: [1 0]\n",
      "Valores para terrace: [0 1]\n",
      "Valores para unfurnished: [nan]\n"
     ]
    }
   ],
   "source": [
    "print(f'Valores para air_conditioner: {df.air_conditioner.unique()}')\n",
    "print(f'Valores para balcony: {df.balcony.unique()}')\n",
    "print(f'Valores para built_in_wardrobe: {df.built_in_wardrobe.unique()}')\n",
    "print(f'Valores para chimney: {df.chimney.unique()}')\n",
    "print(f'Valores para garden: {df.garden.unique()}')\n",
    "print(f'Valores para kitchen: {df.kitchen.unique()}')\n",
    "print(f'Valores para lift: {df.lift.unique()}')\n",
    "print(f'Valores para reduced_mobility: {df.reduced_mobility.unique()}')\n",
    "print(f'Valores para storage_room: {df.storage_room.unique()}')\n",
    "print(f'Valores para swimming_pool: {df.swimming_pool.unique()}')\n",
    "print(f'Valores para terrace: {df.terrace.unique()}')\n",
    "print(f'Valores para unfurnished: {df.unfurnished.unique()}')"
   ]
  },
  {
   "cell_type": "markdown",
   "metadata": {
    "hidden": true
   },
   "source": [
    "Por un lado  vemosque las variables *kitchen* y *unfurnished* solo contienen *nan*, probablemente porque se traten de variables ligadas exclusivamente a casas de alquiler. Por lo tanto, las eliminamos:"
   ]
  },
  {
   "cell_type": "code",
   "execution_count": 29,
   "metadata": {
    "hidden": true
   },
   "outputs": [],
   "source": [
    "df = df.drop(columns=['kitchen', 'unfurnished'])"
   ]
  },
  {
   "cell_type": "markdown",
   "metadata": {
    "hidden": true
   },
   "source": [
    "Por otra parte, vemos que la variable lift, a pesar de ser booleana, contiene valores nan, por lo que la definimos como categórica por ahora:"
   ]
  },
  {
   "cell_type": "code",
   "execution_count": 30,
   "metadata": {
    "hidden": true
   },
   "outputs": [],
   "source": [
    "df['lift'] = df['lift'].astype('category')"
   ]
  },
  {
   "cell_type": "markdown",
   "metadata": {
    "hidden": true
   },
   "source": [
    "Finalmente, el resto de variables categóricas las definimos como booleanas:"
   ]
  },
  {
   "cell_type": "code",
   "execution_count": 31,
   "metadata": {
    "hidden": true
   },
   "outputs": [],
   "source": [
    "df['air_conditioner'] = df['air_conditioner'].astype('bool')\n",
    "df['balcony'] = df['balcony'].astype('bool')\n",
    "df['built_in_wardrobe'] = df['built_in_wardrobe'].astype('bool')\n",
    "df['chimney'] = df['chimney'].astype('bool')\n",
    "df['garden'] = df['garden'].astype('bool')\n",
    "df['reduced_mobility'] = df['reduced_mobility'].astype('bool')\n",
    "df['storage_room'] = df['storage_room'].astype('bool')\n",
    "df['swimming_pool'] = df['swimming_pool'].astype('bool')\n",
    "df['terrace'] = df['terrace'].astype('bool')"
   ]
  },
  {
   "cell_type": "markdown",
   "metadata": {},
   "source": [
    "## Estandarización de variables ligadas a la ubicación"
   ]
  },
  {
   "cell_type": "markdown",
   "metadata": {
    "run_control": {
     "marked": false
    }
   },
   "source": [
    "La localización de cada vivienda viene especificada por medio de 4 variables distintas, las cuales están organizadas de forma jerárquica del siguiente modo:\n",
    "\n",
    "+ <font color=#5F66A1>__loc_zone__</font> &nbsp; > &nbsp;<font color=#5F66A1>__loc_city__</font> &nbsp;> &nbsp;<font color=#5F66A1>__loc_district__</font> &nbsp;> &nbsp;<font color=#5F66A1>__loc_neigh__</font>"
   ]
  },
  {
   "cell_type": "markdown",
   "metadata": {},
   "source": [
    "### <font color=#5F66A1>loc_zone</font>"
   ]
  },
  {
   "cell_type": "code",
   "execution_count": 32,
   "metadata": {},
   "outputs": [
    {
     "name": "stdout",
     "output_type": "stream",
     "text": [
      "['Encartaciones, Vizcaya' 'Uribe-Butroe, Vizcaya' 'Lea-Artibai, Vizcaya'\n",
      " 'Duranguesado, Vizcaya' 'Gran Bilbao, Vizcaya' 'Busturialdea, Vizcaya'\n",
      " 'Arratia-Nervión, Vizcaya' 'Urola Kosta, Guipúzcoa' 'Goierri, Guipúzcoa'\n",
      " 'Donostialdea, Guipúzcoa' 'Bajo Bidasoa, Guipúzcoa'\n",
      " 'Alto Deba, Guipúzcoa' 'Bajo Deba, Guipúzcoa' 'Tolosaldea, Guipúzcoa']\n"
     ]
    }
   ],
   "source": [
    "print(df.loc_zone.unique())"
   ]
  },
  {
   "cell_type": "markdown",
   "metadata": {},
   "source": [
    "Definimos las provincias con las iniciales y convertimos la variable en categórica:"
   ]
  },
  {
   "cell_type": "code",
   "execution_count": 33,
   "metadata": {},
   "outputs": [
    {
     "name": "stdout",
     "output_type": "stream",
     "text": [
      "[Encartaciones (BIZ), Uribe-Butroe (BIZ), Lea-Artibai (BIZ), Duranguesado (BIZ), Gran Bilbao (BIZ), ..., Donostialdea (GIP), Bajo Bidasoa (GIP), Alto Deba (GIP), Bajo Deba (GIP), Tolosaldea (GIP)]\n",
      "Length: 14\n",
      "Categories (14, object): [Encartaciones (BIZ), Uribe-Butroe (BIZ), Lea-Artibai (BIZ), Duranguesado (BIZ), ..., Bajo Bidasoa (GIP), Alto Deba (GIP), Bajo Deba (GIP), Tolosaldea (GIP)]\n"
     ]
    }
   ],
   "source": [
    "df['loc_zone'] = (df['loc_zone']\n",
    "                  .str.replace(', Vizcaya',' (BIZ)')\n",
    "                  .str.replace(', Guipúzcoa',' (GIP)')\n",
    "                  .astype('category')\n",
    "                 )\n",
    "\n",
    "print(df.loc_zone.unique())"
   ]
  },
  {
   "cell_type": "markdown",
   "metadata": {},
   "source": [
    "### <font color=#5F66A1>loc_city</font>"
   ]
  },
  {
   "cell_type": "code",
   "execution_count": 34,
   "metadata": {},
   "outputs": [
    {
     "name": "stdout",
     "output_type": "stream",
     "text": [
      "['Gordexola' 'Artzentales' 'Sopuerta' 'Balmaseda'\n",
      " 'Karrantza Harana/Valle de Carranza' 'Güeñes' 'Zalla' 'Lanestosa'\n",
      " 'Galdames' 'Trucios-Turtzioz' 'Berango' 'Mungia' 'Urdúliz' 'Gorliz'\n",
      " 'Plentzia' 'Bakio' 'Laukiz' 'Lemoiz' 'Maruri-Jatabe' 'Gatika' 'Barrika'\n",
      " 'Arrieta' 'Fruiz' 'Meñaka' 'Gamiz-Fika' 'Berriatua' 'Lekeitio' 'Ondarroa'\n",
      " 'Ziortza-Bolibar' 'Amoroto' 'Markina-Xemein'\n",
      " 'Munitibar-Arbatzegi Gerrikaitz' 'Mendexa' 'Ispaster' 'Aulesti'\n",
      " 'Etxebarria' 'Gizaburuaga' 'Zaldibar' 'Ermua' 'Amorebieta-Etxano'\n",
      " 'Mañaria' 'Mallabia' 'Durango' 'Bérriz' 'Iurreta' 'Atxondo' 'Elorrio'\n",
      " 'Abadiño' 'Garai' 'Izurtza' 'Lezama' 'Zamudio' 'Larrabetzu'\n",
      " 'Valle de Trápaga-Trapagaran' 'Ortuella' 'Muskiz' 'Loiu' 'Sondika'\n",
      " 'Derio' 'Leioa' 'Galdakao' 'Santurtzi' 'Portugalete' 'Getxo' 'Basauri'\n",
      " 'Barakaldo' 'Erandio' 'Sestao' 'Etxebarri' 'Arrigorriaga' 'Alonsotegi'\n",
      " 'Zaratamo' 'Bilbao' 'Abanto y Ciérvana-Abanto Zierbena' 'Zierbena'\n",
      " 'Mundaka' 'Ea' 'Bermeo' 'Morga' 'Gernika-Lumo' 'Gautegiz Arteaga'\n",
      " 'Nabarniz' 'Ereño' 'Busturia' 'Ajangiz' 'Muxika' 'Murueta' 'Sukarrieta'\n",
      " 'Ibarrangelu' 'Elantxobe' 'Arratzu' 'Forua' 'Kortezubi' 'Errigoiti'\n",
      " 'Mendata' 'Urduña/Orduña' 'Orozko' 'Otxandio' 'Arantzazu' 'Bedia' 'Dima'\n",
      " 'Zeanuri' 'Lemoa' 'Ugao-Miraballes' 'Areatza' 'Artea' 'Igorre' 'Zeberio'\n",
      " 'Arrankudiaga' 'Ubide' 'Arakaldo' 'Orio' 'Azkoitia' 'Azpeitia' 'Aia'\n",
      " 'Aizarnazabal' 'Zarautz' 'Zestoa' 'Zumaia' 'Errezil' 'Getaria' 'Beizama'\n",
      " 'Beasain' 'Zegama' 'Legazpi' 'Urretxu' 'Zumarraga' 'Ordizia' 'Arama'\n",
      " 'Itsasondo' 'Mutiloa' 'Lazkao' 'Ataun' 'Idiazabal' 'Segura' 'Ormaiztegi'\n",
      " 'Ezkio-Itsaso' 'Zaldibia' 'Altzaga' 'Zerain' 'Gaintza' 'Gabiria'\n",
      " 'Olaberria' 'Errenteria' 'Pasaia' 'Lezo' 'Oiartzun' 'Usurbil'\n",
      " 'Lasarte-Oria' 'Hernani' 'Andoain' 'Astigarraga' 'Urnieta' 'Irun'\n",
      " 'Hondarribia' 'Arrasate/Mondragón' 'Bergara' 'Antzuola' 'Eskoriatza'\n",
      " 'Elgeta' 'Aretxabaleta' 'Oñati' 'Eibar' 'Ikaztegieta' 'Mendaro' 'Anoeta'\n",
      " 'Legorreta' 'Elgoibar' 'Tolosa' 'Zizurkil' 'Ibarra' 'Villabona' 'Aduna'\n",
      " 'Alegia' 'Irura' 'Larraul' 'Elduain' 'Bidania-Goiatz' 'Altzo' 'Hernialde'\n",
      " 'Berastegi' 'Amezketa' 'Asteasu' 'Lizartza' 'Orendain' 'Leaburu'\n",
      " 'Berrobi' 'Albiztur' 'Belauntza' 'Gaztelu' 'Baliarrain' 'Alkiza'\n",
      " 'Abaltzisketa' 'Mutriku' 'Deba']\n"
     ]
    }
   ],
   "source": [
    "print(df.loc_city.unique())"
   ]
  },
  {
   "cell_type": "markdown",
   "metadata": {},
   "source": [
    "Los valores están ya lo suficientemente estandarizados, por lo que los dejamos como están, y establecemos la variable como categórica:"
   ]
  },
  {
   "cell_type": "code",
   "execution_count": 35,
   "metadata": {},
   "outputs": [],
   "source": [
    "df['loc_city'] = df['loc_city'].astype('category')"
   ]
  },
  {
   "cell_type": "markdown",
   "metadata": {},
   "source": [
    "### <font color=#5F66A1>loc_district</font>"
   ]
  },
  {
   "cell_type": "code",
   "execution_count": 36,
   "metadata": {},
   "outputs": [
    {
     "name": "stdout",
     "output_type": "stream",
     "text": [
      "Número de distritos: 5485\n"
     ]
    }
   ],
   "source": [
    "print(f\"Número de distritos: {len(df.loc_district.unique())}\")"
   ]
  },
  {
   "cell_type": "markdown",
   "metadata": {},
   "source": [
    "Vemos que hay 5631 distritos distintos. No obstante, en muchos casos, en vez del distrito como tal, el campo guarda información relativa a la calle, urbanización, etc., como puede verse a continuación:"
   ]
  },
  {
   "cell_type": "code",
   "execution_count": 51,
   "metadata": {},
   "outputs": [
    {
     "name": "stdout",
     "output_type": "stream",
     "text": [
      "25841                              Kosta\n",
      "311               Paseo la Magdalena, 11\n",
      "20233                   Distrito Rekalde\n",
      "23789    Distrito Lartzabal - Gabierrota\n",
      "27292           Urb. Piso en C/ San Juan\n",
      "16122                  Distrito Uribarri\n",
      "11958                   Distrito Algorta\n",
      "26270                   Calle Matxiategi\n",
      "Name: loc_district, dtype: object\n"
     ]
    }
   ],
   "source": [
    "print(df.sample(frac=1, random_state=89)['loc_district'][df.loc_district.notnull()].head(8))"
   ]
  },
  {
   "cell_type": "markdown",
   "metadata": {},
   "source": [
    "Dado que cada distrito está precedido por la palabra 'Distrito', eliminamos todos los valores que no coincidan con este patrón:"
   ]
  },
  {
   "cell_type": "code",
   "execution_count": 52,
   "metadata": {},
   "outputs": [],
   "source": [
    "df['loc_district'] = (df['loc_district']\n",
    "                      .str.extract(r'(Distrito .*)')[0]\n",
    "                      .str.replace('Distrito ','')\n",
    "                     )"
   ]
  },
  {
   "cell_type": "markdown",
   "metadata": {},
   "source": [
    "Por otro lado, para asegurarnos de que no haya distritos distintos compartiendo un mismo nombre, agregaremos las iniciales de cada ciudad:"
   ]
  },
  {
   "cell_type": "code",
   "execution_count": 53,
   "metadata": {},
   "outputs": [
    {
     "name": "stdout",
     "output_type": "stream",
     "text": [
      "20233                     Rekalde (Bilb)\n",
      "23789      Lartzabal - Gabierrota (Erre)\n",
      "16122                    Uribarri (Bilb)\n",
      "11958                     Algorta (Getx)\n",
      "13820    Centro - Ariz - Uribarri (Basa)\n",
      "Name: loc_district, dtype: object\n"
     ]
    }
   ],
   "source": [
    "df['loc_district'] = (np.where(df.loc_district.notnull()\n",
    "                      , df.loc_district+' ('+df.loc_city.str[:4]+')'\n",
    "                      , np.nan)\n",
    "                     )\n",
    "\n",
    "print(df.sample(frac=1, random_state=89)['loc_district'][df.loc_district.notnull()].head(5))"
   ]
  },
  {
   "cell_type": "markdown",
   "metadata": {},
   "source": [
    "Finalmente, comprobamos el número de distritos que hay tras el proceso de limpieza:"
   ]
  },
  {
   "cell_type": "code",
   "execution_count": 41,
   "metadata": {},
   "outputs": [
    {
     "name": "stdout",
     "output_type": "stream",
     "text": [
      "Número de distritos tras limpieza: 65\n"
     ]
    }
   ],
   "source": [
    "print(f\"Número de distritos tras limpieza: {len(df.loc_district.unique())}\")"
   ]
  },
  {
   "cell_type": "markdown",
   "metadata": {},
   "source": [
    "### <font color=#5F66A1>loc_neigh</font>"
   ]
  },
  {
   "cell_type": "code",
   "execution_count": 54,
   "metadata": {},
   "outputs": [
    {
     "name": "stdout",
     "output_type": "stream",
     "text": [
      "Número de barrios: 2958\n"
     ]
    }
   ],
   "source": [
    "print(f\"Número de barrios: {len(df.loc_neigh.unique())}\")"
   ]
  },
  {
   "cell_type": "markdown",
   "metadata": {},
   "source": [
    "Vemos que hay 2803 barrios distintos. Sin embargo, sucede lo mismo que sucedía con el distrito, que en vez del barrio, en muchos casos el campo guarda información relativa a la calle, urbanización, etc.:"
   ]
  },
  {
   "cell_type": "code",
   "execution_count": 56,
   "metadata": {},
   "outputs": [
    {
     "name": "stdout",
     "output_type": "stream",
     "text": [
      "20233                      Barrio Irala\n",
      "27292                    Calle San Juan\n",
      "16122    Barrio Campo Volantín-Castaños\n",
      "11958                 Barrio Villamonte\n",
      "13820                      kale nagusia\n",
      "Name: loc_neigh, dtype: object\n"
     ]
    }
   ],
   "source": [
    "print(df.sample(frac=1, random_state=89)['loc_neigh'][df.loc_neigh.notnull()].head(5))"
   ]
  },
  {
   "cell_type": "markdown",
   "metadata": {},
   "source": [
    "En este caso, el barrio viene precedido siempre por la palabra 'Barrio'. Así, repetimos el mismo proceso que en el anterior caso:"
   ]
  },
  {
   "cell_type": "code",
   "execution_count": 57,
   "metadata": {},
   "outputs": [
    {
     "name": "stdout",
     "output_type": "stream",
     "text": [
      "20233                      Irala (Bilb)\n",
      "16122    Campo Volantín-Castaños (Bilb)\n",
      "11958                 Villamonte (Getx)\n",
      "11074                       Romo (Getx)\n",
      "20431                      Irala (Bilb)\n",
      "Name: loc_neigh, dtype: object\n"
     ]
    }
   ],
   "source": [
    "df['loc_neigh'] = (df['loc_neigh']\n",
    "                      .str.extract(r'(Barrio .*)')[0]\n",
    "                      .str.replace('Barrio ','')\n",
    "                     )\n",
    "\n",
    "df['loc_neigh'] = (np.where(df.loc_neigh.notnull()\n",
    "                      , df.loc_neigh+' ('+df.loc_city.str[:4]+')'\n",
    "                      , np.nan)\n",
    "                  )\n",
    "\n",
    "print(df.sample(frac=1, random_state=89)['loc_neigh'][df.loc_neigh.notnull()].head(5))"
   ]
  },
  {
   "cell_type": "markdown",
   "metadata": {},
   "source": [
    "# Resolver datos incompletos"
   ]
  },
  {
   "cell_type": "markdown",
   "metadata": {},
   "source": [
    "Empezamos analizando como estan repartidos nuestros *missing values*:"
   ]
  },
  {
   "cell_type": "code",
   "execution_count": 40,
   "metadata": {},
   "outputs": [
    {
     "name": "stdout",
     "output_type": "stream",
     "text": [
      "- \u001b[1mad_description\u001b[0m: 699\n",
      "- \u001b[1mcondition\u001b[0m: 1822\n",
      "- \u001b[1mconstruct_date\u001b[0m: 15045\n",
      "- \u001b[1menergetic_certif\u001b[0m: 4613\n",
      "- \u001b[1mfloor\u001b[0m: 4197\n",
      "- \u001b[1mground_size\u001b[0m: 20863\n",
      "- \u001b[1mheating\u001b[0m: 14917\n",
      "- \u001b[1mm2_useful\u001b[0m: 8492\n",
      "- \u001b[1morientation\u001b[0m: 12271\n",
      "- \u001b[1mgarage\u001b[0m: 14018\n",
      "- \u001b[1mlift\u001b[0m: 4029\n",
      "- \u001b[1mloc_district\u001b[0m: 9645\n",
      "- \u001b[1mloc_neigh\u001b[0m: 12052\n",
      "- \u001b[1mindoor\u001b[0m: 1963\n",
      "- \u001b[1mfloor_count\u001b[0m: 1963\n"
     ]
    }
   ],
   "source": [
    "b = '\\033[1m'  # para texto en negrita\n",
    "n = '\\033[0m'  # para texto normal\n",
    "\n",
    "for col in df.columns:\n",
    "    na_count = sum(pd.isna(df[col]))\n",
    "    if(na_count > 0):\n",
    "        print(f\"- {b}{col}{n}: {na_count}\")"
   ]
  },
  {
   "cell_type": "code",
   "execution_count": null,
   "metadata": {},
   "outputs": [],
   "source": []
  }
 ],
 "metadata": {
  "hide_input": false,
  "kernelspec": {
   "display_name": "Python 3",
   "language": "python",
   "name": "python3"
  },
  "language_info": {
   "codemirror_mode": {
    "name": "ipython",
    "version": 3
   },
   "file_extension": ".py",
   "mimetype": "text/x-python",
   "name": "python",
   "nbconvert_exporter": "python",
   "pygments_lexer": "ipython3",
   "version": "3.7.1"
  },
  "latex_envs": {
   "LaTeX_envs_menu_present": true,
   "autoclose": false,
   "autocomplete": true,
   "bibliofile": "biblio.bib",
   "cite_by": "apalike",
   "current_citInitial": 1,
   "eqLabelWithNumbers": true,
   "eqNumInitial": 1,
   "hotkeys": {
    "equation": "Ctrl-E",
    "itemize": "Ctrl-I"
   },
   "labels_anchors": false,
   "latex_user_defs": false,
   "report_style_numbering": false,
   "user_envs_cfg": false
  },
  "pycharm": {
   "stem_cell": {
    "cell_type": "raw",
    "metadata": {
     "collapsed": false
    },
    "source": []
   }
  },
  "toc": {
   "base_numbering": 1,
   "nav_menu": {},
   "number_sections": true,
   "sideBar": true,
   "skip_h1_title": false,
   "title_cell": "Table of Contents",
   "title_sidebar": "Contents",
   "toc_cell": false,
   "toc_position": {
    "height": "calc(100% - 180px)",
    "left": "10px",
    "top": "150px",
    "width": "336.4266357421875px"
   },
   "toc_section_display": true,
   "toc_window_display": true
  }
 },
 "nbformat": 4,
 "nbformat_minor": 1
}
