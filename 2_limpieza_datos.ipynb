{
 "cells": [
  {
   "cell_type": "markdown",
   "metadata": {},
   "source": [
    "Cargamos las librerías, el conjunto de datos y algunas variables que emplearemos durante el proceso:"
   ]
  },
  {
   "cell_type": "code",
   "execution_count": 1,
   "metadata": {
    "ExecuteTime": {
     "end_time": "2019-05-20T12:54:45.635653Z",
     "start_time": "2019-05-20T12:54:41.296415Z"
    },
    "pycharm": {
     "name": "#%%\n"
    }
   },
   "outputs": [],
   "source": [
    "import warnings\n",
    "import pandas as pd\n",
    "import numpy as np\n",
    "import matplotlib.pyplot as plt\n",
    "import seaborn as sns\n",
    "import missingno as msno\n",
    "import pandas_profiling\n",
    "%matplotlib inline\n",
    "\n",
    "df = pd.read_csv('./processed_data/houses_integrated.csv')\n",
    "\n",
    "# Definimos las opciones de visualizacion\n",
    "pd.set_option('display.max_columns', 500)\n",
    "\n",
    "# Definimos un listado de colores para visualizaciones\n",
    "clr = {'pr': '#5F66A1', 'yw': '#f3ca75',\n",
    "       'mg': '#c874b9', 'gn': '#599d70', 'br': '#636261'}\n",
    "b = '\\033[94m'  # para texto azul\n",
    "o = '\\033[93m'  # para texto naranja\n",
    "n = '\\033[0m'   # para texto normal\n",
    "\n",
    "# Omitimos los warnings\n",
    "warnings.filterwarnings('ignore')"
   ]
  },
  {
   "cell_type": "markdown",
   "metadata": {},
   "source": [
    "# Verificación de los datos"
   ]
  },
  {
   "cell_type": "markdown",
   "metadata": {},
   "source": [
    "En esta fase verificaremos la calidad de los datos por medio de una serie de procesos."
   ]
  },
  {
   "cell_type": "markdown",
   "metadata": {},
   "source": [
    "## Descarte de las casas de alquiler"
   ]
  },
  {
   "cell_type": "markdown",
   "metadata": {},
   "source": [
    "En el conjunto de datos que disponemos, se mezclan anuncios con casa en venta y alquiler. Este análisis se centra en la venta de casas, por lo tanto, los anuncios ligados al alquiler han de descartarse.\n",
    "\n",
    "No obstante, no hay ningún campo que permita esta división de forma directa. Por ello, se opta por emplear el precio para inferir si una casa está a la venta o en alquiler, ya que, en principio, han de tener precios muy distintos.\n",
    "\n",
    "Analizemos por lo tanto los precios por medio de un histograma, acotando los precios entre 2.500€ y 20.000€,  a fin de encontrar un umbral a partir del cual poder considerar que una casa está en venta y no en alquiler:"
   ]
  },
  {
   "cell_type": "code",
   "execution_count": 2,
   "metadata": {
    "ExecuteTime": {
     "end_time": "2019-05-20T12:54:45.881773Z",
     "start_time": "2019-05-20T12:54:45.637654Z"
    },
    "pycharm": {
     "name": "#%%\n"
    }
   },
   "outputs": [
    {
     "data": {
      "image/png": "[encoded data removed]",
      "text/plain": [
       "<Figure size 720x360 with 1 Axes>"
      ]
     },
     "metadata": {
      "needs_background": "light"
     },
     "output_type": "display_data"
    }
   ],
   "source": [
    "f, axes = plt.subplots(1, 1, figsize=(10, 5), sharex=True)\n",
    "sns.despine(left=True)\n",
    "\n",
    "(df['price']\n",
    " .pipe(sns.distplot, hist=False, color=clr['pr'], kde_kws={\"shade\": True, 'clip': (2500, 20000)}))\n",
    "\n",
    "plt.setp(axes, yticks=[])\n",
    "plt.tight_layout()"
   ]
  },
  {
   "cell_type": "markdown",
   "metadata": {},
   "source": [
    "Vemos que hasta los 8.000€ hay casas, y que luego no hay viviendas hasta cerca de los 15.000€. Asumiremos que 15.000€ es más probable que sea el precio de venta a que sea el precio por un alquiler mensual, y viceversa, pensaremos que hasta los 8.000€ son casas de alquiler. Así, se opta por descartar todas las casas por debajo de los 12.500€:"
   ]
  },
  {
   "cell_type": "code",
   "execution_count": 3,
   "metadata": {
    "ExecuteTime": {
     "end_time": "2019-05-20T12:54:45.917769Z",
     "start_time": "2019-05-20T12:54:45.888771Z"
    },
    "pycharm": {
     "name": "#%%\n"
    }
   },
   "outputs": [
    {
     "name": "stdout",
     "output_type": "stream",
     "text": [
      "Se han descartado 2119 casas de alquiler del dataset\n"
     ]
    }
   ],
   "source": [
    "h_num = df[df.price < 12500].shape[0]\n",
    "df = df[df.price > 12500]\n",
    "print(f'Se han descartado {h_num} casas de alquiler del dataset')"
   ]
  },
  {
   "cell_type": "markdown",
   "metadata": {},
   "source": [
    "## Verificación de casas duplicadas"
   ]
  },
  {
   "cell_type": "markdown",
   "metadata": {},
   "source": [
    "Puede que haya casas duplicadas en nuestro conjunto de datos. Cada anuncio de casa se define mediante un identificador único. Por ello, la forma más sencilla para verificar que no haya 2 anuncios repetidos es comprobando ese identificador:"
   ]
  },
  {
   "cell_type": "code",
   "execution_count": 4,
   "metadata": {
    "ExecuteTime": {
     "end_time": "2019-05-20T12:54:46.009330Z",
     "start_time": "2019-05-20T12:54:45.919773Z"
    },
    "pycharm": {
     "name": "#%%\n"
    }
   },
   "outputs": [
    {
     "name": "stdout",
     "output_type": "stream",
     "text": [
      "Se han descartado 0 casas duplicadas del dataset\n"
     ]
    }
   ],
   "source": [
    "h_num = df[df.house_id.duplicated()].shape[0]\n",
    "df.drop_duplicates(subset='house_id', inplace=True)\n",
    "print(f'Se han descartado {h_num} casas duplicadas del dataset')"
   ]
  },
  {
   "cell_type": "markdown",
   "metadata": {},
   "source": [
    "# Estandarización de variables"
   ]
  },
  {
   "cell_type": "markdown",
   "metadata": {},
   "source": [
    "En este apartado se procede a estandarizar las variables, corrigiendo su tipo, y normalizando sus valores, (entendiendo por normalizar, asignarles el valor más representativo).\n",
    "\n",
    "*NOTA: En este apartado no se tratarán ni los missing values ni los outliers. Su gestión se deja para más adelante.*"
   ]
  },
  {
   "cell_type": "markdown",
   "metadata": {},
   "source": [
    "## Estudio de variables a estandarizar"
   ]
  },
  {
   "cell_type": "markdown",
   "metadata": {},
   "source": [
    "Empezaremos analizando cómo han sido asignadas las variables:"
   ]
  },
  {
   "cell_type": "code",
   "execution_count": 5,
   "metadata": {
    "ExecuteTime": {
     "end_time": "2019-05-20T12:54:46.019333Z",
     "start_time": "2019-05-20T12:54:46.011331Z"
    },
    "pycharm": {
     "name": "#%%\n"
    }
   },
   "outputs": [
    {
     "data": {
      "text/plain": [
       "house_id               int64\n",
       "ad_description        object\n",
       "price                  int64\n",
       "bath_num              object\n",
       "condition             object\n",
       "construct_date       float64\n",
       "energetic_certif      object\n",
       "floor                 object\n",
       "ground_size          float64\n",
       "heating               object\n",
       "house_type            object\n",
       "m2_real                int64\n",
       "m2_useful            float64\n",
       "orientation           object\n",
       "room_num              object\n",
       "air_conditioner        int64\n",
       "balcony                int64\n",
       "built_in_wardrobe      int64\n",
       "chimney                int64\n",
       "garage                object\n",
       "garden                 int64\n",
       "kitchen              float64\n",
       "lift                 float64\n",
       "reduced_mobility       int64\n",
       "storage_room           int64\n",
       "swimming_pool          int64\n",
       "terrace                int64\n",
       "unfurnished          float64\n",
       "loc_zone              object\n",
       "loc_district          object\n",
       "loc_city              object\n",
       "loc_neigh             object\n",
       "pop_total              int64\n",
       "pop_0-19               int64\n",
       "pop_20-64              int64\n",
       "pop_>=65               int64\n",
       "pop_foreign          float64\n",
       "rent                   int64\n",
       "dtype: object"
      ]
     },
     "execution_count": 5,
     "metadata": {},
     "output_type": "execute_result"
    }
   ],
   "source": [
    "df.dtypes"
   ]
  },
  {
   "cell_type": "markdown",
   "metadata": {},
   "source": [
    "De la lista superior, extraemos qué variables estudiaremos en la estandarización. En concreto, nos centraremos en 4 grupos: \n",
    "+ Por un lado estandarizaremos las variables numéricas que no hayan asignado como tal\n",
    "+ Por otro lado, estudiaremos las variables categóricas\n",
    "+ A continuación estudiaremos las variables categoricas binarias, es decir, booleanas\n",
    "+ Finalmente, nos centraremos en las variables de texto ligadas a la ubicación\n",
    "\n",
    "<br />\n",
    "\n",
    "**VARIABLES NUMÉRICAS NO ASIGNADAS COMO TAL**\n",
    "\n",
    "+ <font color=#5F66A1>*bath_num*<font>\n",
    "+ <font color=#5F66A1>*room_num*<font>\n",
    "+ <font color=#5F66A1>*garage*<font>\n",
    "\n",
    "\n",
    "**VARIABLES CATEGÓRICAS**\n",
    "\n",
    "+ <font color=#5F66A1>*condition*<font>\n",
    "+ <font color=#5F66A1>*energetic_certif*<font>\n",
    "+ <font color=#5F66A1>*floor*<font>\n",
    "+ <font color=#5F66A1>*heating*<font>\n",
    "+ <font color=#5F66A1>*house_type*<font>\n",
    "+ <font color=#5F66A1>*orientation*<font>\n",
    "\n",
    "\n",
    "**VARIABLES BOOLEANAS**\n",
    "\n",
    "+ <font color=#5F66A1>*air_conditioner*<font>\n",
    "+ <font color=#5F66A1>*balcony*<font>\n",
    "+ <font color=#5F66A1>*built_in_wardrobe*<font>\n",
    "+ <font color=#5F66A1>*chimney*<font>\n",
    "+ <font color=#5F66A1>*garden*<font>\n",
    "+ <font color=#5F66A1>*kitchen*<font>\n",
    "+ <font color=#5F66A1>*lift*<font>\n",
    "+ <font color=#5F66A1>*reduced_mobility*<font>\n",
    "+ <font color=#5F66A1>*storage_room*<font>\n",
    "+ <font color=#5F66A1>*swimming_pool*<font>\n",
    "+ <font color=#5F66A1>*terrace*<font>\n",
    "+ <font color=#5F66A1>*unfurnished*<font>\n",
    "\n",
    "\n",
    "**VARIABLES DE TEXTO LIGADAS A LA UBICACIÓN**\n",
    "\n",
    "+ <font color=#5F66A1>*loc_zone*<font>\n",
    "+ <font color=#5F66A1>*loc_district*<font>\n",
    "+ <font color=#5F66A1>*loc_city*<font>\n",
    "+ <font color=#5F66A1>*loc_neigh*<font>"
   ]
  },
  {
   "cell_type": "markdown",
   "metadata": {},
   "source": [
    "## Estandarización de variables numéricas"
   ]
  },
  {
   "cell_type": "markdown",
   "metadata": {},
   "source": [
    "### <font color=#5F66A1>bath_num</font>"
   ]
  },
  {
   "cell_type": "code",
   "execution_count": 6,
   "metadata": {
    "ExecuteTime": {
     "end_time": "2019-05-20T12:54:46.030861Z",
     "start_time": "2019-05-20T12:54:46.024332Z"
    },
    "pycharm": {
     "name": "#%%\n"
    }
   },
   "outputs": [
    {
     "name": "stdout",
     "output_type": "stream",
     "text": [
      "['4' '2' '1' 'sin baños' '3' '5' '17' '6' '9' '7' '8' '11' '10' '15' '12']\n"
     ]
    }
   ],
   "source": [
    "print(df.bath_num.unique())"
   ]
  },
  {
   "cell_type": "markdown",
   "metadata": {},
   "source": [
    "Vemos como la ausencia de baños se identifica como 'sin baños', en forma de texto. Lo corregimos, y definimos la variable como numérica:"
   ]
  },
  {
   "cell_type": "code",
   "execution_count": 7,
   "metadata": {
    "ExecuteTime": {
     "end_time": "2019-05-20T12:54:46.062852Z",
     "start_time": "2019-05-20T12:54:46.033850Z"
    },
    "pycharm": {
     "name": "#%%\n"
    }
   },
   "outputs": [],
   "source": [
    "df['bath_num'] = (df['bath_num']\n",
    "                  .str.replace('sin baños','0')\n",
    "                  .astype('int64')\n",
    "                 )"
   ]
  },
  {
   "cell_type": "markdown",
   "metadata": {},
   "source": [
    "### <font color=#5F66A1>room_num</font>"
   ]
  },
  {
   "cell_type": "code",
   "execution_count": 8,
   "metadata": {
    "ExecuteTime": {
     "end_time": "2019-05-20T12:54:46.072855Z",
     "start_time": "2019-05-20T12:54:46.065851Z"
    },
    "pycharm": {
     "name": "#%%\n"
    }
   },
   "outputs": [
    {
     "name": "stdout",
     "output_type": "stream",
     "text": [
      "['3' '4' '2' 'sin habitación' '5' '1' '8' '9' '6' '12' '10' '7' '11' '14'\n",
      " '17' '20' '34' '13']\n"
     ]
    }
   ],
   "source": [
    "print(df.room_num.unique())"
   ]
  },
  {
   "cell_type": "markdown",
   "metadata": {},
   "source": [
    "Aquí tambien la ausencia de habitaciones se identifica en forma de texto, como 'sin habitación'. Lo corregimos, y definimos la variable como numérica:"
   ]
  },
  {
   "cell_type": "code",
   "execution_count": 9,
   "metadata": {
    "ExecuteTime": {
     "end_time": "2019-05-20T12:54:46.100845Z",
     "start_time": "2019-05-20T12:54:46.077846Z"
    },
    "pycharm": {
     "name": "#%%\n"
    }
   },
   "outputs": [],
   "source": [
    "df['room_num'] = (df['room_num']\n",
    "                   .str.replace('sin habitación','0')\n",
    "                   .astype('int64')\n",
    "                  )"
   ]
  },
  {
   "cell_type": "markdown",
   "metadata": {},
   "source": [
    "### <font color=#5F66A1>garage</font>"
   ]
  },
  {
   "cell_type": "code",
   "execution_count": 10,
   "metadata": {
    "ExecuteTime": {
     "end_time": "2019-05-20T12:54:46.114856Z",
     "start_time": "2019-05-20T12:54:46.102848Z"
    },
    "pycharm": {
     "name": "#%%\n"
    }
   },
   "outputs": [
    {
     "name": "stdout",
     "output_type": "stream",
     "text": [
      "['plaza de garaje incluida en el precio' nan\n",
      " 'plaza de garaje por 9.500 eur adicionales'\n",
      " 'plaza de garaje por 15.000 eur adicionales'\n",
      " 'plaza de garaje por 50.000 eur adicionales'\n",
      " 'plaza de garaje por 24.451 eur adicionales'\n",
      " 'plaza de garaje por 24.452 eur adicionales'\n",
      " 'plaza de garaje por 12.000 eur adicionales'\n",
      " 'plaza de garaje por 33.000 eur adicionales'\n",
      " 'plaza de garaje por 400.000 eur adicionales'\n",
      " 'plaza de garaje por 34.000 eur adicionales'\n",
      " 'plaza de garaje por 14.900 eur adicionales'\n",
      " 'plaza de garaje por 25.000 eur adicionales'\n",
      " 'plaza de garaje por 19.900 eur adicionales'\n",
      " 'plaza de garaje por 35.000 eur adicionales']\n"
     ]
    }
   ],
   "source": [
    "print(df.garage.unique()[:15])"
   ]
  },
  {
   "cell_type": "markdown",
   "metadata": {},
   "source": [
    "Vemos que la variable refleja el precio de la plaza de garaje en forma de texto. Por lo tanto, extraemos el precio del texto y establecemos que la variable sea numérica:"
   ]
  },
  {
   "cell_type": "code",
   "execution_count": 11,
   "metadata": {
    "ExecuteTime": {
     "end_time": "2019-05-20T12:54:46.166372Z",
     "start_time": "2019-05-20T12:54:46.117855Z"
    },
    "pycharm": {
     "name": "#%%\n"
    }
   },
   "outputs": [],
   "source": [
    "df['garage'] = (df['garage']\n",
    "                .str.replace('plaza de garaje incluida en el precio','0')\n",
    "                .str.replace('.','')\n",
    "                .str.extract('(\\d{1,4})')\n",
    "                .astype('float64')\n",
    "               )"
   ]
  },
  {
   "cell_type": "markdown",
   "metadata": {},
   "source": [
    "## Estandarización de variables categóricas"
   ]
  },
  {
   "cell_type": "markdown",
   "metadata": {},
   "source": [
    "### <font color=#5F66A1>condition</font>"
   ]
  },
  {
   "cell_type": "code",
   "execution_count": 12,
   "metadata": {
    "ExecuteTime": {
     "end_time": "2019-05-20T12:54:46.175379Z",
     "start_time": "2019-05-20T12:54:46.168372Z"
    },
    "pycharm": {
     "name": "#%%\n"
    }
   },
   "outputs": [
    {
     "name": "stdout",
     "output_type": "stream",
     "text": [
      "['segunda mano/buen estado' 'segunda mano/para reformar' nan\n",
      " 'promoción de obra nueva']\n"
     ]
    }
   ],
   "source": [
    "print(df.condition.unique())"
   ]
  },
  {
   "cell_type": "markdown",
   "metadata": {},
   "source": [
    "Vemos que hay 3 posibles categorías. Redefinimos los nombres de las categorías para mejorar su interpretabilidad."
   ]
  },
  {
   "cell_type": "code",
   "execution_count": 13,
   "metadata": {
    "ExecuteTime": {
     "end_time": "2019-05-20T12:54:46.215430Z",
     "start_time": "2019-05-20T12:54:46.179442Z"
    },
    "pycharm": {
     "name": "#%%\n"
    }
   },
   "outputs": [],
   "source": [
    "df = df.replace({'condition':\n",
    "                 {\n",
    "                  'segunda mano/buen estado':'buen estado',\n",
    "                  'segunda mano/para reformar':'para reformar',\n",
    "                  'promoción de obra nueva':'obra nueva'\n",
    "                 }})\n",
    "\n",
    "df['condition'] = df['condition'].astype('category')"
   ]
  },
  {
   "cell_type": "markdown",
   "metadata": {},
   "source": [
    "### <font color=#5F66A1>energetic_certif</font>"
   ]
  },
  {
   "cell_type": "code",
   "execution_count": 14,
   "metadata": {
    "ExecuteTime": {
     "end_time": "2019-05-20T12:54:46.223438Z",
     "start_time": "2019-05-20T12:54:46.217433Z"
    },
    "pycharm": {
     "name": "#%%\n"
    }
   },
   "outputs": [
    {
     "name": "stdout",
     "output_type": "stream",
     "text": [
      "['en trámite' 'no indicado' nan 'inmueble exento']\n"
     ]
    }
   ],
   "source": [
    "print(df.energetic_certif.unique())"
   ]
  },
  {
   "cell_type": "markdown",
   "metadata": {},
   "source": [
    "No requiere ningun tratamiento salvo definirla como categórica:"
   ]
  },
  {
   "cell_type": "code",
   "execution_count": 15,
   "metadata": {
    "ExecuteTime": {
     "end_time": "2019-05-20T12:54:46.239445Z",
     "start_time": "2019-05-20T12:54:46.227433Z"
    },
    "pycharm": {
     "name": "#%%\n"
    }
   },
   "outputs": [],
   "source": [
    "df['energetic_certif'] = df['energetic_certif'].astype('category')"
   ]
  },
  {
   "cell_type": "markdown",
   "metadata": {},
   "source": [
    "### <font color=#5F66A1>floor</font>"
   ]
  },
  {
   "cell_type": "code",
   "execution_count": 16,
   "metadata": {
    "ExecuteTime": {
     "end_time": "2019-05-20T12:54:46.250956Z",
     "start_time": "2019-05-20T12:54:46.243436Z"
    },
    "pycharm": {
     "name": "#%%\n"
    }
   },
   "outputs": [
    {
     "name": "stdout",
     "output_type": "stream",
     "text": [
      "['3 plantas' 'planta 1ª exterior' '2 plantas' nan 'bajo exterior'\n",
      " 'planta 3ª exterior' 'planta 5ª exterior' 'planta 2ª exterior' '1 planta'\n",
      " 'planta 1ª' 'planta 4ª exterior' 'planta 2ª' 'planta 3ª' 'bajo'\n",
      " 'planta 4ª']\n"
     ]
    }
   ],
   "source": [
    "print(df.floor.unique()[:15])"
   ]
  },
  {
   "cell_type": "markdown",
   "metadata": {},
   "source": [
    "Vemos que, a grandes rasgos, esta variable esconde lo que podrían ser 3 variables distintas:\n",
    "\n",
    "+ Número de planta en la que se encuentra el domicilio\n",
    "+ Indicador de si la planta está en el interior o en el exterior\n",
    "+ Número de plantas de las que consta el domicilio\n",
    "\n",
    "Por lo tanto, se procede a dividir la variable en 3. \n",
    "\n",
    "<br />\n",
    "\n",
    "Empezamos generando la variable booleana <font color=#5F66A1>__indoor__</font>, que tomará el valor True si el domicilio está en el interior, y False en el caso contrario:"
   ]
  },
  {
   "cell_type": "code",
   "execution_count": 17,
   "metadata": {
    "ExecuteTime": {
     "end_time": "2019-05-20T12:54:46.279982Z",
     "start_time": "2019-05-20T12:54:46.253957Z"
    },
    "pycharm": {
     "name": "#%%\n"
    }
   },
   "outputs": [
    {
     "name": "stdout",
     "output_type": "stream",
     "text": [
      "[False, NaN, True]\n",
      "Categories (2, object): [False, True]\n"
     ]
    }
   ],
   "source": [
    "df['indoor'] = (df['floor']\n",
    "                .str.contains('interior')\n",
    "                .astype('category')   # no se define como bool porque aún contiene NaN\n",
    "               )\n",
    "\n",
    "print(df['indoor'].unique())"
   ]
  },
  {
   "cell_type": "markdown",
   "metadata": {},
   "source": [
    "<br />\n",
    "\n",
    "A continuación crearemos la variable <font color=#5F66A1>__floor_count__</font>, que recogerá el número de plantas de las que consta la casa.\n",
    "\n",
    "Para ello, empezamos asignando como valor 1 a todas las casas que tengan información sobre la planta (las que estan como NaN las dejaremos por ahora tal cual, puesto que no tenemos información al respecto)"
   ]
  },
  {
   "cell_type": "code",
   "execution_count": 18,
   "metadata": {
    "ExecuteTime": {
     "end_time": "2019-05-20T12:54:46.360498Z",
     "start_time": "2019-05-20T12:54:46.281986Z"
    },
    "pycharm": {
     "name": "#%%\n"
    }
   },
   "outputs": [],
   "source": [
    "df['floor_count'] = np.nan\n",
    "df['floor_count'][df.floor.notna()] = 1"
   ]
  },
  {
   "cell_type": "markdown",
   "metadata": {},
   "source": [
    "A continuación, añadiremos la información sobre las casas con más de una planta. Para ello, seleccionaremos todas las celdas que contengan la palabra 'plantas' (en plural), y de allí extraeremos el número por medio de una expresión regular:"
   ]
  },
  {
   "cell_type": "code",
   "execution_count": 19,
   "metadata": {
    "ExecuteTime": {
     "end_time": "2019-05-20T12:54:46.389504Z",
     "start_time": "2019-05-20T12:54:46.362497Z"
    },
    "pycharm": {
     "name": "#%%\n"
    }
   },
   "outputs": [],
   "source": [
    "f_c = (df['floor'][df.floor.str.contains('plantas', na=False)]\n",
    "       .str.extract('(\\d+)')\n",
    "       .astype('float64')\n",
    "       .rename(columns={0:'floor_count'})\n",
    "      )"
   ]
  },
  {
   "cell_type": "markdown",
   "metadata": {},
   "source": [
    "Una vez hemos extraído el número de plantas de las casas con más de una, actualizamos la variable:"
   ]
  },
  {
   "cell_type": "code",
   "execution_count": 20,
   "metadata": {
    "ExecuteTime": {
     "end_time": "2019-05-20T12:54:46.453497Z",
     "start_time": "2019-05-20T12:54:46.391499Z"
    },
    "pycharm": {
     "name": "#%%\n"
    }
   },
   "outputs": [
    {
     "name": "stdout",
     "output_type": "stream",
     "text": [
      "[ 3.  1.  2. nan  4.  5.]\n"
     ]
    }
   ],
   "source": [
    "df.update(f_c)\n",
    "print(df.floor_count.unique())"
   ]
  },
  {
   "cell_type": "markdown",
   "metadata": {},
   "source": [
    "<br />\n",
    "\n",
    "Por último modificaremos la variable <font color=#5F66A1>__floor__</font>, para que solo recoja el número de planta en el que se encuentra el piso:"
   ]
  },
  {
   "cell_type": "code",
   "execution_count": 21,
   "metadata": {
    "ExecuteTime": {
     "end_time": "2019-05-20T12:54:46.582063Z",
     "start_time": "2019-05-20T12:54:46.456507Z"
    },
    "pycharm": {
     "name": "#%%\n"
    }
   },
   "outputs": [
    {
     "name": "stdout",
     "output_type": "stream",
     "text": [
      "[NaN, 1ª, bajo, 3ª, 5ª, ..., 21ª, 19ª, 30ª, 24ª, 17ª]\n",
      "Length: 31\n",
      "Categories (30, object): [1ª, bajo, 3ª, 5ª, ..., 19ª, 30ª, 24ª, 17ª]\n"
     ]
    }
   ],
   "source": [
    "df['floor'] = (df['floor']\n",
    "               .str.replace('exterior', '')\n",
    "               .str.replace('interior', '')\n",
    "               .str.replace('1 planta', '')\n",
    "               .str.replace('(\\d+) plantas', '')\n",
    "               .str.strip()\n",
    "               .str.replace('planta ', '')\n",
    "               .str.replace('-1', '-1ª')\n",
    "               .str.replace('-2', '-2ª')\n",
    "               .replace('', np.nan)\n",
    "               .astype('category')\n",
    "              )\n",
    "\n",
    "print(df.floor.unique())"
   ]
  },
  {
   "cell_type": "markdown",
   "metadata": {},
   "source": [
    "### <font color=#5F66A1>heating</font>"
   ]
  },
  {
   "cell_type": "code",
   "execution_count": 22,
   "metadata": {
    "ExecuteTime": {
     "end_time": "2019-05-20T12:54:46.589042Z",
     "start_time": "2019-05-20T12:54:46.583043Z"
    },
    "pycharm": {
     "name": "#%%\n"
    }
   },
   "outputs": [
    {
     "name": "stdout",
     "output_type": "stream",
     "text": [
      "[nan 'calefacción individual: gas natural' 'calefacción individual'\n",
      " 'no dispone de calefacción' 'calefacción central: gasoil'\n",
      " 'calefacción individual: eléctrica'\n",
      " 'calefacción individual: gas propano/butano' 'calefacción central'\n",
      " 'calefacción central: gas' 'calefacción individual: gas'\n",
      " 'calefacción individual: bomba de frío/calor'\n",
      " 'calefacción central: gas propano/butano'\n",
      " 'calefacción central: gas natural' 'calefacción individual: gasoil']\n"
     ]
    }
   ],
   "source": [
    "print(df.heating.unique())"
   ]
  },
  {
   "cell_type": "markdown",
   "metadata": {},
   "source": [
    "Sustraemos la palabra 'calefacción' para mayor interpretabilidad, y la definimos como categórica:"
   ]
  },
  {
   "cell_type": "code",
   "execution_count": 23,
   "metadata": {
    "ExecuteTime": {
     "end_time": "2019-05-20T12:54:46.620041Z",
     "start_time": "2019-05-20T12:54:46.597039Z"
    },
    "pycharm": {
     "name": "#%%\n"
    }
   },
   "outputs": [],
   "source": [
    "df['heating'] = (df['heating']\n",
    "                 .str.replace('calefacción ', '')\n",
    "                 .astype('category')\n",
    "                )"
   ]
  },
  {
   "cell_type": "markdown",
   "metadata": {},
   "source": [
    "### <font color=#5F66A1>house_type</font>"
   ]
  },
  {
   "cell_type": "code",
   "execution_count": 24,
   "metadata": {
    "ExecuteTime": {
     "end_time": "2019-05-20T12:54:46.637040Z",
     "start_time": "2019-05-20T12:54:46.624056Z"
    },
    "pycharm": {
     "name": "#%%\n"
    }
   },
   "outputs": [
    {
     "name": "stdout",
     "output_type": "stream",
     "text": [
      "[' Casa o chalet independiente' 'Piso' ' Casa de pueblo' ' Casa rural'\n",
      " 'Dúplex' ' Chalet adosado' ' Caserón' ' Casa o chalet' ' Finca rústica'\n",
      " 'Casa rural' 'Ático' 'Estudio' ' Chalet pareado' ' Palacio'\n",
      " ' Casa terrera' ' Torre' ' Castillo' ' Cortijo']\n"
     ]
    }
   ],
   "source": [
    "print(df.house_type.unique())"
   ]
  },
  {
   "cell_type": "markdown",
   "metadata": {},
   "source": [
    "Eliminamos los espacios en blanco y la definimos como categórica:"
   ]
  },
  {
   "cell_type": "code",
   "execution_count": 25,
   "metadata": {
    "ExecuteTime": {
     "end_time": "2019-05-20T12:54:46.659680Z",
     "start_time": "2019-05-20T12:54:46.641379Z"
    },
    "pycharm": {
     "name": "#%%\n"
    }
   },
   "outputs": [],
   "source": [
    "df['house_type'] = (df['house_type']\n",
    "                    .str.strip()\n",
    "                    .astype('category')\n",
    "                   )"
   ]
  },
  {
   "cell_type": "markdown",
   "metadata": {},
   "source": [
    "### <font color=#5F66A1>orientation</font>"
   ]
  },
  {
   "cell_type": "code",
   "execution_count": 26,
   "metadata": {
    "ExecuteTime": {
     "end_time": "2019-05-20T12:54:46.669683Z",
     "start_time": "2019-05-20T12:54:46.661675Z"
    },
    "pycharm": {
     "name": "#%%\n"
    }
   },
   "outputs": [
    {
     "name": "stdout",
     "output_type": "stream",
     "text": [
      "[nan 'sur' 'sur, este, oeste' 'este, oeste' 'norte' 'norte, sur, este'\n",
      " 'este' 'sur, este' 'sur, oeste' 'norte, este, oeste' 'norte, sur'\n",
      " 'norte, sur, este, oeste' 'norte, este' 'norte, sur, oeste' 'oeste'\n",
      " 'norte, oeste']\n"
     ]
    }
   ],
   "source": [
    "print(df.orientation.unique())"
   ]
  },
  {
   "cell_type": "markdown",
   "metadata": {},
   "source": [
    "No requiere estandarización salvo definirla como categórica:"
   ]
  },
  {
   "cell_type": "code",
   "execution_count": 27,
   "metadata": {
    "ExecuteTime": {
     "end_time": "2019-05-20T12:54:46.685683Z",
     "start_time": "2019-05-20T12:54:46.674688Z"
    },
    "pycharm": {
     "name": "#%%\n"
    }
   },
   "outputs": [],
   "source": [
    "df['orientation'] = (df['orientation'].astype('category'))"
   ]
  },
  {
   "cell_type": "markdown",
   "metadata": {},
   "source": [
    "## Estandarización de variables booleanas"
   ]
  },
  {
   "cell_type": "markdown",
   "metadata": {},
   "source": [
    "Analizamos qué valores tienen las variables booleanas:"
   ]
  },
  {
   "cell_type": "code",
   "execution_count": 28,
   "metadata": {
    "ExecuteTime": {
     "end_time": "2019-05-20T12:54:46.709679Z",
     "start_time": "2019-05-20T12:54:46.688684Z"
    },
    "pycharm": {
     "name": "#%%\n"
    }
   },
   "outputs": [
    {
     "name": "stdout",
     "output_type": "stream",
     "text": [
      "Valores para \u001b[94mair_conditioner\u001b[0m: [0 1]\n",
      "Valores para \u001b[94mbalcony\u001b[0m: [1 0]\n",
      "Valores para \u001b[94mbuilt_in_wardrobe\u001b[0m: [1 0]\n",
      "Valores para \u001b[94mchimney\u001b[0m: [0 1]\n",
      "Valores para \u001b[94mgarden\u001b[0m: [1 0]\n",
      "Valores para \u001b[94mkitchen\u001b[0m: [nan]\n",
      "Valores para \u001b[94mlift\u001b[0m: [nan  0.  1.]\n",
      "Valores para \u001b[94mreduced_mobility\u001b[0m: [0 1]\n",
      "Valores para \u001b[94mstorage_room\u001b[0m: [1 0]\n",
      "Valores para \u001b[94mswimming_pool\u001b[0m: [1 0]\n",
      "Valores para \u001b[94mterrace\u001b[0m: [0 1]\n",
      "Valores para \u001b[94munfurnished\u001b[0m: [nan]\n"
     ]
    }
   ],
   "source": [
    "print(f'Valores para {b}air_conditioner{n}: {df.air_conditioner.unique()}')\n",
    "print(f'Valores para {b}balcony{n}: {df.balcony.unique()}')\n",
    "print(f'Valores para {b}built_in_wardrobe{n}: {df.built_in_wardrobe.unique()}')\n",
    "print(f'Valores para {b}chimney{n}: {df.chimney.unique()}')\n",
    "print(f'Valores para {b}garden{n}: {df.garden.unique()}')\n",
    "print(f'Valores para {b}kitchen{n}: {df.kitchen.unique()}')\n",
    "print(f'Valores para {b}lift{n}: {df.lift.unique()}')\n",
    "print(f'Valores para {b}reduced_mobility{n}: {df.reduced_mobility.unique()}')\n",
    "print(f'Valores para {b}storage_room{n}: {df.storage_room.unique()}')\n",
    "print(f'Valores para {b}swimming_pool{n}: {df.swimming_pool.unique()}')\n",
    "print(f'Valores para {b}terrace{n}: {df.terrace.unique()}')\n",
    "print(f'Valores para {b}unfurnished{n}: {df.unfurnished.unique()}')"
   ]
  },
  {
   "cell_type": "markdown",
   "metadata": {},
   "source": [
    "Por un lado  vemosque las variables <font color=#5F66A1>__kitchen__</font> y <font color=#5F66A1>__unfurnished__</font> solo contienen *NaN*, probablemente porque se traten de variables ligadas exclusivamente a casas de alquiler. Por lo tanto, las eliminamos:"
   ]
  },
  {
   "cell_type": "code",
   "execution_count": 29,
   "metadata": {
    "ExecuteTime": {
     "end_time": "2019-05-20T12:54:46.726679Z",
     "start_time": "2019-05-20T12:54:46.711680Z"
    },
    "pycharm": {
     "name": "#%%\n"
    }
   },
   "outputs": [],
   "source": [
    "df = df.drop(columns=['kitchen', 'unfurnished'])"
   ]
  },
  {
   "cell_type": "markdown",
   "metadata": {},
   "source": [
    "Por otra parte, vemos que la variable <font color=#5F66A1>__lift__</font>, a pesar de ser booleana, contiene valores NaN, por lo que la definimos como categórica por ahora:"
   ]
  },
  {
   "cell_type": "code",
   "execution_count": 30,
   "metadata": {
    "ExecuteTime": {
     "end_time": "2019-05-20T12:54:46.735681Z",
     "start_time": "2019-05-20T12:54:46.728679Z"
    },
    "pycharm": {
     "name": "#%%\n"
    }
   },
   "outputs": [],
   "source": [
    "df['lift'] = df['lift'].astype('category')"
   ]
  },
  {
   "cell_type": "markdown",
   "metadata": {},
   "source": [
    "Finalmente, el resto de variables categóricas las definimos como booleanas:"
   ]
  },
  {
   "cell_type": "code",
   "execution_count": 31,
   "metadata": {
    "ExecuteTime": {
     "end_time": "2019-05-20T12:54:46.771732Z",
     "start_time": "2019-05-20T12:54:46.738682Z"
    },
    "pycharm": {
     "name": "#%%\n"
    }
   },
   "outputs": [],
   "source": [
    "df['air_conditioner'] = df['air_conditioner'].astype('bool')\n",
    "df['balcony'] = df['balcony'].astype('bool')\n",
    "df['built_in_wardrobe'] = df['built_in_wardrobe'].astype('bool')\n",
    "df['chimney'] = df['chimney'].astype('bool')\n",
    "df['garden'] = df['garden'].astype('bool')\n",
    "df['reduced_mobility'] = df['reduced_mobility'].astype('bool')\n",
    "df['storage_room'] = df['storage_room'].astype('bool')\n",
    "df['swimming_pool'] = df['swimming_pool'].astype('bool')\n",
    "df['terrace'] = df['terrace'].astype('bool')"
   ]
  },
  {
   "cell_type": "code",
   "execution_count": 32,
   "metadata": {
    "ExecuteTime": {
     "end_time": "2019-05-20T12:54:46.792724Z",
     "start_time": "2019-05-20T12:54:46.775734Z"
    }
   },
   "outputs": [
    {
     "name": "stdout",
     "output_type": "stream",
     "text": [
      "Nuevos valores para \u001b[94mair_conditioner\u001b[0m: [False  True]\n",
      "Nuevos valores para \u001b[94mbalcony\u001b[0m: [ True False]\n",
      "Nuevos valores para \u001b[94mbuilt_in_wardrobe\u001b[0m: [ True False]\n",
      "Nuevos valores para \u001b[94mchimney\u001b[0m: [False  True]\n",
      "Nuevos valores para \u001b[94mgarden\u001b[0m: [ True False]\n",
      "Nuevos valores para \u001b[94mlift\u001b[0m: [NaN, 0.0, 1.0]\n",
      "Categories (2, float64): [0.0, 1.0]\n",
      "Nuevos valores para \u001b[94mreduced_mobility\u001b[0m: [False  True]\n",
      "Nuevos valores para \u001b[94mstorage_room\u001b[0m: [ True False]\n",
      "Nuevos valores para \u001b[94mswimming_pool\u001b[0m: [ True False]\n",
      "Nuevos valores para \u001b[94mterrace\u001b[0m: [False  True]\n"
     ]
    }
   ],
   "source": [
    "print(f'Nuevos valores para {b}air_conditioner{n}: {df.air_conditioner.unique()}')\n",
    "print(f'Nuevos valores para {b}balcony{n}: {df.balcony.unique()}')\n",
    "print(f'Nuevos valores para {b}built_in_wardrobe{n}: {df.built_in_wardrobe.unique()}')\n",
    "print(f'Nuevos valores para {b}chimney{n}: {df.chimney.unique()}')\n",
    "print(f'Nuevos valores para {b}garden{n}: {df.garden.unique()}')\n",
    "print(f'Nuevos valores para {b}lift{n}: {df.lift.unique()}')\n",
    "print(f'Nuevos valores para {b}reduced_mobility{n}: {df.reduced_mobility.unique()}')\n",
    "print(f'Nuevos valores para {b}storage_room{n}: {df.storage_room.unique()}')\n",
    "print(f'Nuevos valores para {b}swimming_pool{n}: {df.swimming_pool.unique()}')\n",
    "print(f'Nuevos valores para {b}terrace{n}: {df.terrace.unique()}')"
   ]
  },
  {
   "cell_type": "markdown",
   "metadata": {},
   "source": [
    "## Estandarización de variables ligadas a la ubicación"
   ]
  },
  {
   "cell_type": "markdown",
   "metadata": {},
   "source": [
    "La localización de cada vivienda viene especificada por medio de 4 variables distintas, las cuales están organizadas de forma jerárquica del siguiente modo:\n",
    "\n",
    "+ <font color=#5F66A1>__loc_zone__</font> &nbsp; > &nbsp;<font color=#5F66A1>__loc_city__</font> &nbsp;> &nbsp;<font color=#5F66A1>__loc_district__</font> &nbsp;> &nbsp;<font color=#5F66A1>__loc_neigh__</font>"
   ]
  },
  {
   "cell_type": "markdown",
   "metadata": {},
   "source": [
    "### <font color=#5F66A1>loc_zone</font>"
   ]
  },
  {
   "cell_type": "code",
   "execution_count": 33,
   "metadata": {
    "ExecuteTime": {
     "end_time": "2019-05-20T12:54:46.803734Z",
     "start_time": "2019-05-20T12:54:46.795735Z"
    },
    "pycharm": {
     "name": "#%%\n"
    }
   },
   "outputs": [
    {
     "name": "stdout",
     "output_type": "stream",
     "text": [
      "['Encartaciones, Vizcaya' 'Lea-Artibai, Vizcaya' 'Duranguesado, Vizcaya'\n",
      " 'Gran Bilbao, Vizcaya' 'Busturialdea, Vizcaya' 'Arratia-Nervión, Vizcaya'\n",
      " 'Tolosaldea, Guipúzcoa' 'Donostialdea, Guipúzcoa' 'Uribe-Butroe, Vizcaya'\n",
      " 'Alto Deba, Guipúzcoa' 'Bajo Bidasoa, Guipúzcoa' 'Bajo Deba, Guipúzcoa'\n",
      " 'Goierri, Guipúzcoa' 'Urola Kosta, Guipúzcoa']\n"
     ]
    }
   ],
   "source": [
    "print(df.loc_zone.unique())"
   ]
  },
  {
   "cell_type": "markdown",
   "metadata": {},
   "source": [
    "Definimos las provincias con las iniciales y convertimos la variable en categórica:"
   ]
  },
  {
   "cell_type": "code",
   "execution_count": 34,
   "metadata": {
    "ExecuteTime": {
     "end_time": "2019-05-20T12:54:46.862771Z",
     "start_time": "2019-05-20T12:54:46.807757Z"
    },
    "pycharm": {
     "name": "#%%\n"
    }
   },
   "outputs": [
    {
     "name": "stdout",
     "output_type": "stream",
     "text": [
      "[Encartaciones (BIZ), Lea-Artibai (BIZ), Duranguesado (BIZ), Gran Bilbao (BIZ), Busturialdea (BIZ), ..., Alto Deba (GIP), Bajo Bidasoa (GIP), Bajo Deba (GIP), Goierri (GIP), Urola Kosta (GIP)]\n",
      "Length: 14\n",
      "Categories (14, object): [Encartaciones (BIZ), Lea-Artibai (BIZ), Duranguesado (BIZ), Gran Bilbao (BIZ), ..., Bajo Bidasoa (GIP), Bajo Deba (GIP), Goierri (GIP), Urola Kosta (GIP)]\n"
     ]
    }
   ],
   "source": [
    "df['loc_zone'] = (df['loc_zone']\n",
    "                  .str.replace(', Vizcaya',' (BIZ)')\n",
    "                  .str.replace(', Guipúzcoa',' (GIP)')\n",
    "                  .astype('category')\n",
    "                 )\n",
    "\n",
    "print(df.loc_zone.unique())"
   ]
  },
  {
   "cell_type": "markdown",
   "metadata": {},
   "source": [
    "### <font color=#5F66A1>loc_city</font>"
   ]
  },
  {
   "cell_type": "code",
   "execution_count": 35,
   "metadata": {
    "ExecuteTime": {
     "end_time": "2019-05-20T12:54:46.873777Z",
     "start_time": "2019-05-20T12:54:46.864773Z"
    },
    "pycharm": {
     "name": "#%%\n"
    }
   },
   "outputs": [
    {
     "name": "stdout",
     "output_type": "stream",
     "text": [
      "['Gordexola' 'Karrantza Harana/Valle de Carranza' 'Balmaseda' 'Güeñes'\n",
      " 'Zalla' 'Artzentales' 'Sopuerta' 'Galdames' 'Trucios-Turtzioz'\n",
      " 'Lanestosa' 'Mendexa' 'Lekeitio' 'Berriatua' 'Ondarroa' 'Amoroto']\n"
     ]
    }
   ],
   "source": [
    "print(df.loc_city.unique()[:15])"
   ]
  },
  {
   "cell_type": "markdown",
   "metadata": {},
   "source": [
    "Los valores están ya lo suficientemente estandarizados, por lo que los dejamos como están, y establecemos la variable como categórica:"
   ]
  },
  {
   "cell_type": "code",
   "execution_count": 36,
   "metadata": {
    "ExecuteTime": {
     "end_time": "2019-05-20T12:54:46.886769Z",
     "start_time": "2019-05-20T12:54:46.877774Z"
    },
    "pycharm": {
     "name": "#%%\n"
    }
   },
   "outputs": [],
   "source": [
    "df['loc_city'] = df['loc_city'].astype('category')"
   ]
  },
  {
   "cell_type": "markdown",
   "metadata": {},
   "source": [
    "### <font color=#5F66A1>loc_district</font>"
   ]
  },
  {
   "cell_type": "code",
   "execution_count": 37,
   "metadata": {
    "ExecuteTime": {
     "end_time": "2019-05-20T12:54:46.898769Z",
     "start_time": "2019-05-20T12:54:46.889773Z"
    },
    "pycharm": {
     "name": "#%%\n"
    }
   },
   "outputs": [
    {
     "name": "stdout",
     "output_type": "stream",
     "text": [
      "Número de distritos: 5604\n"
     ]
    }
   ],
   "source": [
    "print(f\"Número de distritos: {len(df.loc_district.unique())}\")"
   ]
  },
  {
   "cell_type": "markdown",
   "metadata": {
    "variables": {
     "len(df.loc_district.unique())": "5604"
    }
   },
   "source": [
    "Vemos que hay {{len(df.loc_district.unique())}} distritos distintos. No obstante, en muchos casos, en vez del distrito como tal, el campo guarda información relativa a la calle, urbanización, etc., como puede verse a continuación:"
   ]
  },
  {
   "cell_type": "code",
   "execution_count": 38,
   "metadata": {
    "ExecuteTime": {
     "end_time": "2019-05-20T12:54:46.934768Z",
     "start_time": "2019-05-20T12:54:46.900769Z"
    },
    "pycharm": {
     "name": "#%%\n"
    }
   },
   "outputs": [
    {
     "name": "stdout",
     "output_type": "stream",
     "text": [
      "6549             Distrito Lasesarre\n",
      "1679                       san juan\n",
      "10168    Distrito Begoña - Santutxu\n",
      "23584                 Urb. ERREZUBI\n",
      "5071            Distrito Las Arenas\n",
      "Name: loc_district, dtype: object\n"
     ]
    }
   ],
   "source": [
    "print(df.sample(frac=1, random_state=89)['loc_district'][df.loc_district.notnull()].head(5))"
   ]
  },
  {
   "cell_type": "markdown",
   "metadata": {},
   "source": [
    "Dado que cada distrito está precedido por la palabra 'Distrito', eliminamos todos los valores que no coincidan con este patrón:"
   ]
  },
  {
   "cell_type": "code",
   "execution_count": 39,
   "metadata": {
    "ExecuteTime": {
     "end_time": "2019-05-20T12:54:46.997322Z",
     "start_time": "2019-05-20T12:54:46.936769Z"
    },
    "pycharm": {
     "name": "#%%\n"
    }
   },
   "outputs": [],
   "source": [
    "df['loc_district'] = (df['loc_district']\n",
    "                      .str.extract(r'(Distrito .*)')[0]\n",
    "                      .str.replace('Distrito ','')\n",
    "                     )"
   ]
  },
  {
   "cell_type": "markdown",
   "metadata": {},
   "source": [
    "Por otro lado, para asegurarnos de que no haya distritos distintos compartiendo un mismo nombre, agregaremos las iniciales de cada ciudad:"
   ]
  },
  {
   "cell_type": "code",
   "execution_count": 40,
   "metadata": {
    "ExecuteTime": {
     "end_time": "2019-05-20T12:54:47.050838Z",
     "start_time": "2019-05-20T12:54:46.999326Z"
    },
    "pycharm": {
     "name": "#%%\n"
    }
   },
   "outputs": [
    {
     "name": "stdout",
     "output_type": "stream",
     "text": [
      "6549                                   Lasesarre (Bara)\n",
      "10168                          Begoña - Santutxu (Bilb)\n",
      "5071                                  Las Arenas (Getx)\n",
      "4582                                      Neguri (Getx)\n",
      "24214    Lapice - Larreaundi - Olaberria - Meaka (Irun)\n",
      "Name: loc_district, dtype: object\n"
     ]
    }
   ],
   "source": [
    "df['loc_district'] = (np.where(df.loc_district.notnull()\n",
    "                      , df.loc_district+' ('+df.loc_city.str[:4]+')'\n",
    "                      , np.nan)\n",
    "                     )\n",
    "\n",
    "print(df.sample(frac=1, random_state=89)['loc_district'][df.loc_district.notnull()].head(5))"
   ]
  },
  {
   "cell_type": "markdown",
   "metadata": {},
   "source": [
    "Finalmente, comprobamos el número de distritos que hay tras el proceso de limpieza:"
   ]
  },
  {
   "cell_type": "code",
   "execution_count": 41,
   "metadata": {
    "ExecuteTime": {
     "end_time": "2019-05-20T12:54:47.061842Z",
     "start_time": "2019-05-20T12:54:47.052838Z"
    },
    "pycharm": {
     "name": "#%%\n"
    }
   },
   "outputs": [
    {
     "name": "stdout",
     "output_type": "stream",
     "text": [
      "Número de distritos tras limpieza: 80\n"
     ]
    }
   ],
   "source": [
    "print(f\"Número de distritos tras limpieza: {len(df.loc_district.unique())}\")"
   ]
  },
  {
   "cell_type": "markdown",
   "metadata": {},
   "source": [
    "### <font color=#5F66A1>loc_neigh</font>"
   ]
  },
  {
   "cell_type": "code",
   "execution_count": 42,
   "metadata": {
    "ExecuteTime": {
     "end_time": "2019-05-20T12:54:47.070844Z",
     "start_time": "2019-05-20T12:54:47.063845Z"
    },
    "pycharm": {
     "name": "#%%\n"
    }
   },
   "outputs": [
    {
     "name": "stdout",
     "output_type": "stream",
     "text": [
      "Número de barrios: 3400\n"
     ]
    }
   ],
   "source": [
    "print(f\"Número de barrios: {len(df.loc_neigh.unique())}\")"
   ]
  },
  {
   "cell_type": "markdown",
   "metadata": {
    "variables": {
     "len(df.loc_neigh.unique())": "3400"
    }
   },
   "source": [
    "Vemos que hay {{len(df.loc_neigh.unique())}} barrios distintos. Sin embargo, sucede lo mismo que sucedía con el distrito, que en vez del barrio, en muchos casos el campo guarda información relativa a la calle, urbanización, etc.:"
   ]
  },
  {
   "cell_type": "code",
   "execution_count": 43,
   "metadata": {
    "ExecuteTime": {
     "end_time": "2019-05-20T12:54:47.103391Z",
     "start_time": "2019-05-20T12:54:47.074841Z"
    },
    "pycharm": {
     "name": "#%%\n"
    }
   },
   "outputs": [
    {
     "name": "stdout",
     "output_type": "stream",
     "text": [
      "10168    Barrio Santutxu-Basarrate\n",
      "23584           Calle DONOSTIA, 34\n",
      "5071                   Barrio Romo\n",
      "4582                      Etxezuri\n",
      "21988        Barrio Área Romántica\n",
      "Name: loc_neigh, dtype: object\n"
     ]
    }
   ],
   "source": [
    "print(df.sample(frac=1, random_state=89)['loc_neigh'][df.loc_neigh.notnull()].head(5))"
   ]
  },
  {
   "cell_type": "markdown",
   "metadata": {},
   "source": [
    "En este caso, el barrio viene precedido siempre por la palabra 'Barrio'. Así, repetimos el mismo proceso que en el anterior caso:"
   ]
  },
  {
   "cell_type": "code",
   "execution_count": 44,
   "metadata": {
    "ExecuteTime": {
     "end_time": "2019-05-20T12:54:47.166919Z",
     "start_time": "2019-05-20T12:54:47.106395Z"
    },
    "pycharm": {
     "name": "#%%\n"
    }
   },
   "outputs": [
    {
     "name": "stdout",
     "output_type": "stream",
     "text": [
      "10168    Santutxu-Basarrate (Bilb)\n",
      "5071                   Romo (Getx)\n",
      "21988        Área Romántica (Dono)\n",
      "17084        Rekalde Centro (Bilb)\n",
      "5643               Usategui (Getx)\n",
      "Name: loc_neigh, dtype: object\n"
     ]
    }
   ],
   "source": [
    "df['loc_neigh'] = (df['loc_neigh']\n",
    "                      .str.extract(r'(Barrio .*)')[0]\n",
    "                      .str.replace('Barrio ','')\n",
    "                     )\n",
    "\n",
    "df['loc_neigh'] = (np.where(df.loc_neigh.notnull()\n",
    "                      , df.loc_neigh+' ('+df.loc_city.str[:4]+')'\n",
    "                      , np.nan)\n",
    "                  )\n",
    "\n",
    "print(df.sample(frac=1, random_state=89)['loc_neigh'][df.loc_neigh.notnull()].head(5))"
   ]
  },
  {
   "cell_type": "markdown",
   "metadata": {},
   "source": [
    "Finalmente, comprobamos el número de barrios que hay tras el proceso de limpieza:"
   ]
  },
  {
   "cell_type": "code",
   "execution_count": 45,
   "metadata": {
    "ExecuteTime": {
     "end_time": "2019-05-20T12:54:47.174923Z",
     "start_time": "2019-05-20T12:54:47.167919Z"
    }
   },
   "outputs": [
    {
     "name": "stdout",
     "output_type": "stream",
     "text": [
      "Número de barrios tras limpieza: 79\n"
     ]
    }
   ],
   "source": [
    "print(f\"Número de barrios tras limpieza: {len(df.loc_neigh.unique())}\")"
   ]
  },
  {
   "cell_type": "markdown",
   "metadata": {},
   "source": [
    "# Gestión de ruido y valores extremos"
   ]
  },
  {
   "cell_type": "markdown",
   "metadata": {},
   "source": [
    "En este apartado cotejaremos que los valores estén dentro de un rango plausible. De este modo, por cada variable numérica, gestionaremos tanto los valores extremos como las incongruencias. Además, se cotejará también la veracidad de algunas variables categóricas. "
   ]
  },
  {
   "cell_type": "markdown",
   "metadata": {},
   "source": [
    "## Ruido y outliers en variables numéricas"
   ]
  },
  {
   "cell_type": "markdown",
   "metadata": {},
   "source": [
    "### <font color=#5F66A1>m2_real</font> & <font color=#5F66A1>m2_useful</font>"
   ]
  },
  {
   "cell_type": "markdown",
   "metadata": {},
   "source": [
    "Empezemos mostrando en un boxplot la dispersión de los metros cuadadros reales de las viviendas:"
   ]
  },
  {
   "cell_type": "code",
   "execution_count": 46,
   "metadata": {
    "ExecuteTime": {
     "end_time": "2019-05-20T12:54:47.336988Z",
     "start_time": "2019-05-20T12:54:47.176924Z"
    }
   },
   "outputs": [
    {
     "data": {
      "image/png": "[encoded data removed]",
      "text/plain": [
       "<Figure size 720x216 with 1 Axes>"
      ]
     },
     "metadata": {
      "needs_background": "light"
     },
     "output_type": "display_data"
    }
   ],
   "source": [
    "f, axes = plt.subplots(1, 1, figsize=(10, 3), sharex=True)\n",
    "sns.despine(left=True)\n",
    "\n",
    "(df\n",
    " .loc[:,'m2_real']\n",
    " .dropna()\n",
    " .pipe(sns.boxplot, color=clr['pr'], boxprops=dict(alpha=.7)))\n",
    "\n",
    "plt.setp(axes, yticks=[])\n",
    "plt.tight_layout()"
   ]
  },
  {
   "cell_type": "markdown",
   "metadata": {},
   "source": [
    "Observamos que hay 2 casos muy extremos. Los exploramos a fin de determinar cómo tratarlos:"
   ]
  },
  {
   "cell_type": "code",
   "execution_count": 47,
   "metadata": {
    "ExecuteTime": {
     "end_time": "2019-05-20T12:54:47.428508Z",
     "start_time": "2019-05-20T12:54:47.338994Z"
    }
   },
   "outputs": [
    {
     "data": {
      "text/html": [
       "<style  type=\"text/css\" >\n",
       "    #T_72953a90_7afe_11e9_9d19_64006a975d62row0_col1 {\n",
       "            min-width:  400px;\n",
       "        }    #T_72953a90_7afe_11e9_9d19_64006a975d62row1_col1 {\n",
       "            min-width:  400px;\n",
       "        }</style><table id=\"T_72953a90_7afe_11e9_9d19_64006a975d62\" ><thead>    <tr>        <th class=\"blank level0\" ></th>        <th class=\"col_heading level0 col0\" >house_id</th>        <th class=\"col_heading level0 col1\" >ad_description</th>        <th class=\"col_heading level0 col2\" >price</th>        <th class=\"col_heading level0 col3\" >bath_num</th>        <th class=\"col_heading level0 col4\" >condition</th>        <th class=\"col_heading level0 col5\" >construct_date</th>        <th class=\"col_heading level0 col6\" >energetic_certif</th>        <th class=\"col_heading level0 col7\" >floor</th>        <th class=\"col_heading level0 col8\" >ground_size</th>        <th class=\"col_heading level0 col9\" >heating</th>        <th class=\"col_heading level0 col10\" >house_type</th>        <th class=\"col_heading level0 col11\" >m2_real</th>        <th class=\"col_heading level0 col12\" >m2_useful</th>        <th class=\"col_heading level0 col13\" >orientation</th>        <th class=\"col_heading level0 col14\" >room_num</th>        <th class=\"col_heading level0 col15\" >air_conditioner</th>        <th class=\"col_heading level0 col16\" >balcony</th>        <th class=\"col_heading level0 col17\" >built_in_wardrobe</th>        <th class=\"col_heading level0 col18\" >chimney</th>        <th class=\"col_heading level0 col19\" >garage</th>        <th class=\"col_heading level0 col20\" >garden</th>        <th class=\"col_heading level0 col21\" >lift</th>        <th class=\"col_heading level0 col22\" >reduced_mobility</th>        <th class=\"col_heading level0 col23\" >storage_room</th>        <th class=\"col_heading level0 col24\" >swimming_pool</th>        <th class=\"col_heading level0 col25\" >terrace</th>        <th class=\"col_heading level0 col26\" >loc_zone</th>        <th class=\"col_heading level0 col27\" >loc_district</th>        <th class=\"col_heading level0 col28\" >loc_city</th>        <th class=\"col_heading level0 col29\" >loc_neigh</th>        <th class=\"col_heading level0 col30\" >pop_total</th>        <th class=\"col_heading level0 col31\" >pop_0-19</th>        <th class=\"col_heading level0 col32\" >pop_20-64</th>        <th class=\"col_heading level0 col33\" >pop_>=65</th>        <th class=\"col_heading level0 col34\" >pop_foreign</th>        <th class=\"col_heading level0 col35\" >rent</th>        <th class=\"col_heading level0 col36\" >indoor</th>        <th class=\"col_heading level0 col37\" >floor_count</th>    </tr></thead><tbody>\n",
       "                <tr>\n",
       "                        <th id=\"T_72953a90_7afe_11e9_9d19_64006a975d62level0_row0\" class=\"row_heading level0 row0\" >15587</th>\n",
       "                        <td id=\"T_72953a90_7afe_11e9_9d19_64006a975d62row0_col0\" class=\"data row0 col0\" >82667064</td>\n",
       "                        <td id=\"T_72953a90_7afe_11e9_9d19_64006a975d62row0_col1\" class=\"data row0 col1\" >Se vende magnífica casa individual de tres plantas en la zona de Unbemendi, Laukiz. La casa dispone de 2.037 metros cuadrados de terreno y 415 metros cuadrados de vivienda incluyendo el txoko. Consta de ocho habitaciones amplias, dos salones comedor muy amplios y luminosos, siete baños, una cocina comedor, tres terrazas y un garaje con capacidad para tres o cuatro coches. Dispone de tres chimeneas, un txoko de 300m2 y un trastero.,Para más información no dudes en ponerte en contacto con nosotros.</td>\n",
       "                        <td id=\"T_72953a90_7afe_11e9_9d19_64006a975d62row0_col2\" class=\"data row0 col2\" >720000</td>\n",
       "                        <td id=\"T_72953a90_7afe_11e9_9d19_64006a975d62row0_col3\" class=\"data row0 col3\" >6</td>\n",
       "                        <td id=\"T_72953a90_7afe_11e9_9d19_64006a975d62row0_col4\" class=\"data row0 col4\" >para reformar</td>\n",
       "                        <td id=\"T_72953a90_7afe_11e9_9d19_64006a975d62row0_col5\" class=\"data row0 col5\" >nan</td>\n",
       "                        <td id=\"T_72953a90_7afe_11e9_9d19_64006a975d62row0_col6\" class=\"data row0 col6\" >en trámite</td>\n",
       "                        <td id=\"T_72953a90_7afe_11e9_9d19_64006a975d62row0_col7\" class=\"data row0 col7\" >nan</td>\n",
       "                        <td id=\"T_72953a90_7afe_11e9_9d19_64006a975d62row0_col8\" class=\"data row0 col8\" >2037</td>\n",
       "                        <td id=\"T_72953a90_7afe_11e9_9d19_64006a975d62row0_col9\" class=\"data row0 col9\" >nan</td>\n",
       "                        <td id=\"T_72953a90_7afe_11e9_9d19_64006a975d62row0_col10\" class=\"data row0 col10\" >Casa o chalet independiente</td>\n",
       "                        <td id=\"T_72953a90_7afe_11e9_9d19_64006a975d62row0_col11\" class=\"data row0 col11\" >415000</td>\n",
       "                        <td id=\"T_72953a90_7afe_11e9_9d19_64006a975d62row0_col12\" class=\"data row0 col12\" >nan</td>\n",
       "                        <td id=\"T_72953a90_7afe_11e9_9d19_64006a975d62row0_col13\" class=\"data row0 col13\" >norte, sur, este, oeste</td>\n",
       "                        <td id=\"T_72953a90_7afe_11e9_9d19_64006a975d62row0_col14\" class=\"data row0 col14\" >8</td>\n",
       "                        <td id=\"T_72953a90_7afe_11e9_9d19_64006a975d62row0_col15\" class=\"data row0 col15\" >False</td>\n",
       "                        <td id=\"T_72953a90_7afe_11e9_9d19_64006a975d62row0_col16\" class=\"data row0 col16\" >False</td>\n",
       "                        <td id=\"T_72953a90_7afe_11e9_9d19_64006a975d62row0_col17\" class=\"data row0 col17\" >True</td>\n",
       "                        <td id=\"T_72953a90_7afe_11e9_9d19_64006a975d62row0_col18\" class=\"data row0 col18\" >False</td>\n",
       "                        <td id=\"T_72953a90_7afe_11e9_9d19_64006a975d62row0_col19\" class=\"data row0 col19\" >0</td>\n",
       "                        <td id=\"T_72953a90_7afe_11e9_9d19_64006a975d62row0_col20\" class=\"data row0 col20\" >True</td>\n",
       "                        <td id=\"T_72953a90_7afe_11e9_9d19_64006a975d62row0_col21\" class=\"data row0 col21\" >nan</td>\n",
       "                        <td id=\"T_72953a90_7afe_11e9_9d19_64006a975d62row0_col22\" class=\"data row0 col22\" >True</td>\n",
       "                        <td id=\"T_72953a90_7afe_11e9_9d19_64006a975d62row0_col23\" class=\"data row0 col23\" >True</td>\n",
       "                        <td id=\"T_72953a90_7afe_11e9_9d19_64006a975d62row0_col24\" class=\"data row0 col24\" >True</td>\n",
       "                        <td id=\"T_72953a90_7afe_11e9_9d19_64006a975d62row0_col25\" class=\"data row0 col25\" >True</td>\n",
       "                        <td id=\"T_72953a90_7afe_11e9_9d19_64006a975d62row0_col26\" class=\"data row0 col26\" >Uribe-Butroe (BIZ)</td>\n",
       "                        <td id=\"T_72953a90_7afe_11e9_9d19_64006a975d62row0_col27\" class=\"data row0 col27\" >nan</td>\n",
       "                        <td id=\"T_72953a90_7afe_11e9_9d19_64006a975d62row0_col28\" class=\"data row0 col28\" >Laukiz</td>\n",
       "                        <td id=\"T_72953a90_7afe_11e9_9d19_64006a975d62row0_col29\" class=\"data row0 col29\" >nan</td>\n",
       "                        <td id=\"T_72953a90_7afe_11e9_9d19_64006a975d62row0_col30\" class=\"data row0 col30\" >1191</td>\n",
       "                        <td id=\"T_72953a90_7afe_11e9_9d19_64006a975d62row0_col31\" class=\"data row0 col31\" >24</td>\n",
       "                        <td id=\"T_72953a90_7afe_11e9_9d19_64006a975d62row0_col32\" class=\"data row0 col32\" >57</td>\n",
       "                        <td id=\"T_72953a90_7afe_11e9_9d19_64006a975d62row0_col33\" class=\"data row0 col33\" >19</td>\n",
       "                        <td id=\"T_72953a90_7afe_11e9_9d19_64006a975d62row0_col34\" class=\"data row0 col34\" >6.5</td>\n",
       "                        <td id=\"T_72953a90_7afe_11e9_9d19_64006a975d62row0_col35\" class=\"data row0 col35\" >31275</td>\n",
       "                        <td id=\"T_72953a90_7afe_11e9_9d19_64006a975d62row0_col36\" class=\"data row0 col36\" >False</td>\n",
       "                        <td id=\"T_72953a90_7afe_11e9_9d19_64006a975d62row0_col37\" class=\"data row0 col37\" >3</td>\n",
       "            </tr>\n",
       "            <tr>\n",
       "                        <th id=\"T_72953a90_7afe_11e9_9d19_64006a975d62level0_row1\" class=\"row_heading level0 row1\" >18436</th>\n",
       "                        <td id=\"T_72953a90_7afe_11e9_9d19_64006a975d62row1_col0\" class=\"data row1 col0\" >39173329</td>\n",
       "                        <td id=\"T_72953a90_7afe_11e9_9d19_64006a975d62row1_col1\" class=\"data row1 col1\" >Vendemos un bonito y típico caserío vasco de 300 metros cuadrados de superficie situado en un entorno idílico en pleno corazón de Gipuzkoa, y 80.000 metros cuadrados de terreno. El caserío tiene tres plantas y dispone de 4 habitaciones, amplio salón comedor, cocina, baño. Amueblado. También dispone de garaje amplio y trastero. Tiene unas excelentes vistas y está muy bien comunicado.</td>\n",
       "                        <td id=\"T_72953a90_7afe_11e9_9d19_64006a975d62row1_col2\" class=\"data row1 col2\" >425000</td>\n",
       "                        <td id=\"T_72953a90_7afe_11e9_9d19_64006a975d62row1_col3\" class=\"data row1 col3\" >1</td>\n",
       "                        <td id=\"T_72953a90_7afe_11e9_9d19_64006a975d62row1_col4\" class=\"data row1 col4\" >para reformar</td>\n",
       "                        <td id=\"T_72953a90_7afe_11e9_9d19_64006a975d62row1_col5\" class=\"data row1 col5\" >nan</td>\n",
       "                        <td id=\"T_72953a90_7afe_11e9_9d19_64006a975d62row1_col6\" class=\"data row1 col6\" >nan</td>\n",
       "                        <td id=\"T_72953a90_7afe_11e9_9d19_64006a975d62row1_col7\" class=\"data row1 col7\" >nan</td>\n",
       "                        <td id=\"T_72953a90_7afe_11e9_9d19_64006a975d62row1_col8\" class=\"data row1 col8\" >80000</td>\n",
       "                        <td id=\"T_72953a90_7afe_11e9_9d19_64006a975d62row1_col9\" class=\"data row1 col9\" >nan</td>\n",
       "                        <td id=\"T_72953a90_7afe_11e9_9d19_64006a975d62row1_col10\" class=\"data row1 col10\" >Casa rural</td>\n",
       "                        <td id=\"T_72953a90_7afe_11e9_9d19_64006a975d62row1_col11\" class=\"data row1 col11\" >80000</td>\n",
       "                        <td id=\"T_72953a90_7afe_11e9_9d19_64006a975d62row1_col12\" class=\"data row1 col12\" >nan</td>\n",
       "                        <td id=\"T_72953a90_7afe_11e9_9d19_64006a975d62row1_col13\" class=\"data row1 col13\" >nan</td>\n",
       "                        <td id=\"T_72953a90_7afe_11e9_9d19_64006a975d62row1_col14\" class=\"data row1 col14\" >4</td>\n",
       "                        <td id=\"T_72953a90_7afe_11e9_9d19_64006a975d62row1_col15\" class=\"data row1 col15\" >False</td>\n",
       "                        <td id=\"T_72953a90_7afe_11e9_9d19_64006a975d62row1_col16\" class=\"data row1 col16\" >False</td>\n",
       "                        <td id=\"T_72953a90_7afe_11e9_9d19_64006a975d62row1_col17\" class=\"data row1 col17\" >False</td>\n",
       "                        <td id=\"T_72953a90_7afe_11e9_9d19_64006a975d62row1_col18\" class=\"data row1 col18\" >False</td>\n",
       "                        <td id=\"T_72953a90_7afe_11e9_9d19_64006a975d62row1_col19\" class=\"data row1 col19\" >0</td>\n",
       "                        <td id=\"T_72953a90_7afe_11e9_9d19_64006a975d62row1_col20\" class=\"data row1 col20\" >True</td>\n",
       "                        <td id=\"T_72953a90_7afe_11e9_9d19_64006a975d62row1_col21\" class=\"data row1 col21\" >nan</td>\n",
       "                        <td id=\"T_72953a90_7afe_11e9_9d19_64006a975d62row1_col22\" class=\"data row1 col22\" >False</td>\n",
       "                        <td id=\"T_72953a90_7afe_11e9_9d19_64006a975d62row1_col23\" class=\"data row1 col23\" >True</td>\n",
       "                        <td id=\"T_72953a90_7afe_11e9_9d19_64006a975d62row1_col24\" class=\"data row1 col24\" >False</td>\n",
       "                        <td id=\"T_72953a90_7afe_11e9_9d19_64006a975d62row1_col25\" class=\"data row1 col25\" >True</td>\n",
       "                        <td id=\"T_72953a90_7afe_11e9_9d19_64006a975d62row1_col26\" class=\"data row1 col26\" >Tolosaldea (GIP)</td>\n",
       "                        <td id=\"T_72953a90_7afe_11e9_9d19_64006a975d62row1_col27\" class=\"data row1 col27\" >nan</td>\n",
       "                        <td id=\"T_72953a90_7afe_11e9_9d19_64006a975d62row1_col28\" class=\"data row1 col28\" >Baliarrain</td>\n",
       "                        <td id=\"T_72953a90_7afe_11e9_9d19_64006a975d62row1_col29\" class=\"data row1 col29\" >nan</td>\n",
       "                        <td id=\"T_72953a90_7afe_11e9_9d19_64006a975d62row1_col30\" class=\"data row1 col30\" >137</td>\n",
       "                        <td id=\"T_72953a90_7afe_11e9_9d19_64006a975d62row1_col31\" class=\"data row1 col31\" >31</td>\n",
       "                        <td id=\"T_72953a90_7afe_11e9_9d19_64006a975d62row1_col32\" class=\"data row1 col32\" >56</td>\n",
       "                        <td id=\"T_72953a90_7afe_11e9_9d19_64006a975d62row1_col33\" class=\"data row1 col33\" >13</td>\n",
       "                        <td id=\"T_72953a90_7afe_11e9_9d19_64006a975d62row1_col34\" class=\"data row1 col34\" >6.7</td>\n",
       "                        <td id=\"T_72953a90_7afe_11e9_9d19_64006a975d62row1_col35\" class=\"data row1 col35\" >21982</td>\n",
       "                        <td id=\"T_72953a90_7afe_11e9_9d19_64006a975d62row1_col36\" class=\"data row1 col36\" >False</td>\n",
       "                        <td id=\"T_72953a90_7afe_11e9_9d19_64006a975d62row1_col37\" class=\"data row1 col37\" >3</td>\n",
       "            </tr>\n",
       "    </tbody></table>"
      ],
      "text/plain": [
       "<pandas.io.formats.style.Styler at 0x2013e270c18>"
      ]
     },
     "execution_count": 47,
     "metadata": {},
     "output_type": "execute_result"
    }
   ],
   "source": [
    "df.query('m2_real > 50000').style.set_properties(subset=['ad_description'], **{'min-width': '400px'})"
   ]
  },
  {
   "cell_type": "markdown",
   "metadata": {},
   "source": [
    "En la descripción del anuncio se ve que en un caso han sumado 3 ceros de más a la superficie real, y en el otro, han asignado el valor de la párcela. Por lo tanto, dado que en la descripción se detalla el tamaño real, se corrigen manualmente, y se vuelve a representar el boxplot:"
   ]
  },
  {
   "cell_type": "code",
   "execution_count": 48,
   "metadata": {
    "ExecuteTime": {
     "end_time": "2019-05-20T12:54:47.715270Z",
     "start_time": "2019-05-20T12:54:47.430510Z"
    }
   },
   "outputs": [
    {
     "data": {
      "image/png": "[encoded data removed]",
      "text/plain": [
       "<Figure size 720x216 with 1 Axes>"
      ]
     },
     "metadata": {
      "needs_background": "light"
     },
     "output_type": "display_data"
    }
   ],
   "source": [
    "df['m2_real'][df.house_id == 82667064] = 415\n",
    "df['m2_real'][df.house_id == 39173329] = 300\n",
    "\n",
    "f, axes = plt.subplots(1, 1, figsize=(10, 3), sharex=True)\n",
    "sns.despine(left=True)\n",
    "\n",
    "(df\n",
    " .loc[:,'m2_real']\n",
    " .dropna()\n",
    " .pipe(sns.boxplot, color=clr['pr'], boxprops=dict(alpha=.7)))\n",
    "\n",
    "plt.setp(axes, yticks=[])\n",
    "plt.tight_layout()"
   ]
  },
  {
   "cell_type": "markdown",
   "metadata": {},
   "source": [
    "Pese a haber resuelto los casos más extremos, vemos que aún siguen existiendo valores muy alejados del resto. De modo que volvemos a analizarlos a fin de determinar qué tratamiento darles:"
   ]
  },
  {
   "cell_type": "code",
   "execution_count": 49,
   "metadata": {
    "ExecuteTime": {
     "end_time": "2019-05-20T12:54:47.769802Z",
     "start_time": "2019-05-20T12:54:47.718273Z"
    }
   },
   "outputs": [
    {
     "data": {
      "text/html": [
       "<style  type=\"text/css\" >\n",
       "    #T_72c863e2_7afe_11e9_aa5e_64006a975d62row0_col1 {\n",
       "            min-width:  1000px;\n",
       "        }    #T_72c863e2_7afe_11e9_aa5e_64006a975d62row1_col1 {\n",
       "            min-width:  1000px;\n",
       "        }    #T_72c863e2_7afe_11e9_aa5e_64006a975d62row2_col1 {\n",
       "            min-width:  1000px;\n",
       "        }    #T_72c863e2_7afe_11e9_aa5e_64006a975d62row3_col1 {\n",
       "            min-width:  1000px;\n",
       "        }    #T_72c863e2_7afe_11e9_aa5e_64006a975d62row4_col1 {\n",
       "            min-width:  1000px;\n",
       "        }    #T_72c863e2_7afe_11e9_aa5e_64006a975d62row5_col1 {\n",
       "            min-width:  1000px;\n",
       "        }    #T_72c863e2_7afe_11e9_aa5e_64006a975d62row6_col1 {\n",
       "            min-width:  1000px;\n",
       "        }</style><table id=\"T_72c863e2_7afe_11e9_aa5e_64006a975d62\" ><thead>    <tr>        <th class=\"blank level0\" ></th>        <th class=\"col_heading level0 col0\" >house_id</th>        <th class=\"col_heading level0 col1\" >ad_description</th>        <th class=\"col_heading level0 col2\" >price</th>        <th class=\"col_heading level0 col3\" >bath_num</th>        <th class=\"col_heading level0 col4\" >condition</th>        <th class=\"col_heading level0 col5\" >construct_date</th>        <th class=\"col_heading level0 col6\" >energetic_certif</th>        <th class=\"col_heading level0 col7\" >floor</th>        <th class=\"col_heading level0 col8\" >ground_size</th>        <th class=\"col_heading level0 col9\" >heating</th>        <th class=\"col_heading level0 col10\" >house_type</th>        <th class=\"col_heading level0 col11\" >m2_real</th>        <th class=\"col_heading level0 col12\" >m2_useful</th>        <th class=\"col_heading level0 col13\" >orientation</th>        <th class=\"col_heading level0 col14\" >room_num</th>        <th class=\"col_heading level0 col15\" >air_conditioner</th>        <th class=\"col_heading level0 col16\" >balcony</th>        <th class=\"col_heading level0 col17\" >built_in_wardrobe</th>        <th class=\"col_heading level0 col18\" >chimney</th>        <th class=\"col_heading level0 col19\" >garage</th>        <th class=\"col_heading level0 col20\" >garden</th>        <th class=\"col_heading level0 col21\" >lift</th>        <th class=\"col_heading level0 col22\" >reduced_mobility</th>        <th class=\"col_heading level0 col23\" >storage_room</th>        <th class=\"col_heading level0 col24\" >swimming_pool</th>        <th class=\"col_heading level0 col25\" >terrace</th>        <th class=\"col_heading level0 col26\" >loc_zone</th>        <th class=\"col_heading level0 col27\" >loc_district</th>        <th class=\"col_heading level0 col28\" >loc_city</th>        <th class=\"col_heading level0 col29\" >loc_neigh</th>        <th class=\"col_heading level0 col30\" >pop_total</th>        <th class=\"col_heading level0 col31\" >pop_0-19</th>        <th class=\"col_heading level0 col32\" >pop_20-64</th>        <th class=\"col_heading level0 col33\" >pop_>=65</th>        <th class=\"col_heading level0 col34\" >pop_foreign</th>        <th class=\"col_heading level0 col35\" >rent</th>        <th class=\"col_heading level0 col36\" >indoor</th>        <th class=\"col_heading level0 col37\" >floor_count</th>    </tr></thead><tbody>\n",
       "                <tr>\n",
       "                        <th id=\"T_72c863e2_7afe_11e9_aa5e_64006a975d62level0_row0\" class=\"row_heading level0 row0\" >20725</th>\n",
       "                        <td id=\"T_72c863e2_7afe_11e9_aa5e_64006a975d62row0_col0\" class=\"data row0 col0\" >82012713</td>\n",
       "                        <td id=\"T_72c863e2_7afe_11e9_aa5e_64006a975d62row0_col1\" class=\"data row0 col1\" >Obra nueva en lezo ático duplex, cocina equipada, salón, 3 habitaciones y 2 baños. Dispone de gran balcón corrido y lavadero-tendedero más 3 balcones. Todo exterior. Garaje opcional en el mismo edificio. Sin comisión de inmobiliaria.</td>\n",
       "                        <td id=\"T_72c863e2_7afe_11e9_aa5e_64006a975d62row0_col2\" class=\"data row0 col2\" >280000</td>\n",
       "                        <td id=\"T_72c863e2_7afe_11e9_aa5e_64006a975d62row0_col3\" class=\"data row0 col3\" >2</td>\n",
       "                        <td id=\"T_72c863e2_7afe_11e9_aa5e_64006a975d62row0_col4\" class=\"data row0 col4\" >nan</td>\n",
       "                        <td id=\"T_72c863e2_7afe_11e9_aa5e_64006a975d62row0_col5\" class=\"data row0 col5\" >2018</td>\n",
       "                        <td id=\"T_72c863e2_7afe_11e9_aa5e_64006a975d62row0_col6\" class=\"data row0 col6\" >no indicado</td>\n",
       "                        <td id=\"T_72c863e2_7afe_11e9_aa5e_64006a975d62row0_col7\" class=\"data row0 col7\" >4ª</td>\n",
       "                        <td id=\"T_72c863e2_7afe_11e9_aa5e_64006a975d62row0_col8\" class=\"data row0 col8\" >nan</td>\n",
       "                        <td id=\"T_72c863e2_7afe_11e9_aa5e_64006a975d62row0_col9\" class=\"data row0 col9\" >individual: gas natural</td>\n",
       "                        <td id=\"T_72c863e2_7afe_11e9_aa5e_64006a975d62row0_col10\" class=\"data row0 col10\" >Dúplex</td>\n",
       "                        <td id=\"T_72c863e2_7afe_11e9_aa5e_64006a975d62row0_col11\" class=\"data row0 col11\" >6605</td>\n",
       "                        <td id=\"T_72c863e2_7afe_11e9_aa5e_64006a975d62row0_col12\" class=\"data row0 col12\" >87</td>\n",
       "                        <td id=\"T_72c863e2_7afe_11e9_aa5e_64006a975d62row0_col13\" class=\"data row0 col13\" >este, oeste</td>\n",
       "                        <td id=\"T_72c863e2_7afe_11e9_aa5e_64006a975d62row0_col14\" class=\"data row0 col14\" >3</td>\n",
       "                        <td id=\"T_72c863e2_7afe_11e9_aa5e_64006a975d62row0_col15\" class=\"data row0 col15\" >False</td>\n",
       "                        <td id=\"T_72c863e2_7afe_11e9_aa5e_64006a975d62row0_col16\" class=\"data row0 col16\" >True</td>\n",
       "                        <td id=\"T_72c863e2_7afe_11e9_aa5e_64006a975d62row0_col17\" class=\"data row0 col17\" >False</td>\n",
       "                        <td id=\"T_72c863e2_7afe_11e9_aa5e_64006a975d62row0_col18\" class=\"data row0 col18\" >False</td>\n",
       "                        <td id=\"T_72c863e2_7afe_11e9_aa5e_64006a975d62row0_col19\" class=\"data row0 col19\" >nan</td>\n",
       "                        <td id=\"T_72c863e2_7afe_11e9_aa5e_64006a975d62row0_col20\" class=\"data row0 col20\" >False</td>\n",
       "                        <td id=\"T_72c863e2_7afe_11e9_aa5e_64006a975d62row0_col21\" class=\"data row0 col21\" >1</td>\n",
       "                        <td id=\"T_72c863e2_7afe_11e9_aa5e_64006a975d62row0_col22\" class=\"data row0 col22\" >True</td>\n",
       "                        <td id=\"T_72c863e2_7afe_11e9_aa5e_64006a975d62row0_col23\" class=\"data row0 col23\" >False</td>\n",
       "                        <td id=\"T_72c863e2_7afe_11e9_aa5e_64006a975d62row0_col24\" class=\"data row0 col24\" >False</td>\n",
       "                        <td id=\"T_72c863e2_7afe_11e9_aa5e_64006a975d62row0_col25\" class=\"data row0 col25\" >True</td>\n",
       "                        <td id=\"T_72c863e2_7afe_11e9_aa5e_64006a975d62row0_col26\" class=\"data row0 col26\" >Donostialdea (GIP)</td>\n",
       "                        <td id=\"T_72c863e2_7afe_11e9_aa5e_64006a975d62row0_col27\" class=\"data row0 col27\" >nan</td>\n",
       "                        <td id=\"T_72c863e2_7afe_11e9_aa5e_64006a975d62row0_col28\" class=\"data row0 col28\" >Lezo</td>\n",
       "                        <td id=\"T_72c863e2_7afe_11e9_aa5e_64006a975d62row0_col29\" class=\"data row0 col29\" >nan</td>\n",
       "                        <td id=\"T_72c863e2_7afe_11e9_aa5e_64006a975d62row0_col30\" class=\"data row0 col30\" >6045</td>\n",
       "                        <td id=\"T_72c863e2_7afe_11e9_aa5e_64006a975d62row0_col31\" class=\"data row0 col31\" >19</td>\n",
       "                        <td id=\"T_72c863e2_7afe_11e9_aa5e_64006a975d62row0_col32\" class=\"data row0 col32\" >64</td>\n",
       "                        <td id=\"T_72c863e2_7afe_11e9_aa5e_64006a975d62row0_col33\" class=\"data row0 col33\" >17</td>\n",
       "                        <td id=\"T_72c863e2_7afe_11e9_aa5e_64006a975d62row0_col34\" class=\"data row0 col34\" >5.6</td>\n",
       "                        <td id=\"T_72c863e2_7afe_11e9_aa5e_64006a975d62row0_col35\" class=\"data row0 col35\" >18427</td>\n",
       "                        <td id=\"T_72c863e2_7afe_11e9_aa5e_64006a975d62row0_col36\" class=\"data row0 col36\" >False</td>\n",
       "                        <td id=\"T_72c863e2_7afe_11e9_aa5e_64006a975d62row0_col37\" class=\"data row0 col37\" >1</td>\n",
       "            </tr>\n",
       "            <tr>\n",
       "                        <th id=\"T_72c863e2_7afe_11e9_aa5e_64006a975d62level0_row1\" class=\"row_heading level0 row1\" >12437</th>\n",
       "                        <td id=\"T_72c863e2_7afe_11e9_aa5e_64006a975d62row1_col0\" class=\"data row1 col0\" >39987420</td>\n",
       "                        <td id=\"T_72c863e2_7afe_11e9_aa5e_64006a975d62row1_col1\" class=\"data row1 col1\" >CONVENTO de SANTA CLARA (CLARISAS) DESDE EL AÑO 1469 SITUADO EN ORDUÑA.,Tiene 5.500 m2 distribuidos en 3 plantas.,-En la planta baja se encuentra la iglesia, el claustro, la sacristía, la cocina, comedores, etc.,-En la primera planta se encuentran las habitaciones, locutorios, salas de labor, botica, biblioteca, etc. ,-La planta bajo cubierta se encuentra diáfana.,Tiene 24.000 metros de terreno. Este convento tenia anexo una hermosa huera de unas dos hectáreas, rodeada toda ella de una gruesa tapia de unos 3 mts. de altura. En dicha zona existen 2-3 manantiales de agua potable cuyo caudal es muy abundante. ,Imprescindible verlo. Consúltenos.</td>\n",
       "                        <td id=\"T_72c863e2_7afe_11e9_aa5e_64006a975d62row1_col2\" class=\"data row1 col2\" >2400000</td>\n",
       "                        <td id=\"T_72c863e2_7afe_11e9_aa5e_64006a975d62row1_col3\" class=\"data row1 col3\" >7</td>\n",
       "                        <td id=\"T_72c863e2_7afe_11e9_aa5e_64006a975d62row1_col4\" class=\"data row1 col4\" >nan</td>\n",
       "                        <td id=\"T_72c863e2_7afe_11e9_aa5e_64006a975d62row1_col5\" class=\"data row1 col5\" >nan</td>\n",
       "                        <td id=\"T_72c863e2_7afe_11e9_aa5e_64006a975d62row1_col6\" class=\"data row1 col6\" >no indicado</td>\n",
       "                        <td id=\"T_72c863e2_7afe_11e9_aa5e_64006a975d62row1_col7\" class=\"data row1 col7\" >nan</td>\n",
       "                        <td id=\"T_72c863e2_7afe_11e9_aa5e_64006a975d62row1_col8\" class=\"data row1 col8\" >nan</td>\n",
       "                        <td id=\"T_72c863e2_7afe_11e9_aa5e_64006a975d62row1_col9\" class=\"data row1 col9\" >individual: gas propano/butano</td>\n",
       "                        <td id=\"T_72c863e2_7afe_11e9_aa5e_64006a975d62row1_col10\" class=\"data row1 col10\" >Casa o chalet independiente</td>\n",
       "                        <td id=\"T_72c863e2_7afe_11e9_aa5e_64006a975d62row1_col11\" class=\"data row1 col11\" >5500</td>\n",
       "                        <td id=\"T_72c863e2_7afe_11e9_aa5e_64006a975d62row1_col12\" class=\"data row1 col12\" >nan</td>\n",
       "                        <td id=\"T_72c863e2_7afe_11e9_aa5e_64006a975d62row1_col13\" class=\"data row1 col13\" >nan</td>\n",
       "                        <td id=\"T_72c863e2_7afe_11e9_aa5e_64006a975d62row1_col14\" class=\"data row1 col14\" >10</td>\n",
       "                        <td id=\"T_72c863e2_7afe_11e9_aa5e_64006a975d62row1_col15\" class=\"data row1 col15\" >False</td>\n",
       "                        <td id=\"T_72c863e2_7afe_11e9_aa5e_64006a975d62row1_col16\" class=\"data row1 col16\" >False</td>\n",
       "                        <td id=\"T_72c863e2_7afe_11e9_aa5e_64006a975d62row1_col17\" class=\"data row1 col17\" >False</td>\n",
       "                        <td id=\"T_72c863e2_7afe_11e9_aa5e_64006a975d62row1_col18\" class=\"data row1 col18\" >False</td>\n",
       "                        <td id=\"T_72c863e2_7afe_11e9_aa5e_64006a975d62row1_col19\" class=\"data row1 col19\" >nan</td>\n",
       "                        <td id=\"T_72c863e2_7afe_11e9_aa5e_64006a975d62row1_col20\" class=\"data row1 col20\" >False</td>\n",
       "                        <td id=\"T_72c863e2_7afe_11e9_aa5e_64006a975d62row1_col21\" class=\"data row1 col21\" >nan</td>\n",
       "                        <td id=\"T_72c863e2_7afe_11e9_aa5e_64006a975d62row1_col22\" class=\"data row1 col22\" >False</td>\n",
       "                        <td id=\"T_72c863e2_7afe_11e9_aa5e_64006a975d62row1_col23\" class=\"data row1 col23\" >False</td>\n",
       "                        <td id=\"T_72c863e2_7afe_11e9_aa5e_64006a975d62row1_col24\" class=\"data row1 col24\" >False</td>\n",
       "                        <td id=\"T_72c863e2_7afe_11e9_aa5e_64006a975d62row1_col25\" class=\"data row1 col25\" >False</td>\n",
       "                        <td id=\"T_72c863e2_7afe_11e9_aa5e_64006a975d62row1_col26\" class=\"data row1 col26\" >Arratia-Nervión (BIZ)</td>\n",
       "                        <td id=\"T_72c863e2_7afe_11e9_aa5e_64006a975d62row1_col27\" class=\"data row1 col27\" >nan</td>\n",
       "                        <td id=\"T_72c863e2_7afe_11e9_aa5e_64006a975d62row1_col28\" class=\"data row1 col28\" >Urduña/Orduña</td>\n",
       "                        <td id=\"T_72c863e2_7afe_11e9_aa5e_64006a975d62row1_col29\" class=\"data row1 col29\" >nan</td>\n",
       "                        <td id=\"T_72c863e2_7afe_11e9_aa5e_64006a975d62row1_col30\" class=\"data row1 col30\" >4180</td>\n",
       "                        <td id=\"T_72c863e2_7afe_11e9_aa5e_64006a975d62row1_col31\" class=\"data row1 col31\" >20</td>\n",
       "                        <td id=\"T_72c863e2_7afe_11e9_aa5e_64006a975d62row1_col32\" class=\"data row1 col32\" >59</td>\n",
       "                        <td id=\"T_72c863e2_7afe_11e9_aa5e_64006a975d62row1_col33\" class=\"data row1 col33\" >21</td>\n",
       "                        <td id=\"T_72c863e2_7afe_11e9_aa5e_64006a975d62row1_col34\" class=\"data row1 col34\" >8.2</td>\n",
       "                        <td id=\"T_72c863e2_7afe_11e9_aa5e_64006a975d62row1_col35\" class=\"data row1 col35\" >18107</td>\n",
       "                        <td id=\"T_72c863e2_7afe_11e9_aa5e_64006a975d62row1_col36\" class=\"data row1 col36\" >nan</td>\n",
       "                        <td id=\"T_72c863e2_7afe_11e9_aa5e_64006a975d62row1_col37\" class=\"data row1 col37\" >nan</td>\n",
       "            </tr>\n",
       "            <tr>\n",
       "                        <th id=\"T_72c863e2_7afe_11e9_aa5e_64006a975d62level0_row2\" class=\"row_heading level0 row2\" >7385</th>\n",
       "                        <td id=\"T_72c863e2_7afe_11e9_aa5e_64006a975d62row2_col0\" class=\"data row2 col0\" >85178086</td>\n",
       "                        <td id=\"T_72c863e2_7afe_11e9_aa5e_64006a975d62row2_col1\" class=\"data row2 col1\" >Erandio junto al Makro, Nave industrial a la venta, situada en el municipio de Erandio (Bizkaia), concreta mente en Asua, la entrada al corredor del Txorierri. con acceso directo al Puente de Rontegui y la A-8. Superficie total: 4.900 m2. Altura máxima: 4,30 m. Sobrecarga entreplanta: 1.500 Kg/m2. Excelente localización y ubicación estratégica. Buena construcción y reformas importantes recientes en los edificios.</td>\n",
       "                        <td id=\"T_72c863e2_7afe_11e9_aa5e_64006a975d62row2_col2\" class=\"data row2 col2\" >3000000</td>\n",
       "                        <td id=\"T_72c863e2_7afe_11e9_aa5e_64006a975d62row2_col3\" class=\"data row2 col3\" >2</td>\n",
       "                        <td id=\"T_72c863e2_7afe_11e9_aa5e_64006a975d62row2_col4\" class=\"data row2 col4\" >nan</td>\n",
       "                        <td id=\"T_72c863e2_7afe_11e9_aa5e_64006a975d62row2_col5\" class=\"data row2 col5\" >nan</td>\n",
       "                        <td id=\"T_72c863e2_7afe_11e9_aa5e_64006a975d62row2_col6\" class=\"data row2 col6\" >no indicado</td>\n",
       "                        <td id=\"T_72c863e2_7afe_11e9_aa5e_64006a975d62row2_col7\" class=\"data row2 col7\" >nan</td>\n",
       "                        <td id=\"T_72c863e2_7afe_11e9_aa5e_64006a975d62row2_col8\" class=\"data row2 col8\" >nan</td>\n",
       "                        <td id=\"T_72c863e2_7afe_11e9_aa5e_64006a975d62row2_col9\" class=\"data row2 col9\" >nan</td>\n",
       "                        <td id=\"T_72c863e2_7afe_11e9_aa5e_64006a975d62row2_col10\" class=\"data row2 col10\" >Piso</td>\n",
       "                        <td id=\"T_72c863e2_7afe_11e9_aa5e_64006a975d62row2_col11\" class=\"data row2 col11\" >4900</td>\n",
       "                        <td id=\"T_72c863e2_7afe_11e9_aa5e_64006a975d62row2_col12\" class=\"data row2 col12\" >nan</td>\n",
       "                        <td id=\"T_72c863e2_7afe_11e9_aa5e_64006a975d62row2_col13\" class=\"data row2 col13\" >nan</td>\n",
       "                        <td id=\"T_72c863e2_7afe_11e9_aa5e_64006a975d62row2_col14\" class=\"data row2 col14\" >3</td>\n",
       "                        <td id=\"T_72c863e2_7afe_11e9_aa5e_64006a975d62row2_col15\" class=\"data row2 col15\" >False</td>\n",
       "                        <td id=\"T_72c863e2_7afe_11e9_aa5e_64006a975d62row2_col16\" class=\"data row2 col16\" >False</td>\n",
       "                        <td id=\"T_72c863e2_7afe_11e9_aa5e_64006a975d62row2_col17\" class=\"data row2 col17\" >False</td>\n",
       "                        <td id=\"T_72c863e2_7afe_11e9_aa5e_64006a975d62row2_col18\" class=\"data row2 col18\" >False</td>\n",
       "                        <td id=\"T_72c863e2_7afe_11e9_aa5e_64006a975d62row2_col19\" class=\"data row2 col19\" >nan</td>\n",
       "                        <td id=\"T_72c863e2_7afe_11e9_aa5e_64006a975d62row2_col20\" class=\"data row2 col20\" >False</td>\n",
       "                        <td id=\"T_72c863e2_7afe_11e9_aa5e_64006a975d62row2_col21\" class=\"data row2 col21\" >nan</td>\n",
       "                        <td id=\"T_72c863e2_7afe_11e9_aa5e_64006a975d62row2_col22\" class=\"data row2 col22\" >False</td>\n",
       "                        <td id=\"T_72c863e2_7afe_11e9_aa5e_64006a975d62row2_col23\" class=\"data row2 col23\" >False</td>\n",
       "                        <td id=\"T_72c863e2_7afe_11e9_aa5e_64006a975d62row2_col24\" class=\"data row2 col24\" >False</td>\n",
       "                        <td id=\"T_72c863e2_7afe_11e9_aa5e_64006a975d62row2_col25\" class=\"data row2 col25\" >False</td>\n",
       "                        <td id=\"T_72c863e2_7afe_11e9_aa5e_64006a975d62row2_col26\" class=\"data row2 col26\" >Gran Bilbao (BIZ)</td>\n",
       "                        <td id=\"T_72c863e2_7afe_11e9_aa5e_64006a975d62row2_col27\" class=\"data row2 col27\" >nan</td>\n",
       "                        <td id=\"T_72c863e2_7afe_11e9_aa5e_64006a975d62row2_col28\" class=\"data row2 col28\" >Erandio</td>\n",
       "                        <td id=\"T_72c863e2_7afe_11e9_aa5e_64006a975d62row2_col29\" class=\"data row2 col29\" >nan</td>\n",
       "                        <td id=\"T_72c863e2_7afe_11e9_aa5e_64006a975d62row2_col30\" class=\"data row2 col30\" >24222</td>\n",
       "                        <td id=\"T_72c863e2_7afe_11e9_aa5e_64006a975d62row2_col31\" class=\"data row2 col31\" >18</td>\n",
       "                        <td id=\"T_72c863e2_7afe_11e9_aa5e_64006a975d62row2_col32\" class=\"data row2 col32\" >61</td>\n",
       "                        <td id=\"T_72c863e2_7afe_11e9_aa5e_64006a975d62row2_col33\" class=\"data row2 col33\" >21</td>\n",
       "                        <td id=\"T_72c863e2_7afe_11e9_aa5e_64006a975d62row2_col34\" class=\"data row2 col34\" >9.8</td>\n",
       "                        <td id=\"T_72c863e2_7afe_11e9_aa5e_64006a975d62row2_col35\" class=\"data row2 col35\" >16001</td>\n",
       "                        <td id=\"T_72c863e2_7afe_11e9_aa5e_64006a975d62row2_col36\" class=\"data row2 col36\" >nan</td>\n",
       "                        <td id=\"T_72c863e2_7afe_11e9_aa5e_64006a975d62row2_col37\" class=\"data row2 col37\" >nan</td>\n",
       "            </tr>\n",
       "            <tr>\n",
       "                        <th id=\"T_72c863e2_7afe_11e9_aa5e_64006a975d62level0_row3\" class=\"row_heading level0 row3\" >6854</th>\n",
       "                        <td id=\"T_72c863e2_7afe_11e9_aa5e_64006a975d62row3_col0\" class=\"data row3 col0\" >39733981</td>\n",
       "                        <td id=\"T_72c863e2_7afe_11e9_aa5e_64006a975d62row3_col1\" class=\"data row3 col1\" >! EXCELENTE OPORTUNIDAD!, , Si quieres vivir en un piso reformado, cerca de colegios, parada de bus a 50 metros y a 5 minutos del Hospital de Cruces,  esta es tú casa., , Nos encontramos con una vivienda semi exterior que consta de dos habitaciones, salón, un baño y cocina. La calefacción y el agua caliente son eléctricas de bajo consumo, tiene una iluminación increíble principalmente en el salón y la cocina. Todos los armarios de la vivienda son empotrados, el suelo, ventanas y puertas recién reformados. En un edificio de hormigón., , ¡PARA ENTRAR A VIVIR!, ,Visita nuestra página Web:.</td>\n",
       "                        <td id=\"T_72c863e2_7afe_11e9_aa5e_64006a975d62row3_col2\" class=\"data row3 col2\" >150000</td>\n",
       "                        <td id=\"T_72c863e2_7afe_11e9_aa5e_64006a975d62row3_col3\" class=\"data row3 col3\" >1</td>\n",
       "                        <td id=\"T_72c863e2_7afe_11e9_aa5e_64006a975d62row3_col4\" class=\"data row3 col4\" >buen estado</td>\n",
       "                        <td id=\"T_72c863e2_7afe_11e9_aa5e_64006a975d62row3_col5\" class=\"data row3 col5\" >nan</td>\n",
       "                        <td id=\"T_72c863e2_7afe_11e9_aa5e_64006a975d62row3_col6\" class=\"data row3 col6\" >en trámite</td>\n",
       "                        <td id=\"T_72c863e2_7afe_11e9_aa5e_64006a975d62row3_col7\" class=\"data row3 col7\" >2ª</td>\n",
       "                        <td id=\"T_72c863e2_7afe_11e9_aa5e_64006a975d62row3_col8\" class=\"data row3 col8\" >nan</td>\n",
       "                        <td id=\"T_72c863e2_7afe_11e9_aa5e_64006a975d62row3_col9\" class=\"data row3 col9\" >nan</td>\n",
       "                        <td id=\"T_72c863e2_7afe_11e9_aa5e_64006a975d62row3_col10\" class=\"data row3 col10\" >Piso</td>\n",
       "                        <td id=\"T_72c863e2_7afe_11e9_aa5e_64006a975d62row3_col11\" class=\"data row3 col11\" >4653</td>\n",
       "                        <td id=\"T_72c863e2_7afe_11e9_aa5e_64006a975d62row3_col12\" class=\"data row3 col12\" >46</td>\n",
       "                        <td id=\"T_72c863e2_7afe_11e9_aa5e_64006a975d62row3_col13\" class=\"data row3 col13\" >sur, este</td>\n",
       "                        <td id=\"T_72c863e2_7afe_11e9_aa5e_64006a975d62row3_col14\" class=\"data row3 col14\" >2</td>\n",
       "                        <td id=\"T_72c863e2_7afe_11e9_aa5e_64006a975d62row3_col15\" class=\"data row3 col15\" >False</td>\n",
       "                        <td id=\"T_72c863e2_7afe_11e9_aa5e_64006a975d62row3_col16\" class=\"data row3 col16\" >False</td>\n",
       "                        <td id=\"T_72c863e2_7afe_11e9_aa5e_64006a975d62row3_col17\" class=\"data row3 col17\" >False</td>\n",
       "                        <td id=\"T_72c863e2_7afe_11e9_aa5e_64006a975d62row3_col18\" class=\"data row3 col18\" >False</td>\n",
       "                        <td id=\"T_72c863e2_7afe_11e9_aa5e_64006a975d62row3_col19\" class=\"data row3 col19\" >nan</td>\n",
       "                        <td id=\"T_72c863e2_7afe_11e9_aa5e_64006a975d62row3_col20\" class=\"data row3 col20\" >False</td>\n",
       "                        <td id=\"T_72c863e2_7afe_11e9_aa5e_64006a975d62row3_col21\" class=\"data row3 col21\" >0</td>\n",
       "                        <td id=\"T_72c863e2_7afe_11e9_aa5e_64006a975d62row3_col22\" class=\"data row3 col22\" >False</td>\n",
       "                        <td id=\"T_72c863e2_7afe_11e9_aa5e_64006a975d62row3_col23\" class=\"data row3 col23\" >False</td>\n",
       "                        <td id=\"T_72c863e2_7afe_11e9_aa5e_64006a975d62row3_col24\" class=\"data row3 col24\" >False</td>\n",
       "                        <td id=\"T_72c863e2_7afe_11e9_aa5e_64006a975d62row3_col25\" class=\"data row3 col25\" >False</td>\n",
       "                        <td id=\"T_72c863e2_7afe_11e9_aa5e_64006a975d62row3_col26\" class=\"data row3 col26\" >Gran Bilbao (BIZ)</td>\n",
       "                        <td id=\"T_72c863e2_7afe_11e9_aa5e_64006a975d62row3_col27\" class=\"data row3 col27\" >Cruces (Bara)</td>\n",
       "                        <td id=\"T_72c863e2_7afe_11e9_aa5e_64006a975d62row3_col28\" class=\"data row3 col28\" >Barakaldo</td>\n",
       "                        <td id=\"T_72c863e2_7afe_11e9_aa5e_64006a975d62row3_col29\" class=\"data row3 col29\" >nan</td>\n",
       "                        <td id=\"T_72c863e2_7afe_11e9_aa5e_64006a975d62row3_col30\" class=\"data row3 col30\" >100435</td>\n",
       "                        <td id=\"T_72c863e2_7afe_11e9_aa5e_64006a975d62row3_col31\" class=\"data row3 col31\" >17</td>\n",
       "                        <td id=\"T_72c863e2_7afe_11e9_aa5e_64006a975d62row3_col32\" class=\"data row3 col32\" >60</td>\n",
       "                        <td id=\"T_72c863e2_7afe_11e9_aa5e_64006a975d62row3_col33\" class=\"data row3 col33\" >23</td>\n",
       "                        <td id=\"T_72c863e2_7afe_11e9_aa5e_64006a975d62row3_col34\" class=\"data row3 col34\" >9</td>\n",
       "                        <td id=\"T_72c863e2_7afe_11e9_aa5e_64006a975d62row3_col35\" class=\"data row3 col35\" >16935</td>\n",
       "                        <td id=\"T_72c863e2_7afe_11e9_aa5e_64006a975d62row3_col36\" class=\"data row3 col36\" >False</td>\n",
       "                        <td id=\"T_72c863e2_7afe_11e9_aa5e_64006a975d62row3_col37\" class=\"data row3 col37\" >1</td>\n",
       "            </tr>\n",
       "            <tr>\n",
       "                        <th id=\"T_72c863e2_7afe_11e9_aa5e_64006a975d62level0_row4\" class=\"row_heading level0 row4\" >19740</th>\n",
       "                        <td id=\"T_72c863e2_7afe_11e9_aa5e_64006a975d62row4_col0\" class=\"data row4 col0\" >81926009</td>\n",
       "                        <td id=\"T_72c863e2_7afe_11e9_aa5e_64006a975d62row4_col1\" class=\"data row4 col1\" >Se vende edificio destinado antiguamente a camping en Itziar Deba. Se sitúa al lado de la carretera general que une Deba e Itziar.,El edificio ocupa una superficie construida de 618,61 metros cuadrados.,Consta de planta semisótano, planta baja, planta primera y planta bajo cubierta.,Interesante para diversos usos, residencia de la tercera edad, apartamentos turísticos...</td>\n",
       "                        <td id=\"T_72c863e2_7afe_11e9_aa5e_64006a975d62row4_col2\" class=\"data row4 col2\" >800000</td>\n",
       "                        <td id=\"T_72c863e2_7afe_11e9_aa5e_64006a975d62row4_col3\" class=\"data row4 col3\" >1</td>\n",
       "                        <td id=\"T_72c863e2_7afe_11e9_aa5e_64006a975d62row4_col4\" class=\"data row4 col4\" >para reformar</td>\n",
       "                        <td id=\"T_72c863e2_7afe_11e9_aa5e_64006a975d62row4_col5\" class=\"data row4 col5\" >nan</td>\n",
       "                        <td id=\"T_72c863e2_7afe_11e9_aa5e_64006a975d62row4_col6\" class=\"data row4 col6\" >en trámite</td>\n",
       "                        <td id=\"T_72c863e2_7afe_11e9_aa5e_64006a975d62row4_col7\" class=\"data row4 col7\" >nan</td>\n",
       "                        <td id=\"T_72c863e2_7afe_11e9_aa5e_64006a975d62row4_col8\" class=\"data row4 col8\" >10000</td>\n",
       "                        <td id=\"T_72c863e2_7afe_11e9_aa5e_64006a975d62row4_col9\" class=\"data row4 col9\" >nan</td>\n",
       "                        <td id=\"T_72c863e2_7afe_11e9_aa5e_64006a975d62row4_col10\" class=\"data row4 col10\" >Finca rústica</td>\n",
       "                        <td id=\"T_72c863e2_7afe_11e9_aa5e_64006a975d62row4_col11\" class=\"data row4 col11\" >2500</td>\n",
       "                        <td id=\"T_72c863e2_7afe_11e9_aa5e_64006a975d62row4_col12\" class=\"data row4 col12\" >2000</td>\n",
       "                        <td id=\"T_72c863e2_7afe_11e9_aa5e_64006a975d62row4_col13\" class=\"data row4 col13\" >nan</td>\n",
       "                        <td id=\"T_72c863e2_7afe_11e9_aa5e_64006a975d62row4_col14\" class=\"data row4 col14\" >1</td>\n",
       "                        <td id=\"T_72c863e2_7afe_11e9_aa5e_64006a975d62row4_col15\" class=\"data row4 col15\" >False</td>\n",
       "                        <td id=\"T_72c863e2_7afe_11e9_aa5e_64006a975d62row4_col16\" class=\"data row4 col16\" >False</td>\n",
       "                        <td id=\"T_72c863e2_7afe_11e9_aa5e_64006a975d62row4_col17\" class=\"data row4 col17\" >False</td>\n",
       "                        <td id=\"T_72c863e2_7afe_11e9_aa5e_64006a975d62row4_col18\" class=\"data row4 col18\" >False</td>\n",
       "                        <td id=\"T_72c863e2_7afe_11e9_aa5e_64006a975d62row4_col19\" class=\"data row4 col19\" >nan</td>\n",
       "                        <td id=\"T_72c863e2_7afe_11e9_aa5e_64006a975d62row4_col20\" class=\"data row4 col20\" >True</td>\n",
       "                        <td id=\"T_72c863e2_7afe_11e9_aa5e_64006a975d62row4_col21\" class=\"data row4 col21\" >nan</td>\n",
       "                        <td id=\"T_72c863e2_7afe_11e9_aa5e_64006a975d62row4_col22\" class=\"data row4 col22\" >False</td>\n",
       "                        <td id=\"T_72c863e2_7afe_11e9_aa5e_64006a975d62row4_col23\" class=\"data row4 col23\" >False</td>\n",
       "                        <td id=\"T_72c863e2_7afe_11e9_aa5e_64006a975d62row4_col24\" class=\"data row4 col24\" >False</td>\n",
       "                        <td id=\"T_72c863e2_7afe_11e9_aa5e_64006a975d62row4_col25\" class=\"data row4 col25\" >False</td>\n",
       "                        <td id=\"T_72c863e2_7afe_11e9_aa5e_64006a975d62row4_col26\" class=\"data row4 col26\" >Bajo Deba (GIP)</td>\n",
       "                        <td id=\"T_72c863e2_7afe_11e9_aa5e_64006a975d62row4_col27\" class=\"data row4 col27\" >nan</td>\n",
       "                        <td id=\"T_72c863e2_7afe_11e9_aa5e_64006a975d62row4_col28\" class=\"data row4 col28\" >Deba</td>\n",
       "                        <td id=\"T_72c863e2_7afe_11e9_aa5e_64006a975d62row4_col29\" class=\"data row4 col29\" >nan</td>\n",
       "                        <td id=\"T_72c863e2_7afe_11e9_aa5e_64006a975d62row4_col30\" class=\"data row4 col30\" >5457</td>\n",
       "                        <td id=\"T_72c863e2_7afe_11e9_aa5e_64006a975d62row4_col31\" class=\"data row4 col31\" >19</td>\n",
       "                        <td id=\"T_72c863e2_7afe_11e9_aa5e_64006a975d62row4_col32\" class=\"data row4 col32\" >59</td>\n",
       "                        <td id=\"T_72c863e2_7afe_11e9_aa5e_64006a975d62row4_col33\" class=\"data row4 col33\" >22</td>\n",
       "                        <td id=\"T_72c863e2_7afe_11e9_aa5e_64006a975d62row4_col34\" class=\"data row4 col34\" >7.8</td>\n",
       "                        <td id=\"T_72c863e2_7afe_11e9_aa5e_64006a975d62row4_col35\" class=\"data row4 col35\" >22065</td>\n",
       "                        <td id=\"T_72c863e2_7afe_11e9_aa5e_64006a975d62row4_col36\" class=\"data row4 col36\" >nan</td>\n",
       "                        <td id=\"T_72c863e2_7afe_11e9_aa5e_64006a975d62row4_col37\" class=\"data row4 col37\" >nan</td>\n",
       "            </tr>\n",
       "            <tr>\n",
       "                        <th id=\"T_72c863e2_7afe_11e9_aa5e_64006a975d62level0_row5\" class=\"row_heading level0 row5\" >12378</th>\n",
       "                        <td id=\"T_72c863e2_7afe_11e9_aa5e_64006a975d62row5_col0\" class=\"data row5 col0\" >37071101</td>\n",
       "                        <td id=\"T_72c863e2_7afe_11e9_aa5e_64006a975d62row5_col1\" class=\"data row5 col1\" >HOSTELERIA GRAN FINCA Y Palacio 1250m. mas casa de 400 a 600m. mas capilla anexa a palacio a 15 minutos de Bilbao y 20 de Vitoria,grandes peticiones de eventos y bodas unas 100 llamadas anuales dispone de un entorno precioso con piscina paseos de piedra tilos laureles y diferentes ambientes para su adaptación. muy apropiado para negocio.</td>\n",
       "                        <td id=\"T_72c863e2_7afe_11e9_aa5e_64006a975d62row5_col2\" class=\"data row5 col2\" >1850000</td>\n",
       "                        <td id=\"T_72c863e2_7afe_11e9_aa5e_64006a975d62row5_col3\" class=\"data row5 col3\" >4</td>\n",
       "                        <td id=\"T_72c863e2_7afe_11e9_aa5e_64006a975d62row5_col4\" class=\"data row5 col4\" >para reformar</td>\n",
       "                        <td id=\"T_72c863e2_7afe_11e9_aa5e_64006a975d62row5_col5\" class=\"data row5 col5\" >nan</td>\n",
       "                        <td id=\"T_72c863e2_7afe_11e9_aa5e_64006a975d62row5_col6\" class=\"data row5 col6\" >nan</td>\n",
       "                        <td id=\"T_72c863e2_7afe_11e9_aa5e_64006a975d62row5_col7\" class=\"data row5 col7\" >nan</td>\n",
       "                        <td id=\"T_72c863e2_7afe_11e9_aa5e_64006a975d62row5_col8\" class=\"data row5 col8\" >5250</td>\n",
       "                        <td id=\"T_72c863e2_7afe_11e9_aa5e_64006a975d62row5_col9\" class=\"data row5 col9\" >nan</td>\n",
       "                        <td id=\"T_72c863e2_7afe_11e9_aa5e_64006a975d62row5_col10\" class=\"data row5 col10\" >Castillo</td>\n",
       "                        <td id=\"T_72c863e2_7afe_11e9_aa5e_64006a975d62row5_col11\" class=\"data row5 col11\" >2000</td>\n",
       "                        <td id=\"T_72c863e2_7afe_11e9_aa5e_64006a975d62row5_col12\" class=\"data row5 col12\" >nan</td>\n",
       "                        <td id=\"T_72c863e2_7afe_11e9_aa5e_64006a975d62row5_col13\" class=\"data row5 col13\" >sur, este</td>\n",
       "                        <td id=\"T_72c863e2_7afe_11e9_aa5e_64006a975d62row5_col14\" class=\"data row5 col14\" >34</td>\n",
       "                        <td id=\"T_72c863e2_7afe_11e9_aa5e_64006a975d62row5_col15\" class=\"data row5 col15\" >False</td>\n",
       "                        <td id=\"T_72c863e2_7afe_11e9_aa5e_64006a975d62row5_col16\" class=\"data row5 col16\" >False</td>\n",
       "                        <td id=\"T_72c863e2_7afe_11e9_aa5e_64006a975d62row5_col17\" class=\"data row5 col17\" >False</td>\n",
       "                        <td id=\"T_72c863e2_7afe_11e9_aa5e_64006a975d62row5_col18\" class=\"data row5 col18\" >False</td>\n",
       "                        <td id=\"T_72c863e2_7afe_11e9_aa5e_64006a975d62row5_col19\" class=\"data row5 col19\" >nan</td>\n",
       "                        <td id=\"T_72c863e2_7afe_11e9_aa5e_64006a975d62row5_col20\" class=\"data row5 col20\" >True</td>\n",
       "                        <td id=\"T_72c863e2_7afe_11e9_aa5e_64006a975d62row5_col21\" class=\"data row5 col21\" >nan</td>\n",
       "                        <td id=\"T_72c863e2_7afe_11e9_aa5e_64006a975d62row5_col22\" class=\"data row5 col22\" >False</td>\n",
       "                        <td id=\"T_72c863e2_7afe_11e9_aa5e_64006a975d62row5_col23\" class=\"data row5 col23\" >False</td>\n",
       "                        <td id=\"T_72c863e2_7afe_11e9_aa5e_64006a975d62row5_col24\" class=\"data row5 col24\" >True</td>\n",
       "                        <td id=\"T_72c863e2_7afe_11e9_aa5e_64006a975d62row5_col25\" class=\"data row5 col25\" >True</td>\n",
       "                        <td id=\"T_72c863e2_7afe_11e9_aa5e_64006a975d62row5_col26\" class=\"data row5 col26\" >Arratia-Nervión (BIZ)</td>\n",
       "                        <td id=\"T_72c863e2_7afe_11e9_aa5e_64006a975d62row5_col27\" class=\"data row5 col27\" >nan</td>\n",
       "                        <td id=\"T_72c863e2_7afe_11e9_aa5e_64006a975d62row5_col28\" class=\"data row5 col28\" >Orozko</td>\n",
       "                        <td id=\"T_72c863e2_7afe_11e9_aa5e_64006a975d62row5_col29\" class=\"data row5 col29\" >nan</td>\n",
       "                        <td id=\"T_72c863e2_7afe_11e9_aa5e_64006a975d62row5_col30\" class=\"data row5 col30\" >2651</td>\n",
       "                        <td id=\"T_72c863e2_7afe_11e9_aa5e_64006a975d62row5_col31\" class=\"data row5 col31\" >21</td>\n",
       "                        <td id=\"T_72c863e2_7afe_11e9_aa5e_64006a975d62row5_col32\" class=\"data row5 col32\" >58</td>\n",
       "                        <td id=\"T_72c863e2_7afe_11e9_aa5e_64006a975d62row5_col33\" class=\"data row5 col33\" >20</td>\n",
       "                        <td id=\"T_72c863e2_7afe_11e9_aa5e_64006a975d62row5_col34\" class=\"data row5 col34\" >6.2</td>\n",
       "                        <td id=\"T_72c863e2_7afe_11e9_aa5e_64006a975d62row5_col35\" class=\"data row5 col35\" >20465</td>\n",
       "                        <td id=\"T_72c863e2_7afe_11e9_aa5e_64006a975d62row5_col36\" class=\"data row5 col36\" >nan</td>\n",
       "                        <td id=\"T_72c863e2_7afe_11e9_aa5e_64006a975d62row5_col37\" class=\"data row5 col37\" >nan</td>\n",
       "            </tr>\n",
       "            <tr>\n",
       "                        <th id=\"T_72c863e2_7afe_11e9_aa5e_64006a975d62level0_row6\" class=\"row_heading level0 row6\" >20876</th>\n",
       "                        <td id=\"T_72c863e2_7afe_11e9_aa5e_64006a975d62row6_col0\" class=\"data row6 col0\" >39497199</td>\n",
       "                        <td id=\"T_72c863e2_7afe_11e9_aa5e_64006a975d62row6_col1\" class=\"data row6 col1\" >Ponemos a la venta un magnífico recinto que se encuentra en las cercanías de Oiartzun, don de su entorno natural y su localización la convierten en un lugar único y especial. A escasos 15 minutos en carretera del centro de San Sebastian. Situado bajo la ladera de las montañas está este Caserio con Yeguada, restaurada para uso de agroturismo.,En la parcela principal de 15.000m2 de terreno encontramos la casa principal equipada con 6 dormitorios, 3 baños, uno de ellos en suite, una cocina y un salón comedor. Además cuneta con un espacio de terraza cubierta a modo de porche. Además de esto cuenta con una cabaña equipada, una piscina gimnasio con posibilidad de cierre mecanizado, un andador para cuatro caballos. Picadero de 40X20, una zona de almacén para maquinaria, 12 cuadras para caballos y cinco espacios para cuadras habilitadas para uso habitable. Tiene también un jardín de 14.000m2. por último dispone a parte de otro terreno de un total de 40.000m2 totales rústicos con un pabellón de 320m2 para yeguas. ,•✓ Jardín de 14.000 m2.,•✓ Piscina.,•✓ Granja.,•✓ Barbacoa.,•✓ Wifi.,•✓ Cuarto de juegos infantil.,•✓ Documentación sobre la zona.,•✓ Parking.,•✓ Posibilidad de alojamiento para caballos.,1. ✓ 12 cuadras a disposición de los clientes.,2. ✓ Personal cualificado para el cuidado de los , mismos.,3. ✓ Picadero al aire libre 40x20.,4. ✓ Andador (para 4 caballos).,5. ✓ Guadarnés.,6. ✓ Veterinario.,7. ✓ Seguridad (finca cerrada).,8. ✓ Perros sí. Cuadras individuales habilitadas para ellos de 4x3=12m210€.,Resumen de edificaciones,1 casa vivienda 240m2,1 nave maquinaria y cuadras y henil 242m2,1 cuadra alrededor del picadero, y 3 aparatamentos 294m2,1 apartamento adosado a la nave 45m2,1 picadero reglamentario 800m2,resumen de terrenos,15.000m2 en la propia casa,30.000m2 en la entrada ,10.000m2 en el monte en galtzata.</td>\n",
       "                        <td id=\"T_72c863e2_7afe_11e9_aa5e_64006a975d62row6_col2\" class=\"data row6 col2\" >1500000</td>\n",
       "                        <td id=\"T_72c863e2_7afe_11e9_aa5e_64006a975d62row6_col3\" class=\"data row6 col3\" >3</td>\n",
       "                        <td id=\"T_72c863e2_7afe_11e9_aa5e_64006a975d62row6_col4\" class=\"data row6 col4\" >buen estado</td>\n",
       "                        <td id=\"T_72c863e2_7afe_11e9_aa5e_64006a975d62row6_col5\" class=\"data row6 col5\" >2002</td>\n",
       "                        <td id=\"T_72c863e2_7afe_11e9_aa5e_64006a975d62row6_col6\" class=\"data row6 col6\" >en trámite</td>\n",
       "                        <td id=\"T_72c863e2_7afe_11e9_aa5e_64006a975d62row6_col7\" class=\"data row6 col7\" >nan</td>\n",
       "                        <td id=\"T_72c863e2_7afe_11e9_aa5e_64006a975d62row6_col8\" class=\"data row6 col8\" >55000</td>\n",
       "                        <td id=\"T_72c863e2_7afe_11e9_aa5e_64006a975d62row6_col9\" class=\"data row6 col9\" >nan</td>\n",
       "                        <td id=\"T_72c863e2_7afe_11e9_aa5e_64006a975d62row6_col10\" class=\"data row6 col10\" >Cortijo</td>\n",
       "                        <td id=\"T_72c863e2_7afe_11e9_aa5e_64006a975d62row6_col11\" class=\"data row6 col11\" >1621</td>\n",
       "                        <td id=\"T_72c863e2_7afe_11e9_aa5e_64006a975d62row6_col12\" class=\"data row6 col12\" >nan</td>\n",
       "                        <td id=\"T_72c863e2_7afe_11e9_aa5e_64006a975d62row6_col13\" class=\"data row6 col13\" >sur</td>\n",
       "                        <td id=\"T_72c863e2_7afe_11e9_aa5e_64006a975d62row6_col14\" class=\"data row6 col14\" >6</td>\n",
       "                        <td id=\"T_72c863e2_7afe_11e9_aa5e_64006a975d62row6_col15\" class=\"data row6 col15\" >True</td>\n",
       "                        <td id=\"T_72c863e2_7afe_11e9_aa5e_64006a975d62row6_col16\" class=\"data row6 col16\" >True</td>\n",
       "                        <td id=\"T_72c863e2_7afe_11e9_aa5e_64006a975d62row6_col17\" class=\"data row6 col17\" >True</td>\n",
       "                        <td id=\"T_72c863e2_7afe_11e9_aa5e_64006a975d62row6_col18\" class=\"data row6 col18\" >True</td>\n",
       "                        <td id=\"T_72c863e2_7afe_11e9_aa5e_64006a975d62row6_col19\" class=\"data row6 col19\" >0</td>\n",
       "                        <td id=\"T_72c863e2_7afe_11e9_aa5e_64006a975d62row6_col20\" class=\"data row6 col20\" >True</td>\n",
       "                        <td id=\"T_72c863e2_7afe_11e9_aa5e_64006a975d62row6_col21\" class=\"data row6 col21\" >nan</td>\n",
       "                        <td id=\"T_72c863e2_7afe_11e9_aa5e_64006a975d62row6_col22\" class=\"data row6 col22\" >True</td>\n",
       "                        <td id=\"T_72c863e2_7afe_11e9_aa5e_64006a975d62row6_col23\" class=\"data row6 col23\" >True</td>\n",
       "                        <td id=\"T_72c863e2_7afe_11e9_aa5e_64006a975d62row6_col24\" class=\"data row6 col24\" >True</td>\n",
       "                        <td id=\"T_72c863e2_7afe_11e9_aa5e_64006a975d62row6_col25\" class=\"data row6 col25\" >True</td>\n",
       "                        <td id=\"T_72c863e2_7afe_11e9_aa5e_64006a975d62row6_col26\" class=\"data row6 col26\" >Donostialdea (GIP)</td>\n",
       "                        <td id=\"T_72c863e2_7afe_11e9_aa5e_64006a975d62row6_col27\" class=\"data row6 col27\" >nan</td>\n",
       "                        <td id=\"T_72c863e2_7afe_11e9_aa5e_64006a975d62row6_col28\" class=\"data row6 col28\" >Oiartzun</td>\n",
       "                        <td id=\"T_72c863e2_7afe_11e9_aa5e_64006a975d62row6_col29\" class=\"data row6 col29\" >nan</td>\n",
       "                        <td id=\"T_72c863e2_7afe_11e9_aa5e_64006a975d62row6_col30\" class=\"data row6 col30\" >10276</td>\n",
       "                        <td id=\"T_72c863e2_7afe_11e9_aa5e_64006a975d62row6_col31\" class=\"data row6 col31\" >21</td>\n",
       "                        <td id=\"T_72c863e2_7afe_11e9_aa5e_64006a975d62row6_col32\" class=\"data row6 col32\" >60</td>\n",
       "                        <td id=\"T_72c863e2_7afe_11e9_aa5e_64006a975d62row6_col33\" class=\"data row6 col33\" >19</td>\n",
       "                        <td id=\"T_72c863e2_7afe_11e9_aa5e_64006a975d62row6_col34\" class=\"data row6 col34\" >5.7</td>\n",
       "                        <td id=\"T_72c863e2_7afe_11e9_aa5e_64006a975d62row6_col35\" class=\"data row6 col35\" >20797</td>\n",
       "                        <td id=\"T_72c863e2_7afe_11e9_aa5e_64006a975d62row6_col36\" class=\"data row6 col36\" >False</td>\n",
       "                        <td id=\"T_72c863e2_7afe_11e9_aa5e_64006a975d62row6_col37\" class=\"data row6 col37\" >2</td>\n",
       "            </tr>\n",
       "    </tbody></table>"
      ],
      "text/plain": [
       "<pandas.io.formats.style.Styler at 0x2013ea3f400>"
      ]
     },
     "execution_count": 49,
     "metadata": {},
     "output_type": "execute_result"
    }
   ],
   "source": [
    "out_m2 = len(df[df['m2_real'] >1500])\n",
    "(df\n",
    " .query('m2_real > 1500')\n",
    " .sort_values('m2_real',ascending=False)\n",
    " .style.set_properties(subset=['ad_description'], **{'min-width': '1000px'})\n",
    ")"
   ]
  },
  {
   "cell_type": "markdown",
   "metadata": {
    "variables": {
     "out_m2": "7"
    }
   },
   "source": [
    "Observamos que hay {{out_m2}} viviendas con precios superiores a los 1.500 $m^2$ reales, entre las cuales hay un convento, un camping, una nave industrial... este tipo de edificios quedan fuera de nuestro objeto de estudio y podrían generar distorsión, por lo que se eliminan. Por otro lado, encontramos nuevamente viviendas que tienen mal definida su superficie; éstas las corregimos de forma manual mediante la información contenida en otros campos:"
   ]
  },
  {
   "cell_type": "code",
   "execution_count": 50,
   "metadata": {
    "ExecuteTime": {
     "end_time": "2019-05-20T12:54:47.900319Z",
     "start_time": "2019-05-20T12:54:47.772805Z"
    }
   },
   "outputs": [
    {
     "name": "stdout",
     "output_type": "stream",
     "text": [
      "Se han descartado 5 viviendas\n"
     ]
    }
   ],
   "source": [
    "df['m2_real'][df.house_id == 82012713] = 90\n",
    "df['m2_real'][df.house_id == 39733981] = 46\n",
    "\n",
    "h_num = len(df[df.m2_real > 1500])\n",
    "df = df[df.m2_real < 1500]\n",
    "print(f'Se han descartado {h_num} viviendas')"
   ]
  },
  {
   "cell_type": "markdown",
   "metadata": {},
   "source": [
    "Por otro lado, en el otro extremo, exploramos si hay viviendas con valores de superficie nulos o negativos: "
   ]
  },
  {
   "cell_type": "code",
   "execution_count": 51,
   "metadata": {
    "ExecuteTime": {
     "end_time": "2019-05-20T12:54:47.916318Z",
     "start_time": "2019-05-20T12:54:47.902320Z"
    }
   },
   "outputs": [
    {
     "name": "stdout",
     "output_type": "stream",
     "text": [
      "Hay 0 viviendas con superficies nulas o negativas\n"
     ]
    }
   ],
   "source": [
    "cnt = len(df.query('m2_real < 1'))\n",
    "print(f\"Hay {cnt} viviendas con superficies nulas o negativas\")"
   ]
  },
  {
   "cell_type": "markdown",
   "metadata": {},
   "source": [
    "Una vez hemos gestionado los valores extremos de la variable <font color=#5F66A1>__m2_real__</font>, hacemos lo propio con <font color=#5F66A1>__m2_useful__</font>:"
   ]
  },
  {
   "cell_type": "code",
   "execution_count": 52,
   "metadata": {
    "ExecuteTime": {
     "end_time": "2019-05-20T12:54:48.101937Z",
     "start_time": "2019-05-20T12:54:47.917836Z"
    }
   },
   "outputs": [
    {
     "data": {
      "image/png": "[encoded data removed]",
      "text/plain": [
       "<Figure size 720x216 with 1 Axes>"
      ]
     },
     "metadata": {
      "needs_background": "light"
     },
     "output_type": "display_data"
    }
   ],
   "source": [
    "f, axes = plt.subplots(1, 1, figsize=(10, 3), sharex=True)\n",
    "sns.despine(left=True)\n",
    "\n",
    "(df\n",
    " .loc[:,'m2_useful']\n",
    " .dropna()\n",
    " .pipe(sns.boxplot, color=clr['pr'], boxprops=dict(alpha=.7)))\n",
    "\n",
    "plt.setp(axes, yticks=[])\n",
    "plt.tight_layout()"
   ]
  },
  {
   "cell_type": "markdown",
   "metadata": {},
   "source": [
    "Vemos que el valor más extremo se encuentra en los 1.200 $m^2$, lo cual entra dentro del rango plausible tras haber eliminado las casas con más de 1.500 $m^2$ reales, por lo que en este caso, no se realiza ninguna acción más, y se procede a verificar que no haya valores nulos o negativos:"
   ]
  },
  {
   "cell_type": "code",
   "execution_count": 53,
   "metadata": {
    "ExecuteTime": {
     "end_time": "2019-05-20T12:54:48.117935Z",
     "start_time": "2019-05-20T12:54:48.105943Z"
    }
   },
   "outputs": [
    {
     "name": "stdout",
     "output_type": "stream",
     "text": [
      "Hay 0 viviendas con superficies nulas o negativas\n"
     ]
    }
   ],
   "source": [
    "cnt = len(df.query('m2_useful < 1'))\n",
    "print(f\"Hay {cnt} viviendas con superficies nulas o negativas\")"
   ]
  },
  {
   "cell_type": "markdown",
   "metadata": {},
   "source": [
    "Por último, los metros útiles de una vivienda han de ser inferiores a sus metros reales. Verificamos si hay algún caso que no cumpla este criterio:"
   ]
  },
  {
   "cell_type": "code",
   "execution_count": 54,
   "metadata": {
    "ExecuteTime": {
     "end_time": "2019-05-20T12:54:48.136938Z",
     "start_time": "2019-05-20T12:54:48.120935Z"
    }
   },
   "outputs": [
    {
     "name": "stdout",
     "output_type": "stream",
     "text": [
      "Hay 0 viviendas con incongruencias entre las superficies\n"
     ]
    }
   ],
   "source": [
    "cnt = len(df.query('m2_real < m2_useful'))\n",
    "print(f\"Hay {cnt} viviendas con incongruencias entre las superficies\")"
   ]
  },
  {
   "cell_type": "markdown",
   "metadata": {},
   "source": [
    "Además, por lo general, los metros útiles se situan en torno a un 0%-20% por debajo de los metros reales. Por ello, exploremos gráficamente esta relación para hallar valores extremos:"
   ]
  },
  {
   "cell_type": "code",
   "execution_count": 55,
   "metadata": {
    "ExecuteTime": {
     "end_time": "2019-05-20T12:54:48.627149Z",
     "start_time": "2019-05-20T12:54:48.139938Z"
    }
   },
   "outputs": [
    {
     "data": {
      "image/png": "[encoded data removed]",
      "text/plain": [
       "<Figure size 864x432 with 1 Axes>"
      ]
     },
     "metadata": {
      "needs_background": "light"
     },
     "output_type": "display_data"
    }
   ],
   "source": [
    "f, axes = plt.subplots(1, 1, figsize=(12, 6), sharex=True)\n",
    "sns.despine(left=True)\n",
    "\n",
    "(df.pipe((sns.scatterplot, 'data'),x=\"m2_real\", y=\"m2_useful\", color=clr['pr'], legend=\"full\"))\n",
    "\n",
    "plt.tight_layout()\n",
    "\n",
    "# añadir 2 rectas... una en y=x (0%), la otra en y=x/0.8 (20%)"
   ]
  },
  {
   "cell_type": "markdown",
   "metadata": {},
   "source": [
    "Comprobamos que, en efecto, la mayoría de viviendas disponen la relación esperada. No obstante, también encontramos viviendas con muy pocos metros útiles para los metros reales que tienen. Para cotejar si son plausibles, exploremos las 5 viviendas con mayor diferencia entre ambas superficies:"
   ]
  },
  {
   "cell_type": "code",
   "execution_count": 56,
   "metadata": {
    "ExecuteTime": {
     "end_time": "2019-05-20T12:54:48.753652Z",
     "start_time": "2019-05-20T12:54:48.632143Z"
    }
   },
   "outputs": [
    {
     "data": {
      "text/html": [
       "<style  type=\"text/css\" >\n",
       "    #T_735f4700_7afe_11e9_b6db_64006a975d62row0_col1 {\n",
       "            min-width:  1400px;\n",
       "        }    #T_735f4700_7afe_11e9_b6db_64006a975d62row1_col1 {\n",
       "            min-width:  1400px;\n",
       "        }    #T_735f4700_7afe_11e9_b6db_64006a975d62row2_col1 {\n",
       "            min-width:  1400px;\n",
       "        }    #T_735f4700_7afe_11e9_b6db_64006a975d62row3_col1 {\n",
       "            min-width:  1400px;\n",
       "        }    #T_735f4700_7afe_11e9_b6db_64006a975d62row4_col1 {\n",
       "            min-width:  1400px;\n",
       "        }</style><table id=\"T_735f4700_7afe_11e9_b6db_64006a975d62\" ><thead>    <tr>        <th class=\"blank level0\" ></th>        <th class=\"col_heading level0 col0\" >house_id</th>        <th class=\"col_heading level0 col1\" >ad_description</th>        <th class=\"col_heading level0 col2\" >price</th>        <th class=\"col_heading level0 col3\" >bath_num</th>        <th class=\"col_heading level0 col4\" >condition</th>        <th class=\"col_heading level0 col5\" >construct_date</th>        <th class=\"col_heading level0 col6\" >energetic_certif</th>        <th class=\"col_heading level0 col7\" >floor</th>        <th class=\"col_heading level0 col8\" >ground_size</th>        <th class=\"col_heading level0 col9\" >heating</th>        <th class=\"col_heading level0 col10\" >house_type</th>        <th class=\"col_heading level0 col11\" >m2_real</th>        <th class=\"col_heading level0 col12\" >m2_useful</th>        <th class=\"col_heading level0 col13\" >orientation</th>        <th class=\"col_heading level0 col14\" >room_num</th>        <th class=\"col_heading level0 col15\" >air_conditioner</th>        <th class=\"col_heading level0 col16\" >balcony</th>        <th class=\"col_heading level0 col17\" >built_in_wardrobe</th>        <th class=\"col_heading level0 col18\" >chimney</th>        <th class=\"col_heading level0 col19\" >garage</th>        <th class=\"col_heading level0 col20\" >garden</th>        <th class=\"col_heading level0 col21\" >lift</th>        <th class=\"col_heading level0 col22\" >reduced_mobility</th>        <th class=\"col_heading level0 col23\" >storage_room</th>        <th class=\"col_heading level0 col24\" >swimming_pool</th>        <th class=\"col_heading level0 col25\" >terrace</th>        <th class=\"col_heading level0 col26\" >loc_zone</th>        <th class=\"col_heading level0 col27\" >loc_district</th>        <th class=\"col_heading level0 col28\" >loc_city</th>        <th class=\"col_heading level0 col29\" >loc_neigh</th>        <th class=\"col_heading level0 col30\" >pop_total</th>        <th class=\"col_heading level0 col31\" >pop_0-19</th>        <th class=\"col_heading level0 col32\" >pop_20-64</th>        <th class=\"col_heading level0 col33\" >pop_>=65</th>        <th class=\"col_heading level0 col34\" >pop_foreign</th>        <th class=\"col_heading level0 col35\" >rent</th>        <th class=\"col_heading level0 col36\" >indoor</th>        <th class=\"col_heading level0 col37\" >floor_count</th>        <th class=\"col_heading level0 col38\" >m2_relation</th>    </tr></thead><tbody>\n",
       "                <tr>\n",
       "                        <th id=\"T_735f4700_7afe_11e9_b6db_64006a975d62level0_row0\" class=\"row_heading level0 row0\" >20097</th>\n",
       "                        <td id=\"T_735f4700_7afe_11e9_b6db_64006a975d62row0_col0\" class=\"data row0 col0\" >85089573</td>\n",
       "                        <td id=\"T_735f4700_7afe_11e9_b6db_64006a975d62row0_col1\" class=\"data row0 col1\" >Ideal para los que buscan la máxima comodidad., , Apartamento de dos habitaciones en edificio de 15 años y ubicación inmejorable: junto a la Plaza Grande y Leku-Eder., , La vivienda está aprovechada al máximo. El hall ubicado en el centro de la vivienda, separa, por un lado, las zonas comunes (cocina y salón) que se conectan en un espacio diáfano con vistas a Aita Agirre Plaza, que tiene orientación sur por lo que entra mucha luminosidad. Al otro lado del hall, encontramos el baño completo con bañera y las dos habitaciones que dan a San Bartolomé, una de ellas con balcón.  , , Características:, - Edificio de hormigón, - Tanto las ventanas como las puertas son de madera barnizada y las ventanas tienen además doble acristalamiento.  , - Caldera individual de gas natural y radiadores de aluminio en todas las estancias., - Acceso desde Aita Agirre Plaza, sin barreras arquitectónicas., ,  , ,CEE en trámite.</td>\n",
       "                        <td id=\"T_735f4700_7afe_11e9_b6db_64006a975d62row0_col2\" class=\"data row0 col2\" >188000</td>\n",
       "                        <td id=\"T_735f4700_7afe_11e9_b6db_64006a975d62row0_col3\" class=\"data row0 col3\" >1</td>\n",
       "                        <td id=\"T_735f4700_7afe_11e9_b6db_64006a975d62row0_col4\" class=\"data row0 col4\" >buen estado</td>\n",
       "                        <td id=\"T_735f4700_7afe_11e9_b6db_64006a975d62row0_col5\" class=\"data row0 col5\" >nan</td>\n",
       "                        <td id=\"T_735f4700_7afe_11e9_b6db_64006a975d62row0_col6\" class=\"data row0 col6\" >en trámite</td>\n",
       "                        <td id=\"T_735f4700_7afe_11e9_b6db_64006a975d62row0_col7\" class=\"data row0 col7\" >2ª</td>\n",
       "                        <td id=\"T_735f4700_7afe_11e9_b6db_64006a975d62row0_col8\" class=\"data row0 col8\" >nan</td>\n",
       "                        <td id=\"T_735f4700_7afe_11e9_b6db_64006a975d62row0_col9\" class=\"data row0 col9\" >nan</td>\n",
       "                        <td id=\"T_735f4700_7afe_11e9_b6db_64006a975d62row0_col10\" class=\"data row0 col10\" >Piso</td>\n",
       "                        <td id=\"T_735f4700_7afe_11e9_b6db_64006a975d62row0_col11\" class=\"data row0 col11\" >740</td>\n",
       "                        <td id=\"T_735f4700_7afe_11e9_b6db_64006a975d62row0_col12\" class=\"data row0 col12\" >74</td>\n",
       "                        <td id=\"T_735f4700_7afe_11e9_b6db_64006a975d62row0_col13\" class=\"data row0 col13\" >nan</td>\n",
       "                        <td id=\"T_735f4700_7afe_11e9_b6db_64006a975d62row0_col14\" class=\"data row0 col14\" >2</td>\n",
       "                        <td id=\"T_735f4700_7afe_11e9_b6db_64006a975d62row0_col15\" class=\"data row0 col15\" >False</td>\n",
       "                        <td id=\"T_735f4700_7afe_11e9_b6db_64006a975d62row0_col16\" class=\"data row0 col16\" >False</td>\n",
       "                        <td id=\"T_735f4700_7afe_11e9_b6db_64006a975d62row0_col17\" class=\"data row0 col17\" >False</td>\n",
       "                        <td id=\"T_735f4700_7afe_11e9_b6db_64006a975d62row0_col18\" class=\"data row0 col18\" >False</td>\n",
       "                        <td id=\"T_735f4700_7afe_11e9_b6db_64006a975d62row0_col19\" class=\"data row0 col19\" >nan</td>\n",
       "                        <td id=\"T_735f4700_7afe_11e9_b6db_64006a975d62row0_col20\" class=\"data row0 col20\" >False</td>\n",
       "                        <td id=\"T_735f4700_7afe_11e9_b6db_64006a975d62row0_col21\" class=\"data row0 col21\" >1</td>\n",
       "                        <td id=\"T_735f4700_7afe_11e9_b6db_64006a975d62row0_col22\" class=\"data row0 col22\" >False</td>\n",
       "                        <td id=\"T_735f4700_7afe_11e9_b6db_64006a975d62row0_col23\" class=\"data row0 col23\" >False</td>\n",
       "                        <td id=\"T_735f4700_7afe_11e9_b6db_64006a975d62row0_col24\" class=\"data row0 col24\" >False</td>\n",
       "                        <td id=\"T_735f4700_7afe_11e9_b6db_64006a975d62row0_col25\" class=\"data row0 col25\" >True</td>\n",
       "                        <td id=\"T_735f4700_7afe_11e9_b6db_64006a975d62row0_col26\" class=\"data row0 col26\" >Bajo Deba (GIP)</td>\n",
       "                        <td id=\"T_735f4700_7afe_11e9_b6db_64006a975d62row0_col27\" class=\"data row0 col27\" >nan</td>\n",
       "                        <td id=\"T_735f4700_7afe_11e9_b6db_64006a975d62row0_col28\" class=\"data row0 col28\" >Elgoibar</td>\n",
       "                        <td id=\"T_735f4700_7afe_11e9_b6db_64006a975d62row0_col29\" class=\"data row0 col29\" >nan</td>\n",
       "                        <td id=\"T_735f4700_7afe_11e9_b6db_64006a975d62row0_col30\" class=\"data row0 col30\" >11582</td>\n",
       "                        <td id=\"T_735f4700_7afe_11e9_b6db_64006a975d62row0_col31\" class=\"data row0 col31\" >20</td>\n",
       "                        <td id=\"T_735f4700_7afe_11e9_b6db_64006a975d62row0_col32\" class=\"data row0 col32\" >58</td>\n",
       "                        <td id=\"T_735f4700_7afe_11e9_b6db_64006a975d62row0_col33\" class=\"data row0 col33\" >22</td>\n",
       "                        <td id=\"T_735f4700_7afe_11e9_b6db_64006a975d62row0_col34\" class=\"data row0 col34\" >10.2</td>\n",
       "                        <td id=\"T_735f4700_7afe_11e9_b6db_64006a975d62row0_col35\" class=\"data row0 col35\" >21714</td>\n",
       "                        <td id=\"T_735f4700_7afe_11e9_b6db_64006a975d62row0_col36\" class=\"data row0 col36\" >False</td>\n",
       "                        <td id=\"T_735f4700_7afe_11e9_b6db_64006a975d62row0_col37\" class=\"data row0 col37\" >1</td>\n",
       "                        <td id=\"T_735f4700_7afe_11e9_b6db_64006a975d62row0_col38\" class=\"data row0 col38\" >666</td>\n",
       "            </tr>\n",
       "            <tr>\n",
       "                        <th id=\"T_735f4700_7afe_11e9_b6db_64006a975d62level0_row1\" class=\"row_heading level0 row1\" >17787</th>\n",
       "                        <td id=\"T_735f4700_7afe_11e9_b6db_64006a975d62row1_col0\" class=\"data row1 col0\" >84234935</td>\n",
       "                        <td id=\"T_735f4700_7afe_11e9_b6db_64006a975d62row1_col1\" class=\"data row1 col1\" >CASA EN UNA PLANTA EN PARCELA  DE 650 m2, de reciente construcción en la zona de andara mari. Consta de salón-comedor, cocina americana y salida a amplio porche, 3 habitaciones y 2  baños ( 1 incorporado en la habitación principal)., , Posibilidad de ampliar la vivienda., , En perfecto estado., ,Plentzia es un municipio de Bizkaia, ubicado en la margen derecha del último meandro de su ría, justo antes de su desembocadura en la bahía de Plencia. Se encuentra a unos 25 kilómetros al norte de Bilbao. Plentzia está muy bien comunicado ya que es la última parada de la estación Línea 1 del Metro Bilbao, por carretera el acceso se realiza por la carretera BI-2122 desde Sopelana o la BI-2120  desde Mungia y también la línea A3451 de Bizkaibus que tiene el recorrido: Las Arenas/Areeta - Armintza.</td>\n",
       "                        <td id=\"T_735f4700_7afe_11e9_b6db_64006a975d62row1_col2\" class=\"data row1 col2\" >455000</td>\n",
       "                        <td id=\"T_735f4700_7afe_11e9_b6db_64006a975d62row1_col3\" class=\"data row1 col3\" >2</td>\n",
       "                        <td id=\"T_735f4700_7afe_11e9_b6db_64006a975d62row1_col4\" class=\"data row1 col4\" >buen estado</td>\n",
       "                        <td id=\"T_735f4700_7afe_11e9_b6db_64006a975d62row1_col5\" class=\"data row1 col5\" >nan</td>\n",
       "                        <td id=\"T_735f4700_7afe_11e9_b6db_64006a975d62row1_col6\" class=\"data row1 col6\" >en trámite</td>\n",
       "                        <td id=\"T_735f4700_7afe_11e9_b6db_64006a975d62row1_col7\" class=\"data row1 col7\" >nan</td>\n",
       "                        <td id=\"T_735f4700_7afe_11e9_b6db_64006a975d62row1_col8\" class=\"data row1 col8\" >nan</td>\n",
       "                        <td id=\"T_735f4700_7afe_11e9_b6db_64006a975d62row1_col9\" class=\"data row1 col9\" >nan</td>\n",
       "                        <td id=\"T_735f4700_7afe_11e9_b6db_64006a975d62row1_col10\" class=\"data row1 col10\" >Casa o chalet</td>\n",
       "                        <td id=\"T_735f4700_7afe_11e9_b6db_64006a975d62row1_col11\" class=\"data row1 col11\" >650</td>\n",
       "                        <td id=\"T_735f4700_7afe_11e9_b6db_64006a975d62row1_col12\" class=\"data row1 col12\" >110</td>\n",
       "                        <td id=\"T_735f4700_7afe_11e9_b6db_64006a975d62row1_col13\" class=\"data row1 col13\" >nan</td>\n",
       "                        <td id=\"T_735f4700_7afe_11e9_b6db_64006a975d62row1_col14\" class=\"data row1 col14\" >3</td>\n",
       "                        <td id=\"T_735f4700_7afe_11e9_b6db_64006a975d62row1_col15\" class=\"data row1 col15\" >False</td>\n",
       "                        <td id=\"T_735f4700_7afe_11e9_b6db_64006a975d62row1_col16\" class=\"data row1 col16\" >False</td>\n",
       "                        <td id=\"T_735f4700_7afe_11e9_b6db_64006a975d62row1_col17\" class=\"data row1 col17\" >False</td>\n",
       "                        <td id=\"T_735f4700_7afe_11e9_b6db_64006a975d62row1_col18\" class=\"data row1 col18\" >False</td>\n",
       "                        <td id=\"T_735f4700_7afe_11e9_b6db_64006a975d62row1_col19\" class=\"data row1 col19\" >nan</td>\n",
       "                        <td id=\"T_735f4700_7afe_11e9_b6db_64006a975d62row1_col20\" class=\"data row1 col20\" >False</td>\n",
       "                        <td id=\"T_735f4700_7afe_11e9_b6db_64006a975d62row1_col21\" class=\"data row1 col21\" >nan</td>\n",
       "                        <td id=\"T_735f4700_7afe_11e9_b6db_64006a975d62row1_col22\" class=\"data row1 col22\" >False</td>\n",
       "                        <td id=\"T_735f4700_7afe_11e9_b6db_64006a975d62row1_col23\" class=\"data row1 col23\" >False</td>\n",
       "                        <td id=\"T_735f4700_7afe_11e9_b6db_64006a975d62row1_col24\" class=\"data row1 col24\" >False</td>\n",
       "                        <td id=\"T_735f4700_7afe_11e9_b6db_64006a975d62row1_col25\" class=\"data row1 col25\" >False</td>\n",
       "                        <td id=\"T_735f4700_7afe_11e9_b6db_64006a975d62row1_col26\" class=\"data row1 col26\" >Uribe-Butroe (BIZ)</td>\n",
       "                        <td id=\"T_735f4700_7afe_11e9_b6db_64006a975d62row1_col27\" class=\"data row1 col27\" >nan</td>\n",
       "                        <td id=\"T_735f4700_7afe_11e9_b6db_64006a975d62row1_col28\" class=\"data row1 col28\" >Plentzia</td>\n",
       "                        <td id=\"T_735f4700_7afe_11e9_b6db_64006a975d62row1_col29\" class=\"data row1 col29\" >nan</td>\n",
       "                        <td id=\"T_735f4700_7afe_11e9_b6db_64006a975d62row1_col30\" class=\"data row1 col30\" >4363</td>\n",
       "                        <td id=\"T_735f4700_7afe_11e9_b6db_64006a975d62row1_col31\" class=\"data row1 col31\" >20</td>\n",
       "                        <td id=\"T_735f4700_7afe_11e9_b6db_64006a975d62row1_col32\" class=\"data row1 col32\" >63</td>\n",
       "                        <td id=\"T_735f4700_7afe_11e9_b6db_64006a975d62row1_col33\" class=\"data row1 col33\" >17</td>\n",
       "                        <td id=\"T_735f4700_7afe_11e9_b6db_64006a975d62row1_col34\" class=\"data row1 col34\" >9.3</td>\n",
       "                        <td id=\"T_735f4700_7afe_11e9_b6db_64006a975d62row1_col35\" class=\"data row1 col35\" >22374</td>\n",
       "                        <td id=\"T_735f4700_7afe_11e9_b6db_64006a975d62row1_col36\" class=\"data row1 col36\" >nan</td>\n",
       "                        <td id=\"T_735f4700_7afe_11e9_b6db_64006a975d62row1_col37\" class=\"data row1 col37\" >nan</td>\n",
       "                        <td id=\"T_735f4700_7afe_11e9_b6db_64006a975d62row1_col38\" class=\"data row1 col38\" >540</td>\n",
       "            </tr>\n",
       "            <tr>\n",
       "                        <th id=\"T_735f4700_7afe_11e9_b6db_64006a975d62level0_row2\" class=\"row_heading level0 row2\" >21220</th>\n",
       "                        <td id=\"T_735f4700_7afe_11e9_b6db_64006a975d62row2_col0\" class=\"data row2 col0\" >39289460</td>\n",
       "                        <td id=\"T_735f4700_7afe_11e9_b6db_64006a975d62row2_col1\" class=\"data row2 col1\" >Iparralde Inmobiliaria presenta: Sobre parcela de 15.767 m2 Exclusiva Mansion de 300 m2 +450 m2 en San Sebastián (Igeldo) con sublimes vistas al mar desde toda la casa. La entrada principal se encuentra flanqueada por un precioso estanque de agua de manantial y nos da acceso a la planta principal donde nos encontramos un grandioso salón comedor de 50 m2 con la vista panorámica del Mar Cantabrico y con acceso a una gran terraza de 40 m2 a la cual se accede también desde una alegre cocina perfectamente equipada con todas las comodidades. Encontramos también en esta planta principal 3 hermosas habitaciones con acceso a jardín y que disfrutan de maravillosas vistas. 2 baños completos con bañera dan servicio a esta planta. En la planta alta dispondremos de otras 3 habitaciones dobles todas ellas con vistas preciosas. Mención especial merece la suite principal con unas increíbles vistas al Mar, vestidor y baño incorporado. 2 baños más dan servicio a esta planta. Todas las estancias de las casa son exteriores, incluso los baños. En la planta sótano, de una superficie de 450 m2 disponemos de la zona de garaje con puerta motorizada para varios vehículos y de una Singular zona de Piscina cubierta con acceso directo al Jardín y compuesta por: Zona de baño, vestuarios, 3 duchas y 2 baños, cocina de verano y zona de esparcimiento. Esta casa destaca sobre las demás de la zona por ser la única que dispone de un 100% de Privacidad y por la exclusiva zona de piscina cubierta que la hace funcional los 365 días del año. Imposible obviar las vistas exclusivas al Mar Cántabrico y las memorables e inolvidables puestas de Sol que se disfrutan. Ubicación: a 15 mns de las playas y del centro de San Sebastián, a 30 mns del Golf y 50 mns de Biarritz. Aeropuerto de San Sebastián situado a 30 mns. Infórmese sin compromiso. Abstenerse curiosos.</td>\n",
       "                        <td id=\"T_735f4700_7afe_11e9_b6db_64006a975d62row2_col2\" class=\"data row2 col2\" >1900000</td>\n",
       "                        <td id=\"T_735f4700_7afe_11e9_b6db_64006a975d62row2_col3\" class=\"data row2 col3\" >4</td>\n",
       "                        <td id=\"T_735f4700_7afe_11e9_b6db_64006a975d62row2_col4\" class=\"data row2 col4\" >buen estado</td>\n",
       "                        <td id=\"T_735f4700_7afe_11e9_b6db_64006a975d62row2_col5\" class=\"data row2 col5\" >1993</td>\n",
       "                        <td id=\"T_735f4700_7afe_11e9_b6db_64006a975d62row2_col6\" class=\"data row2 col6\" >en trámite</td>\n",
       "                        <td id=\"T_735f4700_7afe_11e9_b6db_64006a975d62row2_col7\" class=\"data row2 col7\" >nan</td>\n",
       "                        <td id=\"T_735f4700_7afe_11e9_b6db_64006a975d62row2_col8\" class=\"data row2 col8\" >15767</td>\n",
       "                        <td id=\"T_735f4700_7afe_11e9_b6db_64006a975d62row2_col9\" class=\"data row2 col9\" >nan</td>\n",
       "                        <td id=\"T_735f4700_7afe_11e9_b6db_64006a975d62row2_col10\" class=\"data row2 col10\" >Casa o chalet independiente</td>\n",
       "                        <td id=\"T_735f4700_7afe_11e9_b6db_64006a975d62row2_col11\" class=\"data row2 col11\" >750</td>\n",
       "                        <td id=\"T_735f4700_7afe_11e9_b6db_64006a975d62row2_col12\" class=\"data row2 col12\" >300</td>\n",
       "                        <td id=\"T_735f4700_7afe_11e9_b6db_64006a975d62row2_col13\" class=\"data row2 col13\" >norte, sur, este, oeste</td>\n",
       "                        <td id=\"T_735f4700_7afe_11e9_b6db_64006a975d62row2_col14\" class=\"data row2 col14\" >7</td>\n",
       "                        <td id=\"T_735f4700_7afe_11e9_b6db_64006a975d62row2_col15\" class=\"data row2 col15\" >False</td>\n",
       "                        <td id=\"T_735f4700_7afe_11e9_b6db_64006a975d62row2_col16\" class=\"data row2 col16\" >False</td>\n",
       "                        <td id=\"T_735f4700_7afe_11e9_b6db_64006a975d62row2_col17\" class=\"data row2 col17\" >True</td>\n",
       "                        <td id=\"T_735f4700_7afe_11e9_b6db_64006a975d62row2_col18\" class=\"data row2 col18\" >False</td>\n",
       "                        <td id=\"T_735f4700_7afe_11e9_b6db_64006a975d62row2_col19\" class=\"data row2 col19\" >0</td>\n",
       "                        <td id=\"T_735f4700_7afe_11e9_b6db_64006a975d62row2_col20\" class=\"data row2 col20\" >True</td>\n",
       "                        <td id=\"T_735f4700_7afe_11e9_b6db_64006a975d62row2_col21\" class=\"data row2 col21\" >nan</td>\n",
       "                        <td id=\"T_735f4700_7afe_11e9_b6db_64006a975d62row2_col22\" class=\"data row2 col22\" >False</td>\n",
       "                        <td id=\"T_735f4700_7afe_11e9_b6db_64006a975d62row2_col23\" class=\"data row2 col23\" >True</td>\n",
       "                        <td id=\"T_735f4700_7afe_11e9_b6db_64006a975d62row2_col24\" class=\"data row2 col24\" >True</td>\n",
       "                        <td id=\"T_735f4700_7afe_11e9_b6db_64006a975d62row2_col25\" class=\"data row2 col25\" >True</td>\n",
       "                        <td id=\"T_735f4700_7afe_11e9_b6db_64006a975d62row2_col26\" class=\"data row2 col26\" >Donostialdea (GIP)</td>\n",
       "                        <td id=\"T_735f4700_7afe_11e9_b6db_64006a975d62row2_col27\" class=\"data row2 col27\" >Igeldo (Dono)</td>\n",
       "                        <td id=\"T_735f4700_7afe_11e9_b6db_64006a975d62row2_col28\" class=\"data row2 col28\" >Donostia/San Sebastián</td>\n",
       "                        <td id=\"T_735f4700_7afe_11e9_b6db_64006a975d62row2_col29\" class=\"data row2 col29\" >nan</td>\n",
       "                        <td id=\"T_735f4700_7afe_11e9_b6db_64006a975d62row2_col30\" class=\"data row2 col30\" >186665</td>\n",
       "                        <td id=\"T_735f4700_7afe_11e9_b6db_64006a975d62row2_col31\" class=\"data row2 col31\" >17</td>\n",
       "                        <td id=\"T_735f4700_7afe_11e9_b6db_64006a975d62row2_col32\" class=\"data row2 col32\" >59</td>\n",
       "                        <td id=\"T_735f4700_7afe_11e9_b6db_64006a975d62row2_col33\" class=\"data row2 col33\" >24</td>\n",
       "                        <td id=\"T_735f4700_7afe_11e9_b6db_64006a975d62row2_col34\" class=\"data row2 col34\" >10.6</td>\n",
       "                        <td id=\"T_735f4700_7afe_11e9_b6db_64006a975d62row2_col35\" class=\"data row2 col35\" >24552</td>\n",
       "                        <td id=\"T_735f4700_7afe_11e9_b6db_64006a975d62row2_col36\" class=\"data row2 col36\" >False</td>\n",
       "                        <td id=\"T_735f4700_7afe_11e9_b6db_64006a975d62row2_col37\" class=\"data row2 col37\" >2</td>\n",
       "                        <td id=\"T_735f4700_7afe_11e9_b6db_64006a975d62row2_col38\" class=\"data row2 col38\" >450</td>\n",
       "            </tr>\n",
       "            <tr>\n",
       "                        <th id=\"T_735f4700_7afe_11e9_b6db_64006a975d62level0_row3\" class=\"row_heading level0 row3\" >24245</th>\n",
       "                        <td id=\"T_735f4700_7afe_11e9_b6db_64006a975d62row3_col0\" class=\"data row3 col0\" >82643082</td>\n",
       "                        <td id=\"T_735f4700_7afe_11e9_b6db_64006a975d62row3_col1\" class=\"data row3 col1\" >El lugar ideal para disfrutar con la familia, muy cerca del centro de Irun., , A menos de 100 metros, nos encontramos con zonas de juegos infantiles, paseo y bidegorri de fácil, seguro y tranquilo recorrido junto a la regata Aranzate, en una zona tranquila sin apenas tráfico, que resulta del agrado de familias jóvenes o mayores, que buscan tranquilidad y actividades seguras, para todos sus miembros, incluso los más pequeños., , Las comunicaciones, son inmejorables; peatonalmente, paseando, por sus aceras o bidegorri prácticamente llano, sin pendientes elevadas, en 10 minutos se llega al nuevo centro cívico de Irún o al ambulatorio de Dumboa, y al centro de Irún (Parroquia de Nuestra Señora del Juncal) en 20 minutos., , Como transporte público, cuenta con una parada de la línea de autobús municipal que se encuentra a 50 metros de la promoción, acercando la red de transporte público prácticamente a la puerta de la casa., , Con automóvil, en 2 minutos nos encontramos en la variante o nacional 1 desde la cual podemos coger cualquier dirección que nos interese bien por autopista o carretera nacional a Donostia, Pamplona o Francia., ,Para más información, llame a nuestros teléfonos en horario comercial, estaremos encantados de atenderles y ofrecerles mas inmuebles de su interés, gracias.  .</td>\n",
       "                        <td id=\"T_735f4700_7afe_11e9_b6db_64006a975d62row3_col2\" class=\"data row3 col2\" >550000</td>\n",
       "                        <td id=\"T_735f4700_7afe_11e9_b6db_64006a975d62row3_col3\" class=\"data row3 col3\" >4</td>\n",
       "                        <td id=\"T_735f4700_7afe_11e9_b6db_64006a975d62row3_col4\" class=\"data row3 col4\" >buen estado</td>\n",
       "                        <td id=\"T_735f4700_7afe_11e9_b6db_64006a975d62row3_col5\" class=\"data row3 col5\" >nan</td>\n",
       "                        <td id=\"T_735f4700_7afe_11e9_b6db_64006a975d62row3_col6\" class=\"data row3 col6\" >nan</td>\n",
       "                        <td id=\"T_735f4700_7afe_11e9_b6db_64006a975d62row3_col7\" class=\"data row3 col7\" >nan</td>\n",
       "                        <td id=\"T_735f4700_7afe_11e9_b6db_64006a975d62row3_col8\" class=\"data row3 col8\" >nan</td>\n",
       "                        <td id=\"T_735f4700_7afe_11e9_b6db_64006a975d62row3_col9\" class=\"data row3 col9\" >nan</td>\n",
       "                        <td id=\"T_735f4700_7afe_11e9_b6db_64006a975d62row3_col10\" class=\"data row3 col10\" >Casa o chalet</td>\n",
       "                        <td id=\"T_735f4700_7afe_11e9_b6db_64006a975d62row3_col11\" class=\"data row3 col11\" >600</td>\n",
       "                        <td id=\"T_735f4700_7afe_11e9_b6db_64006a975d62row3_col12\" class=\"data row3 col12\" >235</td>\n",
       "                        <td id=\"T_735f4700_7afe_11e9_b6db_64006a975d62row3_col13\" class=\"data row3 col13\" >nan</td>\n",
       "                        <td id=\"T_735f4700_7afe_11e9_b6db_64006a975d62row3_col14\" class=\"data row3 col14\" >4</td>\n",
       "                        <td id=\"T_735f4700_7afe_11e9_b6db_64006a975d62row3_col15\" class=\"data row3 col15\" >False</td>\n",
       "                        <td id=\"T_735f4700_7afe_11e9_b6db_64006a975d62row3_col16\" class=\"data row3 col16\" >False</td>\n",
       "                        <td id=\"T_735f4700_7afe_11e9_b6db_64006a975d62row3_col17\" class=\"data row3 col17\" >False</td>\n",
       "                        <td id=\"T_735f4700_7afe_11e9_b6db_64006a975d62row3_col18\" class=\"data row3 col18\" >False</td>\n",
       "                        <td id=\"T_735f4700_7afe_11e9_b6db_64006a975d62row3_col19\" class=\"data row3 col19\" >0</td>\n",
       "                        <td id=\"T_735f4700_7afe_11e9_b6db_64006a975d62row3_col20\" class=\"data row3 col20\" >True</td>\n",
       "                        <td id=\"T_735f4700_7afe_11e9_b6db_64006a975d62row3_col21\" class=\"data row3 col21\" >nan</td>\n",
       "                        <td id=\"T_735f4700_7afe_11e9_b6db_64006a975d62row3_col22\" class=\"data row3 col22\" >False</td>\n",
       "                        <td id=\"T_735f4700_7afe_11e9_b6db_64006a975d62row3_col23\" class=\"data row3 col23\" >True</td>\n",
       "                        <td id=\"T_735f4700_7afe_11e9_b6db_64006a975d62row3_col24\" class=\"data row3 col24\" >False</td>\n",
       "                        <td id=\"T_735f4700_7afe_11e9_b6db_64006a975d62row3_col25\" class=\"data row3 col25\" >True</td>\n",
       "                        <td id=\"T_735f4700_7afe_11e9_b6db_64006a975d62row3_col26\" class=\"data row3 col26\" >Bajo Bidasoa (GIP)</td>\n",
       "                        <td id=\"T_735f4700_7afe_11e9_b6db_64006a975d62row3_col27\" class=\"data row3 col27\" >Lapice - Larreaundi - Olaberria - Meaka (Irun)</td>\n",
       "                        <td id=\"T_735f4700_7afe_11e9_b6db_64006a975d62row3_col28\" class=\"data row3 col28\" >Irun</td>\n",
       "                        <td id=\"T_735f4700_7afe_11e9_b6db_64006a975d62row3_col29\" class=\"data row3 col29\" >Meaka (Irun)</td>\n",
       "                        <td id=\"T_735f4700_7afe_11e9_b6db_64006a975d62row3_col30\" class=\"data row3 col30\" >61983</td>\n",
       "                        <td id=\"T_735f4700_7afe_11e9_b6db_64006a975d62row3_col31\" class=\"data row3 col31\" >19</td>\n",
       "                        <td id=\"T_735f4700_7afe_11e9_b6db_64006a975d62row3_col32\" class=\"data row3 col32\" >60</td>\n",
       "                        <td id=\"T_735f4700_7afe_11e9_b6db_64006a975d62row3_col33\" class=\"data row3 col33\" >21</td>\n",
       "                        <td id=\"T_735f4700_7afe_11e9_b6db_64006a975d62row3_col34\" class=\"data row3 col34\" >13</td>\n",
       "                        <td id=\"T_735f4700_7afe_11e9_b6db_64006a975d62row3_col35\" class=\"data row3 col35\" >17671</td>\n",
       "                        <td id=\"T_735f4700_7afe_11e9_b6db_64006a975d62row3_col36\" class=\"data row3 col36\" >nan</td>\n",
       "                        <td id=\"T_735f4700_7afe_11e9_b6db_64006a975d62row3_col37\" class=\"data row3 col37\" >nan</td>\n",
       "                        <td id=\"T_735f4700_7afe_11e9_b6db_64006a975d62row3_col38\" class=\"data row3 col38\" >365</td>\n",
       "            </tr>\n",
       "            <tr>\n",
       "                        <th id=\"T_735f4700_7afe_11e9_b6db_64006a975d62level0_row4\" class=\"row_heading level0 row4\" >24756</th>\n",
       "                        <td id=\"T_735f4700_7afe_11e9_b6db_64006a975d62row4_col0\" class=\"data row4 col0\" >40357521</td>\n",
       "                        <td id=\"T_735f4700_7afe_11e9_b6db_64006a975d62row4_col1\" class=\"data row4 col1\" >Caserío Adosado en Antzuola. Ref: CAN01,El caserío tiene una superficie construida de 450m2. Estos incluyen vivienda + cuadra. Alrededor del caserío hay un terreno con pendiente media con huerta, jardín y garaje. ,La vivienda tiene 124m2 útiles. La planta baja cuenta con una entrada, salón, cocina, comedor y baño con bañera. En la segunda planta se encuentran las 4 habitaciones una de ellas con balcón y un baño. En la tercera planta está el camarote. Los suelos son de madera y baldosa en cocina y baños. Todo se encuentra en buen estado. ,Terreno alrededor del caserio 1380 m2 ,Está situado al lado de la carretera. Está despejado por lo que es muy soleado. ,Además el caserío cuenta con otros dos terrenos más por la zona también de pendiente media.</td>\n",
       "                        <td id=\"T_735f4700_7afe_11e9_b6db_64006a975d62row4_col2\" class=\"data row4 col2\" >269000</td>\n",
       "                        <td id=\"T_735f4700_7afe_11e9_b6db_64006a975d62row4_col3\" class=\"data row4 col3\" >2</td>\n",
       "                        <td id=\"T_735f4700_7afe_11e9_b6db_64006a975d62row4_col4\" class=\"data row4 col4\" >buen estado</td>\n",
       "                        <td id=\"T_735f4700_7afe_11e9_b6db_64006a975d62row4_col5\" class=\"data row4 col5\" >nan</td>\n",
       "                        <td id=\"T_735f4700_7afe_11e9_b6db_64006a975d62row4_col6\" class=\"data row4 col6\" >en trámite</td>\n",
       "                        <td id=\"T_735f4700_7afe_11e9_b6db_64006a975d62row4_col7\" class=\"data row4 col7\" >nan</td>\n",
       "                        <td id=\"T_735f4700_7afe_11e9_b6db_64006a975d62row4_col8\" class=\"data row4 col8\" >1380</td>\n",
       "                        <td id=\"T_735f4700_7afe_11e9_b6db_64006a975d62row4_col9\" class=\"data row4 col9\" >nan</td>\n",
       "                        <td id=\"T_735f4700_7afe_11e9_b6db_64006a975d62row4_col10\" class=\"data row4 col10\" >Casa o chalet independiente</td>\n",
       "                        <td id=\"T_735f4700_7afe_11e9_b6db_64006a975d62row4_col11\" class=\"data row4 col11\" >450</td>\n",
       "                        <td id=\"T_735f4700_7afe_11e9_b6db_64006a975d62row4_col12\" class=\"data row4 col12\" >124</td>\n",
       "                        <td id=\"T_735f4700_7afe_11e9_b6db_64006a975d62row4_col13\" class=\"data row4 col13\" >nan</td>\n",
       "                        <td id=\"T_735f4700_7afe_11e9_b6db_64006a975d62row4_col14\" class=\"data row4 col14\" >4</td>\n",
       "                        <td id=\"T_735f4700_7afe_11e9_b6db_64006a975d62row4_col15\" class=\"data row4 col15\" >False</td>\n",
       "                        <td id=\"T_735f4700_7afe_11e9_b6db_64006a975d62row4_col16\" class=\"data row4 col16\" >False</td>\n",
       "                        <td id=\"T_735f4700_7afe_11e9_b6db_64006a975d62row4_col17\" class=\"data row4 col17\" >False</td>\n",
       "                        <td id=\"T_735f4700_7afe_11e9_b6db_64006a975d62row4_col18\" class=\"data row4 col18\" >False</td>\n",
       "                        <td id=\"T_735f4700_7afe_11e9_b6db_64006a975d62row4_col19\" class=\"data row4 col19\" >nan</td>\n",
       "                        <td id=\"T_735f4700_7afe_11e9_b6db_64006a975d62row4_col20\" class=\"data row4 col20\" >False</td>\n",
       "                        <td id=\"T_735f4700_7afe_11e9_b6db_64006a975d62row4_col21\" class=\"data row4 col21\" >nan</td>\n",
       "                        <td id=\"T_735f4700_7afe_11e9_b6db_64006a975d62row4_col22\" class=\"data row4 col22\" >False</td>\n",
       "                        <td id=\"T_735f4700_7afe_11e9_b6db_64006a975d62row4_col23\" class=\"data row4 col23\" >False</td>\n",
       "                        <td id=\"T_735f4700_7afe_11e9_b6db_64006a975d62row4_col24\" class=\"data row4 col24\" >False</td>\n",
       "                        <td id=\"T_735f4700_7afe_11e9_b6db_64006a975d62row4_col25\" class=\"data row4 col25\" >False</td>\n",
       "                        <td id=\"T_735f4700_7afe_11e9_b6db_64006a975d62row4_col26\" class=\"data row4 col26\" >Alto Deba (GIP)</td>\n",
       "                        <td id=\"T_735f4700_7afe_11e9_b6db_64006a975d62row4_col27\" class=\"data row4 col27\" >nan</td>\n",
       "                        <td id=\"T_735f4700_7afe_11e9_b6db_64006a975d62row4_col28\" class=\"data row4 col28\" >Antzuola</td>\n",
       "                        <td id=\"T_735f4700_7afe_11e9_b6db_64006a975d62row4_col29\" class=\"data row4 col29\" >nan</td>\n",
       "                        <td id=\"T_735f4700_7afe_11e9_b6db_64006a975d62row4_col30\" class=\"data row4 col30\" >2136</td>\n",
       "                        <td id=\"T_735f4700_7afe_11e9_b6db_64006a975d62row4_col31\" class=\"data row4 col31\" >22</td>\n",
       "                        <td id=\"T_735f4700_7afe_11e9_b6db_64006a975d62row4_col32\" class=\"data row4 col32\" >58</td>\n",
       "                        <td id=\"T_735f4700_7afe_11e9_b6db_64006a975d62row4_col33\" class=\"data row4 col33\" >20</td>\n",
       "                        <td id=\"T_735f4700_7afe_11e9_b6db_64006a975d62row4_col34\" class=\"data row4 col34\" >4.5</td>\n",
       "                        <td id=\"T_735f4700_7afe_11e9_b6db_64006a975d62row4_col35\" class=\"data row4 col35\" >25640</td>\n",
       "                        <td id=\"T_735f4700_7afe_11e9_b6db_64006a975d62row4_col36\" class=\"data row4 col36\" >False</td>\n",
       "                        <td id=\"T_735f4700_7afe_11e9_b6db_64006a975d62row4_col37\" class=\"data row4 col37\" >3</td>\n",
       "                        <td id=\"T_735f4700_7afe_11e9_b6db_64006a975d62row4_col38\" class=\"data row4 col38\" >326</td>\n",
       "            </tr>\n",
       "    </tbody></table>"
      ],
      "text/plain": [
       "<pandas.io.formats.style.Styler at 0x2013e805978>"
      ]
     },
     "execution_count": 56,
     "metadata": {},
     "output_type": "execute_result"
    }
   ],
   "source": [
    "df_out = df\n",
    "df_out['m2_relation'] = df['m2_real'] - df['m2_useful']\n",
    "\n",
    "(df_out\n",
    "    .sort_values('m2_relation', ascending=False)[:5]\n",
    "    .style.set_properties(subset=['ad_description'], **{'min-width': '1400px'})\n",
    ")"
   ]
  },
  {
   "cell_type": "markdown",
   "metadata": {},
   "source": [
    "Salvo el caso más extremo, a la cual se le ha asigando un 0 de menos, el resto de viviendas no presentan anomalías aparentes. Por lo tanto, se modifica el valor más extremo, y se asume que el resto entran dentro de un rango plausible:"
   ]
  },
  {
   "cell_type": "code",
   "execution_count": 57,
   "metadata": {
    "ExecuteTime": {
     "end_time": "2019-05-20T12:54:48.826241Z",
     "start_time": "2019-05-20T12:54:48.759185Z"
    }
   },
   "outputs": [],
   "source": [
    "df['m2_useful'][df.house_id == 85089573] = 740"
   ]
  },
  {
   "cell_type": "markdown",
   "metadata": {},
   "source": [
    "### <font color=#5F66A1>price</font>"
   ]
  },
  {
   "cell_type": "code",
   "execution_count": 58,
   "metadata": {
    "ExecuteTime": {
     "end_time": "2019-05-20T12:54:48.984796Z",
     "start_time": "2019-05-20T12:54:48.829759Z"
    },
    "pycharm": {
     "name": "#%%\n"
    }
   },
   "outputs": [
    {
     "data": {
      "image/png": "[encoded data removed]",
      "text/plain": [
       "<Figure size 864x216 with 1 Axes>"
      ]
     },
     "metadata": {
      "needs_background": "light"
     },
     "output_type": "display_data"
    }
   ],
   "source": [
    "f, axes = plt.subplots(1, 1, figsize=(12, 3), sharex=True)\n",
    "sns.despine(left=True)\n",
    "\n",
    "(df\n",
    " .loc[:,'price']\n",
    " .pipe(sns.boxplot, color=clr['pr'], boxprops=dict(alpha=.7)))\n",
    "\n",
    "plt.setp(axes, yticks=[])\n",
    "plt.tight_layout()"
   ]
  },
  {
   "cell_type": "markdown",
   "metadata": {},
   "source": [
    "Vemos que los datos tienen una distribución asimétrica positiva, con una larga cola que se extiende hacia la derecha.\n",
    "\n",
    "Los valores más extremos corresponden a casas que cuestan entre 3 y 4 millones, las cuales son plausibles, por lo que se opta por mantenerlos."
   ]
  },
  {
   "cell_type": "markdown",
   "metadata": {},
   "source": [
    "### <font color=#5F66A1>construct date</font>"
   ]
  },
  {
   "cell_type": "code",
   "execution_count": 59,
   "metadata": {
    "ExecuteTime": {
     "end_time": "2019-05-20T12:54:49.145917Z",
     "start_time": "2019-05-20T12:54:48.985797Z"
    },
    "pycharm": {
     "name": "#%%\n"
    }
   },
   "outputs": [
    {
     "data": {
      "image/png": "[encoded data removed]",
      "text/plain": [
       "<Figure size 720x216 with 1 Axes>"
      ]
     },
     "metadata": {
      "needs_background": "light"
     },
     "output_type": "display_data"
    }
   ],
   "source": [
    "f, axes = plt.subplots(1, 1, figsize=(10, 3), sharex=True)\n",
    "sns.despine(left=True)\n",
    "\n",
    "(df\n",
    " .loc[:,'construct_date']\n",
    " .dropna()\n",
    " .pipe(sns.boxplot, color=clr['pr'], boxprops=dict(alpha=.7)))\n",
    "\n",
    "plt.setp(axes, yticks=[])\n",
    "plt.tight_layout()"
   ]
  },
  {
   "cell_type": "markdown",
   "metadata": {},
   "source": [
    "Vemos que hay ..."
   ]
  },
  {
   "cell_type": "code",
   "execution_count": 60,
   "metadata": {
    "ExecuteTime": {
     "end_time": "2019-05-20T12:54:49.166962Z",
     "start_time": "2019-05-20T12:54:49.147918Z"
    }
   },
   "outputs": [
    {
     "name": "stdout",
     "output_type": "stream",
     "text": [
      "Se han modificado 1 valores\n"
     ]
    }
   ],
   "source": [
    "del_count = len(df.query('construct_date > 2030'))\n",
    "df['construct_date'] = (np.where(df.construct_date > 2030\n",
    "                      , np.nan\n",
    "                      , df.construct_date)\n",
    "                        )\n",
    "print(f\"Se han modificado {del_count} valores\")"
   ]
  },
  {
   "cell_type": "markdown",
   "metadata": {},
   "source": [
    "### <font color=#5F66A1>garage</font>"
   ]
  },
  {
   "cell_type": "code",
   "execution_count": 61,
   "metadata": {
    "ExecuteTime": {
     "end_time": "2019-05-20T12:54:49.329535Z",
     "start_time": "2019-05-20T12:54:49.169476Z"
    },
    "pycharm": {
     "name": "#%%\n"
    }
   },
   "outputs": [
    {
     "data": {
      "image/png": "[encoded data removed]",
      "text/plain": [
       "<Figure size 720x216 with 1 Axes>"
      ]
     },
     "metadata": {
      "needs_background": "light"
     },
     "output_type": "display_data"
    }
   ],
   "source": [
    "f, axes = plt.subplots(1, 1, figsize=(10, 3), sharex=True)\n",
    "sns.despine(left=True)\n",
    "\n",
    "(df\n",
    " .loc[:,'garage']\n",
    " .dropna()\n",
    " .pipe(sns.boxplot, color=clr['pr'], boxprops=dict(alpha=.7)))\n",
    "\n",
    "plt.setp(axes, yticks=[])\n",
    "plt.tight_layout()"
   ]
  },
  {
   "cell_type": "markdown",
   "metadata": {},
   "source": [
    "### <font color=#5F66A1>room_num</font>"
   ]
  },
  {
   "cell_type": "code",
   "execution_count": 62,
   "metadata": {
    "ExecuteTime": {
     "end_time": "2019-05-20T12:54:49.518589Z",
     "start_time": "2019-05-20T12:54:49.333530Z"
    },
    "pycharm": {
     "name": "#%%\n"
    }
   },
   "outputs": [
    {
     "data": {
      "image/png": "[encoded data removed]",
      "text/plain": [
       "<Figure size 720x216 with 1 Axes>"
      ]
     },
     "metadata": {
      "needs_background": "light"
     },
     "output_type": "display_data"
    }
   ],
   "source": [
    "f, axes = plt.subplots(1, 1, figsize=(10, 3), sharex=True)\n",
    "sns.despine(left=True)\n",
    "\n",
    "(df\n",
    " .loc[:,'room_num']\n",
    " .dropna()\n",
    " .pipe(sns.boxplot, color=clr['pr'], boxprops=dict(alpha=.7)))\n",
    "\n",
    "plt.setp(axes, yticks=[])\n",
    "plt.tight_layout()"
   ]
  },
  {
   "cell_type": "code",
   "execution_count": 63,
   "metadata": {
    "ExecuteTime": {
     "end_time": "2019-05-20T12:54:49.568590Z",
     "start_time": "2019-05-20T12:54:49.520591Z"
    },
    "scrolled": true
   },
   "outputs": [
    {
     "data": {
      "text/html": [
       "<div>\n",
       "<style scoped>\n",
       "    .dataframe tbody tr th:only-of-type {\n",
       "        vertical-align: middle;\n",
       "    }\n",
       "\n",
       "    .dataframe tbody tr th {\n",
       "        vertical-align: top;\n",
       "    }\n",
       "\n",
       "    .dataframe thead th {\n",
       "        text-align: right;\n",
       "    }\n",
       "</style>\n",
       "<table border=\"1\" class=\"dataframe\">\n",
       "  <thead>\n",
       "    <tr style=\"text-align: right;\">\n",
       "      <th></th>\n",
       "      <th>house_id</th>\n",
       "      <th>ad_description</th>\n",
       "      <th>price</th>\n",
       "      <th>bath_num</th>\n",
       "      <th>condition</th>\n",
       "      <th>construct_date</th>\n",
       "      <th>energetic_certif</th>\n",
       "      <th>floor</th>\n",
       "      <th>ground_size</th>\n",
       "      <th>heating</th>\n",
       "      <th>house_type</th>\n",
       "      <th>m2_real</th>\n",
       "      <th>m2_useful</th>\n",
       "      <th>orientation</th>\n",
       "      <th>room_num</th>\n",
       "      <th>air_conditioner</th>\n",
       "      <th>balcony</th>\n",
       "      <th>built_in_wardrobe</th>\n",
       "      <th>chimney</th>\n",
       "      <th>garage</th>\n",
       "      <th>garden</th>\n",
       "      <th>lift</th>\n",
       "      <th>reduced_mobility</th>\n",
       "      <th>storage_room</th>\n",
       "      <th>swimming_pool</th>\n",
       "      <th>terrace</th>\n",
       "      <th>loc_zone</th>\n",
       "      <th>loc_district</th>\n",
       "      <th>loc_city</th>\n",
       "      <th>loc_neigh</th>\n",
       "      <th>pop_total</th>\n",
       "      <th>pop_0-19</th>\n",
       "      <th>pop_20-64</th>\n",
       "      <th>pop_&gt;=65</th>\n",
       "      <th>pop_foreign</th>\n",
       "      <th>rent</th>\n",
       "      <th>indoor</th>\n",
       "      <th>floor_count</th>\n",
       "      <th>m2_relation</th>\n",
       "    </tr>\n",
       "  </thead>\n",
       "  <tbody>\n",
       "    <tr>\n",
       "      <th>14312</th>\n",
       "      <td>29570055</td>\n",
       "      <td>Torres Etxezuri. Piso exterior , buena zona ,e...</td>\n",
       "      <td>600000</td>\n",
       "      <td>3</td>\n",
       "      <td>buen estado</td>\n",
       "      <td>NaN</td>\n",
       "      <td>en trámite</td>\n",
       "      <td>24ª</td>\n",
       "      <td>NaN</td>\n",
       "      <td>NaN</td>\n",
       "      <td>Piso</td>\n",
       "      <td>140</td>\n",
       "      <td>NaN</td>\n",
       "      <td>NaN</td>\n",
       "      <td>3</td>\n",
       "      <td>False</td>\n",
       "      <td>False</td>\n",
       "      <td>False</td>\n",
       "      <td>False</td>\n",
       "      <td>NaN</td>\n",
       "      <td>False</td>\n",
       "      <td>1.0</td>\n",
       "      <td>False</td>\n",
       "      <td>False</td>\n",
       "      <td>False</td>\n",
       "      <td>False</td>\n",
       "      <td>Gran Bilbao (BIZ)</td>\n",
       "      <td>Indautxu (Bilb)</td>\n",
       "      <td>Bilbao</td>\n",
       "      <td>Sabino Arana-Jesuitas (Bilb)</td>\n",
       "      <td>345821</td>\n",
       "      <td>16</td>\n",
       "      <td>60</td>\n",
       "      <td>24</td>\n",
       "      <td>11.3</td>\n",
       "      <td>20526</td>\n",
       "      <td>False</td>\n",
       "      <td>1.0</td>\n",
       "      <td>NaN</td>\n",
       "    </tr>\n",
       "  </tbody>\n",
       "</table>\n",
       "</div>"
      ],
      "text/plain": [
       "       house_id                                     ad_description   price  \\\n",
       "14312  29570055  Torres Etxezuri. Piso exterior , buena zona ,e...  600000   \n",
       "\n",
       "       bath_num    condition  construct_date energetic_certif floor  \\\n",
       "14312         3  buen estado             NaN       en trámite   24ª   \n",
       "\n",
       "       ground_size heating house_type  m2_real  m2_useful orientation  \\\n",
       "14312          NaN     NaN       Piso      140        NaN         NaN   \n",
       "\n",
       "       room_num  air_conditioner  balcony  built_in_wardrobe  chimney  garage  \\\n",
       "14312         3            False    False              False    False     NaN   \n",
       "\n",
       "       garden lift  reduced_mobility  storage_room  swimming_pool  terrace  \\\n",
       "14312   False  1.0             False         False          False    False   \n",
       "\n",
       "                loc_zone     loc_district loc_city  \\\n",
       "14312  Gran Bilbao (BIZ)  Indautxu (Bilb)   Bilbao   \n",
       "\n",
       "                          loc_neigh  pop_total  pop_0-19  pop_20-64  pop_>=65  \\\n",
       "14312  Sabino Arana-Jesuitas (Bilb)     345821        16         60        24   \n",
       "\n",
       "       pop_foreign   rent indoor  floor_count  m2_relation  \n",
       "14312         11.3  20526  False          1.0          NaN  "
      ]
     },
     "execution_count": 63,
     "metadata": {},
     "output_type": "execute_result"
    }
   ],
   "source": [
    "df[df.floor == '24ª']"
   ]
  },
  {
   "cell_type": "code",
   "execution_count": null,
   "metadata": {},
   "outputs": [],
   "source": []
  },
  {
   "cell_type": "code",
   "execution_count": 64,
   "metadata": {
    "ExecuteTime": {
     "end_time": "2019-05-20T12:54:50.240433Z",
     "start_time": "2019-05-20T12:54:49.570591Z"
    },
    "pycharm": {
     "name": "#%%\n"
    },
    "scrolled": false
   },
   "outputs": [
    {
     "data": {
      "text/plain": [
       "<seaborn.axisgrid.FacetGrid at 0x2013e3e2a20>"
      ]
     },
     "execution_count": 64,
     "metadata": {},
     "output_type": "execute_result"
    },
    {
     "data": {
      "image/png": "[encoded data removed]",
      "text/plain": [
       "<Figure size 1080x360 with 1 Axes>"
      ]
     },
     "metadata": {
      "needs_background": "light"
     },
     "output_type": "display_data"
    },
    {
     "data": {
      "image/png": "[encoded data removed]",
      "text/plain": [
       "<Figure size 360x360 with 1 Axes>"
      ]
     },
     "metadata": {
      "needs_background": "light"
     },
     "output_type": "display_data"
    }
   ],
   "source": [
    "f, axes = plt.subplots(1, 1, figsize=(15, 5), sharex=True)\n",
    "\n",
    "(df\n",
    " .pipe((sns.catplot, 'data'), ax=axes, x='floor', kind=\"count\"))"
   ]
  },
  {
   "cell_type": "markdown",
   "metadata": {},
   "source": [
    "# Resolver datos incompletos"
   ]
  },
  {
   "cell_type": "markdown",
   "metadata": {},
   "source": [
    "Empezamos analizando como estan repartidos nuestros *missing values*:"
   ]
  },
  {
   "cell_type": "code",
   "execution_count": 65,
   "metadata": {
    "ExecuteTime": {
     "end_time": "2019-05-20T12:54:50.365560Z",
     "start_time": "2019-05-20T12:54:50.242438Z"
    },
    "pycharm": {
     "name": "#%%\n"
    }
   },
   "outputs": [
    {
     "name": "stdout",
     "output_type": "stream",
     "text": [
      "- \u001b[94mad_description\u001b[0m: 3.2%\n",
      "- \u001b[94mcondition\u001b[0m: 8.6%\n",
      "- \u001b[94mconstruct_date\u001b[0m: \u001b[93m69.0%\u001b[0m\n",
      "- \u001b[94menergetic_certif\u001b[0m: 23.9%\n",
      "- \u001b[94mfloor\u001b[0m: 19.6%\n",
      "- \u001b[94mground_size\u001b[0m: \u001b[93m92.0%\u001b[0m\n",
      "- \u001b[94mheating\u001b[0m: \u001b[93m62.1%\u001b[0m\n",
      "- \u001b[94mm2_useful\u001b[0m: 39.1%\n",
      "- \u001b[94morientation\u001b[0m: \u001b[93m57.0%\u001b[0m\n",
      "- \u001b[94mgarage\u001b[0m: \u001b[93m68.2%\u001b[0m\n",
      "- \u001b[94mlift\u001b[0m: 18.8%\n",
      "- \u001b[94mloc_district\u001b[0m: 42.4%\n",
      "- \u001b[94mloc_neigh\u001b[0m: \u001b[93m73.5%\u001b[0m\n",
      "- \u001b[94mindoor\u001b[0m: 9.5%\n",
      "- \u001b[94mfloor_count\u001b[0m: 9.5%\n",
      "- \u001b[94mm2_relation\u001b[0m: 39.1%\n"
     ]
    }
   ],
   "source": [
    "\n",
    "\n",
    "for col in df.columns:\n",
    "    na_count = sum(pd.isna(df[col]))\n",
    "    na_perc = round((na_count*100)/len(df),1)\n",
    "    if(na_count > 0 and na_perc < 50):\n",
    "        print(f\"- {b}{col}{n}: {na_perc}%\")\n",
    "    elif(na_count > 0 and na_perc >= 50):\n",
    "        print(f\"- {b}{col}{n}: {o}{na_perc}%{n}\")"
   ]
  },
  {
   "cell_type": "markdown",
   "metadata": {},
   "source": [
    "Vemos que hay muchas variables con *missing values*, algunas incluso con más del 50% de sus valores. Trataremos todas, excepto la descripción de los anuncios, ya que debido a que solo la usaremos como ayuda en la fase exploratoria, se dejará tal cual."
   ]
  },
  {
   "cell_type": "code",
   "execution_count": 66,
   "metadata": {
    "ExecuteTime": {
     "end_time": "2019-05-20T12:55:04.800491Z",
     "start_time": "2019-05-20T12:54:50.366561Z"
    },
    "pycharm": {
     "name": "#%%\n"
    },
    "scrolled": true
   },
   "outputs": [
    {
     "ename": "TypeError",
     "evalue": "Categorical cannot perform the operation mean",
     "output_type": "error",
     "traceback": [
      "\u001b[1;31m---------------------------------------------------------------------------\u001b[0m",
      "\u001b[1;31mRemoteTraceback\u001b[0m                           Traceback (most recent call last)",
      "\u001b[1;31mRemoteTraceback\u001b[0m: \n\"\"\"\nTraceback (most recent call last):\n  File \"C:\\Users\\mrullan\\AppData\\Local\\Continuum\\anaconda3\\lib\\multiprocessing\\pool.py\", line 121, in worker\n    result = (True, func(*args, **kwds))\n  File \"C:\\Users\\mrullan\\AppData\\Local\\Continuum\\anaconda3\\lib\\multiprocessing\\pool.py\", line 44, in mapstar\n    return list(map(*args))\n  File \"C:\\Users\\mrullan\\AppData\\Local\\Continuum\\anaconda3\\lib\\site-packages\\pandas_profiling\\describe.py\", line 282, in multiprocess_func\n    return x[0], describe_1d(x[1], **kwargs)\n  File \"C:\\Users\\mrullan\\AppData\\Local\\Continuum\\anaconda3\\lib\\site-packages\\pandas_profiling\\describe.py\", line 268, in describe_1d\n    result = result.append(describe_boolean_1d(data))\n  File \"C:\\Users\\mrullan\\AppData\\Local\\Continuum\\anaconda3\\lib\\site-packages\\pandas_profiling\\describe.py\", line 125, in describe_boolean_1d\n    mean = series.mean()\n  File \"C:\\Users\\mrullan\\AppData\\Local\\Continuum\\anaconda3\\lib\\site-packages\\pandas\\core\\generic.py\", line 10956, in stat_func\n    numeric_only=numeric_only)\n  File \"C:\\Users\\mrullan\\AppData\\Local\\Continuum\\anaconda3\\lib\\site-packages\\pandas\\core\\series.py\", line 3616, in _reduce\n    return delegate._reduce(name, numeric_only=numeric_only, **kwds)\n  File \"C:\\Users\\mrullan\\AppData\\Local\\Continuum\\anaconda3\\lib\\site-packages\\pandas\\core\\arrays\\categorical.py\", line 2172, in _reduce\n    raise TypeError(msg.format(op=name))\nTypeError: Categorical cannot perform the operation mean\n\"\"\"",
      "\nThe above exception was the direct cause of the following exception:\n",
      "\u001b[1;31mTypeError\u001b[0m                                 Traceback (most recent call last)",
      "\u001b[1;32m<ipython-input-66-c5473803fb1b>\u001b[0m in \u001b[0;36m<module>\u001b[1;34m\u001b[0m\n\u001b[1;32m----> 1\u001b[1;33m \u001b[0mpandas_profiling\u001b[0m\u001b[1;33m.\u001b[0m\u001b[0mProfileReport\u001b[0m\u001b[1;33m(\u001b[0m\u001b[0mdf\u001b[0m\u001b[1;33m)\u001b[0m\u001b[1;33m\u001b[0m\u001b[1;33m\u001b[0m\u001b[0m\n\u001b[0m",
      "\u001b[1;32m~\\AppData\\Local\\Continuum\\anaconda3\\lib\\site-packages\\pandas_profiling\\__init__.py\u001b[0m in \u001b[0;36m__init__\u001b[1;34m(self, df, **kwargs)\u001b[0m\n\u001b[0;32m     64\u001b[0m         \u001b[0msample\u001b[0m \u001b[1;33m=\u001b[0m \u001b[0mkwargs\u001b[0m\u001b[1;33m.\u001b[0m\u001b[0mget\u001b[0m\u001b[1;33m(\u001b[0m\u001b[1;34m'sample'\u001b[0m\u001b[1;33m,\u001b[0m \u001b[0mdf\u001b[0m\u001b[1;33m.\u001b[0m\u001b[0mhead\u001b[0m\u001b[1;33m(\u001b[0m\u001b[1;33m)\u001b[0m\u001b[1;33m)\u001b[0m\u001b[1;33m\u001b[0m\u001b[1;33m\u001b[0m\u001b[0m\n\u001b[0;32m     65\u001b[0m \u001b[1;33m\u001b[0m\u001b[0m\n\u001b[1;32m---> 66\u001b[1;33m         \u001b[0mdescription_set\u001b[0m \u001b[1;33m=\u001b[0m \u001b[0mdescribe_df\u001b[0m\u001b[1;33m(\u001b[0m\u001b[0mdf\u001b[0m\u001b[1;33m,\u001b[0m \u001b[1;33m**\u001b[0m\u001b[0mkwargs\u001b[0m\u001b[1;33m)\u001b[0m\u001b[1;33m\u001b[0m\u001b[1;33m\u001b[0m\u001b[0m\n\u001b[0m\u001b[0;32m     67\u001b[0m \u001b[1;33m\u001b[0m\u001b[0m\n\u001b[0;32m     68\u001b[0m         self.html = to_html(sample,\n",
      "\u001b[1;32m~\\AppData\\Local\\Continuum\\anaconda3\\lib\\site-packages\\pandas_profiling\\describe.py\u001b[0m in \u001b[0;36mdescribe\u001b[1;34m(df, bins, check_correlation, correlation_threshold, correlation_overrides, check_recoded, pool_size, **kwargs)\u001b[0m\n\u001b[0;32m    361\u001b[0m         \u001b[0mpool\u001b[0m \u001b[1;33m=\u001b[0m \u001b[0mmultiprocessing\u001b[0m\u001b[1;33m.\u001b[0m\u001b[0mPool\u001b[0m\u001b[1;33m(\u001b[0m\u001b[0mpool_size\u001b[0m\u001b[1;33m)\u001b[0m\u001b[1;33m\u001b[0m\u001b[1;33m\u001b[0m\u001b[0m\n\u001b[0;32m    362\u001b[0m         \u001b[0mlocal_multiprocess_func\u001b[0m \u001b[1;33m=\u001b[0m \u001b[0mpartial\u001b[0m\u001b[1;33m(\u001b[0m\u001b[0mmultiprocess_func\u001b[0m\u001b[1;33m,\u001b[0m \u001b[1;33m**\u001b[0m\u001b[0mkwargs\u001b[0m\u001b[1;33m)\u001b[0m\u001b[1;33m\u001b[0m\u001b[1;33m\u001b[0m\u001b[0m\n\u001b[1;32m--> 363\u001b[1;33m         \u001b[0mldesc\u001b[0m \u001b[1;33m=\u001b[0m \u001b[1;33m{\u001b[0m\u001b[0mcol\u001b[0m\u001b[1;33m:\u001b[0m \u001b[0ms\u001b[0m \u001b[1;32mfor\u001b[0m \u001b[0mcol\u001b[0m\u001b[1;33m,\u001b[0m \u001b[0ms\u001b[0m \u001b[1;32min\u001b[0m \u001b[0mpool\u001b[0m\u001b[1;33m.\u001b[0m\u001b[0mmap\u001b[0m\u001b[1;33m(\u001b[0m\u001b[0mlocal_multiprocess_func\u001b[0m\u001b[1;33m,\u001b[0m \u001b[0mdf\u001b[0m\u001b[1;33m.\u001b[0m\u001b[0miteritems\u001b[0m\u001b[1;33m(\u001b[0m\u001b[1;33m)\u001b[0m\u001b[1;33m)\u001b[0m\u001b[1;33m}\u001b[0m\u001b[1;33m\u001b[0m\u001b[1;33m\u001b[0m\u001b[0m\n\u001b[0m\u001b[0;32m    364\u001b[0m         \u001b[0mpool\u001b[0m\u001b[1;33m.\u001b[0m\u001b[0mclose\u001b[0m\u001b[1;33m(\u001b[0m\u001b[1;33m)\u001b[0m\u001b[1;33m\u001b[0m\u001b[1;33m\u001b[0m\u001b[0m\n\u001b[0;32m    365\u001b[0m \u001b[1;33m\u001b[0m\u001b[0m\n",
      "\u001b[1;32m~\\AppData\\Local\\Continuum\\anaconda3\\lib\\multiprocessing\\pool.py\u001b[0m in \u001b[0;36mmap\u001b[1;34m(self, func, iterable, chunksize)\u001b[0m\n\u001b[0;32m    266\u001b[0m         \u001b[1;32min\u001b[0m \u001b[0ma\u001b[0m \u001b[0mlist\u001b[0m \u001b[0mthat\u001b[0m \u001b[1;32mis\u001b[0m \u001b[0mreturned\u001b[0m\u001b[1;33m.\u001b[0m\u001b[1;33m\u001b[0m\u001b[1;33m\u001b[0m\u001b[0m\n\u001b[0;32m    267\u001b[0m         '''\n\u001b[1;32m--> 268\u001b[1;33m         \u001b[1;32mreturn\u001b[0m \u001b[0mself\u001b[0m\u001b[1;33m.\u001b[0m\u001b[0m_map_async\u001b[0m\u001b[1;33m(\u001b[0m\u001b[0mfunc\u001b[0m\u001b[1;33m,\u001b[0m \u001b[0miterable\u001b[0m\u001b[1;33m,\u001b[0m \u001b[0mmapstar\u001b[0m\u001b[1;33m,\u001b[0m \u001b[0mchunksize\u001b[0m\u001b[1;33m)\u001b[0m\u001b[1;33m.\u001b[0m\u001b[0mget\u001b[0m\u001b[1;33m(\u001b[0m\u001b[1;33m)\u001b[0m\u001b[1;33m\u001b[0m\u001b[1;33m\u001b[0m\u001b[0m\n\u001b[0m\u001b[0;32m    269\u001b[0m \u001b[1;33m\u001b[0m\u001b[0m\n\u001b[0;32m    270\u001b[0m     \u001b[1;32mdef\u001b[0m \u001b[0mstarmap\u001b[0m\u001b[1;33m(\u001b[0m\u001b[0mself\u001b[0m\u001b[1;33m,\u001b[0m \u001b[0mfunc\u001b[0m\u001b[1;33m,\u001b[0m \u001b[0miterable\u001b[0m\u001b[1;33m,\u001b[0m \u001b[0mchunksize\u001b[0m\u001b[1;33m=\u001b[0m\u001b[1;32mNone\u001b[0m\u001b[1;33m)\u001b[0m\u001b[1;33m:\u001b[0m\u001b[1;33m\u001b[0m\u001b[1;33m\u001b[0m\u001b[0m\n",
      "\u001b[1;32m~\\AppData\\Local\\Continuum\\anaconda3\\lib\\multiprocessing\\pool.py\u001b[0m in \u001b[0;36mget\u001b[1;34m(self, timeout)\u001b[0m\n\u001b[0;32m    655\u001b[0m             \u001b[1;32mreturn\u001b[0m \u001b[0mself\u001b[0m\u001b[1;33m.\u001b[0m\u001b[0m_value\u001b[0m\u001b[1;33m\u001b[0m\u001b[1;33m\u001b[0m\u001b[0m\n\u001b[0;32m    656\u001b[0m         \u001b[1;32melse\u001b[0m\u001b[1;33m:\u001b[0m\u001b[1;33m\u001b[0m\u001b[1;33m\u001b[0m\u001b[0m\n\u001b[1;32m--> 657\u001b[1;33m             \u001b[1;32mraise\u001b[0m \u001b[0mself\u001b[0m\u001b[1;33m.\u001b[0m\u001b[0m_value\u001b[0m\u001b[1;33m\u001b[0m\u001b[1;33m\u001b[0m\u001b[0m\n\u001b[0m\u001b[0;32m    658\u001b[0m \u001b[1;33m\u001b[0m\u001b[0m\n\u001b[0;32m    659\u001b[0m     \u001b[1;32mdef\u001b[0m \u001b[0m_set\u001b[0m\u001b[1;33m(\u001b[0m\u001b[0mself\u001b[0m\u001b[1;33m,\u001b[0m \u001b[0mi\u001b[0m\u001b[1;33m,\u001b[0m \u001b[0mobj\u001b[0m\u001b[1;33m)\u001b[0m\u001b[1;33m:\u001b[0m\u001b[1;33m\u001b[0m\u001b[1;33m\u001b[0m\u001b[0m\n",
      "\u001b[1;31mTypeError\u001b[0m: Categorical cannot perform the operation mean"
     ]
    }
   ],
   "source": [
    "pandas_profiling.ProfileReport(df)"
   ]
  },
  {
   "cell_type": "code",
   "execution_count": null,
   "metadata": {
    "ExecuteTime": {
     "end_time": "2019-05-20T12:55:04.807490Z",
     "start_time": "2019-05-20T12:54:41.689Z"
    },
    "pycharm": {
     "name": "#%%\n"
    },
    "scrolled": false
   },
   "outputs": [],
   "source": [
    "#(msno.nullity_sort(df, sort=\"ascending\").pipe(msno.bar, color=(0.1,0.3,0.3)));"
   ]
  },
  {
   "cell_type": "code",
   "execution_count": null,
   "metadata": {
    "ExecuteTime": {
     "end_time": "2019-05-20T12:55:04.808490Z",
     "start_time": "2019-05-20T12:54:41.691Z"
    }
   },
   "outputs": [],
   "source": [
    "(df.query('price > 3000000')\n",
    " .style.set_properties(subset=['ad_description'], **{'min-width': '1000px'})\n",
    ");   "
   ]
  },
  {
   "cell_type": "code",
   "execution_count": null,
   "metadata": {
    "ExecuteTime": {
     "end_time": "2019-05-20T12:55:04.809488Z",
     "start_time": "2019-05-20T12:54:41.694Z"
    }
   },
   "outputs": [],
   "source": [
    "(df\n",
    " .drop(columns=['house_id'])\n",
    " .describe(percentiles=[])\n",
    " .loc[['min','max'],:]\n",
    ")"
   ]
  },
  {
   "cell_type": "markdown",
   "metadata": {},
   "source": [
    "##  Duplicidades"
   ]
  },
  {
   "cell_type": "code",
   "execution_count": 92,
   "metadata": {
    "ExecuteTime": {
     "end_time": "2019-05-20T13:20:41.361453Z",
     "start_time": "2019-05-20T13:20:41.288310Z"
    }
   },
   "outputs": [
    {
     "name": "stdout",
     "output_type": "stream",
     "text": [
      "Column:condition ## Common: 74.35% <> Rare: 3.64% ## Type: category\n",
      "Column:house_type ## Common: 78.68% <> Rare: 0.0% ## Type: category\n",
      "Column:air_conditioner ## Common: 98.14% <> Rare: 1.86% ## Type: bool\n",
      "Column:balcony ## Common: 78.98% <> Rare: 21.02% ## Type: bool\n",
      "Column:chimney ## Common: 99.39% <> Rare: 0.61% ## Type: bool\n",
      "Column:garden ## Common: 81.83% <> Rare: 18.17% ## Type: bool\n",
      "Column:reduced_mobility ## Common: 89.06% <> Rare: 10.94% ## Type: bool\n",
      "Column:swimming_pool ## Common: 95.58% <> Rare: 4.42% ## Type: bool\n",
      "Column:indoor ## Common: 87.92% <> Rare: 2.63% ## Type: category\n",
      "Column:floor_count ## Common: 82.19% <> Rare: 0.08% ## Type: float64\n"
     ]
    }
   ],
   "source": [
    "n_records = len(df)\n",
    "def duplicados_por_columna(df):\n",
    "    for column in df:\n",
    "        count_value = df[column].value_counts()\n",
    "        common = count_value.iloc[0]\n",
    "        rare = count_value.iloc[-1]\n",
    "        if ((common / (1.0 * n_records)) > 0.7):\n",
    "            print(\"Column:{} ## Common: {}% <> Rare: {}% ## Type: {}\".format( df[column].name, \n",
    "                                       round(common / (n_records) * 100, 2), \n",
    "                                       round(rare / (n_records) * 100, 2),\n",
    "                                       df[column].dtype\n",
    "        ))\n",
    "\n",
    "duplicados_por_columna(df)"
   ]
  },
  {
   "cell_type": "markdown",
   "metadata": {},
   "source": [
    "Parece que tenemos columnas con gran numero de duplicidades. Realmente no sera muy interesante esa variable para futuros modelos. Todo lo que supere de 70% lo descartaria."
   ]
  },
  {
   "cell_type": "markdown",
   "metadata": {},
   "source": [
    "## Valores inexistentes"
   ]
  },
  {
   "cell_type": "code",
   "execution_count": 93,
   "metadata": {
    "ExecuteTime": {
     "end_time": "2019-05-20T13:20:47.745075Z",
     "start_time": "2019-05-20T13:20:47.567484Z"
    }
   },
   "outputs": [
    {
     "name": "stdout",
     "output_type": "stream",
     "text": [
      "Column:ad_description ## Per: 3.16% ## Type: object\n",
      "Column:condition ## Per: 8.57% ## Type: category\n",
      "Column:construct_date ## Per: 69.04% ## Type: float64\n",
      "Column:energetic_certif ## Per: 23.91% ## Type: category\n",
      "Column:floor ## Per: 19.62% ## Type: category\n",
      "Column:ground_size ## Per: 91.95% ## Type: float64\n",
      "Column:heating ## Per: 62.09% ## Type: category\n",
      "Column:m2_useful ## Per: 39.07% ## Type: float64\n",
      "Column:orientation ## Per: 57.0% ## Type: category\n",
      "Column:garage ## Per: 68.21% ## Type: float64\n",
      "Column:lift ## Per: 18.81% ## Type: category\n",
      "Column:loc_district ## Per: 42.4% ## Type: object\n",
      "Column:loc_neigh ## Per: 73.49% ## Type: object\n",
      "Column:indoor ## Per: 9.46% ## Type: category\n",
      "Column:floor_count ## Per: 9.46% ## Type: float64\n",
      "Column:m2_relation ## Per: 39.07% ## Type: float64\n"
     ]
    }
   ],
   "source": [
    "n_records = len(df)\n",
    "def null_value(df):\n",
    "    for column in df:\n",
    "        if len(df[df[column].isnull()]) / (1.0*n_records) > 0.03:\n",
    "            print(\"Column:{} ## Per: {}% ## Type: {}\".format(\n",
    "                                    df[column].name, \n",
    "                                    round((len(df[df[column].isnull()]) / (n_records)) * 100, 2), \n",
    "                                    df[column].dtype\n",
    "        ))\n",
    "\n",
    "null_value(df)"
   ]
  },
  {
   "cell_type": "markdown",
   "metadata": {
    "ExecuteTime": {
     "end_time": "2019-05-20T13:21:12.802098Z",
     "start_time": "2019-05-20T13:21:12.795098Z"
    }
   },
   "source": [
    "Se tiene que mirar como rellenamos estos datos..."
   ]
  },
  {
   "cell_type": "code",
   "execution_count": null,
   "metadata": {},
   "outputs": [],
   "source": []
  }
 ],
 "metadata": {
  "hide_input": false,
  "kernelspec": {
   "display_name": "Python 3",
   "language": "python",
   "name": "python3"
  },
  "language_info": {
   "codemirror_mode": {
    "name": "ipython",
    "version": 3
   },
   "file_extension": ".py",
   "mimetype": "text/x-python",
   "name": "python",
   "nbconvert_exporter": "python",
   "pygments_lexer": "ipython3",
   "version": "3.7.3"
  },
  "latex_envs": {
   "LaTeX_envs_menu_present": true,
   "autoclose": false,
   "autocomplete": true,
   "bibliofile": "biblio.bib",
   "cite_by": "apalike",
   "current_citInitial": 1,
   "eqLabelWithNumbers": true,
   "eqNumInitial": 1,
   "hotkeys": {
    "equation": "Ctrl-E",
    "itemize": "Ctrl-I"
   },
   "labels_anchors": false,
   "latex_user_defs": false,
   "report_style_numbering": false,
   "user_envs_cfg": false
  },
  "nbTranslate": {
   "displayLangs": [
    "*"
   ],
   "hotkey": "alt-t",
   "langInMainMenu": true,
   "sourceLang": "en",
   "targetLang": "fr",
   "useGoogleTranslate": true
  },
  "pycharm": {
   "stem_cell": {
    "cell_type": "raw",
    "metadata": {
     "collapsed": false
    },
    "source": []
   }
  },
  "toc": {
   "base_numbering": 1,
   "nav_menu": {},
   "number_sections": true,
   "sideBar": true,
   "skip_h1_title": false,
   "title_cell": "Table of Contents",
   "title_sidebar": "Contents",
   "toc_cell": false,
   "toc_position": {},
   "toc_section_display": true,
   "toc_window_display": true
  }
 },
 "nbformat": 4,
 "nbformat_minor": 1
}
