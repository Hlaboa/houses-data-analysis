{
 "cells": [
  {
   "cell_type": "markdown",
   "metadata": {},
   "source": [
    "Cargamos las librerías, el conjunto de datos y algunas variables que emplearemos durante el proceso:"
   ]
  },
  {
   "cell_type": "code",
   "execution_count": null,
   "metadata": {
    "ExecuteTime": {
     "end_time": "2019-05-27T13:22:42.407400Z",
     "start_time": "2019-05-27T13:22:40.004437Z"
    },
    "pycharm": {
     "name": "#%%\n"
    }
   },
   "outputs": [],
   "source": [
    "import warnings\n",
    "import pandas as pd\n",
    "import numpy as np\n",
    "import matplotlib.pyplot as plt\n",
    "import seaborn as sns\n",
    "import pickle\n",
    "%matplotlib inline\n",
    "\n",
    "df = pd.read_csv('./processed_data/houses_integrated.csv')\n",
    "\n",
    "# Definimos las opciones de visualizacion\n",
    "pd.set_option('display.max_columns', 500)\n",
    "\n",
    "# Definimos un listado de colores para visualizaciones\n",
    "clr = {'pr': '#5F66A1', 'yw': '#f3ca75',\n",
    "       'mg': '#c874b9', 'gn': '#599d70', 'br': '#636261'}\n",
    "b = '\\033[94m'  # para texto azul\n",
    "o = '\\033[93m'  # para texto naranja\n",
    "n = '\\033[0m'   # para texto normal\n",
    "\n",
    "# Omitimos los warnings\n",
    "warnings.filterwarnings('ignore')"
   ]
  },
  {
   "cell_type": "markdown",
   "metadata": {},
   "source": [
    "En esta fase verificaremos la calidad de los datos por medio de una serie de procesos."
   ]
  },
  {
   "cell_type": "markdown",
   "metadata": {},
   "source": [
    "# Estandarización de variables"
   ]
  },
  {
   "cell_type": "markdown",
   "metadata": {},
   "source": [
    "## Estudio de variables a estandarizar"
   ]
  },
  {
   "cell_type": "markdown",
   "metadata": {},
   "source": [
    "En este apartado se procede a estandarizar las variables, corrigiendo su tipo, y normalizando sus valores, (entendiendo por normalizar, asignarles el valor más representativo).\n",
    "\n",
    "*NOTA: En este apartado no se tratarán ni los missing values ni los outliers. Su gestión se deja para más adelante.*"
   ]
  },
  {
   "cell_type": "markdown",
   "metadata": {},
   "source": [
    "Empezaremos analizando cómo han sido asignadas las variables:"
   ]
  },
  {
   "cell_type": "code",
   "execution_count": null,
   "metadata": {
    "ExecuteTime": {
     "end_time": "2019-05-27T13:22:42.416368Z",
     "start_time": "2019-05-27T13:22:42.409378Z"
    },
    "pycharm": {
     "name": "#%%\n"
    }
   },
   "outputs": [],
   "source": [
    "df.dtypes"
   ]
  },
  {
   "cell_type": "markdown",
   "metadata": {},
   "source": [
    "De la lista superior, extraemos qué variables estudiaremos en la estandarización. En concreto, nos centraremos en 4 grupos: \n",
    "+ Por un lado estandarizaremos las variables numéricas que no hayan asignado como tal\n",
    "+ Por otro lado, estudiaremos las variables categóricas\n",
    "+ A continuación estudiaremos las variables categoricas binarias, es decir, booleanas\n",
    "+ Finalmente, nos centraremos en las variables de texto ligadas a la ubicación\n",
    "\n",
    "<br />\n",
    "\n",
    "**VARIABLES NUMÉRICAS NO ASIGNADAS COMO TAL**\n",
    "\n",
    "+ <font color=#5F66A1>*bath_num*<font>\n",
    "+ <font color=#5F66A1>*room_num*<font>\n",
    "+ <font color=#5F66A1>*garage*<font>\n",
    "\n",
    "\n",
    "**VARIABLES CATEGÓRICAS**\n",
    "\n",
    "+ <font color=#5F66A1>*condition*<font>\n",
    "+ <font color=#5F66A1>*energetic_certif*<font>\n",
    "+ <font color=#5F66A1>*floor*<font>\n",
    "+ <font color=#5F66A1>*heating*<font>\n",
    "+ <font color=#5F66A1>*house_type*<font>\n",
    "+ <font color=#5F66A1>*orientation*<font>\n",
    "\n",
    "\n",
    "**VARIABLES BOOLEANAS**\n",
    "\n",
    "+ <font color=#5F66A1>*air_conditioner*<font>\n",
    "+ <font color=#5F66A1>*balcony*<font>\n",
    "+ <font color=#5F66A1>*built_in_wardrobe*<font>\n",
    "+ <font color=#5F66A1>*chimney*<font>\n",
    "+ <font color=#5F66A1>*garden*<font>\n",
    "+ <font color=#5F66A1>*kitchen*<font>\n",
    "+ <font color=#5F66A1>*lift*<font>\n",
    "+ <font color=#5F66A1>*reduced_mobility*<font>\n",
    "+ <font color=#5F66A1>*storage_room*<font>\n",
    "+ <font color=#5F66A1>*swimming_pool*<font>\n",
    "+ <font color=#5F66A1>*terrace*<font>\n",
    "+ <font color=#5F66A1>*unfurnished*<font>\n",
    "\n",
    "\n",
    "**VARIABLES DE TEXTO LIGADAS A LA UBICACIÓN**\n",
    "\n",
    "+ <font color=#5F66A1>*loc_zone*<font>\n",
    "+ <font color=#5F66A1>*loc_district*<font>\n",
    "+ <font color=#5F66A1>*loc_city*<font>\n",
    "+ <font color=#5F66A1>*loc_neigh*<font>"
   ]
  },
  {
   "cell_type": "markdown",
   "metadata": {},
   "source": [
    "## Estandarización de variables numéricas"
   ]
  },
  {
   "cell_type": "markdown",
   "metadata": {},
   "source": [
    "### <font color=#5F66A1>bath_num</font>"
   ]
  },
  {
   "cell_type": "code",
   "execution_count": null,
   "metadata": {
    "ExecuteTime": {
     "end_time": "2019-05-27T13:22:42.434369Z",
     "start_time": "2019-05-27T13:22:42.418359Z"
    },
    "pycharm": {
     "name": "#%%\n"
    }
   },
   "outputs": [],
   "source": [
    "print(df.bath_num.unique())"
   ]
  },
  {
   "cell_type": "markdown",
   "metadata": {},
   "source": [
    "Vemos como la ausencia de baños se identifica como 'sin baños', en forma de texto. Lo corregimos, y definimos la variable como numérica:"
   ]
  },
  {
   "cell_type": "code",
   "execution_count": null,
   "metadata": {
    "ExecuteTime": {
     "end_time": "2019-05-27T13:22:42.460384Z",
     "start_time": "2019-05-27T13:22:42.436359Z"
    },
    "pycharm": {
     "name": "#%%\n"
    }
   },
   "outputs": [],
   "source": [
    "df['bath_num'] = (df['bath_num']\n",
    "                  .str.replace('sin baños','0')\n",
    "                  .astype('int64')\n",
    "                 )"
   ]
  },
  {
   "cell_type": "markdown",
   "metadata": {},
   "source": [
    "### <font color=#5F66A1>room_num</font>"
   ]
  },
  {
   "cell_type": "code",
   "execution_count": null,
   "metadata": {
    "ExecuteTime": {
     "end_time": "2019-05-27T13:22:42.466365Z",
     "start_time": "2019-05-27T13:22:42.462376Z"
    },
    "pycharm": {
     "name": "#%%\n"
    }
   },
   "outputs": [],
   "source": [
    "print(df.room_num.unique())"
   ]
  },
  {
   "cell_type": "markdown",
   "metadata": {},
   "source": [
    "Aquí tambien la ausencia de habitaciones se identifica en forma de texto, como 'sin habitación'. Lo corregimos, y definimos la variable como numérica:"
   ]
  },
  {
   "cell_type": "code",
   "execution_count": null,
   "metadata": {
    "ExecuteTime": {
     "end_time": "2019-05-27T13:22:42.495367Z",
     "start_time": "2019-05-27T13:22:42.468363Z"
    },
    "pycharm": {
     "name": "#%%\n"
    }
   },
   "outputs": [],
   "source": [
    "df['room_num'] = (df['room_num']\n",
    "                   .str.replace('sin habitación','0')\n",
    "                   .astype('int64')\n",
    "                  )"
   ]
  },
  {
   "cell_type": "markdown",
   "metadata": {},
   "source": [
    "### <font color=#5F66A1>garage</font>"
   ]
  },
  {
   "cell_type": "code",
   "execution_count": null,
   "metadata": {
    "ExecuteTime": {
     "end_time": "2019-05-27T13:22:42.507382Z",
     "start_time": "2019-05-27T13:22:42.497364Z"
    },
    "pycharm": {
     "name": "#%%\n"
    }
   },
   "outputs": [],
   "source": [
    "print(df.garage.unique()[:10])"
   ]
  },
  {
   "cell_type": "markdown",
   "metadata": {},
   "source": [
    "Vemos que la variable refleja el precio de la plaza de garaje en forma de texto. Por lo tanto, extraemos el precio del texto y establecemos que la variable sea numérica:"
   ]
  },
  {
   "cell_type": "code",
   "execution_count": null,
   "metadata": {
    "ExecuteTime": {
     "end_time": "2019-05-27T13:22:42.561885Z",
     "start_time": "2019-05-27T13:22:42.513362Z"
    },
    "pycharm": {
     "name": "#%%\n"
    }
   },
   "outputs": [],
   "source": [
    "df['garage'] = (df['garage']\n",
    "                .str.replace('plaza de garaje incluida en el precio','0')\n",
    "                .str.replace('.','')\n",
    "                .str.extract('(\\d{1,4})')\n",
    "                .astype('float64')\n",
    "               )"
   ]
  },
  {
   "cell_type": "markdown",
   "metadata": {},
   "source": [
    "## Estandarización de variables categóricas"
   ]
  },
  {
   "cell_type": "markdown",
   "metadata": {},
   "source": [
    "### <font color=#5F66A1>condition</font>"
   ]
  },
  {
   "cell_type": "code",
   "execution_count": null,
   "metadata": {
    "ExecuteTime": {
     "end_time": "2019-05-27T13:22:42.569896Z",
     "start_time": "2019-05-27T13:22:42.564885Z"
    },
    "pycharm": {
     "name": "#%%\n"
    }
   },
   "outputs": [],
   "source": [
    "print(df.condition.unique())"
   ]
  },
  {
   "cell_type": "markdown",
   "metadata": {},
   "source": [
    "Vemos que hay 3 posibles categorías. Redefinimos los nombres de las categorías para mejorar su interpretabilidad."
   ]
  },
  {
   "cell_type": "code",
   "execution_count": null,
   "metadata": {
    "ExecuteTime": {
     "end_time": "2019-05-27T13:22:42.665422Z",
     "start_time": "2019-05-27T13:22:42.572896Z"
    },
    "pycharm": {
     "name": "#%%\n"
    }
   },
   "outputs": [],
   "source": [
    "df = df.replace({'condition':\n",
    "                 {\n",
    "                  'segunda mano/buen estado':'buen estado',\n",
    "                  'segunda mano/para reformar':'para reformar',\n",
    "                  'promoción de obra nueva':'obra nueva'\n",
    "                 }})\n",
    "\n",
    "df['condition'] = df['condition'].astype('category')"
   ]
  },
  {
   "cell_type": "markdown",
   "metadata": {},
   "source": [
    "### <font color=#5F66A1>energetic_certif</font>"
   ]
  },
  {
   "cell_type": "code",
   "execution_count": null,
   "metadata": {
    "ExecuteTime": {
     "end_time": "2019-05-27T13:22:42.676421Z",
     "start_time": "2019-05-27T13:22:42.668417Z"
    },
    "pycharm": {
     "name": "#%%\n"
    }
   },
   "outputs": [],
   "source": [
    "print(df.energetic_certif.unique())"
   ]
  },
  {
   "cell_type": "markdown",
   "metadata": {},
   "source": [
    "No requiere ningun tratamiento salvo definirla como categórica:"
   ]
  },
  {
   "cell_type": "code",
   "execution_count": null,
   "metadata": {
    "ExecuteTime": {
     "end_time": "2019-05-27T13:22:42.693943Z",
     "start_time": "2019-05-27T13:22:42.679945Z"
    },
    "pycharm": {
     "name": "#%%\n"
    }
   },
   "outputs": [],
   "source": [
    "df['energetic_certif'] = df['energetic_certif'].astype('category')"
   ]
  },
  {
   "cell_type": "markdown",
   "metadata": {},
   "source": [
    "### <font color=#5F66A1>floor</font>"
   ]
  },
  {
   "cell_type": "code",
   "execution_count": null,
   "metadata": {
    "ExecuteTime": {
     "end_time": "2019-05-27T13:22:42.704464Z",
     "start_time": "2019-05-27T13:22:42.697461Z"
    },
    "pycharm": {
     "name": "#%%\n"
    }
   },
   "outputs": [],
   "source": [
    "print(df.floor.unique()[:15])"
   ]
  },
  {
   "cell_type": "markdown",
   "metadata": {},
   "source": [
    "Vemos que, a grandes rasgos, esta variable esconde lo que podrían ser 3 variables distintas:\n",
    "\n",
    "+ Número de planta en la que se encuentra el domicilio\n",
    "+ Indicador de si la planta está en el interior o en el exterior\n",
    "+ Número de plantas de las que consta el domicilio\n",
    "\n",
    "Por lo tanto, se procede a dividir la variable en 3. \n",
    "\n",
    "<br />\n",
    "\n",
    "Empezamos generando la variable booleana <font color=#5F66A1>__indoor__</font>, que tomará el valor True si el domicilio está en el interior, y False en el caso contrario:"
   ]
  },
  {
   "cell_type": "code",
   "execution_count": null,
   "metadata": {
    "ExecuteTime": {
     "end_time": "2019-05-27T13:22:42.736460Z",
     "start_time": "2019-05-27T13:22:42.708459Z"
    },
    "pycharm": {
     "name": "#%%\n"
    }
   },
   "outputs": [],
   "source": [
    "df['indoor'] = (df['floor']\n",
    "                .str.contains('interior')\n",
    "                .astype('category')   # no se define como bool porque aún contiene NaN\n",
    "               )\n",
    "\n",
    "print(df['indoor'].unique())"
   ]
  },
  {
   "cell_type": "markdown",
   "metadata": {},
   "source": [
    "<br />\n",
    "\n",
    "A continuación crearemos la variable <font color=#5F66A1>__floor_count__</font>, que recogerá el número de plantas de las que consta la casa.\n",
    "\n",
    "Para ello, empezamos asignando como valor 1 a todas las casas que tengan información sobre la planta (las que estan como NaN las dejaremos por ahora tal cual, puesto que no tenemos información al respecto)"
   ]
  },
  {
   "cell_type": "code",
   "execution_count": null,
   "metadata": {
    "ExecuteTime": {
     "end_time": "2019-05-27T13:22:42.814458Z",
     "start_time": "2019-05-27T13:22:42.740461Z"
    },
    "pycharm": {
     "name": "#%%\n"
    }
   },
   "outputs": [],
   "source": [
    "df['floor_count'] = np.nan\n",
    "df['floor_count'][df.floor.notna()] = 1"
   ]
  },
  {
   "cell_type": "markdown",
   "metadata": {},
   "source": [
    "A continuación, añadiremos la información sobre las casas con más de una planta. Para ello, seleccionaremos todas las celdas que contengan la palabra 'plantas' (en plural), y de allí extraeremos el número por medio de una expresión regular:"
   ]
  },
  {
   "cell_type": "code",
   "execution_count": null,
   "metadata": {
    "ExecuteTime": {
     "end_time": "2019-05-27T13:22:42.838462Z",
     "start_time": "2019-05-27T13:22:42.816460Z"
    },
    "pycharm": {
     "name": "#%%\n"
    }
   },
   "outputs": [],
   "source": [
    "f_c = (df['floor'][df.floor.str.contains('plantas', na=False)]\n",
    "       .str.extract('(\\d+)')\n",
    "       .astype('float64')\n",
    "       .rename(columns={0:'floor_count'})\n",
    "      )"
   ]
  },
  {
   "cell_type": "markdown",
   "metadata": {},
   "source": [
    "Una vez hemos extraído el número de plantas de las casas con más de una, actualizamos la variable:"
   ]
  },
  {
   "cell_type": "code",
   "execution_count": null,
   "metadata": {
    "ExecuteTime": {
     "end_time": "2019-05-27T13:22:42.880461Z",
     "start_time": "2019-05-27T13:22:42.840458Z"
    },
    "pycharm": {
     "name": "#%%\n"
    }
   },
   "outputs": [],
   "source": [
    "df.update(f_c)\n",
    "print(df.floor_count.unique())"
   ]
  },
  {
   "cell_type": "markdown",
   "metadata": {},
   "source": [
    "<br />\n",
    "\n",
    "Por último modificaremos la variable <font color=#5F66A1>__floor__</font>, para que solo recoja el número de planta en el que se encuentra el piso:"
   ]
  },
  {
   "cell_type": "code",
   "execution_count": null,
   "metadata": {
    "ExecuteTime": {
     "end_time": "2019-05-27T13:22:42.960459Z",
     "start_time": "2019-05-27T13:22:42.881460Z"
    },
    "pycharm": {
     "name": "#%%\n"
    }
   },
   "outputs": [],
   "source": [
    "df['floor'] = (df['floor']\n",
    "               .str.replace('(exterior|interior|1 planta)', '')\n",
    "               .str.replace('(\\d+) plantas', '')\n",
    "               .str.strip()\n",
    "               .str.replace('planta ', '')\n",
    "               .replace('', np.nan)\n",
    "               .astype('category')\n",
    "              )\n",
    "\n",
    "print(df.floor.unique())"
   ]
  },
  {
   "cell_type": "markdown",
   "metadata": {},
   "source": [
    "Vemos que hay 30 categorías distintas, lo cual parece excesivo para diferenciar distitos números de planta. Por ello, exploramos si podemos colapsar ciertas categorías."
   ]
  },
  {
   "cell_type": "code",
   "execution_count": null,
   "metadata": {
    "ExecuteTime": {
     "end_time": "2019-05-27T13:22:43.003466Z",
     "start_time": "2019-05-27T13:22:42.962462Z"
    }
   },
   "outputs": [],
   "source": [
    "df.groupby('floor').count().sort_values('house_id',ascending=False)['house_id']"
   ]
  },
  {
   "cell_type": "markdown",
   "metadata": {},
   "source": [
    "En vista de la dispersión de viviendas en función de la planta, se opta por colapsar todas aquellas por encima de la 7ª. Además, se hará lo propio con las plantas por debajo del 1º (entreplantas, bajos, sótanos, ...). Finalmente, se observan casos como planta núm. 60ª y 30ª, las cuales parecen errores tipográficos, por lo que se corrigen como 6ª y 3ª respectivamente:"
   ]
  },
  {
   "cell_type": "code",
   "execution_count": null,
   "metadata": {
    "ExecuteTime": {
     "end_time": "2019-05-27T13:22:43.069460Z",
     "start_time": "2019-05-27T13:22:43.006479Z"
    }
   },
   "outputs": [],
   "source": [
    "df['floor'] = (df['floor']\n",
    "               .str.replace('(bajo|entreplanta|semi-sótano|sótano|-1|-2)','<0ª')\n",
    "               .str.replace('60ª','6ª')\n",
    "               .str.replace('30ª','3ª')\n",
    "               .str.replace(r'(24ª|23ª|22ª|21ª|20ª|19ª|18ª|17ª|9ª|8ª)', '>8ª')\n",
    "               .str.replace(r'(16ª|15ª|14ª|13ª|12ª|11ª|10ª)', '>8ª')        \n",
    "              )\n",
    "\n",
    "print(df.floor.unique())"
   ]
  },
  {
   "cell_type": "markdown",
   "metadata": {},
   "source": [
    "### <font color=#5F66A1>heating</font>"
   ]
  },
  {
   "cell_type": "code",
   "execution_count": null,
   "metadata": {
    "ExecuteTime": {
     "end_time": "2019-05-27T13:22:43.078462Z",
     "start_time": "2019-05-27T13:22:43.070462Z"
    },
    "pycharm": {
     "name": "#%%\n"
    }
   },
   "outputs": [],
   "source": [
    "print(df.heating.unique())"
   ]
  },
  {
   "cell_type": "markdown",
   "metadata": {},
   "source": [
    "Sustraemos la palabra 'calefacción' para mayor interpretabilidad, y la definimos como categórica:"
   ]
  },
  {
   "cell_type": "code",
   "execution_count": null,
   "metadata": {
    "ExecuteTime": {
     "end_time": "2019-05-27T13:22:43.101462Z",
     "start_time": "2019-05-27T13:22:43.080461Z"
    },
    "pycharm": {
     "name": "#%%\n"
    }
   },
   "outputs": [],
   "source": [
    "df['heating'] = (df['heating']\n",
    "                 .str.replace('calefacción ', '')\n",
    "                 .astype('category')\n",
    "                )"
   ]
  },
  {
   "cell_type": "markdown",
   "metadata": {},
   "source": [
    "### <font color=#5F66A1>house_type</font>"
   ]
  },
  {
   "cell_type": "code",
   "execution_count": null,
   "metadata": {
    "ExecuteTime": {
     "end_time": "2019-05-27T13:22:43.164462Z",
     "start_time": "2019-05-27T13:22:43.107463Z"
    },
    "pycharm": {
     "name": "#%%\n"
    }
   },
   "outputs": [],
   "source": [
    "df['house_type'] = (df['house_type']\n",
    "                    .str.strip()\n",
    "                    .astype('category')\n",
    "                   )\n",
    "\n",
    "df.groupby('house_type').count().sort_values('house_id',ascending=False)['house_id']"
   ]
  },
  {
   "cell_type": "markdown",
   "metadata": {},
   "source": [
    "Vemos nuevamente, que hay excesivas categorías. Colapsamos algunos:"
   ]
  },
  {
   "cell_type": "code",
   "execution_count": null,
   "metadata": {
    "ExecuteTime": {
     "end_time": "2019-05-27T13:22:43.234464Z",
     "start_time": "2019-05-27T13:22:43.167460Z"
    }
   },
   "outputs": [],
   "source": [
    "df['house_type'] = (df['house_type']\n",
    "                    .str.replace(r'Alquiler .*','Alquiler')\n",
    "                    .str.replace(' independiente','')\n",
    "                    .str.replace('pareado','adosado')\n",
    "                    .str.replace(r'(Caserón|Casa de pueblo|Casa terrera)','Casa rural')\n",
    "                    .str.replace(r'(Palacio|Torre|Castillo|Cortijo)','Otros')\n",
    "                   )\n",
    "                    \n",
    "print(df.house_type.unique())"
   ]
  },
  {
   "cell_type": "markdown",
   "metadata": {},
   "source": [
    "### <font color=#5F66A1>orientation</font>"
   ]
  },
  {
   "cell_type": "code",
   "execution_count": null,
   "metadata": {
    "ExecuteTime": {
     "end_time": "2019-05-27T13:22:43.241464Z",
     "start_time": "2019-05-27T13:22:43.235462Z"
    },
    "pycharm": {
     "name": "#%%\n"
    }
   },
   "outputs": [],
   "source": [
    "print(df.orientation.unique())"
   ]
  },
  {
   "cell_type": "markdown",
   "metadata": {},
   "source": [
    "No requiere estandarización salvo definirla como categórica:"
   ]
  },
  {
   "cell_type": "code",
   "execution_count": null,
   "metadata": {
    "ExecuteTime": {
     "end_time": "2019-05-27T13:22:43.265464Z",
     "start_time": "2019-05-27T13:22:43.243462Z"
    },
    "pycharm": {
     "name": "#%%\n"
    }
   },
   "outputs": [],
   "source": [
    "df['orientation'] = (df['orientation'].astype('category'))"
   ]
  },
  {
   "cell_type": "markdown",
   "metadata": {},
   "source": [
    "## Estandarización de variables booleanas"
   ]
  },
  {
   "cell_type": "markdown",
   "metadata": {},
   "source": [
    "Analizamos qué valores tienen las variables booleanas:"
   ]
  },
  {
   "cell_type": "code",
   "execution_count": null,
   "metadata": {
    "ExecuteTime": {
     "end_time": "2019-05-27T13:22:43.296463Z",
     "start_time": "2019-05-27T13:22:43.267466Z"
    },
    "pycharm": {
     "name": "#%%\n"
    }
   },
   "outputs": [],
   "source": [
    "print(f'Valores para {b}air_conditioner{n}: {df.air_conditioner.unique()}')\n",
    "print(f'Valores para {b}balcony{n}: {df.balcony.unique()}')\n",
    "print(f'Valores para {b}built_in_wardrobe{n}: {df.built_in_wardrobe.unique()}')\n",
    "print(f'Valores para {b}chimney{n}: {df.chimney.unique()}')\n",
    "print(f'Valores para {b}garden{n}: {df.garden.unique()}')\n",
    "print(f'Valores para {b}kitchen{n}: {df.kitchen.unique()}')\n",
    "print(f'Valores para {b}lift{n}: {df.lift.unique()}')\n",
    "print(f'Valores para {b}reduced_mobility{n}: {df.reduced_mobility.unique()}')\n",
    "print(f'Valores para {b}storage_room{n}: {df.storage_room.unique()}')\n",
    "print(f'Valores para {b}swimming_pool{n}: {df.swimming_pool.unique()}')\n",
    "print(f'Valores para {b}terrace{n}: {df.terrace.unique()}')\n",
    "print(f'Valores para {b}unfurnished{n}: {df.unfurnished.unique()}')"
   ]
  },
  {
   "cell_type": "markdown",
   "metadata": {},
   "source": [
    "Dado que las variables <font color=#5F66A1>__kitchen__</font> y <font color=#5F66A1>__unfurnished__</font> son variables ligadas exclusivamente a casas de alquiler, las eliminamos:"
   ]
  },
  {
   "cell_type": "code",
   "execution_count": null,
   "metadata": {
    "ExecuteTime": {
     "end_time": "2019-05-27T13:22:43.332471Z",
     "start_time": "2019-05-27T13:22:43.298465Z"
    },
    "pycharm": {
     "name": "#%%\n"
    }
   },
   "outputs": [],
   "source": [
    "df = df.drop(columns=['kitchen', 'unfurnished'])"
   ]
  },
  {
   "cell_type": "markdown",
   "metadata": {},
   "source": [
    "Por otra parte, vemos que la variable <font color=#5F66A1>__lift__</font>, a pesar de ser booleana, contiene valores NaN, por lo que la definimos como categórica por ahora:"
   ]
  },
  {
   "cell_type": "code",
   "execution_count": null,
   "metadata": {
    "ExecuteTime": {
     "end_time": "2019-05-27T13:22:43.355468Z",
     "start_time": "2019-05-27T13:22:43.335466Z"
    },
    "pycharm": {
     "name": "#%%\n"
    }
   },
   "outputs": [],
   "source": [
    "df['lift'] = df['lift'].astype('category')"
   ]
  },
  {
   "cell_type": "markdown",
   "metadata": {},
   "source": [
    "Finalmente, el resto de variables categóricas las definimos como booleanas:"
   ]
  },
  {
   "cell_type": "code",
   "execution_count": null,
   "metadata": {
    "ExecuteTime": {
     "end_time": "2019-05-27T13:22:43.386470Z",
     "start_time": "2019-05-27T13:22:43.357469Z"
    },
    "pycharm": {
     "name": "#%%\n"
    }
   },
   "outputs": [],
   "source": [
    "df['air_conditioner'] = df['air_conditioner'].astype('bool')\n",
    "df['balcony'] = df['balcony'].astype('bool')\n",
    "df['built_in_wardrobe'] = df['built_in_wardrobe'].astype('bool')\n",
    "df['chimney'] = df['chimney'].astype('bool')\n",
    "df['garden'] = df['garden'].astype('bool')\n",
    "df['reduced_mobility'] = df['reduced_mobility'].astype('bool')\n",
    "df['storage_room'] = df['storage_room'].astype('bool')\n",
    "df['swimming_pool'] = df['swimming_pool'].astype('bool')\n",
    "df['terrace'] = df['terrace'].astype('bool')"
   ]
  },
  {
   "cell_type": "code",
   "execution_count": null,
   "metadata": {
    "ExecuteTime": {
     "end_time": "2019-05-27T13:22:43.407568Z",
     "start_time": "2019-05-27T13:22:43.389151Z"
    }
   },
   "outputs": [],
   "source": [
    "print(f'Nuevos valores para {b}air_conditioner{n}: {df.air_conditioner.unique()}')\n",
    "print(f'Nuevos valores para {b}balcony{n}: {df.balcony.unique()}')\n",
    "print(f'Nuevos valores para {b}built_in_wardrobe{n}: {df.built_in_wardrobe.unique()}')\n",
    "print(f'Nuevos valores para {b}chimney{n}: {df.chimney.unique()}')\n",
    "print(f'Nuevos valores para {b}garden{n}: {df.garden.unique()}')\n",
    "print(f'Nuevos valores para {b}lift{n}: {df.lift.unique()}')\n",
    "print(f'Nuevos valores para {b}reduced_mobility{n}: {df.reduced_mobility.unique()}')\n",
    "print(f'Nuevos valores para {b}storage_room{n}: {df.storage_room.unique()}')\n",
    "print(f'Nuevos valores para {b}swimming_pool{n}: {df.swimming_pool.unique()}')\n",
    "print(f'Nuevos valores para {b}terrace{n}: {df.terrace.unique()}')"
   ]
  },
  {
   "cell_type": "markdown",
   "metadata": {},
   "source": [
    "## Estandarización de variables ligadas a la ubicación"
   ]
  },
  {
   "cell_type": "markdown",
   "metadata": {},
   "source": [
    "La localización de cada vivienda viene especificada por medio de 4 variables distintas, las cuales están organizadas de forma jerárquica del siguiente modo:\n",
    "\n",
    "+ <font color=#5F66A1>__loc_zone__</font> &nbsp; > &nbsp;<font color=#5F66A1>__loc_city__</font> &nbsp;> &nbsp;<font color=#5F66A1>__loc_district__</font> &nbsp;> &nbsp;<font color=#5F66A1>__loc_neigh__</font>"
   ]
  },
  {
   "cell_type": "markdown",
   "metadata": {},
   "source": [
    "### <font color=#5F66A1>loc_zone</font>"
   ]
  },
  {
   "cell_type": "code",
   "execution_count": null,
   "metadata": {
    "ExecuteTime": {
     "end_time": "2019-05-27T13:22:43.415557Z",
     "start_time": "2019-05-27T13:22:43.408558Z"
    },
    "pycharm": {
     "name": "#%%\n"
    }
   },
   "outputs": [],
   "source": [
    "print(df.loc_zone.unique())"
   ]
  },
  {
   "cell_type": "markdown",
   "metadata": {},
   "source": [
    "Definimos las provincias con las iniciales y convertimos la variable en categórica:"
   ]
  },
  {
   "cell_type": "code",
   "execution_count": null,
   "metadata": {
    "ExecuteTime": {
     "end_time": "2019-05-27T13:22:43.466556Z",
     "start_time": "2019-05-27T13:22:43.417571Z"
    },
    "pycharm": {
     "name": "#%%\n"
    }
   },
   "outputs": [],
   "source": [
    "df['loc_zone'] = (df['loc_zone']\n",
    "                  .str.replace(', Vizcaya',' (BIZ)')\n",
    "                  .str.replace(', Guipúzcoa',' (GIP)')\n",
    "                  .astype('category')\n",
    "                 )\n",
    "\n",
    "print(f\"Número de zonas: {len(df.loc_zone.unique())}\")"
   ]
  },
  {
   "cell_type": "markdown",
   "metadata": {},
   "source": [
    "### <font color=#5F66A1>loc_city</font>"
   ]
  },
  {
   "cell_type": "code",
   "execution_count": null,
   "metadata": {
    "ExecuteTime": {
     "end_time": "2019-05-27T13:22:43.474562Z",
     "start_time": "2019-05-27T13:22:43.467555Z"
    },
    "pycharm": {
     "name": "#%%\n"
    }
   },
   "outputs": [],
   "source": [
    "print(df.loc_city.unique()[:15])"
   ]
  },
  {
   "cell_type": "markdown",
   "metadata": {},
   "source": [
    "Los valores están ya lo suficientemente estandarizados, por lo que los dejamos como están, y establecemos la variable como categórica:"
   ]
  },
  {
   "cell_type": "code",
   "execution_count": null,
   "metadata": {
    "ExecuteTime": {
     "end_time": "2019-05-27T13:22:43.490562Z",
     "start_time": "2019-05-27T13:22:43.476557Z"
    },
    "pycharm": {
     "name": "#%%\n"
    }
   },
   "outputs": [],
   "source": [
    "df['loc_city'] = df['loc_city'].astype('category')\n",
    "print(f\"Número de pueblos/ciudades: {len(df.loc_city.unique())}\")"
   ]
  },
  {
   "cell_type": "markdown",
   "metadata": {},
   "source": [
    "### <font color=#5F66A1>loc_district</font>"
   ]
  },
  {
   "cell_type": "code",
   "execution_count": null,
   "metadata": {
    "ExecuteTime": {
     "end_time": "2019-05-27T13:22:43.503559Z",
     "start_time": "2019-05-27T13:22:43.493557Z"
    },
    "pycharm": {
     "name": "#%%\n"
    }
   },
   "outputs": [],
   "source": [
    "print(f\"Número de distritos: {len(df.loc_district.unique())}\")"
   ]
  },
  {
   "cell_type": "markdown",
   "metadata": {
    "variables": {
     "len(df.loc_district.unique())": "<p><strong>NameError</strong>: name &#39;df&#39; is not defined</p>\n"
    }
   },
   "source": [
    "Vemos que hay {{len(df.loc_district.unique())}} distritos distintos. No obstante, en muchos casos, en vez del distrito como tal, el campo guarda información relativa a la calle, urbanización, etc., como puede verse a continuación:"
   ]
  },
  {
   "cell_type": "code",
   "execution_count": null,
   "metadata": {
    "ExecuteTime": {
     "end_time": "2019-05-27T13:22:43.537560Z",
     "start_time": "2019-05-27T13:22:43.506558Z"
    },
    "pycharm": {
     "name": "#%%\n"
    }
   },
   "outputs": [],
   "source": [
    "print(df.sample(frac=1, random_state=89)['loc_district'][df.loc_district.notna()].head(5))"
   ]
  },
  {
   "cell_type": "markdown",
   "metadata": {},
   "source": [
    "Dado que cada distrito está precedido por la palabra __Distrito__, eliminamos todos los valores que no coincidan con este patrón:"
   ]
  },
  {
   "cell_type": "code",
   "execution_count": null,
   "metadata": {
    "ExecuteTime": {
     "end_time": "2019-05-27T13:22:43.609084Z",
     "start_time": "2019-05-27T13:22:43.539560Z"
    },
    "pycharm": {
     "name": "#%%\n"
    }
   },
   "outputs": [],
   "source": [
    "df['loc_district'] = (df['loc_district']\n",
    "                      .str.extract(r'(Distrito .*)')[0]\n",
    "                      .str.replace('Distrito ','')\n",
    "                     )"
   ]
  },
  {
   "cell_type": "markdown",
   "metadata": {},
   "source": [
    "Por otro lado, para asegurarnos de que no haya distritos distintos compartiendo un mismo nombre, agregaremos las iniciales de cada ciudad:"
   ]
  },
  {
   "cell_type": "code",
   "execution_count": null,
   "metadata": {
    "ExecuteTime": {
     "end_time": "2019-05-27T13:22:43.662084Z",
     "start_time": "2019-05-27T13:22:43.611088Z"
    },
    "pycharm": {
     "name": "#%%\n"
    }
   },
   "outputs": [],
   "source": [
    "df['loc_district'] = (np.where(df.loc_district.notna()\n",
    "                      , df.loc_district+' ('+df.loc_city.str[:4]+')'\n",
    "                      , np.nan)\n",
    "                     )\n",
    "\n",
    "print(df.sample(frac=1, random_state=89)['loc_district'][df.loc_district.notna()].head(5))"
   ]
  },
  {
   "cell_type": "markdown",
   "metadata": {},
   "source": [
    "Finalmente, comprobamos el número de distritos que hay tras el proceso de limpieza:"
   ]
  },
  {
   "cell_type": "code",
   "execution_count": null,
   "metadata": {
    "ExecuteTime": {
     "end_time": "2019-05-27T13:22:43.669085Z",
     "start_time": "2019-05-27T13:22:43.664083Z"
    },
    "pycharm": {
     "name": "#%%\n"
    }
   },
   "outputs": [],
   "source": [
    "print(f\"Número de distritos tras limpieza: {len(df.loc_district.unique())}\")"
   ]
  },
  {
   "cell_type": "markdown",
   "metadata": {},
   "source": [
    "### <font color=#5F66A1>loc_neigh</font>"
   ]
  },
  {
   "cell_type": "code",
   "execution_count": null,
   "metadata": {
    "ExecuteTime": {
     "end_time": "2019-05-27T13:22:43.679083Z",
     "start_time": "2019-05-27T13:22:43.671085Z"
    },
    "pycharm": {
     "name": "#%%\n"
    }
   },
   "outputs": [],
   "source": [
    "print(f\"Número de barrios: {len(df.loc_neigh.unique())}\")"
   ]
  },
  {
   "cell_type": "markdown",
   "metadata": {
    "variables": {
     "len(df.loc_neigh.unique())": "<p><strong>NameError</strong>: name &#39;df&#39; is not defined</p>\n"
    }
   },
   "source": [
    "Vemos que hay {{len(df.loc_neigh.unique())}} barrios distintos. Sin embargo, sucede lo mismo que sucedía con el distrito, que en vez del barrio, en muchos casos el campo guarda información relativa a la calle, urbanización, etc.:"
   ]
  },
  {
   "cell_type": "code",
   "execution_count": null,
   "metadata": {
    "ExecuteTime": {
     "end_time": "2019-05-27T13:22:43.705088Z",
     "start_time": "2019-05-27T13:22:43.681084Z"
    },
    "pycharm": {
     "name": "#%%\n"
    }
   },
   "outputs": [],
   "source": [
    "print(df.sample(frac=1, random_state=89)['loc_neigh'][df.loc_neigh.notna()].head(5))"
   ]
  },
  {
   "cell_type": "markdown",
   "metadata": {},
   "source": [
    "En este caso, el barrio viene precedido siempre por la palabra __Barrio__. Así, repetimos el mismo proceso que en el anterior caso. No obstante, en esta ocasión limitamos la extracción de barrios solo a ciertos pueblos o ciudades:"
   ]
  },
  {
   "cell_type": "code",
   "execution_count": null,
   "metadata": {
    "ExecuteTime": {
     "end_time": "2019-05-27T13:22:43.778083Z",
     "start_time": "2019-05-27T13:22:43.707088Z"
    },
    "run_control": {
     "marked": false
    }
   },
   "outputs": [],
   "source": [
    "city_filt = ['Bilbao', 'Leioa', 'Getxo', 'Donostia/San Sebastián']\n",
    "\n",
    "df['loc_neigh'] = (df['loc_neigh']\n",
    "                      .str.extract(r'(Barrio .*)')[0]\n",
    "                      .str.replace('Barrio ','')\n",
    "                     )\n",
    "\n",
    "df['loc_neigh'] = (np.where(df.loc_neigh.notna()\n",
    "                      , df.loc_neigh+' ('+df.loc_city.str[:4]+')'\n",
    "                      , np.nan)\n",
    "                  )\n",
    "df['loc_neigh'] = (np.where(np.isin(df.loc_city, city_filt)\n",
    "                      , df.loc_neigh\n",
    "                      , np.nan)\n",
    "                  )\n",
    "\n",
    "print(df.sample(frac=1, random_state=89)['loc_neigh'][df.loc_neigh.notna()].head(5))"
   ]
  },
  {
   "cell_type": "markdown",
   "metadata": {},
   "source": [
    "Finalmente, comprobamos el número de barrios que hay tras el proceso de limpieza:"
   ]
  },
  {
   "cell_type": "code",
   "execution_count": null,
   "metadata": {
    "ExecuteTime": {
     "end_time": "2019-05-27T13:22:43.785088Z",
     "start_time": "2019-05-27T13:22:43.780088Z"
    }
   },
   "outputs": [],
   "source": [
    "print(f\"Número de barrios tras limpieza: {len(df.loc_neigh.unique())}\")"
   ]
  },
  {
   "cell_type": "markdown",
   "metadata": {},
   "source": [
    "### <font color=#5F66A1>location</font>"
   ]
  },
  {
   "cell_type": "markdown",
   "metadata": {},
   "source": [
    "Por último, dado que no todas las viviendas tienen un valor para  <font color=#5F66A1>__loc_district__</font> o <font color=#5F66A1>__loc_neigh__</font>, vamos a generar una variable que incluya la información más específica posible por cada vivienda.\n",
    "\n",
    "Así, en aquellos casos que se especifique el barrio, almacenara el barrio, sino, la del distrito, y en caso de que ninguna de las dos se indicara, la del pueblo: "
   ]
  },
  {
   "cell_type": "code",
   "execution_count": null,
   "metadata": {
    "ExecuteTime": {
     "end_time": "2019-05-27T13:22:43.826087Z",
     "start_time": "2019-05-27T13:22:43.787087Z"
    },
    "scrolled": false
   },
   "outputs": [],
   "source": [
    "df['location'] = df['loc_neigh']\n",
    "\n",
    "df['location'] = (np.where(df.location.isna()\n",
    "                      , df.loc_district\n",
    "                      , df.location)\n",
    "                 )\n",
    "\n",
    "df['location'] = (np.where(df.location.isna()\n",
    "                      , df.loc_city\n",
    "                      , df.location)\n",
    "                 )\n",
    "\n",
    "print(df.sample(frac=1, random_state=89)['location'].head(5))\n",
    "print(f\"\\nNúmero de ubicaciones distintas: {len(df.location.unique())}\")"
   ]
  },
  {
   "cell_type": "markdown",
   "metadata": {},
   "source": [
    "Por último, dado que ya nos las necesitamos, eliminamos las variables <font color=#5F66A1>__loc_district__</font> y <font color=#5F66A1>__loc_neigh__</font>:"
   ]
  },
  {
   "cell_type": "code",
   "execution_count": null,
   "metadata": {
    "ExecuteTime": {
     "end_time": "2019-05-27T13:22:43.839095Z",
     "start_time": "2019-05-27T13:22:43.829088Z"
    }
   },
   "outputs": [],
   "source": [
    "df = df.drop(columns=['loc_district', 'loc_neigh'])"
   ]
  },
  {
   "cell_type": "markdown",
   "metadata": {},
   "source": [
    "# Verificación de los datos"
   ]
  },
  {
   "cell_type": "markdown",
   "metadata": {},
   "source": [
    "## Descarte de las casas de alquiler"
   ]
  },
  {
   "cell_type": "markdown",
   "metadata": {},
   "source": [
    "En el conjunto de datos que disponemos, se mezclan anuncios con casa en venta y alquiler. Este análisis se centra en la venta de casas, por lo tanto, los anuncios ligados al alquiler han de descartarse.\n",
    "\n",
    "Para ello, la forma más sencilla es utilizar la variable <font color=#5F66A1>__house_type__</font>:"
   ]
  },
  {
   "cell_type": "code",
   "execution_count": null,
   "metadata": {
    "ExecuteTime": {
     "end_time": "2019-05-27T13:22:43.861086Z",
     "start_time": "2019-05-27T13:22:43.841088Z"
    },
    "pycharm": {
     "name": "#%%\n"
    }
   },
   "outputs": [],
   "source": [
    "h_num = len(df[df['house_type'] == 'Alquiler'])\n",
    "df = df[df['house_type'] != 'Alquiler']\n",
    "print(f'Se han descartado {h_num} casas de alquiler')"
   ]
  },
  {
   "cell_type": "markdown",
   "metadata": {},
   "source": [
    "## Verificación de casas duplicadas"
   ]
  },
  {
   "cell_type": "markdown",
   "metadata": {},
   "source": [
    "Lo primero que haremos será verificar que no haya anuncios duplicados. Para ello, dado que disponemos de un identificador de anuncio único, comprobaremos que no haya más de una vivienda con este id:"
   ]
  },
  {
   "cell_type": "code",
   "execution_count": null,
   "metadata": {
    "ExecuteTime": {
     "end_time": "2019-05-27T13:22:43.931085Z",
     "start_time": "2019-05-27T13:22:43.863086Z"
    },
    "pycharm": {
     "name": "#%%\n"
    }
   },
   "outputs": [],
   "source": [
    "h_num = df[df.house_id.duplicated()].shape[0]\n",
    "df.drop_duplicates(subset='house_id', inplace=True)\n",
    "print(f'Se han descartado {h_num} casas duplicadas del dataset')"
   ]
  },
  {
   "cell_type": "markdown",
   "metadata": {},
   "source": [
    "Sin embargo, muchas veces una misma vivienda se ofrece en varias inmobiliarias, y cada una de ellas, genera un anuncio distinto, por lo que con solo comprobar el id del anuncio no basta.\n",
    "\n",
    "Detectar este tipo de viviendas duplicadas es esencial. Pero esta vez no disponemos de un campo que nos facilite la tarea, por lo que tendremos que generar un filtro manual basado en coincidencias que identifique estas viviendas mediante estrategias heurísticas:\n",
    "\n",
    "Así, dado que la gran mayoría de anuncios con viviendas repetidas corresponden a viviendas con precios elevados, definiremos una función que, para cada vivienda a partir de los 400.000€, vea si hay otra con exactamente el mismo precio en la misma zona, y que además, tenga al menos una serie características en común.\n",
    "\n",
    "El filtro lo desarrollaremos asignando pesos a los diferentes atributos, de modo que algunos tengan más importancia a la hora de establecer si son lo suficientemente parecidas como para considerarlas la misma. Así, afinando estos pesos, seremos más o menos permisivos con ciertos aspectos.\n",
    "\n",
    "En este caso, los pesos se han ajustado el filtro para que distinga lo mejor posible si son iguales. No obstante, dada la imposibilidad de ser 100% certeros en esta tarea, habrá viviendas que no sean iguales y que sin embargo las tratemos como tal. Se asume ese error a falta de una solución mejor:"
   ]
  },
  {
   "cell_type": "code",
   "execution_count": null,
   "metadata": {
    "ExecuteTime": {
     "end_time": "2019-05-27T13:22:43.952086Z",
     "start_time": "2019-05-27T13:22:43.932085Z"
    },
    "scrolled": true
   },
   "outputs": [],
   "source": [
    "import numbers\n",
    "\n",
    "''' checks if 2 houses have minimal conditions to assume that could be equal'''\n",
    "def check_equality_conditions(h1, h2):\n",
    "    \n",
    "    cond_price = h1.price == h2.price\n",
    "    cond_location = h1.location == h2.location\n",
    "        \n",
    "    return cond_price & cond_location\n",
    "\n",
    "\n",
    "''' calculates similarity score between 2 houses based on different weights'''\n",
    "def get_similarity(h1, h2):\n",
    "    \n",
    "    # improve house type condition match\n",
    "    h1.house_type = h1.house_type.replace('Chalet adosado','Casa o chalet')\n",
    "    h1.house_type = h1.house_type.replace('Casa rural','Casa o chalet')\n",
    "    h1.house_type = h1.house_type.replace('Dúplex','Piso')\n",
    "    h1.house_type = h1.house_type.replace('Ático','Piso')\n",
    "    h2.house_type = h2.house_type.replace('Chalet adosado','Casa o chalet')\n",
    "    h2.house_type = h2.house_type.replace('Casa rural','Casa o chalet')\n",
    "    h2.house_type = h2.house_type.replace('Dúplex','Piso')\n",
    "    h2.house_type = h2.house_type.replace('Ático','Piso')\n",
    "    \n",
    "    weights = [{\"atr\":'m2_real', \"weight\":2, \"penalty\":-0.5, \"w_margin\":0.15, \"p_margin\":0.15},\n",
    "               {\"atr\":'house_type', \"weight\":1.5, \"penalty\":-3, \"w_margin\":0, \"p_margin\":0},\n",
    "               {\"atr\":'bath_num', \"weight\":1.5, \"penalty\":-0.5,\"w_margin\":0, \"p_margin\":0.15},\n",
    "               {\"atr\":'room_num', \"weight\":1.5, \"penalty\":-0.5, \"w_margin\":0, \"p_margin\":0.2},\n",
    "               {\"atr\":'floor', \"weight\":1.5, \"penalty\":-1, \"w_margin\":0, \"p_margin\":0},\n",
    "               {\"atr\":'construct_date', \"weight\":3, \"penalty\":0, \"w_margin\":0, \"p_margin\":0},\n",
    "               {\"atr\":'ground_size', \"weight\":2, \"penalty\":0, \"w_margin\":0.30, \"p_margin\":30},\n",
    "               {\"atr\":'m2_useful', \"weight\":2, \"penalty\":0, \"w_margin\":0.15, \"p_margin\":0.15},\n",
    "               {\"atr\":'garage', \"weight\":0, \"penalty\":-0.5, \"w_margin\":0, \"p_margin\":0},\n",
    "               {\"atr\":'lift', \"weight\":0, \"penalty\":-2, \"w_margin\":0, \"p_margin\":0},\n",
    "               {\"atr\":'condition', \"weight\":0, \"penalty\":-1, \"w_margin\":0, \"p_margin\":0},\n",
    "               {\"atr\":'swimming_pool', \"weight\":0, \"penalty\":-2, \"w_margin\":0, \"p_margin\":0}]\n",
    "               \n",
    "    score = 0\n",
    "    for w in weights:\n",
    "        \n",
    "        if w['w_margin'] == 0 and w['p_margin'] == 0:\n",
    "            if h1[w['atr']]==h2[w['atr']]:\n",
    "                score += w['weight']\n",
    "            else:\n",
    "                score += w['penalty']\n",
    "        \n",
    "        else:\n",
    "            if (h1[w['atr']] <= (h2[w['atr']] + h2[w['atr']]* w['w_margin'])\n",
    "                and h1[w['atr']] >= (h2[w['atr']] - h2[w['atr']]* w['w_margin'])):\n",
    "                score += w['weight']\n",
    "            elif (h1[w['atr']] <= (h2[w['atr']] + h2[w['atr']]* w['p_margin'])\n",
    "                and h1[w['atr']] >= (h2[w['atr']] - h2[w['atr']]* w['p_margin'])):\n",
    "                score = score\n",
    "            else:\n",
    "                score += w['penalty']\n",
    "    \n",
    "    #print(\\nscore)\n",
    "    #print('https://www.idealista.com/inmueble/'+str(h1.house_id))\n",
    "    #print('https://www.idealista.com/inmueble/'+str(h1.house_id))\n",
    "    return score\n",
    "\n",
    "\n",
    "''' calculates how much information is contained in the ad'''\n",
    "def get_info_score(h):\n",
    "    \n",
    "    info_score = (- h.isna().sum()  # inverse count of NaN's\n",
    "                  + h.garden + h.air_conditioner + h.balcony + h.chimney\n",
    "                  + h.built_in_wardrobe + h.storage_room + h.swimming_pool)\n",
    "    \n",
    "    return info_score\n",
    "\n",
    "\n",
    "\n",
    "''' MAIN FUNCTION: returns less informative duplicated houses indexes'''\n",
    "def get_duplicated(price_bound=400000):\n",
    "    h_to_del=[]\n",
    "    \n",
    "    for i,row1 in df[df['price']>price_bound].iterrows():\n",
    "        for j,row2 in df[df['price']>price_bound].iterrows():\n",
    "\n",
    "            if i == j:\n",
    "                continue \n",
    "\n",
    "            # check if houses are already marked for delete\n",
    "            if ((i in h_to_del) or (j in h_to_del)):\n",
    "                continue \n",
    "\n",
    "            # check if houses fit minimal equality conditions\n",
    "            equal_cond = check_equality_conditions(row1,row2)\n",
    "            if not equal_cond:\n",
    "                continue \n",
    "    \n",
    "            # check if 2 houses are the same\n",
    "            similarity_score = get_similarity(row1,row2)\n",
    "            if similarity_score >= 0:\n",
    "                \n",
    "                # check which ad has more information ; KEEP THAT\n",
    "                info_score1 = get_info_score(row1)\n",
    "                info_score2 = get_info_score(row2)\n",
    "\n",
    "                # delete less informative duplicate house\n",
    "                if info_score1>=info_score2:\n",
    "                    h_to_del.append(j)\n",
    "                else:\n",
    "                    h_to_del.append(i)\n",
    "                    \n",
    "    return h_to_del"
   ]
  },
  {
   "cell_type": "markdown",
   "metadata": {},
   "source": [
    "Una vez definida la función que filtra las casas duplicadas, la ejecutamos:"
   ]
  },
  {
   "cell_type": "code",
   "execution_count": null,
   "metadata": {
    "ExecuteTime": {
     "end_time": "2019-05-27T13:22:43.960089Z",
     "start_time": "2019-05-27T13:22:43.954088Z"
    },
    "run_control": {
     "marked": false
    },
    "scrolled": false
   },
   "outputs": [],
   "source": [
    "#h_to_delete = get_duplicated(400000);\n",
    "\n",
    "# save the list in a pickle3\n",
    "#pickle.dump(h_to_delete, open('./processed_data/h_to_delete.p', \"wb\" ));\n",
    "\n",
    "h_to_delete = pickle.load(open('./processed_data/h_to_delete.p',\"rb\"))\n",
    "print(f\"Se han encontrado {len(h_to_delete)} casas duplicadas\");"
   ]
  },
  {
   "cell_type": "markdown",
   "metadata": {},
   "source": [
    "Finalmente, descartamos del dataset las casas detectadas por nuestro filtro:"
   ]
  },
  {
   "cell_type": "code",
   "execution_count": null,
   "metadata": {
    "ExecuteTime": {
     "end_time": "2019-05-27T13:22:43.975090Z",
     "start_time": "2019-05-27T13:22:43.962089Z"
    }
   },
   "outputs": [],
   "source": [
    "df = df.drop(h_to_delete)"
   ]
  },
  {
   "cell_type": "markdown",
   "metadata": {},
   "source": [
    "# Gestión de ruido y valores extremos"
   ]
  },
  {
   "cell_type": "markdown",
   "metadata": {},
   "source": [
    "En este apartado cotejaremos que los valores estén dentro de un rango plausible. De este modo, por cada variable numérica, gestionaremos tanto los valores extremos como las incongruencias. Además, se cotejará también la veracidad de ciertas variables categóricas. "
   ]
  },
  {
   "cell_type": "markdown",
   "metadata": {},
   "source": [
    "## Ruido y outliers en variables numéricas"
   ]
  },
  {
   "cell_type": "markdown",
   "metadata": {},
   "source": [
    "### <font color=#5F66A1>m2_real</font> & <font color=#5F66A1>m2_useful</font>"
   ]
  },
  {
   "cell_type": "markdown",
   "metadata": {},
   "source": [
    "Empezemos mostrando en un boxplot la dispersión de los metros cuadadros reales de las viviendas:"
   ]
  },
  {
   "cell_type": "code",
   "execution_count": null,
   "metadata": {
    "ExecuteTime": {
     "end_time": "2019-05-27T13:22:44.142089Z",
     "start_time": "2019-05-27T13:22:43.977088Z"
    }
   },
   "outputs": [],
   "source": [
    "f, axes = plt.subplots(1, 1, figsize=(10, 3), sharex=True)\n",
    "sns.despine(left=True)\n",
    "\n",
    "(df\n",
    " .loc[:,'m2_real']\n",
    " .dropna()\n",
    " .pipe(sns.boxplot, color=clr['pr'], boxprops=dict(alpha=.7)))\n",
    "\n",
    "plt.setp(axes, yticks=[])\n",
    "plt.tight_layout()"
   ]
  },
  {
   "cell_type": "markdown",
   "metadata": {},
   "source": [
    "Observamos que hay 2 casos muy extremos. Los exploramos a fin de determinar cómo tratarlos:"
   ]
  },
  {
   "cell_type": "code",
   "execution_count": null,
   "metadata": {
    "ExecuteTime": {
     "end_time": "2019-05-27T13:22:45.438166Z",
     "start_time": "2019-05-27T13:22:44.144090Z"
    }
   },
   "outputs": [],
   "source": [
    "df.query('m2_real > 50000').style.set_properties(subset=['ad_description'], **{'min-width': '800px'})"
   ]
  },
  {
   "cell_type": "markdown",
   "metadata": {},
   "source": [
    "En la descripción del anuncio se ve que en un caso han sumado 3 ceros de más a la superficie real, y en el otro, han asignado el valor de la párcela. Por lo tanto, dado que en la descripción se detalla el tamaño real, se corrigen manualmente, y se vuelve a representar el boxplot:"
   ]
  },
  {
   "cell_type": "code",
   "execution_count": null,
   "metadata": {
    "ExecuteTime": {
     "end_time": "2019-05-27T13:22:45.660282Z",
     "start_time": "2019-05-27T13:22:45.439166Z"
    }
   },
   "outputs": [],
   "source": [
    "df['m2_real'][df.house_id == 82667064] = 415\n",
    "df['m2_real'][df.house_id == 39173329] = 300\n",
    "\n",
    "f, axes = plt.subplots(1, 1, figsize=(10, 3), sharex=True)\n",
    "sns.despine(left=True)\n",
    "\n",
    "(df\n",
    " .loc[:,'m2_real']\n",
    " .dropna()\n",
    " .pipe(sns.boxplot, color=clr['pr'], boxprops=dict(alpha=.7)))\n",
    "\n",
    "plt.setp(axes, yticks=[])\n",
    "plt.tight_layout()"
   ]
  },
  {
   "cell_type": "markdown",
   "metadata": {},
   "source": [
    "Pese a haber resuelto los casos más extremos, vemos que aún siguen existiendo valores muy alejados del resto. De modo que volvemos a analizarlos a fin de determinar qué tratamiento darles:"
   ]
  },
  {
   "cell_type": "code",
   "execution_count": null,
   "metadata": {
    "ExecuteTime": {
     "end_time": "2019-05-27T13:22:45.715101Z",
     "start_time": "2019-05-27T13:22:45.664286Z"
    }
   },
   "outputs": [],
   "source": [
    "out_m2 = len(df[df['m2_real'] >1500])\n",
    "(df\n",
    " .query('m2_real > 1500')\n",
    " .sort_values('m2_real',ascending=False)\n",
    " .head(5)\n",
    " .style.set_properties(subset=['ad_description'], **{'min-width': '1000px'})\n",
    ")"
   ]
  },
  {
   "cell_type": "markdown",
   "metadata": {
    "variables": {
     "out_m2": "<p><strong>NameError</strong>: name &#39;out_m2&#39; is not defined</p>\n"
    }
   },
   "source": [
    "Observamos que hay {{out_m2}} viviendas con precios superiores a los 1.500 $m^2$ reales, entre las cuales hay un convento, un camping, una nave industrial... este tipo de edificios quedan fuera de nuestro objeto de estudio y podrían generar distorsión, por lo que se eliminan. Por otro lado, encontramos nuevamente viviendas que tienen mal definida su superficie; éstas las corregimos de forma manual mediante la información contenida en otros campos:"
   ]
  },
  {
   "cell_type": "code",
   "execution_count": null,
   "metadata": {
    "ExecuteTime": {
     "end_time": "2019-05-27T13:22:45.846628Z",
     "start_time": "2019-05-27T13:22:45.717103Z"
    }
   },
   "outputs": [],
   "source": [
    "df['m2_real'][df.house_id == 82012713] = 90\n",
    "df['m2_real'][df.house_id == 39733981] = 46\n",
    "\n",
    "h_num = len(df[df.m2_real > 1500])\n",
    "df = df[df.m2_real < 1500]\n",
    "print(f'Se han descartado {h_num} viviendas')"
   ]
  },
  {
   "cell_type": "markdown",
   "metadata": {},
   "source": [
    "Por otro lado, en el otro extremo, exploramos si hay viviendas con valores de superficie nulos o negativos: "
   ]
  },
  {
   "cell_type": "code",
   "execution_count": null,
   "metadata": {
    "ExecuteTime": {
     "end_time": "2019-05-27T13:22:45.857628Z",
     "start_time": "2019-05-27T13:22:45.848628Z"
    }
   },
   "outputs": [],
   "source": [
    "cnt = len(df.query('m2_real < 1'))\n",
    "print(f\"Hay {cnt} viviendas con superficie nula o negativa\")"
   ]
  },
  {
   "cell_type": "markdown",
   "metadata": {},
   "source": [
    "Una vez hemos gestionado los valores extremos de la variable <font color=#5F66A1>__m2_real__</font>, hacemos lo propio con <font color=#5F66A1>__m2_useful__</font>:"
   ]
  },
  {
   "cell_type": "code",
   "execution_count": null,
   "metadata": {
    "ExecuteTime": {
     "end_time": "2019-05-27T13:22:45.988630Z",
     "start_time": "2019-05-27T13:22:45.858626Z"
    }
   },
   "outputs": [],
   "source": [
    "f, axes = plt.subplots(1, 1, figsize=(10, 3), sharex=True)\n",
    "sns.despine(left=True)\n",
    "\n",
    "(df\n",
    " .loc[:,'m2_useful']\n",
    " .dropna()\n",
    " .pipe(sns.boxplot, color=clr['pr'], boxprops=dict(alpha=.7)))\n",
    "\n",
    "plt.setp(axes, yticks=[])\n",
    "plt.tight_layout()"
   ]
  },
  {
   "cell_type": "markdown",
   "metadata": {},
   "source": [
    "Vemos que el valor más extremo se encuentra en los 1.200 $m^2$, lo cual entra dentro del rango plausible tras haber eliminado las casas con más de 1.500 $m^2$ reales, por lo que en este caso, no se realiza ninguna acción más, y se procede a verificar que no haya valores nulos o negativos:"
   ]
  },
  {
   "cell_type": "code",
   "execution_count": null,
   "metadata": {
    "ExecuteTime": {
     "end_time": "2019-05-27T13:22:46.001627Z",
     "start_time": "2019-05-27T13:22:45.990631Z"
    }
   },
   "outputs": [],
   "source": [
    "cnt = len(df.query('m2_useful < 1'))\n",
    "print(f\"Hay {cnt} viviendas con superficie nulas o negativa\")"
   ]
  },
  {
   "cell_type": "markdown",
   "metadata": {},
   "source": [
    "Por último, los metros útiles de una vivienda han de ser inferiores a sus metros reales. Verificamos si hay algún caso que no cumpla este criterio:"
   ]
  },
  {
   "cell_type": "code",
   "execution_count": null,
   "metadata": {
    "ExecuteTime": {
     "end_time": "2019-05-27T13:22:46.012630Z",
     "start_time": "2019-05-27T13:22:46.003629Z"
    }
   },
   "outputs": [],
   "source": [
    "cnt = len(df.query('m2_real < m2_useful'))\n",
    "print(f\"Hay {cnt} viviendas con incongruencias entre las superficies\")"
   ]
  },
  {
   "cell_type": "markdown",
   "metadata": {},
   "source": [
    "Además, por lo general, los metros útiles se situan en torno a un 0%-20% por debajo de los metros reales. Por ello, exploremos gráficamente esta relación para hallar valores extremos:"
   ]
  },
  {
   "cell_type": "code",
   "execution_count": null,
   "metadata": {
    "ExecuteTime": {
     "end_time": "2019-05-27T13:22:46.394678Z",
     "start_time": "2019-05-27T13:22:46.015642Z"
    }
   },
   "outputs": [],
   "source": [
    "f, axes = plt.subplots(1, 1, figsize=(12, 6), sharex=True)\n",
    "sns.despine(left=True)\n",
    "\n",
    "(df\n",
    " .pipe((sns.scatterplot, 'data'),x=\"m2_real\", y=\"m2_useful\", color=clr['pr'], legend=\"full\")\n",
    ")\n",
    "\n",
    "plt.plot([0,1200], [0, 1200], '-.', color='orange', linewidth = 2)\n",
    "plt.plot([80,1200], [0, 960], '-.', color='orange', linewidth = 2)\n",
    "plt.tight_layout()"
   ]
  },
  {
   "cell_type": "markdown",
   "metadata": {},
   "source": [
    "Comprobamos que, en efecto, la mayoría de viviendas tienen una relación esperada entre metros de construcción y metros útiles. No obstante, encontramos algunas viviendas con muy pocos metros útiles para los metros reales que tienen. En concreto, encontramos 2 muy alejadas. Para cotejar si son plausibles, las exploremos más a fondo:"
   ]
  },
  {
   "cell_type": "code",
   "execution_count": null,
   "metadata": {
    "ExecuteTime": {
     "end_time": "2019-05-27T13:22:46.475674Z",
     "start_time": "2019-05-27T13:22:46.395657Z"
    }
   },
   "outputs": [],
   "source": [
    "df['m2_relation'] = df['m2_real'] - df['m2_useful']\n",
    "\n",
    "(df\n",
    " .sort_values('m2_relation', ascending=False)[:2]\n",
    " .style.set_properties(subset=['ad_description'], **{'min-width': '1400px'})\n",
    ")"
   ]
  },
  {
   "cell_type": "markdown",
   "metadata": {},
   "source": [
    "Vemos que en el primer caso, se ha asigando un 0 de menos a la variable de metros útiles, y en el segundo, se han asignado los metros de la parcela a la variable de metros reales. Por lo tanto, se corrigen:"
   ]
  },
  {
   "cell_type": "code",
   "execution_count": null,
   "metadata": {
    "ExecuteTime": {
     "end_time": "2019-05-27T13:22:46.588851Z",
     "start_time": "2019-05-27T13:22:46.477849Z"
    }
   },
   "outputs": [],
   "source": [
    "df = df.drop(columns='m2_relation')\n",
    "df['m2_useful'][df.house_id == 85089573] = 740\n",
    "df['m2_real'][df.house_id == 84234935] = 130"
   ]
  },
  {
   "cell_type": "markdown",
   "metadata": {},
   "source": [
    "### <font color=#5F66A1>ground_size</font>"
   ]
  },
  {
   "cell_type": "code",
   "execution_count": null,
   "metadata": {
    "ExecuteTime": {
     "end_time": "2019-05-27T13:22:46.704185Z",
     "start_time": "2019-05-27T13:22:46.589852Z"
    },
    "pycharm": {
     "name": "#%%\n"
    }
   },
   "outputs": [],
   "source": [
    "f, axes = plt.subplots(1, 1, figsize=(12, 3), sharex=True)\n",
    "sns.despine(left=True)\n",
    "\n",
    "(df\n",
    " .loc[:,'ground_size']\n",
    " .pipe(sns.boxplot, color=clr['pr'], boxprops=dict(alpha=.7)))\n",
    "\n",
    "plt.setp(axes, yticks=[])\n",
    "plt.tight_layout()"
   ]
  },
  {
   "cell_type": "markdown",
   "metadata": {},
   "source": [
    "Se observa como hay valores muy extremos, con uno especialmente alejado del resto. Analizamos los más extremos:"
   ]
  },
  {
   "cell_type": "code",
   "execution_count": null,
   "metadata": {
    "ExecuteTime": {
     "end_time": "2019-05-27T13:22:46.741880Z",
     "start_time": "2019-05-27T13:22:46.707201Z"
    }
   },
   "outputs": [],
   "source": [
    "(df.query('ground_size > 160000')\n",
    " .style.set_properties(subset=['ad_description'], **{'min-width': '1600px'}))"
   ]
  },
  {
   "cell_type": "markdown",
   "metadata": {},
   "source": [
    "Vemos que, en principio, los valores son plausibles, por lo que no efectuamos ninguna tarea al respecto. Por otro lado, verificamos que no hay parcelas con valores negativos:"
   ]
  },
  {
   "cell_type": "code",
   "execution_count": null,
   "metadata": {
    "ExecuteTime": {
     "end_time": "2019-05-27T13:22:46.759787Z",
     "start_time": "2019-05-27T13:22:46.744875Z"
    }
   },
   "outputs": [],
   "source": [
    "cnt = len(df.query('ground_size < 0'))\n",
    "print(f\"Hay {cnt} viviendas con parcela nula o negativa\")"
   ]
  },
  {
   "cell_type": "markdown",
   "metadata": {},
   "source": [
    "### <font color=#5F66A1>price</font>"
   ]
  },
  {
   "cell_type": "code",
   "execution_count": null,
   "metadata": {
    "ExecuteTime": {
     "end_time": "2019-05-27T13:22:46.894287Z",
     "start_time": "2019-05-27T13:22:46.761783Z"
    },
    "pycharm": {
     "name": "#%%\n"
    }
   },
   "outputs": [],
   "source": [
    "f, axes = plt.subplots(1, 1, figsize=(12, 3), sharex=True)\n",
    "sns.despine(left=True)\n",
    "\n",
    "(df\n",
    " .loc[:,'price']\n",
    " .pipe(sns.boxplot, color=clr['pr'], boxprops=dict(alpha=.7)))\n",
    "\n",
    "plt.setp(axes, yticks=[])\n",
    "plt.tight_layout()"
   ]
  },
  {
   "cell_type": "markdown",
   "metadata": {},
   "source": [
    "Vemos que la vivienda más cara de nuestro conjunto de datos está por encima de los 5 millones de euros. Si bien es muy cara, es plausible que nos encontremos con alguna de tal precio. Aún así, exploramos las viviendas con precios más elevados a fin de cotejar que los datos son correctos:"
   ]
  },
  {
   "cell_type": "code",
   "execution_count": null,
   "metadata": {
    "ExecuteTime": {
     "end_time": "2019-05-27T13:22:46.933286Z",
     "start_time": "2019-05-27T13:22:46.901285Z"
    },
    "scrolled": false
   },
   "outputs": [],
   "source": [
    "(df\n",
    " .query('price > 3500000')\n",
    " .sort_values('price', ascending=False)\n",
    " .style.set_properties(subset=['ad_description'], **{'min-width': '2400px'})\n",
    ")"
   ]
  },
  {
   "cell_type": "markdown",
   "metadata": {},
   "source": [
    "Vemos que los precios parecen correctos, por lo que no realizamos ninguna acción al respecto. Por otro lado, verificamos si hay viviendas con precios excesivamente bajos:"
   ]
  },
  {
   "cell_type": "code",
   "execution_count": null,
   "metadata": {
    "ExecuteTime": {
     "end_time": "2019-05-27T13:22:46.964288Z",
     "start_time": "2019-05-27T13:22:46.936294Z"
    }
   },
   "outputs": [],
   "source": [
    "(df\n",
    " .query('price < 20000')\n",
    " .style.set_properties(subset=['ad_description'], **{'min-width': '600px'})\n",
    ")"
   ]
  },
  {
   "cell_type": "markdown",
   "metadata": {},
   "source": [
    "Vemos que las viviendas tienen bien asignado el precio, por lo que optamos por no descartarlos, entendiendo que forman parte también del conjunto de datos de casas en venta que queremos estudiar."
   ]
  },
  {
   "cell_type": "markdown",
   "metadata": {},
   "source": [
    "### <font color=#5F66A1>bath_num</font>"
   ]
  },
  {
   "cell_type": "code",
   "execution_count": null,
   "metadata": {
    "ExecuteTime": {
     "end_time": "2019-05-27T13:22:47.206308Z",
     "start_time": "2019-05-27T13:22:46.967287Z"
    },
    "pycharm": {
     "name": "#%%\n"
    }
   },
   "outputs": [],
   "source": [
    "f, ax = plt.subplots(1, 1, figsize=(12, 3), sharex=True)\n",
    "sns.despine(left=True)\n",
    "\n",
    "def print_text(nums):  \n",
    "    for num in nums:\n",
    "        cnt = len(df.query('bath_num == @num'))\n",
    "        plt.text(num-0.1, 1.008, cnt, size='medium', weight='semibold')\n",
    "\n",
    "(df\n",
    " .groupby('bath_num')\n",
    " .count()\n",
    " .reset_index()\n",
    " .pipe((sns.scatterplot, 'data'), x='bath_num', y=1, size='house_id', sizes=(40, 3000)\n",
    "       , color=clr['pr'], alpha=.7, legend=False))\n",
    "\n",
    "ax.set_xticks(range(0,18))\n",
    "print_text([0,7,8,9,10,11,12,15,17])\n",
    "\n",
    "plt.setp(ax, yticks=[])\n",
    "plt.tight_layout()"
   ]
  },
  {
   "cell_type": "markdown",
   "metadata": {},
   "source": [
    "Vemos que hay unas pocas viviendas con un número muy elevado de baños. Las exploramos:"
   ]
  },
  {
   "cell_type": "code",
   "execution_count": null,
   "metadata": {
    "ExecuteTime": {
     "end_time": "2019-05-27T13:22:47.238395Z",
     "start_time": "2019-05-27T13:22:47.208309Z"
    }
   },
   "outputs": [],
   "source": [
    "(df\n",
    " .query('bath_num > 10')\n",
    " .sort_values('bath_num', ascending=False)\n",
    " .style.set_properties(subset=['ad_description'], **{'min-width': '1600px'})\n",
    ")"
   ]
  },
  {
   "cell_type": "markdown",
   "metadata": {},
   "source": [
    "Vemos que se tratan de hoteles, por lo que optamos por descartarlos del conjunto de datos por no ajustarse a nuestro objeto de estudio:"
   ]
  },
  {
   "cell_type": "code",
   "execution_count": null,
   "metadata": {
    "ExecuteTime": {
     "end_time": "2019-05-27T13:22:47.261513Z",
     "start_time": "2019-05-27T13:22:47.240381Z"
    }
   },
   "outputs": [],
   "source": [
    "del_count = len(df[df.bath_num > 10])\n",
    "df = df[df.bath_num < 11]\n",
    "print(f\"Se han eliminado {del_count} viviendas\")"
   ]
  },
  {
   "cell_type": "markdown",
   "metadata": {},
   "source": [
    "Por último, vemos que hay bastantes viviendas sin baños. Exploramos para entender a que se debe:"
   ]
  },
  {
   "cell_type": "code",
   "execution_count": null,
   "metadata": {
    "ExecuteTime": {
     "end_time": "2019-05-27T13:22:47.296512Z",
     "start_time": "2019-05-27T13:22:47.263516Z"
    }
   },
   "outputs": [],
   "source": [
    "(df\n",
    " .query('bath_num == 0')\n",
    " .sort_values('bath_num', ascending=False)[:5]\n",
    " .style.set_properties(subset=['ad_description'], **{'min-width': '1600px'})\n",
    ")"
   ]
  },
  {
   "cell_type": "markdown",
   "metadata": {},
   "source": [
    "Vemos que el hecho de que las viviendas no dispongan de baños se debe a que se trata de viviendas que han de reformarse, lo cual tiene sentido. Por ello, verificamos que todas las viviendas sin baños sean en efecto viviendas que han de reformarse:"
   ]
  },
  {
   "cell_type": "code",
   "execution_count": null,
   "metadata": {
    "ExecuteTime": {
     "end_time": "2019-05-27T13:22:47.309513Z",
     "start_time": "2019-05-27T13:22:47.298512Z"
    }
   },
   "outputs": [],
   "source": [
    "len(df.query('bath_num == 0 & condition != \"para reformar\"'))"
   ]
  },
  {
   "cell_type": "markdown",
   "metadata": {},
   "source": [
    "### <font color=#5F66A1>room_num</font>"
   ]
  },
  {
   "cell_type": "code",
   "execution_count": null,
   "metadata": {
    "ExecuteTime": {
     "end_time": "2019-05-27T13:22:47.534196Z",
     "start_time": "2019-05-27T13:22:47.311513Z"
    }
   },
   "outputs": [],
   "source": [
    "f, ax = plt.subplots(1, 1, figsize=(12, 3), sharex=True)\n",
    "sns.despine(left=True)\n",
    "\n",
    "def print_text(nums):  \n",
    "    for num in nums:\n",
    "        cnt = len(df.query('room_num == @num'))\n",
    "        plt.text(num-0.1, 1.008, cnt, size='medium', weight='semibold')\n",
    "\n",
    "(df\n",
    " .groupby('room_num')\n",
    " .count()\n",
    " .reset_index()\n",
    " .pipe((sns.scatterplot, 'data'), x='room_num', y=1, size='house_id', sizes=(40, 3000)\n",
    "       , color=clr['pr'], alpha=.7, legend=False))\n",
    "\n",
    "ax.set_xticks(range(0,21))\n",
    "print_text([0, 10,11,12,14,20])\n",
    "\n",
    "plt.setp(ax, yticks=[])\n",
    "plt.tight_layout()"
   ]
  },
  {
   "cell_type": "markdown",
   "metadata": {},
   "source": [
    "En este caso, se observa también que hay algunas viviendas con un gran número de habitaciones. Las exploramos:"
   ]
  },
  {
   "cell_type": "code",
   "execution_count": null,
   "metadata": {
    "ExecuteTime": {
     "end_time": "2019-05-27T13:22:47.570198Z",
     "start_time": "2019-05-27T13:22:47.536198Z"
    }
   },
   "outputs": [],
   "source": [
    "(df\n",
    " .query('room_num > 12')\n",
    " .sort_values('room_num', ascending=False)\n",
    " .style.set_properties(subset=['ad_description'], **{'min-width': '1200px'})\n",
    ")"
   ]
  },
  {
   "cell_type": "markdown",
   "metadata": {},
   "source": [
    "En lo que respecta a las viviendas con 20 habitaciones, al no poder verificar si son datos correctos, se opta por eliminarlos. En el caso de las viviendas con 14 habitaciones, sin embargo, se comprueba que el numero elevado de estancias se debe a que son caserones, así que se mantienen:"
   ]
  },
  {
   "cell_type": "code",
   "execution_count": null,
   "metadata": {
    "ExecuteTime": {
     "end_time": "2019-05-27T13:22:47.586254Z",
     "start_time": "2019-05-27T13:22:47.572195Z"
    }
   },
   "outputs": [],
   "source": [
    "del_count = len(df[df.room_num > 15])\n",
    "df = df[df.room_num < 15]\n",
    "print(f\"Se han eliminado {del_count} viviendas\")"
   ]
  },
  {
   "cell_type": "markdown",
   "metadata": {},
   "source": [
    "Finalmente, de forma análoga al estudio de la variable <font color=#5F66A1>__bath_num__</font>, se verifica que las viviendas con 0 habitaciones corresponden a casas por reformar:"
   ]
  },
  {
   "cell_type": "code",
   "execution_count": null,
   "metadata": {
    "ExecuteTime": {
     "end_time": "2019-05-27T13:22:47.618763Z",
     "start_time": "2019-05-27T13:22:47.589199Z"
    }
   },
   "outputs": [],
   "source": [
    "(df\n",
    " .query('room_num == 0 & condition!=\"para reformar\"')\n",
    " .sort_values('room_num', ascending=False)[:5]\n",
    " .style.set_properties(subset=['ad_description'], **{'min-width': '1600px'})\n",
    ")"
   ]
  },
  {
   "cell_type": "markdown",
   "metadata": {},
   "source": [
    "Vemos que hay 5 viviendas sin habitaciones que no son para reformar. Sin embargo, corresponden a estudios, lo cual también tiene sentido, así que se mantienen. "
   ]
  },
  {
   "cell_type": "markdown",
   "metadata": {},
   "source": [
    "## Ruido y outliers en variables cateógricas"
   ]
  },
  {
   "cell_type": "markdown",
   "metadata": {},
   "source": [
    "### <font color=#5F66A1>floor</font>"
   ]
  },
  {
   "cell_type": "code",
   "execution_count": null,
   "metadata": {
    "ExecuteTime": {
     "end_time": "2019-05-27T13:22:47.742371Z",
     "start_time": "2019-05-27T13:22:47.620746Z"
    },
    "pycharm": {
     "name": "#%%\n"
    }
   },
   "outputs": [],
   "source": [
    "f, axes = plt.subplots(1, 1, figsize=(10, 3), sharex=True)\n",
    "sns.despine(left=True)\n",
    "\n",
    "(df\n",
    " .loc[:,'floor']\n",
    " .dropna()\n",
    " .pipe(sns.countplot, color=clr['pr'], alpha=0.7\n",
    "       , order=['<0ª','1ª','2ª','3ª','4ª','5ª','6ª','7ª','>8ª']))\n",
    "\n",
    "plt.setp(axes, yticks=[])\n",
    "plt.tight_layout()"
   ]
  },
  {
   "cell_type": "markdown",
   "metadata": {},
   "source": [
    "Vemos que la distribución de las plantas de las viviendas se ajusta a valores plausibles, por lo que las dejamos tal cual."
   ]
  },
  {
   "cell_type": "markdown",
   "metadata": {},
   "source": [
    "# Gestión de datos incompletos"
   ]
  },
  {
   "cell_type": "markdown",
   "metadata": {},
   "source": [
    "En este apartado gestionaremos los valores vacíos que aún presenta el conjunto de datos."
   ]
  },
  {
   "cell_type": "markdown",
   "metadata": {},
   "source": [
    "## Estudio general de *missing values*"
   ]
  },
  {
   "cell_type": "markdown",
   "metadata": {},
   "source": [
    "Empezamos analizando cómo estan repartidos nuestros *missing values*:"
   ]
  },
  {
   "cell_type": "code",
   "execution_count": null,
   "metadata": {
    "ExecuteTime": {
     "end_time": "2019-05-27T13:22:47.895893Z",
     "start_time": "2019-05-27T13:22:47.745372Z"
    },
    "pycharm": {
     "name": "#%%\n"
    }
   },
   "outputs": [],
   "source": [
    "n_records = len(df)\n",
    "def null_value(df):\n",
    "    for column in df:\n",
    "        if len(df[df[column].isnull()]) / (1.0*n_records) > 0.01:\n",
    "            print(\"Column:{} ## Per: {}% ## Type: {}\".format(\n",
    "                                    df[column].name, \n",
    "                                    round((len(df[df[column].isnull()]) / (n_records)) * 100, 2), \n",
    "                                    df[column].dtype\n",
    "        ))\n",
    "\n",
    "null_value(df)"
   ]
  },
  {
   "cell_type": "markdown",
   "metadata": {},
   "source": [
    "Vemos que hay muchas variables con *missing values*, algunas incluso con más del 50% de sus valores. Trataremos todas, excepto la descripción de los anuncios, ya que solo la usaremos como ayuda en la fase exploratoria."
   ]
  },
  {
   "cell_type": "markdown",
   "metadata": {},
   "source": [
    "### condition"
   ]
  },
  {
   "cell_type": "code",
   "execution_count": null,
   "metadata": {
    "ExecuteTime": {
     "end_time": "2019-05-27T13:22:47.902894Z",
     "start_time": "2019-05-27T13:22:47.896891Z"
    }
   },
   "outputs": [],
   "source": [
    "df[\"condition\"].unique()"
   ]
  },
  {
   "cell_type": "code",
   "execution_count": null,
   "metadata": {
    "ExecuteTime": {
     "end_time": "2019-05-27T13:22:47.941892Z",
     "start_time": "2019-05-27T13:22:47.904893Z"
    }
   },
   "outputs": [],
   "source": [
    "df[df['condition'].isnull()].head(5)"
   ]
  },
  {
   "cell_type": "markdown",
   "metadata": {},
   "source": [
    "Haciendo una pequeña exploracion sobre los datos que contienen el condition a null podemos ver que son ventas correctas asi que asumimos que se han olvidado o no lo quieren especificar. Podemos optar por usar la moda de la variable o asignar una nueva condicion: \"no especificado\""
   ]
  },
  {
   "cell_type": "code",
   "execution_count": null,
   "metadata": {
    "ExecuteTime": {
     "end_time": "2019-05-27T13:22:47.946903Z",
     "start_time": "2019-05-27T13:22:47.943898Z"
    }
   },
   "outputs": [],
   "source": [
    "import scipy.stats as stats"
   ]
  },
  {
   "cell_type": "code",
   "execution_count": null,
   "metadata": {
    "ExecuteTime": {
     "end_time": "2019-05-27T13:22:47.956894Z",
     "start_time": "2019-05-27T13:22:47.948893Z"
    }
   },
   "outputs": [],
   "source": [
    "df['condition'].mode()"
   ]
  },
  {
   "cell_type": "markdown",
   "metadata": {},
   "source": [
    "Vamos a asumir que la gente cuendo vende sus casas estan en buen estado y vamos a asignar la moda a los valores inexistentes"
   ]
  },
  {
   "cell_type": "code",
   "execution_count": null,
   "metadata": {
    "ExecuteTime": {
     "end_time": "2019-05-27T13:22:48.025936Z",
     "start_time": "2019-05-27T13:22:47.958893Z"
    }
   },
   "outputs": [],
   "source": [
    "mask = df['condition'].isnull()\n",
    "df.loc[mask, 'condition'] = 'buen estado'"
   ]
  },
  {
   "cell_type": "code",
   "execution_count": null,
   "metadata": {
    "ExecuteTime": {
     "end_time": "2019-05-27T13:22:48.032908Z",
     "start_time": "2019-05-27T13:22:48.026893Z"
    }
   },
   "outputs": [],
   "source": [
    "df[df['condition'].isnull()].shape"
   ]
  },
  {
   "cell_type": "markdown",
   "metadata": {},
   "source": [
    "### construct_date "
   ]
  },
  {
   "cell_type": "markdown",
   "metadata": {
    "ExecuteTime": {
     "end_time": "2019-05-22T14:56:02.037617Z",
     "start_time": "2019-05-22T14:56:01.972629Z"
    }
   },
   "source": [
    "La variable <font color=#5F66A1>__construct_date__</font>, debido a que casi un 70% de las viviendas no incluye esta información, se descartarla:"
   ]
  },
  {
   "cell_type": "code",
   "execution_count": null,
   "metadata": {
    "ExecuteTime": {
     "end_time": "2019-05-27T13:22:48.044897Z",
     "start_time": "2019-05-27T13:22:48.034897Z"
    }
   },
   "outputs": [],
   "source": [
    "df = df.drop(columns='construct_date')"
   ]
  },
  {
   "cell_type": "markdown",
   "metadata": {},
   "source": [
    "### energetic_certif"
   ]
  },
  {
   "cell_type": "code",
   "execution_count": null,
   "metadata": {
    "ExecuteTime": {
     "end_time": "2019-05-27T13:22:48.052893Z",
     "start_time": "2019-05-27T13:22:48.046894Z"
    }
   },
   "outputs": [],
   "source": [
    "df[\"energetic_certif\"].unique()"
   ]
  },
  {
   "cell_type": "markdown",
   "metadata": {},
   "source": [
    "Estamos de nuevo ante otra variable categorica"
   ]
  },
  {
   "cell_type": "code",
   "execution_count": null,
   "metadata": {
    "ExecuteTime": {
     "end_time": "2019-05-27T13:22:48.084896Z",
     "start_time": "2019-05-27T13:22:48.053894Z"
    }
   },
   "outputs": [],
   "source": [
    "df[df['energetic_certif'].isnull()].head(5)"
   ]
  },
  {
   "cell_type": "code",
   "execution_count": null,
   "metadata": {
    "ExecuteTime": {
     "end_time": "2019-05-27T13:22:48.093894Z",
     "start_time": "2019-05-27T13:22:48.085895Z"
    }
   },
   "outputs": [],
   "source": [
    "df['energetic_certif'].mode()"
   ]
  },
  {
   "cell_type": "markdown",
   "metadata": {},
   "source": [
    "Asignamos en tramite a los Nan ya que es lo mas comun en las ventas"
   ]
  },
  {
   "cell_type": "code",
   "execution_count": null,
   "metadata": {
    "ExecuteTime": {
     "end_time": "2019-05-27T13:22:48.103894Z",
     "start_time": "2019-05-27T13:22:48.095894Z"
    }
   },
   "outputs": [],
   "source": [
    "mask = df['energetic_certif'].isnull()\n",
    "df.loc[mask, 'energetic_certif'] = 'en trámite'"
   ]
  },
  {
   "cell_type": "code",
   "execution_count": null,
   "metadata": {
    "ExecuteTime": {
     "end_time": "2019-05-27T13:22:48.110898Z",
     "start_time": "2019-05-27T13:22:48.104895Z"
    }
   },
   "outputs": [],
   "source": [
    "df[df['energetic_certif'].isnull()].shape"
   ]
  },
  {
   "cell_type": "markdown",
   "metadata": {},
   "source": [
    "### floor"
   ]
  },
  {
   "cell_type": "code",
   "execution_count": null,
   "metadata": {
    "ExecuteTime": {
     "end_time": "2019-05-27T13:22:48.119895Z",
     "start_time": "2019-05-27T13:22:48.112898Z"
    }
   },
   "outputs": [],
   "source": [
    "df[\"floor\"].unique()"
   ]
  },
  {
   "cell_type": "markdown",
   "metadata": {},
   "source": [
    "Entendemos que si no se esta especificando la planta es por que es una casa. Vamos a comprobarlo:"
   ]
  },
  {
   "cell_type": "code",
   "execution_count": null,
   "metadata": {
    "ExecuteTime": {
     "end_time": "2019-05-27T13:22:48.131893Z",
     "start_time": "2019-05-27T13:22:48.120897Z"
    }
   },
   "outputs": [],
   "source": [
    "df[df['floor'].isnull()][\"house_type\"].unique()"
   ]
  },
  {
   "cell_type": "markdown",
   "metadata": {},
   "source": [
    "Tenemos varios casos:\n",
    "- Casas (finda, casa, chalet)\n",
    "- Pisos sin especificar\n",
    "- Otros\n",
    "- Duplex\n",
    "- Atico\n",
    "- Estudio"
   ]
  },
  {
   "cell_type": "markdown",
   "metadata": {},
   "source": [
    "Para casas se define un nuevo caso: Casa.\n",
    "\n",
    "Para el resto se le pone: No indicado."
   ]
  },
  {
   "cell_type": "code",
   "execution_count": null,
   "metadata": {
    "ExecuteTime": {
     "end_time": "2019-05-27T13:22:48.142895Z",
     "start_time": "2019-05-27T13:22:48.132893Z"
    }
   },
   "outputs": [],
   "source": [
    "casa = (df['floor'].isnull()) & (df['house_type'].isin(['Casa o chalet', 'Casa rural', 'Chalet adosado', 'Finca rústica']))\n",
    "df.loc[casa, 'floor'] = 'Casa'"
   ]
  },
  {
   "cell_type": "code",
   "execution_count": null,
   "metadata": {
    "ExecuteTime": {
     "end_time": "2019-05-27T13:22:48.155909Z",
     "start_time": "2019-05-27T13:22:48.144897Z"
    }
   },
   "outputs": [],
   "source": [
    "no_espe = (df['floor'].isnull()) & (df['house_type'].isin(['Piso', 'Otros', 'Dúplex', 'Ático', 'Estudio']))\n",
    "df.loc[no_espe, 'floor'] = ' No indicado'"
   ]
  },
  {
   "cell_type": "code",
   "execution_count": null,
   "metadata": {
    "ExecuteTime": {
     "end_time": "2019-05-27T13:22:48.167899Z",
     "start_time": "2019-05-27T13:22:48.157896Z"
    }
   },
   "outputs": [],
   "source": [
    "df[df['floor'].isnull()].shape"
   ]
  },
  {
   "cell_type": "markdown",
   "metadata": {},
   "source": [
    "### ground_size"
   ]
  },
  {
   "cell_type": "markdown",
   "metadata": {},
   "source": [
    "En el caso de <font color=#5F66A1>__ground_size__</font>, la ausencia de valores se asume que corresponde, en una amplia mayoría, a que la vivienda no tenga parcela. Por lo tanto, se opta por asignar a todos los valores faltantes un 0: "
   ]
  },
  {
   "cell_type": "code",
   "execution_count": null,
   "metadata": {
    "ExecuteTime": {
     "end_time": "2019-05-27T13:22:48.173898Z",
     "start_time": "2019-05-27T13:22:48.168895Z"
    }
   },
   "outputs": [],
   "source": [
    "df['ground_size'] = (np.where(df['ground_size'].isna()\n",
    "                        ,0\n",
    "                        ,df['ground_size']))"
   ]
  },
  {
   "cell_type": "markdown",
   "metadata": {},
   "source": [
    "### m2_useful"
   ]
  },
  {
   "cell_type": "markdown",
   "metadata": {},
   "source": [
    "Regresion lineal!"
   ]
  },
  {
   "cell_type": "code",
   "execution_count": null,
   "metadata": {
    "ExecuteTime": {
     "end_time": "2019-05-27T13:22:48.185909Z",
     "start_time": "2019-05-27T13:22:48.175896Z"
    }
   },
   "outputs": [],
   "source": [
    "df['m2_useful'].interpolate(method='linear', inplace=True, limit_direction=\"both\")"
   ]
  },
  {
   "cell_type": "code",
   "execution_count": null,
   "metadata": {
    "ExecuteTime": {
     "end_time": "2019-05-27T13:22:48.202895Z",
     "start_time": "2019-05-27T13:22:48.186894Z"
    }
   },
   "outputs": [],
   "source": [
    "df[df['m2_useful'].isnull()]"
   ]
  },
  {
   "cell_type": "markdown",
   "metadata": {},
   "source": [
    "### indoor"
   ]
  },
  {
   "cell_type": "code",
   "execution_count": null,
   "metadata": {
    "ExecuteTime": {
     "end_time": "2019-05-27T13:24:49.603831Z",
     "start_time": "2019-05-27T13:24:49.596814Z"
    }
   },
   "outputs": [],
   "source": [
    "df['indoor'].unique()"
   ]
  },
  {
   "cell_type": "code",
   "execution_count": null,
   "metadata": {
    "ExecuteTime": {
     "end_time": "2019-05-27T13:27:34.924162Z",
     "start_time": "2019-05-27T13:27:34.821167Z"
    },
    "scrolled": false
   },
   "outputs": [],
   "source": [
    "df[df['indoor'].isnull()]"
   ]
  },
  {
   "cell_type": "code",
   "execution_count": null,
   "metadata": {},
   "outputs": [],
   "source": []
  },
  {
   "cell_type": "code",
   "execution_count": null,
   "metadata": {},
   "outputs": [],
   "source": []
  },
  {
   "cell_type": "markdown",
   "metadata": {},
   "source": [
    "### floor_count"
   ]
  },
  {
   "cell_type": "code",
   "execution_count": null,
   "metadata": {
    "ExecuteTime": {
     "end_time": "2019-05-27T13:22:48.210899Z",
     "start_time": "2019-05-27T13:22:48.203897Z"
    }
   },
   "outputs": [],
   "source": [
    "df['floor_count'].unique()"
   ]
  },
  {
   "cell_type": "markdown",
   "metadata": {},
   "source": [
    "Al igual que con floor, vamos a comprar de que tipo de vivienda estamos hablando para modificar los valores Nan."
   ]
  },
  {
   "cell_type": "code",
   "execution_count": null,
   "metadata": {
    "ExecuteTime": {
     "end_time": "2019-05-27T13:22:48.219896Z",
     "start_time": "2019-05-27T13:22:48.211897Z"
    }
   },
   "outputs": [],
   "source": [
    "df[df['floor_count'].isnull()][\"house_type\"].unique()"
   ]
  },
  {
   "cell_type": "markdown",
   "metadata": {},
   "source": [
    "Bastante parecido a la otra variable nombrada. Estamos con:\n",
    "- Casas (Casa rual, casa o chalet, finca rustica, chalet adosado)\n",
    "- Piso\n",
    "- Duplex\n",
    "- Estudio"
   ]
  },
  {
   "cell_type": "markdown",
   "metadata": {
    "ExecuteTime": {
     "end_time": "2019-05-27T13:18:00.583181Z",
     "start_time": "2019-05-27T13:18:00.576172Z"
    }
   },
   "source": [
    "Si aplicamos como deberia ser un alojamiento en funcion de su definicion la cosa quedaria asi:\n",
    "- Para las casas: pueden ser de muchas plantas y es por este motivo que se decide poner: 0\n",
    "- Para los pisos: 1 planta\n",
    "- Para los dubplex: 2 plantas\n",
    "- Estudio: 1 planta"
   ]
  },
  {
   "cell_type": "code",
   "execution_count": null,
   "metadata": {
    "ExecuteTime": {
     "end_time": "2019-05-27T13:22:48.229896Z",
     "start_time": "2019-05-27T13:22:48.221898Z"
    }
   },
   "outputs": [],
   "source": [
    "casa = (df['floor_count'].isnull()) & (df['house_type'].isin(['Casa rural', 'Casa o chalet', 'Finca rústica', 'Chalet adosado']))\n",
    "df.loc[casa, 'floor_count'] = 0"
   ]
  },
  {
   "cell_type": "code",
   "execution_count": null,
   "metadata": {
    "ExecuteTime": {
     "end_time": "2019-05-27T13:22:48.241894Z",
     "start_time": "2019-05-27T13:22:48.231897Z"
    }
   },
   "outputs": [],
   "source": [
    "una_planta = (df['floor_count'].isnull()) & (df['house_type'].isin(['Piso', 'Estudio']))\n",
    "df.loc[una_planta, 'floor_count'] = 1"
   ]
  },
  {
   "cell_type": "code",
   "execution_count": null,
   "metadata": {
    "ExecuteTime": {
     "end_time": "2019-05-27T13:22:48.250896Z",
     "start_time": "2019-05-27T13:22:48.243899Z"
    }
   },
   "outputs": [],
   "source": [
    "dos_plantas = (df['floor_count'].isnull()) & (df['house_type'].isin(['Dúplex']))\n",
    "df.loc[dos_plantas, 'floor_count'] = 2"
   ]
  },
  {
   "cell_type": "code",
   "execution_count": null,
   "metadata": {
    "ExecuteTime": {
     "end_time": "2019-05-27T13:22:48.259916Z",
     "start_time": "2019-05-27T13:22:48.252897Z"
    }
   },
   "outputs": [],
   "source": [
    "df[df['floor_count'].isnull()].shape"
   ]
  },
  {
   "cell_type": "markdown",
   "metadata": {},
   "source": [
    "### lift"
   ]
  },
  {
   "cell_type": "markdown",
   "metadata": {},
   "source": [
    "Hay ciertas variables en las que la ausencia de valor corresponde a un valor concreto. En el caso de <font color=#5F66A1>__lift__</font>, por ejemplo, los NAs corresponden a viviendas sin ascensor, por lo que realizamos la imputación de forma directa:"
   ]
  },
  {
   "cell_type": "code",
   "execution_count": null,
   "metadata": {
    "ExecuteTime": {
     "end_time": "2019-05-27T13:22:48.265910Z",
     "start_time": "2019-05-27T13:22:48.261901Z"
    }
   },
   "outputs": [],
   "source": [
    "df['lift'] = (np.where(df['lift'].isna()\n",
    "                        ,0\n",
    "                        ,df['lift'])).astype('bool')"
   ]
  },
  {
   "cell_type": "markdown",
   "metadata": {},
   "source": [
    "### garage"
   ]
  },
  {
   "cell_type": "markdown",
   "metadata": {},
   "source": [
    "En el caso de <font color=#5F66A1>__garage__</font>, la ausencia de valores corresponde con viviendas sin garaje. No obstante, la variable muestra el precio del garaje, y los valores nulos significan que el garaje se ofrece sin coste añadido. Por lo tanto, no podemos imputar con ceros la ausencia de garajes, ya que daríamos a entender justo lo contrario de lo que significa. Por ello, se opta por categorizar la variable afín de poder representar cada caso de forma adecuada:"
   ]
  },
  {
   "cell_type": "code",
   "execution_count": null,
   "metadata": {
    "ExecuteTime": {
     "end_time": "2019-05-27T13:22:48.283938Z",
     "start_time": "2019-05-27T13:22:48.267916Z"
    }
   },
   "outputs": [],
   "source": [
    "df['garage'] = (np.where(df['garage']<1000\n",
    "                    ,'incluido en precio'\n",
    "                    ,np.where(df['garage']>=1000\n",
    "                        ,'pagando'\n",
    "                        ,'sin garaje')))\n",
    "\n",
    "df['garage'] = df['garage'].astype('category')"
   ]
  },
  {
   "cell_type": "markdown",
   "metadata": {},
   "source": [
    "....... ACABAR imputación avanzada de:  indoor  / floor_count  /  condition  /  floor\n",
    "\n",
    "... descartar: energetic_certif /  orientation  /  heating"
   ]
  },
  {
   "cell_type": "markdown",
   "metadata": {},
   "source": [
    "# Estudio de duplicidades"
   ]
  },
  {
   "cell_type": "markdown",
   "metadata": {},
   "source": [
    "Finalmente, hacemos un breve estudio sobre las duplicidades de las variables:"
   ]
  },
  {
   "cell_type": "code",
   "execution_count": null,
   "metadata": {
    "ExecuteTime": {
     "end_time": "2019-05-27T13:22:48.352919Z",
     "start_time": "2019-05-27T13:22:48.284896Z"
    }
   },
   "outputs": [],
   "source": [
    "n_records = len(df)\n",
    "def duplicados_por_columna(df):\n",
    "    for column in df:\n",
    "        count_value = df[column].value_counts()\n",
    "        common = count_value.iloc[0]\n",
    "        rare = count_value.iloc[-1]\n",
    "        if ((common / (1.0 * n_records)) > 0.7):\n",
    "            print(\"Column:{} ## Common: {}% <> Rare: {}% ## Type: {}\".format( df[column].name, \n",
    "                                       round(common / (n_records) * 100, 2), \n",
    "                                       round(rare / (n_records) * 100, 2),\n",
    "                                       df[column].dtype\n",
    "        ))\n",
    "            \n",
    "duplicados_por_columna(df)"
   ]
  },
  {
   "cell_type": "markdown",
   "metadata": {},
   "source": [
    "Como se puede ver en el resultado, tenemos 12 columnas con mas del 70% de valores repetidos. Basicamente lo que vemos es que esas variables no están balanceadas y en el caso de usarlas se tendrá que tener en cuenta. "
   ]
  }
 ],
 "metadata": {
  "hide_input": false,
  "kernelspec": {
   "display_name": "Python 3",
   "language": "python",
   "name": "python3"
  },
  "language_info": {
   "codemirror_mode": {
    "name": "ipython",
    "version": 3
   },
   "file_extension": ".py",
   "mimetype": "text/x-python",
   "name": "python",
   "nbconvert_exporter": "python",
   "pygments_lexer": "ipython3",
   "version": "3.7.3"
  },
  "latex_envs": {
   "LaTeX_envs_menu_present": true,
   "autoclose": false,
   "autocomplete": true,
   "bibliofile": "biblio.bib",
   "cite_by": "apalike",
   "current_citInitial": 1,
   "eqLabelWithNumbers": true,
   "eqNumInitial": 1,
   "hotkeys": {
    "equation": "Ctrl-E",
    "itemize": "Ctrl-I"
   },
   "labels_anchors": false,
   "latex_user_defs": false,
   "report_style_numbering": false,
   "user_envs_cfg": false
  },
  "nbTranslate": {
   "displayLangs": [
    "*"
   ],
   "hotkey": "alt-t",
   "langInMainMenu": true,
   "sourceLang": "en",
   "targetLang": "fr",
   "useGoogleTranslate": true
  },
  "pycharm": {
   "stem_cell": {
    "cell_type": "raw",
    "metadata": {
     "collapsed": false
    },
    "source": []
   }
  },
  "toc": {
   "base_numbering": 1,
   "nav_menu": {},
   "number_sections": true,
   "sideBar": true,
   "skip_h1_title": false,
   "title_cell": "Table of Contents",
   "title_sidebar": "Contents",
   "toc_cell": false,
   "toc_position": {
    "height": "calc(100% - 180px)",
    "left": "10px",
    "top": "150px",
    "width": "295.8559875488281px"
   },
   "toc_section_display": true,
   "toc_window_display": true
  }
 },
 "nbformat": 4,
 "nbformat_minor": 1
}
