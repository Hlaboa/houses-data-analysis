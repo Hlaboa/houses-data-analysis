{
 "cells": [
  {
   "cell_type": "code",
   "execution_count": 58,
   "metadata": {
    "ExecuteTime": {
     "end_time": "2019-05-30T13:12:07.959722Z",
     "start_time": "2019-05-30T13:12:07.953717Z"
    }
   },
   "outputs": [],
   "source": [
    "%matplotlib inline\n",
    "import matplotlib.pyplot as plt\n",
    "\n",
    "import pandas as pd\n",
    "import numpy as np\n",
    "from sklearn import datasets\n",
    "import pickle\n",
    "from sklearn.linear_model import LogisticRegression\n",
    "from sklearn.model_selection import train_test_split\n"
   ]
  },
  {
   "cell_type": "code",
   "execution_count": 59,
   "metadata": {
    "ExecuteTime": {
     "end_time": "2019-05-30T13:12:08.521862Z",
     "start_time": "2019-05-30T13:12:08.453879Z"
    }
   },
   "outputs": [
    {
     "name": "stdout",
     "output_type": "stream",
     "text": [
      "<class 'pandas.core.frame.DataFrame'>\n",
      "Int64Index: 20813 entries, 0 to 24772\n",
      "Data columns (total 32 columns):\n",
      "house_id             20813 non-null int64\n",
      "ad_description       20109 non-null object\n",
      "price                20813 non-null int64\n",
      "bath_num             20813 non-null int64\n",
      "condition            20813 non-null category\n",
      "floor                20813 non-null int64\n",
      "house_type           20813 non-null object\n",
      "m2_real              20813 non-null int64\n",
      "room_num             20813 non-null int64\n",
      "air_conditioner      20813 non-null bool\n",
      "balcony              20813 non-null bool\n",
      "built_in_wardrobe    20813 non-null bool\n",
      "chimney              20813 non-null bool\n",
      "garage               20813 non-null category\n",
      "garden               20813 non-null bool\n",
      "lift                 20813 non-null bool\n",
      "reduced_mobility     20813 non-null bool\n",
      "storage_room         20813 non-null bool\n",
      "swimming_pool        20813 non-null bool\n",
      "terrace              20813 non-null bool\n",
      "loc_zone             20813 non-null category\n",
      "loc_city             20813 non-null category\n",
      "pop_total            20813 non-null int64\n",
      "pop_0-19             20813 non-null int64\n",
      "pop_20-64            20813 non-null int64\n",
      "pop_>=65             20813 non-null int64\n",
      "pop_foreign          20813 non-null float64\n",
      "rent                 20813 non-null int64\n",
      "indoor               20813 non-null category\n",
      "floor_count          20813 non-null int64\n",
      "location             20813 non-null object\n",
      "ground               20813 non-null bool\n",
      "dtypes: bool(11), category(5), float64(1), int64(12), object(3)\n",
      "memory usage: 3.0+ MB\n"
     ]
    }
   ],
   "source": [
    "df = pickle.load(open('./processed_data/houses_cleaned.p',\"rb\"))\n",
    "columnas = ['house_type', 'bath_num', 'floor', 'm2_real', 'room_num', \n",
    "            'built_in_wardrobe', 'lift',\n",
    "            'storage_room', 'terrace',\n",
    "            'pop_total', 'pop_foreign', 'rent',\n",
    "            \"location\"]\n",
    "df.info()"
   ]
  },
  {
   "cell_type": "code",
   "execution_count": 60,
   "metadata": {
    "ExecuteTime": {
     "end_time": "2019-05-30T13:12:08.528881Z",
     "start_time": "2019-05-30T13:12:08.523863Z"
    }
   },
   "outputs": [],
   "source": [
    "valor_hipoteca = 230000\n",
    "df[\"max_hipoteca\"] = np.where(df[\"price\"] < valor_hipoteca, 1, 0)"
   ]
  },
  {
   "cell_type": "code",
   "execution_count": 61,
   "metadata": {
    "ExecuteTime": {
     "end_time": "2019-05-30T13:12:08.569974Z",
     "start_time": "2019-05-30T13:12:08.559420Z"
    }
   },
   "outputs": [
    {
     "data": {
      "text/plain": [
       "0    0.85682\n",
       "1    0.14318\n",
       "Name: max_hipoteca, dtype: float64"
      ]
     },
     "execution_count": 61,
     "metadata": {},
     "output_type": "execute_result"
    }
   ],
   "source": [
    "df.max_hipoteca.value_counts(True)"
   ]
  },
  {
   "cell_type": "code",
   "execution_count": 62,
   "metadata": {
    "ExecuteTime": {
     "end_time": "2019-05-30T13:12:08.639964Z",
     "start_time": "2019-05-30T13:12:08.629972Z"
    }
   },
   "outputs": [],
   "source": [
    "X = df[[\"bath_num\", \"floor\", \"ground\"]]\n",
    "y = df[\"max_hipoteca\"]\n",
    "X_train, X_test, y_train, y_test = train_test_split(X,y,test_size=0.33)"
   ]
  },
  {
   "cell_type": "code",
   "execution_count": 63,
   "metadata": {
    "ExecuteTime": {
     "end_time": "2019-05-30T13:12:08.711966Z",
     "start_time": "2019-05-30T13:12:08.686984Z"
    },
    "scrolled": true
   },
   "outputs": [
    {
     "name": "stderr",
     "output_type": "stream",
     "text": [
      "C:\\Users\\mrullan\\AppData\\Local\\Continuum\\anaconda3\\lib\\site-packages\\sklearn\\linear_model\\logistic.py:433: FutureWarning: Default solver will be changed to 'lbfgs' in 0.22. Specify a solver to silence this warning.\n",
      "  FutureWarning)\n"
     ]
    },
    {
     "data": {
      "text/plain": [
       "array([0, 0, 0, 0, 0, 0, 0, 0, 0, 0])"
      ]
     },
     "execution_count": 63,
     "metadata": {},
     "output_type": "execute_result"
    }
   ],
   "source": [
    "clf = LogisticRegression()\n",
    "clf.fit(X_train, y_train)\n",
    "predicciones = clf.predict(X_test)\n",
    "\n",
    "predicciones[:10]"
   ]
  },
  {
   "cell_type": "code",
   "execution_count": 64,
   "metadata": {
    "ExecuteTime": {
     "end_time": "2019-05-30T13:12:08.763968Z",
     "start_time": "2019-05-30T13:12:08.754965Z"
    }
   },
   "outputs": [
    {
     "data": {
      "text/plain": [
       "array([[0.99841562, 0.00158438],\n",
       "       [0.96869342, 0.03130658],\n",
       "       [0.74146974, 0.25853026],\n",
       "       [0.92868734, 0.07131266],\n",
       "       [0.67610811, 0.32389189],\n",
       "       [0.76124447, 0.23875553],\n",
       "       [0.72065819, 0.27934181],\n",
       "       [0.9770181 , 0.0229819 ],\n",
       "       [0.9717502 , 0.0282498 ],\n",
       "       [0.74146974, 0.25853026]])"
      ]
     },
     "execution_count": 64,
     "metadata": {},
     "output_type": "execute_result"
    }
   ],
   "source": [
    "predicciones_probabilidades = clf.predict_proba(X_test)\n",
    "predicciones_probabilidades[:10]"
   ]
  },
  {
   "cell_type": "code",
   "execution_count": 65,
   "metadata": {
    "ExecuteTime": {
     "end_time": "2019-05-30T13:12:09.008970Z",
     "start_time": "2019-05-30T13:12:08.795967Z"
    },
    "scrolled": false
   },
   "outputs": [
    {
     "data": {
      "text/plain": [
       "([array([   0.,   19.,    0.,    0.,   22.,    0., 1008., 2159.,  154.,\n",
       "         3507.]),\n",
       "  array([3507.,  154., 2159., 1008.,    0.,   22.,    0.,    0.,   19.,\n",
       "            0.])],\n",
       " array([3.29473383e-11, 1.00000000e-01, 2.00000000e-01, 3.00000000e-01,\n",
       "        4.00000000e-01, 5.00000000e-01, 6.00000000e-01, 7.00000000e-01,\n",
       "        8.00000000e-01, 9.00000000e-01, 1.00000000e+00]),\n",
       " <a list of 2 Lists of Patches objects>)"
      ]
     },
     "execution_count": 65,
     "metadata": {},
     "output_type": "execute_result"
    },
    {
     "data": {
      "image/png": "[encoded data removed]",
      "text/plain": [
       "<Figure size 432x288 with 1 Axes>"
      ]
     },
     "metadata": {
      "needs_background": "light"
     },
     "output_type": "display_data"
    }
   ],
   "source": [
    "plt.hist(predicciones_probabilidades)"
   ]
  },
  {
   "cell_type": "code",
   "execution_count": 66,
   "metadata": {
    "ExecuteTime": {
     "end_time": "2019-05-30T13:12:09.015537Z",
     "start_time": "2019-05-30T13:12:09.010539Z"
    }
   },
   "outputs": [],
   "source": [
    "probs_df = pd.DataFrame(predicciones_probabilidades)"
   ]
  },
  {
   "cell_type": "code",
   "execution_count": 67,
   "metadata": {
    "ExecuteTime": {
     "end_time": "2019-05-30T13:12:09.036536Z",
     "start_time": "2019-05-30T13:12:09.017530Z"
    },
    "scrolled": false
   },
   "outputs": [
    {
     "data": {
      "text/html": [
       "<div>\n",
       "<style scoped>\n",
       "    .dataframe tbody tr th:only-of-type {\n",
       "        vertical-align: middle;\n",
       "    }\n",
       "\n",
       "    .dataframe tbody tr th {\n",
       "        vertical-align: top;\n",
       "    }\n",
       "\n",
       "    .dataframe thead th {\n",
       "        text-align: right;\n",
       "    }\n",
       "</style>\n",
       "<table border=\"1\" class=\"dataframe\">\n",
       "  <thead>\n",
       "    <tr style=\"text-align: right;\">\n",
       "      <th></th>\n",
       "      <th>max_hipoteca</th>\n",
       "      <th>prediccion</th>\n",
       "      <th>0</th>\n",
       "      <th>1</th>\n",
       "    </tr>\n",
       "  </thead>\n",
       "  <tbody>\n",
       "    <tr>\n",
       "      <th>0</th>\n",
       "      <td>0</td>\n",
       "      <td>0</td>\n",
       "      <td>0.998416</td>\n",
       "      <td>0.001584</td>\n",
       "    </tr>\n",
       "    <tr>\n",
       "      <th>1</th>\n",
       "      <td>0</td>\n",
       "      <td>0</td>\n",
       "      <td>0.968693</td>\n",
       "      <td>0.031307</td>\n",
       "    </tr>\n",
       "    <tr>\n",
       "      <th>2</th>\n",
       "      <td>0</td>\n",
       "      <td>0</td>\n",
       "      <td>0.741470</td>\n",
       "      <td>0.258530</td>\n",
       "    </tr>\n",
       "    <tr>\n",
       "      <th>3</th>\n",
       "      <td>1</td>\n",
       "      <td>0</td>\n",
       "      <td>0.928687</td>\n",
       "      <td>0.071313</td>\n",
       "    </tr>\n",
       "    <tr>\n",
       "      <th>4</th>\n",
       "      <td>0</td>\n",
       "      <td>0</td>\n",
       "      <td>0.676108</td>\n",
       "      <td>0.323892</td>\n",
       "    </tr>\n",
       "    <tr>\n",
       "      <th>5</th>\n",
       "      <td>0</td>\n",
       "      <td>0</td>\n",
       "      <td>0.761244</td>\n",
       "      <td>0.238756</td>\n",
       "    </tr>\n",
       "    <tr>\n",
       "      <th>6</th>\n",
       "      <td>1</td>\n",
       "      <td>0</td>\n",
       "      <td>0.720658</td>\n",
       "      <td>0.279342</td>\n",
       "    </tr>\n",
       "    <tr>\n",
       "      <th>7</th>\n",
       "      <td>0</td>\n",
       "      <td>0</td>\n",
       "      <td>0.977018</td>\n",
       "      <td>0.022982</td>\n",
       "    </tr>\n",
       "    <tr>\n",
       "      <th>8</th>\n",
       "      <td>0</td>\n",
       "      <td>0</td>\n",
       "      <td>0.971750</td>\n",
       "      <td>0.028250</td>\n",
       "    </tr>\n",
       "    <tr>\n",
       "      <th>9</th>\n",
       "      <td>0</td>\n",
       "      <td>0</td>\n",
       "      <td>0.741470</td>\n",
       "      <td>0.258530</td>\n",
       "    </tr>\n",
       "    <tr>\n",
       "      <th>10</th>\n",
       "      <td>0</td>\n",
       "      <td>0</td>\n",
       "      <td>0.741470</td>\n",
       "      <td>0.258530</td>\n",
       "    </tr>\n",
       "    <tr>\n",
       "      <th>11</th>\n",
       "      <td>0</td>\n",
       "      <td>0</td>\n",
       "      <td>0.968693</td>\n",
       "      <td>0.031307</td>\n",
       "    </tr>\n",
       "    <tr>\n",
       "      <th>12</th>\n",
       "      <td>0</td>\n",
       "      <td>0</td>\n",
       "      <td>0.974516</td>\n",
       "      <td>0.025484</td>\n",
       "    </tr>\n",
       "    <tr>\n",
       "      <th>13</th>\n",
       "      <td>0</td>\n",
       "      <td>0</td>\n",
       "      <td>0.997824</td>\n",
       "      <td>0.002176</td>\n",
       "    </tr>\n",
       "    <tr>\n",
       "      <th>14</th>\n",
       "      <td>0</td>\n",
       "      <td>0</td>\n",
       "      <td>0.999853</td>\n",
       "      <td>0.000147</td>\n",
       "    </tr>\n",
       "    <tr>\n",
       "      <th>15</th>\n",
       "      <td>0</td>\n",
       "      <td>0</td>\n",
       "      <td>0.999651</td>\n",
       "      <td>0.000349</td>\n",
       "    </tr>\n",
       "    <tr>\n",
       "      <th>16</th>\n",
       "      <td>0</td>\n",
       "      <td>0</td>\n",
       "      <td>0.981323</td>\n",
       "      <td>0.018677</td>\n",
       "    </tr>\n",
       "    <tr>\n",
       "      <th>17</th>\n",
       "      <td>1</td>\n",
       "      <td>0</td>\n",
       "      <td>0.761244</td>\n",
       "      <td>0.238756</td>\n",
       "    </tr>\n",
       "    <tr>\n",
       "      <th>18</th>\n",
       "      <td>0</td>\n",
       "      <td>0</td>\n",
       "      <td>0.698852</td>\n",
       "      <td>0.301148</td>\n",
       "    </tr>\n",
       "    <tr>\n",
       "      <th>19</th>\n",
       "      <td>0</td>\n",
       "      <td>0</td>\n",
       "      <td>0.984833</td>\n",
       "      <td>0.015167</td>\n",
       "    </tr>\n",
       "  </tbody>\n",
       "</table>\n",
       "</div>"
      ],
      "text/plain": [
       "    max_hipoteca  prediccion         0         1\n",
       "0              0           0  0.998416  0.001584\n",
       "1              0           0  0.968693  0.031307\n",
       "2              0           0  0.741470  0.258530\n",
       "3              1           0  0.928687  0.071313\n",
       "4              0           0  0.676108  0.323892\n",
       "5              0           0  0.761244  0.238756\n",
       "6              1           0  0.720658  0.279342\n",
       "7              0           0  0.977018  0.022982\n",
       "8              0           0  0.971750  0.028250\n",
       "9              0           0  0.741470  0.258530\n",
       "10             0           0  0.741470  0.258530\n",
       "11             0           0  0.968693  0.031307\n",
       "12             0           0  0.974516  0.025484\n",
       "13             0           0  0.997824  0.002176\n",
       "14             0           0  0.999853  0.000147\n",
       "15             0           0  0.999651  0.000349\n",
       "16             0           0  0.981323  0.018677\n",
       "17             1           0  0.761244  0.238756\n",
       "18             0           0  0.698852  0.301148\n",
       "19             0           0  0.984833  0.015167"
      ]
     },
     "execution_count": 67,
     "metadata": {},
     "output_type": "execute_result"
    }
   ],
   "source": [
    "X = X_test.reset_index().copy()\n",
    "X[\"max_hipoteca\"] = y_test.tolist()\n",
    "X[\"prediccion\"] = predicciones\n",
    "X = pd.concat([X, probs_df], axis=1)\n",
    "X[[\"max_hipoteca\", \"prediccion\", 0, 1]].head(20)"
   ]
  },
  {
   "cell_type": "code",
   "execution_count": 68,
   "metadata": {
    "ExecuteTime": {
     "end_time": "2019-05-30T13:12:09.043533Z",
     "start_time": "2019-05-30T13:12:09.038534Z"
    }
   },
   "outputs": [],
   "source": [
    "from sklearn import metrics"
   ]
  },
  {
   "cell_type": "code",
   "execution_count": 69,
   "metadata": {
    "ExecuteTime": {
     "end_time": "2019-05-30T13:12:09.065539Z",
     "start_time": "2019-05-30T13:12:09.058536Z"
    }
   },
   "outputs": [
    {
     "data": {
      "text/plain": [
       "-0.18022447519258922"
      ]
     },
     "execution_count": 69,
     "metadata": {},
     "output_type": "execute_result"
    }
   ],
   "source": [
    "metrics.r2_score(X[\"max_hipoteca\"], X[\"prediccion\"])"
   ]
  },
  {
   "cell_type": "code",
   "execution_count": 70,
   "metadata": {
    "ExecuteTime": {
     "end_time": "2019-05-30T13:12:11.279440Z",
     "start_time": "2019-05-30T13:12:11.272414Z"
    }
   },
   "outputs": [
    {
     "data": {
      "text/plain": [
       "0.14325229291017616"
      ]
     },
     "execution_count": 70,
     "metadata": {},
     "output_type": "execute_result"
    }
   ],
   "source": [
    "metrics.mean_absolute_error(X[\"max_hipoteca\"], X[\"prediccion\"])"
   ]
  },
  {
   "cell_type": "code",
   "execution_count": 71,
   "metadata": {
    "ExecuteTime": {
     "end_time": "2019-05-30T13:12:15.503181Z",
     "start_time": "2019-05-30T13:12:15.497179Z"
    }
   },
   "outputs": [
    {
     "data": {
      "text/plain": [
       "array([[1.       , 0.0019809],\n",
       "       [0.0019809, 1.       ]])"
      ]
     },
     "execution_count": 71,
     "metadata": {},
     "output_type": "execute_result"
    }
   ],
   "source": [
    "np.corrcoef(X[\"max_hipoteca\"], X[\"prediccion\"])**2"
   ]
  },
  {
   "cell_type": "code",
   "execution_count": null,
   "metadata": {},
   "outputs": [],
   "source": []
  },
  {
   "cell_type": "code",
   "execution_count": null,
   "metadata": {},
   "outputs": [],
   "source": []
  }
 ],
 "metadata": {
  "kernelspec": {
   "display_name": "Python 3",
   "language": "python",
   "name": "python3"
  },
  "language_info": {
   "codemirror_mode": {
    "name": "ipython",
    "version": 3
   },
   "file_extension": ".py",
   "mimetype": "text/x-python",
   "name": "python",
   "nbconvert_exporter": "python",
   "pygments_lexer": "ipython3",
   "version": "3.7.3"
  }
 },
 "nbformat": 4,
 "nbformat_minor": 2
}
