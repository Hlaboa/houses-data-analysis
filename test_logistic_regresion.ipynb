{
 "cells": [
  {
   "cell_type": "code",
   "execution_count": null,
   "metadata": {
    "ExecuteTime": {
     "end_time": "2019-06-03T14:36:07.767915Z",
     "start_time": "2019-06-03T14:36:07.761908Z"
    }
   },
   "outputs": [],
   "source": [
    "%matplotlib inline\n",
    "import matplotlib.pyplot as plt\n",
    "\n",
    "import pandas as pd\n",
    "import numpy as np\n",
    "from sklearn import datasets\n",
    "import pickle\n",
    "from sklearn.linear_model import LogisticRegression\n",
    "from sklearn.model_selection import train_test_split\n",
    "from sklearn import preprocessing\n",
    "from sklearn import metrics\n"
   ]
  },
  {
   "cell_type": "code",
   "execution_count": null,
   "metadata": {
    "ExecuteTime": {
     "end_time": "2019-06-03T14:36:08.034712Z",
     "start_time": "2019-06-03T14:36:07.985650Z"
    },
    "scrolled": true
   },
   "outputs": [],
   "source": [
    "df = pickle.load(open('./processed_data/houses_cleaned.p',\"rb\"))"
   ]
  },
  {
   "cell_type": "code",
   "execution_count": null,
   "metadata": {
    "ExecuteTime": {
     "end_time": "2019-06-03T14:36:08.165222Z",
     "start_time": "2019-06-03T14:36:08.161230Z"
    }
   },
   "outputs": [],
   "source": [
    "valor_hipoteca = 230000\n",
    "df[\"max_hipoteca\"] = np.where(df[\"price\"] < valor_hipoteca, 1, 0)"
   ]
  },
  {
   "cell_type": "code",
   "execution_count": null,
   "metadata": {
    "ExecuteTime": {
     "end_time": "2019-06-03T14:36:08.405247Z",
     "start_time": "2019-06-03T14:36:08.353234Z"
    }
   },
   "outputs": [],
   "source": [
    "df_train = pd.get_dummies(df[['bath_num', 'floor', 'm2_real', 'room_num', \n",
    "                              'built_in_wardrobe', 'lift',\n",
    "                              'storage_room', 'terrace', 'rent',\n",
    "                              'location', 'max_hipoteca']], \n",
    "                          columns=['location'], drop_first=True)"
   ]
  },
  {
   "cell_type": "code",
   "execution_count": null,
   "metadata": {
    "ExecuteTime": {
     "end_time": "2019-06-03T14:36:08.522361Z",
     "start_time": "2019-06-03T14:36:08.515365Z"
    }
   },
   "outputs": [],
   "source": [
    "df_train.max_hipoteca.value_counts(True)"
   ]
  },
  {
   "cell_type": "code",
   "execution_count": null,
   "metadata": {
    "ExecuteTime": {
     "end_time": "2019-06-03T14:36:09.353342Z",
     "start_time": "2019-06-03T14:36:09.313344Z"
    }
   },
   "outputs": [],
   "source": [
    "y = df_train[\"max_hipoteca\"]\n",
    "X = df_train.drop('max_hipoteca', axis=1)\n",
    "X_train_train, X_train_test, y_train_train, y_train_test = train_test_split(X,y,test_size=0.4, random_state=20)"
   ]
  },
  {
   "cell_type": "code",
   "execution_count": null,
   "metadata": {
    "ExecuteTime": {
     "end_time": "2019-06-03T14:36:09.501859Z",
     "start_time": "2019-06-03T14:36:09.497857Z"
    },
    "scrolled": true
   },
   "outputs": [],
   "source": [
    "modelo = LogisticRegression(random_state=1)"
   ]
  },
  {
   "cell_type": "code",
   "execution_count": null,
   "metadata": {
    "ExecuteTime": {
     "end_time": "2019-06-03T14:36:10.218886Z",
     "start_time": "2019-06-03T14:36:09.763653Z"
    }
   },
   "outputs": [],
   "source": [
    "modelo.fit(X_train_train, y_train_train)\n",
    "prediccion  =  [x[1] for x in modelo.predict_proba(X_train_test)]\n",
    "fpr, tpr, thresholds = metrics.roc_curve(y_train_test, prediccion)"
   ]
  },
  {
   "cell_type": "code",
   "execution_count": null,
   "metadata": {
    "ExecuteTime": {
     "end_time": "2019-06-03T14:36:12.016844Z",
     "start_time": "2019-06-03T14:36:11.858844Z"
    },
    "scrolled": false
   },
   "outputs": [],
   "source": [
    "print('AUC', metrics.auc(fpr, tpr))\n",
    "print(\"Accuracy\", metrics.accuracy_score(y_train_test, [1 if y > 0.5 else 0 for y in prediccion]))\n",
    "plt.plot(fpr,tpr)\n",
    "plt.show()"
   ]
  },
  {
   "cell_type": "code",
   "execution_count": null,
   "metadata": {},
   "outputs": [],
   "source": []
  }
 ],
 "metadata": {
  "kernelspec": {
   "display_name": "Python 3",
   "language": "python",
   "name": "python3"
  },
  "language_info": {
   "codemirror_mode": {
    "name": "ipython",
    "version": 3
   },
   "file_extension": ".py",
   "mimetype": "text/x-python",
   "name": "python",
   "nbconvert_exporter": "python",
   "pygments_lexer": "ipython3",
   "version": "3.7.3"
  }
 },
 "nbformat": 4,
 "nbformat_minor": 2
}
