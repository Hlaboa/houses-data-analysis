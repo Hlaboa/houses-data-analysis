{
 "cells": [
  {
   "cell_type": "code",
   "execution_count": null,
   "metadata": {
    "ExecuteTime": {
     "end_time": "2019-05-30T14:53:24.725280Z",
     "start_time": "2019-05-30T14:53:21.736059Z"
    }
   },
   "outputs": [],
   "source": [
    "%matplotlib inline\n",
    "import matplotlib.pyplot as plt\n",
    "\n",
    "import pandas as pd\n",
    "import numpy as np\n",
    "from sklearn import datasets\n",
    "import pickle\n",
    "from sklearn.linear_model import LogisticRegression\n",
    "from sklearn.model_selection import train_test_split\n",
    "from sklearn import preprocessing\n",
    "from sklearn import metrics\n"
   ]
  },
  {
   "cell_type": "code",
   "execution_count": null,
   "metadata": {
    "ExecuteTime": {
     "end_time": "2019-05-30T14:53:24.770280Z",
     "start_time": "2019-05-30T14:53:24.726255Z"
    },
    "scrolled": true
   },
   "outputs": [],
   "source": [
    "df = pickle.load(open('./processed_data/houses_cleaned.p',\"rb\"))"
   ]
  },
  {
   "cell_type": "code",
   "execution_count": null,
   "metadata": {
    "ExecuteTime": {
     "end_time": "2019-05-30T14:53:24.778240Z",
     "start_time": "2019-05-30T14:53:24.771259Z"
    }
   },
   "outputs": [],
   "source": [
    "valor_hipoteca = 230000\n",
    "df[\"max_hipoteca\"] = np.where(df[\"price\"] < valor_hipoteca, 1, 0)"
   ]
  },
  {
   "cell_type": "code",
   "execution_count": null,
   "metadata": {
    "ExecuteTime": {
     "end_time": "2019-05-30T14:53:24.814240Z",
     "start_time": "2019-05-30T14:53:24.780240Z"
    },
    "scrolled": false
   },
   "outputs": [],
   "source": [
    "df.info()"
   ]
  },
  {
   "cell_type": "code",
   "execution_count": null,
   "metadata": {
    "ExecuteTime": {
     "end_time": "2019-05-30T14:53:24.868271Z",
     "start_time": "2019-05-30T14:53:24.815239Z"
    }
   },
   "outputs": [],
   "source": [
    "df_train = pd.get_dummies(df[['bath_num', 'floor', 'm2_real', 'room_num', 'air_conditioner', \n",
    "                              'balcony', 'built_in_wardrobe', 'chimney', 'garden', 'lift',\n",
    "                              'reduced_mobility', 'storage_room', 'swimming_pool', 'terrace',\n",
    "                              'pop_total', 'pop_foreign', 'rent', 'floor_count',\n",
    "                              'ground', 'house_type', 'location', 'max_hipoteca', 'condition',\n",
    "                              'indoor', 'garage']], \n",
    "                          columns=['location', 'house_type', 'condition', 'indoor', 'garage'], drop_first=True)"
   ]
  },
  {
   "cell_type": "code",
   "execution_count": null,
   "metadata": {
    "ExecuteTime": {
     "end_time": "2019-05-30T14:53:24.895337Z",
     "start_time": "2019-05-30T14:53:24.869256Z"
    }
   },
   "outputs": [],
   "source": [
    "df_train.max_hipoteca.value_counts(True)"
   ]
  },
  {
   "cell_type": "code",
   "execution_count": null,
   "metadata": {
    "ExecuteTime": {
     "end_time": "2019-05-30T14:53:24.961436Z",
     "start_time": "2019-05-30T14:53:24.897318Z"
    }
   },
   "outputs": [],
   "source": [
    "y = df_train[\"max_hipoteca\"]\n",
    "X = df_train.drop('max_hipoteca', axis=1)\n",
    "X_train_train, X_train_test, y_train_train, y_train_test = train_test_split(X,y,test_size=0.4, random_state=20)"
   ]
  },
  {
   "cell_type": "code",
   "execution_count": null,
   "metadata": {
    "ExecuteTime": {
     "end_time": "2019-05-30T14:53:24.968440Z",
     "start_time": "2019-05-30T14:53:24.964440Z"
    },
    "scrolled": true
   },
   "outputs": [],
   "source": [
    "modelo = LogisticRegression(random_state=1)"
   ]
  },
  {
   "cell_type": "code",
   "execution_count": null,
   "metadata": {
    "ExecuteTime": {
     "end_time": "2019-05-30T14:53:25.470273Z",
     "start_time": "2019-05-30T14:53:24.972441Z"
    }
   },
   "outputs": [],
   "source": [
    "modelo.fit(X_train_train, y_train_train)\n",
    "prediccion  =  [x[1] for x in modelo.predict_proba(X_train_test)]\n",
    "fpr, tpr, thresholds = metrics.roc_curve(y_train_test, prediccion)"
   ]
  },
  {
   "cell_type": "code",
   "execution_count": null,
   "metadata": {
    "ExecuteTime": {
     "end_time": "2019-05-30T14:53:25.587255Z",
     "start_time": "2019-05-30T14:53:25.472253Z"
    },
    "scrolled": false
   },
   "outputs": [],
   "source": [
    "print('AUC', metrics.auc(fpr, tpr))\n",
    "print(\"Accuracy\", metrics.accuracy_score(y_train_test, [1 if y > 0.5 else 0 for y in prediccion]))\n",
    "plt.plot(fpr,tpr)\n",
    "plt.show()"
   ]
  },
  {
   "cell_type": "code",
   "execution_count": null,
   "metadata": {},
   "outputs": [],
   "source": []
  }
 ],
 "metadata": {
  "kernelspec": {
   "display_name": "Python 3",
   "language": "python",
   "name": "python3"
  },
  "language_info": {
   "codemirror_mode": {
    "name": "ipython",
    "version": 3
   },
   "file_extension": ".py",
   "mimetype": "text/x-python",
   "name": "python",
   "nbconvert_exporter": "python",
   "pygments_lexer": "ipython3",
   "version": "3.7.3"
  }
 },
 "nbformat": 4,
 "nbformat_minor": 2
}
