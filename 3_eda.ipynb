{
 "cells": [
  {
   "cell_type": "markdown",
   "metadata": {
    "hideCode": false,
    "hidePrompt": false
   },
   "source": [
    "Cargamos las librerías, el conjunto de datos y algunas variables que emplearemos durante el proceso:"
   ]
  },
  {
   "cell_type": "code",
   "execution_count": null,
   "metadata": {
    "ExecuteTime": {
     "end_time": "2019-06-03T14:28:57.727158Z",
     "start_time": "2019-06-03T14:28:55.272678Z"
    },
    "hideCode": false,
    "hidePrompt": false,
    "pycharm": {
     "is_executing": false,
     "name": "#%%\n"
    }
   },
   "outputs": [],
   "source": [
    "import warnings\n",
    "import pandas as pd\n",
    "import numpy as np\n",
    "import matplotlib.pyplot as plt\n",
    "import seaborn as sns\n",
    "from scipy import stats\n",
    "import pickle\n",
    "%matplotlib inline\n",
    "\n",
    "df = pickle.load(open('./processed_data/houses_cleaned.p',\"rb\"))\n",
    "\n",
    "# Definimos las opciones de visualizacion\n",
    "pd.set_option('display.max_columns', 500)\n",
    "\n",
    "b = '\\033[94m'  # para texto azul\n",
    "n = '\\033[0m'   # para texto normal\n",
    "\n",
    "# Omitimos los warnings\n",
    "warnings.filterwarnings('ignore')"
   ]
  },
  {
   "cell_type": "markdown",
   "metadata": {},
   "source": [
    "# Selección de datos que se van a estudiar"
   ]
  },
  {
   "cell_type": "markdown",
   "metadata": {},
   "source": [
    "En esta fase realizaremos un análisis exploratorio de los datos, con el claro objetivo de adquirir comprensión y conocimiento acerca de ellos. Ello por sí solo constituye ya un ejercicio interesante, ya que puede relevar relaciones o patrones que pueden sernos útiles a la hora de entender cómo varían ciertas propiedades de las viviendas en función de otras.\n",
    "\n",
    "No obstante, esta fase se plantea también como una fase intermedia para el modelado que veremos más adelante, en el cual implementaremos un modelo de regresión con el que trataremos de **predecir el precio de las viviendas** a partir de algunas características. Es por ello que, en esta fase, trataremos sobretodo de entender qué relación juegan las distintas características para con el precio, a fin de poder escoger luego la mejor combinación de variables a la hora de implementar el modelo.\n",
    "\n",
    "Pero, antes de proceder con el análisis exploratorio de los datos, realizaremos una preselección de variables en la cual descartaremos aquellas que no emplearemos."
   ]
  },
  {
   "cell_type": "code",
   "execution_count": null,
   "metadata": {
    "ExecuteTime": {
     "end_time": "2019-06-03T14:28:57.742163Z",
     "start_time": "2019-06-03T14:28:57.729158Z"
    }
   },
   "outputs": [],
   "source": [
    "df = df.drop(columns=['house_id','ad_description'])"
   ]
  },
  {
   "cell_type": "markdown",
   "metadata": {},
   "source": [
    "Además, dividiremos el conjunto de datos en viviendas tipo piso y viviendas tipo casa/chalet, lo cual nos ayudará en nuestra fase exploratoria:"
   ]
  },
  {
   "cell_type": "code",
   "execution_count": null,
   "metadata": {
    "ExecuteTime": {
     "end_time": "2019-06-03T14:28:57.753160Z",
     "start_time": "2019-06-03T14:28:57.744163Z"
    }
   },
   "outputs": [],
   "source": [
    "houses = df.house_type.isin(['Casa o chalet', 'Casa rural', 'Chalet adosado', 'Finca rústica', 'Otros'])   \n",
    "flats = df.house_type.isin(['Piso', 'Dúplex', 'Ático', 'Estudio'])"
   ]
  },
  {
   "cell_type": "markdown",
   "metadata": {},
   "source": [
    "# Creación de funciones para visualizaciones"
   ]
  },
  {
   "cell_type": "markdown",
   "metadata": {},
   "source": [
    "En esta fase de exploración de datos necesitaremos generar múltiples y variadas visualizaciones, ya sean para describir distribuciones, así como para reflejar distintas relaciones entre variables. Para ello, la mejor opción es generar gráficos *ad-hoc* que reflejen nuestros datos de la forma más clara posible. No obstante, generar gráficos personalizados requiere muchas líneas de código, y puede acarrear que la longitud de nuestra exposición sea demasiado larga.\n",
    "\n",
    "Una forma de reducir esta cantidad de código consiste en definir nuestras propias funciones, y servirnos de ellas para generar las visualizaciones que necesitamos a lo largo de la exploración de datos. De este modo, podremos reutilizar las funciones y, con solo una o pocas líneas, seremos capaces de construir gráficos ricos en detalle evitando la inserción de grandes bloques de código.\n",
    "\n",
    "Por lo tanto, procedemos a definir el conjunto de funciones que utilizaremos luego:"
   ]
  },
  {
   "cell_type": "code",
   "execution_count": null,
   "metadata": {
    "ExecuteTime": {
     "end_time": "2019-06-03T14:28:57.773205Z",
     "start_time": "2019-06-03T14:28:57.756168Z"
    },
    "scrolled": false
   },
   "outputs": [],
   "source": [
    "def custome_distplot(param, data, up_clip, margin):\n",
    "\n",
    "    f, axes = plt.subplots(2,1, figsize=(12,7))\n",
    "    sns.despine(left=True)\n",
    "\n",
    "    # ... 1st plot --> Entire distribution\n",
    "    k1 = sns.kdeplot(df[param], shade=True, color='#e9b49e', ax=axes[0])\n",
    "    kde_x, kde_y = k1.lines[0].get_data()\n",
    "    k1.fill_between(kde_x, kde_y, where=(kde_x>=margin), color='#636261', alpha=0.5)\n",
    "\n",
    "    \n",
    "    # ... 2nd plot --> Clipped distribution\n",
    "    k2 = sns.kdeplot(df[param], shade=True, color='#e9b49e', ax=axes[1], clip=(0,up_clip))\n",
    "    kde_x, kde_y = k2.lines[0].get_data()\n",
    "    k2.fill_between(kde_x, kde_y, where=(kde_x>=margin), color='#636261', alpha=0.5)\n",
    "    \n",
    "    # Draw median line\n",
    "    plt.plot([df[param].median(),df[param].median()], [0, max(kde_y)*0.8], ':', color='#636261', linewidth = 2)\n",
    "    plt.text(df[param].median()*1.04, max(kde_y)*0.8,f'MEDIAN = {int(df[param].median())}', size='large', color='#636261')\n",
    "\n",
    "    # Draw mean line\n",
    "    plt.plot([df[param].mean(),df[param].mean()], [0, max(kde_y)*0.7], ':', color='#636261', linewidth = 2)\n",
    "    plt.text(df[param].mean()*1.04, max(kde_y)*0.7,f'MEAN = {int(df[param].mean())}', size='large', color='#636261')\n",
    "    \n",
    "    # Draw arrow (percent of samples out of margin)\n",
    "    perc = round(100-(100*df.query(param+'<'+str(margin)).shape[0])/df.shape[0],2)\n",
    "    plt.plot([margin*1.005,margin*1.005],[0, max(kde_y)*0.35], color='#636261', linewidth = 2, alpha=0.5)\n",
    "    plt.arrow(margin*1.005, max(kde_y)*0.35, margin*0.15, 0, width=max(kde_y)/200, color='#636261', alpha=0.5\n",
    "             ,head_width=max(kde_y)/30, head_length=margin*0.05)\n",
    "    plt.text(margin*1.25, max(kde_y)*0.33, f'{perc}% de las viviendas', color='#636261', size='large', weight=\"bold\")\n",
    "\n",
    "    plt.setp(axes, yticks=[])\n",
    "    plt.tight_layout()"
   ]
  },
  {
   "cell_type": "code",
   "execution_count": null,
   "metadata": {
    "ExecuteTime": {
     "end_time": "2019-06-03T14:28:57.790196Z",
     "start_time": "2019-06-03T14:28:57.776205Z"
    }
   },
   "outputs": [],
   "source": [
    "def custome_countplot_single(param, data, perc=False, title=''):\n",
    "    \n",
    "    f, axes = plt.subplots(figsize=(12, 3))\n",
    "    custome_countplot(param, data, perc, axes, title, False)\n",
    "    sns.despine(left=True) \n",
    "    plt.show()\n",
    "    \n",
    "\n",
    "def custome_countplot_multi(param, data, dataH, dataF, perc=False):\n",
    "\n",
    "    fig = plt.figure(figsize=(14, 7)) \n",
    "    \n",
    "    gs = fig.add_gridspec(2,2)\n",
    "    ax1 = fig.add_subplot(gs[0, :])\n",
    "    ax2 = fig.add_subplot(gs[1, 0])\n",
    "    ax3 = fig.add_subplot(gs[1, 1])\n",
    "    \n",
    "    custome_countplot(param, data, perc, ax1, 'ALL', False)\n",
    "    custome_countplot(param, dataH, perc, ax2, 'HOUSES', True)\n",
    "    custome_countplot(param, dataF, perc, ax3, 'FLATS', True)\n",
    "    \n",
    "    plt.tight_layout()\n",
    "    plt.subplots_adjust(wspace=0.1, hspace=0.6)\n",
    "    plt.show()\n",
    "    \n",
    "    \n",
    "def custome_countplot(param, data, perc, ax, title, rnd1):\n",
    "    sns.despine(left=True) \n",
    "    \n",
    "    (data\n",
    "     .groupby(param)\n",
    "     .count()\n",
    "     .reset_index()\n",
    "     .pipe((sns.scatterplot, 'data'), x=param, y=1, size='price', sizes=(40, 3000)\n",
    "       ,color='#f8e9e2', edgecolor='#e9b49e', linewidth=1.5, legend=False, ax=ax))\n",
    "\n",
    "    ax.set_xticks(range(0,1+max(data[param].unique())))\n",
    "    plt.setp(ax, yticks=[])\n",
    "    ax.set_title(title, color='#636261', size='large', weight=\"bold\")\n",
    "    data[param]=data[param].astype('int64')\n",
    "\n",
    "    for num in data[param].unique():\n",
    "        c = len(data[data[param]==num]);\n",
    "\n",
    "        if perc==True:\n",
    "            if rnd1==True:\n",
    "                p = int(round(100*c/len(data),0))\n",
    "            else:\n",
    "                p = round(100*c/len(data),1)\n",
    "\n",
    "            if p>25:\n",
    "                ax.text(num, 1.1, f'   {p} %', color='#e18e7f', weight='bold',  horizontalalignment='center')\n",
    "            elif p>5:\n",
    "                ax.text(num, 1.1, f'   {p} %', color='#a95f81', weight='semibold',  horizontalalignment='center')\n",
    "            else:\n",
    "                ax.text(num, 1.1, f'   {p} %', color='#636261', horizontalalignment='center')\n",
    "        else:\n",
    "            if (c/len(data)) < 0.01:\n",
    "                ax.text(num, 1.1, c, color='#636261', weight='semibold',  horizontalalignment='center')"
   ]
  },
  {
   "cell_type": "code",
   "execution_count": null,
   "metadata": {
    "ExecuteTime": {
     "end_time": "2019-06-03T14:28:57.802193Z",
     "start_time": "2019-06-03T14:28:57.792197Z"
    }
   },
   "outputs": [],
   "source": [
    "def custome_barplot(param, data, figW, figH):\n",
    "\n",
    "    f, axes = plt.subplots(figsize=(figW, figH))\n",
    "    sns.despine(left=True)\n",
    "\n",
    "    data[param] = data[param].apply(lambda x: x[:17])\n",
    "    \n",
    "    (data[param]\n",
    "     .pipe((sns.countplot,'y'), color='#f8e9e2', edgecolor='#e9b49e', linewidth=1.5\n",
    "           , orient='h', order = data[param].value_counts().iloc[:20].index))\n",
    "        \n",
    "    max=0\n",
    "    for p in axes.patches:\n",
    "        \n",
    "        if max < p.get_width():\n",
    "            max = p.get_width()           \n",
    "        perc = round(p.get_width()*100/len(data),2)\n",
    "        \n",
    "        if perc>25:\n",
    "            plt.text(p.get_width()+max/100, p.get_y()+p.get_height()/2, f'{perc} %', color='#e18e7f', weight='bold', verticalalignment='center')\n",
    "        elif perc>5:\n",
    "            plt.text(p.get_width()+max/100, p.get_y()+p.get_height()/2, f'{perc} %', color='#a95f81', weight='semibold', verticalalignment='center')\n",
    "        else:\n",
    "            plt.text(p.get_width()+max/100, p.get_y()+p.get_height()/2, f'{perc} %', color='#636261', verticalalignment='center')       \n",
    " \n",
    "    plt.tight_layout()"
   ]
  },
  {
   "cell_type": "code",
   "execution_count": null,
   "metadata": {
    "ExecuteTime": {
     "end_time": "2019-06-03T14:28:57.845214Z",
     "start_time": "2019-06-03T14:28:57.804193Z"
    },
    "cell_style": "center",
    "hideCode": false,
    "hidePrompt": false,
    "scrolled": false
   },
   "outputs": [],
   "source": [
    "def custome_boxplot(y, x='price', order=False, data=df.query('price<1000000'), title=\"\"):\n",
    "    \n",
    "    if order:\n",
    "        p_order = data[x].groupby(data[y]).median().sort_values(ascending=False).index.values\n",
    "    else:\n",
    "        p_order = data.groupby(y).sum().sort_values(y, ascending=False).index.values\n",
    "    \n",
    "    fignum = len(p_order)/1.5\n",
    "    fignum=3 if fignum<5 else fignum\n",
    "    \n",
    "    f, axes = plt.subplots(1, 1, figsize=(15, fignum), sharex=True)\n",
    "    sns.despine(left=True)\n",
    "    \n",
    "    (data\n",
    "     .pipe((sns.boxplot,'data')\n",
    "           , x, y, palette=\"rocket_r\",  orient=\"h\", boxprops=dict(alpha=.7),order= p_order))\n",
    "\n",
    "    \n",
    "    for i in range(len(p_order)):\n",
    "        perc = round(100*len(data[data[y]==p_order[i]])/len(df))\n",
    "\n",
    "        if perc>25:\n",
    "            plt.text(data[x].max()*1.05, i, round(100*len(data[data[y]==p_order[i]])/len(df),2)\n",
    "             , color='#e18e7f', size='large', weight='semibold')\n",
    "            plt.text(data[x].max()*1.105, i, '% de viviendas', color='#e18e7f', size='large')\n",
    "        elif perc>5:\n",
    "            plt.text(data[x].max()*1.05, i, round(100*len(data[data[y]==p_order[i]])/len(df),2)\n",
    "             , color='#a95f81', size='large', weight='semibold')\n",
    "            plt.text(data[x].max()*1.105, i, '% de viviendas', color='#a95f81', size='large')\n",
    "        else:\n",
    "            plt.text(data[x].max()*1.06, i, round(100*len(data[data[y]==p_order[i]])/len(df),2)\n",
    "             , color='#636261', size='large', weight='semibold')\n",
    "            plt.text(data[x].max()*1.105, i, '% de viviendas', color='#636261', size='large')\n",
    "\n",
    "    axes.set_title(f\"\\n\\n{title}\\n\", color='#636261', size='large', weight=\"bold\")\n",
    "    plt.tight_layout()"
   ]
  },
  {
   "cell_type": "code",
   "execution_count": null,
   "metadata": {
    "ExecuteTime": {
     "end_time": "2019-06-03T14:28:57.855211Z",
     "start_time": "2019-06-03T14:28:57.848209Z"
    }
   },
   "outputs": [],
   "source": [
    "def custome_qqplot(param, data):\n",
    "    f, axes = plt.subplots(figsize=(9, 6)\n",
    "                          )\n",
    "    res = stats.probplot(data[param], plot=sns.mpl.pyplot);\n",
    "    axes.get_lines()[0].set_marker('o')\n",
    "    axes.get_lines()[0].set_markerfacecolor('#f8e9e2')\n",
    "    axes.get_lines()[0].set_markeredgecolor('#e9b49e')\n",
    "    axes.get_lines()[0].set_markersize(6)\n",
    "    axes.get_lines()[1].set_color('#a39996')\n",
    "    axes.get_lines()[1].set_linewidth(3)"
   ]
  },
  {
   "cell_type": "code",
   "execution_count": null,
   "metadata": {
    "ExecuteTime": {
     "end_time": "2019-06-03T14:28:57.890214Z",
     "start_time": "2019-06-03T14:28:57.858207Z"
    },
    "hideCode": false,
    "hideOutput": true,
    "hidePrompt": false,
    "pycharm": {
     "is_executing": false
    }
   },
   "outputs": [],
   "source": [
    "def custome_corrplot(data, size_scale=380, marker='o'):\n",
    "    corr = pd.melt(data.reset_index(), id_vars='index')\n",
    "    corr.columns = ['x', 'y', 'value']\n",
    "    custome_heatmap(\n",
    "        corr['x'], corr['y'],\n",
    "        color=corr['value'], color_range=[-1, 1],\n",
    "        palette=sns.diverging_palette(20, 220, n=256),\n",
    "        size=corr['value'].abs(), size_range=[0,1],\n",
    "        marker=marker,\n",
    "        x_order=data.columns,\n",
    "        y_order=data.columns[::-1],\n",
    "        size_scale=size_scale)\n",
    "\n",
    "def custome_heatmap(x, y, **kwargs):\n",
    "    if 'color' in kwargs:\n",
    "        color = kwargs['color']\n",
    "    else:\n",
    "        color = [1]*len(x)\n",
    "\n",
    "    if 'palette' in kwargs:\n",
    "        palette = kwargs['palette']\n",
    "        n_colors = len(palette)\n",
    "    else:\n",
    "        n_colors = 256 # Use 256 colors for the diverging color palette\n",
    "        palette = sns.color_palette(\"Blues\", n_colors) \n",
    "\n",
    "    if 'color_range' in kwargs:\n",
    "        color_min, color_max = kwargs['color_range']\n",
    "    else:\n",
    "        color_min, color_max = min(color), max(color) # Range of values that will be mapped to the palette, i.e. min and max possible correlation\n",
    "\n",
    "    def value_to_color(val):\n",
    "        if color_min == color_max:\n",
    "            return palette[-1]\n",
    "        else:\n",
    "            val_position = float((val - color_min)) / (color_max - color_min) # position of value in the input range, relative to the length of the input range\n",
    "            val_position = min(max(val_position, 0), 1) # bound the position betwen 0 and 1\n",
    "            ind = int(val_position * (n_colors - 1)) # target index in the color palette\n",
    "            return palette[ind]\n",
    "\n",
    "    if 'size' in kwargs:\n",
    "        size = kwargs['size']\n",
    "    else:\n",
    "        size = [1]*len(x)\n",
    "\n",
    "    if 'size_range' in kwargs:\n",
    "        size_min, size_max = kwargs['size_range'][0], kwargs['size_range'][1]\n",
    "    else:\n",
    "        size_min, size_max = min(size), max(size)\n",
    "\n",
    "    size_scale = kwargs.get('size_scale', 500)\n",
    "\n",
    "    def value_to_size(val):\n",
    "        if size_min == size_max:\n",
    "            return 1 * size_scale\n",
    "        else:\n",
    "            val_position = (val - size_min) * 0.99 / (size_max - size_min) + 0.01 # position of value in the input range, relative to the length of the input range\n",
    "            val_position = min(max(val_position, 0), 1) # bound the position betwen 0 and 1\n",
    "            return val_position * size_scale\n",
    "    if 'x_order' in kwargs: \n",
    "        x_names = [t for t in kwargs['x_order']]\n",
    "    else:\n",
    "        x_names = [t for t in sorted(set([v for v in x]))]\n",
    "    x_to_num = {p[1]:p[0] for p in enumerate(x_names)}\n",
    "\n",
    "    if 'y_order' in kwargs: \n",
    "        y_names = [t for t in kwargs['y_order']]\n",
    "    else:\n",
    "        y_names = [t for t in sorted(set([v for v in y]))]\n",
    "    y_to_num = {p[1]:p[0] for p in enumerate(y_names)}\n",
    "\n",
    "    plot_grid = plt.GridSpec(1, 16, hspace=0.2, wspace=0.1) # Setup a 1x10 grid\n",
    "    ax = plt.subplot(plot_grid[:,:-2]) # Use the left 14/15ths of the grid for the main plot\n",
    "    marker = kwargs.get('marker', 's')\n",
    "\n",
    "    kwargs_pass_on = {k:v for k,v in kwargs.items() if k not in [\n",
    "         'color', 'palette', 'color_range', 'size', 'size_range', 'size_scale', 'marker', 'x_order', 'y_order'\n",
    "    ]}\n",
    "\n",
    "    ax.scatter(\n",
    "        x=[x_to_num[v] for v in x],\n",
    "        y=[y_to_num[v] for v in y],\n",
    "        marker=marker,\n",
    "        s=[value_to_size(v) for v in size], \n",
    "        c=[value_to_color(v) for v in color],\n",
    "        **kwargs_pass_on\n",
    "    )\n",
    "    ax.set_xticks([v for k,v in x_to_num.items()])\n",
    "    ax.set_xticklabels([k for k in x_to_num], rotation=45, horizontalalignment='right')\n",
    "    ax.set_yticks([v for k,v in y_to_num.items()])\n",
    "    ax.set_yticklabels([k for k in y_to_num])\n",
    "\n",
    "    ax.grid(False)\n",
    "    ax.spines['top'].set_visible(False)\n",
    "    ax.spines['right'].set_visible(False)\n",
    "    ax.spines['bottom'].set_visible(False)\n",
    "    ax.spines['left'].set_visible(False)\n",
    "    ax.xaxis.set_ticks_position('none')\n",
    "    ax.yaxis.set_ticks_position('none') \n",
    "\n",
    "    ax.set_xticks([], minor=True)\n",
    "    ax.set_yticks([], minor=True)\n",
    "\n",
    "    ax.set_xlim([-0.5, max([v for v in x_to_num.values()]) + 0.5])\n",
    "    ax.set_ylim([-0.5, max([v for v in y_to_num.values()]) + 0.5])\n",
    "    ax.set_facecolor('white')\n",
    "\n",
    "    # Add color legend on the right side of the plot\n",
    "    if color_min < color_max:\n",
    "        ax = plt.subplot(plot_grid[:,-1]) # Use the rightmost column of the plot\n",
    "\n",
    "        col_x = [0]*len(palette) # Fixed x coordinate for the bars\n",
    "        bar_y=np.linspace(color_min, color_max, n_colors) # y coordinates for each of the n_colors bars\n",
    "\n",
    "        bar_height = bar_y[1] - bar_y[0]\n",
    "        ax.barh(\n",
    "            y=bar_y,\n",
    "            width=1.5, # Make bars 5 units wide\n",
    "            left=col_x, # Make bars start at 0\n",
    "            height=bar_height,\n",
    "            color=palette,\n",
    "            linewidth=0\n",
    "        )\n",
    "        ax.set_xlim(1, 2) # Bars are going from 0 to 5, so lets crop the plot somewhere in the middle\n",
    "        ax.grid(False) # Hide grid\n",
    "        \n",
    "        ax.spines['top'].set_visible(False)\n",
    "        ax.spines['right'].set_visible(False)\n",
    "        ax.spines['bottom'].set_visible(False)\n",
    "        ax.spines['left'].set_visible(False)\n",
    "        ax.set_facecolor('white') # Make background white\n",
    "        ax.set_xticks([]) # Remove horizontal ticks\n",
    "        ax.set_yticks(np.linspace(min(bar_y), max(bar_y), 3)) # Show vertical ticks for min, middle and max\n",
    "        ax.yaxis.tick_right() # Show vertical ticks on the right "
   ]
  },
  {
   "cell_type": "markdown",
   "metadata": {},
   "source": [
    "# Análisis descriptivo de los datos"
   ]
  },
  {
   "cell_type": "markdown",
   "metadata": {},
   "source": [
    "A lo largo del análisis exploratorio iremos planteando una serie de preguntas, mediante las cuales exploraremos las relaciones entre las características de las viviendas apoyándonos en visualizaciones, contrastes de hipótesis y pruebas estadísticas.\n",
    "\n",
    "No obstante, antes de proceder con el estudio de relaciones, caracterizaremos las variables más importantes de nuestro conjunto de datos."
   ]
  },
  {
   "cell_type": "markdown",
   "metadata": {},
   "source": [
    "## Descripción de variables relevantes"
   ]
  },
  {
   "cell_type": "markdown",
   "metadata": {},
   "source": [
    "### Precio de las viviendas"
   ]
  },
  {
   "cell_type": "code",
   "execution_count": null,
   "metadata": {
    "ExecuteTime": {
     "end_time": "2019-06-03T14:28:58.205213Z",
     "start_time": "2019-06-03T14:28:57.892208Z"
    },
    "scrolled": false
   },
   "outputs": [],
   "source": [
    "custome_distplot('price', df, up_clip=1000000, margin=600000)"
   ]
  },
  {
   "cell_type": "markdown",
   "metadata": {},
   "source": [
    "Vemos que las medidas centrales (media y mediana) de los precios de las viviendas caen entre los 200.000 y 300.000€. Además, vemos que la distribución de los precios de las viviendas es asimétrica positiva, con una gran cola hacia la derecha. De ahí que, en este caso, la mediana parezca una medida central más significativa, ya que la media está fuertemente condicionada por los valores extremos de precios. \n",
    "\n",
    "Solo con la imágen superior podríamos decir ya que el precio de la vivienda no parece seguir una distribución normal. No obstante, verificamos la normalidad mediante un Q-Q plot:"
   ]
  },
  {
   "cell_type": "code",
   "execution_count": null,
   "metadata": {
    "ExecuteTime": {
     "end_time": "2019-06-03T14:28:58.517251Z",
     "start_time": "2019-06-03T14:28:58.207235Z"
    }
   },
   "outputs": [],
   "source": [
    "custome_qqplot('price', df)"
   ]
  },
  {
   "cell_type": "markdown",
   "metadata": {},
   "source": [
    "Se comprueba que, en efecto, la distribución de precios se aleja mucho de una distribución normal. No obstante, lo verificamos mediante el test de normalidad de *Shapiro-Wilk*:"
   ]
  },
  {
   "cell_type": "code",
   "execution_count": null,
   "metadata": {},
   "outputs": [],
   "source": [
    "W, p = stats.shapiro(df.price)\n",
    "print(f\"El valor p para el test de Shapiro-Wilk es de {p}\")"
   ]
  },
  {
   "cell_type": "markdown",
   "metadata": {},
   "source": [
    "Vemos que el valor p asociado al test de Shapiro es nulo. Por lo tanto, queda verificado lo que ya intuíamos con el QQ-plot, que el precio de las viviendas no sigue una distribución normal."
   ]
  },
  {
   "cell_type": "markdown",
   "metadata": {},
   "source": [
    "### Superficie de las viviendas"
   ]
  },
  {
   "cell_type": "code",
   "execution_count": null,
   "metadata": {
    "ExecuteTime": {
     "end_time": "2019-06-03T14:28:58.796331Z",
     "start_time": "2019-06-03T14:28:58.519252Z"
    },
    "scrolled": false
   },
   "outputs": [],
   "source": [
    "custome_distplot('m2_real', df, up_clip=300, margin=200)"
   ]
  },
  {
   "cell_type": "markdown",
   "metadata": {},
   "source": [
    "En este caso, las medidas centrales (media y mediana) de los metros cuadrados de las viviendas caen en torno a los 100 $m^2$. Por otro lado, la distribución parece, nuevamente, asimétrica positiva, con una gran cola hacia la derecha. Por ello, parece que conviene emplear la mediana otra vez.\n",
    "\n",
    "Verifiquemos la normalidad mediante un Q-Q plot:"
   ]
  },
  {
   "cell_type": "code",
   "execution_count": null,
   "metadata": {
    "ExecuteTime": {
     "end_time": "2019-06-03T14:28:59.100340Z",
     "start_time": "2019-06-03T14:28:58.798331Z"
    }
   },
   "outputs": [],
   "source": [
    "custome_qqplot('m2_real', df)"
   ]
  },
  {
   "cell_type": "markdown",
   "metadata": {},
   "source": [
    "En esta ocasión también comprobamos que la variable no sigue una distribución normal. Aún así, lo verificamos nuevamente mediante el test de normalidad de *Shapiro-Wilk*:"
   ]
  },
  {
   "cell_type": "code",
   "execution_count": null,
   "metadata": {},
   "outputs": [],
   "source": [
    "W, p = stats.shapiro(df.m2_real)\n",
    "print(f\"El valor p para el test de Shapiro-Wilk es de {p}\")"
   ]
  },
  {
   "cell_type": "markdown",
   "metadata": {},
   "source": [
    "Nuevamente, el valor p asociado es nulo, con lo que se confirma también la no normalidad de la variable *m2_real*."
   ]
  },
  {
   "cell_type": "markdown",
   "metadata": {},
   "source": [
    "### Número de baños de las viviendas"
   ]
  },
  {
   "cell_type": "code",
   "execution_count": null,
   "metadata": {
    "ExecuteTime": {
     "end_time": "2019-06-03T14:28:59.606717Z",
     "start_time": "2019-06-03T14:28:59.102340Z"
    },
    "scrolled": false
   },
   "outputs": [],
   "source": [
    "custome_countplot_multi('bath_num', df, df[houses], df[flats], perc=True)"
   ]
  },
  {
   "cell_type": "markdown",
   "metadata": {},
   "source": [
    "Vemos que en las viviendas tipo casa, lo más común es que haya 2 o 3 baños, aunque también son frecuentes, en menor medida. 1, 4  o incluso 5 baños. Por otro lado, en las viviendas tipo pisos la gran mayoría consta de 1 o 2 baños."
   ]
  },
  {
   "cell_type": "markdown",
   "metadata": {},
   "source": [
    "### Número de habitaciones de las viviendas"
   ]
  },
  {
   "cell_type": "code",
   "execution_count": null,
   "metadata": {
    "ExecuteTime": {
     "end_time": "2019-06-03T14:29:00.232458Z",
     "start_time": "2019-06-03T14:28:59.608716Z"
    },
    "scrolled": false
   },
   "outputs": [],
   "source": [
    "custome_countplot_multi('room_num', df, df[houses], df[flats], perc=True)"
   ]
  },
  {
   "cell_type": "markdown",
   "metadata": {},
   "source": [
    "En lo que respecta al número de habitaciones, las viviendas tipo casa tienden a tener 4, aunque también son frecuentes las casas con 3 y 5 habitaciones, y en menor medida, 6. Por otro lado, la mitad de las viviendas tipo piso tienen 3 habitaciones, con un porcentaje muy elevado que tienen 2, y en menor medida, 1 o 4 habitaciones."
   ]
  },
  {
   "cell_type": "markdown",
   "metadata": {},
   "source": [
    "### Número de plantas de las viviendas"
   ]
  },
  {
   "cell_type": "code",
   "execution_count": null,
   "metadata": {
    "ExecuteTime": {
     "end_time": "2019-06-03T14:29:00.638188Z",
     "start_time": "2019-06-03T14:29:00.234431Z"
    }
   },
   "outputs": [],
   "source": [
    "custome_countplot_multi('floor_count', df, df[houses], df[flats], perc=True)"
   ]
  },
  {
   "cell_type": "markdown",
   "metadata": {},
   "source": [
    "Las viviendas tipo casa, tienden a tener mayoritariamente 3 plantas, aunque son frecuentes las viviendas con 2 plantas, y en menor medida, 4. Por otro lado, todas las viviendas tipo piso constan de una sola planta, excepto un porcentaje pequeño correspondiente a los áticos, que tiene 2."
   ]
  },
  {
   "cell_type": "markdown",
   "metadata": {},
   "source": [
    "### Número de piso de las viviendas"
   ]
  },
  {
   "cell_type": "code",
   "execution_count": null,
   "metadata": {
    "ExecuteTime": {
     "end_time": "2019-06-03T14:29:00.833664Z",
     "start_time": "2019-06-03T14:29:00.639177Z"
    },
    "scrolled": false
   },
   "outputs": [],
   "source": [
    "custome_countplot_single('floor', df[flats], perc=True, title='FLATS')"
   ]
  },
  {
   "cell_type": "markdown",
   "metadata": {},
   "source": [
    "Vemos que los pisos en venta mayoritariamente corresponden a pisos ubicados en 1ª planta, aunque también son numerosos los pisos de las plantas 2ª y 3ª. En menor medida, tenemos pisos de 4ª y 5ª planta, y bajos. \n",
    "\n",
    "*En este caso observamos solo las viviendas tipo piso, ya que todas las casas están ubicadas en la planta baja.*"
   ]
  },
  {
   "cell_type": "markdown",
   "metadata": {},
   "source": [
    "## Estudio de duplicidades"
   ]
  },
  {
   "cell_type": "markdown",
   "metadata": {},
   "source": [
    "Finalmente, hacemos un breve estudio sobre las duplicidades de las variables:"
   ]
  },
  {
   "cell_type": "code",
   "execution_count": null,
   "metadata": {
    "ExecuteTime": {
     "end_time": "2019-06-03T14:29:00.897168Z",
     "start_time": "2019-06-03T14:29:00.834669Z"
    }
   },
   "outputs": [],
   "source": [
    "n_records = len(df)\n",
    "def duplicados_por_columna(df):\n",
    "    for column in df:\n",
    "        count_value = df[column].value_counts()\n",
    "        common = count_value.iloc[0]\n",
    "        rare = count_value.iloc[-1]\n",
    "        if ((common / (1.0 * n_records)) > 0.7):\n",
    "            print(\"Column:{} ## Common: {}% <> Rare: {}% ## Type: {}\".format( df[column].name, \n",
    "                                       round(common / (n_records) * 100, 2), \n",
    "                                       round(rare / (n_records) * 100, 2),\n",
    "                                       df[column].dtype\n",
    "        ))\n",
    "            \n",
    "duplicados_por_columna(df)"
   ]
  },
  {
   "cell_type": "markdown",
   "metadata": {},
   "source": [
    "Como se puede ver en el resultado, tenemos 12 variables con mas del 70% de valores repetidos. Básicamente lo que vemos es que esas variables no están balanceadas. En caso de usarlas en nuestro modelo, se tendrá que tener en cuenta."
   ]
  },
  {
   "cell_type": "markdown",
   "metadata": {
    "hideCode": false,
    "hidePrompt": false
   },
   "source": [
    "# Estudio de relaciones  entre las variables"
   ]
  },
  {
   "cell_type": "markdown",
   "metadata": {},
   "source": [
    "En este apartado estudiaremos la relación que tienen las variables de nuestro conjunto de datos entre sí, primero mediante tests estadísticos, y luego mediante análisis gráfico."
   ]
  },
  {
   "cell_type": "markdown",
   "metadata": {
    "hideCode": false,
    "hidePrompt": false
   },
   "source": [
    "## Test de correlación de Kendall"
   ]
  },
  {
   "cell_type": "markdown",
   "metadata": {},
   "source": [
    "Empezaremos nuestro estudio de relaciones analizando las correlaciones de las variables numéricas y booleanas. Expondremos los resultados en un correlograma para que podamos identificar de manera visual e intuitiva qué variables están correlacionadas. Para ello, dado que hemos comprobado que las variables no siguen una distribución normal (al menos nuestra variable dependiente), emplearemos la correlación no paramétrica de **Kendall**:"
   ]
  },
  {
   "cell_type": "code",
   "execution_count": null,
   "metadata": {
    "ExecuteTime": {
     "end_time": "2019-06-03T14:29:02.355111Z",
     "start_time": "2019-06-03T14:29:00.899173Z"
    }
   },
   "outputs": [],
   "source": [
    "plt.figure(figsize=(14, 10))\n",
    "custome_corrplot(df.corr(method='kendall'))"
   ]
  },
  {
   "cell_type": "markdown",
   "metadata": {},
   "source": [
    "Del correlograma podemos extraer las siguientes conclusiones:\n",
    "\n",
    "+ Hay variables que tienen una cierta correlación con la variable __<font color=#5F66A1>price</font>__, tales como  __<font color=#5F66A1>bath_num</font>__, __<font color=#5F66A1>m2_real</font>__, o en menor medida __<font color=#5F66A1>room_num</font>__, __<font color=#5F66A1>floor_count</font>__ o __<font color=#5F66A1>rent</font>__, entre otros..\n",
    "+ Hay una familia de variables que parecen estar correlacionadas entre sí: __<font color=#5F66A1>bath_num</font>__, __<font color=#5F66A1>m2_real</font>__ y __<font color=#5F66A1>room_num</font>__ (además del ya mencionado precio).\n",
    "+  __<font color=#5F66A1>pop_total</font>__, __<font color=#5F66A1>pop_0-19</font>__ y __<font color=#5F66A1>pop_>=65</font>__ están fuertemente correlacionadas (estas dos últimas con correlación inversa)\n",
    "+ Las variables __<font color=#5F66A1>garden</font>__, y sobretodo __<font color=#5F66A1>ground</font>__ y __<font color=#5F66A1>floor_count</font>__ están relacionadas entre sí"
   ]
  },
  {
   "cell_type": "markdown",
   "metadata": {},
   "source": [
    "## Análisis de la varianza"
   ]
  },
  {
   "cell_type": "markdown",
   "metadata": {},
   "source": [
    "### Prueva de Levene"
   ]
  },
  {
   "cell_type": "markdown",
   "metadata": {},
   "source": [
    "Para evaluar la posible relación entre las variables categóricas y nuestra variable dependiente __<font color=#5F66A1>price</font>__, usaremos un análisis de la varianza.\n",
    "\n",
    "No obstante, antes de decidir qué test utilizar, procederemos a realizar un análisis de la homogeneidad de la varianza para con las variables categóricas que queremos comparar. Para ello, nos valdremos del test de la **prueba de Levene**:"
   ]
  },
  {
   "cell_type": "code",
   "execution_count": null,
   "metadata": {},
   "outputs": [],
   "source": [
    "def calculate_levene(x, y='price'):\n",
    "    print(f\"PRUEBA DE LEVENE entre las variables {b}{x}{n} y {b}{y}{n} ...\")\n",
    "    samples = []\n",
    "    for c in range(len(df[x].unique())):\n",
    "        cat = df[x].unique()[c]\n",
    "        samples.append(df[df[x]==cat][y].values)\n",
    "    \n",
    "    print(stats.levene(*samples))\n",
    "    print(\"\\n\")\n",
    "\n",
    "calculate_levene('house_type')\n",
    "calculate_levene('garage')\n",
    "calculate_levene('condition')\n",
    "calculate_levene('loc_zone')\n",
    "calculate_levene('loc_city')\n",
    "calculate_levene('location')"
   ]
  },
  {
   "cell_type": "markdown",
   "metadata": {},
   "source": [
    "Observamos como el *p-value* es nulo (o prácticamente nulo) para cada una de las 6 variables, por lo que incluso optando por un nivel de significación muy bajo, tal como $\\alpha$ 0.01 , concluiríamos en rechazar las hipótesis nulas y asumir que la varianza del precio de las viviendas no es homogénea para las distintas categorías."
   ]
  },
  {
   "cell_type": "markdown",
   "metadata": {},
   "source": [
    "### Test de Kruskal-Wallis"
   ]
  },
  {
   "cell_type": "markdown",
   "metadata": {},
   "source": [
    "Una vez visto que la varianza no es homogénea, para llevar a cabo el análisis de varianza optaremos por un test no paramétrico, el test de **Kruskal-Wallis** en este caso:"
   ]
  },
  {
   "cell_type": "code",
   "execution_count": null,
   "metadata": {
    "ExecuteTime": {
     "end_time": "2019-06-03T14:29:15.085521Z",
     "start_time": "2019-06-03T14:29:02.357113Z"
    },
    "scrolled": false
   },
   "outputs": [],
   "source": [
    "def calculate_kruskal(x, y='price'):\n",
    "\n",
    "    df_dum = pd.get_dummies(df.filter([x,y]))\n",
    "\n",
    "    for i in range(df_dum.shape[1]-1):\n",
    "        df_dum.iloc[:,i+1] = np.where(df_dum.iloc[:,i+1]==1, df_dum[y], 0)\n",
    "\n",
    "    df_dum = df_dum.drop(columns=[y])\n",
    "    print(f\"TEST KRUSKAL entre las variables {b}{x}{n} y {b}{y}{n} ...\")\n",
    "    print(stats.kruskal(*[df_dum[col][df_dum[col]!=0] for col in df_dum.columns]))\n",
    "    print(\"\\n\")\n",
    "\n",
    "calculate_kruskal('house_type')\n",
    "calculate_kruskal('garage')\n",
    "calculate_kruskal('condition')\n",
    "calculate_kruskal('loc_zone')\n",
    "calculate_kruskal('loc_city')\n",
    "calculate_kruskal('location')"
   ]
  },
  {
   "cell_type": "markdown",
   "metadata": {},
   "source": [
    "Observamos como, nuevamente, el *p-value* es nulo (o prácticamente nulo) para cada una de las 6 variables, por lo que, volviendo a optar incluso por un nivel de significación de $\\alpha$ 0.01, aquí también rechazaríamos las hipótesis nulas y asumiríamos que existen diferencias significativas en el precio de las viviendas en función de las distintas categorías."
   ]
  },
  {
   "cell_type": "markdown",
   "metadata": {},
   "source": [
    "## Relacion entre las variables  y el precio"
   ]
  },
  {
   "cell_type": "markdown",
   "metadata": {},
   "source": [
    "Para profundizar más en relación a cómo varía el **precio de las viviendas** en función de las variables más relevantes, generaremos una serie de gráficos con los cuales nos valdremos para extraer algunas conclusiones."
   ]
  },
  {
   "cell_type": "markdown",
   "metadata": {
    "hideCode": false,
    "hidePrompt": false
   },
   "source": [
    "### ¿Cómo influye el tipo de vivienda en su precio?"
   ]
  },
  {
   "cell_type": "code",
   "execution_count": null,
   "metadata": {
    "ExecuteTime": {
     "end_time": "2019-06-03T14:29:15.508466Z",
     "start_time": "2019-06-03T14:29:15.087522Z"
    },
    "hideCode": false,
    "hidePrompt": false,
    "scrolled": false
   },
   "outputs": [],
   "source": [
    "custome_boxplot('house_type', order=True, title='ALL')"
   ]
  },
  {
   "cell_type": "markdown",
   "metadata": {},
   "source": [
    "Vemos que las casas y chalets son el tipo de viviendas más caras, con la mediana por encima de los 400.000€. Por otro lado, los tipos de casa más baratos son los pisos (a excepción de los estudios), los cuales tienen la mediana en torno a los 200.000€, prácticamente la mitad que en el caso de las casas y chalets. Además, vemos que los áticos y los dúplex tienden a ser considerablemente más caros que los pisos que no lo son, al igual que las fincas y casas rurales tienden a ser más baratas que los chalets."
   ]
  },
  {
   "cell_type": "markdown",
   "metadata": {
    "hideCode": false,
    "hidePrompt": false
   },
   "source": [
    "### ¿Cómo influye el estado de la vivienda en su precio?"
   ]
  },
  {
   "cell_type": "code",
   "execution_count": null,
   "metadata": {
    "ExecuteTime": {
     "end_time": "2019-06-03T14:29:15.723472Z",
     "start_time": "2019-06-03T14:29:15.509450Z"
    }
   },
   "outputs": [],
   "source": [
    "custome_boxplot('condition', order=True, title='ALL')"
   ]
  },
  {
   "cell_type": "markdown",
   "metadata": {},
   "source": [
    "Vemos que el estado de las viviendas tiene influencia en el precio. Así, las viviendas más caras son las de obra nueva, y las que menos, las que necesitan reformas, lo cual entra dentro de lo esperado."
   ]
  },
  {
   "cell_type": "markdown",
   "metadata": {
    "hideCode": false,
    "hidePrompt": false
   },
   "source": [
    "### ¿Cómo influye el número de baños de una vivienda en su precio?"
   ]
  },
  {
   "cell_type": "code",
   "execution_count": null,
   "metadata": {
    "ExecuteTime": {
     "end_time": "2019-06-03T14:29:16.719495Z",
     "start_time": "2019-06-03T14:29:15.727459Z"
    }
   },
   "outputs": [],
   "source": [
    "(df[houses].query('price<2000000')\n",
    " .pipe((custome_boxplot, 'data'), 'bath_num', title=\"HOUSES\"))\n",
    "\n",
    "(df[flats].query('price<2000000')\n",
    " .pipe((custome_boxplot, 'data'), 'bath_num', title=\"FLATS\"))"
   ]
  },
  {
   "cell_type": "markdown",
   "metadata": {},
   "source": [
    "Vemos que, tanto en viviendas tipo chalets, como en viviendas tipo piso, hay una considerable relación lineal entre el número de baños y el precio de las viviendas."
   ]
  },
  {
   "cell_type": "markdown",
   "metadata": {
    "hideCode": false,
    "hidePrompt": false
   },
   "source": [
    "### ¿Cómo influye el número de habitaciones de una vivienda en su precio?"
   ]
  },
  {
   "cell_type": "code",
   "execution_count": null,
   "metadata": {
    "ExecuteTime": {
     "end_time": "2019-06-03T14:29:17.884515Z",
     "start_time": "2019-06-03T14:29:16.721494Z"
    },
    "hideCode": false,
    "hidePrompt": false,
    "scrolled": false
   },
   "outputs": [],
   "source": [
    "(df[houses].query('price<1000000')\n",
    " .pipe((custome_boxplot, 'data'), 'room_num', title=\"HOUSES\"))\n",
    "\n",
    "(df[flats].query('price<1000000')\n",
    " .pipe((custome_boxplot, 'data'), 'room_num', title=\"FLATS\"))"
   ]
  },
  {
   "cell_type": "markdown",
   "metadata": {},
   "source": [
    "En este caso, si bien no de forma tan clara como con el número de baños, se observa que el número de habitaciones también está relacionado con el precio de las viviendas tanto en los pisos como en las casas/chalets."
   ]
  },
  {
   "cell_type": "markdown",
   "metadata": {
    "hideCode": false,
    "hidePrompt": false
   },
   "source": [
    "### ¿Cómo influye el número de planta de un piso en su precio?"
   ]
  },
  {
   "cell_type": "code",
   "execution_count": null,
   "metadata": {
    "ExecuteTime": {
     "end_time": "2019-06-03T14:29:18.292585Z",
     "start_time": "2019-06-03T14:29:17.885499Z"
    }
   },
   "outputs": [],
   "source": [
    "(df[flats].query('price<800000')\n",
    " .pipe((custome_boxplot, 'data'), 'floor', title=\"FLATS\"))"
   ]
  },
  {
   "cell_type": "markdown",
   "metadata": {},
   "source": [
    "En vista de lo que se observa en el gráfico, en principio no parece haber una relación muy clara entre el precio de las piso y el número de planta en el que éstos se ubican, si bien es cierto que los más caros parecen ser aquellos ubicados por encima de la 5ª planta. Por debajo, parece que tienden a costar ligeramente más aquellos ubicados en la 1ª planta que los de la 2ª, 3ª, 4ª o 5ª."
   ]
  },
  {
   "cell_type": "markdown",
   "metadata": {
    "hideCode": false,
    "hidePrompt": false
   },
   "source": [
    "### ¿Cómo influye el número de plantas de las casas en su precio?"
   ]
  },
  {
   "cell_type": "code",
   "execution_count": null,
   "metadata": {
    "ExecuteTime": {
     "end_time": "2019-06-03T14:29:18.572615Z",
     "start_time": "2019-06-03T14:29:18.294590Z"
    }
   },
   "outputs": [],
   "source": [
    "(df[houses].query('price<2000000')\n",
    " .pipe((custome_boxplot, 'data'), 'floor_count', title=\"HOUSES\"))"
   ]
  },
  {
   "cell_type": "markdown",
   "metadata": {},
   "source": [
    "Parece que el número de plantas que tienen las casas también tiene tiene una cierta relación lineal con su precio."
   ]
  },
  {
   "cell_type": "markdown",
   "metadata": {
    "hideCode": false,
    "hidePrompt": false
   },
   "source": [
    "### ¿Cómo influye el garaje en el precio de las viviendas?"
   ]
  },
  {
   "cell_type": "code",
   "execution_count": null,
   "metadata": {
    "ExecuteTime": {
     "end_time": "2019-06-03T14:29:18.969145Z",
     "start_time": "2019-06-03T14:29:18.573596Z"
    }
   },
   "outputs": [],
   "source": [
    "(df[houses]\n",
    " .query('price<1000000')\n",
    " .pipe((custome_boxplot,'data'), 'garage', order=True, title=\"HOUSES\"))\n",
    "\n",
    "(df[flats]\n",
    " .query('price<1000000')\n",
    " .pipe((custome_boxplot,'data'), 'garage', order=True, title=\"FLATS\"))"
   ]
  },
  {
   "cell_type": "markdown",
   "metadata": {},
   "source": [
    "Se observa como el garaje tiene también una influencia muy nítida en el precio de las viviendas, habiendo una diferencia sustancial entre las viviendas que ofrecen garaje incluido en el precio, entre las que lo ofertan pero pagando un extra, y entre aquellas que no tienen siquiera garaje"
   ]
  },
  {
   "cell_type": "markdown",
   "metadata": {},
   "source": [
    "### ¿Cómo influyen los equipamientos de las viviendas en su precio?"
   ]
  },
  {
   "cell_type": "markdown",
   "metadata": {},
   "source": [
    "Para empezar, rescatemos el correlograma del antes, centrándonos esta vez sólo en el precio y los equipamientos de las viviendas:"
   ]
  },
  {
   "cell_type": "code",
   "execution_count": null,
   "metadata": {
    "ExecuteTime": {
     "end_time": "2019-06-03T14:29:19.857085Z",
     "start_time": "2019-06-03T14:29:18.971144Z"
    },
    "run_control": {
     "marked": false
    }
   },
   "outputs": [],
   "source": [
    "equip = ['price', 'terrace', 'built_in_wardrobe', 'garden', 'ground', 'swimming_pool', 'lift'\n",
    "        , 'storage_room', 'reduced_mobility', 'air_conditioner', 'chimney', 'balcony']\n",
    "\n",
    "plt.figure(figsize=(8, 6))\n",
    "df.filter(items = equip).corr(method='kendall').pipe(custome_corrplot)"
   ]
  },
  {
   "cell_type": "markdown",
   "metadata": {},
   "source": [
    "Podemos observar que, excepto __<font color=#5F66A1>balcony</font>__, __<font color=#5F66A1>chimney</font>__, y tal vez __<font color=#5F66A1>air_conditioner</font>__ y __<font color=#5F66A1>reduced_mobility</font>__, los equipamientos sí parecen tener cierta influencia en el precio de las viviendas.\n",
    "\n",
    "Comprobemos cómo es esta influencia con una serie de boxplots:"
   ]
  },
  {
   "cell_type": "code",
   "execution_count": null,
   "metadata": {
    "ExecuteTime": {
     "end_time": "2019-06-03T14:29:22.499973Z",
     "start_time": "2019-06-03T14:29:19.858094Z"
    },
    "hideCode": false,
    "hidePrompt": false,
    "scrolled": false
   },
   "outputs": [],
   "source": [
    "for e in equip[1:]:\n",
    "    custome_boxplot(e, title=f'{e.upper()} - ALL', data=df.query('price < 1000000'))"
   ]
  },
  {
   "cell_type": "markdown",
   "metadata": {},
   "source": [
    "En vista de los gráficos, podríamos decir que todos los equipamientos, a excepción de los balcones, influyen en el precio de las viviendas, incluso las chimeneas, el aire acondicionado y el hecho de estar adaptadas para personas con movilidad reducida. No obstante, solo el 0.62% de las viviendas en venta tiene chimenea, y solo el 1.42% de las viviendas tiene aire acondicionado, por lo que puede que no sean muy significativas."
   ]
  },
  {
   "cell_type": "markdown",
   "metadata": {
    "hideCode": false,
    "hidePrompt": false
   },
   "source": [
    "### ¿Cómo influyen los metros cuadrados de una de casa en su precio?"
   ]
  },
  {
   "cell_type": "code",
   "execution_count": null,
   "metadata": {
    "ExecuteTime": {
     "end_time": "2019-06-03T14:29:28.068633Z",
     "start_time": "2019-06-03T14:29:22.500973Z"
    },
    "hideCode": false,
    "hidePrompt": false
   },
   "outputs": [],
   "source": [
    "(df.query('price < 500000 and m2_real < 150')\n",
    " .pipe((sns.jointplot, 'data'), x=\"price\", y=\"m2_real\", kind=\"kde\", color='#e9b49e', height=10));"
   ]
  },
  {
   "cell_type": "markdown",
   "metadata": {},
   "source": [
    "Vemos que hay una clara relación entre los metros cuadrados de las viviendas y su precio. Esta relación, además, parece bastante lineal, ya que a medida que incrementan los metros cuadrados de una vivienda, el precio tiende a incrementar de forma proporcional."
   ]
  },
  {
   "cell_type": "markdown",
   "metadata": {
    "hideCode": false,
    "hidePrompt": false
   },
   "source": [
    "### ¿Cómo influye la renta media poblacional en el precio de las viviendas?"
   ]
  },
  {
   "cell_type": "code",
   "execution_count": null,
   "metadata": {
    "ExecuteTime": {
     "end_time": "2019-06-03T14:29:34.136590Z",
     "start_time": "2019-06-03T14:29:28.069632Z"
    },
    "hideCode": false,
    "hidePrompt": false,
    "scrolled": false
   },
   "outputs": [],
   "source": [
    "(df.query('price < 500000')\n",
    " .pipe((sns.jointplot, 'data'), x=\"price\", y=\"rent\", kind=\"kde\", color='#e9b49e', height=10));"
   ]
  },
  {
   "cell_type": "markdown",
   "metadata": {},
   "source": [
    "En vista de lo que observamos en el gráfico, no podemos saber en qué medida afecta la renta poblacional en el precio de las viviendas. No obstante, sí se distinguen 2 claros bloques en la renta poblacional, uno en torno a los 21000€ anuales, y otro en torno. a los 17000€. Asimismo, vemos que la media de precios de viviendas en ambos casos es muy similar, con una ligera proporción de vivienas más caras en las poblaciones con renta en torno a los 21000€.\n",
    "\n",
    "Sin embargo, cabe recordar que la variable __<font color=#5F66A1>rent</font>__ nos muestra la renta poblacional de cada municipio/ciudad, no diferenciando un barrio de otro, lo cual podría ser de suma relevancia en ciudades pobladas como Bilbao o San Sebastián."
   ]
  },
  {
   "cell_type": "markdown",
   "metadata": {
    "hideCode": false,
    "hidePrompt": false
   },
   "source": [
    "### ¿Cómo influye la ubicación de las viviendas en su precio?"
   ]
  },
  {
   "cell_type": "markdown",
   "metadata": {
    "hideCode": false
   },
   "source": [
    "Para descubrir cómo influye la ubicacion de las viviendas en el precio, empezemos por desglosar las zona geográficas de nuestras 2 provincias, y ver la distribución de precios para cada una de ellas."
   ]
  },
  {
   "cell_type": "code",
   "execution_count": null,
   "metadata": {
    "ExecuteTime": {
     "end_time": "2019-06-03T14:29:34.727432Z",
     "start_time": "2019-06-03T14:29:34.138591Z"
    }
   },
   "outputs": [],
   "source": [
    "custome_boxplot('loc_zone', order=True, title='ALL')"
   ]
  },
  {
   "cell_type": "markdown",
   "metadata": {},
   "source": [
    "Encontramos que, de zona a zona, los precios varían. En algunos casos esta variación es apenas distinguible, como en los casos de **Alto Deba** y **Bajo Deba**, ambos contiguos. Pero si comparamos las viviendas de estas zonas con **Bajo Bidasoa**, por ejemplo, vemos que la diferencia es ya suficientemente apreciable.\n",
    "\n",
    "Por otro lado, exploremos más a fondo la distribución de nuestras viviendas en relación al número de viviendas en venta, cogiendo esta vez todas las viviendas sin ningún límite de precio (en el gráfico superior habíamos limitado el precio en 1 millón de €)"
   ]
  },
  {
   "cell_type": "code",
   "execution_count": null,
   "metadata": {
    "ExecuteTime": {
     "end_time": "2019-06-03T14:29:35.071293Z",
     "start_time": "2019-06-03T14:29:34.730413Z"
    }
   },
   "outputs": [],
   "source": [
    "custome_barplot('loc_zone', df, 12, 5)"
   ]
  },
  {
   "cell_type": "markdown",
   "metadata": {},
   "source": [
    "Vemos que hay zonas con muchas más viviendas que otras. Así, la mitad de las viviendas en venta de nuestro *dataset* se ubican en la zona de **Gran Bilbao**. Por ello, puede resultar interesante aumentando un tanto lupa y desglosar las ubicaciones en función de municipios. Veamos cuáles son los 20 municipios que mas viviendas tienen en la zona de Gran Bilbao:"
   ]
  },
  {
   "cell_type": "code",
   "execution_count": null,
   "metadata": {
    "ExecuteTime": {
     "end_time": "2019-06-03T14:29:35.465553Z",
     "start_time": "2019-06-03T14:29:35.072292Z"
    },
    "run_control": {
     "marked": false
    }
   },
   "outputs": [],
   "source": [
    "(df[df.loc_zone==\"Gran Bilbao (BIZ)\"]\n",
    ".pipe((custome_barplot, 'data'), 'loc_city', figW=10, figH=7))"
   ]
  },
  {
   "cell_type": "markdown",
   "metadata": {},
   "source": [
    "Vemos que, la ciudad de **Bilbao** recoge más de un tercio de las viviendas de nuestro conjunto de datos, por lo tanto, aumentemos aún más la lupa, observando los 20 barrios con más viviendas:"
   ]
  },
  {
   "cell_type": "code",
   "execution_count": null,
   "metadata": {
    "ExecuteTime": {
     "end_time": "2019-06-03T14:29:35.831057Z",
     "start_time": "2019-06-03T14:29:35.466563Z"
    }
   },
   "outputs": [],
   "source": [
    "(df[df.loc_city==\"Bilbao\"]\n",
    ".pipe((custome_barplot, 'data'), 'location', figW=10, figH=7))"
   ]
  },
  {
   "cell_type": "markdown",
   "metadata": {},
   "source": [
    "Aunque aún tengamos barrios que congregan una gran cantidad de viviendas, vemos que la distribución por barrios parece ya algo más equilibrada. Por lo tanto, veamos si de barrio a barrio hay varaciones en el precio de las viviendas:"
   ]
  },
  {
   "cell_type": "code",
   "execution_count": null,
   "metadata": {
    "ExecuteTime": {
     "end_time": "2019-06-03T14:29:37.436541Z",
     "start_time": "2019-06-03T14:29:35.833056Z"
    }
   },
   "outputs": [],
   "source": [
    "(df.query('price<1000000 and loc_city==\"Bilbao\"')\n",
    " .pipe((custome_boxplot,'data'), 'location', order=True, title=\"LOCATION (BILBAO) - ALL\"))"
   ]
  },
  {
   "cell_type": "markdown",
   "metadata": {},
   "source": [
    "Volvemos a ver que la diferencia de precios de las viviendas está muy ligada con la localización, mucho más si cabe a nivel de barrios. Así, mientras que en el barrio más económico de Bilbao, la mediana de las viviendas está en torno a los 100.000€, en el barrio más caro, la cifra asciende a los 800.000€. "
   ]
  },
  {
   "cell_type": "markdown",
   "metadata": {},
   "source": [
    "## Otras relaciones entre variables"
   ]
  },
  {
   "cell_type": "markdown",
   "metadata": {},
   "source": [
    "Una vez hemos analizado cómo influyen en el precio las diferentes características de las viviendas, nos puede resultar también interesante explorar otras relaciones distintas que no tengan que ver con el precio. Así, en esta última sección profundizaremos brevemente en estas relaciones, nuevamente valiéndonos de gráficos."
   ]
  },
  {
   "cell_type": "markdown",
   "metadata": {
    "hideCode": false,
    "hidePrompt": false
   },
   "source": [
    "### ¿Cómo influye la renta media poblacional en el tipo de viviendas en venta?"
   ]
  },
  {
   "cell_type": "code",
   "execution_count": null,
   "metadata": {
    "ExecuteTime": {
     "end_time": "2019-06-03T14:29:37.825564Z",
     "start_time": "2019-06-03T14:29:37.437542Z"
    },
    "hideCode": false,
    "hidePrompt": false,
    "scrolled": false
   },
   "outputs": [],
   "source": [
    "custome_boxplot('house_type', 'rent', order=True)"
   ]
  },
  {
   "cell_type": "markdown",
   "metadata": {},
   "source": [
    "Vemos que, si bien muy ligeramente, la renta poblacional parece guardar cierta relación con el tipo de viviendas en venta. Así, allí donde las rentas más altas, se observa un ligero aumento de viviendas tipo chalet o dúplex."
   ]
  },
  {
   "cell_type": "markdown",
   "metadata": {
    "hideCode": false,
    "hidePrompt": false
   },
   "source": [
    "### ¿Hay relación entre los metros cuadrados de una vivienda y su número de habitaciones?"
   ]
  },
  {
   "cell_type": "code",
   "execution_count": null,
   "metadata": {
    "ExecuteTime": {
     "end_time": "2019-06-03T14:29:38.436338Z",
     "start_time": "2019-06-03T14:29:37.827554Z"
    },
    "scrolled": false
   },
   "outputs": [],
   "source": [
    "custome_boxplot('room_num', 'm2_real')"
   ]
  },
  {
   "cell_type": "markdown",
   "metadata": {},
   "source": [
    "Se observa que, tal y como cabría esperar, la relación entre el número de habitaciones y los metros cuadrados de una casa es bastante lineal."
   ]
  },
  {
   "cell_type": "markdown",
   "metadata": {
    "hideCode": false,
    "hidePrompt": false
   },
   "source": [
    "### ¿Hay relación entre los metros cuadrados de una vivienda y su número de baños?"
   ]
  },
  {
   "cell_type": "code",
   "execution_count": null,
   "metadata": {
    "ExecuteTime": {
     "end_time": "2019-06-03T14:29:38.891353Z",
     "start_time": "2019-06-03T14:29:38.438336Z"
    },
    "scrolled": false
   },
   "outputs": [],
   "source": [
    "custome_boxplot('bath_num', 'm2_real')"
   ]
  },
  {
   "cell_type": "markdown",
   "metadata": {},
   "source": [
    "Nuevamente vemos que existe una la relación directa entre el número de baños y los metros cuadrados de una casa es bastante lineal, lo cual vuelve a ser del todo esperado."
   ]
  }
 ],
 "metadata": {
  "hide_code_all_hidden": false,
  "hide_input": false,
  "kernelspec": {
   "display_name": "Python 3",
   "language": "python",
   "name": "python3"
  },
  "language_info": {
   "codemirror_mode": {
    "name": "ipython",
    "version": 3
   },
   "file_extension": ".py",
   "mimetype": "text/x-python",
   "name": "python",
   "nbconvert_exporter": "python",
   "pygments_lexer": "ipython3",
   "version": "3.7.1"
  },
  "latex_envs": {
   "LaTeX_envs_menu_present": true,
   "autoclose": false,
   "autocomplete": true,
   "bibliofile": "biblio.bib",
   "cite_by": "apalike",
   "current_citInitial": 1,
   "eqLabelWithNumbers": true,
   "eqNumInitial": 1,
   "hotkeys": {
    "equation": "Ctrl-E",
    "itemize": "Ctrl-I"
   },
   "labels_anchors": false,
   "latex_user_defs": false,
   "report_style_numbering": false,
   "user_envs_cfg": false
  },
  "nbTranslate": {
   "displayLangs": [
    "*"
   ],
   "hotkey": "alt-t",
   "langInMainMenu": true,
   "sourceLang": "en",
   "targetLang": "fr",
   "useGoogleTranslate": true
  },
  "pycharm": {
   "stem_cell": {
    "cell_type": "raw",
    "metadata": {
     "collapsed": false
    },
    "source": []
   }
  },
  "toc": {
   "base_numbering": 1,
   "nav_menu": {},
   "number_sections": true,
   "sideBar": true,
   "skip_h1_title": false,
   "title_cell": "Table of Contents",
   "title_sidebar": "Contents",
   "toc_cell": false,
   "toc_position": {
    "height": "calc(100% - 180px)",
    "left": "10px",
    "top": "150px",
    "width": "416.5081481933594px"
   },
   "toc_section_display": true,
   "toc_window_display": false
  }
 },
 "nbformat": 4,
 "nbformat_minor": 1
}
