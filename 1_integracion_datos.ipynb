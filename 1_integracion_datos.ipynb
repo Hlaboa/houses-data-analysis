{
 "cells": [
  {
   "cell_type": "markdown",
   "metadata": {},
   "source": [
    "Cargamos las librerías que emplearemos durante el proceso:"
   ]
  },
  {
   "cell_type": "code",
   "execution_count": 1,
   "metadata": {
    "ExecuteTime": {
     "end_time": "2019-05-20T12:50:24.603525Z",
     "start_time": "2019-05-20T12:50:23.059290Z"
    },
    "pycharm": {
     "is_executing": false,
     "name": "#%%\n"
    }
   },
   "outputs": [],
   "source": [
    "import pandas as pd\n",
    "\n",
    "# Ampliamos el límite de columnas visibles para poder visualizarlas todas\n",
    "pd.set_option('display.max_columns', 500)"
   ]
  },
  {
   "cell_type": "markdown",
   "metadata": {},
   "source": [
    "# Categorización de los datos"
   ]
  },
  {
   "cell_type": "markdown",
   "metadata": {},
   "source": [
    "En este apartado realizaremos una breve descripción de los datos que utilizaremos en este estudio.\n",
    "\n",
    "Así, mayormente emplearemos un conjunto de datos que contiene información sobre anuncios de casas en venta de las provincias de Bizkaia y Gipuzkoa. Para ello, disponemos de 2 archivos, uno por cada provincia. Por lo tanto, cargamos los datos y los combinamos en un solo dataframe:"
   ]
  },
  {
   "cell_type": "code",
   "execution_count": 2,
   "metadata": {
    "ExecuteTime": {
     "end_time": "2019-05-20T12:50:25.103752Z",
     "start_time": "2019-05-20T12:50:24.605525Z"
    },
    "cell_style": "center",
    "pycharm": {
     "is_executing": false,
     "metadata": false,
     "name": "#%%\n"
    },
    "scrolled": false
   },
   "outputs": [],
   "source": [
    "houses_biz = pd.read_csv('./raw_data/houses_vizcaya.csv')\n",
    "houses_gip = pd.read_csv('./raw_data/houses_guipuzcoa.csv')\n",
    "\n",
    "houses = pd.concat([houses_biz, houses_gip])"
   ]
  },
  {
   "cell_type": "markdown",
   "metadata": {},
   "source": [
    "Una vez tenemos nuestro dataset, veamos de cuántas casas y variables consta:\n",
    "\n",
    "+ <font color=#599d70>__Número de casas__</font>: {{houses.shape[0]}}\n",
    "+ <font color=#599d70>__Número de variables por casa__</font>: {{houses.shape[1]}}\n",
    "\n",
    "<br />\n",
    "Asimismo, describamos cómo son estas {{houses.shape[1]}} variables:\n",
    "\n",
    "**PROPIEDADES DEL ANUNCIO**\n",
    "\n",
    "+ [0] <font color=#5F66A1>__house_id__</font>: Identificador numérico único del anuncio de la vivienda (coincide con el path del anuncio) &nbsp;&nbsp;&nbsp;&nbsp;<font color=#c874b9>{num}</font>\n",
    "+ [1] <font color=#5F66A1>__ad_last_update__</font>: Fecha de la última actualización del anuncio &nbsp;&nbsp;&nbsp;&nbsp;<font color=#f3ca75>{text}</font>\n",
    "+ [2] <font color=#5F66A1>__ad_description__</font>: Descripción de texto del anuncio de la venta/alquiler de la vivienda &nbsp;&nbsp;&nbsp;&nbsp;<font color=#f3ca75>{text}</font>\n",
    "\n",
    "**PROPIEDADES DE LA VIVIENDA**\n",
    "\n",
    "+ [3] <font color=#5F66A1>__price__</font>: Precio de alquiler/venta de la vivienda &nbsp;&nbsp;&nbsp;&nbsp;<font color=#c874b9>{num}</font>\n",
    "+ [4] <font color=#5F66A1>__bath_num__</font>: Número de baños de la vivienda &nbsp;&nbsp;&nbsp;&nbsp;<font color=#c874b9>{num}</font> \n",
    "+ [5] <font color=#5F66A1>__condition__</font>: Estado en el que se encuentra la vivienda &nbsp;&nbsp;&nbsp;&nbsp;<font color=#599d70>{cat}</font>\n",
    "+ [6] <font color=#5F66A1>__construct_date__</font>: Año de construcción de la vivienda &nbsp;&nbsp;&nbsp;&nbsp;<font color=#ED553B>{date}</font>\n",
    "+ [7] <font color=#5F66A1>__energetic_certif__</font>: Certificado energético de la vivienda &nbsp;&nbsp;&nbsp;&nbsp;<font color=#599d70>{cat}</font>\n",
    "+ [8] <font color=#5F66A1>__floor__</font>: Número y/o ubicación de la(s) planta(s) de la vivienda &nbsp;&nbsp;&nbsp;&nbsp;<font color=#599d70>{cat}</font>\n",
    "+ [9] <font color=#5F66A1>__ground_size__</font>: Metros cuadrados del terreno donde se ubica la vivienda &nbsp;&nbsp;&nbsp;&nbsp;<font color=#c874b9>{num}</font>\n",
    "+ [10] <font color=#5F66A1>__heating__</font>: Sistema de calefacción de la vivienda &nbsp;&nbsp;&nbsp;&nbsp;<font color=#599d70>{cat}</font>\n",
    "+ [11] <font color=#5F66A1>__house_type__</font>: Tipo de vivienda &nbsp;&nbsp;&nbsp;&nbsp;<font color=#599d70>{cat}</font>\n",
    "+ [12] <font color=#5F66A1>__m2_real__</font>: Metros cuadrados totales de la vivienda &nbsp;&nbsp;&nbsp;&nbsp;<font color=#c874b9>{num}</font>\n",
    "+ [13] <font color=#5F66A1>__m2_useful__</font>: Metros cuadrados útiles de la vivienda &nbsp;&nbsp;&nbsp;&nbsp;<font color=#c874b9>{num}</font>\n",
    "+ [14] <font color=#5F66A1>__orientation__</font>: Orientación de la vivienda &nbsp;&nbsp;&nbsp;&nbsp;<font color=#599d70>{cat}</font>\n",
    "+ [15] <font color=#5F66A1>__room_num__</font>: Número de habitaciones de la vivienda &nbsp;&nbsp;&nbsp;&nbsp;<font color=#c874b9>{num}</font>\n",
    "\n",
    "**EQUIPAMIENTO ADICIONAL DE LA VIVIENDA**\n",
    "\n",
    "+ [16] <font color=#5F66A1>__air_conditioner__</font>: Indica si la vivienda posee aire acondicionado &nbsp;&nbsp;&nbsp;&nbsp;<font color=#599d70>{cat binary}</font>\n",
    "+ [17] <font color=#5F66A1>__balcony__</font>: Indica si la vivienda tiene balcones &nbsp;&nbsp;&nbsp;&nbsp;<font color=#599d70>{cat binary}</font>\n",
    "+ [18] <font color=#5F66A1>__built_in_wardrobe__</font>: Indica si la vivienda consta de armarios empotrados &nbsp;&nbsp;&nbsp;&nbsp;<font color=#599d70>{cat binary}</font>\n",
    "+ [19] <font color=#5F66A1>__chimney__</font>: Indica si la vivienda consta de chimenea &nbsp;&nbsp;&nbsp;&nbsp;<font color=#599d70>{cat binary}</font>\n",
    "+ [20] <font color=#5F66A1>__garage__</font>: Indica el precio del garaje (en caso de que tenga) &nbsp;&nbsp;&nbsp;&nbsp;<font color=#c874b9>{num}</font>\n",
    "+ [21] <font color=#5F66A1>__garden__</font>: Indica si la vivienda tiene jardín &nbsp;&nbsp;&nbsp;&nbsp;<font color=#599d70>{cat binary}</font>\n",
    "+ [22] <font color=#5F66A1>__kitchen__</font>: Indica si la vivienda está ya equipada con cocina &nbsp;&nbsp;&nbsp;&nbsp;<font color=#599d70>{cat binary}</font>\n",
    "+ [23] <font color=#5F66A1>__lift__</font>: Indica si la vivienda consta de ascensor &nbsp;&nbsp;&nbsp;&nbsp;<font color=#599d70>{cat binary}</font>\n",
    "+ [24] <font color=#5F66A1>__reduced_mobility__</font>: Indica si la vivienda está adaptada para personas con movilidad reducida &nbsp;&nbsp;&nbsp;&nbsp;<font color=#599d70>{cat binary}</font>\n",
    "+ [25] <font color=#5F66A1>__storage_room__</font>: Indica si la vivienda consta de trastero &nbsp;&nbsp;&nbsp;&nbsp;<font color=#599d70>{cat binary}</font>\n",
    "+ [26] <font color=#5F66A1>__swimming_pool__</font>: Indica si la vivienda tiene piscina &nbsp;&nbsp;&nbsp;&nbsp;<font color=#599d70>{cat binary}</font>\n",
    "+ [27] <font color=#5F66A1>__terrace__</font>: Indica si la vivienda tiene terraza &nbsp;&nbsp;&nbsp;&nbsp;<font color=#599d70>{cat binary}</font>\n",
    "+ [28] <font color=#5F66A1>__unfurnished__</font>: Indica si la vivienda está sin amueblar &nbsp;&nbsp;&nbsp;&nbsp;<font color=#599d70>{cat binary}</font>\n",
    "\n",
    "**UBICACIÓN DE LA VIVIENDA**\n",
    "\n",
    "+ [29] <font color=#5F66A1>__loc_full__</font>: Dirección completa de la vivienda &nbsp;&nbsp;&nbsp;&nbsp;<font color=#f3ca75>{text}</font>\n",
    "+ [30] <font color=#5F66A1>__loc_zone__</font>: Provincia en la que se ubica la vivienda &nbsp;&nbsp;&nbsp;&nbsp;<font color=#f3ca75>{text}</font>\n",
    "+ [31] <font color=#5F66A1>__loc_district__</font>: Área de la provincia en la que se ubica la vivienda &nbsp;&nbsp;&nbsp;&nbsp;<font color=#f3ca75>{text}</font>\n",
    "+ [32] <font color=#5F66A1>__loc_city__</font>: Localidad en la que se ubica la vivienda &nbsp;&nbsp;&nbsp;&nbsp;<font color=#f3ca75>{text}</font>\n",
    "+ [33] <font color=#5F66A1>__loc_neigh__</font>: Vecindario en la que se ubica la vivienda &nbsp;&nbsp;&nbsp;&nbsp;<font color=#f3ca75>{text}</font>\n",
    "+ [34] <font color=#5F66A1>__loc_street__</font>: Calle en la que se ubica la vivienda &nbsp;&nbsp;&nbsp;&nbsp;<font color=#f3ca75>{text}</font> \n",
    "\n",
    "**METADATOS**\n",
    "+ [35] <font color=#5F66A1>__obtention_date__</font>: Fecha de obtención de los datos de la vivienda &nbsp;&nbsp;&nbsp;&nbsp;<font color=#599d70>{date}</font>\n",
    "\n",
    "<br />"
   ]
  },
  {
   "cell_type": "markdown",
   "metadata": {},
   "source": [
    "# Enriquecimiento de los datos"
   ]
  },
  {
   "cell_type": "markdown",
   "metadata": {},
   "source": [
    "En este apartado enriqueceremos nuestro conjunto de datos principal añadiendo información demográfica y socio-económica. Concretamente las variables que añadiremos serán la siguiente:\n",
    "\n",
    "+ <font color=#5F66A1>__pop_total__</font>: Número de habitantes por municipio &nbsp;&nbsp;&nbsp;&nbsp;<font color=#c874b9>{num}</font>\n",
    "+ Distribución de edades por municipio \n",
    "    + <font color=#5F66A1>__pop_0-19__</font>: Tasa de jovenes menores de 20 años &nbsp;&nbsp;&nbsp;&nbsp;<font color=#c874b9>{num}</font>\n",
    "    + <font color=#5F66A1>__pop_20-64__</font>: Tasa de adultos entre 20 y  64 años &nbsp;&nbsp;&nbsp;&nbsp;<font color=#c874b9>{num}</font>\n",
    "    + <font color=#5F66A1>__pop_>=64__</font>: Tasa de adultos mayores de 64 años &nbsp;&nbsp;&nbsp;&nbsp;<font color=#c874b9>{num}</font>\n",
    "+ <font color=#5F66A1>__pop_foreign__</font>: Tasa de extranjeros por municipio &nbsp;&nbsp;&nbsp;&nbsp;<font color=#c874b9>{num float}</font>\n",
    "+ <font color=#5F66A1>__rent__</font>: Renta media personal por municipio &nbsp;&nbsp;&nbsp;&nbsp;<font color=#c874b9>{num}</font>"
   ]
  },
  {
   "cell_type": "markdown",
   "metadata": {},
   "source": [
    "## Integración de información demográfica"
   ]
  },
  {
   "cell_type": "markdown",
   "metadata": {},
   "source": [
    "Empezaremos añadir el número de habitantes que viven en cada municipio. Para ello, empezamos cargando y explorando los datos demográficos:"
   ]
  },
  {
   "cell_type": "code",
   "execution_count": 3,
   "metadata": {
    "ExecuteTime": {
     "end_time": "2019-05-20T12:50:25.131740Z",
     "start_time": "2019-05-20T12:50:25.105741Z"
    }
   },
   "outputs": [
    {
     "data": {
      "text/html": [
       "<div>\n",
       "<style scoped>\n",
       "    .dataframe tbody tr th:only-of-type {\n",
       "        vertical-align: middle;\n",
       "    }\n",
       "\n",
       "    .dataframe tbody tr th {\n",
       "        vertical-align: top;\n",
       "    }\n",
       "\n",
       "    .dataframe thead th {\n",
       "        text-align: right;\n",
       "    }\n",
       "</style>\n",
       "<table border=\"1\" class=\"dataframe\">\n",
       "  <thead>\n",
       "    <tr style=\"text-align: right;\">\n",
       "      <th></th>\n",
       "      <th>city</th>\n",
       "      <th>pop_total</th>\n",
       "    </tr>\n",
       "  </thead>\n",
       "  <tbody>\n",
       "    <tr>\n",
       "      <th>0</th>\n",
       "      <td>20001 Abaltzisketa</td>\n",
       "      <td>320</td>\n",
       "    </tr>\n",
       "    <tr>\n",
       "      <th>1</th>\n",
       "      <td>20002 Aduna</td>\n",
       "      <td>469</td>\n",
       "    </tr>\n",
       "    <tr>\n",
       "      <th>2</th>\n",
       "      <td>20016 Aia</td>\n",
       "      <td>2081</td>\n",
       "    </tr>\n",
       "  </tbody>\n",
       "</table>\n",
       "</div>"
      ],
      "text/plain": [
       "                 city  pop_total\n",
       "0  20001 Abaltzisketa        320\n",
       "1         20002 Aduna        469\n",
       "2           20016 Aia       2081"
      ]
     },
     "execution_count": 3,
     "metadata": {},
     "output_type": "execute_result"
    }
   ],
   "source": [
    "population = pd.read_csv('./raw_data/pop2018.csv', sep=';')\n",
    "population.head(3)"
   ]
  },
  {
   "cell_type": "markdown",
   "metadata": {},
   "source": [
    "Vemos que el nombre de cada municipio, esta precedido por el código postal. Lo eliminamos:"
   ]
  },
  {
   "cell_type": "code",
   "execution_count": 4,
   "metadata": {
    "ExecuteTime": {
     "end_time": "2019-05-20T12:50:25.144742Z",
     "start_time": "2019-05-20T12:50:25.133741Z"
    }
   },
   "outputs": [
    {
     "data": {
      "text/html": [
       "<div>\n",
       "<style scoped>\n",
       "    .dataframe tbody tr th:only-of-type {\n",
       "        vertical-align: middle;\n",
       "    }\n",
       "\n",
       "    .dataframe tbody tr th {\n",
       "        vertical-align: top;\n",
       "    }\n",
       "\n",
       "    .dataframe thead th {\n",
       "        text-align: right;\n",
       "    }\n",
       "</style>\n",
       "<table border=\"1\" class=\"dataframe\">\n",
       "  <thead>\n",
       "    <tr style=\"text-align: right;\">\n",
       "      <th></th>\n",
       "      <th>city</th>\n",
       "      <th>pop_total</th>\n",
       "    </tr>\n",
       "  </thead>\n",
       "  <tbody>\n",
       "    <tr>\n",
       "      <th>0</th>\n",
       "      <td>Abaltzisketa</td>\n",
       "      <td>320</td>\n",
       "    </tr>\n",
       "    <tr>\n",
       "      <th>1</th>\n",
       "      <td>Aduna</td>\n",
       "      <td>469</td>\n",
       "    </tr>\n",
       "    <tr>\n",
       "      <th>2</th>\n",
       "      <td>Aia</td>\n",
       "      <td>2081</td>\n",
       "    </tr>\n",
       "  </tbody>\n",
       "</table>\n",
       "</div>"
      ],
      "text/plain": [
       "           city  pop_total\n",
       "0  Abaltzisketa        320\n",
       "1         Aduna        469\n",
       "2           Aia       2081"
      ]
     },
     "execution_count": 4,
     "metadata": {},
     "output_type": "execute_result"
    }
   ],
   "source": [
    "population['city'] = population['city'].apply(lambda s: ' '.join(s.split(' ')[1:]))\n",
    "population.head(3)"
   ]
  },
  {
   "cell_type": "markdown",
   "metadata": {},
   "source": [
    "Añadimos los datos demográficos de cada municipio a nuestro conjunto de datos, utilizando para ello los nombres de los municipios:"
   ]
  },
  {
   "cell_type": "code",
   "execution_count": 5,
   "metadata": {
    "ExecuteTime": {
     "end_time": "2019-05-20T12:50:25.182751Z",
     "start_time": "2019-05-20T12:50:25.146743Z"
    }
   },
   "outputs": [],
   "source": [
    "houses_pop = pd.merge(left=houses, right=population, how='left', left_on='loc_city', right_on='city')"
   ]
  },
  {
   "cell_type": "markdown",
   "metadata": {},
   "source": [
    "Comprobamos que no haya ningún municipio al que no se le haya asignado el número de habitantes:"
   ]
  },
  {
   "cell_type": "code",
   "execution_count": 6,
   "metadata": {
    "ExecuteTime": {
     "end_time": "2019-05-20T12:50:25.233254Z",
     "start_time": "2019-05-20T12:50:25.186743Z"
    }
   },
   "outputs": [
    {
     "name": "stdout",
     "output_type": "stream",
     "text": [
      "['Carranza' 'Arcentales' 'Trucios' 'Guizaburuaga' 'Amorebieta-Echano'\n",
      " 'Izurza' 'Valle de Trapaga-Trapagaran' 'Astrabudua'\n",
      " 'Etxebarri, Anteiglesia de San esteban' 'Alonsotegui'\n",
      " 'Abanto y Ciérvana/Abanto Zierbena' 'Gallarta' 'Gauteguiz de Arteaga'\n",
      " 'Ibarranguelua' 'Orduña' 'Ubidea' 'Aracaldo' 'Maruri' 'Sopelana'\n",
      " 'Bidegoyan' 'Leaburu-Gaztelu' 'Donostia-San Sebastián' 'Gatica'\n",
      " 'Arrasate o Mondragon' 'Renteria / Errenteria' 'Legazpia' 'Gainza'\n",
      " 'Altzola' 'Soraluze/Placencia de las Armas']\n"
     ]
    }
   ],
   "source": [
    "print(houses_pop\n",
    "        .loc[houses_pop['city'].isna()]['loc_city']\n",
    "        .unique())"
   ]
  },
  {
   "cell_type": "markdown",
   "metadata": {},
   "source": [
    "Vemos que hay unos cuantos municipios que no han sido conciliados. Los corregimos de forma manual, combinamos, y volvemos a comprobar:"
   ]
  },
  {
   "cell_type": "code",
   "execution_count": 7,
   "metadata": {
    "ExecuteTime": {
     "end_time": "2019-05-20T12:50:25.466262Z",
     "start_time": "2019-05-20T12:50:25.235256Z"
    }
   },
   "outputs": [
    {
     "name": "stdout",
     "output_type": "stream",
     "text": [
      "[]\n"
     ]
    }
   ],
   "source": [
    "houses = houses.replace({'loc_city':\n",
    "              {\n",
    "                  'Carranza':'Karrantza Harana/Valle de Carranza',\n",
    "                  'Arcentales':'Artzentales',\n",
    "                  'Trucios':'Trucios-Turtzioz',\n",
    "                  'Guizaburuaga':'Gizaburuaga',\n",
    "                  'Amorebieta-Echano':'Amorebieta-Etxano',\n",
    "                  'Izurza':'Izurtza',\n",
    "                  'Valle de Trapaga-Trapagaran':'Valle de Trápaga-Trapagaran',\n",
    "                  'Astrabudua':'Erandio',\n",
    "                  'Etxebarri, Anteiglesia de San esteban':'Etxebarri',\n",
    "                  'Alonsotegui':'Alonsotegi',       \n",
    "                  'Abanto y Ciérvana/Abanto Zierbena':'Abanto y Ciérvana-Abanto Zierbena',\n",
    "                  'Gallarta':'Abanto y Ciérvana-Abanto Zierbena',\n",
    "                  'Gauteguiz de Arteaga':'Gautegiz Arteaga',\n",
    "                  'Ibarranguelua':'Ibarrangelu',\n",
    "                  'Orduña':'Urduña/Orduña',\n",
    "                  'Ubidea':'Ubide',\n",
    "                  'Aracaldo':'Arakaldo',\n",
    "                  'Maruri':'Maruri-Jatabe',\n",
    "                  'Sopelana':'Sopela',                 \n",
    "                  'Bidegoyan':'Bidania-Goiatz',\n",
    "                  'Leaburu-Gaztelu':'Leaburu',\n",
    "                  'Donostia-San Sebastián':'Donostia/San Sebastián',\n",
    "                  'Gatica':'Gatika',\n",
    "                  'Arrasate o Mondragon':'Arrasate/Mondragón',\n",
    "                  'Renteria / Errenteria':'Errenteria',\n",
    "                  'Legazpia':'Legazpi',\n",
    "                  'Gainza':'Gaintza',\n",
    "                  'Altzola':'Elgoibar',\n",
    "                  'Soraluze/Placencia de las Armas':'Soraluze-Placencia de las Armas'\n",
    "              }});\n",
    "\n",
    "houses_pop = pd.merge(left=houses, right=population, how='left', left_on='loc_city', right_on='city')\n",
    "print(houses_pop\n",
    "        .loc[houses_pop['city'].isna()]['loc_city']\n",
    "        .unique())"
   ]
  },
  {
   "cell_type": "markdown",
   "metadata": {},
   "source": [
    "A continuacion, añadimos la información sobre la distribución de grupos de edades de cada población. Para ello, empezamos cargando y explorando los datos relacionados:"
   ]
  },
  {
   "cell_type": "code",
   "execution_count": 8,
   "metadata": {
    "ExecuteTime": {
     "end_time": "2019-05-20T12:50:25.483775Z",
     "start_time": "2019-05-20T12:50:25.469254Z"
    },
    "run_control": {
     "marked": false
    }
   },
   "outputs": [
    {
     "data": {
      "text/html": [
       "<div>\n",
       "<style scoped>\n",
       "    .dataframe tbody tr th:only-of-type {\n",
       "        vertical-align: middle;\n",
       "    }\n",
       "\n",
       "    .dataframe tbody tr th {\n",
       "        vertical-align: top;\n",
       "    }\n",
       "\n",
       "    .dataframe thead th {\n",
       "        text-align: right;\n",
       "    }\n",
       "</style>\n",
       "<table border=\"1\" class=\"dataframe\">\n",
       "  <thead>\n",
       "    <tr style=\"text-align: right;\">\n",
       "      <th></th>\n",
       "      <th>city</th>\n",
       "      <th>pop_age</th>\n",
       "      <th>percent</th>\n",
       "    </tr>\n",
       "  </thead>\n",
       "  <tbody>\n",
       "    <tr>\n",
       "      <th>0</th>\n",
       "      <td>Abadiño</td>\n",
       "      <td>0 - 19</td>\n",
       "      <td>20</td>\n",
       "    </tr>\n",
       "    <tr>\n",
       "      <th>1</th>\n",
       "      <td>Abadiño</td>\n",
       "      <td>20 - 64</td>\n",
       "      <td>60</td>\n",
       "    </tr>\n",
       "    <tr>\n",
       "      <th>2</th>\n",
       "      <td>Abadiño</td>\n",
       "      <td>&gt;= 65</td>\n",
       "      <td>19</td>\n",
       "    </tr>\n",
       "    <tr>\n",
       "      <th>3</th>\n",
       "      <td>Abaltzisketa</td>\n",
       "      <td>0 - 19</td>\n",
       "      <td>23</td>\n",
       "    </tr>\n",
       "    <tr>\n",
       "      <th>4</th>\n",
       "      <td>Abaltzisketa</td>\n",
       "      <td>20 - 64</td>\n",
       "      <td>60</td>\n",
       "    </tr>\n",
       "    <tr>\n",
       "      <th>5</th>\n",
       "      <td>Abaltzisketa</td>\n",
       "      <td>&gt;= 65</td>\n",
       "      <td>17</td>\n",
       "    </tr>\n",
       "  </tbody>\n",
       "</table>\n",
       "</div>"
      ],
      "text/plain": [
       "           city  pop_age  percent\n",
       "0       Abadiño   0 - 19       20\n",
       "1       Abadiño  20 - 64       60\n",
       "2       Abadiño    >= 65       19\n",
       "3  Abaltzisketa   0 - 19       23\n",
       "4  Abaltzisketa  20 - 64       60\n",
       "5  Abaltzisketa    >= 65       17"
      ]
     },
     "execution_count": 8,
     "metadata": {},
     "output_type": "execute_result"
    }
   ],
   "source": [
    "pop_age = pd.read_csv('./raw_data/pop2018_age.csv', sep=';')\n",
    "pop_age.head(6)"
   ]
  },
  {
   "cell_type": "markdown",
   "metadata": {},
   "source": [
    "Vemos que, por cada municipio, tenemos 3 grupos de edades diferenciados. No obstante, cada grupo debería de tener su columna, por lo que procedemos a reposicionar los datos de mejor forma:"
   ]
  },
  {
   "cell_type": "code",
   "execution_count": 9,
   "metadata": {
    "ExecuteTime": {
     "end_time": "2019-05-20T12:50:25.512775Z",
     "start_time": "2019-05-20T12:50:25.486773Z"
    }
   },
   "outputs": [
    {
     "data": {
      "text/html": [
       "<div>\n",
       "<style scoped>\n",
       "    .dataframe tbody tr th:only-of-type {\n",
       "        vertical-align: middle;\n",
       "    }\n",
       "\n",
       "    .dataframe tbody tr th {\n",
       "        vertical-align: top;\n",
       "    }\n",
       "\n",
       "    .dataframe thead th {\n",
       "        text-align: right;\n",
       "    }\n",
       "</style>\n",
       "<table border=\"1\" class=\"dataframe\">\n",
       "  <thead>\n",
       "    <tr style=\"text-align: right;\">\n",
       "      <th>pop_age</th>\n",
       "      <th>0 - 19</th>\n",
       "      <th>20 - 64</th>\n",
       "      <th>&gt;= 65</th>\n",
       "    </tr>\n",
       "    <tr>\n",
       "      <th>city</th>\n",
       "      <th></th>\n",
       "      <th></th>\n",
       "      <th></th>\n",
       "    </tr>\n",
       "  </thead>\n",
       "  <tbody>\n",
       "    <tr>\n",
       "      <th>Abadiño</th>\n",
       "      <td>20</td>\n",
       "      <td>60</td>\n",
       "      <td>19</td>\n",
       "    </tr>\n",
       "    <tr>\n",
       "      <th>Abaltzisketa</th>\n",
       "      <td>23</td>\n",
       "      <td>60</td>\n",
       "      <td>17</td>\n",
       "    </tr>\n",
       "    <tr>\n",
       "      <th>Abanto y Ciérvana-Abanto Zierbena</th>\n",
       "      <td>18</td>\n",
       "      <td>64</td>\n",
       "      <td>18</td>\n",
       "    </tr>\n",
       "  </tbody>\n",
       "</table>\n",
       "</div>"
      ],
      "text/plain": [
       "pop_age                            0 - 19  20 - 64  >= 65\n",
       "city                                                     \n",
       "Abadiño                                20       60     19\n",
       "Abaltzisketa                           23       60     17\n",
       "Abanto y Ciérvana-Abanto Zierbena      18       64     18"
      ]
     },
     "execution_count": 9,
     "metadata": {},
     "output_type": "execute_result"
    }
   ],
   "source": [
    "pop_age = pd.pivot_table(pop_age,\n",
    "                         index='city',\n",
    "                         columns='pop_age',\n",
    "                         values='percent')\n",
    "\n",
    "pop_age.head(3)"
   ]
  },
  {
   "cell_type": "markdown",
   "metadata": {},
   "source": [
    "Cambiamos los nombres de las columnas para que sean más significativos, y añadimos la información de la edad al dataset principal, usando nuevamente el municipio, y comprobando que todos los nombres se hayan conciliado bien:"
   ]
  },
  {
   "cell_type": "code",
   "execution_count": 10,
   "metadata": {
    "ExecuteTime": {
     "end_time": "2019-05-20T12:50:25.693820Z",
     "start_time": "2019-05-20T12:50:25.514775Z"
    },
    "scrolled": true
   },
   "outputs": [
    {
     "name": "stdout",
     "output_type": "stream",
     "text": [
      "['Sopela' 'Donostia/San Sebastián' 'Soraluze-Placencia de las Armas']\n"
     ]
    }
   ],
   "source": [
    "pop_age.rename(columns={'0 - 19':'pop_0-19','20 - 64':'pop_20-64',\n",
    "                          '>= 65':'pop_>=65'}, inplace=True)\n",
    "\n",
    "houses_pop = pd.merge(left= houses_pop, right=pop_age,  how='left', on='city')\n",
    "print(houses_pop\n",
    "        .loc[houses_pop['pop_0-19'].isna()]['loc_city']\n",
    "        .unique())"
   ]
  },
  {
   "cell_type": "markdown",
   "metadata": {},
   "source": [
    "Vemos que, nuevamente, hay municipios que no se han conciliado de forma correcta. Los corregimos:"
   ]
  },
  {
   "cell_type": "code",
   "execution_count": 11,
   "metadata": {
    "ExecuteTime": {
     "end_time": "2019-05-20T12:50:25.866409Z",
     "start_time": "2019-05-20T12:50:25.695822Z"
    }
   },
   "outputs": [
    {
     "name": "stdout",
     "output_type": "stream",
     "text": [
      "[]\n"
     ]
    }
   ],
   "source": [
    "pop_age = pop_age.rename(index=\n",
    "              {\n",
    "                  'Sopelana':'Sopela',\n",
    "                  'Donostia / San Sebastián':'Donostia/San Sebastián',\n",
    "                  'Soraluze/Placencia de las Armas':'Soraluze-Placencia de las Armas'\n",
    "              });\n",
    "\n",
    "houses_pop = houses_pop.drop(columns=['pop_0-19', 'pop_20-64', 'pop_>=65'])           \n",
    "houses_pop = pd.merge(left=houses_pop, right=pop_age, how='left', on='city')\n",
    "\n",
    "print(houses_pop\n",
    "        .loc[houses_pop['pop_0-19'].isna()]['loc_city']\n",
    "        .unique())"
   ]
  },
  {
   "cell_type": "markdown",
   "metadata": {},
   "source": [
    "Tras incluir la información sobre edades, procedemos ahora a añadir la tasa de extranjeros por cada población. Para ello, nuevamente, empezamos cargando y explorando el archivo correspondiente:"
   ]
  },
  {
   "cell_type": "code",
   "execution_count": 12,
   "metadata": {
    "ExecuteTime": {
     "end_time": "2019-05-20T12:50:25.881410Z",
     "start_time": "2019-05-20T12:50:25.868408Z"
    }
   },
   "outputs": [
    {
     "data": {
      "text/html": [
       "<div>\n",
       "<style scoped>\n",
       "    .dataframe tbody tr th:only-of-type {\n",
       "        vertical-align: middle;\n",
       "    }\n",
       "\n",
       "    .dataframe tbody tr th {\n",
       "        vertical-align: top;\n",
       "    }\n",
       "\n",
       "    .dataframe thead th {\n",
       "        text-align: right;\n",
       "    }\n",
       "</style>\n",
       "<table border=\"1\" class=\"dataframe\">\n",
       "  <thead>\n",
       "    <tr style=\"text-align: right;\">\n",
       "      <th></th>\n",
       "      <th>city</th>\n",
       "      <th>pop_foreign</th>\n",
       "    </tr>\n",
       "  </thead>\n",
       "  <tbody>\n",
       "    <tr>\n",
       "      <th>0</th>\n",
       "      <td>Abadiño</td>\n",
       "      <td>6.0</td>\n",
       "    </tr>\n",
       "    <tr>\n",
       "      <th>1</th>\n",
       "      <td>Abaltzisketa</td>\n",
       "      <td>3.2</td>\n",
       "    </tr>\n",
       "    <tr>\n",
       "      <th>2</th>\n",
       "      <td>Abanto y Ciérvana-Abanto Zierbena</td>\n",
       "      <td>3.4</td>\n",
       "    </tr>\n",
       "  </tbody>\n",
       "</table>\n",
       "</div>"
      ],
      "text/plain": [
       "                                city  pop_foreign\n",
       "0                            Abadiño          6.0\n",
       "1                       Abaltzisketa          3.2\n",
       "2  Abanto y Ciérvana-Abanto Zierbena          3.4"
      ]
     },
     "execution_count": 12,
     "metadata": {},
     "output_type": "execute_result"
    }
   ],
   "source": [
    "pop_for = pd.read_csv('./raw_data/pop2018_foreign.csv', sep=';')\n",
    "pop_for.head(3)"
   ]
  },
  {
   "cell_type": "markdown",
   "metadata": {},
   "source": [
    "Observamos que disponemos ya del porcentaje de extranjeros por municipio. Al no requerir ningún tratamiento, añadimos directamente la información al conjunto de datos principal:"
   ]
  },
  {
   "cell_type": "code",
   "execution_count": 13,
   "metadata": {
    "ExecuteTime": {
     "end_time": "2019-05-20T12:50:26.046507Z",
     "start_time": "2019-05-20T12:50:25.883408Z"
    }
   },
   "outputs": [
    {
     "name": "stdout",
     "output_type": "stream",
     "text": [
      "['Sopela' 'Donostia/San Sebastián' 'Soraluze-Placencia de las Armas']\n"
     ]
    }
   ],
   "source": [
    "houses_pop = pd.merge(left=houses_pop, right=pop_for, how='left', on='city')\n",
    "print(houses_pop\n",
    "        .loc[houses_pop['pop_foreign'].isna()]['loc_city']\n",
    "        .unique())"
   ]
  },
  {
   "cell_type": "markdown",
   "metadata": {},
   "source": [
    "Otra vez, corregimos la conciliación manualmente:"
   ]
  },
  {
   "cell_type": "code",
   "execution_count": 14,
   "metadata": {
    "ExecuteTime": {
     "end_time": "2019-05-20T12:50:26.201681Z",
     "start_time": "2019-05-20T12:50:26.048514Z"
    }
   },
   "outputs": [
    {
     "name": "stdout",
     "output_type": "stream",
     "text": [
      "[]\n"
     ]
    }
   ],
   "source": [
    "pop_for = pop_for.replace({'city':\n",
    "              {\n",
    "                  'Sopelana':'Sopela',\n",
    "                  'Donostia / San Sebastián':'Donostia/San Sebastián',\n",
    "                  'Soraluze/Placencia de las Armas':'Soraluze-Placencia de las Armas'\n",
    "              }});\n",
    "\n",
    "houses_pop = houses_pop.drop(columns=['pop_foreign'])           \n",
    "houses_pop = pd.merge(left=houses_pop, right=pop_for, how='left', on='city')\n",
    "print(houses_pop\n",
    "        .loc[houses_pop['pop_foreign'].isna()]['loc_city']\n",
    "        .unique())"
   ]
  },
  {
   "cell_type": "markdown",
   "metadata": {},
   "source": [
    "##  Integración de información socio-económica"
   ]
  },
  {
   "cell_type": "markdown",
   "metadata": {},
   "source": [
    "Una vez hemos añadido los datos demográficos, haremos lo propio con la renta personal media. Empezaremos por cargar y explorar el archivo de datos de las rentas:"
   ]
  },
  {
   "cell_type": "code",
   "execution_count": 15,
   "metadata": {
    "ExecuteTime": {
     "end_time": "2019-05-20T12:50:26.219216Z",
     "start_time": "2019-05-20T12:50:26.203682Z"
    }
   },
   "outputs": [
    {
     "data": {
      "text/html": [
       "<div>\n",
       "<style scoped>\n",
       "    .dataframe tbody tr th:only-of-type {\n",
       "        vertical-align: middle;\n",
       "    }\n",
       "\n",
       "    .dataframe tbody tr th {\n",
       "        vertical-align: top;\n",
       "    }\n",
       "\n",
       "    .dataframe thead th {\n",
       "        text-align: right;\n",
       "    }\n",
       "</style>\n",
       "<table border=\"1\" class=\"dataframe\">\n",
       "  <thead>\n",
       "    <tr style=\"text-align: right;\">\n",
       "      <th></th>\n",
       "      <th>city</th>\n",
       "      <th>rent_type</th>\n",
       "      <th>rent</th>\n",
       "    </tr>\n",
       "  </thead>\n",
       "  <tbody>\n",
       "    <tr>\n",
       "      <th>0</th>\n",
       "      <td>Abadiño</td>\n",
       "      <td>Renta total</td>\n",
       "      <td>20907</td>\n",
       "    </tr>\n",
       "    <tr>\n",
       "      <th>1</th>\n",
       "      <td>Abadiño</td>\n",
       "      <td>Renta del trabajo</td>\n",
       "      <td>13824</td>\n",
       "    </tr>\n",
       "    <tr>\n",
       "      <th>2</th>\n",
       "      <td>Abadiño</td>\n",
       "      <td>Renta capital mobiliario</td>\n",
       "      <td>967</td>\n",
       "    </tr>\n",
       "    <tr>\n",
       "      <th>3</th>\n",
       "      <td>Abadiño</td>\n",
       "      <td>Renta capital inmobiliario</td>\n",
       "      <td>262</td>\n",
       "    </tr>\n",
       "    <tr>\n",
       "      <th>4</th>\n",
       "      <td>Abadiño</td>\n",
       "      <td>Renta de actividades</td>\n",
       "      <td>695</td>\n",
       "    </tr>\n",
       "    <tr>\n",
       "      <th>5</th>\n",
       "      <td>Abadiño</td>\n",
       "      <td>Transferencias</td>\n",
       "      <td>5158</td>\n",
       "    </tr>\n",
       "    <tr>\n",
       "      <th>6</th>\n",
       "      <td>Abadiño</td>\n",
       "      <td>Renta disponible</td>\n",
       "      <td>17620</td>\n",
       "    </tr>\n",
       "    <tr>\n",
       "      <th>7</th>\n",
       "      <td>Abaltzisketa</td>\n",
       "      <td>Renta total</td>\n",
       "      <td>20659</td>\n",
       "    </tr>\n",
       "    <tr>\n",
       "      <th>8</th>\n",
       "      <td>Abaltzisketa</td>\n",
       "      <td>Renta del trabajo</td>\n",
       "      <td>12495</td>\n",
       "    </tr>\n",
       "    <tr>\n",
       "      <th>9</th>\n",
       "      <td>Abaltzisketa</td>\n",
       "      <td>Renta capital mobiliario</td>\n",
       "      <td>833</td>\n",
       "    </tr>\n",
       "  </tbody>\n",
       "</table>\n",
       "</div>"
      ],
      "text/plain": [
       "           city                   rent_type   rent\n",
       "0       Abadiño                 Renta total  20907\n",
       "1       Abadiño           Renta del trabajo  13824\n",
       "2       Abadiño    Renta capital mobiliario    967\n",
       "3       Abadiño  Renta capital inmobiliario    262\n",
       "4       Abadiño        Renta de actividades    695\n",
       "5       Abadiño              Transferencias   5158\n",
       "6       Abadiño            Renta disponible  17620\n",
       "7  Abaltzisketa                 Renta total  20659\n",
       "8  Abaltzisketa           Renta del trabajo  12495\n",
       "9  Abaltzisketa    Renta capital mobiliario    833"
      ]
     },
     "execution_count": 15,
     "metadata": {},
     "output_type": "execute_result"
    }
   ],
   "source": [
    "rent = pd.read_csv('./raw_data/rent2016.csv', sep=';')\n",
    "rent.head(10)"
   ]
  },
  {
   "cell_type": "markdown",
   "metadata": {},
   "source": [
    "Vemos que por cada municipio tenemos varios tipos de renta. Seleccionamos la renta total y descartamos el resto: "
   ]
  },
  {
   "cell_type": "code",
   "execution_count": 16,
   "metadata": {
    "ExecuteTime": {
     "end_time": "2019-05-20T12:50:26.232904Z",
     "start_time": "2019-05-20T12:50:26.221216Z"
    }
   },
   "outputs": [
    {
     "data": {
      "text/html": [
       "<div>\n",
       "<style scoped>\n",
       "    .dataframe tbody tr th:only-of-type {\n",
       "        vertical-align: middle;\n",
       "    }\n",
       "\n",
       "    .dataframe tbody tr th {\n",
       "        vertical-align: top;\n",
       "    }\n",
       "\n",
       "    .dataframe thead th {\n",
       "        text-align: right;\n",
       "    }\n",
       "</style>\n",
       "<table border=\"1\" class=\"dataframe\">\n",
       "  <thead>\n",
       "    <tr style=\"text-align: right;\">\n",
       "      <th></th>\n",
       "      <th>city</th>\n",
       "      <th>rent</th>\n",
       "    </tr>\n",
       "  </thead>\n",
       "  <tbody>\n",
       "    <tr>\n",
       "      <th>0</th>\n",
       "      <td>Abadiño</td>\n",
       "      <td>20907</td>\n",
       "    </tr>\n",
       "    <tr>\n",
       "      <th>7</th>\n",
       "      <td>Abaltzisketa</td>\n",
       "      <td>20659</td>\n",
       "    </tr>\n",
       "    <tr>\n",
       "      <th>14</th>\n",
       "      <td>Abanto y Ciérvana-Abanto Zierbena</td>\n",
       "      <td>17514</td>\n",
       "    </tr>\n",
       "  </tbody>\n",
       "</table>\n",
       "</div>"
      ],
      "text/plain": [
       "                                 city   rent\n",
       "0                             Abadiño  20907\n",
       "7                        Abaltzisketa  20659\n",
       "14  Abanto y Ciérvana-Abanto Zierbena  17514"
      ]
     },
     "execution_count": 16,
     "metadata": {},
     "output_type": "execute_result"
    }
   ],
   "source": [
    "rent = (rent.loc[rent.rent_type=='Renta total']\n",
    "                .drop(columns='rent_type'))\n",
    "rent.head(3)"
   ]
  },
  {
   "cell_type": "markdown",
   "metadata": {},
   "source": [
    "Finalmente, añadimos la información de renta personal por municipio al conjunto de datos principal y comprobamos si se han conciliado bien los nombres:"
   ]
  },
  {
   "cell_type": "code",
   "execution_count": 17,
   "metadata": {
    "ExecuteTime": {
     "end_time": "2019-05-20T12:50:26.384587Z",
     "start_time": "2019-05-20T12:50:26.234900Z"
    },
    "scrolled": true
   },
   "outputs": [
    {
     "name": "stdout",
     "output_type": "stream",
     "text": [
      "['Berriz' 'Urduliz' 'Donostia/San Sebastián'\n",
      " 'Soraluze-Placencia de las Armas']\n"
     ]
    }
   ],
   "source": [
    "houses_pop_rent = pd.merge(left=houses_pop, right=rent, how='left', on='city')\n",
    "\n",
    "print(houses_pop_rent\n",
    "        .loc[houses_pop_rent['rent'].isna()]['loc_city']\n",
    "        .unique()\n",
    ")"
   ]
  },
  {
   "cell_type": "markdown",
   "metadata": {},
   "source": [
    "Vemos que hay municipios que no se han conciliado, por lo que los corregimos de forma manual:"
   ]
  },
  {
   "cell_type": "code",
   "execution_count": 18,
   "metadata": {
    "ExecuteTime": {
     "end_time": "2019-05-20T12:50:26.531594Z",
     "start_time": "2019-05-20T12:50:26.386583Z"
    }
   },
   "outputs": [
    {
     "name": "stdout",
     "output_type": "stream",
     "text": [
      "[]\n"
     ]
    }
   ],
   "source": [
    "rent = rent.replace({'city':\n",
    "              {\n",
    "                  'Urdúliz':'Urduliz',\n",
    "                  'Bérriz':'Berriz',\n",
    "                  'Donostia / San Sebastián':'Donostia/San Sebastián',\n",
    "                  'Soraluze/Placencia de las Armas':'Soraluze-Placencia de las Armas'\n",
    "              }});\n",
    "\n",
    "houses_pop_rent = pd.merge(left=houses_pop, right=rent, how='left', on='city')\n",
    "\n",
    "print(houses_pop_rent\n",
    "        .loc[houses_pop_rent['rent'].isna()]['loc_city']\n",
    "        .unique()\n",
    ")"
   ]
  },
  {
   "cell_type": "markdown",
   "metadata": {},
   "source": [
    "# Preselección de variables"
   ]
  },
  {
   "cell_type": "markdown",
   "metadata": {},
   "source": [
    "En este apartado realizaremos una preselección de las variables que emplearemos a lo largo del estudio, descartando aquellas que sabemos de antemano que no nos serán de utilidad.\n",
    "\n",
    "Las variables que se descartarán son las siguientes:\n",
    "\n",
    "+ <font color=#5F66A1>__ad_last_update__</font>\n",
    "+ <font color=#5F66A1>__ad_description__</font>\n",
    "+ <font color=#5F66A1>__loc_full__</font>\n",
    "+ <font color=#5F66A1>__loc_street__</font>\n",
    "+ <font color=#5F66A1>__obtention_date__</font>"
   ]
  },
  {
   "cell_type": "code",
   "execution_count": 19,
   "metadata": {
    "ExecuteTime": {
     "end_time": "2019-05-20T12:50:26.548620Z",
     "start_time": "2019-05-20T12:50:26.533583Z"
    }
   },
   "outputs": [],
   "source": [
    "houses = houses_pop_rent.reindex(columns=['house_id', 'ad_description', 'price', 'bath_num'\n",
    "                                , 'condition', 'construct_date', 'energetic_certif', 'floor', 'ground_size'\n",
    "                                , 'heating', 'house_type', 'm2_real', 'm2_useful', 'orientation', 'room_num'\n",
    "                                , 'air_conditioner', 'balcony', 'built_in_wardrobe', 'chimney', 'garage'\n",
    "                                , 'garden', 'kitchen', 'lift', 'reduced_mobility', 'storage_room'\n",
    "                                , 'swimming_pool', 'terrace', 'unfurnished', 'loc_zone', 'loc_district', 'loc_city'\n",
    "                                , 'loc_neigh', 'pop_total', 'pop_0-19', 'pop_20-64', 'pop_>=65', 'pop_foreign', 'rent'      \n",
    "                                ])"
   ]
  },
  {
   "cell_type": "markdown",
   "metadata": {},
   "source": [
    "Por lo tanto, nuestro dataset queda caracterizado de la siguiente manera:\n",
    "\n",
    "+ <font color=#599d70>__Número de casas__</font>: {{houses.shape[0]}}\n",
    "+ <font color=#599d70>__Número de variables por casa__</font>: {{houses.shape[1]}}\n",
    "\n",
    "<br />\n",
    "\n",
    "Y para concluir con la fase de integración, almacenamos nuestro conjunto de datos procesado:"
   ]
  },
  {
   "cell_type": "code",
   "execution_count": 20,
   "metadata": {
    "ExecuteTime": {
     "end_time": "2019-05-20T12:50:27.803622Z",
     "start_time": "2019-05-20T12:50:26.551581Z"
    }
   },
   "outputs": [],
   "source": [
    "houses.to_csv('./processed_data/houses_integrated.csv', index=False)"
   ]
  }
 ],
 "metadata": {
  "hide_input": false,
  "kernelspec": {
   "display_name": "Python 3",
   "language": "python",
   "name": "python3"
  },
  "language_info": {
   "codemirror_mode": {
    "name": "ipython",
    "version": 3
   },
   "file_extension": ".py",
   "mimetype": "text/x-python",
   "name": "python",
   "nbconvert_exporter": "python",
   "pygments_lexer": "ipython3",
   "version": "3.7.3"
  },
  "latex_envs": {
   "LaTeX_envs_menu_present": true,
   "autoclose": false,
   "autocomplete": true,
   "bibliofile": "biblio.bib",
   "cite_by": "apalike",
   "current_citInitial": 1,
   "eqLabelWithNumbers": true,
   "eqNumInitial": 1,
   "hotkeys": {
    "equation": "Ctrl-E",
    "itemize": "Ctrl-I"
   },
   "labels_anchors": false,
   "latex_user_defs": false,
   "report_style_numbering": false,
   "user_envs_cfg": false
  },
  "nbTranslate": {
   "displayLangs": [
    "*"
   ],
   "hotkey": "alt-t",
   "langInMainMenu": true,
   "sourceLang": "en",
   "targetLang": "fr",
   "useGoogleTranslate": true
  },
  "pycharm": {
   "stem_cell": {
    "cell_type": "raw",
    "metadata": {
     "collapsed": false
    },
    "source": []
   }
  },
  "toc": {
   "base_numbering": 1,
   "nav_menu": {},
   "number_sections": true,
   "sideBar": true,
   "skip_h1_title": false,
   "title_cell": "Table of Contents",
   "title_sidebar": "Contents",
   "toc_cell": false,
   "toc_position": {},
   "toc_section_display": true,
   "toc_window_display": true
  }
 },
 "nbformat": 4,
 "nbformat_minor": 1
}
